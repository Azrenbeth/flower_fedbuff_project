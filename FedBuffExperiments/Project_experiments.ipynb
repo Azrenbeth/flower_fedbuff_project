{
 "cells": [
  {
   "attachments": {},
   "cell_type": "markdown",
   "metadata": {},
   "source": [
    "# Library Imports and setup"
   ]
  },
  {
   "cell_type": "code",
   "execution_count": 1,
   "metadata": {},
   "outputs": [],
   "source": [
    "## Imports\n",
    "import csv\n",
    "import numbers\n",
    "import os\n",
    "import random\n",
    "import pickle\n",
    "from collections import OrderedDict, defaultdict\n",
    "from copy import deepcopy\n",
    "from pathlib import Path\n",
    "from typing import *\n",
    "\n",
    "import flwr as fl\n",
    "import ray\n",
    "import gdown\n",
    "import matplotlib.pyplot as plt\n",
    "import numpy as np\n",
    "\n",
    "import seaborn as sns\n",
    "import pandas as pd\n",
    "import torch\n",
    "import torch.nn as nn\n",
    "import torch.nn.functional as F\n",
    "from flwr.common import Metrics, Config, GetPropertiesIns, GetPropertiesRes, MetricsAggregationFn\n",
    "from flwr.common.parameter import ndarrays_to_parameters\n",
    "from flwr.common.typing import NDArrays, Parameters, Scalar\n",
    "from flwr.server import ServerConfig, Server\n",
    "from flwr.server.client_manager import SimpleClientManager\n",
    "from flwr.server.client_proxy import ClientProxy\n",
    "from flwr.server.criterion import Criterion\n",
    "from flwr.server.strategy import FedAvgM as FedAvg\n",
    "from PIL import Image\n",
    "from PIL.Image import Image as ImageType\n",
    "from torch.nn import Module\n",
    "from torch.utils.data import DataLoader, Dataset, Subset\n",
    "from torchvision import transforms\n",
    "from tqdm import tqdm\n",
    "from enum import IntEnum\n",
    "\n",
    "\n",
    "# Add new seeds here for easy autocomplete\n",
    "class Seeds(IntEnum):\n",
    "    DEFAULT = 1337\n",
    "\n",
    "np.random.seed(Seeds.DEFAULT)\n",
    "random.seed(Seeds.DEFAULT)\n",
    "torch.manual_seed(Seeds.DEFAULT)\n",
    "torch.backends.cudnn.benchmark = False # type: ignore\n",
    "torch.backends.cudnn.deterministic = True # type: ignore\n",
    "\n",
    "def start_seeded_simulation(\n",
    "    client_fn,\n",
    "    num_clients,\n",
    "    client_resources,\n",
    "    server,\n",
    "    config,\n",
    "    strategy,\n",
    "    seed: int = Seeds.DEFAULT,\n",
    "):\n",
    "    \"\"\"Wrapper to always seed client selection.\"\"\"\n",
    "    np.random.seed(seed)\n",
    "    torch.manual_seed(seed)\n",
    "    random.seed(seed)\n",
    "    return fl.simulation.start_simulation(\n",
    "        client_fn=client_fn,\n",
    "        num_clients=num_clients,\n",
    "        client_resources=client_resources,\n",
    "        server=server,\n",
    "        config=config,\n",
    "        strategy=strategy,\n",
    "    )\n",
    "\n",
    "def fit_client_seeded(client, params, conf, seed=Seeds.DEFAULT, **kwargs):\n",
    "    \"\"\"Wrapper to always seed client training.\"\"\"\n",
    "    np.random.seed(seed)\n",
    "    torch.manual_seed(seed)\n",
    "    random.seed(seed)\n",
    "    return client.fit(params, conf, **kwargs)\n",
    "\n",
    "PathType = Optional[Union[Path, str]]\n",
    "\n",
    "def get_device() -> str:\n",
    "    device = \"cpu\"\n",
    "    if torch.cuda.is_available():\n",
    "        device = \"cuda\"\n",
    "    elif torch.backends.mps.is_available() and torch.backends.mps.is_built():\n",
    "        device = \"mps\"\n",
    "    return device"
   ]
  },
  {
   "attachments": {},
   "cell_type": "markdown",
   "metadata": {},
   "source": [
    "# File path setup"
   ]
  },
  {
   "cell_type": "code",
   "execution_count": 2,
   "metadata": {},
   "outputs": [],
   "source": [
    "# home_dir = Path(\"/content\")\n",
    "home_dir = Path(\"/home/wash/LARGE/Work/L361_project/flower_fedbuff_project/FedBuffExperiments\")\n",
    "devices_info_dir: Path = home_dir / \"device_info\"\n",
    "statistical_utility: Path = home_dir / \"statistical_utility.csv\"\n",
    "dataset_dir: Path = home_dir / \"femnist\"\n",
    "data_dir: Path = dataset_dir / \"data\"\n",
    "centralized_partition: Path = dataset_dir / 'client_data_mappings' / 'centralized'\n",
    "centralized_mapping: Path = dataset_dir / 'client_data_mappings' / 'centralized' / '0'\n",
    "federated_partition: Path = dataset_dir / 'client_data_mappings' / 'fed_natural'"
   ]
  },
  {
   "attachments": {},
   "cell_type": "markdown",
   "metadata": {},
   "source": [
    "# Local imports"
   ]
  },
  {
   "cell_type": "code",
   "execution_count": 3,
   "metadata": {},
   "outputs": [],
   "source": [
    "from client import FlowerRayClient, get_flower_client_generator\n",
    "from client_manager import CustomClientManager\n",
    "from strategy import FedAvgTraces\n",
    "from client_utils import get_network_generator_cnn, get_model_parameters, aggregate_weighted_average, get_federated_evaluation_function,get_default_test_config, get_default_train_config"
   ]
  },
  {
   "attachments": {},
   "cell_type": "markdown",
   "metadata": {},
   "source": [
    "# System trace loading"
   ]
  },
  {
   "cell_type": "code",
   "execution_count": 4,
   "metadata": {},
   "outputs": [],
   "source": [
    "def get_devices_info(\n",
    "    root_dir: Path,\n",
    ") -> Tuple[pd.DataFrame, pd.DataFrame]:\n",
    "    \"\"\"The function retrieves two pandas data frames containing\n",
    "    traces and capabilities of clients' devices.\n",
    "\n",
    "    Args:\n",
    "        root_dir (Path): path to the folder containing such traces.\n",
    "\n",
    "    Returns:\n",
    "        Tuple[pd.DataFrame, pd.DataFrame]: couple of dataframes containg the requeste info\n",
    "    \"\"\"    \n",
    "    cbt_path = root_dir/'client_behave_trace'\n",
    "    cdc_path = root_dir/'client_device_capacity'\n",
    "    with open(cbt_path, 'rb') as f:\n",
    "        client_behave_trace = pd.DataFrame(pickle.load(f)).transpose()\n",
    "    with open(cdc_path, 'rb') as f:\n",
    "        client_device_capacity = pd.DataFrame(pickle.load(f)).transpose()\n",
    "    return client_behave_trace, client_device_capacity\n",
    "\n",
    "def isActive(\n",
    "    single_client_traces: Dict[str, Any],\n",
    "    current_clock_time: int,\n",
    "    ) -> bool:\n",
    "    \"\"\"The function returns a boolean describing whether the client is active or not.\n",
    "    It returns True when `single_client_traces` are not given.\n",
    "    The current (virtual) clock time must pass as a parameter.\n",
    "\n",
    "    Args:\n",
    "        single_client_traces (Dict[str, Any]): dictionary describing client device traces.\n",
    "        current_clock_time (int): parameter that describes current (virtual) clock time.\n",
    "\n",
    "    Returns:\n",
    "        bool: True is the client is active, False elsewhere.\n",
    "    \"\"\"    \n",
    "    # If no traces are given, return True\n",
    "    if single_client_traces is None:\n",
    "        return True\n",
    "    # Get the normalized time when the `current_clock_time` is\n",
    "    # greater than `single_client_traces['finish_time']`, nothing\n",
    "    # happens if `current_clock_time` < `single_client_traces['finish_time']`\n",
    "    normalized_time = current_clock_time % single_client_traces['finish_time']\n",
    "    # Get the highest single_client_traces['active'] occurrence\n",
    "    # that is lower than `normalized_time`\n",
    "    single_client_traces['active'].sort()\n",
    "    active_time = -1\n",
    "    for t in single_client_traces['active']:\n",
    "        active_time = t if t <= normalized_time else active_time\n",
    "    # print(f\"Highest active time: {active_time}\")\n",
    "    # Get the highest single_client_traces['inactive'] occurrence\n",
    "    # that is lower than `normalized_time`\n",
    "    single_client_traces['inactive'].sort()\n",
    "    inactive_time = -1\n",
    "    for t in single_client_traces['inactive']:\n",
    "        inactive_time = t if t <= normalized_time else inactive_time\n",
    "    # print(f\"Highest inactive time: {inactive_time}\")\n",
    "\n",
    "    return active_time > inactive_time\n",
    "\n",
    "def get_client_completion_time(\n",
    "    single_client_device_capacity: Dict[str, Any],\n",
    "    batch_size: int,\n",
    "    n_batches: int,\n",
    "    model_size: float,\n",
    "    augmentation_factor: float = 3.0,\n",
    "    model_size_scale_factor: float = 1.0\n",
    ") -> Dict[str, float]:\n",
    "    \"\"\"The function computes the computation and communication latency of the client.\n",
    "    These values are computed as follows:\n",
    "    \n",
    "    - Computation latency: `single_client_device_capacity['computation']` is the inference latency of models (ms/sample).\n",
    "                            We compute the computation latency as the inference latency times the number of samples processed.\n",
    "                            As reported in many papers, backwards-pass takes around 2x the latency, so we multiply it by 3x.\n",
    "    - Communication latency: `single_client_device_capacity['communication']` represents the bandwidth of the device (kB/s).\n",
    "                            We then compute the communication latency as the ratio between twice the size of the model and\n",
    "                            the bandwidth of the device.\n",
    "            \n",
    "    Args:\n",
    "        single_client_device_capacity (Dict[str, Any]): dictionary containing info about device capabilities.\n",
    "        batch_size (int): batch size used during local client training.\n",
    "        n_batches (int): number of batches trained by the client.\n",
    "        model_size (float): an estimate of the size of the model in MB.\n",
    "        augmentation_factor (float, optional): _description_. Defaults to 3.0.\n",
    "\n",
    "    Returns:\n",
    "        Dict[str, float]: dictionary containing estimates for time spent by the client in computation and communication.\n",
    "    \"\"\"\n",
    "    return {'computation': augmentation_factor * batch_size * n_batches * float(single_client_device_capacity['computation'])/1000.,\n",
    "            'communication': 2 * model_size_scale_factor * model_size * 1000 / float(single_client_device_capacity['communication'])}\n",
    "\n",
    "client_behave_trace, client_device_capacity = get_devices_info(devices_info_dir)\n",
    "# NOTE: setting random state does NOT make this return the same thing every run!\n",
    "client_device_capacity = client_device_capacity.sample(len(client_behave_trace), replace=False, random_state=Seeds.DEFAULT)"
   ]
  },
  {
   "attachments": {},
   "cell_type": "markdown",
   "metadata": {},
   "source": [
    "# Simulating real devices using traces"
   ]
  },
  {
   "attachments": {},
   "cell_type": "markdown",
   "metadata": {},
   "source": [
    "## Sync Client"
   ]
  },
  {
   "cell_type": "code",
   "execution_count": 5,
   "metadata": {},
   "outputs": [],
   "source": [
    "class FlowerRayClientTraces(FlowerRayClient):\n",
    "    def __init__(\n",
    "        self,\n",
    "        cid: int,\n",
    "        data_dir: Path,\n",
    "        partition_dir: Path,\n",
    "        model_generator: Callable[[], Module],\n",
    "        single_client_device_capacity: Dict[str, Any],\n",
    "        single_client_traces: Dict[str, Any],\n",
    "        verbose: bool = False,\n",
    "    ) -> None:\n",
    "        \"\"\"Function to initialise the client with its unique id\n",
    "        and the directory from which it can load its data.\n",
    "        Device capabilities and traces are also passed to the client.\n",
    "\n",
    "        Args:\n",
    "            data_dir (Path): path to the dataset folder.\n",
    "            cid (int): Unique client id for a client used to map it to its data partition\n",
    "            partition_dir (Path): The directory containing data for each client/client id\n",
    "            model_generator (Callable[[], Module]): The model generator function\n",
    "            single_client_device_capacity (Dict[str, Any]): dictionary containing info about device capabilities.\n",
    "            single_client_traces (Dict[str, Any]): dictionary describing client device traces.\n",
    "            verbose (bool): boolean describing whether the client should print or not.\n",
    "        \"\"\"\n",
    "        super().__init__(cid, data_dir, partition_dir, model_generator)\n",
    "        self.device_capacity = single_client_device_capacity\n",
    "        self.trace = single_client_traces\n",
    "        self.verbose = verbose\n",
    "        self.properties: Dict[str, Scalar] = { # type: ignore\n",
    "            \"tensor_type\": \"numpy.ndarray\",\n",
    "            \"cid\": self.cid,\n",
    "            \"device_capacity\": self.device_capacity,\n",
    "            \"traces\": self.trace,\n",
    "            }\n",
    "\n",
    "    def fit(\n",
    "        self, parameters: NDArrays, config: Dict[str, Scalar], **kwargs\n",
    "    ) -> Tuple[NDArrays, int, dict]:\n",
    "        \"\"\"Function which receives and trains a model on the local client data using parameters from the config dict.\n",
    "        Before training, the function checks if the client is active at the current time step.\n",
    "\n",
    "        Args:\n",
    "            net (NDArrays): Pytorch model parameters\n",
    "            config (Dict[str, Scalar]): Dictionary describing the training parameters\n",
    "\n",
    "        Returns:\n",
    "            Tuple[NDArrays, int, dict]: Returns the updated model, the size of the local dataset and other metrics\n",
    "        \"\"\"\n",
    "\n",
    "        # We need to include model size to compute communications costs\n",
    "        # As part of our systems-aware simulation\n",
    "        # Importantly, since Flower now accepts failures this will only cause the client to return a failure\n",
    "        if \"model_size\" not in config:\n",
    "            raise Exception(\"Model size not found in config\")\n",
    "        \n",
    "        # We need to compute the number of samples in the training set\n",
    "        # As such we set n_batches to the number of batches which the set contains\n",
    "        completion_time = get_client_completion_time(\n",
    "            single_client_device_capacity=self.device_capacity,\n",
    "            batch_size=int(config['batch_size']),\n",
    "            n_batches=int(int(config['epochs'])*self.get_train_set_size()/int(config['batch_size'])),\n",
    "            model_size=float(config['model_size']),\n",
    "        )\n",
    "        # Add up the communication and computation times\n",
    "        total_time = completion_time['communication']+completion_time['computation']\n",
    "\n",
    "        # Store the result in the trace\n",
    "        self.trace['duration'] = total_time\n",
    "\n",
    "        if self.verbose:\n",
    "            print(f\"Client {self.cid} --- Current virtual clock time: {config['current_virtual_clock']}\")\n",
    "            print(f\"Client {self.cid} --- Duration: {total_time}\")\n",
    "            print(f\"Client {self.cid} --- Traces: {self.trace}\")\n",
    "            print(f\"Client {self.cid} --- Predicted completion: {int(config['current_virtual_clock'])+int(total_time)}\")\n",
    "            print(f\"Client {self.cid} --- isActive: {isActive(self.trace, int(config['current_virtual_clock'])+int(total_time))}\")\n",
    "        if \"current_virtual_clock\" not in config:\n",
    "            raise Exception(\"Current virtual clock not found in config\")\n",
    "        if not isActive(self.trace, int(config[\"current_virtual_clock\"])+int(total_time)):\n",
    "            raise Exception(f\"Client {self.cid} is not active at the current time step\")\n",
    "        \n",
    "        params, n_samples, results = super().fit(parameters, config)\n",
    "        results.update({\n",
    "            \"client_completion_time\": total_time,\n",
    "            \"computation\": self.device_capacity['computation'],\n",
    "            \"communication\": self.device_capacity['communication'],\n",
    "            \"cid\": self.cid,\n",
    "        })\n",
    "        return params, n_samples, results\n",
    "\n",
    "    def evaluate(\n",
    "        self, parameters: NDArrays, config: Dict[str, Scalar], **kwargs\n",
    "    ) -> Tuple[float, int, dict]:\n",
    "        \"\"\"Function which receives and tests a model on the local client data using parameters from the config dict\n",
    "        Before testing, the function checks if the client is active at the current time step.\n",
    "\n",
    "        Args:\n",
    "            net (NDArrays): Pytorch model parameters\n",
    "            config (Dict[str, Scalar]): Dictionary describing the testing parameters\n",
    "\n",
    "        Returns:\n",
    "            Tuple[float, int, dict]: Returns the loss accumulate during testing, the size of the local dataset and other metrics such as accuracy\n",
    "        \"\"\"\n",
    "        if \"model_size\" not in config:\n",
    "            raise Exception(\"Model size not found in config\")\n",
    "        \n",
    "        # Estimate time based on number of batches in dataset\n",
    "        completion_time = get_client_completion_time(\n",
    "            single_client_device_capacity=self.device_capacity,\n",
    "            batch_size=int(config['batch_size']),\n",
    "            n_batches=int(self.get_test_set_size()/int(config['batch_size'])),\n",
    "            model_size=float(config['model_size']),\n",
    "        )\n",
    "\n",
    "        # Compute total time\n",
    "        total_time = completion_time['communication']+completion_time['computation']\n",
    "\n",
    "        # Store result in trace\n",
    "        self.trace['duration'] = total_time\n",
    "        if self.verbose:\n",
    "            print(f\"Client {self.cid} --- Current virtual clock time: {config['current_virtual_clock']}\")\n",
    "            print(f\"Client {self.cid} --- Duration: {total_time}\")\n",
    "            print(f\"Client {self.cid} --- Traces: {self.trace}\")\n",
    "            print(f\"Client {self.cid} --- Predicted completion: {int(config['current_virtual_clock'])+int(total_time)}\")\n",
    "            print(f\"Client {self.cid} --- isActive: {isActive(self.trace, int(config['current_virtual_clock'])+int(total_time))}\")\n",
    "        if \"current_virtual_clock\" not in config:\n",
    "            raise Exception(\"Current virtual clock not found in config\")\n",
    "        if not isActive(self.trace, int(config[\"current_virtual_clock\"])+int(total_time)):\n",
    "            raise Exception(f\"Client {self.cid} is not active at the current time step\")\n",
    "        \n",
    "        loss, n_samples, results = super().evaluate(parameters, config)\n",
    "        results.update({\n",
    "            \"client_completion_time\": total_time,\n",
    "            \"computation\": self.device_capacity['computation'],\n",
    "            \"communication\": self.device_capacity['communication'],\n",
    "            \"cid\": self.cid,\n",
    "        })\n",
    "        return loss, n_samples, results"
   ]
  },
  {
   "attachments": {},
   "cell_type": "markdown",
   "metadata": {},
   "source": [
    "## Sync Client generator"
   ]
  },
  {
   "cell_type": "code",
   "execution_count": 6,
   "metadata": {},
   "outputs": [],
   "source": [
    "def get_flower_client_with_traces_generator(\n",
    "    clients_device_capacity: List[Dict[str, Any]],\n",
    "    clients_traces: List[Dict[str, Any]],\n",
    "    model_generator: Callable[[], Module],\n",
    "    data_dir: Path,\n",
    "    partition_dir: Path,\n",
    "    mapping_fn: Optional[Callable[[int], int]] = None, # IGNORED\n",
    ") -> Callable[[str], FlowerRayClient]:\n",
    "    \"\"\"Wrapper function for the client instance generator.\n",
    "    This provides the client generator with a model generator function.\n",
    "    Also, the partition directory must be passed.\n",
    "    A mapping function could be used for filtering/ordering clients.\n",
    "\n",
    "    Args:\n",
    "        clients_device_capacity (List[Dict[str, Any]]): list containing the clients device capabilities.\n",
    "        clients_traces (List[Dict[str, Any]]): list containing the clients traces.\n",
    "        data_dir (Path): path to the datasßet folder.\n",
    "        model_generator (Callable[[], Module]): model generator function.\n",
    "        partition_dir (Path): directory containing the partition.\n",
    "        mapping_fn (Optional[Callable[[int], int]]): function mapping sorted/filtered ids to real cid.\n",
    "\n",
    "    Returns:\n",
    "        Callable[[str], FlowerRayClient]: client instance.\n",
    "    \"\"\"\n",
    "    def client_fn(cid: str) -> FlowerRayClientTraces:\n",
    "        \"\"\"Creates a single client instance given the client id `cid`.\n",
    "\n",
    "        Args:\n",
    "            cid (str): client id, Flower requires this to of type str.\n",
    "\n",
    "        Returns:\n",
    "            FlowerRayClientTraces: client instance.\n",
    "        \"\"\"\n",
    "        print(f\"Getting client with id {cid}\")\n",
    "        client = FlowerRayClientTraces(\n",
    "            # NOTE: passing the called `cid` here to allow for different mapping between data and devices\n",
    "            single_client_device_capacity=clients_device_capacity[int(cid)],\n",
    "            single_client_traces=clients_traces[int(cid)],\n",
    "            # NOTE: the mapping is only applied here, this is due to control the data mapping\n",
    "            cid=int(cid),\n",
    "            data_dir=data_dir,\n",
    "            partition_dir=partition_dir,\n",
    "            model_generator=model_generator,\n",
    "            # NOTE: you may want to comment out the following line or to set the verbosity to False\n",
    "            verbose=True,\n",
    "        )\n",
    "        \n",
    "        client.device = get_device()\n",
    "        return client\n",
    "\n",
    "    return client_fn"
   ]
  },
  {
   "attachments": {},
   "cell_type": "markdown",
   "metadata": {},
   "source": [
    "## Activity criterion"
   ]
  },
  {
   "cell_type": "code",
   "execution_count": 7,
   "metadata": {},
   "outputs": [],
   "source": [
    "class ActivityCriterion(Criterion):\n",
    "    \"\"\"This class implements the Template criterion.\"\"\"\n",
    "    \n",
    "    def __init__(self, client_traces) -> None:\n",
    "        \"\"\"Initializes the Template criterion.\"\"\"\n",
    "        self.current_virtual_clock = 0\n",
    "        self.client_traces = client_traces\n",
    "    \n",
    "    def select(self, client: ClientProxy) -> bool:\n",
    "        \"\"\"Selects the client that receives if it is active.\n",
    "        Before selecting it, the function gets the `properties` of the client.\n",
    "\n",
    "        Args:\n",
    "            client (ClientProxy): client proxy to select.\n",
    "\n",
    "        Returns:\n",
    "            bool: True if the client is selected, False otherwise.\n",
    "        \"\"\"        \n",
    "        # request_properties: Config = {\n",
    "        #     # Here goes the template of the client properties\n",
    "        #     \"tensor_type\": \"str\",\n",
    "        #     \"cid\": \"str\",\n",
    "        #     \"device_capacity\": \"Dict[str, Any]\",\n",
    "        #     \"traces\": \"Dict[str, Any]\",\n",
    "        #     }\n",
    "        # ins: GetPropertiesIns = GetPropertiesIns(\n",
    "        #     config=request_properties\n",
    "        # )\n",
    "        # # This contains the client properties\n",
    "        # value: GetPropertiesRes = client.get_properties(ins, timeout=None)\n",
    "        # # NOTE: here we use `isActive` to check if the client is active at the current time step\n",
    "        # return isActive(value.properties['traces'], self.current_virtual_clock) # type: ignore\n",
    "        \n",
    "        traces = self.client_traces[int(client.cid)]\n",
    "        return isActive(traces, self.current_virtual_clock)"
   ]
  },
  {
   "attachments": {},
   "cell_type": "markdown",
   "metadata": {},
   "source": [
    "## Run the simulation"
   ]
  },
  {
   "attachments": {},
   "cell_type": "markdown",
   "metadata": {},
   "source": [
    "### Generators"
   ]
  },
  {
   "cell_type": "code",
   "execution_count": 8,
   "metadata": {},
   "outputs": [
    {
     "data": {
      "text/plain": [
       "{'batch_size': 32, 'num_workers': 2}"
      ]
     },
     "execution_count": 8,
     "metadata": {},
     "output_type": "execute_result"
    }
   ],
   "source": [
    "get_default_test_config()"
   ]
  },
  {
   "cell_type": "code",
   "execution_count": 9,
   "metadata": {},
   "outputs": [],
   "source": [
    "torch.manual_seed(Seeds.DEFAULT)\n",
    "network_generator_cnn = get_network_generator_cnn()\n",
    "seed_net_cnn = network_generator_cnn()\n",
    "seed_model_cnn_params: NDArrays = get_model_parameters(seed_net_cnn)\n",
    "\n",
    "federated_evaluation_function = get_federated_evaluation_function(\n",
    "    data_dir=data_dir,\n",
    "    centralized_mapping=centralized_mapping,\n",
    "    device=get_device(),\n",
    "    batch_size=get_default_test_config()[\"batch_size\"],\n",
    "    num_workers=get_default_test_config()[\"num_workers\"],\n",
    "    model_generator=network_generator_cnn,\n",
    "    criterion=nn.CrossEntropyLoss(),\n",
    ")\n",
    "\n",
    "# NOTE: we are using here the `get_flower_client_with_traces_generator`\n",
    "num_total_clients = 3229\n",
    "sampled_cdc = client_device_capacity.sample(num_total_clients, replace=False, random_state=Seeds.DEFAULT)\n",
    "sampled_cbt = client_behave_trace.sample(num_total_clients, replace=False, random_state=Seeds.DEFAULT)\n",
    "\n",
    "device_capacity_dict = sampled_cdc.to_dict('records')\n",
    "behave_traces_dict = sampled_cbt.to_dict('records')\n",
    "\n",
    "flower_client_with_traces_generator: Callable[\n",
    "    [int], FlowerRayClientTraces\n",
    "] = get_flower_client_with_traces_generator(\n",
    "    clients_device_capacity=device_capacity_dict, # type: ignore\n",
    "    clients_traces=behave_traces_dict, # type: ignore\n",
    "    model_generator=network_generator_cnn,\n",
    "    data_dir=data_dir,\n",
    "    partition_dir=federated_partition) # type: ignore\n",
    "\n",
    "## CONFIG OPTIONS\n",
    "\n",
    "train_config = get_default_train_config()\n",
    "train_config.update({\n",
    "        \"model_size\": 1000,\n",
    "        \"current_virtual_clock\": 0.0,\n",
    "    })\n",
    "test_config = get_default_test_config()\n",
    "test_config.update({\n",
    "        \"model_size\": 1000,\n",
    "        \"current_virtual_clock\": 0.0,\n",
    "    })\n",
    "\n",
    "on_fit_config_fn: Callable[[int], Dict[str, Scalar]] = lambda cid: train_config\n",
    "on_evaluate_config_fn: Callable[[int], Dict[str, Scalar]] = lambda cid: test_config # type: ignore"
   ]
  },
  {
   "attachments": {},
   "cell_type": "markdown",
   "metadata": {},
   "source": [
    "### FedAvg version"
   ]
  },
  {
   "cell_type": "code",
   "execution_count": 10,
   "metadata": {},
   "outputs": [],
   "source": [
    "num_clients_per_round: int = 3\n",
    "num_evaluate_clients: int = 1\n",
    "fraction_fit: float = float(num_clients_per_round) / num_total_clients\n",
    "# fraction_evaluate: float = float(num_evaluate_clients) / num_total_clients\n",
    "fraction_evaluate: float = 0.0\n",
    "\n",
    "accept_failures = True\n",
    "min_fit_clients = 10\n",
    "min_available_clients = 10\n",
    "initial_parameters: Parameters = ndarrays_to_parameters(seed_model_cnn_params)\n",
    "# maximum amount of resources that a client can take\n",
    "client_resources = {\n",
    "    \"num_gpus\": 1.0/2 if get_device() == 'cuda' else 0.0,\n",
    "    \"num_cpus\": 1,\n",
    "}\n",
    "\n",
    "fedavg_strategy = FedAvgTraces(\n",
    "    fraction_fit=fraction_fit,\n",
    "    fraction_evaluate=fraction_evaluate,\n",
    "    min_fit_clients=min_fit_clients,\n",
    "    min_available_clients=min_available_clients,\n",
    "    on_fit_config_fn=on_fit_config_fn,\n",
    "    on_evaluate_config_fn=on_evaluate_config_fn,\n",
    "    initial_parameters=initial_parameters,\n",
    "    accept_failures=accept_failures,\n",
    "    evaluate_fn=federated_evaluation_function,\n",
    "    fit_metrics_aggregation_fn=aggregate_weighted_average,\n",
    "    evaluate_metrics_aggregation_fn=aggregate_weighted_average,\n",
    ")\n",
    "\n",
    "criterion = ActivityCriterion(behave_traces_dict)\n",
    "client_manager = CustomClientManager(criterion=criterion, seed=Seeds.DEFAULT)\n",
    "sync_server = Server(\n",
    "    client_manager=client_manager,\n",
    "    strategy=fedavg_strategy,\n",
    "    asynchronous=False,\n",
    ")"
   ]
  },
  {
   "cell_type": "code",
   "execution_count": 11,
   "metadata": {},
   "outputs": [
    {
     "name": "stderr",
     "output_type": "stream",
     "text": [
      "230373 WARNING flwr 2023-03-21 23:44:26,845 | app.py:208 | Both server and strategy were provided, ignoring strategy\n",
      "230373 INFO flwr 2023-03-21 23:44:26,846 | app.py:146 | Starting Flower simulation, config: ServerConfig(num_rounds=10, round_timeout=None, asynchronous=False)\n",
      "2023-03-21 23:44:29,041\tINFO worker.py:1553 -- Started a local Ray instance.\n",
      "230373 INFO flwr 2023-03-21 23:44:30,232 | app.py:180 | Flower VCE: Ray initialized with resources: {'object_store_memory': 1056768000.0, 'CPU': 8.0, 'node:10.9.7.124': 1.0, 'memory': 2113536000.0}\n",
      "230373 INFO flwr 2023-03-21 23:44:30,251 | server.py:95 | Initializing global parameters\n",
      "230373 INFO flwr 2023-03-21 23:44:30,251 | server.py:316 | Using initial parameters provided by strategy\n",
      "230373 INFO flwr 2023-03-21 23:44:30,252 | server.py:97 | Evaluating initial parameters\n"
     ]
    },
    {
     "name": "stdout",
     "output_type": "stream",
     "text": [
      "Server round 0\n"
     ]
    },
    {
     "name": "stderr",
     "output_type": "stream",
     "text": [
      "100%|██████████| 891/891 [00:09<00:00, 97.41it/s] \n",
      "230373 INFO flwr 2023-03-21 23:44:39,417 | server.py:100 | initial parameters (loss, other metrics): 3686.0015926361084, {'accuracy': 0.005892669238863556, 'eval_time': 0.0}\n",
      "230373 INFO flwr 2023-03-21 23:44:39,418 | server.py:110 | FL starting\n",
      "230373 INFO flwr 2023-03-21 23:44:39,421 | client_manager.py:49 | Sampling using <__main__.ActivityCriterion object at 0x7f6eba6c5300>\n",
      "230373 DEBUG flwr 2023-03-21 23:44:39,423 | server.py:255 | fit_round 1: strategy sampled 10 clients (out of 3229)\n"
     ]
    },
    {
     "name": "stdout",
     "output_type": "stream",
     "text": [
      "Sampled the following clients:  ['2907', '2338', '678', '447', '267', '1872', '2471', '2614', '2674', '70']\n"
     ]
    },
    {
     "name": "stderr",
     "output_type": "stream",
     "text": [
      "230373 DEBUG flwr 2023-03-21 23:44:45,097 | ray_client_proxy.py:87 | \u001b[36mray::launch_and_fit()\u001b[39m (pid=230630, ip=10.9.7.124)\n",
      "  File \"/home/wash/LARGE/Work/L361_project/flower_fedbuff_project/src/py/flwr/simulation/ray_transport/ray_client_proxy.py\", line 148, in launch_and_fit\n",
      "    return maybe_call_fit(\n",
      "  File \"/home/wash/LARGE/Work/L361_project/flower_fedbuff_project/src/py/flwr/client/client.py\", line 184, in maybe_call_fit\n",
      "    return client.fit(fit_ins)\n",
      "  File \"/home/wash/LARGE/Work/L361_project/flower_fedbuff_project/src/py/flwr/client/app.py\", line 275, in _fit\n",
      "    results = self.numpy_client.fit(parameters, ins.config)  # type: ignore\n",
      "  File \"/tmp/ipykernel_230373/2728577686.py\", line 79, in fit\n",
      "Exception: Client 2338 is not active at the current time step\n",
      "230373 DEBUG flwr 2023-03-21 23:44:45,110 | ray_client_proxy.py:87 | \u001b[36mray::launch_and_fit()\u001b[39m (pid=230627, ip=10.9.7.124)\n",
      "  File \"/home/wash/LARGE/Work/L361_project/flower_fedbuff_project/src/py/flwr/simulation/ray_transport/ray_client_proxy.py\", line 148, in launch_and_fit\n",
      "    return maybe_call_fit(\n",
      "  File \"/home/wash/LARGE/Work/L361_project/flower_fedbuff_project/src/py/flwr/client/client.py\", line 184, in maybe_call_fit\n",
      "    return client.fit(fit_ins)\n",
      "  File \"/home/wash/LARGE/Work/L361_project/flower_fedbuff_project/src/py/flwr/client/app.py\", line 275, in _fit\n",
      "    results = self.numpy_client.fit(parameters, ins.config)  # type: ignore\n",
      "  File \"/tmp/ipykernel_230373/2728577686.py\", line 79, in fit\n",
      "Exception: Client 267 is not active at the current time step\n",
      "230373 DEBUG flwr 2023-03-21 23:44:45,112 | ray_client_proxy.py:87 | \u001b[36mray::launch_and_fit()\u001b[39m (pid=230629, ip=10.9.7.124)\n",
      "  File \"/home/wash/LARGE/Work/L361_project/flower_fedbuff_project/src/py/flwr/simulation/ray_transport/ray_client_proxy.py\", line 148, in launch_and_fit\n",
      "    return maybe_call_fit(\n",
      "  File \"/home/wash/LARGE/Work/L361_project/flower_fedbuff_project/src/py/flwr/client/client.py\", line 184, in maybe_call_fit\n",
      "    return client.fit(fit_ins)\n",
      "  File \"/home/wash/LARGE/Work/L361_project/flower_fedbuff_project/src/py/flwr/client/app.py\", line 275, in _fit\n",
      "    results = self.numpy_client.fit(parameters, ins.config)  # type: ignore\n",
      "  File \"/tmp/ipykernel_230373/2728577686.py\", line 79, in fit\n",
      "Exception: Client 70 is not active at the current time step\n",
      "  0%|          | 0/8 [00:00<?, ?it/s][0m \n",
      "  0%|          | 0/8 [00:00<?, ?it/s][0m \n",
      "  0%|          | 0/8 [00:00<?, ?it/s][0m \n",
      "  0%|          | 0/8 [00:00<?, ?it/s][0m \n",
      "  0%|          | 0/8 [00:00<?, ?it/s][0m \n"
     ]
    },
    {
     "name": "stdout",
     "output_type": "stream",
     "text": [
      "\u001b[2m\u001b[36m(launch_and_fit pid=230624)\u001b[0m Getting client with id 2471\n",
      "\u001b[2m\u001b[36m(launch_and_fit pid=230624)\u001b[0m Client 2471 --- Current virtual clock time: 0.0\n",
      "\u001b[2m\u001b[36m(launch_and_fit pid=230624)\u001b[0m Client 2471 --- Duration: 967.1871108575064\n",
      "\u001b[2m\u001b[36m(launch_and_fit pid=230624)\u001b[0m Client 2471 --- Traces: {'duration': 967.1871108575064, 'inactive': [44658, 57639, 124793, 177492, 253068], 'finish_time': 259200, 'active': [0, 55446, 88526, 166394, 251903], 'model': 'SM-G610F'}\n",
      "\u001b[2m\u001b[36m(launch_and_fit pid=230624)\u001b[0m Client 2471 --- Predicted completion: 967\n",
      "\u001b[2m\u001b[36m(launch_and_fit pid=230624)\u001b[0m Client 2471 --- isActive: True\n",
      "\u001b[2m\u001b[36m(launch_and_fit pid=230629)\u001b[0m Getting client with id 70\n",
      "\u001b[2m\u001b[36m(launch_and_fit pid=230629)\u001b[0m Client 70 --- Current virtual clock time: 0.0\n",
      "\u001b[2m\u001b[36m(launch_and_fit pid=230629)\u001b[0m Client 70 --- Duration: 1448.678877762347\n",
      "\u001b[2m\u001b[36m(launch_and_fit pid=230629)\u001b[0m Client 70 --- Traces: {'duration': 1448.678877762347, 'inactive': [314, 6902, 10071, 10187, 10447, 10636, 10857, 69622, 75695, 90861, 170800, 170920, 234779, 251422, 251448, 251521, 251524, 251652, 251754, 251822, 251938, 252197, 252200, 252229, 252249, 252481, 252517, 252613, 252664, 252681, 252705, 258603, 323870, 323976, 324021, 324175, 324354, 324488, 324546, 324719, 324869, 324923, 325038, 325200, 325399, 325422, 325696, 325710, 325886, 325907, 328661, 332986, 333007, 333067, 333136, 333161, 333165, 333329, 333418, 333505, 333506, 333696, 333715, 333728, 333735, 333780, 333829, 333852, 333905, 333956, 333988, 334002, 334031, 334049, 334110, 334136, 334195, 334263, 334331, 334375, 334493, 334556, 334621, 334638, 334679, 334697, 334792, 334822, 334855, 334877, 334927, 335027, 335133, 335249, 335361, 335483, 335499, 335594, 341714, 342163, 342186, 342505, 342520, 342639, 342672, 342692, 342723, 342742, 342822, 342868, 342882, 342934, 342971, 343031, 343056, 343085, 343104, 343147, 343170, 343175], 'finish_time': 345600, 'active': [0, 4007, 10046, 10073, 10234, 10576, 10668, 69141, 69630, 86322, 146457, 170856, 171098, 250693, 251424, 251484, 251522, 251569, 251745, 251762, 251937, 252120, 252197, 252227, 252245, 252362, 252482, 252551, 252613, 252664, 252691, 252911, 321591, 323939, 323976, 324021, 324175, 324354, 324488, 324551, 324721, 324871, 324933, 325040, 325202, 325401, 325433, 325697, 325715, 325887, 325909, 332967, 332987, 333017, 333067, 333136, 333162, 333316, 333382, 333485, 333505, 333621, 333696, 333715, 333732, 333759, 333792, 333829, 333853, 333908, 333960, 333988, 334009, 334032, 334049, 334112, 334140, 334213, 334274, 334331, 334382, 334499, 334557, 334627, 334645, 334680, 334708, 334797, 334826, 334855, 334884, 334927, 335030, 335133, 335249, 335361, 335483, 335556, 341635, 341721, 342164, 342195, 342505, 342546, 342641, 342674, 342693, 342728, 342746, 342823, 342876, 342896, 342935, 342973, 343032, 343058, 343089, 343105, 343148, 343171], 'model': '770N'}\n",
      "\u001b[2m\u001b[36m(launch_and_fit pid=230629)\u001b[0m Client 70 --- Predicted completion: 1448\n",
      "\u001b[2m\u001b[36m(launch_and_fit pid=230629)\u001b[0m Client 70 --- isActive: False\n",
      "\u001b[2m\u001b[36m(launch_and_fit pid=230625)\u001b[0m Getting client with id 678\n",
      "\u001b[2m\u001b[36m(launch_and_fit pid=230625)\u001b[0m Client 678 --- Current virtual clock time: 0.0\n",
      "\u001b[2m\u001b[36m(launch_and_fit pid=230625)\u001b[0m Client 678 --- Duration: 1087.5163560740814\n",
      "\u001b[2m\u001b[36m(launch_and_fit pid=230625)\u001b[0m Client 678 --- Traces: {'duration': 1087.5163560740814, 'inactive': [6351, 13601, 294152, 307248, 360501, 362979, 365190, 373370, 416992, 426044, 452133, 503414, 588563], 'finish_time': 604800, 'active': [0, 10401, 196007, 305362, 356493, 360677, 365113, 369412, 399640, 423900, 448307, 476243, 555138], 'model': 'A1601'}\n",
      "\u001b[2m\u001b[36m(launch_and_fit pid=230625)\u001b[0m Client 678 --- Predicted completion: 1087\n",
      "\u001b[2m\u001b[36m(launch_and_fit pid=230625)\u001b[0m Client 678 --- isActive: True\n",
      "\u001b[2m\u001b[36m(launch_and_fit pid=230630)\u001b[0m Getting client with id 2338\n",
      "\u001b[2m\u001b[36m(launch_and_fit pid=230630)\u001b[0m Client 2338 --- Current virtual clock time: 0.0\n",
      "\u001b[2m\u001b[36m(launch_and_fit pid=230630)\u001b[0m Client 2338 --- Duration: 330.8692435902733\n",
      "\u001b[2m\u001b[36m(launch_and_fit pid=230630)\u001b[0m Client 2338 --- Traces: {'duration': 330.8692435902733, 'inactive': [253, 9592, 37101, 91574, 98507, 99602, 108811, 109252, 110440, 110455, 110506, 123147, 124397, 181054, 184391, 211985, 279612, 279669, 296409, 310923], 'finish_time': 345600, 'active': [0, 6012, 10661, 90284, 96605, 98510, 101123, 109247, 110416, 110451, 110490, 110515, 124393, 178759, 181739, 186827, 279538, 279635, 279695, 296435], 'model': 'vivo 1724'}\n",
      "\u001b[2m\u001b[36m(launch_and_fit pid=230630)\u001b[0m Client 2338 --- Predicted completion: 330\n",
      "\u001b[2m\u001b[36m(launch_and_fit pid=230630)\u001b[0m Client 2338 --- isActive: False\n",
      "\u001b[2m\u001b[36m(launch_and_fit pid=230626)\u001b[0m Getting client with id 1872\n",
      "\u001b[2m\u001b[36m(launch_and_fit pid=230626)\u001b[0m Client 1872 --- Current virtual clock time: 0.0\n",
      "\u001b[2m\u001b[36m(launch_and_fit pid=230626)\u001b[0m Client 1872 --- Duration: 748.0411889634006\n",
      "\u001b[2m\u001b[36m(launch_and_fit pid=230626)\u001b[0m Client 1872 --- Traces: {'duration': 748.0411889634006, 'inactive': [2790, 7827, 9175, 11413, 59009, 80533], 'finish_time': 86400, 'active': [0, 7494, 8664, 9373, 50080, 77099], 'model': 'CPH1923'}\n",
      "\u001b[2m\u001b[36m(launch_and_fit pid=230626)\u001b[0m Client 1872 --- Predicted completion: 748\n",
      "\u001b[2m\u001b[36m(launch_and_fit pid=230626)\u001b[0m Client 1872 --- isActive: True\n",
      "\u001b[2m\u001b[36m(launch_and_fit pid=230627)\u001b[0m Getting client with id 267\n",
      "\u001b[2m\u001b[36m(launch_and_fit pid=230627)\u001b[0m Client 267 --- Current virtual clock time: 0.0\n",
      "\u001b[2m\u001b[36m(launch_and_fit pid=230627)\u001b[0m Client 267 --- Duration: 362.3481592703895\n",
      "\u001b[2m\u001b[36m(launch_and_fit pid=230627)\u001b[0m Client 267 --- Traces: {'duration': 362.3481592703895, 'inactive': [279, 38920, 77177, 91764, 203071, 206878, 211383, 255035, 299031, 312492, 377066], 'finish_time': 432000, 'active': [0, 34134, 73979, 83582, 201828, 205925, 207466, 254910, 298126, 311441, 342642], 'model': 'CPH1937'}\n",
      "\u001b[2m\u001b[36m(launch_and_fit pid=230627)\u001b[0m Client 267 --- Predicted completion: 362\n",
      "\u001b[2m\u001b[36m(launch_and_fit pid=230627)\u001b[0m Client 267 --- isActive: False\n",
      "\u001b[2m\u001b[36m(launch_and_fit pid=230623)\u001b[0m Getting client with id 447\n",
      "\u001b[2m\u001b[36m(launch_and_fit pid=230623)\u001b[0m Client 447 --- Current virtual clock time: 0.0\n",
      "\u001b[2m\u001b[36m(launch_and_fit pid=230623)\u001b[0m Client 447 --- Duration: 653.9093580981513\n",
      "\u001b[2m\u001b[36m(launch_and_fit pid=230623)\u001b[0m Client 447 --- Traces: {'duration': 653.9093580981513, 'inactive': [1642, 46628, 64598, 70418, 78099, 84376, 137728, 150412, 151480, 162524, 170001, 205858, 255085, 282948, 331061, 331383, 334312, 341877, 350242, 388778, 389615, 389959, 389971, 390018, 390025, 391026, 394840, 406675, 407003, 408695, 414787, 418986, 425855], 'finish_time': 432000, 'active': [0, 44874, 63694, 69734, 77422, 82265, 135916, 148543, 150509, 161674, 169815, 174705, 254361, 258542, 329463, 331136, 333053, 341260, 348071, 388682, 389213, 389618, 389963, 389992, 390024, 390869, 393187, 406425, 406681, 408133, 414016, 418567, 421366], 'model': 'moto g(7) play'}\n",
      "\u001b[2m\u001b[36m(launch_and_fit pid=230623)\u001b[0m Client 447 --- Predicted completion: 653\n",
      "\u001b[2m\u001b[36m(launch_and_fit pid=230623)\u001b[0m Client 447 --- isActive: True\n",
      "\u001b[2m\u001b[36m(launch_and_fit pid=230628)\u001b[0m Getting client with id 2907\n",
      "\u001b[2m\u001b[36m(launch_and_fit pid=230628)\u001b[0m Client 2907 --- Current virtual clock time: 0.0\n",
      "\u001b[2m\u001b[36m(launch_and_fit pid=230628)\u001b[0m Client 2907 --- Duration: 511.7667562372511\n",
      "\u001b[2m\u001b[36m(launch_and_fit pid=230628)\u001b[0m Client 2907 --- Traces: {'duration': 511.7667562372511, 'inactive': [2199, 24840, 84966, 85882, 86018, 86782, 87200, 104010, 169857, 169981, 170042, 175531, 178702, 179961, 184030, 186993, 187361, 188109, 205316, 231968, 232257, 232300, 232451, 232969, 232973, 235130, 235139, 343928, 345126, 345571, 374231, 462052, 462058, 462832, 498612, 502736, 503375], 'finish_time': 518400, 'active': [0, 3855, 83196, 84972, 85886, 86019, 86981, 95265, 169449, 169859, 169983, 174976, 175618, 179190, 179963, 186425, 186994, 187362, 188110, 231810, 231970, 232268, 232301, 232452, 232970, 234763, 235138, 342759, 343929, 345216, 373643, 440378, 462053, 462397, 496466, 502201, 502739], 'model': 'Mi A1'}\n",
      "\u001b[2m\u001b[36m(launch_and_fit pid=230628)\u001b[0m Client 2907 --- Predicted completion: 511\n",
      "\u001b[2m\u001b[36m(launch_and_fit pid=230628)\u001b[0m Client 2907 --- isActive: True\n"
     ]
    },
    {
     "name": "stderr",
     "output_type": "stream",
     "text": [
      " 12%|█▎        | 1/8 [00:00<00:04,  1.49it/s]\n",
      " 12%|█▎        | 1/8 [00:00<00:04,  1.51it/s]\n",
      " 12%|█▎        | 1/8 [00:00<00:05,  1.36it/s]\n",
      " 25%|██▌       | 2/8 [00:01<00:03,  1.57it/s]\n",
      " 12%|█▎        | 1/8 [00:01<00:09,  1.29s/it]\n",
      " 25%|██▌       | 2/8 [00:01<00:04,  1.39it/s]\n",
      " 25%|██▌       | 2/8 [00:01<00:05,  1.17it/s]\n",
      " 38%|███▊      | 3/8 [00:02<00:03,  1.40it/s]\n",
      " 25%|██▌       | 2/8 [00:02<00:05,  1.02it/s]\n",
      " 12%|█▎        | 1/8 [00:02<00:14,  2.10s/it]\n",
      " 38%|███▊      | 3/8 [00:02<00:03,  1.42it/s]\n",
      " 38%|███▊      | 3/8 [00:02<00:03,  1.35it/s]\n",
      " 50%|█████     | 4/8 [00:02<00:02,  1.48it/s]\n",
      " 38%|███▊      | 3/8 [00:02<00:04,  1.20it/s]\n",
      " 50%|█████     | 4/8 [00:02<00:02,  1.56it/s]\n",
      " 50%|█████     | 4/8 [00:02<00:02,  1.53it/s]\n",
      " 62%|██████▎   | 5/8 [00:03<00:01,  1.82it/s]\n",
      " 62%|██████▎   | 5/8 [00:03<00:01,  1.79it/s]\n",
      " 62%|██████▎   | 5/8 [00:03<00:01,  1.81it/s]\n",
      " 25%|██▌       | 2/8 [00:03<00:08,  1.49s/it]\n",
      " 50%|█████     | 4/8 [00:03<00:02,  1.38it/s]\n",
      " 75%|███████▌  | 6/8 [00:03<00:00,  2.07it/s]\n",
      " 75%|███████▌  | 6/8 [00:03<00:00,  2.01it/s]\n",
      " 75%|███████▌  | 6/8 [00:03<00:00,  2.08it/s]\n",
      " 88%|████████▊ | 7/8 [00:03<00:00,  2.25it/s]\n",
      " 62%|██████▎   | 5/8 [00:03<00:01,  1.61it/s]\n",
      " 88%|████████▊ | 7/8 [00:03<00:00,  2.19it/s]\n",
      " 38%|███▊      | 3/8 [00:03<00:05,  1.11s/it]\n",
      " 88%|████████▊ | 7/8 [00:03<00:00,  2.16it/s]\n",
      "100%|██████████| 8/8 [00:04<00:00,  1.94it/s]\n",
      " 75%|███████▌  | 6/8 [00:04<00:01,  1.70it/s]\n",
      "100%|██████████| 8/8 [00:04<00:00,  1.87it/s]\n",
      "100%|██████████| 8/8 [00:04<00:00,  1.88it/s]\n",
      " 88%|████████▊ | 7/8 [00:04<00:00,  2.08it/s]\n",
      " 50%|█████     | 4/8 [00:04<00:03,  1.10it/s]\n",
      "100%|██████████| 8/8 [00:04<00:00,  1.63it/s]\n",
      " 62%|██████▎   | 5/8 [00:04<00:02,  1.27it/s]\n",
      " 75%|███████▌  | 6/8 [00:05<00:01,  1.23it/s]\n",
      " 88%|████████▊ | 7/8 [00:06<00:00,  1.35it/s]\n",
      "100%|██████████| 8/8 [00:06<00:00,  1.17it/s]\n",
      "  0%|          | 0/8 [00:00<?, ?it/s][0m \n",
      "  0%|          | 0/8 [00:00<?, ?it/s][0m \n"
     ]
    },
    {
     "name": "stdout",
     "output_type": "stream",
     "text": [
      "\u001b[2m\u001b[36m(launch_and_fit pid=231071)\u001b[0m Getting client with id 2614\n",
      "\u001b[2m\u001b[36m(launch_and_fit pid=231071)\u001b[0m Client 2614 --- Current virtual clock time: 0.0\n",
      "\u001b[2m\u001b[36m(launch_and_fit pid=231071)\u001b[0m Client 2614 --- Duration: 1391.952242700838\n",
      "\u001b[2m\u001b[36m(launch_and_fit pid=231071)\u001b[0m Client 2614 --- Traces: {'duration': 1391.952242700838, 'inactive': [26014, 46429, 46578, 46591, 46620, 46916, 46971, 46995, 47499, 48417, 54946, 155946, 160975, 202825, 212756, 236786, 244106, 246873, 344382, 371206, 400867, 409869, 410698, 416247, 431719], 'finish_time': 432000, 'active': [0, 46363, 46429, 46585, 46605, 46621, 46922, 46974, 47008, 47512, 48418, 147356, 158569, 172022, 204542, 230144, 240666, 244196, 255907, 368354, 392887, 407552, 410120, 413035, 425523], 'model': 'ROBBY2'}\n",
      "\u001b[2m\u001b[36m(launch_and_fit pid=231071)\u001b[0m Client 2614 --- Predicted completion: 1391\n",
      "\u001b[2m\u001b[36m(launch_and_fit pid=231071)\u001b[0m Client 2614 --- isActive: True\n",
      "\u001b[2m\u001b[36m(launch_and_fit pid=231062)\u001b[0m Getting client with id 2674\n",
      "\u001b[2m\u001b[36m(launch_and_fit pid=231062)\u001b[0m Client 2674 --- Current virtual clock time: 0.0\n",
      "\u001b[2m\u001b[36m(launch_and_fit pid=231062)\u001b[0m Client 2674 --- Duration: 160.747556474767\n",
      "\u001b[2m\u001b[36m(launch_and_fit pid=231062)\u001b[0m Client 2674 --- Traces: {'duration': 160.747556474767, 'inactive': [515, 26900, 57265], 'finish_time': 86400, 'active': [0, 19049, 42685], 'model': 'SO-02H'}\n",
      "\u001b[2m\u001b[36m(launch_and_fit pid=231062)\u001b[0m Client 2674 --- Predicted completion: 160\n",
      "\u001b[2m\u001b[36m(launch_and_fit pid=231062)\u001b[0m Client 2674 --- isActive: True\n"
     ]
    },
    {
     "name": "stderr",
     "output_type": "stream",
     "text": [
      " 12%|█▎        | 1/8 [00:00<00:01,  3.85it/s]\n",
      " 12%|█▎        | 1/8 [00:00<00:01,  3.68it/s]\n",
      " 25%|██▌       | 2/8 [00:00<00:01,  4.43it/s]\n",
      " 25%|██▌       | 2/8 [00:00<00:01,  4.25it/s]\n",
      " 38%|███▊      | 3/8 [00:00<00:01,  4.63it/s]\n",
      " 38%|███▊      | 3/8 [00:00<00:01,  4.45it/s]\n",
      " 50%|█████     | 4/8 [00:00<00:00,  4.84it/s]\n",
      " 50%|█████     | 4/8 [00:00<00:00,  4.62it/s]\n",
      " 62%|██████▎   | 5/8 [00:01<00:00,  4.94it/s]\n",
      " 62%|██████▎   | 5/8 [00:01<00:00,  4.64it/s]\n",
      " 75%|███████▌  | 6/8 [00:01<00:00,  5.23it/s]\n",
      " 75%|███████▌  | 6/8 [00:01<00:00,  5.17it/s]\n",
      " 88%|████████▊ | 7/8 [00:01<00:00,  5.70it/s]\n",
      " 88%|████████▊ | 7/8 [00:01<00:00,  5.58it/s]\n",
      "230373 DEBUG flwr 2023-03-21 23:44:54,417 | server.py:279 | fit_round 1 received 7 results and 3 failures\n",
      "230373 INFO flwr 2023-03-21 23:44:54,418 | strategy.py:186 | Completion times of clients: [967.1871108575064, 1391.952242700838, 160.747556474767, 653.9093580981513, 511.7667562372511, 1087.5163560740814, 748.0411889634006]\n",
      "230373 INFO flwr 2023-03-21 23:44:54,419 | strategy.py:188 | Maximum completion time of clients: 1391.952242700838\n"
     ]
    },
    {
     "name": "stdout",
     "output_type": "stream",
     "text": [
      "Server round 1\n"
     ]
    },
    {
     "name": "stderr",
     "output_type": "stream",
     "text": [
      "100%|██████████| 8/8 [00:01<00:00,  5.27it/s]36m(launch_and_fit pid=231071)\u001b[0m \n",
      "100%|██████████| 8/8 [00:01<00:00,  5.21it/s]\n",
      "100%|██████████| 8/8 [00:01<00:00,  5.21it/s]t/s]\u001b[2m\u001b[36m(launch_and_fit pid=231062)\u001b[0m \n",
      "100%|██████████| 891/891 [00:11<00:00, 78.75it/s]\n",
      "230373 INFO flwr 2023-03-21 23:45:05,764 | server.py:140 | fit progress: (1, 3411.923886537552, {'accuracy': 0.07969133637320239, 'eval_time': 1391.952242700838}, 26.34503716799918)\n",
      "230373 INFO flwr 2023-03-21 23:45:05,764 | server.py:190 | evaluate_round 1: no clients selected, cancel\n",
      "230373 INFO flwr 2023-03-21 23:45:05,775 | client_manager.py:49 | Sampling using <__main__.ActivityCriterion object at 0x7f6eba6c5300>\n",
      "230373 DEBUG flwr 2023-03-21 23:45:05,777 | server.py:255 | fit_round 2: strategy sampled 10 clients (out of 3229)\n"
     ]
    },
    {
     "name": "stdout",
     "output_type": "stream",
     "text": [
      "Sampled the following clients:  ['75', '796', '2035', '2040', '2902', '2962', '2258', '1462', '1075', '2957']\n"
     ]
    },
    {
     "name": "stderr",
     "output_type": "stream",
     "text": [
      "  0%|          | 0/8 [00:00<?, ?it/s][0m \n",
      "230373 DEBUG flwr 2023-03-21 23:45:11,356 | ray_client_proxy.py:87 | \u001b[36mray::launch_and_fit()\u001b[39m (pid=234588, ip=10.9.7.124)\n",
      "  File \"/home/wash/LARGE/Work/L361_project/flower_fedbuff_project/src/py/flwr/simulation/ray_transport/ray_client_proxy.py\", line 148, in launch_and_fit\n",
      "    return maybe_call_fit(\n",
      "  File \"/home/wash/LARGE/Work/L361_project/flower_fedbuff_project/src/py/flwr/client/client.py\", line 184, in maybe_call_fit\n",
      "    return client.fit(fit_ins)\n",
      "  File \"/home/wash/LARGE/Work/L361_project/flower_fedbuff_project/src/py/flwr/client/app.py\", line 275, in _fit\n",
      "    results = self.numpy_client.fit(parameters, ins.config)  # type: ignore\n",
      "  File \"/tmp/ipykernel_230373/2728577686.py\", line 79, in fit\n",
      "Exception: Client 1462 is not active at the current time step\n"
     ]
    },
    {
     "name": "stdout",
     "output_type": "stream",
     "text": [
      "\u001b[2m\u001b[36m(launch_and_fit pid=234585)\u001b[0m Getting client with id 796\n",
      "\u001b[2m\u001b[36m(launch_and_fit pid=234585)\u001b[0m Client 796 --- Current virtual clock time: 1391.952242700838\n",
      "\u001b[2m\u001b[36m(launch_and_fit pid=234585)\u001b[0m Client 796 --- Duration: 296.5387975793243\n",
      "\u001b[2m\u001b[36m(launch_and_fit pid=234585)\u001b[0m Client 796 --- Traces: {'duration': 296.5387975793243, 'inactive': [7601, 131684], 'finish_time': 172800, 'active': [0, 97798], 'model': 'SM-A705F'}\n",
      "\u001b[2m\u001b[36m(launch_and_fit pid=234585)\u001b[0m Client 796 --- Predicted completion: 1687\n",
      "\u001b[2m\u001b[36m(launch_and_fit pid=234585)\u001b[0m Client 796 --- isActive: True\n",
      "\u001b[2m\u001b[36m(launch_and_fit pid=234588)\u001b[0m Getting client with id 1462\n",
      "\u001b[2m\u001b[36m(launch_and_fit pid=234588)\u001b[0m Client 1462 --- Current virtual clock time: 1391.952242700838\n",
      "\u001b[2m\u001b[36m(launch_and_fit pid=234588)\u001b[0m Client 1462 --- Duration: 1599.9649468094608\n",
      "\u001b[2m\u001b[36m(launch_and_fit pid=234588)\u001b[0m Client 1462 --- Traces: {'duration': 1599.9649468094608, 'inactive': [343, 1567, 20080, 20897, 24862, 88888, 89994, 90148, 90320, 90464, 91484, 92283, 130646, 130771, 130945, 132158, 132253, 132267, 132584, 132621, 132647, 132735, 132738, 133264, 133781, 133992, 134081, 134159, 134188, 146280, 150840], 'finish_time': 172800, 'active': [0, 546, 6552, 20082, 20898, 88843, 88889, 89994, 90205, 90320, 90464, 91736, 130597, 130647, 130772, 130946, 132158, 132253, 132459, 132605, 132622, 132648, 132735, 132778, 133285, 133846, 133993, 134084, 134161, 138496, 146291], 'model': 'SM-J810M'}\n",
      "\u001b[2m\u001b[36m(launch_and_fit pid=234588)\u001b[0m Client 1462 --- Predicted completion: 2990\n",
      "\u001b[2m\u001b[36m(launch_and_fit pid=234588)\u001b[0m Client 1462 --- isActive: False\n",
      "\u001b[2m\u001b[36m(launch_and_fit pid=234587)\u001b[0m Getting client with id 2902\n",
      "\u001b[2m\u001b[36m(launch_and_fit pid=234587)\u001b[0m Client 2902 --- Current virtual clock time: 1391.952242700838\n",
      "\u001b[2m\u001b[36m(launch_and_fit pid=234587)\u001b[0m Client 2902 --- Duration: 665.9818215907752\n",
      "\u001b[2m\u001b[36m(launch_and_fit pid=234587)\u001b[0m Client 2902 --- Traces: {'duration': 665.9818215907752, 'inactive': [119525, 123732, 130273, 136646, 136793, 171203, 191598, 208411, 209472, 209570, 210031, 210920, 215088, 217676, 258700, 281245, 287455, 302130, 306111, 306522, 321972, 361883, 362159, 362868, 363799, 396813, 429801, 433329, 458970, 483325, 516099, 516257], 'finish_time': 518400, 'active': [74, 121289, 128758, 131434, 136647, 139093, 176335, 202499, 209440, 209473, 209610, 210035, 214030, 216554, 227060, 262921, 286449, 294737, 304014, 306512, 313518, 357108, 361883, 362159, 362871, 390307, 399274, 432612, 433339, 476958, 514283, 516100], 'model': 'Redmi 4X'}\n",
      "\u001b[2m\u001b[36m(launch_and_fit pid=234587)\u001b[0m Client 2902 --- Predicted completion: 2056\n",
      "\u001b[2m\u001b[36m(launch_and_fit pid=234587)\u001b[0m Client 2902 --- isActive: True\n"
     ]
    },
    {
     "name": "stderr",
     "output_type": "stream",
     "text": [
      "  0%|          | 0/8 [00:00<?, ?it/s][0m \n",
      "  0%|          | 0/8 [00:00<?, ?it/s][0m \n"
     ]
    },
    {
     "name": "stdout",
     "output_type": "stream",
     "text": [
      "\u001b[2m\u001b[36m(launch_and_fit pid=234577)\u001b[0m Getting client with id 75\n",
      "\u001b[2m\u001b[36m(launch_and_fit pid=234577)\u001b[0m Client 75 --- Current virtual clock time: 1391.952242700838\n",
      "\u001b[2m\u001b[36m(launch_and_fit pid=234577)\u001b[0m Client 75 --- Duration: 2934.0096853169944\n",
      "\u001b[2m\u001b[36m(launch_and_fit pid=234577)\u001b[0m Client 75 --- Traces: {'duration': 2934.0096853169944, 'inactive': [26767, 122875, 124635, 139918, 217724, 285544], 'finish_time': 345600, 'active': [0, 112589, 123592, 125226, 213519, 263533], 'model': 'vivo 1904'}\n",
      "\u001b[2m\u001b[36m(launch_and_fit pid=234577)\u001b[0m Client 75 --- Predicted completion: 4325\n",
      "\u001b[2m\u001b[36m(launch_and_fit pid=234577)\u001b[0m Client 75 --- isActive: True\n",
      "\u001b[2m\u001b[36m(launch_and_fit pid=234580)\u001b[0m Getting client with id 2035\n",
      "\u001b[2m\u001b[36m(launch_and_fit pid=234583)\u001b[0m Getting client with id 2040\n",
      "\u001b[2m\u001b[36m(launch_and_fit pid=234583)\u001b[0m Client 2040 --- Current virtual clock time: 1391.952242700838\n",
      "\u001b[2m\u001b[36m(launch_and_fit pid=234583)\u001b[0m Client 2040 --- Duration: 1049.8973331279187\n",
      "\u001b[2m\u001b[36m(launch_and_fit pid=234583)\u001b[0m Client 2040 --- Traces: {'duration': 1049.8973331279187, 'inactive': [881, 931, 2042, 5740, 8018, 8577, 9491, 10004, 10044, 10692, 11110, 11387, 11534, 20999, 21146, 21251, 29719, 114653, 114668, 115266, 115380, 116237, 117534, 118499, 119855, 121800, 123836, 125875, 186214, 198425, 200712, 203352, 221998, 245872, 282534, 282544, 284223, 296817, 297843, 301805, 309973, 318187, 318610, 332838], 'finish_time': 345600, 'active': [0, 884, 1101, 2055, 5769, 8027, 8581, 9764, 10042, 10059, 10853, 11292, 11444, 20588, 21007, 21148, 29339, 114567, 114654, 114670, 115271, 115383, 116398, 117753, 118502, 120555, 121816, 125411, 185812, 192164, 199280, 201599, 221921, 222298, 282458, 282534, 282829, 295729, 296861, 300881, 309139, 316358, 318210, 318613], 'model': 'RMX1941'}\n",
      "\u001b[2m\u001b[36m(launch_and_fit pid=234583)\u001b[0m Client 2040 --- Predicted completion: 2440\n",
      "\u001b[2m\u001b[36m(launch_and_fit pid=234583)\u001b[0m Client 2040 --- isActive: True\n",
      "\u001b[2m\u001b[36m(launch_and_fit pid=234580)\u001b[0m Client 2035 --- Current virtual clock time: 1391.952242700838\n",
      "\u001b[2m\u001b[36m(launch_and_fit pid=234580)\u001b[0m Client 2035 --- Duration: 104.8773233736289\n",
      "\u001b[2m\u001b[36m(launch_and_fit pid=234580)\u001b[0m Client 2035 --- Traces: {'duration': 104.8773233736289, 'inactive': [3413, 51677, 51706, 70328, 122990], 'finish_time': 172800, 'active': [0, 51659, 51689, 52825, 110209], 'model': 'CPH1909'}\n",
      "\u001b[2m\u001b[36m(launch_and_fit pid=234580)\u001b[0m Client 2035 --- Predicted completion: 1495\n",
      "\u001b[2m\u001b[36m(launch_and_fit pid=234580)\u001b[0m Client 2035 --- isActive: True\n"
     ]
    },
    {
     "name": "stderr",
     "output_type": "stream",
     "text": [
      "  0%|          | 0/8 [00:00<?, ?it/s][0m \n",
      "  0%|          | 0/8 [00:00<?, ?it/s][0m \n",
      "  0%|          | 0/8 [00:00<?, ?it/s][0m \n"
     ]
    },
    {
     "name": "stdout",
     "output_type": "stream",
     "text": [
      "\u001b[2m\u001b[36m(launch_and_fit pid=234586)\u001b[0m Getting client with id 2962\n",
      "\u001b[2m\u001b[36m(launch_and_fit pid=234586)\u001b[0m Client 2962 --- Current virtual clock time: 1391.952242700838\n",
      "\u001b[2m\u001b[36m(launch_and_fit pid=234586)\u001b[0m Client 2962 --- Duration: 137.58885831410655\n",
      "\u001b[2m\u001b[36m(launch_and_fit pid=234586)\u001b[0m Client 2962 --- Traces: {'duration': 137.58885831410655, 'inactive': [15290], 'finish_time': 86400, 'active': [671], 'model': 'Lenovo TB-7304I'}\n",
      "\u001b[2m\u001b[36m(launch_and_fit pid=234586)\u001b[0m Client 2962 --- Predicted completion: 1528\n",
      "\u001b[2m\u001b[36m(launch_and_fit pid=234586)\u001b[0m Client 2962 --- isActive: True\n"
     ]
    },
    {
     "name": "stderr",
     "output_type": "stream",
     "text": [
      " 12%|█▎        | 1/8 [00:00<00:05,  1.20it/s]\n",
      " 12%|█▎        | 1/8 [00:01<00:08,  1.27s/it]\n",
      " 12%|█▎        | 1/8 [00:00<00:04,  1.48it/s]\n",
      " 12%|█▎        | 1/8 [00:00<00:05,  1.32it/s]\n",
      " 12%|█▎        | 1/8 [00:01<00:08,  1.15s/it]\n",
      " 25%|██▌       | 2/8 [00:01<00:03,  1.57it/s]\n",
      " 12%|█▎        | 1/8 [00:00<00:06,  1.08it/s]\n",
      " 25%|██▌       | 2/8 [00:01<00:05,  1.12it/s]\n",
      " 25%|██▌       | 2/8 [00:01<00:03,  1.74it/s]\n",
      "  0%|          | 0/8 [00:00<?, ?it/s][0m \n"
     ]
    },
    {
     "name": "stdout",
     "output_type": "stream",
     "text": [
      "\u001b[2m\u001b[36m(launch_and_fit pid=234633)\u001b[0m Getting client with id 1075\n",
      "\u001b[2m\u001b[36m(launch_and_fit pid=234633)\u001b[0m Client 1075 --- Current virtual clock time: 1391.952242700838\n",
      "\u001b[2m\u001b[36m(launch_and_fit pid=234633)\u001b[0m Client 1075 --- Duration: 446.4704257051686\n",
      "\u001b[2m\u001b[36m(launch_and_fit pid=234633)\u001b[0m Client 1075 --- Traces: {'duration': 446.4704257051686, 'inactive': [205, 2521, 16597, 34432, 35295, 35821, 43411, 44953, 63531], 'finish_time': 86400, 'active': [204, 238, 9502, 34363, 34472, 35589, 42756, 43440, 61431], 'model': 'Infinix X653C'}\n",
      "\u001b[2m\u001b[36m(launch_and_fit pid=234633)\u001b[0m Client 1075 --- Predicted completion: 1837\n",
      "\u001b[2m\u001b[36m(launch_and_fit pid=234633)\u001b[0m Client 1075 --- isActive: True\n"
     ]
    },
    {
     "name": "stderr",
     "output_type": "stream",
     "text": [
      " 25%|██▌       | 2/8 [00:01<00:04,  1.40it/s]\n",
      " 38%|███▊      | 3/8 [00:01<00:03,  1.56it/s]\n",
      " 25%|██▌       | 2/8 [00:01<00:05,  1.13it/s]\n",
      " 25%|██▌       | 2/8 [00:01<00:04,  1.37it/s]\n",
      " 38%|███▊      | 3/8 [00:01<00:02,  1.81it/s]\n",
      " 38%|███▊      | 3/8 [00:02<00:04,  1.22it/s]\n",
      " 38%|███▊      | 3/8 [00:01<00:03,  1.63it/s]\n",
      " 50%|█████     | 4/8 [00:02<00:02,  1.77it/s]\n",
      " 50%|█████     | 4/8 [00:02<00:02,  1.78it/s]\n",
      " 38%|███▊      | 3/8 [00:02<00:03,  1.45it/s]\n",
      " 50%|█████     | 4/8 [00:02<00:02,  1.70it/s]\n",
      " 38%|███▊      | 3/8 [00:02<00:04,  1.15it/s]\n",
      " 62%|██████▎   | 5/8 [00:02<00:01,  1.83it/s]\n",
      " 50%|█████     | 4/8 [00:03<00:03,  1.32it/s]\n",
      " 12%|█▎        | 1/8 [00:01<00:10,  1.50s/it]\n",
      " 62%|██████▎   | 5/8 [00:02<00:01,  1.85it/s]\n",
      " 50%|█████     | 4/8 [00:02<00:02,  1.65it/s]\n",
      " 75%|███████▌  | 6/8 [00:03<00:01,  1.86it/s]\n",
      " 62%|██████▎   | 5/8 [00:03<00:01,  1.54it/s]\n",
      " 62%|██████▎   | 5/8 [00:04<00:02,  1.30it/s]\n",
      " 50%|█████     | 4/8 [00:03<00:03,  1.16it/s]\n",
      " 62%|██████▎   | 5/8 [00:03<00:01,  1.73it/s]\n",
      " 75%|███████▌  | 6/8 [00:03<00:01,  1.79it/s]\n",
      " 88%|████████▊ | 7/8 [00:03<00:00,  1.97it/s]\n",
      " 25%|██▌       | 2/8 [00:02<00:06,  1.04s/it]\n",
      " 75%|███████▌  | 6/8 [00:03<00:01,  1.85it/s]\n",
      " 75%|███████▌  | 6/8 [00:03<00:01,  1.59it/s]\n",
      " 88%|████████▊ | 7/8 [00:03<00:00,  1.86it/s]\n",
      "100%|██████████| 8/8 [00:04<00:00,  1.79it/s]\n",
      " 38%|███▊      | 3/8 [00:02<00:04,  1.20it/s]\n",
      " 62%|██████▎   | 5/8 [00:04<00:02,  1.25it/s]\n",
      " 75%|███████▌  | 6/8 [00:04<00:01,  1.26it/s]\n",
      " 88%|████████▊ | 7/8 [00:04<00:00,  1.73it/s]\n",
      "100%|██████████| 8/8 [00:04<00:00,  1.85it/s]\n",
      " 88%|████████▊ | 7/8 [00:04<00:00,  1.82it/s]\n",
      " 50%|█████     | 4/8 [00:03<00:02,  1.34it/s]\n",
      " 75%|███████▌  | 6/8 [00:04<00:01,  1.34it/s]\n",
      "100%|██████████| 8/8 [00:04<00:00,  1.67it/s]\n",
      " 88%|████████▊ | 7/8 [00:05<00:00,  1.27it/s]\n",
      "100%|██████████| 8/8 [00:05<00:00,  1.60it/s]\n",
      " 88%|████████▊ | 7/8 [00:05<00:00,  1.38it/s]\n",
      " 62%|██████▎   | 5/8 [00:04<00:02,  1.32it/s]\n",
      "100%|██████████| 8/8 [00:06<00:00,  1.24it/s]\n",
      "100%|██████████| 8/8 [00:06<00:00,  1.29it/s]\n",
      " 75%|███████▌  | 6/8 [00:04<00:01,  1.41it/s]\n",
      " 88%|████████▊ | 7/8 [00:05<00:00,  1.71it/s]\n",
      "100%|██████████| 8/8 [00:05<00:00,  1.47it/s]\n",
      "230373 DEBUG flwr 2023-03-21 23:45:19,622 | ray_client_proxy.py:87 | \u001b[36mray::launch_and_fit()\u001b[39m (pid=234986, ip=10.9.7.124)\n",
      "  File \"/home/wash/LARGE/Work/L361_project/flower_fedbuff_project/src/py/flwr/simulation/ray_transport/ray_client_proxy.py\", line 148, in launch_and_fit\n",
      "    return maybe_call_fit(\n",
      "  File \"/home/wash/LARGE/Work/L361_project/flower_fedbuff_project/src/py/flwr/client/client.py\", line 184, in maybe_call_fit\n",
      "    return client.fit(fit_ins)\n",
      "  File \"/home/wash/LARGE/Work/L361_project/flower_fedbuff_project/src/py/flwr/client/app.py\", line 275, in _fit\n",
      "    results = self.numpy_client.fit(parameters, ins.config)  # type: ignore\n",
      "  File \"/tmp/ipykernel_230373/2728577686.py\", line 79, in fit\n",
      "Exception: Client 2258 is not active at the current time step\n"
     ]
    },
    {
     "name": "stdout",
     "output_type": "stream",
     "text": [
      "\u001b[2m\u001b[36m(launch_and_fit pid=234986)\u001b[0m Getting client with id 2258\n",
      "\u001b[2m\u001b[36m(launch_and_fit pid=234986)\u001b[0m Client 2258 --- Current virtual clock time: 1391.952242700838\n",
      "\u001b[2m\u001b[36m(launch_and_fit pid=234986)\u001b[0m Client 2258 --- Duration: 1032.0027001792835\n",
      "\u001b[2m\u001b[36m(launch_and_fit pid=234986)\u001b[0m Client 2258 --- Traces: {'duration': 1032.0027001792835, 'inactive': [1448, 25501, 26440, 28876, 28959, 29006, 29692, 30436, 35161, 52643, 65757, 80895, 84544, 112342, 116559, 120661, 137605, 152293, 197680, 206900, 244717, 248771, 298789, 338819, 389099, 399835, 407219, 410746, 413724], 'finish_time': 432000, 'active': [0, 23776, 25502, 28817, 28881, 28969, 29683, 29798, 34320, 45288, 60919, 80833, 80916, 111009, 113162, 116604, 133418, 148482, 192549, 204597, 241414, 247697, 295067, 323990, 382386, 398219, 407166, 407230, 412855], 'model': 'vivo 1819'}\n",
      "\u001b[2m\u001b[36m(launch_and_fit pid=234986)\u001b[0m Client 2258 --- Predicted completion: 2423\n",
      "\u001b[2m\u001b[36m(launch_and_fit pid=234986)\u001b[0m Client 2258 --- isActive: False\n"
     ]
    },
    {
     "name": "stderr",
     "output_type": "stream",
     "text": [
      "230373 DEBUG flwr 2023-03-21 23:45:20,405 | ray_client_proxy.py:87 | \u001b[36mray::launch_and_fit()\u001b[39m (pid=237606, ip=10.9.7.124)\n",
      "  File \"/home/wash/LARGE/Work/L361_project/flower_fedbuff_project/src/py/flwr/simulation/ray_transport/ray_client_proxy.py\", line 148, in launch_and_fit\n",
      "    return maybe_call_fit(\n",
      "  File \"/home/wash/LARGE/Work/L361_project/flower_fedbuff_project/src/py/flwr/client/client.py\", line 184, in maybe_call_fit\n",
      "    return client.fit(fit_ins)\n",
      "  File \"/home/wash/LARGE/Work/L361_project/flower_fedbuff_project/src/py/flwr/client/app.py\", line 275, in _fit\n",
      "    results = self.numpy_client.fit(parameters, ins.config)  # type: ignore\n",
      "  File \"/tmp/ipykernel_230373/2728577686.py\", line 79, in fit\n",
      "Exception: Client 2957 is not active at the current time step\n",
      "230373 DEBUG flwr 2023-03-21 23:45:20,408 | server.py:279 | fit_round 2 received 7 results and 3 failures\n",
      "230373 INFO flwr 2023-03-21 23:45:20,408 | strategy.py:186 | Completion times of clients: [446.4704257051686, 296.5387975793243, 104.8773233736289, 137.58885831410655, 665.9818215907752, 2934.0096853169944, 1049.8973331279187]\n",
      "230373 INFO flwr 2023-03-21 23:45:20,409 | strategy.py:188 | Maximum completion time of clients: 2934.0096853169944\n"
     ]
    },
    {
     "name": "stdout",
     "output_type": "stream",
     "text": [
      "Server round 2\n"
     ]
    },
    {
     "name": "stderr",
     "output_type": "stream",
     "text": [
      "  0%|          | 2/891 [00:00<00:52, 17.08it/s]"
     ]
    },
    {
     "name": "stdout",
     "output_type": "stream",
     "text": [
      "\u001b[2m\u001b[36m(launch_and_fit pid=237606)\u001b[0m Getting client with id 2957\n",
      "\u001b[2m\u001b[36m(launch_and_fit pid=237606)\u001b[0m Client 2957 --- Current virtual clock time: 1391.952242700838\n",
      "\u001b[2m\u001b[36m(launch_and_fit pid=237606)\u001b[0m Client 2957 --- Duration: 713.5324543804035\n",
      "\u001b[2m\u001b[36m(launch_and_fit pid=237606)\u001b[0m Client 2957 --- Traces: {'duration': 713.5324543804035, 'inactive': [1076, 1420, 2162, 2466, 15408, 15631, 15803, 16715, 16895, 17122, 17238, 18803, 34816, 41559, 45154, 45584, 87177, 87287, 87307, 87827, 95200, 114768, 116395, 116845, 118366, 121295, 121530, 122032, 122120, 122145, 122358, 171184, 171443, 173296, 173919, 181763, 192028, 192066, 192751, 193906, 208601, 208642, 208644, 209004, 209130, 209645, 209736, 210173, 210490, 210566], 'finish_time': 259200, 'active': [0, 1077, 1420, 2163, 13740, 15409, 15635, 15803, 16715, 16896, 17122, 18800, 33854, 41148, 44556, 45533, 86303, 87178, 87287, 87307, 92558, 114341, 114768, 116843, 118291, 119945, 121298, 121532, 122034, 122121, 122145, 170931, 171257, 171444, 173297, 179377, 191880, 192040, 192067, 192752, 208505, 208601, 208642, 208718, 209010, 209170, 209651, 209739, 210174, 210490], 'model': 'SM-J260M'}\n",
      "\u001b[2m\u001b[36m(launch_and_fit pid=237606)\u001b[0m Client 2957 --- Predicted completion: 2104\n",
      "\u001b[2m\u001b[36m(launch_and_fit pid=237606)\u001b[0m Client 2957 --- isActive: False\n"
     ]
    },
    {
     "name": "stderr",
     "output_type": "stream",
     "text": [
      "100%|██████████| 891/891 [00:08<00:00, 105.65it/s]\n",
      "230373 INFO flwr 2023-03-21 23:45:28,862 | server.py:140 | fit progress: (2, 3113.9878916740417, {'accuracy': 0.08025254296737987, 'eval_time': 4325.961928017832}, 49.44390990299871)\n",
      "230373 INFO flwr 2023-03-21 23:45:28,863 | server.py:190 | evaluate_round 2: no clients selected, cancel\n",
      "230373 INFO flwr 2023-03-21 23:45:28,870 | client_manager.py:49 | Sampling using <__main__.ActivityCriterion object at 0x7f6eba6c5300>\n",
      "230373 DEBUG flwr 2023-03-21 23:45:28,871 | server.py:255 | fit_round 3: strategy sampled 10 clients (out of 3229)\n"
     ]
    },
    {
     "name": "stdout",
     "output_type": "stream",
     "text": [
      "Sampled the following clients:  ['2517', '2988', '2483', '529', '808', '934', '3098', '2853', '1150', '925']\n",
      "\u001b[2m\u001b[36m(launch_and_fit pid=238491)\u001b[0m Getting client with id 2483\n",
      "\u001b[2m\u001b[36m(launch_and_fit pid=238491)\u001b[0m Client 2483 --- Current virtual clock time: 4325.961928017832\n",
      "\u001b[2m\u001b[36m(launch_and_fit pid=238491)\u001b[0m Client 2483 --- Duration: 310.00056840765023\n",
      "\u001b[2m\u001b[36m(launch_and_fit pid=238491)\u001b[0m Client 2483 --- Traces: {'duration': 310.00056840765023, 'inactive': [5915, 52414, 79412, 143652, 168531, 168625, 271346, 284884, 291111, 339192, 339194, 340735, 341241, 343795], 'finish_time': 345600, 'active': [1910, 8919, 78596, 87465, 168508, 168575, 268547, 274825, 285816, 338818, 339193, 339686, 340890, 341495], 'model': 'SM-G9600'}\n",
      "\u001b[2m\u001b[36m(launch_and_fit pid=238491)\u001b[0m Client 2483 --- Predicted completion: 4635\n",
      "\u001b[2m\u001b[36m(launch_and_fit pid=238491)\u001b[0m Client 2483 --- isActive: True\n"
     ]
    },
    {
     "name": "stderr",
     "output_type": "stream",
     "text": [
      "  0%|          | 0/8 [00:00<?, ?it/s][0m \n",
      "  0%|          | 0/8 [00:00<?, ?it/s][0m \n"
     ]
    },
    {
     "name": "stdout",
     "output_type": "stream",
     "text": [
      "\u001b[2m\u001b[36m(launch_and_fit pid=238488)\u001b[0m Getting client with id 2988\n",
      "\u001b[2m\u001b[36m(launch_and_fit pid=238488)\u001b[0m Client 2988 --- Current virtual clock time: 4325.961928017832\n",
      "\u001b[2m\u001b[36m(launch_and_fit pid=238488)\u001b[0m Client 2988 --- Duration: 674.7452167252973\n",
      "\u001b[2m\u001b[36m(launch_and_fit pid=238488)\u001b[0m Client 2988 --- Traces: {'duration': 674.7452167252973, 'inactive': [1, 179, 9794, 20301, 20402, 20419, 20461, 20480, 20499, 20522, 20606, 20626, 20653, 20683, 20706, 20740, 20763, 20786, 20820, 20835, 20858, 20875, 20902, 20924, 20952, 20988, 21009, 21026, 21045, 21064, 21081, 21097, 21123, 21141, 21162, 21180, 21204, 21232, 21260, 21278, 21296, 21316, 21335, 21356, 21371, 21391, 21413, 21431, 21452, 21469, 21492, 21509, 21526, 21549, 21567, 21585, 21594, 127760, 131310, 131350, 131462, 131489, 131539, 131556, 131579, 131619, 131645, 131664, 131681, 131699, 131723, 131753, 131766, 132096, 132115, 132140, 132170, 132197, 132221, 132240, 132260, 132282, 132299, 132323, 206167, 206187, 206215, 206242, 206271, 206287, 206316, 206343, 206370, 206396, 206412, 206429], 'finish_time': 259200, 'active': [0, 61, 188, 15233, 20301, 20402, 20419, 20461, 20480, 20499, 20522, 20606, 20626, 20654, 20683, 20707, 20741, 20764, 20787, 20820, 20836, 20858, 20875, 20902, 20925, 20952, 20988, 21009, 21027, 21046, 21065, 21081, 21098, 21123, 21141, 21162, 21180, 21205, 21232, 21260, 21279, 21297, 21317, 21336, 21356, 21372, 21391, 21413, 21432, 21453, 21469, 21493, 21510, 21527, 21550, 21568, 21585, 88249, 127840, 131310, 131350, 131463, 131490, 131539, 131556, 131580, 131620, 131645, 131664, 131681, 131700, 131723, 131753, 132074, 132096, 132116, 132141, 132170, 132197, 132221, 132241, 132260, 132282, 132299, 132323, 206168, 206188, 206216, 206243, 206272, 206288, 206317, 206344, 206371, 206397, 206413], 'model': 'Redmi 5A'}\n",
      "\u001b[2m\u001b[36m(launch_and_fit pid=238488)\u001b[0m Client 2988 --- Predicted completion: 4999\n",
      "\u001b[2m\u001b[36m(launch_and_fit pid=238488)\u001b[0m Client 2988 --- isActive: True\n",
      "\u001b[2m\u001b[36m(launch_and_fit pid=238486)\u001b[0m Getting client with id 2517\n",
      "\u001b[2m\u001b[36m(launch_and_fit pid=238486)\u001b[0m Client 2517 --- Current virtual clock time: 4325.961928017832\n",
      "\u001b[2m\u001b[36m(launch_and_fit pid=238486)\u001b[0m Client 2517 --- Duration: 244.82024872989444\n",
      "\u001b[2m\u001b[36m(launch_and_fit pid=238486)\u001b[0m Client 2517 --- Traces: {'duration': 244.82024872989444, 'inactive': [9658, 14773, 31771, 48449, 60080, 84215, 131619, 131622, 143606, 146460, 165358, 171049], 'finish_time': 172800, 'active': [0, 10786, 14881, 40445, 57323, 81600, 127303, 131619, 143292, 144026, 163389, 168781], 'model': 'SM-G530H'}\n",
      "\u001b[2m\u001b[36m(launch_and_fit pid=238486)\u001b[0m Client 2517 --- Predicted completion: 4569\n",
      "\u001b[2m\u001b[36m(launch_and_fit pid=238486)\u001b[0m Client 2517 --- isActive: True\n",
      "\u001b[2m\u001b[36m(launch_and_fit pid=238495)\u001b[0m Getting client with id 934\n"
     ]
    },
    {
     "name": "stderr",
     "output_type": "stream",
     "text": [
      "  0%|          | 0/8 [00:00<?, ?it/s][0m \n",
      "  0%|          | 0/8 [00:00<?, ?it/s][0m \n",
      "  0%|          | 0/8 [00:00<?, ?it/s][0m \n"
     ]
    },
    {
     "name": "stdout",
     "output_type": "stream",
     "text": [
      "\u001b[2m\u001b[36m(launch_and_fit pid=238493)\u001b[0m Getting client with id 529\n",
      "\u001b[2m\u001b[36m(launch_and_fit pid=238494)\u001b[0m Getting client with id 808\n",
      "\u001b[2m\u001b[36m(launch_and_fit pid=238494)\u001b[0m Client 808 --- Current virtual clock time: 4325.961928017832\n",
      "\u001b[2m\u001b[36m(launch_and_fit pid=238494)\u001b[0m Client 808 --- Duration: 481.106196547328\n",
      "\u001b[2m\u001b[36m(launch_and_fit pid=238494)\u001b[0m Client 808 --- Traces: {'duration': 481.106196547328, 'inactive': [1793, 1861, 1894, 2995, 3246, 3327, 3418, 3576, 5701, 8858, 18719, 18971, 114797, 116893, 120333, 175338, 178028, 190302, 191645, 224188, 243291, 282621, 339453, 339879, 341339], 'finish_time': 345600, 'active': [695, 1794, 1863, 2011, 2995, 3246, 3336, 3419, 3577, 7323, 10388, 18719, 114688, 114798, 116894, 175078, 175339, 189288, 190302, 220875, 224192, 276571, 336714, 339463, 339880], 'model': 'RMX1941'}\n",
      "\u001b[2m\u001b[36m(launch_and_fit pid=238494)\u001b[0m Client 808 --- Predicted completion: 4806\n",
      "\u001b[2m\u001b[36m(launch_and_fit pid=238494)\u001b[0m Client 808 --- isActive: True\n",
      "\u001b[2m\u001b[36m(launch_and_fit pid=238495)\u001b[0m Client 934 --- Current virtual clock time: 4325.961928017832\n",
      "\u001b[2m\u001b[36m(launch_and_fit pid=238495)\u001b[0m Client 934 --- Duration: 563.474196547328\n",
      "\u001b[2m\u001b[36m(launch_and_fit pid=238495)\u001b[0m Client 934 --- Traces: {'duration': 563.474196547328, 'inactive': [20339, 64735, 68130, 70413, 74571, 91281, 123451, 156049, 167704, 174320, 175914, 177499, 185345, 186138, 188380, 191746, 191767, 191769, 193180, 195497, 197466, 199360, 209472, 237362, 241182, 248028, 270827, 314130, 314686, 346461, 381852, 387567, 442684, 487498, 487682, 488326], 'finish_time': 518400, 'active': [692, 63659, 67378, 68179, 71180, 80636, 119432, 155697, 166267, 172028, 174321, 176327, 185057, 185472, 188081, 191728, 191747, 191767, 191914, 193180, 195888, 197474, 199367, 235420, 238078, 242558, 259653, 309736, 314328, 346362, 377914, 382840, 415937, 487221, 487498, 487683], 'model': 'SM-G570Y'}\n",
      "\u001b[2m\u001b[36m(launch_and_fit pid=238495)\u001b[0m Client 934 --- Predicted completion: 4888\n",
      "\u001b[2m\u001b[36m(launch_and_fit pid=238495)\u001b[0m Client 934 --- isActive: True\n",
      "\u001b[2m\u001b[36m(launch_and_fit pid=238496)\u001b[0m Getting client with id 3098\n",
      "\u001b[2m\u001b[36m(launch_and_fit pid=238493)\u001b[0m Client 529 --- Current virtual clock time: 4325.961928017832\n",
      "\u001b[2m\u001b[36m(launch_and_fit pid=238493)\u001b[0m Client 529 --- Duration: 1690.0852507211205\n",
      "\u001b[2m\u001b[36m(launch_and_fit pid=238493)\u001b[0m Client 529 --- Traces: {'duration': 1690.0852507211205, 'inactive': [2568, 6178], 'finish_time': 86400, 'active': [0, 2654], 'model': 'moto g(6) play'}\n",
      "\u001b[2m\u001b[36m(launch_and_fit pid=238493)\u001b[0m Client 529 --- Predicted completion: 6015\n",
      "\u001b[2m\u001b[36m(launch_and_fit pid=238493)\u001b[0m Client 529 --- isActive: True\n",
      "\u001b[2m\u001b[36m(launch_and_fit pid=238496)\u001b[0m Client 3098 --- Current virtual clock time: 4325.961928017832\n",
      "\u001b[2m\u001b[36m(launch_and_fit pid=238496)\u001b[0m Client 3098 --- Duration: 563.2674644510255\n",
      "\u001b[2m\u001b[36m(launch_and_fit pid=238496)\u001b[0m Client 3098 --- Traces: {'duration': 563.2674644510255, 'inactive': [1764, 1933, 2095, 2755, 2806, 2814, 2867, 3019, 3272, 3399, 3471, 3498, 4077, 4131, 4582, 4762, 4780, 4824, 4875, 4894, 5086, 5125, 5393, 5423, 5485, 5508, 5531, 5661, 5709, 5769, 5818, 5846, 5868, 5909, 5966, 6072, 6076, 6598, 7000, 7025, 7102, 7149, 7165, 7267, 7372, 7504, 7545, 7609, 7715, 7742, 7847, 7971, 8062, 8092, 8131, 8150, 8427, 8582, 8864, 8903, 9293, 9565, 9580, 9648, 9673, 9725, 9784, 9808, 9848, 9873, 9896, 9916, 9952, 9976, 10010, 10023, 10051, 10117, 10240, 10286, 10317, 10388, 10411, 10448, 10479, 10504, 10582, 10638, 10671, 10698, 10869, 10887, 10998, 11162, 11204, 11242, 11334, 11428, 11495, 11516, 11563, 11605, 11719, 11762, 11800, 11901, 11944, 11981, 12052, 12140, 12217, 12288, 12312, 12367, 12402, 12421, 12435, 12452, 12540, 12563, 12684, 12727, 12766, 12855, 12898, 12925, 13041, 13063, 13076, 13107, 13146, 13180, 13278, 13372, 13393, 13402, 13428, 13466, 13497, 13630, 13671, 13705, 13892, 13910, 13926, 13931, 14017, 14069, 14204, 20123, 21707, 28614, 28659, 28679, 28701, 28723, 28776, 28795, 28812, 28841, 28876, 28895, 28907, 28927, 28960, 29086, 29128, 29161, 29225, 29257, 29386, 29398, 55170, 72238, 72241, 85630, 85680, 85683, 85837, 85861, 86015, 86049, 86188, 86298, 86428, 86467, 86812, 87342, 87377, 87481, 88381, 88726, 89112, 89451, 89483, 89494, 89634, 89665, 89695, 89727, 89763, 89778, 89825, 90507, 90706, 90790, 91138, 91783, 92722, 93147, 93262, 93275, 93423, 93532, 93770, 93801, 95868, 95990, 96428, 96466, 96488, 96987, 97088, 97110, 97132, 97202, 97906, 99928, 135930, 135975, 135983, 136020, 136034, 153229, 154762, 154764, 158415, 158450, 158490, 158583, 158656, 158882, 158922, 159161, 159500, 160661, 162894, 163173, 164657, 165570, 165966, 166027, 166122, 166363, 166379, 166403, 166471, 167087, 167201, 167277, 167402, 167482, 167555, 167584, 167757, 167772, 167802, 167851, 167881, 167981, 168291, 168346, 168420, 168577, 168766, 168877, 168900, 169082, 169099, 169209, 169372, 169605, 169994, 170038, 170053, 170065, 170139, 170193, 170220, 170250, 170989, 171294, 171583, 171632, 171690, 171719, 171877, 171894, 172845, 172849, 172930, 173015, 173021, 173064, 173105, 173288, 173346, 173368, 173533, 174660, 175062, 175085, 175094, 215765, 215780, 216066, 216093, 216360, 216458, 216584, 216611, 216630, 216844, 216927, 217056, 217274, 217338, 218440, 220697, 221754, 222055, 222064, 222120, 222172, 246715, 246727, 256498, 256527, 256546, 256672, 256873, 256951, 257099, 257123, 257255, 257288, 257323, 257357, 257390, 257583, 257596, 257624, 257714, 257752, 257770, 257786, 257870, 257914, 257969, 257993, 258036, 258089, 258140, 258161, 258211, 258220, 258271, 258311, 258340, 258437, 258446, 258515, 258564, 258651, 258668, 258685, 258703, 258720, 258754], 'finish_time': 259200, 'active': [1103, 1765, 2090, 2259, 2758, 2807, 2832, 2869, 3020, 3273, 3401, 3473, 3500, 4078, 4132, 4583, 4763, 4808, 4824, 4879, 4901, 5088, 5153, 5409, 5472, 5488, 5513, 5538, 5662, 5710, 5770, 5821, 5862, 5886, 5911, 5966, 6074, 6095, 6909, 7001, 7027, 7117, 7150, 7166, 7268, 7373, 7507, 7546, 7613, 7716, 7745, 7852, 7976, 8063, 8093, 8132, 8151, 8428, 8583, 8865, 8904, 9293, 9580, 9615, 9665, 9708, 9767, 9791, 9815, 9849, 9880, 9906, 9932, 9953, 9981, 10012, 10040, 10074, 10126, 10244, 10287, 10318, 10396, 10416, 10448, 10481, 10505, 10590, 10639, 10676, 10788, 10869, 10891, 10999, 11162, 11214, 11245, 11335, 11429, 11505, 11521, 11567, 11625, 11720, 11763, 11801, 11902, 11957, 11982, 12053, 12147, 12224, 12289, 12313, 12368, 12403, 12425, 12447, 12496, 12560, 12607, 12685, 12738, 12828, 12861, 12899, 12926, 13042, 13071, 13087, 13126, 13147, 13236, 13281, 13374, 13396, 13415, 13457, 13479, 13498, 13631, 13684, 13706, 13892, 13911, 13930, 13950, 14018, 14070, 14205, 20124, 28453, 28616, 28660, 28681, 28702, 28725, 28777, 28796, 28813, 28843, 28877, 28895, 28920, 28943, 28961, 29088, 29128, 29201, 29226, 29258, 29387, 53147, 57438, 72239, 85483, 85633, 85681, 85697, 85838, 85863, 86029, 86052, 86189, 86299, 86437, 86468, 86823, 87343, 87377, 88226, 88390, 88729, 89113, 89452, 89484, 89539, 89636, 89669, 89696, 89740, 89767, 89792, 89834, 90508, 90707, 90793, 91142, 92319, 92723, 93148, 93263, 93300, 93426, 93537, 93771, 94929, 95869, 95990, 96428, 96467, 96488, 96987, 97089, 97114, 97168, 97203, 99911, 99929, 135932, 135975, 135995, 136031, 149748, 153274, 154763, 157746, 158416, 158451, 158505, 158584, 158698, 158883, 158955, 159176, 159501, 161205, 162901, 164533, 165347, 165644, 165967, 166106, 166124, 166364, 166380, 166418, 166472, 167121, 167203, 167278, 167429, 167483, 167556, 167592, 167760, 167793, 167824, 167851, 167882, 167981, 168292, 168347, 168421, 168578, 168768, 168879, 168901, 169083, 169100, 169210, 169372, 169607, 169997, 170038, 170056, 170118, 170145, 170194, 170227, 170263, 170989, 171295, 171584, 171636, 171699, 171735, 171879, 172247, 172847, 172914, 172993, 173017, 173039, 173068, 173210, 173290, 173347, 173369, 174542, 175045, 175064, 175086, 215743, 215765, 215783, 216066, 216094, 216360, 216459, 216585, 216612, 216631, 216845, 216928, 217057, 217275, 217338, 218440, 220699, 221755, 222056, 222111, 222131, 222174, 246717, 256452, 256502, 256528, 256554, 256682, 256878, 256951, 257100, 257134, 257277, 257302, 257338, 257362, 257391, 257584, 257609, 257625, 257719, 257753, 257779, 257828, 257871, 257946, 257993, 258030, 258069, 258090, 258141, 258174, 258212, 258230, 258274, 258312, 258341, 258439, 258499, 258517, 258600, 258652, 258670, 258692, 258709, 258744], 'model': 'LG-M250'}\n",
      "\u001b[2m\u001b[36m(launch_and_fit pid=238496)\u001b[0m Client 3098 --- Predicted completion: 4888\n",
      "\u001b[2m\u001b[36m(launch_and_fit pid=238496)\u001b[0m Client 3098 --- isActive: True\n"
     ]
    },
    {
     "name": "stderr",
     "output_type": "stream",
     "text": [
      "  0%|          | 0/8 [00:00<?, ?it/s][0m \n",
      "  0%|          | 0/8 [00:00<?, ?it/s][0m \n",
      " 12%|█▎        | 1/8 [00:00<00:04,  1.51it/s]\n",
      " 12%|█▎        | 1/8 [00:00<00:03,  2.05it/s]\n",
      " 12%|█▎        | 1/8 [00:00<00:04,  1.59it/s]\n",
      " 12%|█▎        | 1/8 [00:00<00:03,  1.76it/s]\n"
     ]
    },
    {
     "name": "stdout",
     "output_type": "stream",
     "text": [
      "\u001b[2m\u001b[36m(launch_and_fit pid=238541)\u001b[0m Getting client with id 1150\n",
      "\u001b[2m\u001b[36m(launch_and_fit pid=238541)\u001b[0m Client 1150 --- Current virtual clock time: 4325.961928017832\n",
      "\u001b[2m\u001b[36m(launch_and_fit pid=238541)\u001b[0m Client 1150 --- Duration: 370.3212014721119\n",
      "\u001b[2m\u001b[36m(launch_and_fit pid=238541)\u001b[0m Client 1150 --- Traces: {'duration': 370.3212014721119, 'inactive': [44, 3700, 5538, 25213, 26681, 30289, 39516, 45213, 45282, 45362, 45471, 45647, 45903, 45922, 46262, 46458, 50130, 50233, 58537, 59956, 63756, 81459, 94185, 94226, 94279, 94394, 98804, 104846, 109836, 111307, 111998, 112025, 116885, 125344, 130723, 158471, 159969, 175428, 175433, 175525, 175988, 176495, 176562, 176640, 177700, 177826, 178233, 178498, 178538, 178559, 178710, 178819, 178829, 193278, 193306, 193393, 193525, 226826, 235399, 244240, 246421, 249340, 249504, 249821, 249869, 252675, 252989, 253450, 253566, 257821, 258093, 258149, 287521, 289820, 304691, 310746, 313154, 319692, 326586, 329326, 340313, 341130, 345247, 345364, 345948, 346637, 346689, 346898, 347223, 353519, 353548, 356838, 359305, 359328, 384725, 390861, 396253, 402198, 404790, 410026, 440234, 442104, 442360, 444077, 444145, 461401, 462282, 465792, 478120, 480779, 480781, 494671, 501068, 505392], 'finish_time': 518400, 'active': [0, 997, 3723, 5540, 25218, 26683, 30868, 42902, 45214, 45283, 45363, 45473, 45649, 45906, 45924, 46263, 48286, 50132, 58461, 58575, 60822, 77443, 90734, 94219, 94239, 94283, 94395, 98805, 109826, 111306, 111329, 111999, 112033, 117667, 125527, 157099, 159446, 175414, 175430, 175474, 175664, 175990, 176520, 176562, 176641, 177701, 177902, 178234, 178498, 178539, 178559, 178736, 178819, 193263, 193283, 193333, 193397, 223051, 231581, 242627, 245571, 248966, 249341, 249506, 249824, 249871, 252677, 252991, 253456, 257589, 257821, 258093, 262969, 287524, 303760, 305492, 312243, 317249, 325877, 328999, 330331, 340925, 345244, 345294, 345366, 346524, 346638, 346690, 347033, 347225, 353519, 353558, 358918, 359305, 359328, 387831, 393962, 401037, 403622, 408853, 439861, 440287, 442108, 442389, 444078, 444212, 461407, 462323, 469792, 478828, 480779, 487747, 500649, 501073], 'model': 'SM-C710F'}\n",
      "\u001b[2m\u001b[36m(launch_and_fit pid=238541)\u001b[0m Client 1150 --- Predicted completion: 4695\n",
      "\u001b[2m\u001b[36m(launch_and_fit pid=238541)\u001b[0m Client 1150 --- isActive: True\n"
     ]
    },
    {
     "name": "stderr",
     "output_type": "stream",
     "text": [
      " 25%|██▌       | 2/8 [00:01<00:03,  1.80it/s]\n",
      " 25%|██▌       | 2/8 [00:00<00:02,  2.16it/s]\n",
      " 12%|█▎        | 1/8 [00:00<00:04,  1.59it/s]\n",
      "  0%|          | 0/8 [00:00<?, ?it/s][0m \n",
      " 25%|██▌       | 2/8 [00:01<00:03,  1.91it/s]\n",
      " 12%|█▎        | 1/8 [00:00<00:06,  1.04it/s]\n",
      " 25%|██▌       | 2/8 [00:01<00:03,  1.91it/s]\n",
      " 12%|█▎        | 1/8 [00:01<00:07,  1.10s/it]\n",
      " 38%|███▊      | 3/8 [00:01<00:02,  2.18it/s]\n",
      " 25%|██▌       | 2/8 [00:01<00:03,  1.58it/s]\n",
      " 38%|███▊      | 3/8 [00:02<00:03,  1.44it/s]\n",
      " 38%|███▊      | 3/8 [00:01<00:02,  1.75it/s]\n",
      " 38%|███▊      | 3/8 [00:01<00:03,  1.62it/s]\n",
      " 50%|█████     | 4/8 [00:01<00:02,  1.96it/s]\n",
      " 38%|███▊      | 3/8 [00:01<00:02,  1.82it/s]\n",
      " 12%|█▎        | 1/8 [00:01<00:07,  1.07s/it]\n",
      " 25%|██▌       | 2/8 [00:01<00:05,  1.09it/s]\n",
      " 50%|█████     | 4/8 [00:02<00:02,  1.94it/s]\n",
      " 25%|██▌       | 2/8 [00:02<00:06,  1.07s/it]\n",
      " 50%|█████     | 4/8 [00:02<00:02,  1.75it/s]\n",
      " 50%|█████     | 4/8 [00:02<00:02,  1.55it/s]\n",
      " 50%|█████     | 4/8 [00:02<00:02,  1.94it/s]\n",
      " 62%|██████▎   | 5/8 [00:02<00:01,  1.75it/s]\n",
      " 25%|██▌       | 2/8 [00:01<00:04,  1.25it/s]\n",
      " 62%|██████▎   | 5/8 [00:02<00:01,  2.07it/s]\n",
      " 38%|███▊      | 3/8 [00:02<00:04,  1.18it/s]\n",
      " 62%|██████▎   | 5/8 [00:03<00:01,  1.69it/s]\n",
      " 38%|███▊      | 3/8 [00:02<00:04,  1.12it/s]\n",
      " 62%|██████▎   | 5/8 [00:02<00:01,  2.05it/s]\n",
      " 62%|██████▎   | 5/8 [00:02<00:01,  1.68it/s]\n",
      " 38%|███▊      | 3/8 [00:02<00:03,  1.49it/s]\n",
      " 75%|███████▌  | 6/8 [00:03<00:00,  2.01it/s]\n",
      " 75%|███████▌  | 6/8 [00:03<00:01,  1.63it/s]\n",
      " 75%|███████▌  | 6/8 [00:03<00:00,  2.01it/s]\n",
      " 50%|█████     | 4/8 [00:03<00:03,  1.25it/s]\n",
      " 75%|███████▌  | 6/8 [00:03<00:01,  1.60it/s]\n",
      " 75%|███████▌  | 6/8 [00:03<00:01,  1.61it/s]\n",
      " 88%|████████▊ | 7/8 [00:03<00:00,  2.11it/s]\n",
      " 50%|█████     | 4/8 [00:03<00:03,  1.21it/s]\n",
      " 50%|█████     | 4/8 [00:02<00:02,  1.59it/s]\n",
      " 88%|████████▊ | 7/8 [00:03<00:00,  1.81it/s]\n",
      " 88%|████████▊ | 7/8 [00:04<00:00,  1.73it/s]\n",
      " 88%|████████▊ | 7/8 [00:03<00:00,  1.88it/s]\n",
      "100%|██████████| 8/8 [00:03<00:00,  2.01it/s]\n",
      "100%|██████████| 8/8 [00:04<00:00,  1.88it/s]\n",
      " 62%|██████▎   | 5/8 [00:03<00:01,  1.72it/s]\n",
      " 62%|██████▎   | 5/8 [00:04<00:02,  1.30it/s]\n",
      " 88%|████████▊ | 7/8 [00:04<00:00,  1.53it/s]\n",
      "100%|██████████| 8/8 [00:04<00:00,  1.67it/s]\n",
      " 62%|██████▎   | 5/8 [00:04<00:02,  1.18it/s]\n",
      "100%|██████████| 8/8 [00:04<00:00,  1.89it/s]\n",
      " 75%|███████▌  | 6/8 [00:03<00:01,  1.85it/s]\n",
      "100%|██████████| 8/8 [00:04<00:00,  1.63it/s]\n",
      " 75%|███████▌  | 6/8 [00:04<00:01,  1.38it/s]\n",
      " 88%|████████▊ | 7/8 [00:04<00:00,  1.97it/s]\n",
      " 75%|███████▌  | 6/8 [00:05<00:01,  1.32it/s]\n",
      " 88%|████████▊ | 7/8 [00:05<00:00,  1.51it/s]\n",
      "100%|██████████| 8/8 [00:04<00:00,  1.75it/s]\n",
      " 88%|████████▊ | 7/8 [00:05<00:00,  1.28it/s]\n",
      "100%|██████████| 8/8 [00:06<00:00,  1.33it/s]\n",
      "100%|██████████| 8/8 [00:06<00:00,  1.18it/s]\n"
     ]
    },
    {
     "name": "stdout",
     "output_type": "stream",
     "text": [
      "\u001b[2m\u001b[36m(launch_and_fit pid=242035)\u001b[0m Getting client with id 2853\n",
      "\u001b[2m\u001b[36m(launch_and_fit pid=242035)\u001b[0m Client 2853 --- Current virtual clock time: 4325.961928017832\n",
      "\u001b[2m\u001b[36m(launch_and_fit pid=242035)\u001b[0m Client 2853 --- Duration: 904.8614010515907\n",
      "\u001b[2m\u001b[36m(launch_and_fit pid=242035)\u001b[0m Client 2853 --- Traces: {'duration': 904.8614010515907, 'inactive': [32517, 57397, 136822, 215410, 253375, 256295, 256428, 256582, 256785, 287924, 378625, 400070, 429914, 488710, 488718, 509572], 'finish_time': 518400, 'active': [123, 50697, 118949, 205276, 250805, 255988, 256295, 256429, 256583, 256786, 348620, 379644, 420358, 466422, 488711, 507057], 'model': 'CPH1605'}\n",
      "\u001b[2m\u001b[36m(launch_and_fit pid=242035)\u001b[0m Client 2853 --- Predicted completion: 5229\n",
      "\u001b[2m\u001b[36m(launch_and_fit pid=242035)\u001b[0m Client 2853 --- isActive: True\n",
      "\u001b[2m\u001b[36m(launch_and_fit pid=242130)\u001b[0m Getting client with id 925\n",
      "\u001b[2m\u001b[36m(launch_and_fit pid=242130)\u001b[0m Client 925 --- Current virtual clock time: 4325.961928017832\n",
      "\u001b[2m\u001b[36m(launch_and_fit pid=242130)\u001b[0m Client 925 --- Duration: 525.7401592703895\n",
      "\u001b[2m\u001b[36m(launch_and_fit pid=242130)\u001b[0m Client 925 --- Traces: {'duration': 525.7401592703895, 'inactive': [178, 210, 228, 38809, 235159, 241337, 256578, 260093, 262940, 273482, 278952, 318233, 320073, 325035, 343537, 350029, 355217, 363809, 390479, 411804, 415693, 416211, 417154, 417400, 419798, 423383, 427278], 'finish_time': 432000, 'active': [159, 194, 216, 239, 232343, 235637, 256573, 258164, 260103, 271610, 278310, 318112, 319521, 322149, 343162, 349903, 350047, 363808, 363840, 409878, 411837, 415695, 416235, 417159, 417419, 423317, 423393], 'model': 'SM-J730G'}\n",
      "\u001b[2m\u001b[36m(launch_and_fit pid=242130)\u001b[0m Client 925 --- Predicted completion: 4850\n",
      "\u001b[2m\u001b[36m(launch_and_fit pid=242130)\u001b[0m Client 925 --- isActive: True\n"
     ]
    },
    {
     "name": "stderr",
     "output_type": "stream",
     "text": [
      "  0%|          | 0/8 [00:00<?, ?it/s][0m \n",
      "  0%|          | 0/8 [00:00<?, ?it/s][0m \n",
      " 12%|█▎        | 1/8 [00:00<00:01,  5.70it/s]\n",
      " 12%|█▎        | 1/8 [00:00<00:01,  4.01it/s]\n",
      " 25%|██▌       | 2/8 [00:00<00:00,  6.43it/s]\n",
      " 38%|███▊      | 3/8 [00:00<00:00,  6.33it/s]\n",
      " 25%|██▌       | 2/8 [00:00<00:01,  4.43it/s]\n",
      " 50%|█████     | 4/8 [00:00<00:00,  5.84it/s]\n",
      " 38%|███▊      | 3/8 [00:00<00:01,  4.44it/s]\n",
      " 62%|██████▎   | 5/8 [00:00<00:00,  5.88it/s]\n",
      " 50%|█████     | 4/8 [00:00<00:00,  4.56it/s]\n",
      " 75%|███████▌  | 6/8 [00:01<00:00,  5.81it/s]\n",
      " 62%|██████▎   | 5/8 [00:01<00:00,  4.68it/s]\n",
      " 88%|████████▊ | 7/8 [00:01<00:00,  6.06it/s]\n",
      "100%|██████████| 8/8 [00:01<00:00,  6.09it/s]\n",
      " 75%|███████▌  | 6/8 [00:01<00:00,  4.76it/s]\n",
      " 88%|████████▊ | 7/8 [00:01<00:00,  5.14it/s]\n",
      "230373 DEBUG flwr 2023-03-21 23:45:45,012 | server.py:279 | fit_round 3 received 10 results and 0 failures\n",
      "230373 INFO flwr 2023-03-21 23:45:45,013 | strategy.py:186 | Completion times of clients: [481.106196547328, 563.474196547328, 310.00056840765023, 563.2674644510255, 525.7401592703895, 1690.0852507211205, 904.8614010515907, 244.82024872989444, 370.3212014721119, 674.7452167252973]\n",
      "230373 INFO flwr 2023-03-21 23:45:45,014 | strategy.py:188 | Maximum completion time of clients: 1690.0852507211205\n"
     ]
    },
    {
     "name": "stdout",
     "output_type": "stream",
     "text": [
      "Server round 3\n"
     ]
    },
    {
     "name": "stderr",
     "output_type": "stream",
     "text": [
      "100%|██████████| 8/8 [00:01<00:00,  4.96it/s]36m(launch_and_fit pid=242130)\u001b[0m \n",
      "100%|██████████| 891/891 [00:08<00:00, 105.69it/s]\n",
      "230373 INFO flwr 2023-03-21 23:45:53,479 | server.py:140 | fit progress: (3, 2809.639505624771, {'accuracy': 0.22430726061031217, 'eval_time': 6016.047178738952}, 74.0609689799985)\n",
      "230373 INFO flwr 2023-03-21 23:45:53,481 | server.py:190 | evaluate_round 3: no clients selected, cancel\n",
      "230373 INFO flwr 2023-03-21 23:45:53,489 | client_manager.py:49 | Sampling using <__main__.ActivityCriterion object at 0x7f6eba6c5300>\n",
      "230373 DEBUG flwr 2023-03-21 23:45:53,490 | server.py:255 | fit_round 4: strategy sampled 10 clients (out of 3229)\n"
     ]
    },
    {
     "name": "stdout",
     "output_type": "stream",
     "text": [
      "Sampled the following clients:  ['144', '2040', '258', '2455', '2858', '1806', '1279', '522', '2100', '532']\n"
     ]
    },
    {
     "name": "stderr",
     "output_type": "stream",
     "text": [
      "  0%|          | 0/8 [00:00<?, ?it/s][0m \n"
     ]
    },
    {
     "name": "stdout",
     "output_type": "stream",
     "text": [
      "\u001b[2m\u001b[36m(launch_and_fit pid=243799)\u001b[0m Getting client with id 1806\n",
      "\u001b[2m\u001b[36m(launch_and_fit pid=243799)\u001b[0m Client 1806 --- Current virtual clock time: 6016.047178738952\n",
      "\u001b[2m\u001b[36m(launch_and_fit pid=243799)\u001b[0m Client 1806 --- Duration: 745.5440256950537\n",
      "\u001b[2m\u001b[36m(launch_and_fit pid=243799)\u001b[0m Client 1806 --- Traces: {'duration': 745.5440256950537, 'inactive': [6875, 43308, 82238, 89941, 98204, 101212, 102927, 144081, 162632, 181255, 182784, 207974, 213825, 234418, 244627, 263075, 265843, 279868, 293112, 328134, 375713, 401556, 404668, 436002, 438396, 473277, 511114, 517569], 'finish_time': 518400, 'active': [22, 34278, 79222, 88179, 95307, 98261, 101252, 139602, 158509, 179333, 181672, 207786, 209387, 232075, 240578, 262693, 263092, 279561, 280707, 323690, 349343, 398224, 401583, 432568, 436021, 468122, 507111, 511812], 'model': 'Redmi 7'}\n",
      "\u001b[2m\u001b[36m(launch_and_fit pid=243799)\u001b[0m Client 1806 --- Predicted completion: 6761\n",
      "\u001b[2m\u001b[36m(launch_and_fit pid=243799)\u001b[0m Client 1806 --- isActive: True\n"
     ]
    },
    {
     "name": "stderr",
     "output_type": "stream",
     "text": [
      "  0%|          | 0/8 [00:00<?, ?it/s][0m \n",
      "  0%|          | 0/8 [00:00<?, ?it/s][0m \n"
     ]
    },
    {
     "name": "stdout",
     "output_type": "stream",
     "text": [
      "\u001b[2m\u001b[36m(launch_and_fit pid=243802)\u001b[0m Getting client with id 144\n",
      "\u001b[2m\u001b[36m(launch_and_fit pid=243802)\u001b[0m Client 144 --- Current virtual clock time: 6016.047178738952\n",
      "\u001b[2m\u001b[36m(launch_and_fit pid=243802)\u001b[0m Client 144 --- Duration: 1246.9791941327182\n",
      "\u001b[2m\u001b[36m(launch_and_fit pid=243802)\u001b[0m Client 144 --- Traces: {'duration': 1246.9791941327182, 'inactive': [16010, 33818, 109690], 'finish_time': 172800, 'active': [2111, 33248, 89172], 'model': 'CPH1803'}\n",
      "\u001b[2m\u001b[36m(launch_and_fit pid=243802)\u001b[0m Client 144 --- Predicted completion: 7262\n",
      "\u001b[2m\u001b[36m(launch_and_fit pid=243802)\u001b[0m Client 144 --- isActive: True\n",
      "\u001b[2m\u001b[36m(launch_and_fit pid=243806)\u001b[0m Getting client with id 2858\n",
      "\u001b[2m\u001b[36m(launch_and_fit pid=243806)\u001b[0m Client 2858 --- Current virtual clock time: 6016.047178738952\n",
      "\u001b[2m\u001b[36m(launch_and_fit pid=243806)\u001b[0m Client 2858 --- Duration: 687.1078649236786\n",
      "\u001b[2m\u001b[36m(launch_and_fit pid=243806)\u001b[0m Client 2858 --- Traces: {'duration': 687.1078649236786, 'inactive': [17222, 43120, 68931, 113790, 248946], 'finish_time': 259200, 'active': [2094, 41214, 61876, 113751, 243424], 'model': 'vivo 1816'}\n",
      "\u001b[2m\u001b[36m(launch_and_fit pid=243806)\u001b[0m Client 2858 --- Predicted completion: 6703\n",
      "\u001b[2m\u001b[36m(launch_and_fit pid=243806)\u001b[0m Client 2858 --- isActive: True\n",
      "\u001b[2m\u001b[36m(launch_and_fit pid=243800)\u001b[0m Getting client with id 258\n"
     ]
    },
    {
     "name": "stderr",
     "output_type": "stream",
     "text": [
      "  0%|          | 0/8 [00:00<?, ?it/s][0m \n",
      " 12%|█▎        | 1/8 [00:00<00:03,  1.77it/s]\n",
      "  0%|          | 0/8 [00:00<?, ?it/s][0m \n",
      "  0%|          | 0/8 [00:00<?, ?it/s][0m \n",
      "  0%|          | 0/8 [00:00<?, ?it/s][0m \n"
     ]
    },
    {
     "name": "stdout",
     "output_type": "stream",
     "text": [
      "\u001b[2m\u001b[36m(launch_and_fit pid=243800)\u001b[0m Client 258 --- Current virtual clock time: 6016.047178738952\n",
      "\u001b[2m\u001b[36m(launch_and_fit pid=243800)\u001b[0m Client 258 --- Duration: 1253.7939268388125\n",
      "\u001b[2m\u001b[36m(launch_and_fit pid=243800)\u001b[0m Client 258 --- Traces: {'duration': 1253.7939268388125, 'inactive': [4296, 4869, 9166, 49462, 259526, 264413], 'finish_time': 345600, 'active': [3338, 4356, 4896, 19591, 257743, 263722], 'model': 'CPH1923'}\n",
      "\u001b[2m\u001b[36m(launch_and_fit pid=243800)\u001b[0m Client 258 --- Predicted completion: 7269\n",
      "\u001b[2m\u001b[36m(launch_and_fit pid=243800)\u001b[0m Client 258 --- isActive: True\n",
      "\u001b[2m\u001b[36m(launch_and_fit pid=243804)\u001b[0m Getting client with id 2455\n",
      "\u001b[2m\u001b[36m(launch_and_fit pid=243804)\u001b[0m Client 2455 --- Current virtual clock time: 6016.047178738952\n",
      "\u001b[2m\u001b[36m(launch_and_fit pid=243804)\u001b[0m Client 2455 --- Duration: 915.237395995364\n",
      "\u001b[2m\u001b[36m(launch_and_fit pid=243804)\u001b[0m Client 2455 --- Traces: {'duration': 915.237395995364, 'inactive': [21905, 88172, 89355, 116582, 194327, 261770, 310922, 370449, 398722, 459911, 464898, 464905, 501691, 502096, 506195, 506323, 506374, 507317], 'finish_time': 518400, 'active': [0, 88141, 88186, 90949, 173116, 250964, 287631, 356914, 391206, 459378, 459915, 464900, 501685, 502095, 506040, 506206, 506326, 506377], 'model': 'CPH1909'}\n",
      "\u001b[2m\u001b[36m(launch_and_fit pid=243804)\u001b[0m Client 2455 --- Predicted completion: 6931\n",
      "\u001b[2m\u001b[36m(launch_and_fit pid=243804)\u001b[0m Client 2455 --- isActive: True\n",
      "\u001b[2m\u001b[36m(launch_and_fit pid=243808)\u001b[0m Getting client with id 1279\n",
      "\u001b[2m\u001b[36m(launch_and_fit pid=243808)\u001b[0m Client 1279 --- Current virtual clock time: 6016.047178738952\n",
      "\u001b[2m\u001b[36m(launch_and_fit pid=243808)\u001b[0m Client 1279 --- Duration: 344.06996359302406\n",
      "\u001b[2m\u001b[36m(launch_and_fit pid=243808)\u001b[0m Client 1279 --- Traces: {'duration': 344.06996359302406, 'inactive': [30644, 64768, 72930, 119438, 119454, 119466, 123475, 124155, 126328, 126391, 126673, 131310, 161564, 161968, 171008, 203831, 230991, 231587, 233255, 234605, 238048, 243864, 244281, 246481, 301989, 303571, 304865, 309929, 311165, 312477, 318027, 327272, 375937, 376547, 388266, 392225, 392304, 412380, 415886, 416828, 463909, 463914, 470872, 474809, 477608, 484839, 484954, 485465, 485486, 490013], 'finish_time': 518400, 'active': [834, 64226, 65045, 119080, 119439, 119466, 122865, 123477, 124595, 126381, 126415, 126682, 161548, 161565, 170923, 174968, 230529, 231074, 231604, 233631, 234956, 242444, 243877, 244293, 297804, 301996, 303587, 309053, 310500, 311616, 317522, 323687, 375814, 376074, 387263, 389917, 392237, 408489, 412385, 416381, 463779, 463909, 468012, 474111, 474810, 484836, 484953, 485302, 485468, 485638], 'model': 'vivo 1814'}\n",
      "\u001b[2m\u001b[36m(launch_and_fit pid=243808)\u001b[0m Client 1279 --- Predicted completion: 6360\n",
      "\u001b[2m\u001b[36m(launch_and_fit pid=243808)\u001b[0m Client 1279 --- isActive: True\n",
      "\u001b[2m\u001b[36m(launch_and_fit pid=243805)\u001b[0m Getting client with id 2040\n",
      "\u001b[2m\u001b[36m(launch_and_fit pid=243805)\u001b[0m Client 2040 --- Current virtual clock time: 6016.047178738952\n",
      "\u001b[2m\u001b[36m(launch_and_fit pid=243805)\u001b[0m Client 2040 --- Duration: 1049.8973331279187\n",
      "\u001b[2m\u001b[36m(launch_and_fit pid=243805)\u001b[0m Client 2040 --- Traces: {'duration': 1049.8973331279187, 'inactive': [881, 931, 2042, 5740, 8018, 8577, 9491, 10004, 10044, 10692, 11110, 11387, 11534, 20999, 21146, 21251, 29719, 114653, 114668, 115266, 115380, 116237, 117534, 118499, 119855, 121800, 123836, 125875, 186214, 198425, 200712, 203352, 221998, 245872, 282534, 282544, 284223, 296817, 297843, 301805, 309973, 318187, 318610, 332838], 'finish_time': 345600, 'active': [0, 884, 1101, 2055, 5769, 8027, 8581, 9764, 10042, 10059, 10853, 11292, 11444, 20588, 21007, 21148, 29339, 114567, 114654, 114670, 115271, 115383, 116398, 117753, 118502, 120555, 121816, 125411, 185812, 192164, 199280, 201599, 221921, 222298, 282458, 282534, 282829, 295729, 296861, 300881, 309139, 316358, 318210, 318613], 'model': 'RMX1941'}\n",
      "\u001b[2m\u001b[36m(launch_and_fit pid=243805)\u001b[0m Client 2040 --- Predicted completion: 7065\n",
      "\u001b[2m\u001b[36m(launch_and_fit pid=243805)\u001b[0m Client 2040 --- isActive: True\n",
      "\u001b[2m\u001b[36m(launch_and_fit pid=243809)\u001b[0m Getting client with id 522\n",
      "\u001b[2m\u001b[36m(launch_and_fit pid=243809)\u001b[0m Client 522 --- Current virtual clock time: 6016.047178738952\n",
      "\u001b[2m\u001b[36m(launch_and_fit pid=243809)\u001b[0m Client 522 --- Duration: 445.1495980246826\n",
      "\u001b[2m\u001b[36m(launch_and_fit pid=243809)\u001b[0m Client 522 --- Traces: {'duration': 445.1495980246826, 'inactive': [7670, 12035, 57014, 83284, 94648, 94894, 98663, 137936, 168900, 182523, 239328, 260147, 269219, 320218, 338820, 353037, 403225, 426991, 444676, 488586, 516274], 'finish_time': 518400, 'active': [4738, 12031, 49453, 66187, 91088, 94674, 97712, 132212, 152670, 178418, 229084, 255548, 266340, 310226, 331283, 347294, 395315, 412196, 437794, 481815, 498831], 'model': 'Redmi 4A'}\n",
      "\u001b[2m\u001b[36m(launch_and_fit pid=243809)\u001b[0m Client 522 --- Predicted completion: 6461\n",
      "\u001b[2m\u001b[36m(launch_and_fit pid=243809)\u001b[0m Client 522 --- isActive: True\n"
     ]
    },
    {
     "name": "stderr",
     "output_type": "stream",
     "text": [
      "  0%|          | 0/8 [00:00<?, ?it/s][0m \n",
      " 25%|██▌       | 2/8 [00:00<00:02,  2.21it/s]\n",
      " 12%|█▎        | 1/8 [00:00<00:04,  1.55it/s]\n",
      " 12%|█▎        | 1/8 [00:00<00:02,  2.58it/s]\n",
      " 38%|███▊      | 3/8 [00:01<00:02,  2.40it/s]\n",
      " 12%|█▎        | 1/8 [00:00<00:04,  1.59it/s]\n",
      " 12%|█▎        | 1/8 [00:00<00:04,  1.62it/s]\n",
      " 25%|██▌       | 2/8 [00:00<00:02,  2.54it/s]\n",
      " 12%|█▎        | 1/8 [00:01<00:08,  1.14s/it]\n",
      " 25%|██▌       | 2/8 [00:01<00:03,  1.82it/s]\n",
      " 12%|█▎        | 1/8 [00:01<00:07,  1.02s/it]\n",
      " 25%|██▌       | 2/8 [00:01<00:03,  1.87it/s]\n",
      " 50%|█████     | 4/8 [00:01<00:01,  2.28it/s]\n",
      " 25%|██▌       | 2/8 [00:01<00:03,  1.83it/s]\n",
      " 38%|███▊      | 3/8 [00:01<00:02,  2.36it/s]\n",
      " 38%|███▊      | 3/8 [00:01<00:02,  2.00it/s]\n",
      " 12%|█▎        | 1/8 [00:01<00:09,  1.31s/it]\n",
      " 25%|██▌       | 2/8 [00:01<00:05,  1.15it/s]\n",
      " 25%|██▌       | 2/8 [00:01<00:04,  1.29it/s]\n",
      " 62%|██████▎   | 5/8 [00:02<00:01,  2.27it/s]\n",
      " 38%|███▊      | 3/8 [00:01<00:02,  1.88it/s]\n",
      " 38%|███▊      | 3/8 [00:01<00:02,  1.82it/s]\n",
      " 50%|█████     | 4/8 [00:01<00:02,  1.94it/s]\n",
      " 50%|█████     | 4/8 [00:02<00:02,  1.90it/s]\n",
      " 25%|██▌       | 2/8 [00:01<00:05,  1.10it/s]\n",
      " 75%|███████▌  | 6/8 [00:02<00:00,  2.08it/s]\n",
      " 50%|█████     | 4/8 [00:02<00:02,  1.95it/s]\n",
      " 62%|██████▎   | 5/8 [00:02<00:01,  2.11it/s]\n",
      " 38%|███▊      | 3/8 [00:02<00:03,  1.34it/s]\n",
      " 50%|█████     | 4/8 [00:02<00:02,  1.74it/s]\n",
      " 38%|███▊      | 3/8 [00:02<00:04,  1.16it/s]\n",
      " 62%|██████▎   | 5/8 [00:02<00:01,  1.81it/s]\n",
      " 88%|████████▊ | 7/8 [00:03<00:00,  2.11it/s]\n",
      " 62%|██████▎   | 5/8 [00:02<00:01,  2.09it/s]\n",
      " 62%|██████▎   | 5/8 [00:02<00:01,  2.05it/s]\n",
      " 38%|███▊      | 3/8 [00:02<00:03,  1.26it/s]\n",
      " 75%|███████▌  | 6/8 [00:02<00:00,  2.05it/s]\n",
      " 75%|███████▌  | 6/8 [00:02<00:00,  2.34it/s]\n",
      " 75%|███████▌  | 6/8 [00:03<00:01,  1.81it/s]\n",
      " 50%|█████     | 4/8 [00:03<00:03,  1.27it/s]\n",
      " 75%|███████▌  | 6/8 [00:03<00:00,  2.02it/s]\n",
      "100%|██████████| 8/8 [00:03<00:00,  2.12it/s]\n",
      " 50%|█████     | 4/8 [00:03<00:03,  1.17it/s]\n",
      " 50%|█████     | 4/8 [00:03<00:02,  1.40it/s]\n",
      " 88%|████████▊ | 7/8 [00:03<00:00,  2.33it/s]\n",
      " 88%|████████▊ | 7/8 [00:03<00:00,  1.94it/s]\n",
      " 88%|████████▊ | 7/8 [00:03<00:00,  1.76it/s]\n",
      " 88%|████████▊ | 7/8 [00:03<00:00,  1.95it/s]\n",
      " 62%|██████▎   | 5/8 [00:03<00:02,  1.31it/s]\n",
      " 62%|██████▎   | 5/8 [00:04<00:02,  1.32it/s]\n",
      " 62%|██████▎   | 5/8 [00:03<00:02,  1.43it/s]\n",
      "100%|██████████| 8/8 [00:04<00:00,  1.98it/s]\n",
      "100%|██████████| 8/8 [00:03<00:00,  2.00it/s]\n",
      "100%|██████████| 8/8 [00:04<00:00,  1.85it/s]\n",
      "100%|██████████| 8/8 [00:04<00:00,  1.86it/s]\n",
      " 75%|███████▌  | 6/8 [00:04<00:01,  1.39it/s]\n",
      " 75%|███████▌  | 6/8 [00:04<00:01,  1.52it/s]\n",
      " 75%|███████▌  | 6/8 [00:04<00:01,  1.24it/s]\n",
      " 88%|████████▊ | 7/8 [00:04<00:00,  1.72it/s]\n",
      " 88%|████████▊ | 7/8 [00:05<00:00,  1.39it/s]\n",
      " 88%|████████▊ | 7/8 [00:05<00:00,  1.31it/s]\n",
      "100%|██████████| 8/8 [00:05<00:00,  1.45it/s]\n",
      "100%|██████████| 8/8 [00:06<00:00,  1.25it/s]\n",
      "100%|██████████| 8/8 [00:06<00:00,  1.27it/s]\n",
      "  0%|          | 0/8 [00:00<?, ?it/s][0m \n"
     ]
    },
    {
     "name": "stdout",
     "output_type": "stream",
     "text": [
      "\u001b[2m\u001b[36m(launch_and_fit pid=246972)\u001b[0m Getting client with id 2100\n",
      "\u001b[2m\u001b[36m(launch_and_fit pid=246972)\u001b[0m Client 2100 --- Current virtual clock time: 6016.047178738952\n",
      "\u001b[2m\u001b[36m(launch_and_fit pid=246972)\u001b[0m Client 2100 --- Duration: 591.3416719152932\n",
      "\u001b[2m\u001b[36m(launch_and_fit pid=246972)\u001b[0m Client 2100 --- Traces: {'duration': 591.3416719152932, 'inactive': [4692, 38316, 69881, 77756, 80233, 97987, 135913, 164287, 209650, 241165, 248473, 251347], 'finish_time': 259200, 'active': [2306, 4791, 66425, 76943, 77773, 90561, 128914, 157925, 182272, 240262, 241219, 248478], 'model': 'Redmi S2'}\n",
      "\u001b[2m\u001b[36m(launch_and_fit pid=246972)\u001b[0m Client 2100 --- Predicted completion: 6607\n",
      "\u001b[2m\u001b[36m(launch_and_fit pid=246972)\u001b[0m Client 2100 --- isActive: True\n"
     ]
    },
    {
     "name": "stderr",
     "output_type": "stream",
     "text": [
      " 12%|█▎        | 1/8 [00:00<00:00,  7.23it/s]\n",
      " 25%|██▌       | 2/8 [00:00<00:00,  7.63it/s]\n",
      " 38%|███▊      | 3/8 [00:00<00:00,  7.96it/s]\n",
      "230373 DEBUG flwr 2023-03-21 23:46:08,751 | ray_client_proxy.py:87 | \u001b[36mray::launch_and_fit()\u001b[39m (pid=247535, ip=10.9.7.124)\n",
      "  File \"/home/wash/LARGE/Work/L361_project/flower_fedbuff_project/src/py/flwr/simulation/ray_transport/ray_client_proxy.py\", line 148, in launch_and_fit\n",
      "    return maybe_call_fit(\n",
      "  File \"/home/wash/LARGE/Work/L361_project/flower_fedbuff_project/src/py/flwr/client/client.py\", line 184, in maybe_call_fit\n",
      "    return client.fit(fit_ins)\n",
      "  File \"/home/wash/LARGE/Work/L361_project/flower_fedbuff_project/src/py/flwr/client/app.py\", line 275, in _fit\n",
      "    results = self.numpy_client.fit(parameters, ins.config)  # type: ignore\n",
      "  File \"/tmp/ipykernel_230373/2728577686.py\", line 79, in fit\n",
      "Exception: Client 532 is not active at the current time step\n",
      " 50%|█████     | 4/8 [00:00<00:00,  8.16it/s]\n"
     ]
    },
    {
     "name": "stdout",
     "output_type": "stream",
     "text": [
      "\u001b[2m\u001b[36m(launch_and_fit pid=247535)\u001b[0m Getting client with id 532\n",
      "\u001b[2m\u001b[36m(launch_and_fit pid=247535)\u001b[0m Client 532 --- Current virtual clock time: 6016.047178738952\n",
      "\u001b[2m\u001b[36m(launch_and_fit pid=247535)\u001b[0m Client 532 --- Duration: 1184.798153677758\n",
      "\u001b[2m\u001b[36m(launch_and_fit pid=247535)\u001b[0m Client 532 --- Traces: {'duration': 1184.798153677758, 'inactive': [6573, 25577, 83862, 152137, 171855, 172743, 172753, 179466, 211650, 252424, 315280, 401435, 402414, 403165, 404218, 426320], 'finish_time': 432000, 'active': [5067, 10417, 77352, 137336, 169903, 172213, 172743, 179429, 187376, 246617, 301731, 398957, 402220, 402415, 403166, 422424], 'model': 'CPH1801'}\n",
      "\u001b[2m\u001b[36m(launch_and_fit pid=247535)\u001b[0m Client 532 --- Predicted completion: 7200\n",
      "\u001b[2m\u001b[36m(launch_and_fit pid=247535)\u001b[0m Client 532 --- isActive: False\n"
     ]
    },
    {
     "name": "stderr",
     "output_type": "stream",
     "text": [
      " 62%|██████▎   | 5/8 [00:00<00:00,  8.34it/s]\n",
      " 75%|███████▌  | 6/8 [00:00<00:00,  8.77it/s]\n",
      " 88%|████████▊ | 7/8 [00:00<00:00,  8.91it/s]\n",
      "100%|██████████| 8/8 [00:00<00:00,  8.32it/s]\n",
      "230373 DEBUG flwr 2023-03-21 23:46:09,297 | server.py:279 | fit_round 4 received 9 results and 1 failures\n",
      "230373 INFO flwr 2023-03-21 23:46:09,299 | strategy.py:186 | Completion times of clients: [445.1495980246826, 1253.7939268388125, 745.5440256950537, 915.237395995364, 344.06996359302406, 591.3416719152932, 1246.9791941327182, 1049.8973331279187, 687.1078649236786]\n",
      "230373 INFO flwr 2023-03-21 23:46:09,301 | strategy.py:188 | Maximum completion time of clients: 1253.7939268388125\n"
     ]
    },
    {
     "name": "stdout",
     "output_type": "stream",
     "text": [
      "Server round 4\n"
     ]
    },
    {
     "name": "stderr",
     "output_type": "stream",
     "text": [
      "100%|██████████| 891/891 [00:08<00:00, 106.48it/s]\n",
      "230373 INFO flwr 2023-03-21 23:46:17,724 | server.py:140 | fit progress: (4, 2866.0170500278473, {'accuracy': 0.20024552788495265, 'eval_time': 7269.841105577765}, 98.30545776100007)\n",
      "230373 INFO flwr 2023-03-21 23:46:17,725 | server.py:190 | evaluate_round 4: no clients selected, cancel\n",
      "230373 INFO flwr 2023-03-21 23:46:17,735 | client_manager.py:49 | Sampling using <__main__.ActivityCriterion object at 0x7f6eba6c5300>\n",
      "230373 DEBUG flwr 2023-03-21 23:46:17,736 | server.py:255 | fit_round 5: strategy sampled 10 clients (out of 3229)\n"
     ]
    },
    {
     "name": "stdout",
     "output_type": "stream",
     "text": [
      "Sampled the following clients:  ['2437', '402', '1691', '188', '1272', '800', '1319', '2233', '1555', '2882']\n"
     ]
    },
    {
     "name": "stderr",
     "output_type": "stream",
     "text": [
      "  0%|          | 0/8 [00:00<?, ?it/s][0m \n"
     ]
    },
    {
     "name": "stdout",
     "output_type": "stream",
     "text": [
      "\u001b[2m\u001b[36m(launch_and_fit pid=248564)\u001b[0m Getting client with id 2437\n",
      "\u001b[2m\u001b[36m(launch_and_fit pid=248564)\u001b[0m Client 2437 --- Current virtual clock time: 7269.841105577765\n",
      "\u001b[2m\u001b[36m(launch_and_fit pid=248564)\u001b[0m Client 2437 --- Duration: 530.464496115181\n",
      "\u001b[2m\u001b[36m(launch_and_fit pid=248564)\u001b[0m Client 2437 --- Traces: {'duration': 530.464496115181, 'inactive': [5051, 9507, 57858], 'finish_time': 86400, 'active': [3312, 5096, 19927], 'model': 'Moto C Plus'}\n",
      "\u001b[2m\u001b[36m(launch_and_fit pid=248564)\u001b[0m Client 2437 --- Predicted completion: 7799\n",
      "\u001b[2m\u001b[36m(launch_and_fit pid=248564)\u001b[0m Client 2437 --- isActive: True\n"
     ]
    },
    {
     "name": "stderr",
     "output_type": "stream",
     "text": [
      "  0%|          | 0/8 [00:00<?, ?it/s][0m \n",
      "  0%|          | 0/8 [00:00<?, ?it/s][0m \n",
      "  0%|          | 0/8 [00:00<?, ?it/s][0m \n",
      "  0%|          | 0/8 [00:00<?, ?it/s][0m \n",
      "  0%|          | 0/8 [00:00<?, ?it/s][0m \n"
     ]
    },
    {
     "name": "stdout",
     "output_type": "stream",
     "text": [
      "\u001b[2m\u001b[36m(launch_and_fit pid=248567)\u001b[0m Getting client with id 188\n",
      "\u001b[2m\u001b[36m(launch_and_fit pid=248567)\u001b[0m Client 188 --- Current virtual clock time: 7269.841105577765\n",
      "\u001b[2m\u001b[36m(launch_and_fit pid=248567)\u001b[0m Client 188 --- Duration: 1686.1347550691862\n",
      "\u001b[2m\u001b[36m(launch_and_fit pid=248567)\u001b[0m Client 188 --- Traces: {'duration': 1686.1347550691862, 'inactive': [8223, 10207, 15373, 15708, 28243, 30748, 34892, 38646, 74455, 93583, 95989, 106653, 109831, 113075, 114007, 114169, 114532, 114550, 116152, 118604, 155793, 172000, 172332, 177782, 185352, 261634, 270222, 275616, 292774, 293598, 293600, 293805, 313911, 313951, 313958, 323146, 340154, 342977, 343856, 351279, 368144, 371415, 372673, 374742, 383084, 410448, 420663, 420703, 422138, 422144, 424698, 428214], 'finish_time': 432000, 'active': [5585, 8231, 12749, 15373, 15727, 29607, 31090, 36880, 41809, 91252, 93594, 105699, 107303, 110353, 113397, 114007, 114245, 114536, 114556, 116153, 120533, 171362, 172049, 172333, 182123, 261326, 261643, 273807, 291386, 292774, 293598, 293791, 293807, 313927, 313952, 314013, 339584, 340184, 343003, 346382, 364680, 368171, 371834, 372674, 374948, 385079, 418676, 420665, 420707, 422138, 424566, 426958], 'model': 'LG-M250'}\n",
      "\u001b[2m\u001b[36m(launch_and_fit pid=248567)\u001b[0m Client 188 --- Predicted completion: 8955\n",
      "\u001b[2m\u001b[36m(launch_and_fit pid=248567)\u001b[0m Client 188 --- isActive: True\n",
      "\u001b[2m\u001b[36m(launch_and_fit pid=248572)\u001b[0m Getting client with id 1691\n",
      "\u001b[2m\u001b[36m(launch_and_fit pid=248572)\u001b[0m Client 1691 --- Current virtual clock time: 7269.841105577765\n",
      "\u001b[2m\u001b[36m(launch_and_fit pid=248572)\u001b[0m Client 1691 --- Duration: 1295.120629326178\n",
      "\u001b[2m\u001b[36m(launch_and_fit pid=248572)\u001b[0m Client 1691 --- Traces: {'duration': 1295.120629326178, 'inactive': [406, 8822, 46838, 85871, 87158, 87165, 122960, 145842, 190311, 211871, 257643, 267849, 309161, 358650, 404328, 430750], 'finish_time': 432000, 'active': [65, 3155, 33161, 84021, 87139, 87158, 122013, 138968, 177291, 209371, 246863, 263573, 301620, 348407, 396325, 430738], 'model': 'CPH1909'}\n",
      "\u001b[2m\u001b[36m(launch_and_fit pid=248572)\u001b[0m Client 1691 --- Predicted completion: 8564\n",
      "\u001b[2m\u001b[36m(launch_and_fit pid=248572)\u001b[0m Client 1691 --- isActive: True\n",
      "\u001b[2m\u001b[36m(launch_and_fit pid=248571)\u001b[0m Getting client with id 1272\n",
      "\u001b[2m\u001b[36m(launch_and_fit pid=248571)\u001b[0m Client 1272 --- Current virtual clock time: 7269.841105577765\n",
      "\u001b[2m\u001b[36m(launch_and_fit pid=248571)\u001b[0m Client 1272 --- Duration: 602.8195448041901\n",
      "\u001b[2m\u001b[36m(launch_and_fit pid=248571)\u001b[0m Client 1272 --- Traces: {'duration': 602.8195448041901, 'inactive': [55275, 115840, 177493, 206109, 230962, 241728, 257766, 260166, 261323, 262786, 283375, 368241, 396192, 397722, 399360], 'finish_time': 432000, 'active': [207, 78259, 165525, 201652, 228920, 234929, 251138, 257795, 260410, 261331, 263183, 368125, 368499, 397311, 397725], 'model': 'M20i'}\n",
      "\u001b[2m\u001b[36m(launch_and_fit pid=248571)\u001b[0m Client 1272 --- Predicted completion: 7871\n",
      "\u001b[2m\u001b[36m(launch_and_fit pid=248571)\u001b[0m Client 1272 --- isActive: True\n",
      "\u001b[2m\u001b[36m(launch_and_fit pid=248573)\u001b[0m Getting client with id 1319\n",
      "\u001b[2m\u001b[36m(launch_and_fit pid=248573)\u001b[0m Client 1319 --- Current virtual clock time: 7269.841105577765\n",
      "\u001b[2m\u001b[36m(launch_and_fit pid=248573)\u001b[0m Client 1319 --- Duration: 381.84604442963996\n",
      "\u001b[2m\u001b[36m(launch_and_fit pid=248573)\u001b[0m Client 1319 --- Traces: {'duration': 381.84604442963996, 'inactive': [14595, 42703, 43195, 86099, 108214, 115302, 116524, 151554], 'finish_time': 172800, 'active': [0, 32764, 43080, 64849, 104337, 113474, 115325, 116624], 'model': 'CPH1605'}\n",
      "\u001b[2m\u001b[36m(launch_and_fit pid=248573)\u001b[0m Client 1319 --- Predicted completion: 7650\n",
      "\u001b[2m\u001b[36m(launch_and_fit pid=248573)\u001b[0m Client 1319 --- isActive: True\n",
      "\u001b[2m\u001b[36m(launch_and_fit pid=248569)\u001b[0m Getting client with id 402\n",
      "\u001b[2m\u001b[36m(launch_and_fit pid=248569)\u001b[0m Client 402 --- Current virtual clock time: 7269.841105577765\n",
      "\u001b[2m\u001b[36m(launch_and_fit pid=248569)\u001b[0m Client 402 --- Duration: 531.9845508660098\n",
      "\u001b[2m\u001b[36m(launch_and_fit pid=248569)\u001b[0m Client 402 --- Traces: {'duration': 531.9845508660098, 'inactive': [5766, 9963, 230328, 335100, 348979], 'finish_time': 432000, 'active': [0, 5767, 193041, 330953, 346145], 'model': 'moto g(7) power'}\n",
      "\u001b[2m\u001b[36m(launch_and_fit pid=248569)\u001b[0m Client 402 --- Predicted completion: 7800\n",
      "\u001b[2m\u001b[36m(launch_and_fit pid=248569)\u001b[0m Client 402 --- isActive: True\n"
     ]
    },
    {
     "name": "stderr",
     "output_type": "stream",
     "text": [
      " 12%|█▎        | 1/8 [00:00<00:04,  1.44it/s]\n",
      " 12%|█▎        | 1/8 [00:00<00:04,  1.67it/s]\n",
      " 12%|█▎        | 1/8 [00:00<00:04,  1.46it/s]\n",
      " 25%|██▌       | 2/8 [00:01<00:03,  1.64it/s]\n",
      " 12%|█▎        | 1/8 [00:00<00:06,  1.11it/s]\n",
      "  0%|          | 0/8 [00:00<?, ?it/s][0m \n",
      " 12%|█▎        | 1/8 [00:00<00:06,  1.14it/s]\n"
     ]
    },
    {
     "name": "stdout",
     "output_type": "stream",
     "text": [
      "\u001b[2m\u001b[36m(launch_and_fit pid=248574)\u001b[0m Getting client with id 800\n",
      "\u001b[2m\u001b[36m(launch_and_fit pid=248574)\u001b[0m Client 800 --- Current virtual clock time: 7269.841105577765\n",
      "\u001b[2m\u001b[36m(launch_and_fit pid=248574)\u001b[0m Client 800 --- Duration: 1066.7956404363479\n",
      "\u001b[2m\u001b[36m(launch_and_fit pid=248574)\u001b[0m Client 800 --- Traces: {'duration': 1066.7956404363479, 'inactive': [32270, 118644, 164398, 203999, 250361, 338888, 377064, 414310, 426285, 463458, 503718], 'finish_time': 518400, 'active': [848, 88568, 160334, 169536, 246322, 330677, 344360, 413156, 417392, 431332, 497924], 'model': 'Redmi Note 5A'}\n",
      "\u001b[2m\u001b[36m(launch_and_fit pid=248574)\u001b[0m Client 800 --- Predicted completion: 8335\n",
      "\u001b[2m\u001b[36m(launch_and_fit pid=248574)\u001b[0m Client 800 --- isActive: True\n"
     ]
    },
    {
     "name": "stderr",
     "output_type": "stream",
     "text": [
      " 12%|█▎        | 1/8 [00:00<00:06,  1.04it/s]\n",
      " 25%|██▌       | 2/8 [00:01<00:03,  1.91it/s]\n",
      " 38%|███▊      | 3/8 [00:01<00:02,  1.87it/s]\n",
      " 25%|██▌       | 2/8 [00:01<00:03,  1.87it/s]\n"
     ]
    },
    {
     "name": "stdout",
     "output_type": "stream",
     "text": [
      "\u001b[2m\u001b[36m(launch_and_fit pid=248623)\u001b[0m Getting client with id 2233\n",
      "\u001b[2m\u001b[36m(launch_and_fit pid=248623)\u001b[0m Client 2233 --- Current virtual clock time: 7269.841105577765\n",
      "\u001b[2m\u001b[36m(launch_and_fit pid=248623)\u001b[0m Client 2233 --- Duration: 532.2844543804035\n",
      "\u001b[2m\u001b[36m(launch_and_fit pid=248623)\u001b[0m Client 2233 --- Traces: {'duration': 532.2844543804035, 'inactive': [1506, 1914, 27820, 56952, 68809, 69662, 69672, 109461, 142761, 144049, 144072, 147211, 147221, 168210], 'finish_time': 172800, 'active': [926, 1521, 1916, 51022, 66054, 68810, 69662, 72366, 142557, 143179, 144071, 146919, 147211, 147275], 'model': 'SM-G610F'}\n",
      "\u001b[2m\u001b[36m(launch_and_fit pid=248623)\u001b[0m Client 2233 --- Predicted completion: 7801\n",
      "\u001b[2m\u001b[36m(launch_and_fit pid=248623)\u001b[0m Client 2233 --- isActive: True\n"
     ]
    },
    {
     "name": "stderr",
     "output_type": "stream",
     "text": [
      "  0%|          | 0/8 [00:00<?, ?it/s][0m \n",
      " 25%|██▌       | 2/8 [00:01<00:04,  1.28it/s]\n",
      " 38%|███▊      | 3/8 [00:01<00:02,  1.69it/s]\n",
      " 25%|██▌       | 2/8 [00:01<00:05,  1.15it/s]\n",
      " 50%|█████     | 4/8 [00:02<00:02,  1.66it/s]\n",
      " 38%|███▊      | 3/8 [00:01<00:03,  1.65it/s]\n",
      " 25%|██▌       | 2/8 [00:01<00:05,  1.14it/s]\n",
      " 12%|█▎        | 1/8 [00:01<00:09,  1.38s/it]\n",
      " 12%|█▎        | 1/8 [00:00<00:06,  1.04it/s]\n",
      " 50%|█████     | 4/8 [00:02<00:02,  1.72it/s]\n",
      " 38%|███▊      | 3/8 [00:02<00:03,  1.31it/s]\n",
      " 62%|██████▎   | 5/8 [00:02<00:01,  1.69it/s]\n",
      " 38%|███▊      | 3/8 [00:02<00:04,  1.15it/s]\n",
      " 50%|█████     | 4/8 [00:02<00:02,  1.63it/s]\n",
      " 38%|███▊      | 3/8 [00:02<00:04,  1.25it/s]\n",
      " 25%|██▌       | 2/8 [00:01<00:04,  1.38it/s]\n",
      " 62%|██████▎   | 5/8 [00:02<00:01,  1.78it/s]\n",
      " 62%|██████▎   | 5/8 [00:02<00:01,  1.72it/s]\n",
      " 38%|███▊      | 3/8 [00:01<00:02,  1.78it/s]\n",
      " 50%|█████     | 4/8 [00:03<00:03,  1.30it/s]\n",
      " 75%|███████▌  | 6/8 [00:03<00:01,  1.52it/s]\n",
      " 50%|█████     | 4/8 [00:03<00:03,  1.22it/s]\n",
      " 50%|█████     | 4/8 [00:03<00:03,  1.29it/s]\n",
      " 25%|██▌       | 2/8 [00:02<00:07,  1.19s/it]\n",
      " 75%|███████▌  | 6/8 [00:03<00:01,  1.95it/s]\n",
      " 75%|███████▌  | 6/8 [00:03<00:01,  1.63it/s]\n",
      " 88%|████████▊ | 7/8 [00:04<00:00,  1.62it/s]\n",
      " 50%|█████     | 4/8 [00:02<00:02,  1.72it/s]\n",
      " 62%|██████▎   | 5/8 [00:03<00:02,  1.38it/s]\n",
      " 88%|████████▊ | 7/8 [00:03<00:00,  1.91it/s]\n",
      " 62%|██████▎   | 5/8 [00:04<00:02,  1.28it/s]\n",
      " 38%|███▊      | 3/8 [00:03<00:05,  1.02s/it]\n",
      " 88%|████████▊ | 7/8 [00:04<00:00,  1.60it/s]\n",
      " 62%|██████▎   | 5/8 [00:04<00:02,  1.14it/s]\n",
      " 62%|██████▎   | 5/8 [00:03<00:01,  1.68it/s]\n",
      " 75%|███████▌  | 6/8 [00:04<00:01,  1.42it/s]\n",
      "100%|██████████| 8/8 [00:04<00:00,  1.60it/s]\n",
      "100%|██████████| 8/8 [00:04<00:00,  1.75it/s]\n",
      " 75%|███████▌  | 6/8 [00:04<00:01,  1.36it/s]\n",
      "100%|██████████| 8/8 [00:04<00:00,  1.67it/s]\n",
      " 75%|███████▌  | 6/8 [00:05<00:01,  1.21it/s]\n",
      " 50%|█████     | 4/8 [00:04<00:03,  1.04it/s]\n",
      " 75%|███████▌  | 6/8 [00:03<00:01,  1.57it/s]\n",
      " 88%|████████▊ | 7/8 [00:05<00:00,  1.42it/s]\n",
      " 88%|████████▊ | 7/8 [00:05<00:00,  1.37it/s]\n",
      " 88%|████████▊ | 7/8 [00:05<00:00,  1.23it/s]\n",
      " 88%|████████▊ | 7/8 [00:04<00:00,  1.62it/s]\n",
      "100%|██████████| 8/8 [00:05<00:00,  1.39it/s]\n",
      " 62%|██████▎   | 5/8 [00:04<00:02,  1.08it/s]\n",
      "100%|██████████| 8/8 [00:06<00:00,  1.31it/s]\n",
      "100%|██████████| 8/8 [00:05<00:00,  1.55it/s]\n",
      "100%|██████████| 8/8 [00:06<00:00,  1.19it/s]\n",
      " 75%|███████▌  | 6/8 [00:05<00:01,  1.11it/s]\n",
      " 88%|████████▊ | 7/8 [00:06<00:00,  1.22it/s]\n",
      "100%|██████████| 8/8 [00:07<00:00,  1.12it/s]\n",
      "  0%|          | 0/8 [00:00<?, ?it/s][0m \n",
      " 12%|█▎        | 1/8 [00:00<00:01,  6.77it/s]\n",
      "  0%|          | 0/8 [00:00<?, ?it/s][0m \n"
     ]
    },
    {
     "name": "stdout",
     "output_type": "stream",
     "text": [
      "\u001b[2m\u001b[36m(launch_and_fit pid=251992)\u001b[0m Getting client with id 1555\n",
      "\u001b[2m\u001b[36m(launch_and_fit pid=251992)\u001b[0m Client 1555 --- Current virtual clock time: 7269.841105577765\n",
      "\u001b[2m\u001b[36m(launch_and_fit pid=251992)\u001b[0m Client 1555 --- Duration: 605.1758600636174\n",
      "\u001b[2m\u001b[36m(launch_and_fit pid=251992)\u001b[0m Client 1555 --- Traces: {'duration': 605.1758600636174, 'inactive': [35341, 61059, 125985, 204303, 246325, 293357, 327437], 'finish_time': 345600, 'active': [3684, 55904, 96210, 175402, 242128, 268810, 322821], 'model': 'Redmi S2'}\n",
      "\u001b[2m\u001b[36m(launch_and_fit pid=251992)\u001b[0m Client 1555 --- Predicted completion: 7874\n",
      "\u001b[2m\u001b[36m(launch_and_fit pid=251992)\u001b[0m Client 1555 --- isActive: True\n",
      "\u001b[2m\u001b[36m(launch_and_fit pid=252055)\u001b[0m Getting client with id 2882\n",
      "\u001b[2m\u001b[36m(launch_and_fit pid=252055)\u001b[0m Client 2882 --- Current virtual clock time: 7269.841105577765\n",
      "\u001b[2m\u001b[36m(launch_and_fit pid=252055)\u001b[0m Client 2882 --- Duration: 320.0847594423552\n",
      "\u001b[2m\u001b[36m(launch_and_fit pid=252055)\u001b[0m Client 2882 --- Traces: {'duration': 320.0847594423552, 'inactive': [13166, 18573, 31005, 47641, 72907, 91514, 101719, 104995, 105018, 105507, 107820, 107869, 107881, 107908, 108005, 108211, 108221, 129085, 131644, 160029, 177332, 179107, 199259, 204930, 254859, 255679, 256961, 256988, 257022, 257286, 257865, 278968, 284973, 286409, 288035, 288349, 288385, 291013, 291539, 292736, 292864, 295222, 306637, 315488, 340751, 341125, 341956, 344741, 345546, 371515, 386737, 388330, 417943, 469562, 512553], 'finish_time': 518400, 'active': [4365, 13215, 26117, 44108, 70490, 84637, 101291, 102833, 104995, 105018, 105507, 107822, 107872, 107892, 107908, 108005, 108211, 127142, 129219, 152597, 176964, 177338, 197916, 199268, 205030, 255674, 255860, 256976, 257006, 257249, 257473, 276368, 279464, 286053, 287726, 288058, 288370, 288397, 291030, 292690, 292786, 293567, 305912, 306723, 338074, 340758, 341128, 342130, 344741, 359628, 382458, 386805, 416268, 459028, 507463], 'model': 'Redmi Note 6 Pro'}\n",
      "\u001b[2m\u001b[36m(launch_and_fit pid=252055)\u001b[0m Client 2882 --- Predicted completion: 7589\n",
      "\u001b[2m\u001b[36m(launch_and_fit pid=252055)\u001b[0m Client 2882 --- isActive: True\n"
     ]
    },
    {
     "name": "stderr",
     "output_type": "stream",
     "text": [
      " 25%|██▌       | 2/8 [00:00<00:00,  7.07it/s]\n",
      " 38%|███▊      | 3/8 [00:00<00:00,  6.49it/s]\n",
      " 12%|█▎        | 1/8 [00:00<00:01,  3.95it/s]\n",
      " 50%|█████     | 4/8 [00:00<00:00,  5.47it/s]\n",
      " 25%|██▌       | 2/8 [00:00<00:01,  4.42it/s]\n",
      " 62%|██████▎   | 5/8 [00:00<00:00,  5.11it/s]\n",
      " 38%|███▊      | 3/8 [00:00<00:01,  4.30it/s]\n",
      " 75%|███████▌  | 6/8 [00:01<00:00,  4.94it/s]\n",
      " 50%|█████     | 4/8 [00:00<00:00,  4.37it/s]\n",
      " 88%|████████▊ | 7/8 [00:01<00:00,  4.93it/s]\n",
      " 62%|██████▎   | 5/8 [00:01<00:00,  4.40it/s]\n",
      "100%|██████████| 8/8 [00:01<00:00,  5.52it/s]\n",
      " 75%|███████▌  | 6/8 [00:01<00:00,  5.00it/s]\n",
      " 88%|████████▊ | 7/8 [00:01<00:00,  5.82it/s]\n",
      "100%|██████████| 8/8 [00:01<00:00,  5.26it/s]\n",
      "230373 DEBUG flwr 2023-03-21 23:46:35,978 | server.py:279 | fit_round 5 received 10 results and 0 failures\n",
      "230373 INFO flwr 2023-03-21 23:46:35,979 | strategy.py:186 | Completion times of clients: [605.1758600636174, 1295.120629326178, 531.9845508660098, 532.2844543804035, 1686.1347550691862, 381.84604442963996, 602.8195448041901, 1066.7956404363479, 530.464496115181, 320.0847594423552]\n",
      "230373 INFO flwr 2023-03-21 23:46:35,980 | strategy.py:188 | Maximum completion time of clients: 1686.1347550691862\n"
     ]
    },
    {
     "name": "stdout",
     "output_type": "stream",
     "text": [
      "Server round 5\n"
     ]
    },
    {
     "name": "stderr",
     "output_type": "stream",
     "text": [
      "100%|██████████| 891/891 [00:08<00:00, 100.47it/s]\n",
      "230373 INFO flwr 2023-03-21 23:46:44,877 | server.py:140 | fit progress: (5, 2691.472757577896, {'accuracy': 0.3237811294282708, 'eval_time': 8955.975860646951}, 125.45843999299905)\n",
      "230373 INFO flwr 2023-03-21 23:46:44,878 | server.py:190 | evaluate_round 5: no clients selected, cancel\n",
      "230373 INFO flwr 2023-03-21 23:46:44,889 | client_manager.py:49 | Sampling using <__main__.ActivityCriterion object at 0x7f6eba6c5300>\n",
      "230373 DEBUG flwr 2023-03-21 23:46:44,891 | server.py:255 | fit_round 6: strategy sampled 10 clients (out of 3229)\n"
     ]
    },
    {
     "name": "stdout",
     "output_type": "stream",
     "text": [
      "Sampled the following clients:  ['843', '2757', '2893', '2357', '386', '2256', '1647', '685', '104', '751']\n",
      "\u001b[2m\u001b[36m(launch_and_fit pid=253849)\u001b[0m Getting client with id 843\n",
      "\u001b[2m\u001b[36m(launch_and_fit pid=253849)\u001b[0m Client 843 --- Current virtual clock time: 8955.975860646951\n",
      "\u001b[2m\u001b[36m(launch_and_fit pid=253849)\u001b[0m Client 843 --- Duration: 1160.6477784499832\n",
      "\u001b[2m\u001b[36m(launch_and_fit pid=253849)\u001b[0m Client 843 --- Traces: {'duration': 1160.6477784499832, 'inactive': [5, 13899, 16286, 18836, 32454, 61471, 85404, 105373, 171542, 173268, 333867, 351204, 354897, 435228, 493461], 'finish_time': 518400, 'active': [0, 7726, 15904, 16905, 28659, 42001, 83510, 94334, 170859, 172717, 312112, 345086, 353588, 434133, 477221], 'model': 'POT-LX3'}\n",
      "\u001b[2m\u001b[36m(launch_and_fit pid=253849)\u001b[0m Client 843 --- Predicted completion: 10115\n",
      "\u001b[2m\u001b[36m(launch_and_fit pid=253849)\u001b[0m Client 843 --- isActive: True\n",
      "\u001b[2m\u001b[36m(launch_and_fit pid=253851)\u001b[0m Getting client with id 2757\n",
      "\u001b[2m\u001b[36m(launch_and_fit pid=253851)\u001b[0m Client 2757 --- Current virtual clock time: 8955.975860646951\n",
      "\u001b[2m\u001b[36m(launch_and_fit pid=253851)\u001b[0m Client 2757 --- Duration: 1977.5401397947521\n",
      "\u001b[2m\u001b[36m(launch_and_fit pid=253851)\u001b[0m Client 2757 --- Traces: {'duration': 1977.5401397947521, 'inactive': [4418, 36156, 70164, 71578, 76289], 'finish_time': 86400, 'active': [3845, 4615, 69228, 71134, 74557], 'model': 'Redmi 7A'}\n",
      "\u001b[2m\u001b[36m(launch_and_fit pid=253851)\u001b[0m Client 2757 --- Predicted completion: 10932\n",
      "\u001b[2m\u001b[36m(launch_and_fit pid=253851)\u001b[0m Client 2757 --- isActive: True\n",
      "\u001b[2m\u001b[36m(launch_and_fit pid=253857)\u001b[0m Getting client with id 386\n",
      "\u001b[2m\u001b[36m(launch_and_fit pid=253857)\u001b[0m Client 386 --- Current virtual clock time: 8955.975860646951\n",
      "\u001b[2m\u001b[36m(launch_and_fit pid=253857)\u001b[0m Client 386 --- Duration: 972.1194661861574\n",
      "\u001b[2m\u001b[36m(launch_and_fit pid=253857)\u001b[0m Client 386 --- Traces: {'duration': 972.1194661861574, 'inactive': [19079, 67319, 77647, 82507, 83340, 83892, 87057, 88742, 106456, 127032, 141971, 146629, 150147, 150416, 150719, 150816, 153704, 154115, 154219, 162236, 163197, 171871, 174194, 178035, 194046, 200115, 228462, 228533, 239040, 246515, 246622, 246789, 249295, 264767, 264783, 264856, 266211, 272915, 326890, 328129, 329182, 329221, 329237, 329284, 329390, 330084, 330214, 330303, 330311, 335980, 338749, 338841, 339151, 340410, 341469, 341475, 346954, 347114, 350283, 350303, 350383, 350502, 350598, 350621, 352143, 352311, 353798, 355267, 359863, 360056, 360304, 360501, 360554, 360568, 365705, 365821, 365846, 365887, 365941, 365974, 366050, 366089, 366155, 366273, 366404, 366965, 367357, 367573, 368148, 369760, 370496, 371111, 371114, 371267, 371906, 373239, 373526, 377236, 377241, 397948, 400683, 400743, 401370, 406571, 411551, 416768, 416786, 417069, 417093, 417107, 417266, 417849, 417908, 423256, 423447, 424736, 424738, 428960, 430417, 431153, 431188, 431209, 431231, 432124, 432130, 432323, 432338, 433349, 433355, 433433, 434062, 434715, 435571, 436258, 436428, 436523, 436551, 436569, 436937, 437513, 437517, 438315, 438329, 438340, 439197, 439201, 439221, 439699, 439731, 439748, 439798, 439928, 439951, 439981, 440036, 440541, 440566, 440589, 440854, 440970, 441095, 441099, 441391, 441462, 441515, 441528, 441564, 441603, 443608, 443644, 444319, 444351, 444377, 444443, 444550, 444603, 457677, 506827, 506841, 506859, 507188, 507602, 507664, 508184, 508191, 509325, 509751, 510306, 511214, 511308, 511433, 511862, 511897, 512192, 512416, 512418, 513606, 517494, 517521, 518329, 518344], 'finish_time': 518400, 'active': [0, 66342, 68011, 81910, 82509, 83525, 83896, 88525, 88785, 125737, 140100, 144272, 150095, 150150, 150416, 150720, 152500, 153705, 154116, 157982, 162243, 171140, 173812, 176105, 178146, 194048, 225244, 228513, 237713, 242576, 246529, 246640, 247988, 264306, 264770, 264852, 265205, 266735, 323236, 327286, 328130, 329183, 329222, 329238, 329285, 329391, 330084, 330216, 330304, 334045, 335981, 338750, 338843, 339152, 340436, 341470, 346852, 347059, 350139, 350284, 350303, 350383, 350503, 350599, 350621, 352143, 352312, 355139, 355271, 359863, 360057, 360361, 360509, 360554, 365617, 365705, 365827, 365847, 365890, 365941, 366009, 366051, 366090, 366227, 366277, 366405, 366989, 367439, 367755, 368149, 369761, 370514, 371111, 371136, 371267, 371906, 373239, 373527, 377237, 397494, 398153, 400684, 401140, 405459, 408277, 416750, 416771, 416789, 417076, 417094, 417131, 417833, 417850, 417908, 423257, 423847, 424737, 428627, 428961, 431130, 431154, 431194, 431216, 431270, 432130, 432263, 432338, 432426, 433350, 433399, 433433, 434066, 434743, 435575, 436276, 436499, 436528, 436552, 436578, 436938, 437516, 437543, 438316, 438339, 439061, 439200, 439218, 439237, 439703, 439734, 439762, 439889, 439950, 439966, 440012, 440053, 440547, 440567, 440657, 440854, 440973, 441096, 441389, 441426, 441484, 441521, 441563, 441602, 443578, 443626, 443656, 444320, 444353, 444382, 444540, 444558, 444761, 506632, 506830, 506850, 507118, 507570, 507629, 508166, 508186, 509248, 509576, 509754, 510431, 511216, 511309, 511437, 511868, 511908, 512195, 512417, 512463, 517418, 517501, 517529, 518343], 'model': 'SM-G610M'}\n",
      "\u001b[2m\u001b[36m(launch_and_fit pid=253857)\u001b[0m Client 386 --- Predicted completion: 9927\n",
      "\u001b[2m\u001b[36m(launch_and_fit pid=253857)\u001b[0m Client 386 --- isActive: True\n"
     ]
    },
    {
     "name": "stderr",
     "output_type": "stream",
     "text": [
      "  0%|          | 0/8 [00:00<?, ?it/s][0m \n",
      "  0%|          | 0/8 [00:00<?, ?it/s][0m \n",
      "  0%|          | 0/8 [00:00<?, ?it/s][0m \n",
      "  0%|          | 0/8 [00:00<?, ?it/s][0m \n",
      "230373 DEBUG flwr 2023-03-21 23:46:51,893 | ray_client_proxy.py:87 | \u001b[36mray::launch_and_fit()\u001b[39m (pid=253858, ip=10.9.7.124)\n",
      "  File \"/home/wash/LARGE/Work/L361_project/flower_fedbuff_project/src/py/flwr/simulation/ray_transport/ray_client_proxy.py\", line 148, in launch_and_fit\n",
      "    return maybe_call_fit(\n",
      "  File \"/home/wash/LARGE/Work/L361_project/flower_fedbuff_project/src/py/flwr/client/client.py\", line 184, in maybe_call_fit\n",
      "    return client.fit(fit_ins)\n",
      "  File \"/home/wash/LARGE/Work/L361_project/flower_fedbuff_project/src/py/flwr/client/app.py\", line 275, in _fit\n",
      "    results = self.numpy_client.fit(parameters, ins.config)  # type: ignore\n",
      "  File \"/tmp/ipykernel_230373/2728577686.py\", line 79, in fit\n",
      "Exception: Client 685 is not active at the current time step\n"
     ]
    },
    {
     "name": "stdout",
     "output_type": "stream",
     "text": [
      "\u001b[2m\u001b[36m(launch_and_fit pid=253854)\u001b[0m Getting client with id 2893\n",
      "\u001b[2m\u001b[36m(launch_and_fit pid=253854)\u001b[0m Client 2893 --- Current virtual clock time: 8955.975860646951\n",
      "\u001b[2m\u001b[36m(launch_and_fit pid=253854)\u001b[0m Client 2893 --- Duration: 951.0258110846362\n",
      "\u001b[2m\u001b[36m(launch_and_fit pid=253854)\u001b[0m Client 2893 --- Traces: {'duration': 951.0258110846362, 'inactive': [393, 28300, 116083, 174428, 174700, 177398, 206524, 207122, 208465, 215798, 245858, 245988, 246424, 247865, 249586, 251597, 264268, 298922, 305584, 331520, 331991, 333736, 337332, 348836, 373181], 'finish_time': 432000, 'active': [60, 399, 90742, 172057, 174429, 174701, 199912, 206651, 207128, 208473, 245715, 245859, 245989, 246425, 247866, 250433, 261607, 268525, 298925, 331225, 331527, 331995, 333754, 348699, 348838], 'model': 'Redmi Note 4'}\n",
      "\u001b[2m\u001b[36m(launch_and_fit pid=253854)\u001b[0m Client 2893 --- Predicted completion: 9906\n",
      "\u001b[2m\u001b[36m(launch_and_fit pid=253854)\u001b[0m Client 2893 --- isActive: True\n",
      "\u001b[2m\u001b[36m(launch_and_fit pid=253855)\u001b[0m Getting client with id 2357\n",
      "\u001b[2m\u001b[36m(launch_and_fit pid=253855)\u001b[0m Client 2357 --- Current virtual clock time: 8955.975860646951\n",
      "\u001b[2m\u001b[36m(launch_and_fit pid=253855)\u001b[0m Client 2357 --- Duration: 148.58967191529317\n",
      "\u001b[2m\u001b[36m(launch_and_fit pid=253855)\u001b[0m Client 2357 --- Traces: {'duration': 148.58967191529317, 'inactive': [12102, 50288, 136607, 262106, 314844, 395628, 481460], 'finish_time': 518400, 'active': [6664, 47613, 126130, 256551, 308143, 392948, 471669], 'model': 'Redmi 6'}\n",
      "\u001b[2m\u001b[36m(launch_and_fit pid=253855)\u001b[0m Client 2357 --- Predicted completion: 9103\n",
      "\u001b[2m\u001b[36m(launch_and_fit pid=253855)\u001b[0m Client 2357 --- isActive: True\n",
      "\u001b[2m\u001b[36m(launch_and_fit pid=253858)\u001b[0m Getting client with id 685\n",
      "\u001b[2m\u001b[36m(launch_and_fit pid=253858)\u001b[0m Client 685 --- Current virtual clock time: 8955.975860646951\n",
      "\u001b[2m\u001b[36m(launch_and_fit pid=253858)\u001b[0m Client 685 --- Duration: 339.11549114862265\n",
      "\u001b[2m\u001b[36m(launch_and_fit pid=253858)\u001b[0m Client 685 --- Traces: {'duration': 339.11549114862265, 'inactive': [9011, 15983, 65520, 69778, 80325], 'finish_time': 86400, 'active': [0, 14623, 58784, 67154, 72129], 'model': 'vivo 1601'}\n",
      "\u001b[2m\u001b[36m(launch_and_fit pid=253858)\u001b[0m Client 685 --- Predicted completion: 9294\n",
      "\u001b[2m\u001b[36m(launch_and_fit pid=253858)\u001b[0m Client 685 --- isActive: False\n"
     ]
    },
    {
     "name": "stderr",
     "output_type": "stream",
     "text": [
      "  0%|          | 0/8 [00:00<?, ?it/s][0m \n",
      " 12%|█▎        | 1/8 [00:00<00:05,  1.27it/s]\n",
      " 12%|█▎        | 1/8 [00:00<00:04,  1.41it/s]\n",
      " 12%|█▎        | 1/8 [00:00<00:04,  1.46it/s]\n"
     ]
    },
    {
     "name": "stdout",
     "output_type": "stream",
     "text": [
      "\u001b[2m\u001b[36m(launch_and_fit pid=253859)\u001b[0m Getting client with id 1647\n",
      "\u001b[2m\u001b[36m(launch_and_fit pid=253859)\u001b[0m Client 1647 --- Current virtual clock time: 8955.975860646951\n",
      "\u001b[2m\u001b[36m(launch_and_fit pid=253859)\u001b[0m Client 1647 --- Duration: 582.1631786715387\n",
      "\u001b[2m\u001b[36m(launch_and_fit pid=253859)\u001b[0m Client 1647 --- Traces: {'duration': 582.1631786715387, 'inactive': [9600, 24043, 24269, 24286, 24312, 24336, 26343, 26434, 27054, 30071, 59184, 59769, 59820, 59831, 60719, 61594, 61605, 73598, 83294, 86764, 93132, 94836, 99640, 99650, 103984, 109492, 148236, 164025, 165497, 169442, 178729, 185902, 191705, 198083, 231403, 234844, 249400, 260267, 260277, 269720, 276152, 278471, 281149, 282773, 285039, 337932, 340668, 346989, 348689, 355635, 355838, 356050, 356429, 359427, 366628, 366659, 367034, 367677, 367723, 404490, 408267, 440053, 450121, 450131, 486285, 494515, 510920, 512991], 'finish_time': 518400, 'active': [4488, 23688, 24044, 24270, 24295, 24313, 26244, 26407, 26435, 27069, 57501, 59184, 59770, 59821, 60164, 60720, 61595, 70480, 83127, 83385, 92544, 93526, 99458, 99640, 100991, 106499, 145116, 163918, 164028, 166246, 175970, 184822, 187712, 192198, 230448, 231436, 245723, 254529, 260267, 265581, 272959, 277383, 278630, 281156, 283999, 335522, 337933, 344259, 346990, 355572, 355652, 355842, 356424, 356456, 366246, 366635, 366671, 367043, 367677, 397743, 406792, 437464, 442037, 450121, 462044, 491294, 507968, 512206], 'model': 'Redmi Note 4'}\n",
      "\u001b[2m\u001b[36m(launch_and_fit pid=253859)\u001b[0m Client 1647 --- Predicted completion: 9537\n",
      "\u001b[2m\u001b[36m(launch_and_fit pid=253859)\u001b[0m Client 1647 --- isActive: True\n"
     ]
    },
    {
     "name": "stderr",
     "output_type": "stream",
     "text": [
      "  0%|          | 0/8 [00:00<?, ?it/s][0m \n",
      " 12%|█▎        | 1/8 [00:01<00:07,  1.01s/it]\n",
      "230373 DEBUG flwr 2023-03-21 23:46:52,995 | ray_client_proxy.py:87 | \u001b[36mray::launch_and_fit()\u001b[39m (pid=253892, ip=10.9.7.124)\n",
      "  File \"/home/wash/LARGE/Work/L361_project/flower_fedbuff_project/src/py/flwr/simulation/ray_transport/ray_client_proxy.py\", line 148, in launch_and_fit\n",
      "    return maybe_call_fit(\n",
      "  File \"/home/wash/LARGE/Work/L361_project/flower_fedbuff_project/src/py/flwr/client/client.py\", line 184, in maybe_call_fit\n",
      "    return client.fit(fit_ins)\n",
      "  File \"/home/wash/LARGE/Work/L361_project/flower_fedbuff_project/src/py/flwr/client/app.py\", line 275, in _fit\n",
      "    results = self.numpy_client.fit(parameters, ins.config)  # type: ignore\n",
      "  File \"/tmp/ipykernel_230373/2728577686.py\", line 79, in fit\n",
      "Exception: Client 104 is not active at the current time step\n"
     ]
    },
    {
     "name": "stdout",
     "output_type": "stream",
     "text": [
      "\u001b[2m\u001b[36m(launch_and_fit pid=253892)\u001b[0m Getting client with id 104\n",
      "\u001b[2m\u001b[36m(launch_and_fit pid=253892)\u001b[0m Client 104 --- Current virtual clock time: 8955.975860646951\n",
      "\u001b[2m\u001b[36m(launch_and_fit pid=253892)\u001b[0m Client 104 --- Duration: 1174.2966207779598\n",
      "\u001b[2m\u001b[36m(launch_and_fit pid=253892)\u001b[0m Client 104 --- Traces: {'duration': 1174.2966207779598, 'inactive': [9282, 47430, 47432, 67127, 74134, 95903, 134981, 149435, 153530, 176741, 190862, 220845, 239781, 256996, 264343, 329573, 354648, 393424, 418491, 444015, 449566, 479718, 492649], 'finish_time': 518400, 'active': [6633, 46128, 47430, 62730, 72812, 93397, 133369, 146529, 149439, 173309, 188340, 219929, 233711, 255118, 261482, 328191, 345049, 377432, 414645, 438585, 449052, 478048, 490275], 'model': 'Redmi Note 8'}\n",
      "\u001b[2m\u001b[36m(launch_and_fit pid=253892)\u001b[0m Client 104 --- Predicted completion: 10129\n",
      "\u001b[2m\u001b[36m(launch_and_fit pid=253892)\u001b[0m Client 104 --- isActive: False\n"
     ]
    },
    {
     "name": "stderr",
     "output_type": "stream",
     "text": [
      " 25%|██▌       | 2/8 [00:01<00:04,  1.27it/s]\n",
      " 25%|██▌       | 2/8 [00:01<00:04,  1.38it/s]\n",
      " 25%|██▌       | 2/8 [00:01<00:05,  1.17it/s]\n",
      " 12%|█▎        | 1/8 [00:00<00:05,  1.22it/s]\n",
      " 12%|█▎        | 1/8 [00:01<00:13,  1.94s/it]\n",
      " 38%|███▊      | 3/8 [00:02<00:03,  1.31it/s]\n",
      " 25%|██▌       | 2/8 [00:01<00:05,  1.03it/s]\n",
      " 38%|███▊      | 3/8 [00:02<00:03,  1.29it/s]\n",
      " 38%|███▊      | 3/8 [00:02<00:04,  1.10it/s]\n",
      " 25%|██▌       | 2/8 [00:01<00:05,  1.16it/s]\n",
      " 50%|█████     | 4/8 [00:02<00:02,  1.52it/s]\n",
      " 25%|██▌       | 2/8 [00:02<00:08,  1.34s/it]\n",
      " 62%|██████▎   | 5/8 [00:03<00:01,  1.81it/s]\n",
      " 38%|███▊      | 3/8 [00:02<00:04,  1.02it/s]\n",
      " 50%|█████     | 4/8 [00:03<00:03,  1.23it/s]\n",
      " 38%|███▊      | 3/8 [00:02<00:04,  1.23it/s]\n",
      " 50%|█████     | 4/8 [00:03<00:03,  1.17it/s]\n",
      " 75%|███████▌  | 6/8 [00:03<00:01,  1.95it/s]\n",
      " 62%|██████▎   | 5/8 [00:03<00:02,  1.42it/s]\n",
      " 50%|█████     | 4/8 [00:03<00:03,  1.13it/s]\n",
      " 62%|██████▎   | 5/8 [00:03<00:02,  1.30it/s]\n",
      " 38%|███▊      | 3/8 [00:03<00:06,  1.21s/it]\n",
      " 88%|████████▊ | 7/8 [00:04<00:00,  2.04it/s]\n",
      " 50%|█████     | 4/8 [00:03<00:03,  1.27it/s]\n",
      " 75%|███████▌  | 6/8 [00:04<00:01,  1.50it/s]\n",
      "100%|██████████| 8/8 [00:04<00:00,  1.78it/s]\n",
      " 62%|██████▎   | 5/8 [00:04<00:02,  1.28it/s]\n",
      " 75%|███████▌  | 6/8 [00:04<00:01,  1.41it/s]\n",
      " 62%|██████▎   | 5/8 [00:03<00:02,  1.43it/s]\n",
      " 88%|████████▊ | 7/8 [00:04<00:00,  1.70it/s]\n",
      " 50%|█████     | 4/8 [00:04<00:04,  1.07s/it]\n",
      " 88%|████████▊ | 7/8 [00:04<00:00,  1.73it/s]\n",
      " 75%|███████▌  | 6/8 [00:04<00:01,  1.40it/s]\n",
      "100%|██████████| 8/8 [00:05<00:00,  1.54it/s]\n",
      " 75%|███████▌  | 6/8 [00:04<00:01,  1.61it/s]\n",
      "100%|██████████| 8/8 [00:05<00:00,  1.55it/s]\n",
      " 88%|████████▊ | 7/8 [00:05<00:00,  1.71it/s]\n",
      " 62%|██████▎   | 5/8 [00:05<00:02,  1.11it/s]\n",
      " 88%|████████▊ | 7/8 [00:04<00:00,  1.91it/s]\n",
      "100%|██████████| 8/8 [00:05<00:00,  1.45it/s]\n",
      "100%|██████████| 8/8 [00:04<00:00,  1.65it/s]\n",
      " 75%|███████▌  | 6/8 [00:05<00:01,  1.34it/s]\n",
      " 88%|████████▊ | 7/8 [00:06<00:00,  1.51it/s]\n",
      "100%|██████████| 8/8 [00:07<00:00,  1.14it/s]\n",
      "  0%|          | 0/8 [00:00<?, ?it/s][0m \n"
     ]
    },
    {
     "name": "stdout",
     "output_type": "stream",
     "text": [
      "\u001b[2m\u001b[36m(launch_and_fit pid=254426)\u001b[0m Getting client with id 2256\n",
      "\u001b[2m\u001b[36m(launch_and_fit pid=254426)\u001b[0m Client 2256 --- Current virtual clock time: 8955.975860646951\n",
      "\u001b[2m\u001b[36m(launch_and_fit pid=254426)\u001b[0m Client 2256 --- Duration: 391.5441576570953\n",
      "\u001b[2m\u001b[36m(launch_and_fit pid=254426)\u001b[0m Client 2256 --- Traces: {'duration': 391.5441576570953, 'inactive': [13343, 105691, 230990, 455639, 484455], 'finish_time': 518400, 'active': [6815, 96750, 228916, 454431, 456736], 'model': 'CPH1803'}\n",
      "\u001b[2m\u001b[36m(launch_and_fit pid=254426)\u001b[0m Client 2256 --- Predicted completion: 9346\n",
      "\u001b[2m\u001b[36m(launch_and_fit pid=254426)\u001b[0m Client 2256 --- isActive: True\n"
     ]
    },
    {
     "name": "stderr",
     "output_type": "stream",
     "text": [
      " 12%|█▎        | 1/8 [00:00<00:04,  1.64it/s]\n",
      " 25%|██▌       | 2/8 [00:00<00:02,  2.72it/s]\n",
      " 38%|███▊      | 3/8 [00:00<00:01,  3.60it/s]\n",
      " 50%|█████     | 4/8 [00:01<00:00,  4.50it/s]\n",
      "  0%|          | 0/8 [00:00<?, ?it/s][0m \n",
      " 62%|██████▎   | 5/8 [00:01<00:00,  5.36it/s]\n"
     ]
    },
    {
     "name": "stdout",
     "output_type": "stream",
     "text": [
      "\u001b[2m\u001b[36m(launch_and_fit pid=254743)\u001b[0m Getting client with id 751\n",
      "\u001b[2m\u001b[36m(launch_and_fit pid=254743)\u001b[0m Client 751 --- Current virtual clock time: 8955.975860646951\n",
      "\u001b[2m\u001b[36m(launch_and_fit pid=254743)\u001b[0m Client 751 --- Duration: 199.24455933365445\n",
      "\u001b[2m\u001b[36m(launch_and_fit pid=254743)\u001b[0m Client 751 --- Traces: {'duration': 199.24455933365445, 'inactive': [6879, 11608, 11618, 41361, 82554, 95612, 98831, 119504, 183114, 231902, 346776, 359740, 401490, 414089, 430987], 'finish_time': 432000, 'active': [1567, 7758, 11608, 39558, 75634, 93760, 97560, 99296, 170035, 219769, 341839, 348711, 384065, 413771, 414922], 'model': 'Redmi 4A'}\n",
      "\u001b[2m\u001b[36m(launch_and_fit pid=254743)\u001b[0m Client 751 --- Predicted completion: 9154\n",
      "\u001b[2m\u001b[36m(launch_and_fit pid=254743)\u001b[0m Client 751 --- isActive: True\n"
     ]
    },
    {
     "name": "stderr",
     "output_type": "stream",
     "text": [
      " 75%|███████▌  | 6/8 [00:01<00:00,  5.98it/s]\n",
      " 88%|████████▊ | 7/8 [00:01<00:00,  6.31it/s]\n",
      " 12%|█▎        | 1/8 [00:00<00:02,  3.48it/s]\n",
      "100%|██████████| 8/8 [00:01<00:00,  4.72it/s]\n",
      " 25%|██▌       | 2/8 [00:00<00:01,  3.82it/s]\n",
      " 38%|███▊      | 3/8 [00:00<00:01,  4.62it/s]\n",
      " 50%|█████     | 4/8 [00:00<00:00,  5.37it/s]\n",
      " 62%|██████▎   | 5/8 [00:00<00:00,  5.79it/s]\n",
      " 75%|███████▌  | 6/8 [00:01<00:00,  5.76it/s]\n",
      " 88%|████████▊ | 7/8 [00:01<00:00,  5.80it/s]\n",
      "230373 DEBUG flwr 2023-03-21 23:47:01,871 | server.py:279 | fit_round 6 received 8 results and 2 failures\n",
      "230373 INFO flwr 2023-03-21 23:47:01,874 | strategy.py:186 | Completion times of clients: [1160.6477784499832, 1977.5401397947521, 199.24455933365445, 391.5441576570953, 951.0258110846362, 582.1631786715387, 148.58967191529317, 972.1194661861574]\n",
      "230373 INFO flwr 2023-03-21 23:47:01,876 | strategy.py:188 | Maximum completion time of clients: 1977.5401397947521\n",
      "100%|██████████| 8/8 [00:01<00:00,  5.31it/s]\n"
     ]
    },
    {
     "name": "stdout",
     "output_type": "stream",
     "text": [
      "Server round 6\n"
     ]
    },
    {
     "name": "stderr",
     "output_type": "stream",
     "text": [
      "100%|██████████| 891/891 [00:09<00:00, 96.44it/s] \n",
      "230373 INFO flwr 2023-03-21 23:47:11,165 | server.py:140 | fit progress: (6, 2312.975367665291, {'accuracy': 0.3553490003507541, 'eval_time': 10933.516000441703}, 151.74678884999958)\n",
      "230373 INFO flwr 2023-03-21 23:47:11,166 | server.py:190 | evaluate_round 6: no clients selected, cancel\n",
      "230373 INFO flwr 2023-03-21 23:47:11,178 | client_manager.py:49 | Sampling using <__main__.ActivityCriterion object at 0x7f6eba6c5300>\n",
      "230373 DEBUG flwr 2023-03-21 23:47:11,180 | server.py:255 | fit_round 7: strategy sampled 10 clients (out of 3229)\n"
     ]
    },
    {
     "name": "stdout",
     "output_type": "stream",
     "text": [
      "Sampled the following clients:  ['1277', '2644', '2828', '1754', '2608', '166', '1756', '2995', '584', '2136']\n"
     ]
    },
    {
     "name": "stderr",
     "output_type": "stream",
     "text": [
      "230373 DEBUG flwr 2023-03-21 23:47:17,016 | ray_client_proxy.py:87 | \u001b[36mray::launch_and_fit()\u001b[39m (pid=258193, ip=10.9.7.124)\n",
      "  File \"/home/wash/LARGE/Work/L361_project/flower_fedbuff_project/src/py/flwr/simulation/ray_transport/ray_client_proxy.py\", line 148, in launch_and_fit\n",
      "    return maybe_call_fit(\n",
      "  File \"/home/wash/LARGE/Work/L361_project/flower_fedbuff_project/src/py/flwr/client/client.py\", line 184, in maybe_call_fit\n",
      "    return client.fit(fit_ins)\n",
      "  File \"/home/wash/LARGE/Work/L361_project/flower_fedbuff_project/src/py/flwr/client/app.py\", line 275, in _fit\n",
      "    results = self.numpy_client.fit(parameters, ins.config)  # type: ignore\n",
      "  File \"/tmp/ipykernel_230373/2728577686.py\", line 79, in fit\n",
      "Exception: Client 1277 is not active at the current time step\n"
     ]
    },
    {
     "name": "stdout",
     "output_type": "stream",
     "text": [
      "\u001b[2m\u001b[36m(launch_and_fit pid=258193)\u001b[0m Getting client with id 1277\n",
      "\u001b[2m\u001b[36m(launch_and_fit pid=258193)\u001b[0m Client 1277 --- Current virtual clock time: 10933.516000441703\n",
      "\u001b[2m\u001b[36m(launch_and_fit pid=258193)\u001b[0m Client 1277 --- Duration: 1259.7466655662938\n",
      "\u001b[2m\u001b[36m(launch_and_fit pid=258193)\u001b[0m Client 1277 --- Traces: {'duration': 1259.7466655662938, 'inactive': [4720, 11088, 17587, 17593, 25868, 46457, 83214], 'finish_time': 86400, 'active': [3311, 4721, 14593, 17588, 21911, 25990, 53196], 'model': 'ASUS_X00LD'}\n",
      "\u001b[2m\u001b[36m(launch_and_fit pid=258193)\u001b[0m Client 1277 --- Predicted completion: 12192\n",
      "\u001b[2m\u001b[36m(launch_and_fit pid=258193)\u001b[0m Client 1277 --- isActive: False\n"
     ]
    },
    {
     "name": "stderr",
     "output_type": "stream",
     "text": [
      "  0%|          | 0/8 [00:00<?, ?it/s][0m \n",
      "  0%|          | 0/8 [00:00<?, ?it/s][0m \n",
      "  0%|          | 0/8 [00:00<?, ?it/s][0m \n",
      "  0%|          | 0/8 [00:00<?, ?it/s][0m \n",
      "  0%|          | 0/8 [00:00<?, ?it/s][0m \n",
      "  0%|          | 0/8 [00:00<?, ?it/s][0m \n"
     ]
    },
    {
     "name": "stdout",
     "output_type": "stream",
     "text": [
      "\u001b[2m\u001b[36m(launch_and_fit pid=258199)\u001b[0m Getting client with id 2608\n",
      "\u001b[2m\u001b[36m(launch_and_fit pid=258199)\u001b[0m Client 2608 --- Current virtual clock time: 10933.516000441703\n",
      "\u001b[2m\u001b[36m(launch_and_fit pid=258199)\u001b[0m Client 2608 --- Duration: 136.80537284954332\n",
      "\u001b[2m\u001b[36m(launch_and_fit pid=258199)\u001b[0m Client 2608 --- Traces: {'duration': 136.80537284954332, 'inactive': [3828, 11813, 94783, 111025, 137851, 158019, 158031, 160379, 169714, 212285, 232049, 261804, 390678, 470770, 476352, 477026], 'finish_time': 518400, 'active': [0, 8340, 94565, 103110, 137642, 157437, 158020, 159874, 160386, 208968, 224008, 257828, 386822, 467905, 470778, 476353], 'model': 'SM-J250F'}\n",
      "\u001b[2m\u001b[36m(launch_and_fit pid=258199)\u001b[0m Client 2608 --- Predicted completion: 11069\n",
      "\u001b[2m\u001b[36m(launch_and_fit pid=258199)\u001b[0m Client 2608 --- isActive: True\n",
      "\u001b[2m\u001b[36m(launch_and_fit pid=258202)\u001b[0m Getting client with id 166\n",
      "\u001b[2m\u001b[36m(launch_and_fit pid=258202)\u001b[0m Client 166 --- Current virtual clock time: 10933.516000441703\n",
      "\u001b[2m\u001b[36m(launch_and_fit pid=258202)\u001b[0m Client 166 --- Duration: 508.40365067656967\n",
      "\u001b[2m\u001b[36m(launch_and_fit pid=258202)\u001b[0m Client 166 --- Traces: {'duration': 508.40365067656967, 'inactive': [25624, 64064, 76850, 114506, 168909, 170234, 172751, 204015, 246771, 256226, 300235, 332805, 336041, 347689, 421371], 'finish_time': 432000, 'active': [1945, 60719, 70661, 88297, 163929, 170160, 170266, 173940, 244172, 251131, 292039, 332463, 334433, 338811, 408153], 'model': 'moto e6 play'}\n",
      "\u001b[2m\u001b[36m(launch_and_fit pid=258202)\u001b[0m Client 166 --- Predicted completion: 11441\n",
      "\u001b[2m\u001b[36m(launch_and_fit pid=258202)\u001b[0m Client 166 --- isActive: True\n",
      "\u001b[2m\u001b[36m(launch_and_fit pid=258195)\u001b[0m Getting client with id 2644\n",
      "\u001b[2m\u001b[36m(launch_and_fit pid=258195)\u001b[0m Client 2644 --- Current virtual clock time: 10933.516000441703\n",
      "\u001b[2m\u001b[36m(launch_and_fit pid=258195)\u001b[0m Client 2644 --- Duration: 395.8645144838243\n",
      "\u001b[2m\u001b[36m(launch_and_fit pid=258195)\u001b[0m Client 2644 --- Traces: {'duration': 395.8645144838243, 'inactive': [14042, 52118, 75686, 136855, 167460], 'finish_time': 172800, 'active': [8814, 49260, 67948, 128360, 163398], 'model': 'vivo 1802'}\n",
      "\u001b[2m\u001b[36m(launch_and_fit pid=258195)\u001b[0m Client 2644 --- Predicted completion: 11328\n",
      "\u001b[2m\u001b[36m(launch_and_fit pid=258195)\u001b[0m Client 2644 --- isActive: True\n",
      "\u001b[2m\u001b[36m(launch_and_fit pid=258197)\u001b[0m Getting client with id 2828\n",
      "\u001b[2m\u001b[36m(launch_and_fit pid=258197)\u001b[0m Client 2828 --- Current virtual clock time: 10933.516000441703\n",
      "\u001b[2m\u001b[36m(launch_and_fit pid=258197)\u001b[0m Client 2828 --- Duration: 522.9261473971017\n",
      "\u001b[2m\u001b[36m(launch_and_fit pid=258197)\u001b[0m Client 2828 --- Traces: {'duration': 522.9261473971017, 'inactive': [39489, 165706, 207831, 208321, 299030, 300732, 396725], 'finish_time': 432000, 'active': [10359, 159529, 177257, 207852, 296672, 299041, 386293], 'model': 'Moto G (5S) Plus'}\n",
      "\u001b[2m\u001b[36m(launch_and_fit pid=258197)\u001b[0m Client 2828 --- Predicted completion: 11455\n",
      "\u001b[2m\u001b[36m(launch_and_fit pid=258197)\u001b[0m Client 2828 --- isActive: True\n",
      "\u001b[2m\u001b[36m(launch_and_fit pid=258203)\u001b[0m Getting client with id 2995\n",
      "\u001b[2m\u001b[36m(launch_and_fit pid=258203)\u001b[0m Client 2995 --- Current virtual clock time: 10933.516000441703\n",
      "\u001b[2m\u001b[36m(launch_and_fit pid=258203)\u001b[0m Client 2995 --- Duration: 1476.8006003275063\n",
      "\u001b[2m\u001b[36m(launch_and_fit pid=258203)\u001b[0m Client 2995 --- Traces: {'duration': 1476.8006003275063, 'inactive': [9697, 45312, 49116, 132205, 132769, 132789, 133381, 133501, 133504, 135176, 135316, 135592, 148741, 165081, 173274, 185198, 195420, 221116, 223169, 306218, 306489, 306586, 314544, 335890, 355384, 355690, 355701, 363600, 363639, 377239, 386037, 386866, 388163, 388937, 389081, 416381, 417742, 420275, 428615, 430300, 430304, 450405, 477676], 'finish_time': 518400, 'active': [8360, 9722, 45314, 127838, 132214, 132770, 133138, 133413, 133503, 134299, 135177, 135317, 148133, 164522, 167630, 184572, 189430, 215042, 221117, 299197, 306220, 306490, 313087, 330756, 355266, 355386, 355694, 361895, 363603, 363640, 377239, 386128, 386868, 388168, 388941, 415226, 416385, 417743, 426123, 428616, 430302, 447350, 451011], 'model': 'vivo 1727'}\n",
      "\u001b[2m\u001b[36m(launch_and_fit pid=258203)\u001b[0m Client 2995 --- Predicted completion: 12409\n",
      "\u001b[2m\u001b[36m(launch_and_fit pid=258203)\u001b[0m Client 2995 --- isActive: True\n",
      "\u001b[2m\u001b[36m(launch_and_fit pid=258201)\u001b[0m Getting client with id 1754\n",
      "\u001b[2m\u001b[36m(launch_and_fit pid=258201)\u001b[0m Client 1754 --- Current virtual clock time: 10933.516000441703\n",
      "\u001b[2m\u001b[36m(launch_and_fit pid=258201)\u001b[0m Client 1754 --- Duration: 801.6498110846361\n",
      "\u001b[2m\u001b[36m(launch_and_fit pid=258201)\u001b[0m Client 1754 --- Traces: {'duration': 801.6498110846361, 'inactive': [13665, 42428, 90696, 101448, 131091, 175194, 226676, 277352, 329792], 'finish_time': 345600, 'active': [6838, 29126, 87939, 97633, 113924, 170960, 186439, 264310, 301812], 'model': 'LG-K120'}\n",
      "\u001b[2m\u001b[36m(launch_and_fit pid=258201)\u001b[0m Client 1754 --- Predicted completion: 11734\n",
      "\u001b[2m\u001b[36m(launch_and_fit pid=258201)\u001b[0m Client 1754 --- isActive: True\n"
     ]
    },
    {
     "name": "stderr",
     "output_type": "stream",
     "text": [
      " 12%|█▎        | 1/8 [00:00<00:04,  1.48it/s]\n",
      " 12%|█▎        | 1/8 [00:00<00:04,  1.50it/s]\n",
      " 12%|█▎        | 1/8 [00:00<00:04,  1.41it/s]\n",
      " 12%|█▎        | 1/8 [00:00<00:04,  1.47it/s]\n",
      " 12%|█▎        | 1/8 [00:00<00:05,  1.31it/s]\n",
      " 25%|██▌       | 2/8 [00:01<00:03,  1.53it/s]\n",
      " 25%|██▌       | 2/8 [00:01<00:04,  1.23it/s]\n",
      " 25%|██▌       | 2/8 [00:01<00:04,  1.23it/s]\n",
      " 25%|██▌       | 2/8 [00:01<00:04,  1.27it/s]\n",
      " 25%|██▌       | 2/8 [00:01<00:04,  1.28it/s]\n",
      " 38%|███▊      | 3/8 [00:01<00:02,  1.72it/s]\n",
      " 12%|█▎        | 1/8 [00:01<00:13,  1.92s/it]\n",
      " 38%|███▊      | 3/8 [00:02<00:03,  1.51it/s]\n",
      " 38%|███▊      | 3/8 [00:02<00:03,  1.49it/s]\n",
      "  0%|          | 0/8 [00:00<?, ?it/s][0m \n"
     ]
    },
    {
     "name": "stdout",
     "output_type": "stream",
     "text": [
      "\u001b[2m\u001b[36m(launch_and_fit pid=258253)\u001b[0m Getting client with id 1756\n",
      "\u001b[2m\u001b[36m(launch_and_fit pid=258253)\u001b[0m Client 1756 --- Current virtual clock time: 10933.516000441703\n",
      "\u001b[2m\u001b[36m(launch_and_fit pid=258253)\u001b[0m Client 1756 --- Duration: 413.30600451080653\n",
      "\u001b[2m\u001b[36m(launch_and_fit pid=258253)\u001b[0m Client 1756 --- Traces: {'duration': 413.30600451080653, 'inactive': [53292, 82660, 87575, 93060, 118434], 'finish_time': 172800, 'active': [0, 82308, 83323, 90586, 94237], 'model': 'CPH1923'}\n",
      "\u001b[2m\u001b[36m(launch_and_fit pid=258253)\u001b[0m Client 1756 --- Predicted completion: 11346\n",
      "\u001b[2m\u001b[36m(launch_and_fit pid=258253)\u001b[0m Client 1756 --- isActive: True\n"
     ]
    },
    {
     "name": "stderr",
     "output_type": "stream",
     "text": [
      " 38%|███▊      | 3/8 [00:02<00:03,  1.44it/s]\n",
      " 38%|███▊      | 3/8 [00:02<00:03,  1.28it/s]\n",
      " 50%|█████     | 4/8 [00:02<00:02,  1.82it/s]\n",
      " 50%|█████     | 4/8 [00:02<00:02,  1.56it/s]\n",
      " 50%|█████     | 4/8 [00:02<00:02,  1.52it/s]\n",
      " 50%|█████     | 4/8 [00:02<00:02,  1.51it/s]\n",
      " 25%|██▌       | 2/8 [00:02<00:07,  1.27s/it]\n",
      " 62%|██████▎   | 5/8 [00:02<00:01,  1.83it/s]\n",
      " 12%|█▎        | 1/8 [00:00<00:06,  1.15it/s]\n",
      " 50%|█████     | 4/8 [00:03<00:02,  1.34it/s]\n",
      " 62%|██████▎   | 5/8 [00:03<00:01,  1.67it/s]\n",
      " 62%|██████▎   | 5/8 [00:03<00:01,  1.62it/s]\n",
      " 62%|██████▎   | 5/8 [00:03<00:01,  1.54it/s]\n",
      " 25%|██▌       | 2/8 [00:01<00:03,  1.52it/s]\n",
      " 62%|██████▎   | 5/8 [00:03<00:01,  1.55it/s]\n",
      " 75%|███████▌  | 6/8 [00:03<00:01,  1.87it/s]\n",
      " 38%|███▊      | 3/8 [00:03<00:05,  1.06s/it]\n",
      " 75%|███████▌  | 6/8 [00:03<00:01,  1.80it/s]\n",
      " 75%|███████▌  | 6/8 [00:03<00:01,  1.60it/s]\n",
      " 75%|███████▌  | 6/8 [00:03<00:01,  1.57it/s]\n",
      " 75%|███████▌  | 6/8 [00:04<00:01,  1.62it/s]\n",
      " 88%|████████▊ | 7/8 [00:03<00:00,  1.84it/s]\n",
      " 38%|███▊      | 3/8 [00:01<00:03,  1.65it/s]\n",
      " 88%|████████▊ | 7/8 [00:04<00:00,  1.84it/s]\n",
      " 50%|█████     | 4/8 [00:04<00:03,  1.05it/s]\n",
      " 88%|████████▊ | 7/8 [00:04<00:00,  1.74it/s]\n",
      " 88%|████████▊ | 7/8 [00:04<00:00,  1.74it/s]\n",
      " 50%|█████     | 4/8 [00:02<00:02,  1.82it/s]\n",
      " 88%|████████▊ | 7/8 [00:04<00:00,  1.71it/s]\n",
      "100%|██████████| 8/8 [00:04<00:00,  1.81it/s]\n",
      "100%|██████████| 8/8 [00:04<00:00,  1.66it/s]\n",
      " 62%|██████▎   | 5/8 [00:02<00:01,  1.94it/s]\n",
      "100%|██████████| 8/8 [00:05<00:00,  1.60it/s]\n",
      "100%|██████████| 8/8 [00:04<00:00,  1.61it/s]\n",
      "100%|██████████| 8/8 [00:05<00:00,  1.59it/s]\n",
      " 62%|██████▎   | 5/8 [00:05<00:02,  1.15it/s]\n",
      " 75%|███████▌  | 6/8 [00:03<00:00,  2.23it/s]\n",
      " 88%|████████▊ | 7/8 [00:03<00:00,  2.58it/s]\n",
      " 75%|███████▌  | 6/8 [00:05<00:01,  1.37it/s]\n",
      "100%|██████████| 8/8 [00:03<00:00,  2.12it/s]\n",
      " 88%|████████▊ | 7/8 [00:05<00:00,  1.55it/s]\n",
      "100%|██████████| 8/8 [00:06<00:00,  1.20it/s]\n",
      "  0%|          | 0/8 [00:00<?, ?it/s][0m \n"
     ]
    },
    {
     "name": "stdout",
     "output_type": "stream",
     "text": [
      "\u001b[2m\u001b[36m(launch_and_fit pid=258535)\u001b[0m Getting client with id 584\n",
      "\u001b[2m\u001b[36m(launch_and_fit pid=258535)\u001b[0m Client 584 --- Current virtual clock time: 10933.516000441703\n",
      "\u001b[2m\u001b[36m(launch_and_fit pid=258535)\u001b[0m Client 584 --- Duration: 361.9187129121866\n",
      "\u001b[2m\u001b[36m(launch_and_fit pid=258535)\u001b[0m Client 584 --- Traces: {'duration': 361.9187129121866, 'inactive': [21, 41, 37138, 40239, 69587, 79011, 79501, 79599, 82702, 82750, 84735, 84871, 86182, 156870, 157181, 171565, 171581, 171811, 171963, 171969, 215586, 218627, 218861, 220404, 220718, 238481], 'finish_time': 345600, 'active': [0, 22, 45, 40229, 67929, 76777, 79011, 79596, 82621, 82703, 84734, 84772, 84946, 156852, 157170, 171538, 171565, 171598, 171829, 171963, 213649, 217632, 218637, 218874, 220561, 238399], 'model': 'SM-J701MT'}\n",
      "\u001b[2m\u001b[36m(launch_and_fit pid=258535)\u001b[0m Client 584 --- Predicted completion: 11294\n",
      "\u001b[2m\u001b[36m(launch_and_fit pid=258535)\u001b[0m Client 584 --- isActive: True\n"
     ]
    },
    {
     "name": "stderr",
     "output_type": "stream",
     "text": [
      " 12%|█▎        | 1/8 [00:00<00:01,  3.78it/s]\n",
      " 25%|██▌       | 2/8 [00:00<00:01,  4.51it/s]\n",
      " 38%|███▊      | 3/8 [00:00<00:01,  4.63it/s]\n",
      " 50%|█████     | 4/8 [00:00<00:00,  5.11it/s]\n",
      " 62%|██████▎   | 5/8 [00:01<00:00,  5.23it/s]\n",
      " 75%|███████▌  | 6/8 [00:01<00:00,  5.40it/s]\n",
      " 88%|████████▊ | 7/8 [00:01<00:00,  5.49it/s]\n",
      "100%|██████████| 8/8 [00:01<00:00,  5.16it/s]\n",
      "  0%|          | 0/8 [00:00<?, ?it/s][0m \n"
     ]
    },
    {
     "name": "stdout",
     "output_type": "stream",
     "text": [
      "\u001b[2m\u001b[36m(launch_and_fit pid=261517)\u001b[0m Getting client with id 2136\n",
      "\u001b[2m\u001b[36m(launch_and_fit pid=261517)\u001b[0m Client 2136 --- Current virtual clock time: 10933.516000441703\n",
      "\u001b[2m\u001b[36m(launch_and_fit pid=261517)\u001b[0m Client 2136 --- Duration: 505.5527460598993\n",
      "\u001b[2m\u001b[36m(launch_and_fit pid=261517)\u001b[0m Client 2136 --- Traces: {'duration': 505.5527460598993, 'inactive': [31247, 80405, 80430, 81835, 85753, 113546, 118109, 164064, 199913, 204841, 247924, 250567, 255102, 261892, 308885, 330515, 330937, 391402, 400975, 402669, 417387, 421554, 423559, 463645, 502522, 505892, 509786], 'finish_time': 518400, 'active': [5649, 76081, 80405, 81708, 82087, 100435, 114524, 158589, 184712, 201000, 237255, 247948, 254782, 260752, 302753, 326301, 330532, 385236, 398943, 400975, 410492, 420262, 423098, 461833, 496565, 502530, 508528], 'model': 'vivo 1904'}\n",
      "\u001b[2m\u001b[36m(launch_and_fit pid=261517)\u001b[0m Client 2136 --- Predicted completion: 11438\n",
      "\u001b[2m\u001b[36m(launch_and_fit pid=261517)\u001b[0m Client 2136 --- isActive: True\n"
     ]
    },
    {
     "name": "stderr",
     "output_type": "stream",
     "text": [
      " 12%|█▎        | 1/8 [00:00<00:01,  4.82it/s]\n",
      " 25%|██▌       | 2/8 [00:00<00:01,  5.42it/s]\n",
      " 38%|███▊      | 3/8 [00:00<00:01,  4.89it/s]\n",
      " 50%|█████     | 4/8 [00:00<00:00,  5.27it/s]\n",
      " 62%|██████▎   | 5/8 [00:00<00:00,  5.89it/s]\n",
      " 75%|███████▌  | 6/8 [00:01<00:00,  6.17it/s]\n",
      " 88%|████████▊ | 7/8 [00:01<00:00,  6.67it/s]\n",
      "230373 DEBUG flwr 2023-03-21 23:47:27,983 | server.py:279 | fit_round 7 received 9 results and 1 failures\n",
      "230373 INFO flwr 2023-03-21 23:47:27,984 | strategy.py:186 | Completion times of clients: [522.9261473971017, 136.80537284954332, 508.40365067656967, 361.9187129121866, 413.30600451080653, 505.5527460598993, 1476.8006003275063, 395.8645144838243, 801.6498110846361]\n",
      "230373 INFO flwr 2023-03-21 23:47:27,985 | strategy.py:188 | Maximum completion time of clients: 1476.8006003275063\n",
      "100%|██████████| 8/8 [00:01<00:00,  6.06it/s]\n"
     ]
    },
    {
     "name": "stdout",
     "output_type": "stream",
     "text": [
      "Server round 7\n"
     ]
    },
    {
     "name": "stderr",
     "output_type": "stream",
     "text": [
      "100%|██████████| 891/891 [00:08<00:00, 106.44it/s]\n",
      "230373 INFO flwr 2023-03-21 23:47:36,391 | server.py:140 | fit progress: (7, 2194.29910582304, {'accuracy': 0.39593125219221326, 'eval_time': 12410.316600769209}, 176.97252862499954)\n",
      "230373 INFO flwr 2023-03-21 23:47:36,392 | server.py:190 | evaluate_round 7: no clients selected, cancel\n",
      "230373 INFO flwr 2023-03-21 23:47:36,407 | client_manager.py:49 | Sampling using <__main__.ActivityCriterion object at 0x7f6eba6c5300>\n",
      "230373 DEBUG flwr 2023-03-21 23:47:36,408 | server.py:255 | fit_round 8: strategy sampled 10 clients (out of 3229)\n"
     ]
    },
    {
     "name": "stdout",
     "output_type": "stream",
     "text": [
      "Sampled the following clients:  ['2962', '2266', '260', '1525', '3038', '1747', '757', '980', '2233', '275']\n",
      "\u001b[2m\u001b[36m(launch_and_fit pid=263042)\u001b[0m Getting client with id 1525\n",
      "\u001b[2m\u001b[36m(launch_and_fit pid=263042)\u001b[0m Client 1525 --- Current virtual clock time: 12410.316600769209\n",
      "\u001b[2m\u001b[36m(launch_and_fit pid=263042)\u001b[0m Client 1525 --- Duration: 546.1256719152932\n",
      "\u001b[2m\u001b[36m(launch_and_fit pid=263042)\u001b[0m Client 1525 --- Traces: {'duration': 546.1256719152932, 'inactive': [2416, 3094, 7774, 8036, 8460, 8470, 10690, 11139, 11441, 32870, 62291, 68939, 70825, 81835, 84816, 95000, 107914, 125313, 166341], 'finish_time': 172800, 'active': [16, 2758, 5952, 7976, 8171, 8460, 9896, 10782, 11176, 12022, 59934, 65239, 70598, 77203, 83477, 92263, 101106, 108484, 160543], 'model': '5502'}\n",
      "\u001b[2m\u001b[36m(launch_and_fit pid=263042)\u001b[0m Client 1525 --- Predicted completion: 12956\n",
      "\u001b[2m\u001b[36m(launch_and_fit pid=263042)\u001b[0m Client 1525 --- isActive: True\n"
     ]
    },
    {
     "name": "stderr",
     "output_type": "stream",
     "text": [
      "  0%|          | 0/8 [00:00<?, ?it/s][0m \n",
      "  0%|          | 0/8 [00:00<?, ?it/s][0m \n",
      "  0%|          | 0/8 [00:00<?, ?it/s][0m \n",
      "  0%|          | 0/8 [00:00<?, ?it/s][0m \n",
      "  0%|          | 0/8 [00:00<?, ?it/s][0m \n",
      "  0%|          | 0/8 [00:00<?, ?it/s][0m \n"
     ]
    },
    {
     "name": "stdout",
     "output_type": "stream",
     "text": [
      "\u001b[2m\u001b[36m(launch_and_fit pid=263034)\u001b[0m Getting client with id 2962\n",
      "\u001b[2m\u001b[36m(launch_and_fit pid=263034)\u001b[0m Client 2962 --- Current virtual clock time: 12410.316600769209\n",
      "\u001b[2m\u001b[36m(launch_and_fit pid=263034)\u001b[0m Client 2962 --- Duration: 137.58885831410655\n",
      "\u001b[2m\u001b[36m(launch_and_fit pid=263034)\u001b[0m Client 2962 --- Traces: {'duration': 137.58885831410655, 'inactive': [15290], 'finish_time': 86400, 'active': [671], 'model': 'Lenovo TB-7304I'}\n",
      "\u001b[2m\u001b[36m(launch_and_fit pid=263034)\u001b[0m Client 2962 --- Predicted completion: 12547\n",
      "\u001b[2m\u001b[36m(launch_and_fit pid=263034)\u001b[0m Client 2962 --- isActive: True\n",
      "\u001b[2m\u001b[36m(launch_and_fit pid=263044)\u001b[0m Getting client with id 3038\n",
      "\u001b[2m\u001b[36m(launch_and_fit pid=263044)\u001b[0m Client 3038 --- Current virtual clock time: 12410.316600769209\n",
      "\u001b[2m\u001b[36m(launch_and_fit pid=263044)\u001b[0m Client 3038 --- Duration: 2334.765292243698\n",
      "\u001b[2m\u001b[36m(launch_and_fit pid=263044)\u001b[0m Client 3038 --- Traces: {'duration': 2334.765292243698, 'inactive': [28598, 89819, 112776, 175426, 295906, 349157, 373241, 458375], 'finish_time': 518400, 'active': [10477, 87795, 93634, 166812, 263592, 342628, 354552, 457536], 'model': 'vivo 1904'}\n",
      "\u001b[2m\u001b[36m(launch_and_fit pid=263044)\u001b[0m Client 3038 --- Predicted completion: 14744\n",
      "\u001b[2m\u001b[36m(launch_and_fit pid=263044)\u001b[0m Client 3038 --- isActive: True\n",
      "\u001b[2m\u001b[36m(launch_and_fit pid=263045)\u001b[0m Getting client with id 1747\n",
      "\u001b[2m\u001b[36m(launch_and_fit pid=263043)\u001b[0m Getting client with id 757\n",
      "\u001b[2m\u001b[36m(launch_and_fit pid=263043)\u001b[0m Client 757 --- Current virtual clock time: 12410.316600769209\n",
      "\u001b[2m\u001b[36m(launch_and_fit pid=263043)\u001b[0m Client 757 --- Duration: 295.4946967893966\n",
      "\u001b[2m\u001b[36m(launch_and_fit pid=263043)\u001b[0m Client 757 --- Traces: {'duration': 295.4946967893966, 'inactive': [21954, 114856, 116363, 121152, 121239, 121300, 121327, 121352, 121375, 121398, 121438, 121455, 121473, 121490, 121506, 121522, 121539, 121588, 121603, 121620, 121636, 121668, 121681, 207621, 207643, 207665, 207693, 207722, 219806, 231580, 279634, 293832], 'finish_time': 345600, 'active': [10623, 97867, 114862, 120194, 121213, 121280, 121310, 121336, 121361, 121383, 121426, 121444, 121462, 121480, 121497, 121513, 121529, 121563, 121596, 121612, 121628, 121645, 121677, 207351, 207634, 207657, 207677, 207695, 218479, 226938, 279600, 281721], 'model': 'vivo 1904'}\n",
      "\u001b[2m\u001b[36m(launch_and_fit pid=263043)\u001b[0m Client 757 --- Predicted completion: 12705\n",
      "\u001b[2m\u001b[36m(launch_and_fit pid=263043)\u001b[0m Client 757 --- isActive: True\n",
      "\u001b[2m\u001b[36m(launch_and_fit pid=263045)\u001b[0m Client 1747 --- Current virtual clock time: 12410.316600769209\n",
      "\u001b[2m\u001b[36m(launch_and_fit pid=263045)\u001b[0m Client 1747 --- Duration: 1060.5227455340814\n",
      "\u001b[2m\u001b[36m(launch_and_fit pid=263045)\u001b[0m Client 1747 --- Traces: {'duration': 1060.5227455340814, 'inactive': [17240, 25314, 25835, 57948], 'finish_time': 86400, 'active': [11177, 21851, 25316, 46196], 'model': 'Redmi 4X'}\n",
      "\u001b[2m\u001b[36m(launch_and_fit pid=263045)\u001b[0m Client 1747 --- Predicted completion: 13470\n",
      "\u001b[2m\u001b[36m(launch_and_fit pid=263045)\u001b[0m Client 1747 --- isActive: True\n",
      "\u001b[2m\u001b[36m(launch_and_fit pid=263040)\u001b[0m Getting client with id 2266\n",
      "\u001b[2m\u001b[36m(launch_and_fit pid=263040)\u001b[0m Client 2266 --- Current virtual clock time: 12410.316600769209\n",
      "\u001b[2m\u001b[36m(launch_and_fit pid=263040)\u001b[0m Client 2266 --- Duration: 1244.7801784682667\n",
      "\u001b[2m\u001b[36m(launch_and_fit pid=263040)\u001b[0m Client 2266 --- Traces: {'duration': 1244.7801784682667, 'inactive': [9765, 11005, 11021, 11090, 13711, 13988, 15028, 15058, 15798, 62379, 63197, 76960, 77164, 81318, 85966, 87297, 88904, 93187, 96146, 98195, 137340, 137555, 137577, 141531, 141546, 141817, 141819, 144929, 148295, 151887, 153377, 153582, 153622, 155698, 157804, 157853, 157885, 159050, 165978, 166400], 'finish_time': 172800, 'active': [9450, 10373, 11006, 11022, 11106, 13712, 13989, 15056, 15176, 59577, 62391, 76952, 76968, 80812, 83834, 86437, 87298, 91173, 94181, 96243, 134356, 137386, 137576, 138756, 141531, 141580, 141818, 144616, 145093, 150237, 152004, 153378, 153583, 153623, 156990, 157807, 157854, 158354, 162334, 165980], 'model': 'SM-J250M'}\n",
      "\u001b[2m\u001b[36m(launch_and_fit pid=263040)\u001b[0m Client 2266 --- Predicted completion: 13654\n",
      "\u001b[2m\u001b[36m(launch_and_fit pid=263040)\u001b[0m Client 2266 --- isActive: True\n",
      "\u001b[2m\u001b[36m(launch_and_fit pid=263037)\u001b[0m Getting client with id 260\n"
     ]
    },
    {
     "name": "stderr",
     "output_type": "stream",
     "text": [
      "  0%|          | 0/8 [00:00<?, ?it/s][0m \n",
      " 12%|█▎        | 1/8 [00:00<00:04,  1.62it/s]\n"
     ]
    },
    {
     "name": "stdout",
     "output_type": "stream",
     "text": [
      "\u001b[2m\u001b[36m(launch_and_fit pid=263037)\u001b[0m Client 260 --- Current virtual clock time: 12410.316600769209\n",
      "\u001b[2m\u001b[36m(launch_and_fit pid=263037)\u001b[0m Client 260 --- Duration: 753.0051356540575\n",
      "\u001b[2m\u001b[36m(launch_and_fit pid=263037)\u001b[0m Client 260 --- Traces: {'duration': 753.0051356540575, 'inactive': [1100, 5926, 12060, 30498, 67302, 68803, 70808, 72467, 77625, 80275, 82431, 89323, 123735, 143379, 154177, 159826, 176790, 178337, 179184, 180097, 202136, 221382, 224796, 228843, 295475, 316304, 328792, 353245, 403307, 407975, 414712, 419094, 456207, 478540, 479418, 481503, 497960, 511194, 515261, 559509, 592367], 'finish_time': 604800, 'active': [0, 5092, 12031, 12107, 66092, 68796, 69095, 71441, 75179, 79208, 81452, 82966, 98553, 138847, 151396, 154969, 175054, 177072, 178557, 179784, 180339, 218610, 221396, 227730, 251555, 311971, 328107, 337781, 390880, 404591, 409982, 416141, 430413, 475016, 479276, 480249, 483343, 510502, 513423, 527255, 584048], 'model': 'K350t'}\n",
      "\u001b[2m\u001b[36m(launch_and_fit pid=263037)\u001b[0m Client 260 --- Predicted completion: 13163\n",
      "\u001b[2m\u001b[36m(launch_and_fit pid=263037)\u001b[0m Client 260 --- isActive: True\n"
     ]
    },
    {
     "name": "stderr",
     "output_type": "stream",
     "text": [
      " 12%|█▎        | 1/8 [00:00<00:03,  2.03it/s]\n",
      " 12%|█▎        | 1/8 [00:00<00:03,  1.88it/s]\n",
      " 12%|█▎        | 1/8 [00:00<00:03,  1.78it/s]\n",
      "  0%|          | 0/8 [00:00<?, ?it/s][0m \n"
     ]
    },
    {
     "name": "stdout",
     "output_type": "stream",
     "text": [
      "\u001b[2m\u001b[36m(launch_and_fit pid=263078)\u001b[0m Getting client with id 275\n",
      "\u001b[2m\u001b[36m(launch_and_fit pid=263078)\u001b[0m Client 275 --- Current virtual clock time: 12410.316600769209\n",
      "\u001b[2m\u001b[36m(launch_and_fit pid=263078)\u001b[0m Client 275 --- Duration: 374.4298215907752\n",
      "\u001b[2m\u001b[36m(launch_and_fit pid=263078)\u001b[0m Client 275 --- Traces: {'duration': 374.4298215907752, 'inactive': [14685, 62402, 67609, 67644, 70180, 75667, 78512, 78976, 79573, 80582, 83148, 100387, 161808, 165292, 171912, 172919, 230141, 234194, 247842, 248628, 256496, 256524, 290306, 294896, 305302, 317721, 321354, 343953, 415983, 437170, 462234, 494453, 502507, 502517, 507014, 508588], 'finish_time': 518400, 'active': [4, 60819, 65144, 67612, 68540, 75546, 78124, 78533, 78984, 79788, 80597, 90234, 161447, 162046, 170462, 171947, 227688, 231310, 247024, 247845, 252893, 256522, 280862, 294653, 303448, 316196, 317749, 338055, 413058, 429801, 461465, 488789, 502039, 502507, 503921, 508382], 'model': 'vivo 1714'}\n",
      "\u001b[2m\u001b[36m(launch_and_fit pid=263078)\u001b[0m Client 275 --- Predicted completion: 12784\n",
      "\u001b[2m\u001b[36m(launch_and_fit pid=263078)\u001b[0m Client 275 --- isActive: True\n"
     ]
    },
    {
     "name": "stderr",
     "output_type": "stream",
     "text": [
      " 25%|██▌       | 2/8 [00:01<00:02,  2.01it/s]\n",
      " 25%|██▌       | 2/8 [00:00<00:02,  2.11it/s]\n",
      " 25%|██▌       | 2/8 [00:00<00:02,  2.15it/s]\n",
      " 12%|█▎        | 1/8 [00:00<00:05,  1.33it/s]\n",
      " 12%|█▎        | 1/8 [00:00<00:05,  1.25it/s]\n",
      " 12%|█▎        | 1/8 [00:01<00:07,  1.11s/it]\n",
      " 25%|██▌       | 2/8 [00:01<00:03,  1.83it/s]\n",
      " 38%|███▊      | 3/8 [00:01<00:02,  2.03it/s]\n",
      " 25%|██▌       | 2/8 [00:01<00:03,  1.57it/s]\n",
      " 38%|███▊      | 3/8 [00:01<00:02,  1.81it/s]\n",
      " 38%|███▊      | 3/8 [00:01<00:02,  1.89it/s]\n",
      " 12%|█▎        | 1/8 [00:00<00:06,  1.09it/s]\n",
      " 25%|██▌       | 2/8 [00:01<00:04,  1.38it/s]\n",
      " 38%|███▊      | 3/8 [00:01<00:02,  1.70it/s]\n",
      " 38%|███▊      | 3/8 [00:01<00:02,  2.07it/s]\n",
      " 50%|█████     | 4/8 [00:02<00:02,  1.99it/s]\n",
      " 25%|██▌       | 2/8 [00:01<00:05,  1.17it/s]\n",
      " 50%|█████     | 4/8 [00:02<00:02,  1.78it/s]\n",
      " 50%|█████     | 4/8 [00:02<00:02,  1.79it/s]\n",
      " 50%|█████     | 4/8 [00:02<00:02,  1.74it/s]\n",
      " 50%|█████     | 4/8 [00:02<00:02,  1.85it/s]\n",
      " 25%|██▌       | 2/8 [00:01<00:05,  1.16it/s]\n",
      " 62%|██████▎   | 5/8 [00:02<00:01,  1.78it/s]\n",
      " 62%|██████▎   | 5/8 [00:02<00:01,  1.90it/s]\n",
      " 38%|███▊      | 3/8 [00:02<00:04,  1.24it/s]\n",
      " 62%|██████▎   | 5/8 [00:02<00:01,  1.84it/s]\n",
      " 62%|██████▎   | 5/8 [00:02<00:01,  1.99it/s]\n",
      " 38%|███▊      | 3/8 [00:02<00:04,  1.15it/s]\n",
      " 75%|███████▌  | 6/8 [00:03<00:01,  1.97it/s]\n",
      " 62%|██████▎   | 5/8 [00:02<00:01,  1.77it/s]\n",
      " 75%|███████▌  | 6/8 [00:03<00:00,  2.02it/s]\n",
      " 38%|███▊      | 3/8 [00:02<00:03,  1.29it/s]\n",
      " 75%|███████▌  | 6/8 [00:03<00:01,  1.94it/s]\n",
      " 50%|█████     | 4/8 [00:03<00:03,  1.33it/s]\n",
      " 75%|███████▌  | 6/8 [00:03<00:01,  1.86it/s]\n",
      " 88%|████████▊ | 7/8 [00:03<00:00,  2.01it/s]\n",
      " 75%|███████▌  | 6/8 [00:03<00:01,  1.87it/s]\n",
      " 88%|████████▊ | 7/8 [00:03<00:00,  2.05it/s]\n",
      " 88%|████████▊ | 7/8 [00:03<00:00,  1.93it/s]\n",
      " 50%|█████     | 4/8 [00:03<00:03,  1.17it/s]\n",
      " 50%|█████     | 4/8 [00:02<00:02,  1.44it/s]\n",
      " 88%|████████▊ | 7/8 [00:03<00:00,  1.90it/s]\n",
      "100%|██████████| 8/8 [00:04<00:00,  1.99it/s]\n",
      "100%|██████████| 8/8 [00:03<00:00,  2.02it/s]\n",
      " 88%|████████▊ | 7/8 [00:03<00:00,  1.93it/s]\n",
      " 62%|██████▎   | 5/8 [00:03<00:02,  1.34it/s]\n",
      " 62%|██████▎   | 5/8 [00:03<00:01,  1.53it/s]\n",
      "100%|██████████| 8/8 [00:04<00:00,  1.86it/s]\n",
      "100%|██████████| 8/8 [00:04<00:00,  1.84it/s]\n",
      " 62%|██████▎   | 5/8 [00:04<00:02,  1.17it/s]\n",
      " 75%|███████▌  | 6/8 [00:04<00:01,  1.43it/s]\n",
      "100%|██████████| 8/8 [00:04<00:00,  1.78it/s]\n",
      " 75%|███████▌  | 6/8 [00:04<00:01,  1.59it/s]\n",
      " 88%|████████▊ | 7/8 [00:04<00:00,  1.70it/s]\n",
      " 75%|███████▌  | 6/8 [00:04<00:01,  1.34it/s]\n",
      " 88%|████████▊ | 7/8 [00:04<00:00,  1.72it/s]\n",
      "100%|██████████| 8/8 [00:05<00:00,  1.49it/s]\n",
      " 88%|████████▊ | 7/8 [00:05<00:00,  1.30it/s]\n",
      "100%|██████████| 8/8 [00:05<00:00,  1.50it/s]\n",
      "100%|██████████| 8/8 [00:06<00:00,  1.25it/s]\n",
      "  0%|          | 0/8 [00:00<?, ?it/s][0m \n",
      "  0%|          | 0/8 [00:00<?, ?it/s][0m \n"
     ]
    },
    {
     "name": "stdout",
     "output_type": "stream",
     "text": [
      "\u001b[2m\u001b[36m(launch_and_fit pid=266576)\u001b[0m Getting client with id 980\n",
      "\u001b[2m\u001b[36m(launch_and_fit pid=266576)\u001b[0m Client 980 --- Current virtual clock time: 12410.316600769209\n",
      "\u001b[2m\u001b[36m(launch_and_fit pid=266576)\u001b[0m Client 980 --- Duration: 337.2563253136903\n",
      "\u001b[2m\u001b[36m(launch_and_fit pid=266576)\u001b[0m Client 980 --- Traces: {'duration': 337.2563253136903, 'inactive': [25653, 41689, 43929, 158694, 159760, 160143, 161596, 161987, 162005, 163212, 163260, 166019, 171323, 172320, 173222, 173233, 195679, 246011, 246114, 246128, 246157, 246189, 246374, 246433, 246557, 246661, 246805, 247765, 249212, 249242, 249289, 249397, 251187, 251253, 251651, 251677, 251696, 252023, 252092, 252116, 252240, 252337, 252433, 252695, 262786, 263141, 263180, 263274, 263752, 264187, 265328, 265394, 265887, 299274, 299475, 331737], 'finish_time': 345600, 'active': [430, 40437, 43918, 158678, 159254, 159783, 160145, 161620, 161993, 162013, 163213, 163261, 166019, 171365, 172324, 173224, 175368, 245953, 246014, 246116, 246132, 246170, 246190, 246376, 246435, 246559, 246663, 246807, 247768, 249213, 249244, 249292, 249401, 251188, 251254, 251661, 251678, 251702, 252027, 252098, 252124, 252241, 252337, 252445, 252701, 262787, 263152, 263194, 263275, 263803, 264215, 265333, 265401, 299272, 299311, 300083], 'model': 'Redmi 4'}\n",
      "\u001b[2m\u001b[36m(launch_and_fit pid=266576)\u001b[0m Client 980 --- Predicted completion: 12747\n",
      "\u001b[2m\u001b[36m(launch_and_fit pid=266576)\u001b[0m Client 980 --- isActive: True\n",
      "\u001b[2m\u001b[36m(launch_and_fit pid=266535)\u001b[0m Getting client with id 2233\n",
      "\u001b[2m\u001b[36m(launch_and_fit pid=266535)\u001b[0m Client 2233 --- Current virtual clock time: 12410.316600769209\n",
      "\u001b[2m\u001b[36m(launch_and_fit pid=266535)\u001b[0m Client 2233 --- Duration: 532.2844543804035\n",
      "\u001b[2m\u001b[36m(launch_and_fit pid=266535)\u001b[0m Client 2233 --- Traces: {'duration': 532.2844543804035, 'inactive': [1506, 1914, 27820, 56952, 68809, 69662, 69672, 109461, 142761, 144049, 144072, 147211, 147221, 168210], 'finish_time': 172800, 'active': [926, 1521, 1916, 51022, 66054, 68810, 69662, 72366, 142557, 143179, 144071, 146919, 147211, 147275], 'model': 'SM-G610F'}\n",
      "\u001b[2m\u001b[36m(launch_and_fit pid=266535)\u001b[0m Client 2233 --- Predicted completion: 12942\n",
      "\u001b[2m\u001b[36m(launch_and_fit pid=266535)\u001b[0m Client 2233 --- isActive: True\n"
     ]
    },
    {
     "name": "stderr",
     "output_type": "stream",
     "text": [
      " 12%|█▎        | 1/8 [00:00<00:00,  7.03it/s]\n",
      " 12%|█▎        | 1/8 [00:00<00:01,  4.65it/s]\n",
      " 25%|██▌       | 2/8 [00:00<00:00,  6.13it/s]\n",
      " 25%|██▌       | 2/8 [00:00<00:01,  4.33it/s]\n",
      " 38%|███▊      | 3/8 [00:00<00:00,  6.16it/s]\n",
      " 38%|███▊      | 3/8 [00:00<00:01,  4.51it/s]\n",
      " 50%|█████     | 4/8 [00:00<00:00,  6.01it/s]\n",
      " 62%|██████▎   | 5/8 [00:00<00:00,  5.91it/s]\n",
      " 50%|█████     | 4/8 [00:00<00:00,  4.54it/s]\n",
      " 75%|███████▌  | 6/8 [00:01<00:00,  5.87it/s]\n",
      " 62%|██████▎   | 5/8 [00:01<00:00,  4.67it/s]\n",
      " 88%|████████▊ | 7/8 [00:01<00:00,  5.63it/s]\n",
      " 75%|███████▌  | 6/8 [00:01<00:00,  4.48it/s]\n",
      "100%|██████████| 8/8 [00:01<00:00,  5.78it/s]\n",
      " 88%|████████▊ | 7/8 [00:01<00:00,  4.58it/s]\n",
      "230373 DEBUG flwr 2023-03-21 23:47:53,059 | server.py:279 | fit_round 8 received 10 results and 0 failures\n",
      "230373 INFO flwr 2023-03-21 23:47:53,060 | strategy.py:186 | Completion times of clients: [532.2844543804035, 295.4946967893966, 546.1256719152932, 1060.5227455340814, 137.58885831410655, 337.2563253136903, 374.4298215907752, 1244.7801784682667, 2334.765292243698, 753.0051356540575]\n",
      "230373 INFO flwr 2023-03-21 23:47:53,061 | strategy.py:188 | Maximum completion time of clients: 2334.765292243698\n",
      "100%|██████████| 8/8 [00:01<00:00,  4.72it/s]\n"
     ]
    },
    {
     "name": "stdout",
     "output_type": "stream",
     "text": [
      "Server round 8\n"
     ]
    },
    {
     "name": "stderr",
     "output_type": "stream",
     "text": [
      "100%|██████████| 891/891 [00:08<00:00, 102.92it/s]\n",
      "230373 INFO flwr 2023-03-21 23:48:01,759 | server.py:140 | fit progress: (8, 2142.065276324749, {'accuracy': 0.4526832690284111, 'eval_time': 14745.081893012906}, 202.3403287429992)\n",
      "230373 INFO flwr 2023-03-21 23:48:01,760 | server.py:190 | evaluate_round 8: no clients selected, cancel\n",
      "230373 INFO flwr 2023-03-21 23:48:01,780 | client_manager.py:49 | Sampling using <__main__.ActivityCriterion object at 0x7f6eba6c5300>\n",
      "230373 DEBUG flwr 2023-03-21 23:48:01,782 | server.py:255 | fit_round 9: strategy sampled 10 clients (out of 3229)\n"
     ]
    },
    {
     "name": "stdout",
     "output_type": "stream",
     "text": [
      "Sampled the following clients:  ['1926', '2478', '584', '155', '1432', '2926', '1364', '1392', '2480', '2463']\n"
     ]
    },
    {
     "name": "stderr",
     "output_type": "stream",
     "text": [
      "  0%|          | 0/8 [00:00<?, ?it/s][0m \n",
      "  0%|          | 0/8 [00:00<?, ?it/s][0m \n"
     ]
    },
    {
     "name": "stdout",
     "output_type": "stream",
     "text": [
      "\u001b[2m\u001b[36m(launch_and_fit pid=268344)\u001b[0m Getting client with id 1392\n",
      "\u001b[2m\u001b[36m(launch_and_fit pid=268344)\u001b[0m Client 1392 --- Current virtual clock time: 14745.081893012906\n",
      "\u001b[2m\u001b[36m(launch_and_fit pid=268344)\u001b[0m Client 1392 --- Duration: 855.0175594485008\n",
      "\u001b[2m\u001b[36m(launch_and_fit pid=268344)\u001b[0m Client 1392 --- Traces: {'duration': 855.0175594485008, 'inactive': [38302, 82487, 88057, 104034, 104044, 150334, 161738, 204149, 245702, 257229, 277186, 317105, 326481, 343077, 350034, 387284, 418640, 469072, 497010, 511822], 'finish_time': 518400, 'active': [1849, 71121, 87291, 89800, 104034, 145672, 154800, 168835, 241873, 248418, 261635, 311215, 322213, 330336, 348240, 350085, 409558, 430152, 472502, 503824], 'model': 'E6653'}\n",
      "\u001b[2m\u001b[36m(launch_and_fit pid=268344)\u001b[0m Client 1392 --- Predicted completion: 15600\n",
      "\u001b[2m\u001b[36m(launch_and_fit pid=268344)\u001b[0m Client 1392 --- isActive: True\n",
      "\u001b[2m\u001b[36m(launch_and_fit pid=268347)\u001b[0m Getting client with id 584\n",
      "\u001b[2m\u001b[36m(launch_and_fit pid=268347)\u001b[0m Client 584 --- Current virtual clock time: 14745.081893012906\n",
      "\u001b[2m\u001b[36m(launch_and_fit pid=268347)\u001b[0m Client 584 --- Duration: 361.9187129121866\n",
      "\u001b[2m\u001b[36m(launch_and_fit pid=268347)\u001b[0m Client 584 --- Traces: {'duration': 361.9187129121866, 'inactive': [21, 41, 37138, 40239, 69587, 79011, 79501, 79599, 82702, 82750, 84735, 84871, 86182, 156870, 157181, 171565, 171581, 171811, 171963, 171969, 215586, 218627, 218861, 220404, 220718, 238481], 'finish_time': 345600, 'active': [0, 22, 45, 40229, 67929, 76777, 79011, 79596, 82621, 82703, 84734, 84772, 84946, 156852, 157170, 171538, 171565, 171598, 171829, 171963, 213649, 217632, 218637, 218874, 220561, 238399], 'model': 'SM-J701MT'}\n",
      "\u001b[2m\u001b[36m(launch_and_fit pid=268347)\u001b[0m Client 584 --- Predicted completion: 15106\n",
      "\u001b[2m\u001b[36m(launch_and_fit pid=268347)\u001b[0m Client 584 --- isActive: True\n",
      "\u001b[2m\u001b[36m(launch_and_fit pid=268352)\u001b[0m Getting client with id 2926\n",
      "\u001b[2m\u001b[36m(launch_and_fit pid=268352)\u001b[0m Client 2926 --- Current virtual clock time: 14745.081893012906\n",
      "\u001b[2m\u001b[36m(launch_and_fit pid=268352)\u001b[0m Client 2926 --- Duration: 356.7079147972777\n",
      "\u001b[2m\u001b[36m(launch_and_fit pid=268352)\u001b[0m Client 2926 --- Traces: {'duration': 356.7079147972777, 'inactive': [15547, 15559, 26274], 'finish_time': 345600, 'active': [8521, 15548, 22559], 'model': 'LG-M250'}\n",
      "\u001b[2m\u001b[36m(launch_and_fit pid=268352)\u001b[0m Client 2926 --- Predicted completion: 15101\n",
      "\u001b[2m\u001b[36m(launch_and_fit pid=268352)\u001b[0m Client 2926 --- isActive: True\n"
     ]
    },
    {
     "name": "stderr",
     "output_type": "stream",
     "text": [
      "  0%|          | 0/8 [00:00<?, ?it/s][0m \n",
      "  0%|          | 0/8 [00:00<?, ?it/s][0m \n",
      "  0%|          | 0/8 [00:00<?, ?it/s][0m \n"
     ]
    },
    {
     "name": "stdout",
     "output_type": "stream",
     "text": [
      "\u001b[2m\u001b[36m(launch_and_fit pid=268350)\u001b[0m Getting client with id 2478\n",
      "\u001b[2m\u001b[36m(launch_and_fit pid=268350)\u001b[0m Client 2478 --- Current virtual clock time: 14745.081893012906\n",
      "\u001b[2m\u001b[36m(launch_and_fit pid=268350)\u001b[0m Client 2478 --- Duration: 1707.0696351780286\n",
      "\u001b[2m\u001b[36m(launch_and_fit pid=268350)\u001b[0m Client 2478 --- Traces: {'duration': 1707.0696351780286, 'inactive': [12510, 18804, 37568, 85382, 95035, 109570, 112060, 113180, 119671, 121227, 127010, 153299, 161039, 173297, 231393, 279697, 283329, 292165, 325677, 355070, 363063, 381626, 406294, 423536], 'finish_time': 432000, 'active': [11524, 13326, 23205, 83179, 86899, 108215, 110728, 112903, 116567, 120540, 122107, 152064, 158548, 161376, 206029, 274719, 281270, 285544, 304194, 351336, 356659, 376280, 406290, 415546], 'model': 'Redmi 4X'}\n",
      "\u001b[2m\u001b[36m(launch_and_fit pid=268350)\u001b[0m Client 2478 --- Predicted completion: 16452\n",
      "\u001b[2m\u001b[36m(launch_and_fit pid=268350)\u001b[0m Client 2478 --- isActive: True\n",
      "\u001b[2m\u001b[36m(launch_and_fit pid=268348)\u001b[0m Getting client with id 155\n",
      "\u001b[2m\u001b[36m(launch_and_fit pid=268348)\u001b[0m Client 155 --- Current virtual clock time: 14745.081893012906\n",
      "\u001b[2m\u001b[36m(launch_and_fit pid=268348)\u001b[0m Client 155 --- Duration: 1570.0599198886118\n",
      "\u001b[2m\u001b[36m(launch_and_fit pid=268348)\u001b[0m Client 155 --- Traces: {'duration': 1570.0599198886118, 'inactive': [34308, 36237, 81330, 123737, 174607, 185171, 251664, 301284, 301339, 308421, 308447, 315833, 328404, 335899, 336026, 336059, 337051, 337951, 339064, 339622, 339829, 340342, 340353, 342385, 342591, 342609, 342881, 343389, 343499, 343668, 343940, 344193, 344438, 345166, 345242, 345340, 345344, 355850, 364469], 'finish_time': 432000, 'active': [3547, 34771, 70606, 94218, 154275, 182768, 229740, 301252, 301298, 301371, 308443, 310968, 322674, 334638, 335962, 336051, 337033, 337939, 337957, 339074, 339626, 339908, 340351, 342359, 342401, 342599, 342675, 342881, 343392, 343642, 343758, 343944, 344322, 344442, 345170, 345284, 345343, 350439, 355886], 'model': 'ASUS_X01BDA'}\n",
      "\u001b[2m\u001b[36m(launch_and_fit pid=268348)\u001b[0m Client 155 --- Predicted completion: 16315\n",
      "\u001b[2m\u001b[36m(launch_and_fit pid=268348)\u001b[0m Client 155 --- isActive: True\n"
     ]
    },
    {
     "name": "stderr",
     "output_type": "stream",
     "text": [
      " 12%|█▎        | 1/8 [00:00<00:03,  1.84it/s]\n",
      " 12%|█▎        | 1/8 [00:00<00:03,  1.89it/s]\n",
      " 12%|█▎        | 1/8 [00:00<00:03,  2.00it/s]\n",
      "  0%|          | 0/8 [00:00<?, ?it/s][0m \n",
      "  0%|          | 0/8 [00:00<?, ?it/s][0m \n",
      "  0%|          | 0/8 [00:00<?, ?it/s][0m \n"
     ]
    },
    {
     "name": "stdout",
     "output_type": "stream",
     "text": [
      "\u001b[2m\u001b[36m(launch_and_fit pid=268351)\u001b[0m Getting client with id 1432\n",
      "\u001b[2m\u001b[36m(launch_and_fit pid=268345)\u001b[0m Getting client with id 1926\n",
      "\u001b[2m\u001b[36m(launch_and_fit pid=268345)\u001b[0m Client 1926 --- Current virtual clock time: 14745.081893012906\n",
      "\u001b[2m\u001b[36m(launch_and_fit pid=268345)\u001b[0m Client 1926 --- Duration: 1070.472050641516\n",
      "\u001b[2m\u001b[36m(launch_and_fit pid=268345)\u001b[0m Client 1926 --- Traces: {'duration': 1070.472050641516, 'inactive': [16457, 42468, 44523, 44790, 84139], 'finish_time': 86400, 'active': [13356, 16467, 42507, 44525, 84138], 'model': 'Redmi 5'}\n",
      "\u001b[2m\u001b[36m(launch_and_fit pid=268345)\u001b[0m Client 1926 --- Predicted completion: 15815\n",
      "\u001b[2m\u001b[36m(launch_and_fit pid=268345)\u001b[0m Client 1926 --- isActive: True\n",
      "\u001b[2m\u001b[36m(launch_and_fit pid=268351)\u001b[0m Client 1432 --- Current virtual clock time: 14745.081893012906\n",
      "\u001b[2m\u001b[36m(launch_and_fit pid=268351)\u001b[0m Client 1432 --- Duration: 431.87360525666145\n",
      "\u001b[2m\u001b[36m(launch_and_fit pid=268351)\u001b[0m Client 1432 --- Traces: {'duration': 431.87360525666145, 'inactive': [30780], 'finish_time': 86400, 'active': [0], 'model': 'Redmi 5 Plus'}\n",
      "\u001b[2m\u001b[36m(launch_and_fit pid=268351)\u001b[0m Client 1432 --- Predicted completion: 15176\n",
      "\u001b[2m\u001b[36m(launch_and_fit pid=268351)\u001b[0m Client 1432 --- isActive: True\n",
      "\u001b[2m\u001b[36m(launch_and_fit pid=268355)\u001b[0m Getting client with id 1364\n",
      "\u001b[2m\u001b[36m(launch_and_fit pid=268355)\u001b[0m Client 1364 --- Current virtual clock time: 14745.081893012906\n",
      "\u001b[2m\u001b[36m(launch_and_fit pid=268355)\u001b[0m Client 1364 --- Duration: 539.5400192261116\n",
      "\u001b[2m\u001b[36m(launch_and_fit pid=268355)\u001b[0m Client 1364 --- Traces: {'duration': 539.5400192261116, 'inactive': [9402, 16033, 58494, 61480, 83052, 167952, 248541, 273768, 301630, 320765, 325537, 332080], 'finish_time': 345600, 'active': [7129, 11449, 57097, 58976, 69811, 156440, 232896, 268992, 299987, 315576, 322771, 329157], 'model': 'Redmi Note 5'}\n",
      "\u001b[2m\u001b[36m(launch_and_fit pid=268355)\u001b[0m Client 1364 --- Predicted completion: 15284\n",
      "\u001b[2m\u001b[36m(launch_and_fit pid=268355)\u001b[0m Client 1364 --- isActive: True\n"
     ]
    },
    {
     "name": "stderr",
     "output_type": "stream",
     "text": [
      " 12%|█▎        | 1/8 [00:00<00:05,  1.31it/s]\n",
      " 25%|██▌       | 2/8 [00:01<00:03,  1.96it/s]\n",
      " 25%|██▌       | 2/8 [00:01<00:03,  1.74it/s]\n",
      " 25%|██▌       | 2/8 [00:00<00:02,  2.12it/s]\n",
      " 12%|█▎        | 1/8 [00:00<00:04,  1.69it/s]\n",
      " 12%|█▎        | 1/8 [00:01<00:07,  1.14s/it]\n",
      " 25%|██▌       | 2/8 [00:01<00:03,  1.67it/s]\n",
      " 12%|█▎        | 1/8 [00:00<00:05,  1.21it/s]\n",
      " 38%|███▊      | 3/8 [00:01<00:02,  1.92it/s]\n",
      " 12%|█▎        | 1/8 [00:00<00:05,  1.29it/s]\n",
      " 38%|███▊      | 3/8 [00:01<00:02,  2.09it/s]\n",
      " 38%|███▊      | 3/8 [00:01<00:03,  1.62it/s]\n",
      " 25%|██▌       | 2/8 [00:01<00:03,  1.66it/s]\n",
      " 38%|███▊      | 3/8 [00:01<00:02,  1.76it/s]\n",
      " 25%|██▌       | 2/8 [00:01<00:03,  1.59it/s]\n",
      " 25%|██▌       | 2/8 [00:01<00:04,  1.39it/s]\n",
      " 50%|█████     | 4/8 [00:01<00:01,  2.04it/s]\n",
      " 50%|█████     | 4/8 [00:02<00:02,  1.75it/s]\n",
      " 25%|██▌       | 2/8 [00:02<00:06,  1.02s/it]\n",
      " 62%|██████▎   | 5/8 [00:02<00:01,  2.14it/s]\n",
      " 38%|███▊      | 3/8 [00:01<00:02,  1.80it/s]\n",
      " 50%|█████     | 4/8 [00:02<00:02,  1.74it/s]\n",
      " 38%|███▊      | 3/8 [00:01<00:03,  1.58it/s]\n",
      " 50%|█████     | 4/8 [00:02<00:02,  1.38it/s]\n",
      " 38%|███▊      | 3/8 [00:02<00:03,  1.56it/s]\n",
      " 62%|██████▎   | 5/8 [00:02<00:01,  1.64it/s]\n",
      " 38%|███▊      | 3/8 [00:02<00:04,  1.09it/s]\n",
      " 62%|██████▎   | 5/8 [00:02<00:01,  1.74it/s]\n",
      " 50%|█████     | 4/8 [00:02<00:02,  1.60it/s]\n",
      " 75%|███████▌  | 6/8 [00:03<00:01,  1.90it/s]\n",
      " 50%|█████     | 4/8 [00:02<00:02,  1.66it/s]\n",
      " 50%|█████     | 4/8 [00:02<00:02,  1.54it/s]\n",
      " 62%|██████▎   | 5/8 [00:03<00:02,  1.32it/s]\n",
      " 75%|███████▌  | 6/8 [00:03<00:01,  1.81it/s]\n",
      " 62%|██████▎   | 5/8 [00:02<00:01,  1.77it/s]\n",
      " 75%|███████▌  | 6/8 [00:03<00:01,  1.45it/s]\n",
      " 62%|██████▎   | 5/8 [00:03<00:01,  1.59it/s]\n",
      " 88%|████████▊ | 7/8 [00:03<00:00,  1.70it/s]\n",
      " 50%|█████     | 4/8 [00:03<00:03,  1.09it/s]\n",
      " 62%|██████▎   | 5/8 [00:03<00:02,  1.50it/s]\n",
      " 75%|███████▌  | 6/8 [00:03<00:01,  1.93it/s]\n",
      " 75%|███████▌  | 6/8 [00:04<00:01,  1.35it/s]\n",
      " 88%|████████▊ | 7/8 [00:04<00:00,  1.78it/s]\n",
      " 88%|████████▊ | 7/8 [00:04<00:00,  1.57it/s]\n",
      "100%|██████████| 8/8 [00:04<00:00,  1.93it/s]\n",
      " 75%|███████▌  | 6/8 [00:03<00:01,  1.64it/s]\n",
      " 88%|████████▊ | 7/8 [00:03<00:00,  1.91it/s]\n",
      " 75%|███████▌  | 6/8 [00:03<00:01,  1.57it/s]\n",
      "100%|██████████| 8/8 [00:04<00:00,  1.77it/s]\n",
      "100%|██████████| 8/8 [00:04<00:00,  1.67it/s]\n",
      " 88%|████████▊ | 7/8 [00:04<00:00,  1.45it/s]\n",
      " 62%|██████▎   | 5/8 [00:04<00:02,  1.15it/s]\n",
      " 88%|████████▊ | 7/8 [00:04<00:00,  1.71it/s]\n",
      "100%|██████████| 8/8 [00:04<00:00,  1.84it/s]\n",
      " 88%|████████▊ | 7/8 [00:04<00:00,  1.68it/s]\n",
      "100%|██████████| 8/8 [00:05<00:00,  1.51it/s]\n",
      "100%|██████████| 8/8 [00:04<00:00,  1.67it/s]\n",
      "100%|██████████| 8/8 [00:04<00:00,  1.74it/s]\n",
      " 75%|███████▌  | 6/8 [00:05<00:01,  1.22it/s]\n",
      " 88%|████████▊ | 7/8 [00:06<00:00,  1.22it/s]\n",
      "100%|██████████| 8/8 [00:07<00:00,  1.13it/s]\n",
      "  0%|          | 0/8 [00:00<?, ?it/s][0m \n",
      "  0%|          | 0/8 [00:00<?, ?it/s][0m \n",
      " 12%|█▎        | 1/8 [00:00<00:01,  5.86it/s]\n",
      " 12%|█▎        | 1/8 [00:00<00:01,  5.54it/s]\n"
     ]
    },
    {
     "name": "stdout",
     "output_type": "stream",
     "text": [
      "\u001b[2m\u001b[36m(launch_and_fit pid=271896)\u001b[0m Getting client with id 2480\n",
      "\u001b[2m\u001b[36m(launch_and_fit pid=271896)\u001b[0m Client 2480 --- Current virtual clock time: 14745.081893012906\n",
      "\u001b[2m\u001b[36m(launch_and_fit pid=271896)\u001b[0m Client 2480 --- Duration: 136.56398604271868\n",
      "\u001b[2m\u001b[36m(launch_and_fit pid=271896)\u001b[0m Client 2480 --- Traces: {'duration': 136.56398604271868, 'inactive': [8626, 13543, 18858, 26070, 34845, 46002, 82088, 85797, 92470, 92604, 103035, 103310, 104417, 107786, 107818, 107819, 113743, 113845, 114663, 114826, 114834, 114861, 114880, 114909, 114932, 114953, 114992, 115222, 119172, 119182, 125953, 126021, 126114, 130482, 162360, 197697, 199574, 201540, 201866, 203115, 210266, 210277, 254471, 266492, 277568, 278151, 278963, 282097, 282230, 289390, 292710, 293745, 295967, 339824, 348025, 350285, 357790, 381567, 382713, 386246, 423411, 427279], 'finish_time': 432000, 'active': [7984, 9877, 14201, 19344, 34624, 35480, 46945, 83577, 88168, 92579, 96355, 103199, 104357, 107759, 107787, 107818, 113731, 113750, 114652, 114700, 114828, 114846, 114863, 114893, 114919, 114939, 114955, 115221, 119153, 119172, 119193, 125960, 126111, 129978, 136551, 183654, 197699, 199629, 201671, 202848, 203296, 210268, 215888, 261929, 267192, 278144, 278960, 280701, 282119, 282330, 289413, 293324, 295944, 301734, 347140, 348037, 353635, 379279, 381568, 385719, 386270, 427268], 'model': 'LG-M320'}\n",
      "\u001b[2m\u001b[36m(launch_and_fit pid=271896)\u001b[0m Client 2480 --- Predicted completion: 14881\n",
      "\u001b[2m\u001b[36m(launch_and_fit pid=271896)\u001b[0m Client 2480 --- isActive: True\n",
      "\u001b[2m\u001b[36m(launch_and_fit pid=272093)\u001b[0m Getting client with id 2463\n",
      "\u001b[2m\u001b[36m(launch_and_fit pid=272093)\u001b[0m Client 2463 --- Current virtual clock time: 14745.081893012906\n",
      "\u001b[2m\u001b[36m(launch_and_fit pid=272093)\u001b[0m Client 2463 --- Duration: 782.9968583141066\n",
      "\u001b[2m\u001b[36m(launch_and_fit pid=272093)\u001b[0m Client 2463 --- Traces: {'duration': 782.9968583141066, 'inactive': [27229, 52839, 58605, 59854, 66776, 67535, 72012, 144146, 150189, 166022, 171418, 171975, 178025, 201095, 237340, 238246, 239752, 241271, 244326, 266192, 266202, 301088, 311806, 329905, 402730, 402771, 403287, 406520, 408263, 410614, 424327, 425767], 'finish_time': 432000, 'active': [9324, 51809, 53040, 58618, 66751, 66777, 70911, 142300, 147545, 164962, 170630, 171600, 177020, 186152, 232157, 238219, 238246, 241241, 241272, 266098, 266192, 298843, 311156, 328535, 402709, 402750, 402773, 404092, 408238, 408273, 424300, 424832], 'model': 'MI 8'}\n",
      "\u001b[2m\u001b[36m(launch_and_fit pid=272093)\u001b[0m Client 2463 --- Predicted completion: 15527\n",
      "\u001b[2m\u001b[36m(launch_and_fit pid=272093)\u001b[0m Client 2463 --- isActive: True\n"
     ]
    },
    {
     "name": "stderr",
     "output_type": "stream",
     "text": [
      " 25%|██▌       | 2/8 [00:00<00:00,  6.47it/s]\n",
      " 25%|██▌       | 2/8 [00:00<00:01,  5.50it/s]\n",
      " 38%|███▊      | 3/8 [00:00<00:00,  6.41it/s]\n",
      " 38%|███▊      | 3/8 [00:00<00:00,  5.91it/s]\n",
      " 50%|█████     | 4/8 [00:00<00:00,  6.26it/s]\n",
      " 50%|█████     | 4/8 [00:00<00:00,  6.22it/s]\n",
      " 62%|██████▎   | 5/8 [00:00<00:00,  6.45it/s]\n",
      " 62%|██████▎   | 5/8 [00:00<00:00,  6.07it/s]\n",
      " 75%|███████▌  | 6/8 [00:00<00:00,  6.39it/s]\n",
      " 88%|████████▊ | 7/8 [00:01<00:00,  6.60it/s]\n",
      " 75%|███████▌  | 6/8 [00:01<00:00,  5.79it/s]\n",
      " 88%|████████▊ | 7/8 [00:01<00:00,  5.81it/s]\n",
      "100%|██████████| 8/8 [00:01<00:00,  6.39it/s]\n",
      "230373 DEBUG flwr 2023-03-21 23:48:18,532 | server.py:279 | fit_round 9 received 10 results and 0 failures\n",
      "230373 INFO flwr 2023-03-21 23:48:18,533 | strategy.py:186 | Completion times of clients: [1707.0696351780286, 855.0175594485008, 136.56398604271868, 361.9187129121866, 356.7079147972777, 1070.472050641516, 539.5400192261116, 782.9968583141066, 431.87360525666145, 1570.0599198886118]\n",
      "230373 INFO flwr 2023-03-21 23:48:18,534 | strategy.py:188 | Maximum completion time of clients: 1707.0696351780286\n"
     ]
    },
    {
     "name": "stdout",
     "output_type": "stream",
     "text": [
      "Server round 9\n"
     ]
    },
    {
     "name": "stderr",
     "output_type": "stream",
     "text": [
      "100%|██████████| 8/8 [00:01<00:00,  5.99it/s]36m(launch_and_fit pid=272093)\u001b[0m \n",
      "100%|██████████| 891/891 [00:10<00:00, 88.99it/s] \n",
      "230373 INFO flwr 2023-03-21 23:48:28,591 | server.py:140 | fit progress: (9, 2153.815889298916, {'accuracy': 0.4481585408628551, 'eval_time': 16452.151528190934}, 229.17250666299879)\n",
      "230373 INFO flwr 2023-03-21 23:48:28,592 | server.py:190 | evaluate_round 9: no clients selected, cancel\n",
      "230373 INFO flwr 2023-03-21 23:48:28,615 | client_manager.py:49 | Sampling using <__main__.ActivityCriterion object at 0x7f6eba6c5300>\n",
      "230373 DEBUG flwr 2023-03-21 23:48:28,618 | server.py:255 | fit_round 10: strategy sampled 10 clients (out of 3229)\n"
     ]
    },
    {
     "name": "stdout",
     "output_type": "stream",
     "text": [
      "Sampled the following clients:  ['2989', '1023', '524', '2037', '91', '3096', '1286', '2950', '1859', '822']\n",
      "\u001b[2m\u001b[1m\u001b[36m(autoscaler +4m22s)\u001b[0m Tip: use `ray status` to view detailed cluster status. To disable these messages, set RAY_SCHEDULER_EVENTS=0.\n",
      "\u001b[2m\u001b[1m\u001b[33m(autoscaler +4m22s)\u001b[0m Warning: The following resource request cannot be scheduled right now: {'CPU': 1.0}. This is likely due to all cluster resources being claimed by actors. Consider creating fewer actors or adding more nodes to this Ray cluster.\n"
     ]
    },
    {
     "name": "stderr",
     "output_type": "stream",
     "text": [
      "  0%|          | 0/8 [00:00<?, ?it/s][0m \n",
      "  0%|          | 0/8 [00:00<?, ?it/s][0m \n"
     ]
    },
    {
     "name": "stdout",
     "output_type": "stream",
     "text": [
      "\u001b[2m\u001b[36m(launch_and_fit pid=273600)\u001b[0m Getting client with id 1023\n",
      "\u001b[2m\u001b[36m(launch_and_fit pid=273600)\u001b[0m Client 1023 --- Current virtual clock time: 16452.151528190934\n",
      "\u001b[2m\u001b[36m(launch_and_fit pid=273600)\u001b[0m Client 1023 --- Duration: 458.0069138035991\n",
      "\u001b[2m\u001b[36m(launch_and_fit pid=273600)\u001b[0m Client 1023 --- Traces: {'duration': 458.0069138035991, 'inactive': [24170, 56909, 72570, 107593, 161751, 205218, 245710, 266223, 320296, 327976, 338067, 369570, 418465, 454791, 501627, 508531], 'finish_time': 518400, 'active': [4919, 55939, 69542, 87998, 159469, 164748, 240434, 255534, 317023, 323843, 338057, 342865, 408690, 432386, 495954, 503363], 'model': 'CPH1909'}\n",
      "\u001b[2m\u001b[36m(launch_and_fit pid=273600)\u001b[0m Client 1023 --- Predicted completion: 16910\n",
      "\u001b[2m\u001b[36m(launch_and_fit pid=273600)\u001b[0m Client 1023 --- isActive: True\n",
      "\u001b[2m\u001b[36m(launch_and_fit pid=273606)\u001b[0m Getting client with id 2037\n",
      "\u001b[2m\u001b[36m(launch_and_fit pid=273606)\u001b[0m Client 2037 --- Current virtual clock time: 16452.151528190934\n",
      "\u001b[2m\u001b[36m(launch_and_fit pid=273606)\u001b[0m Client 2037 --- Duration: 406.0016969903018\n",
      "\u001b[2m\u001b[36m(launch_and_fit pid=273606)\u001b[0m Client 2037 --- Traces: {'duration': 406.0016969903018, 'inactive': [132, 1116, 1858, 2515, 3163, 3207, 3216, 3260, 3285, 3789, 3820, 3877, 3892, 3937, 3956, 4005, 5095, 5135, 5217, 12943, 12959, 13233, 13639, 14061, 14115, 14887, 14906, 16114, 16120, 16462, 17236, 37062, 54889, 54943, 54989, 54995, 101708, 102390, 103528, 103562, 104734, 104908, 105008, 105032, 105203, 105339, 105378, 105398, 105417, 105585, 107733, 107788, 107895, 110584, 111259, 111518, 111537, 111687, 111695, 111933, 112061, 113258, 113758, 113848, 113963, 114306, 114358, 114685, 114707, 114908, 114994, 115235, 115252, 115288, 115449, 115615, 115617, 124549, 138785, 139001, 139010, 139044, 145397, 182284, 182858, 187505, 187681, 187733, 188196, 188224, 188248, 188461, 188552, 188592, 190302, 190992, 193708, 193775, 194253, 194890, 195215, 195238, 195259, 195466, 195480, 197533, 197547, 197574, 197645, 237852, 271175, 271196, 271368, 271478, 273227, 273349, 274102, 274970, 278225, 278227, 278552, 279154, 279232, 279253, 279325, 300703, 325889, 325927, 325996, 326001, 326083, 326206, 326240, 328042, 329094, 329479, 329982, 330820], 'finish_time': 345600, 'active': [0, 133, 1132, 1896, 3124, 3164, 3207, 3242, 3260, 3285, 3790, 3820, 3877, 3893, 3940, 3957, 4006, 5095, 5135, 12882, 12944, 13042, 13234, 13806, 14062, 14116, 14895, 15447, 16115, 16412, 16463, 17267, 54876, 54907, 54944, 54989, 101659, 102347, 103488, 103529, 104712, 104768, 104931, 105021, 105164, 105282, 105340, 105381, 105400, 105438, 106738, 107734, 107789, 107896, 110585, 111259, 111519, 111538, 111688, 111765, 111944, 113226, 113259, 113758, 113849, 113964, 114307, 114359, 114686, 114708, 114909, 115107, 115236, 115261, 115289, 115450, 115616, 124540, 134936, 138786, 139002, 139036, 144934, 181941, 182285, 187432, 187633, 187683, 187734, 188197, 188226, 188269, 188461, 188553, 190268, 190304, 190993, 193709, 194118, 194763, 195180, 195215, 195244, 195261, 195467, 197485, 197534, 197552, 197579, 197646, 269966, 271175, 271219, 271378, 271483, 273235, 274028, 274933, 274971, 278226, 278430, 278713, 279155, 279234, 279288, 279325, 325879, 325922, 325948, 325997, 326047, 326087, 326222, 328041, 328204, 329478, 329973, 330561], 'model': 'TRT-L53'}\n",
      "\u001b[2m\u001b[36m(launch_and_fit pid=273606)\u001b[0m Client 2037 --- Predicted completion: 16858\n",
      "\u001b[2m\u001b[36m(launch_and_fit pid=273606)\u001b[0m Client 2037 --- isActive: True\n",
      "\u001b[2m\u001b[36m(launch_and_fit pid=273608)\u001b[0m Getting client with id 3096\n"
     ]
    },
    {
     "name": "stderr",
     "output_type": "stream",
     "text": [
      "  0%|          | 0/8 [00:00<?, ?it/s][0m \n"
     ]
    },
    {
     "name": "stdout",
     "output_type": "stream",
     "text": [
      "\u001b[2m\u001b[36m(launch_and_fit pid=273608)\u001b[0m Client 3096 --- Current virtual clock time: 16452.151528190934\n",
      "\u001b[2m\u001b[36m(launch_and_fit pid=273608)\u001b[0m Client 3096 --- Duration: 189.01124779176243\n",
      "\u001b[2m\u001b[36m(launch_and_fit pid=273608)\u001b[0m Client 3096 --- Traces: {'duration': 189.01124779176243, 'inactive': [24307], 'finish_time': 86400, 'active': [3186], 'model': 'SM-G570M'}\n",
      "\u001b[2m\u001b[36m(launch_and_fit pid=273608)\u001b[0m Client 3096 --- Predicted completion: 16641\n",
      "\u001b[2m\u001b[36m(launch_and_fit pid=273608)\u001b[0m Client 3096 --- isActive: True\n",
      "\u001b[2m\u001b[36m(launch_and_fit pid=273604)\u001b[0m Getting client with id 524\n",
      "\u001b[2m\u001b[36m(launch_and_fit pid=273598)\u001b[0m Getting client with id 1286\n",
      "\u001b[2m\u001b[36m(launch_and_fit pid=273598)\u001b[0m Client 1286 --- Current virtual clock time: 16452.151528190934\n",
      "\u001b[2m\u001b[36m(launch_and_fit pid=273598)\u001b[0m Client 1286 --- Duration: 488.21023467750604\n",
      "\u001b[2m\u001b[36m(launch_and_fit pid=273598)\u001b[0m Client 1286 --- Traces: {'duration': 488.21023467750604, 'inactive': [423, 1311, 1935, 2365, 3603, 4377, 4581, 5945, 44232, 74765, 80981, 83390, 83393, 117389, 118287, 118317, 118434, 121129, 193288, 203791, 206545], 'finish_time': 259200, 'active': [35, 424, 1311, 2037, 2450, 3915, 4378, 5816, 12813, 71281, 78788, 80981, 83391, 97726, 117390, 118287, 118318, 121128, 174181, 193289, 203795], 'model': 'XT1063'}\n",
      "\u001b[2m\u001b[36m(launch_and_fit pid=273598)\u001b[0m Client 1286 --- Predicted completion: 16940\n",
      "\u001b[2m\u001b[36m(launch_and_fit pid=273598)\u001b[0m Client 1286 --- isActive: True\n",
      "\u001b[2m\u001b[36m(launch_and_fit pid=273602)\u001b[0m Getting client with id 2989\n",
      "\u001b[2m\u001b[36m(launch_and_fit pid=273602)\u001b[0m Client 2989 --- Current virtual clock time: 16452.151528190934\n",
      "\u001b[2m\u001b[36m(launch_and_fit pid=273602)\u001b[0m Client 2989 --- Duration: 1437.5772466031758\n",
      "\u001b[2m\u001b[36m(launch_and_fit pid=273602)\u001b[0m Client 2989 --- Traces: {'duration': 1437.5772466031758, 'inactive': [58708, 83001, 83166, 83194, 83213, 89523, 128599, 129415, 130282, 131180, 131520, 131936, 133207, 141255, 141641, 141720, 142925, 145568, 159589, 159707, 160474, 161298], 'finish_time': 172800, 'active': [5816, 81259, 83004, 83168, 83197, 88670, 127011, 129142, 129417, 130284, 131181, 131522, 131950, 140717, 141257, 141643, 141722, 143719, 152166, 159591, 159717, 160475], 'model': 'moto e5'}\n",
      "\u001b[2m\u001b[36m(launch_and_fit pid=273602)\u001b[0m Client 2989 --- Predicted completion: 17889\n",
      "\u001b[2m\u001b[36m(launch_and_fit pid=273602)\u001b[0m Client 2989 --- isActive: True\n",
      "\u001b[2m\u001b[36m(launch_and_fit pid=273609)\u001b[0m Getting client with id 2950\n",
      "\u001b[2m\u001b[36m(launch_and_fit pid=273609)\u001b[0m Client 2950 --- Current virtual clock time: 16452.151528190934\n",
      "\u001b[2m\u001b[36m(launch_and_fit pid=273609)\u001b[0m Client 2950 --- Duration: 412.56771241707486\n",
      "\u001b[2m\u001b[36m(launch_and_fit pid=273609)\u001b[0m Client 2950 --- Traces: {'duration': 412.56771241707486, 'inactive': [760, 1071, 8694, 8933, 9211, 27228, 30580, 34705, 34823, 35616, 35900, 36128, 39917, 42231, 42278, 75575], 'finish_time': 86400, 'active': [301, 780, 8630, 8754, 8939, 9213, 30578, 33142, 34708, 35346, 35619, 35902, 39473, 40476, 42277, 44253], 'model': 'A1603'}\n",
      "\u001b[2m\u001b[36m(launch_and_fit pid=273609)\u001b[0m Client 2950 --- Predicted completion: 16864\n",
      "\u001b[2m\u001b[36m(launch_and_fit pid=273609)\u001b[0m Client 2950 --- isActive: True\n",
      "\u001b[2m\u001b[36m(launch_and_fit pid=273604)\u001b[0m Client 524 --- Current virtual clock time: 16452.151528190934\n",
      "\u001b[2m\u001b[36m(launch_and_fit pid=273604)\u001b[0m Client 524 --- Duration: 422.88326501655195\n",
      "\u001b[2m\u001b[36m(launch_and_fit pid=273604)\u001b[0m Client 524 --- Traces: {'duration': 422.88326501655195, 'inactive': [329, 591, 696, 775, 1282, 1358, 1381, 1446, 1488, 1645, 1740, 1769, 1794, 1813, 1830, 1858, 1889, 2539, 3311, 3385, 3405, 3414, 3652, 3724, 4780, 6181, 6625, 6754, 7215, 8238, 8262, 8422, 8691, 8808, 8834, 8852, 8923, 9035, 9080, 9312, 9314, 11782, 12005, 12348, 14024, 26420, 29229, 29643, 29669, 30028, 68067, 68101, 95241, 109203, 109612, 159434, 159455, 159457, 159582, 160897, 160994, 162204, 168000, 168004, 207439, 207642, 208148, 208429, 209966, 213492, 213548, 213566, 213572, 213616, 213787, 213832, 213841, 213872, 213930, 213985, 214099, 214172, 214338, 214954, 215190, 216080, 217350, 220219, 220409, 220499, 220560, 220734, 221366, 222129, 222512, 222537, 222641, 222662, 222919, 222950, 222974, 223042, 223054, 223107, 223125, 223210, 223235, 223256, 223277, 223325, 223359, 223396, 223410, 223432, 223461, 223483, 223586, 223602, 223906, 234047, 239341, 239708, 239713, 242629, 242652, 242735, 242798, 242817, 243095, 243118, 243120, 243147, 244857, 245740, 246837, 246991, 246999, 254645, 254855, 255127, 256371, 256852, 259061, 260476, 261126, 272196, 272229, 272250, 272336, 272395, 272403, 272457, 272509, 272526, 272588, 272630, 272682, 272824, 273020, 273039, 273068, 273107, 273688, 273734, 273744, 273774, 273808, 298665, 334442, 335221, 336495, 336616, 336640, 336645, 337665, 337809, 338045, 338176, 338843, 339264, 340185, 340283, 340319, 340425, 341626, 343045, 343072, 343766, 343965, 343970, 344390, 344432, 344482, 346020, 346242, 346552, 347194, 347394, 432215, 440262, 440646, 440865, 441589, 441925, 441978, 442036, 442417, 443144, 443320, 445629, 445737, 445859, 445861, 446604, 447354, 447459, 447645, 447821, 447936, 447937, 448258, 449620, 459011], 'finish_time': 518400, 'active': [0, 519, 593, 700, 1262, 1288, 1364, 1387, 1462, 1490, 1671, 1746, 1770, 1795, 1814, 1831, 1859, 1890, 3230, 3314, 3387, 3408, 3465, 3654, 3724, 6117, 6236, 6628, 6765, 7216, 8239, 8263, 8423, 8799, 8816, 8835, 8852, 8925, 9040, 9082, 9313, 10013, 11783, 12009, 12350, 14030, 29210, 29230, 29644, 30020, 67554, 68075, 87834, 106914, 109204, 159258, 159437, 159455, 159564, 160047, 160898, 161002, 165067, 168001, 206283, 207442, 207652, 208151, 208429, 213466, 213493, 213549, 213570, 213594, 213617, 213800, 213833, 213851, 213874, 213932, 214051, 214100, 214272, 214759, 214955, 215192, 216477, 217360, 220234, 220417, 220500, 220560, 220736, 221367, 222384, 222514, 222537, 222646, 222670, 222920, 222951, 222980, 223044, 223085, 223109, 223156, 223216, 223238, 223262, 223280, 223328, 223376, 223398, 223417, 223434, 223462, 223484, 223587, 223604, 229016, 239124, 239342, 239708, 242625, 242651, 242685, 242736, 242799, 243002, 243098, 243119, 243146, 244848, 244888, 245741, 246842, 246992, 254628, 254649, 255048, 255320, 256567, 257221, 259061, 260477, 272180, 272197, 272231, 272258, 272337, 272396, 272425, 272494, 272510, 272562, 272597, 272633, 272821, 272923, 273036, 273055, 273107, 273681, 273697, 273737, 273766, 273805, 273849, 334278, 334444, 336483, 336504, 336617, 336643, 336738, 337666, 337810, 338081, 338177, 338846, 339265, 340245, 340284, 340320, 340426, 342931, 343046, 343092, 343767, 343966, 344097, 344391, 344459, 344820, 346022, 346353, 347049, 347391, 427807, 440170, 440262, 440649, 440869, 441591, 441936, 441979, 442037, 442421, 443155, 444281, 445634, 445738, 445861, 446264, 446605, 447355, 447482, 447646, 447825, 447937, 447954, 448259, 449625], 'model': 'ASUS_X00RD'}\n",
      "\u001b[2m\u001b[36m(launch_and_fit pid=273604)\u001b[0m Client 524 --- Predicted completion: 16874\n",
      "\u001b[2m\u001b[36m(launch_and_fit pid=273604)\u001b[0m Client 524 --- isActive: True\n"
     ]
    },
    {
     "name": "stderr",
     "output_type": "stream",
     "text": [
      "  0%|          | 0/8 [00:00<?, ?it/s][0m \n",
      "  0%|          | 0/8 [00:00<?, ?it/s][0m \n",
      "  0%|          | 0/8 [00:00<?, ?it/s][0m \n",
      "  0%|          | 0/8 [00:00<?, ?it/s][0m \n",
      " 12%|█▎        | 1/8 [00:00<00:04,  1.63it/s]\n",
      "  0%|          | 0/8 [00:00<?, ?it/s][0m \n",
      " 12%|█▎        | 1/8 [00:00<00:06,  1.13it/s]\n",
      " 12%|█▎        | 1/8 [00:00<00:05,  1.39it/s]\n"
     ]
    },
    {
     "name": "stdout",
     "output_type": "stream",
     "text": [
      "\u001b[2m\u001b[36m(launch_and_fit pid=273607)\u001b[0m Getting client with id 91\n",
      "\u001b[2m\u001b[36m(launch_and_fit pid=273607)\u001b[0m Client 91 --- Current virtual clock time: 16452.151528190934\n",
      "\u001b[2m\u001b[36m(launch_and_fit pid=273607)\u001b[0m Client 91 --- Duration: 369.2982195835648\n",
      "\u001b[2m\u001b[36m(launch_and_fit pid=273607)\u001b[0m Client 91 --- Traces: {'duration': 369.2982195835648, 'inactive': [36764, 42950, 46573, 73324, 90550, 114952, 155800, 160012, 219874, 219876, 219946, 219973, 221182, 233828, 235496, 248356, 264681, 268100, 291935, 358678, 422800, 426389, 466697, 477478, 484685, 506407, 512440], 'finish_time': 518400, 'active': [14412, 42505, 43532, 71467, 84885, 98455, 148331, 157106, 216931, 219874, 219891, 219949, 219974, 229937, 235470, 247902, 264563, 264691, 268192, 336109, 408501, 425402, 459152, 477162, 482513, 505616, 506423], 'model': 'SM-J415F'}\n",
      "\u001b[2m\u001b[36m(launch_and_fit pid=273607)\u001b[0m Client 91 --- Predicted completion: 16821\n",
      "\u001b[2m\u001b[36m(launch_and_fit pid=273607)\u001b[0m Client 91 --- isActive: True\n"
     ]
    },
    {
     "name": "stderr",
     "output_type": "stream",
     "text": [
      " 12%|█▎        | 1/8 [00:00<00:05,  1.40it/s]\n",
      " 12%|█▎        | 1/8 [00:00<00:05,  1.33it/s]\n",
      " 25%|██▌       | 2/8 [00:01<00:03,  1.67it/s]\n",
      " 25%|██▌       | 2/8 [00:01<00:04,  1.43it/s]\n",
      " 25%|██▌       | 2/8 [00:01<00:03,  1.65it/s]\n",
      " 12%|█▎        | 1/8 [00:01<00:07,  1.10s/it]\n",
      " 25%|██▌       | 2/8 [00:01<00:03,  1.55it/s]\n",
      " 12%|█▎        | 1/8 [00:01<00:08,  1.23s/it]\n",
      " 25%|██▌       | 2/8 [00:01<00:04,  1.49it/s]\n",
      " 38%|███▊      | 3/8 [00:01<00:02,  1.81it/s]\n",
      " 38%|███▊      | 3/8 [00:02<00:03,  1.41it/s]\n",
      " 38%|███▊      | 3/8 [00:01<00:03,  1.49it/s]\n",
      " 38%|███▊      | 3/8 [00:01<00:02,  1.67it/s]\n",
      " 38%|███▊      | 3/8 [00:01<00:02,  1.69it/s]\n",
      " 50%|█████     | 4/8 [00:02<00:02,  1.72it/s]\n",
      " 25%|██▌       | 2/8 [00:02<00:06,  1.00s/it]\n",
      " 25%|██▌       | 2/8 [00:02<00:05,  1.01it/s]\n",
      " 12%|█▎        | 1/8 [00:01<00:12,  1.76s/it]\n",
      " 50%|█████     | 4/8 [00:02<00:02,  1.90it/s]\n",
      " 50%|█████     | 4/8 [00:02<00:02,  1.44it/s]\n",
      " 50%|█████     | 4/8 [00:02<00:02,  1.59it/s]\n",
      " 62%|██████▎   | 5/8 [00:03<00:01,  1.54it/s]\n",
      " 50%|█████     | 4/8 [00:03<00:03,  1.22it/s]\n",
      " 62%|██████▎   | 5/8 [00:02<00:01,  1.92it/s]\n",
      " 25%|██▌       | 2/8 [00:02<00:06,  1.16s/it]\n",
      " 62%|██████▎   | 5/8 [00:03<00:01,  1.55it/s]\n",
      " 38%|███▊      | 3/8 [00:03<00:05,  1.05s/it]\n",
      " 38%|███▊      | 3/8 [00:03<00:05,  1.01s/it]\n",
      " 62%|██████▎   | 5/8 [00:03<00:02,  1.35it/s]\n",
      " 75%|███████▌  | 6/8 [00:03<00:01,  1.37it/s]\n",
      " 75%|███████▌  | 6/8 [00:03<00:01,  1.55it/s]\n",
      " 75%|███████▌  | 6/8 [00:03<00:01,  1.53it/s]\n",
      " 62%|██████▎   | 5/8 [00:03<00:02,  1.20it/s]\n",
      " 50%|█████     | 4/8 [00:03<00:03,  1.08it/s]\n",
      " 38%|███▊      | 3/8 [00:03<00:05,  1.09s/it]\n",
      " 75%|███████▌  | 6/8 [00:04<00:01,  1.35it/s]\n",
      " 88%|████████▊ | 7/8 [00:04<00:00,  1.35it/s]\n",
      " 50%|█████     | 4/8 [00:04<00:04,  1.10s/it]\n",
      " 88%|████████▊ | 7/8 [00:04<00:00,  1.49it/s]\n",
      " 88%|████████▊ | 7/8 [00:04<00:00,  1.35it/s]\n",
      " 75%|███████▌  | 6/8 [00:04<00:01,  1.17it/s]\n",
      " 88%|████████▊ | 7/8 [00:05<00:00,  1.37it/s]\n",
      " 62%|██████▎   | 5/8 [00:04<00:02,  1.05it/s]\n",
      "100%|██████████| 8/8 [00:05<00:00,  1.50it/s]\n",
      " 62%|██████▎   | 5/8 [00:04<00:02,  1.07it/s]\n",
      "100%|██████████| 8/8 [00:05<00:00,  1.50it/s]\n",
      "100%|██████████| 8/8 [00:05<00:00,  1.56it/s]\n",
      " 88%|████████▊ | 7/8 [00:05<00:00,  1.36it/s]\n",
      " 75%|███████▌  | 6/8 [00:05<00:01,  1.22it/s]\n",
      " 50%|█████     | 4/8 [00:05<00:05,  1.25s/it]\n",
      "100%|██████████| 8/8 [00:05<00:00,  1.34it/s]\n",
      "100%|██████████| 8/8 [00:05<00:00,  1.40it/s]\n",
      " 75%|███████▌  | 6/8 [00:05<00:01,  1.14it/s]\n",
      " 88%|████████▊ | 7/8 [00:06<00:00,  1.28it/s]\n",
      " 62%|██████▎   | 5/8 [00:05<00:03,  1.06s/it]\n",
      " 88%|████████▊ | 7/8 [00:06<00:00,  1.23it/s]\n",
      " 75%|███████▌  | 6/8 [00:06<00:01,  1.00it/s]\n",
      "100%|██████████| 8/8 [00:07<00:00,  1.14it/s]\n",
      "100%|██████████| 8/8 [00:07<00:00,  1.10it/s]\n",
      " 88%|████████▊ | 7/8 [00:07<00:00,  1.10it/s]\n",
      "100%|██████████| 8/8 [00:07<00:00,  1.04it/s]\n"
     ]
    },
    {
     "name": "stdout",
     "output_type": "stream",
     "text": [
      "\u001b[2m\u001b[36m(launch_and_fit pid=277226)\u001b[0m Getting client with id 822\n",
      "\u001b[2m\u001b[36m(launch_and_fit pid=277226)\u001b[0m Client 822 --- Current virtual clock time: 16452.151528190934\n",
      "\u001b[2m\u001b[36m(launch_and_fit pid=277226)\u001b[0m Client 822 --- Duration: 954.826341671105\n",
      "\u001b[2m\u001b[36m(launch_and_fit pid=277226)\u001b[0m Client 822 --- Traces: {'duration': 954.826341671105, 'inactive': [20187, 20886, 62942, 100323, 109542, 208524, 249146, 300875, 301059, 339955, 409130, 495302], 'finish_time': 518400, 'active': [15257, 20224, 35015, 99083, 100538, 205556, 208540, 298249, 300892, 301107, 374328, 462382], 'model': 'SM-J415G'}\n",
      "\u001b[2m\u001b[36m(launch_and_fit pid=277226)\u001b[0m Client 822 --- Predicted completion: 17406\n",
      "\u001b[2m\u001b[36m(launch_and_fit pid=277226)\u001b[0m Client 822 --- isActive: True\n",
      "\u001b[2m\u001b[36m(launch_and_fit pid=277183)\u001b[0m Getting client with id 1859\n",
      "\u001b[2m\u001b[36m(launch_and_fit pid=277183)\u001b[0m Client 1859 --- Current virtual clock time: 16452.151528190934\n",
      "\u001b[2m\u001b[36m(launch_and_fit pid=277183)\u001b[0m Client 1859 --- Duration: 521.6784373275945\n",
      "\u001b[2m\u001b[36m(launch_and_fit pid=277183)\u001b[0m Client 1859 --- Traces: {'duration': 521.6784373275945, 'inactive': [3656, 23503, 23505, 43442, 44153, 48187, 55536, 64012], 'finish_time': 86400, 'active': [3641, 7252, 23503, 42410, 43443, 46373, 48187, 63575], 'model': 'Redmi 5 Plus'}\n",
      "\u001b[2m\u001b[36m(launch_and_fit pid=277183)\u001b[0m Client 1859 --- Predicted completion: 16973\n",
      "\u001b[2m\u001b[36m(launch_and_fit pid=277183)\u001b[0m Client 1859 --- isActive: True\n"
     ]
    },
    {
     "name": "stderr",
     "output_type": "stream",
     "text": [
      "  0%|          | 0/8 [00:00<?, ?it/s][0m \n",
      "  0%|          | 0/8 [00:00<?, ?it/s][0m \n",
      " 12%|█▎        | 1/8 [00:00<00:01,  6.30it/s]\n",
      " 12%|█▎        | 1/8 [00:00<00:01,  4.49it/s]\n",
      " 25%|██▌       | 2/8 [00:00<00:00,  6.62it/s]\n",
      " 38%|███▊      | 3/8 [00:00<00:00,  7.19it/s]\n",
      " 25%|██▌       | 2/8 [00:00<00:01,  4.80it/s]\n",
      " 50%|█████     | 4/8 [00:00<00:00,  6.84it/s]\n",
      " 38%|███▊      | 3/8 [00:00<00:01,  4.87it/s]\n",
      " 62%|██████▎   | 5/8 [00:00<00:00,  6.38it/s]\n",
      " 50%|█████     | 4/8 [00:00<00:00,  4.70it/s]\n",
      " 75%|███████▌  | 6/8 [00:00<00:00,  5.52it/s]\n",
      " 88%|████████▊ | 7/8 [00:01<00:00,  5.24it/s]\n",
      " 62%|██████▎   | 5/8 [00:01<00:00,  3.93it/s]\n",
      "100%|██████████| 8/8 [00:01<00:00,  5.68it/s]\n",
      " 75%|███████▌  | 6/8 [00:01<00:00,  3.99it/s]\n",
      " 88%|████████▊ | 7/8 [00:01<00:00,  4.21it/s]\n",
      "230373 DEBUG flwr 2023-03-21 23:48:47,330 | server.py:279 | fit_round 10 received 10 results and 0 failures\n",
      "230373 INFO flwr 2023-03-21 23:48:47,331 | strategy.py:186 | Completion times of clients: [1437.5772466031758, 189.01124779176243, 488.21023467750604, 521.6784373275945, 422.88326501655195, 954.826341671105, 458.0069138035991, 412.56771241707486, 406.0016969903018, 369.2982195835648]\n",
      "230373 INFO flwr 2023-03-21 23:48:47,332 | strategy.py:188 | Maximum completion time of clients: 1437.5772466031758\n"
     ]
    },
    {
     "name": "stdout",
     "output_type": "stream",
     "text": [
      "Server round 10\n"
     ]
    },
    {
     "name": "stderr",
     "output_type": "stream",
     "text": [
      "100%|██████████| 8/8 [00:01<00:00,  4.38it/s]36m(launch_and_fit pid=277226)\u001b[0m \n",
      "100%|██████████| 891/891 [00:08<00:00, 105.00it/s]\n",
      "230373 INFO flwr 2023-03-21 23:48:55,854 | server.py:140 | fit progress: (10, 2353.3520735800266, {'accuracy': 0.3814100315678709, 'eval_time': 17889.728774794108}, 256.43582172599963)\n",
      "230373 INFO flwr 2023-03-21 23:48:55,855 | server.py:190 | evaluate_round 10: no clients selected, cancel\n",
      "230373 INFO flwr 2023-03-21 23:48:55,856 | server.py:171 | FL finished in 256.4372185839984\n",
      "230373 INFO flwr 2023-03-21 23:48:55,858 | app.py:225 | app_fit: losses_distributed []\n",
      "230373 INFO flwr 2023-03-21 23:48:55,860 | app.py:226 | app_fit: metrics_distributed_fit {'train_loss': [(1, {'avg': 0.10277259506677326, 'all': [(4, 0.09161741845309734), (4, 0.08785143308341503), (4, 0.09514270722866058), (12, 0.11196874889234702), (4, 0.09882499650120735), (6, 0.10989677533507347), (4, 0.10215168818831444)]}), (2, {'avg': 0.10233011914462578, 'all': [(8, 0.1088027385994792), (9, 0.10758810573154026), (4, 0.1011840496212244), (4, 0.09105974063277245), (4, 0.08433007635176182), (8, 0.10835545882582664), (4, 0.09592022188007832)]}), (3, {'avg': 0.07735700251640014, 'all': [(3, 0.08346118281284969), (9, 0.08413988062077099), (5, 0.047427085041999814), (4, 0.07204945385456085), (7, 0.07847105445606369), (8, 0.09922247938811779), (4, 0.05848442483693361), (5, 0.07772421389818192), (4, 0.0857884157449007), (4, 0.06453894264996052)]}), (4, {'avg': 0.06147629802580923, 'all': [(7, 0.05923685325043542), (9, 0.07439007568690512), (3, 0.04451777165134748), (4, 0.05070469714701176), (3, 0.062471214681863785), (4, 0.05882130842655897), (10, 0.07396871857345104), (4, 0.05010306742042303), (4, 0.041880803648382425)]}), (5, {'avg': 0.04377638995005139, 'all': [(3, 0.01960148724416892), (4, 0.029261168092489243), (7, 0.061204934758799415), (5, 0.03852408602833748), (9, 0.058026429265737534), (4, 0.03794372268021107), (7, 0.044879217232976644), (9, 0.04684753302070829), (5, 0.033978267759084704), (5, 0.03248801976442337)]}), (6, {'avg': 0.04011468260094177, 'all': [(5, 0.033638345450162886), (3, 0.019823268055915833), (8, 0.044945310801267624), (4, 0.028888737317174673), (5, 0.027112053334712984), (4, 0.02100663259625435), (4, 0.029789492022246122), (10, 0.06834076195955277)]}), (7, {'avg': 0.032324693363873246, 'all': [(4, 0.017485277960076928), (4, 0.019443386001512408), (10, 0.033796058222651484), (8, 0.04473491874523461), (4, 0.024567914893850684), (4, 0.05514339916408062), (5, 0.024017372727394105), (4, 0.029901900328695774), (4, 0.029291569720953703)]}), (8, {'avg': 0.017765734810382128, 'all': [(5, 0.012562716100364923), (8, 0.02111501758918166), (4, 0.009046330815181136), (4, 0.01427591871470213), (4, 0.011516163358464837), (8, 0.0192861407995224), (7, 0.02771081349679402), (5, 0.01292058676481247), (4, 0.020952755119651556), (6, 0.018224877770990133)]}), (9, {'avg': 0.016866355657559604, 'all': [(4, 0.023356495890766382), (4, 0.016176699893549085), (4, 0.025135172065347433), (8, 0.02079583576414734), (4, 0.0038967345317360014), (4, 0.012048553442582488), (4, 0.01181854133028537), (5, 0.006474679615348577), (4, 0.022958186455070972), (11, 0.01970444323325699)]}), (10, {'avg': 0.011994842225537887, 'all': [(4, 0.007805390632711351), (4, 0.01582118682563305), (9, 0.010553066411779987), (4, 0.010947843198664486), (9, 0.006923418285118209), (7, 0.010906233585306577), (7, 0.011107959252383028), (4, 0.00667888333555311), (4, 0.00948888692073524), (11, 0.02193805312907154)]})], 'client_completion_time': [(1, {'avg': 776.0734172251936, 'all': [(4, 967.1871108575064), (4, 1391.952242700838), (4, 160.747556474767), (12, 653.9093580981513), (4, 511.7667562372511), (6, 1087.5163560740814), (4, 748.0411889634006)]}), (2, {'avg': 915.7578393174864, 'all': [(8, 446.4704257051686), (9, 296.5387975793243), (4, 104.8773233736289), (4, 137.58885831410655), (4, 665.9818215907752), (8, 2934.0096853169944), (4, 1049.8973331279187)]}), (3, {'avg': 689.4780132022161, 'all': [(3, 481.106196547328), (9, 563.474196547328), (5, 310.00056840765023), (4, 563.2674644510255), (7, 525.7401592703895), (8, 1690.0852507211205), (4, 904.8614010515907), (5, 244.82024872989444), (4, 370.3212014721119), (4, 674.7452167252973)]}), (4, {'avg': 898.1909062658859, 'all': [(7, 445.1495980246826), (9, 1253.7939268388125), (3, 745.5440256950537), (4, 915.237395995364), (3, 344.06996359302406), (4, 591.3416719152932), (10, 1246.9791941327182), (4, 1049.8973331279187), (4, 687.1078649236786)]}), (5, {'avg': 830.3028457611213, 'all': [(3, 605.1758600636174), (4, 1295.120629326178), (7, 531.9845508660098), (5, 532.2844543804035), (9, 1686.1347550691862), (4, 381.84604442963996), (7, 602.8195448041901), (9, 1066.7956404363479), (5, 530.464496115181), (5, 320.0847594423552)]}), (6, {'avg': 751.0541287572995, 'all': [(5, 1160.6477784499832), (3, 1977.5401397947521), (8, 199.24455933365445), (4, 391.5441576570953), (5, 951.0258110846362), (4, 582.1631786715387), (4, 148.58967191529317), (10, 972.1194661861574)]}), (7, {'avg': 563.1448424945524, 'all': [(4, 522.9261473971017), (4, 136.80537284954332), (10, 508.40365067656967), (8, 361.9187129121866), (4, 413.30600451080653), (4, 505.5527460598993), (5, 1476.8006003275063), (4, 395.8645144838243), (4, 801.6498110846361)]}), (8, {'avg': 680.0432941483006, 'all': [(5, 532.2844543804035), (8, 295.4946967893966), (4, 546.1256719152932), (4, 1060.5227455340814), (4, 137.58885831410655), (8, 337.2563253136903), (7, 374.4298215907752), (5, 1244.7801784682667), (4, 2334.765292243698), (6, 753.0051356540575)]}), (9, {'avg': 855.1917730001156, 'all': [(4, 1707.0696351780286), (4, 855.0175594485008), (4, 136.56398604271868), (8, 361.9187129121866), (4, 356.7079147972777), (4, 1070.472050641516), (4, 539.5400192261116), (5, 782.9968583141066), (4, 431.87360525666145), (11, 1570.0599198886118)]}), (10, {'avg': 539.9888899287032, 'all': [(4, 1437.5772466031758), (4, 189.01124779176243), (9, 488.21023467750604), (4, 521.6784373275945), (9, 422.88326501655195), (7, 954.826341671105), (7, 458.0069138035991), (4, 412.56771241707486), (4, 406.0016969903018), (11, 369.2982195835648)]})], 'computation': [(1, {'avg': 75.52631578947368, 'all': [(4, 148.0), (4, 156.0), (4, 20.0), (12, 23.0), (4, 148.0), (6, 19.0), (4, 148.0)]}), (2, {'avg': 67.90243902439025, 'all': [(8, 18.0), (9, 28.0), (4, 24.0), (4, 20.0), (4, 143.0), (8, 193.0), (4, 24.0)]}), (3, {'avg': 67.79245283018868, 'all': [(3, 27.0), (9, 21.0), (5, 31.0), (4, 118.0), (7, 61.0), (8, 117.0), (4, 189.0), (5, 41.0), (4, 43.0), (4, 50.0)]}), (4, {'avg': 104.5625, 'all': [(7, 51.0), (9, 154.0), (3, 154.0), (4, 189.0), (3, 96.0), (4, 148.0), (10, 61.0), (4, 24.0), (4, 118.0)]}), (5, {'avg': 65.91379310344827, 'all': [(3, 134.0), (4, 154.0), (7, 50.0), (5, 23.0), (9, 192.0), (4, 23.0), (7, 25.0), (9, 15.0), (5, 27.0), (5, 15.0)]}), (6, {'avg': 61.95348837209303, 'all': [(5, 173.0), (3, 40.0), (8, 24.0), (4, 25.0), (5, 191.0), (4, 24.0), (4, 24.0), (10, 24.0)]}), (7, {'avg': 51.361702127659576, 'all': [(4, 56.0), (4, 24.0), (10, 61.0), (8, 30.0), (4, 30.0), (4, 23.0), (5, 24.0), (4, 72.0), (4, 156.0)]}), (8, {'avg': 61.981818181818184, 'all': [(5, 23.0), (8, 43.0), (4, 143.0), (4, 30.0), (4, 20.0), (8, 23.0), (7, 29.0), (5, 199.0), (4, 154.0), (6, 30.0)]}), (9, {'avg': 109.9423076923077, 'all': [(4, 192.0), (4, 192.0), (4, 25.0), (8, 30.0), (4, 19.0), (4, 173.0), (4, 41.0), (5, 183.0), (4, 75.0), (11, 154.0)]}), (10, {'avg': 52.3968253968254, 'all': [(4, 136.0), (4, 50.0), (9, 23.0), (4, 23.0), (9, 38.0), (7, 156.0), (7, 56.0), (4, 15.0), (4, 27.0), (11, 24.0)]})], 'communication': [(1, {'avg': 13407.74705063178, 'all': [(4, 4841.734462887831), (4, 2475.5899322334885), (4, 23291.68410175639), (12, 4571.163620535417), (4, 69699.14584615384), (6, 2025.9394067798967), (4, 10313.04266619426)]}), (2, {'avg': 23860.263992469492, 'all': [(8, 6111.75168591581), (9, 23756.694131470173), (4, 133144.06129563495), (4, 31893.420702734973), (4, 9391.531079066199), (8, 1194.6677067889516), (4, 2073.292264158739)]}), (3, {'avg': 8840.818805006476, 'all': [(3, 4804.1562114308545), (9, 4804.1562114308545), (5, 10473.36639536247), (4, 13876.22062689568), (7, 11469.194708664361), (8, 2107.9852309072676), (4, 9285.507969451819), (5, 22888.467692307695), (4, 9554.328712549222), (4, 4022.9694115816483)]}), (4, {'avg': 12134.517277122097, 'all': [(7, 14630.406878190872), (9, 19872.43351573733), (3, 6621.9897420324805), (4, 8858.753535644008), (3, 19147.191080201093), (4, 30466.59348053789), (10, 2711.8379534614946), (4, 2073.292264158739), (4, 7792.900097552556)]}), (5, {'avg': 5141.326948537412, 'all': [(3, 7387.928994060325), (4, 2621.5871497118596), (7, 7599.230248960253), (5, 4504.865153655598), (9, 5872.012067671057), (4, 6566.720212508898), (7, 4336.329677548892), (9, 2092.234832654331), (5, 4686.205844413425), (5, 7619.490001053657)]}), (6, {'avg': 14394.714949796926, 'all': [(5, 4652.290392827601), (3, 1076.136588410951), (8, 44566.69650474144), (4, 6659.027482343811), (5, 9191.775833314994), (4, 3987.8515790590304), (4, 30466.59348053789), (10, 2553.6539739627583)]}), (7, {'avg': 24044.356358430618, 'all': [(4, 6384.429196498908), (4, 38791.73606918406), (10, 70892.69688359788), (8, 11837.211384531945), (4, 6399.877029981482), (4, 4768.253963849246), (5, 1444.4181396435608), (4, 14273.427466117982), (4, 9191.775833314994)]}), (8, {'avg': 17919.283490724076, 'all': [(5, 4504.865153655598), (8, 63892.25865924355), (4, 30466.59348053789), (4, 2071.5025817407527), (4, 31893.420702734973), (8, 10442.319676342106), (7, 9391.531079066199), (5, 4161.290119724033), (4, 1118.7200906281469), (6, 3268.587327035091)]}), (9, {'avg': 13208.004084557608, 'all': [(4, 1986.7806861356996), (4, 10445.742857153104), (4, 33464.97), (8, 11837.211384531945), (4, 6703.762724337446), (4, 4730.815972240296), (4, 4977.848335644711), (5, 31893.420702734973), (4, 12636.345755546148), (11, 12078.759316621428)]}), (10, {'avg': 15135.39957277937, 'all': [(4, 2124.3843013483306), (4, 65335.46144885363), (9, 6074.702413493102), (4, 4456.184635923774), (9, 14457.211405313634), (7, 28073.192894657142), (7, 14765.932599247273), (4, 5522.303428575063), (4, 6291.807151508415), (11, 12177.136944879272)]})], 'cid': [(1, {'avg': 1568.0, 'all': [(4, 2471), (4, 2614), (4, 2674), (12, 447), (4, 2907), (6, 678), (4, 1872)]}), (2, {'avg': 1368.780487804878, 'all': [(8, 1075), (9, 796), (4, 2035), (4, 2962), (4, 2902), (8, 75), (4, 2040)]}), (3, {'avg': 1639.4905660377358, 'all': [(3, 808), (9, 934), (5, 2483), (4, 3098), (7, 925), (8, 529), (4, 2853), (5, 2517), (4, 1150), (4, 2988)]}), (4, {'avg': 1135.0625, 'all': [(7, 522), (9, 258), (3, 1806), (4, 2455), (3, 1279), (4, 2100), (10, 144), (4, 2040), (4, 2858)]}), (5, {'avg': 1294.396551724138, 'all': [(3, 1555), (4, 1691), (7, 402), (5, 2233), (9, 188), (4, 1319), (7, 1272), (9, 800), (5, 2437), (5, 2882)]}), (6, {'avg': 1438.5813953488373, 'all': [(5, 843), (3, 2757), (8, 751), (4, 2256), (5, 2893), (4, 1647), (4, 2357), (10, 386)]}), (7, {'avg': 1621.5106382978724, 'all': [(4, 2828), (4, 2608), (10, 166), (8, 584), (4, 1756), (4, 2136), (5, 2995), (4, 2644), (4, 1754)]}), (8, {'avg': 1399.3454545454545, 'all': [(5, 2233), (8, 757), (4, 1525), (4, 1747), (4, 2962), (8, 980), (7, 275), (5, 2266), (4, 3038), (6, 260)]}), (9, {'avg': 1436.2307692307693, 'all': [(4, 2478), (4, 1392), (4, 2480), (8, 584), (4, 2926), (4, 1926), (4, 1364), (5, 2463), (4, 1432), (11, 155)]}), (10, {'avg': 1300.4761904761904, 'all': [(4, 2989), (4, 3096), (9, 1286), (4, 1859), (9, 524), (7, 822), (7, 1023), (4, 2950), (4, 2037), (11, 91)]})]}\n",
      "230373 INFO flwr 2023-03-21 23:48:55,861 | app.py:227 | app_fit: metrics_distributed {}\n",
      "230373 INFO flwr 2023-03-21 23:48:55,861 | app.py:228 | app_fit: losses_centralized [(0, 3686.0015926361084), (1, 3411.923886537552), (2, 3113.9878916740417), (3, 2809.639505624771), (4, 2866.0170500278473), (5, 2691.472757577896), (6, 2312.975367665291), (7, 2194.29910582304), (8, 2142.065276324749), (9, 2153.815889298916), (10, 2353.3520735800266)]\n",
      "230373 INFO flwr 2023-03-21 23:48:55,862 | app.py:229 | app_fit: metrics_centralized {'accuracy': [(0, 0.005892669238863556), (1, 0.07969133637320239), (2, 0.08025254296737987), (3, 0.22430726061031217), (4, 0.20024552788495265), (5, 0.3237811294282708), (6, 0.3553490003507541), (7, 0.39593125219221326), (8, 0.4526832690284111), (9, 0.4481585408628551), (10, 0.3814100315678709)], 'eval_time': [(0, 0.0), (1, 1391.952242700838), (2, 4325.961928017832), (3, 6016.047178738952), (4, 7269.841105577765), (5, 8955.975860646951), (6, 10933.516000441703), (7, 12410.316600769209), (8, 14745.081893012906), (9, 16452.151528190934), (10, 17889.728774794108)]}\n"
     ]
    }
   ],
   "source": [
    "sync_hist = start_seeded_simulation(\n",
    "    client_fn=flower_client_with_traces_generator,\n",
    "    num_clients=num_total_clients,\n",
    "    client_resources=client_resources,\n",
    "    server=sync_server,\n",
    "    config=ServerConfig(num_rounds=10, asynchronous=False),\n",
    "    strategy=fedavg_strategy,\n",
    ")"
   ]
  },
  {
   "cell_type": "code",
   "execution_count": 41,
   "metadata": {},
   "outputs": [],
   "source": [
    "torch.save(sync_hist, \"saves/sync_hist\")"
   ]
  },
  {
   "cell_type": "code",
   "execution_count": 42,
   "metadata": {},
   "outputs": [],
   "source": [
    "sync_hist = torch.load(\"saves/sync_hist\")"
   ]
  },
  {
   "cell_type": "code",
   "execution_count": 43,
   "metadata": {},
   "outputs": [],
   "source": [
    "sync_hist_cids = sync_hist.metrics_distributed_fit[\"cid\"]\n",
    "sync_hist_computation = sync_hist.metrics_distributed_fit[\"computation\"]\n",
    "sync_hist_accuracy = sync_hist.metrics_centralized[\"accuracy\"]\n",
    "sync_hist_eval_times = sync_hist.metrics_centralized[\"eval_time\"]"
   ]
  },
  {
   "cell_type": "code",
   "execution_count": 44,
   "metadata": {},
   "outputs": [],
   "source": [
    "torch.save(sync_hist_cids, \"saves/sync_hist_cids\")\n",
    "torch.save(sync_hist_computation, \"saves/sync_hist_computation\")\n",
    "torch.save(sync_hist_accuracy, \"saves/sync_hist_accuracy\")\n",
    "torch.save(sync_hist_eval_times, \"saves/sync_hist_eval_times\")"
   ]
  },
  {
   "cell_type": "code",
   "execution_count": 46,
   "metadata": {},
   "outputs": [],
   "source": [
    "sync_hist_cids = torch.load(\"saves/sync_hist_cids\")\n",
    "sync_hist_computation = torch.load(\"saves/sync_hist_computation\")\n",
    "sync_hist_accuracy = torch.load(\"saves/sync_hist_accuracy\")\n",
    "sync_hist_eval_times = torch.load(\"saves/sync_hist_eval_times\")"
   ]
  },
  {
   "cell_type": "code",
   "execution_count": 47,
   "metadata": {},
   "outputs": [
    {
     "name": "stdout",
     "output_type": "stream",
     "text": [
      "Getting client with id 2471\n",
      "Getting client with id 2614\n",
      "Getting client with id 2674\n",
      "Getting client with id 447\n",
      "Getting client with id 2907\n",
      "Getting client with id 678\n",
      "Getting client with id 1872\n",
      "Getting client with id 1075\n",
      "Getting client with id 796\n",
      "Getting client with id 2035\n",
      "Getting client with id 2962\n",
      "Getting client with id 2902\n",
      "Getting client with id 75\n",
      "Getting client with id 2040\n",
      "Getting client with id 808\n",
      "Getting client with id 934\n",
      "Getting client with id 2483\n",
      "Getting client with id 3098\n",
      "Getting client with id 925\n",
      "Getting client with id 529\n",
      "Getting client with id 2853\n",
      "Getting client with id 2517\n",
      "Getting client with id 1150\n",
      "Getting client with id 2988\n",
      "Getting client with id 522\n",
      "Getting client with id 258\n",
      "Getting client with id 1806\n",
      "Getting client with id 2455\n",
      "Getting client with id 1279\n",
      "Getting client with id 2100\n",
      "Getting client with id 144\n",
      "Getting client with id 2040\n",
      "Getting client with id 2858\n",
      "Getting client with id 1555\n",
      "Getting client with id 1691\n",
      "Getting client with id 402\n",
      "Getting client with id 2233\n",
      "Getting client with id 188\n",
      "Getting client with id 1319\n",
      "Getting client with id 1272\n",
      "Getting client with id 800\n",
      "Getting client with id 2437\n",
      "Getting client with id 2882\n",
      "Getting client with id 843\n",
      "Getting client with id 2757\n",
      "Getting client with id 751\n",
      "Getting client with id 2256\n",
      "Getting client with id 2893\n",
      "Getting client with id 1647\n",
      "Getting client with id 2357\n",
      "Getting client with id 386\n",
      "Getting client with id 2828\n",
      "Getting client with id 2608\n",
      "Getting client with id 166\n",
      "Getting client with id 584\n",
      "Getting client with id 1756\n",
      "Getting client with id 2136\n",
      "Getting client with id 2995\n",
      "Getting client with id 2644\n",
      "Getting client with id 1754\n",
      "Getting client with id 2233\n",
      "Getting client with id 757\n",
      "Getting client with id 1525\n",
      "Getting client with id 1747\n",
      "Getting client with id 2962\n",
      "Getting client with id 980\n",
      "Getting client with id 275\n",
      "Getting client with id 2266\n",
      "Getting client with id 3038\n",
      "Getting client with id 260\n",
      "Getting client with id 2478\n",
      "Getting client with id 1392\n",
      "Getting client with id 2480\n",
      "Getting client with id 584\n",
      "Getting client with id 2926\n",
      "Getting client with id 1926\n",
      "Getting client with id 1364\n",
      "Getting client with id 2463\n",
      "Getting client with id 1432\n",
      "Getting client with id 155\n",
      "Getting client with id 2989\n",
      "Getting client with id 3096\n",
      "Getting client with id 1286\n",
      "Getting client with id 1859\n",
      "Getting client with id 524\n",
      "Getting client with id 822\n",
      "Getting client with id 1023\n",
      "Getting client with id 2950\n",
      "Getting client with id 2037\n",
      "Getting client with id 91\n"
     ]
    }
   ],
   "source": [
    "# prevent annoying client generation logging from being displayed:\n",
    "# %%capture\n",
    "\n",
    "## Using copy pasted history object\n",
    "\n",
    "batch_size=32\n",
    "\n",
    "sync_cids = [[comp[1] for comp in a[1][\"all\"]] for a in sync_hist_cids]\n",
    "## NOTE need to use normal generator as q9_p1_client_generator does not map to client with same cid as argument given \n",
    "sync_training_samples = [[flower_client_with_traces_generator(c).get_train_set_size() for c in round_cids] for round_cids in sync_cids]\n",
    "sync_training_samples_per_round = [sum(a) for a in sync_training_samples]\n",
    "\n",
    "# note use // division as client is configured to only use full batches (drop_last=True)\n",
    "sync_num_batches = [[num_samples//batch_size for num_samples in round_client_samples] for round_client_samples in sync_training_samples]\n",
    "\n",
    "sync_compute_units = np.array([\n",
    "  sum([\n",
    "    # 8 rounds per epoch, augmentation factor of 3\n",
    "    (8.0 * 3.0 * batch_size * batches * comp[1]/1000) \n",
    "    for comp,batches in zip(round_computes[1][\"all\"],round_batches)\n",
    "  ]) \n",
    "  for round_computes,round_batches in zip(sync_hist_computation,sync_num_batches)\n",
    "])"
   ]
  },
  {
   "cell_type": "code",
   "execution_count": 48,
   "metadata": {},
   "outputs": [],
   "source": [
    "sync_accuracies = [a[1] for a in sync_hist_accuracy]\n",
    "sync_eval_times = [a[1] for a in sync_hist_eval_times]"
   ]
  },
  {
   "cell_type": "code",
   "execution_count": 49,
   "metadata": {},
   "outputs": [
    {
     "name": "stderr",
     "output_type": "stream",
     "text": [
      "/tmp/ipykernel_230373/761493762.py:10: UserWarning: Matplotlib is currently using module://matplotlib_inline.backend_inline, which is a non-GUI backend, so cannot show the figure.\n",
      "  fig.show()\n"
     ]
    },
    {
     "data": {
      "image/png": "[encoded data removed]",
      "text/plain": [
       "<Figure size 2500x500 with 3 Axes>"
      ]
     },
     "metadata": {},
     "output_type": "display_data"
    }
   ],
   "source": [
    "fig,axs =  plt.subplots(1,3,figsize=(25,5))\n",
    "axs[0].set_ylabel(\"Cumulative training samples\")\n",
    "axs[0].plot(sync_eval_times[1:],np.cumsum(sync_training_samples_per_round))\n",
    "axs[1].set_ylabel(\"Cumulative compute time\")\n",
    "axs[1].plot(sync_eval_times[1:],np.cumsum(sync_compute_units))\n",
    "axs[2].set_ylabel(\"Testing Accuracy\")\n",
    "axs[2].plot(sync_eval_times,sync_accuracies)\n",
    "for a in axs:\n",
    "  a.set_xlabel(\"Virtual clock time\")\n",
    "fig.show()"
   ]
  }
 ],
 "metadata": {
  "kernelspec": {
   "display_name": "venv",
   "language": "python",
   "name": "python3"
  },
  "language_info": {
   "codemirror_mode": {
    "name": "ipython",
    "version": 3
   },
   "file_extension": ".py",
   "mimetype": "text/x-python",
   "name": "python",
   "nbconvert_exporter": "python",
   "pygments_lexer": "ipython3",
   "version": "3.10.10"
  },
  "orig_nbformat": 4
 },
 "nbformat": 4,
 "nbformat_minor": 2
}
