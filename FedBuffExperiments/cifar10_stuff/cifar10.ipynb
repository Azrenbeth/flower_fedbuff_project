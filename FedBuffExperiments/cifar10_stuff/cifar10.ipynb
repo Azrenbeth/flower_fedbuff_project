{
 "cells": [
  {
   "attachments": {},
   "cell_type": "markdown",
   "metadata": {},
   "source": [
    "# Imports"
   ]
  },
  {
   "cell_type": "code",
   "execution_count": 4,
   "metadata": {},
   "outputs": [],
   "source": [
    "import argparse\n",
    "import flwr as fl\n",
    "from flwr.common.typing import Scalar\n",
    "import ray\n",
    "import torch\n",
    "import torchvision\n",
    "import numpy as np\n",
    "from collections import OrderedDict\n",
    "from pathlib import Path\n",
    "from typing import Dict, Callable, Optional, Tuple, List\n",
    "from dataset_utils import get_cifar_10, do_fl_partitioning, get_dataloader\n",
    "from utils import Net, train, test\n",
    "from flwr.server.strategy import FedAvg, FedBuff"
   ]
  },
  {
   "attachments": {},
   "cell_type": "markdown",
   "metadata": {},
   "source": [
    "# Client"
   ]
  },
  {
   "cell_type": "code",
   "execution_count": 5,
   "metadata": {},
   "outputs": [],
   "source": [
    "# Flower client, adapted from Pytorch quickstart example\n",
    "class FlowerClient(fl.client.NumPyClient):\n",
    "    def __init__(self, cid: str, fed_dir_data: str):\n",
    "        self.cid = cid\n",
    "        self.fed_dir = Path(fed_dir_data)\n",
    "        self.properties: Dict[str, Scalar] = {\"tensor_type\": \"numpy.ndarray\"}\n",
    "\n",
    "        # Instantiate model\n",
    "        self.net = Net()\n",
    "\n",
    "        # Determine device\n",
    "        self.device = torch.device(\"cuda:0\" if torch.cuda.is_available() else \"cpu\")\n",
    "\n",
    "    def get_parameters(self, config):\n",
    "        return get_params(self.net)\n",
    "\n",
    "    def fit(self, parameters, config):\n",
    "        set_params(self.net, parameters)\n",
    "\n",
    "        # Load data for this client and get trainloader\n",
    "        num_workers = int(ray.get_runtime_context().get_assigned_resources()[\"CPU\"])\n",
    "        trainloader = get_dataloader(\n",
    "            self.fed_dir,\n",
    "            self.cid,\n",
    "            is_train=True,\n",
    "            batch_size=config[\"batch_size\"],\n",
    "            workers=num_workers,\n",
    "        )\n",
    "\n",
    "        # Send model to device\n",
    "        self.net.to(self.device)\n",
    "\n",
    "        # Train\n",
    "        train(self.net, trainloader, epochs=config[\"epochs\"], device=self.device)\n",
    "\n",
    "        # Return local model and statistics\n",
    "        return get_params(self.net), len(trainloader.dataset), {}\n",
    "\n",
    "    def evaluate(self, parameters, config):\n",
    "        set_params(self.net, parameters)\n",
    "\n",
    "        # Load data for this client and get trainloader\n",
    "        num_workers = int(ray.get_runtime_context().get_assigned_resources()[\"CPU\"])\n",
    "        valloader = get_dataloader(\n",
    "            self.fed_dir, self.cid, is_train=False, batch_size=50, workers=num_workers\n",
    "        )\n",
    "\n",
    "        # Send model to device\n",
    "        self.net.to(self.device)\n",
    "\n",
    "        # Evaluate\n",
    "        loss, accuracy = test(self.net, valloader, device=self.device)\n",
    "\n",
    "        # Return statistics\n",
    "        return float(loss), len(valloader.dataset), {\"accuracy\": float(accuracy)}\n",
    "\n",
    "\n",
    "def get_params(model: torch.nn.ModuleList) -> List[np.ndarray]:\n",
    "    \"\"\"Get model weights as a list of NumPy ndarrays.\"\"\"\n",
    "    return [val.cpu().numpy() for _, val in model.state_dict().items()]\n",
    "\n",
    "\n",
    "def set_params(model: torch.nn.ModuleList, params: List[np.ndarray]):\n",
    "    \"\"\"Set model weights from a list of NumPy ndarrays.\"\"\"\n",
    "    params_dict = zip(model.state_dict().keys(), params)\n",
    "    state_dict = OrderedDict({k: torch.from_numpy(np.copy(v)) for k, v in params_dict})\n",
    "    model.load_state_dict(state_dict, strict=True)\n",
    "\n"
   ]
  },
  {
   "attachments": {},
   "cell_type": "markdown",
   "metadata": {},
   "source": [
    "# Central eval"
   ]
  },
  {
   "cell_type": "code",
   "execution_count": 6,
   "metadata": {},
   "outputs": [],
   "source": [
    "def get_evaluate_fn(\n",
    "    testset: torchvision.datasets.CIFAR10,\n",
    ") -> Callable[[fl.common.NDArrays], Optional[Tuple[float, float]]]:\n",
    "    \"\"\"Return an evaluation function for centralized evaluation.\"\"\"\n",
    "\n",
    "    def evaluate(\n",
    "        server_round: int, parameters: fl.common.NDArrays, config: Dict[str, Scalar]\n",
    "    ) -> Optional[Tuple[float, float]]:\n",
    "        \"\"\"Use the entire CIFAR-10 test set for evaluation.\"\"\"\n",
    "\n",
    "        # determine device\n",
    "        device = torch.device(\"cuda:0\" if torch.cuda.is_available() else \"cpu\")\n",
    "\n",
    "        model = Net()\n",
    "        set_params(model, parameters)\n",
    "        model.to(device)\n",
    "\n",
    "        testloader = torch.utils.data.DataLoader(testset, batch_size=50)\n",
    "        loss, accuracy = test(model, testloader, device=device)\n",
    "\n",
    "        # return statistics\n",
    "        return loss, {\"accuracy\": accuracy}\n",
    "\n",
    "    return evaluate"
   ]
  },
  {
   "attachments": {},
   "cell_type": "markdown",
   "metadata": {},
   "source": [
    "# Simulation code"
   ]
  },
  {
   "cell_type": "code",
   "execution_count": 7,
   "metadata": {},
   "outputs": [],
   "source": [
    "def fit_config(server_round: int) -> Dict[str, Scalar]:\n",
    "    \"\"\"Return a configuration with static batch size and (local) epochs.\"\"\"\n",
    "    config = {\n",
    "        \"epochs\": 5,  # number of local epochs\n",
    "        \"batch_size\": 64,\n",
    "    }\n",
    "    return config\n",
    "\n",
    "def run_simulation(asynchronous, concurrency, alpha, num_rounds, K=5):\n",
    "    pool_size = 100  # number of dataset partions (= number of total clients)\n",
    "    client_resources = {\n",
    "        \"num_cpus\": 1\n",
    "    }  # each client will get allocated 1 CPUs\n",
    "\n",
    "    # Download CIFAR-10 dataset\n",
    "    train_path, testset = get_cifar_10()\n",
    "\n",
    "    # partition dataset (use a large `alpha` to make it IID;\n",
    "    # a small value (e.g. 1) will make it non-IID)\n",
    "    # This will create a new directory called \"federated\": in the directory where\n",
    "    # CIFAR-10 lives. Inside it, there will be N=pool_size sub-directories each with\n",
    "    # its own train/set split.\n",
    "    fed_dir = do_fl_partitioning(\n",
    "        train_path, pool_size=pool_size, alpha=alpha, num_classes=10, val_ratio=0.1\n",
    "    )\n",
    "\n",
    "    def client_fn(cid: str):\n",
    "        # create a single client instance\n",
    "        return FlowerClient(cid, fed_dir)\n",
    "\n",
    "    # (optional) specify Ray config\n",
    "    ray_init_args = {\"include_dashboard\": False}\n",
    "\n",
    "    if asynchronous:\n",
    "        strategy = FedBuff(\n",
    "            concurrency=concurrency,\n",
    "            buffer_size=K,\n",
    "            on_fit_config_fn=fit_config,\n",
    "            evaluate_fn=get_evaluate_fn(testset),  # centralised evaluation of global model\n",
    "        )\n",
    "    else:\n",
    "        strategy = FedAvg(\n",
    "            fraction_fit=concurrency/pool_size,\n",
    "            fraction_evaluate=0.0, # No federated eval\n",
    "            min_fit_clients=concurrency,\n",
    "            min_available_clients=pool_size,  # All clients should be available\n",
    "            on_fit_config_fn=fit_config,\n",
    "            evaluate_fn=get_evaluate_fn(testset),  # centralised evaluation of global model\n",
    "        )\n",
    "\n",
    "    # start simulation\n",
    "    hist = fl.simulation.start_simulation(\n",
    "        client_fn=client_fn,\n",
    "        num_clients=pool_size,\n",
    "        client_resources=client_resources,\n",
    "        config=fl.server.ServerConfig(num_rounds=num_rounds, asynchronous=asynchronous),\n",
    "        strategy=strategy,\n",
    "        ray_init_args=ray_init_args,\n",
    "    )\n",
    "\n",
    "    return hist"
   ]
  },
  {
   "attachments": {},
   "cell_type": "markdown",
   "metadata": {},
   "source": [
    "# Run experiments"
   ]
  },
  {
   "attachments": {},
   "cell_type": "markdown",
   "metadata": {},
   "source": [
    "NOTE: experiment objects will be labelled (a)sync_OBJ_[concurrency]_[alpha]"
   ]
  },
  {
   "attachments": {},
   "cell_type": "markdown",
   "metadata": {},
   "source": [
    "## Synchronous"
   ]
  },
  {
   "cell_type": "code",
   "execution_count": 12,
   "metadata": {},
   "outputs": [
    {
     "name": "stdout",
     "output_type": "stream",
     "text": [
      "Files already downloaded and verified\n",
      "Generating unified CIFAR dataset\n",
      "Class histogram for 0-th partition (alpha=1000, 10 classes): [53 62 47 49 53 41 55 48 35 57]\n"
     ]
    },
    {
     "name": "stderr",
     "output_type": "stream",
     "text": [
      "25063 INFO flwr 2023-03-23 09:53:00,052 | app.py:146 | Starting Flower simulation, config: ServerConfig(num_rounds=20, round_timeout=None, asynchronous=False)\n",
      "2023-03-23 09:53:04,440\tINFO worker.py:1553 -- Started a local Ray instance.\n",
      "25063 INFO flwr 2023-03-23 09:53:05,623 | app.py:180 | Flower VCE: Ray initialized with resources: {'node:10.9.7.124': 1.0, 'object_store_memory': 1246581964.0, 'memory': 2493163931.0, 'CPU': 8.0}\n",
      "25063 INFO flwr 2023-03-23 09:53:05,624 | server.py:95 | Initializing global parameters\n",
      "25063 INFO flwr 2023-03-23 09:53:05,625 | server.py:320 | Requesting initial parameters from one random client\n",
      "25063 INFO flwr 2023-03-23 09:53:07,243 | server.py:324 | Received initial parameters from one random client\n",
      "25063 INFO flwr 2023-03-23 09:53:07,244 | server.py:97 | Evaluating initial parameters\n",
      "25063 INFO flwr 2023-03-23 09:53:09,871 | server.py:100 | initial parameters (loss, other metrics): 461.18003726005554, {'accuracy': 0.0994}\n",
      "25063 INFO flwr 2023-03-23 09:53:09,872 | server.py:110 | FL starting\n",
      "25063 DEBUG flwr 2023-03-23 09:53:09,872 | server.py:255 | fit_round 1: strategy sampled 5 clients (out of 100)\n",
      "25063 DEBUG flwr 2023-03-23 09:53:14,694 | server.py:279 | fit_round 1 received 5 results and 0 failures\n",
      "25063 WARNING flwr 2023-03-23 09:53:14,706 | fedavg.py:243 | No fit_metrics_aggregation_fn provided\n",
      "25063 INFO flwr 2023-03-23 09:53:17,933 | server.py:140 | fit progress: (1, 447.82074761390686, {'accuracy': 0.1672}, 8.060565237999981)\n",
      "25063 INFO flwr 2023-03-23 09:53:17,934 | server.py:190 | evaluate_round 1: no clients selected, cancel\n",
      "25063 DEBUG flwr 2023-03-23 09:53:17,934 | server.py:255 | fit_round 2: strategy sampled 5 clients (out of 100)\n",
      "25063 DEBUG flwr 2023-03-23 09:53:23,121 | server.py:279 | fit_round 2 received 5 results and 0 failures\n",
      "25063 INFO flwr 2023-03-23 09:53:26,181 | server.py:140 | fit progress: (2, 432.7098342180252, {'accuracy': 0.2148}, 16.30822126299995)\n",
      "25063 INFO flwr 2023-03-23 09:53:26,182 | server.py:190 | evaluate_round 2: no clients selected, cancel\n",
      "25063 DEBUG flwr 2023-03-23 09:53:26,183 | server.py:255 | fit_round 3: strategy sampled 5 clients (out of 100)\n",
      "25063 DEBUG flwr 2023-03-23 09:53:32,828 | server.py:279 | fit_round 3 received 5 results and 0 failures\n",
      "25063 INFO flwr 2023-03-23 09:53:36,317 | server.py:140 | fit progress: (3, 418.05081045627594, {'accuracy': 0.2476}, 26.44429883099997)\n",
      "25063 INFO flwr 2023-03-23 09:53:36,318 | server.py:190 | evaluate_round 3: no clients selected, cancel\n",
      "25063 DEBUG flwr 2023-03-23 09:53:36,318 | server.py:255 | fit_round 4: strategy sampled 5 clients (out of 100)\n",
      "25063 DEBUG flwr 2023-03-23 09:53:43,048 | server.py:279 | fit_round 4 received 5 results and 0 failures\n",
      "25063 INFO flwr 2023-03-23 09:53:46,471 | server.py:140 | fit progress: (4, 387.23781859874725, {'accuracy': 0.3008}, 36.59889553799985)\n",
      "25063 INFO flwr 2023-03-23 09:53:46,472 | server.py:190 | evaluate_round 4: no clients selected, cancel\n",
      "25063 DEBUG flwr 2023-03-23 09:53:46,473 | server.py:255 | fit_round 5: strategy sampled 5 clients (out of 100)\n",
      "25063 DEBUG flwr 2023-03-23 09:53:53,082 | server.py:279 | fit_round 5 received 5 results and 0 failures\n",
      "25063 INFO flwr 2023-03-23 09:53:56,593 | server.py:140 | fit progress: (5, 377.01372742652893, {'accuracy': 0.3176}, 46.720938255999954)\n",
      "25063 INFO flwr 2023-03-23 09:53:56,594 | server.py:190 | evaluate_round 5: no clients selected, cancel\n",
      "25063 DEBUG flwr 2023-03-23 09:53:56,595 | server.py:255 | fit_round 6: strategy sampled 5 clients (out of 100)\n",
      "25063 DEBUG flwr 2023-03-23 09:54:03,215 | server.py:279 | fit_round 6 received 5 results and 0 failures\n",
      "25063 INFO flwr 2023-03-23 09:54:06,765 | server.py:140 | fit progress: (6, 367.9020599126816, {'accuracy': 0.3299}, 56.89285246500003)\n",
      "25063 INFO flwr 2023-03-23 09:54:06,766 | server.py:190 | evaluate_round 6: no clients selected, cancel\n",
      "25063 DEBUG flwr 2023-03-23 09:54:06,767 | server.py:255 | fit_round 7: strategy sampled 5 clients (out of 100)\n",
      "25063 DEBUG flwr 2023-03-23 09:54:13,250 | server.py:279 | fit_round 7 received 5 results and 0 failures\n",
      "25063 INFO flwr 2023-03-23 09:54:16,817 | server.py:140 | fit progress: (7, 396.6421283483505, {'accuracy': 0.2885}, 66.94460130599987)\n",
      "25063 INFO flwr 2023-03-23 09:54:16,818 | server.py:190 | evaluate_round 7: no clients selected, cancel\n",
      "25063 DEBUG flwr 2023-03-23 09:54:16,818 | server.py:255 | fit_round 8: strategy sampled 5 clients (out of 100)\n",
      "25063 DEBUG flwr 2023-03-23 09:54:23,682 | server.py:279 | fit_round 8 received 5 results and 0 failures\n",
      "25063 INFO flwr 2023-03-23 09:54:27,103 | server.py:140 | fit progress: (8, 346.17541217803955, {'accuracy': 0.3772}, 77.23040176899985)\n",
      "25063 INFO flwr 2023-03-23 09:54:27,103 | server.py:190 | evaluate_round 8: no clients selected, cancel\n",
      "25063 DEBUG flwr 2023-03-23 09:54:27,104 | server.py:255 | fit_round 9: strategy sampled 5 clients (out of 100)\n",
      "25063 DEBUG flwr 2023-03-23 09:54:34,896 | server.py:279 | fit_round 9 received 5 results and 0 failures\n",
      "25063 INFO flwr 2023-03-23 09:54:38,861 | server.py:140 | fit progress: (9, 346.3103438615799, {'accuracy': 0.3936}, 88.988646517)\n",
      "25063 INFO flwr 2023-03-23 09:54:38,862 | server.py:190 | evaluate_round 9: no clients selected, cancel\n",
      "25063 DEBUG flwr 2023-03-23 09:54:38,862 | server.py:255 | fit_round 10: strategy sampled 5 clients (out of 100)\n",
      "25063 DEBUG flwr 2023-03-23 09:54:46,693 | server.py:279 | fit_round 10 received 5 results and 0 failures\n",
      "25063 INFO flwr 2023-03-23 09:54:50,506 | server.py:140 | fit progress: (10, 329.0967016220093, {'accuracy': 0.412}, 100.63347703699992)\n",
      "25063 INFO flwr 2023-03-23 09:54:50,507 | server.py:190 | evaluate_round 10: no clients selected, cancel\n",
      "25063 DEBUG flwr 2023-03-23 09:54:50,508 | server.py:255 | fit_round 11: strategy sampled 5 clients (out of 100)\n",
      "25063 DEBUG flwr 2023-03-23 09:54:57,241 | server.py:279 | fit_round 11 received 5 results and 0 failures\n",
      "25063 INFO flwr 2023-03-23 09:55:00,956 | server.py:140 | fit progress: (11, 351.55564546585083, {'accuracy': 0.3596}, 111.08382368699995)\n",
      "25063 INFO flwr 2023-03-23 09:55:00,958 | server.py:190 | evaluate_round 11: no clients selected, cancel\n",
      "25063 DEBUG flwr 2023-03-23 09:55:00,961 | server.py:255 | fit_round 12: strategy sampled 5 clients (out of 100)\n",
      "25063 DEBUG flwr 2023-03-23 09:55:08,508 | server.py:279 | fit_round 12 received 5 results and 0 failures\n",
      "25063 INFO flwr 2023-03-23 09:55:12,704 | server.py:140 | fit progress: (12, 330.1928485631943, {'accuracy': 0.4302}, 122.83156204099987)\n",
      "25063 INFO flwr 2023-03-23 09:55:12,705 | server.py:190 | evaluate_round 12: no clients selected, cancel\n",
      "25063 DEBUG flwr 2023-03-23 09:55:12,706 | server.py:255 | fit_round 13: strategy sampled 5 clients (out of 100)\n",
      "25063 DEBUG flwr 2023-03-23 09:55:20,025 | server.py:279 | fit_round 13 received 5 results and 0 failures\n",
      "25063 INFO flwr 2023-03-23 09:55:23,908 | server.py:140 | fit progress: (13, 320.86948597431183, {'accuracy': 0.4357}, 134.03609499200002)\n",
      "25063 INFO flwr 2023-03-23 09:55:23,909 | server.py:190 | evaluate_round 13: no clients selected, cancel\n",
      "25063 DEBUG flwr 2023-03-23 09:55:23,910 | server.py:255 | fit_round 14: strategy sampled 5 clients (out of 100)\n",
      "25063 DEBUG flwr 2023-03-23 09:55:31,174 | server.py:279 | fit_round 14 received 5 results and 0 failures\n",
      "25063 INFO flwr 2023-03-23 09:55:34,720 | server.py:140 | fit progress: (14, 319.31151473522186, {'accuracy': 0.4393}, 144.84796640800005)\n",
      "25063 INFO flwr 2023-03-23 09:55:34,722 | server.py:190 | evaluate_round 14: no clients selected, cancel\n",
      "25063 DEBUG flwr 2023-03-23 09:55:34,722 | server.py:255 | fit_round 15: strategy sampled 5 clients (out of 100)\n",
      "25063 DEBUG flwr 2023-03-23 09:55:41,844 | server.py:279 | fit_round 15 received 5 results and 0 failures\n",
      "25063 INFO flwr 2023-03-23 09:55:45,919 | server.py:140 | fit progress: (15, 323.0311543941498, {'accuracy': 0.4521}, 156.04697311699988)\n",
      "25063 INFO flwr 2023-03-23 09:55:45,920 | server.py:190 | evaluate_round 15: no clients selected, cancel\n",
      "25063 DEBUG flwr 2023-03-23 09:55:45,921 | server.py:255 | fit_round 16: strategy sampled 5 clients (out of 100)\n",
      "25063 DEBUG flwr 2023-03-23 09:55:53,639 | server.py:279 | fit_round 16 received 5 results and 0 failures\n",
      "25063 INFO flwr 2023-03-23 09:55:57,237 | server.py:140 | fit progress: (16, 321.83765494823456, {'accuracy': 0.4462}, 167.36513945000002)\n",
      "25063 INFO flwr 2023-03-23 09:55:57,238 | server.py:190 | evaluate_round 16: no clients selected, cancel\n",
      "25063 DEBUG flwr 2023-03-23 09:55:57,239 | server.py:255 | fit_round 17: strategy sampled 5 clients (out of 100)\n",
      "25063 DEBUG flwr 2023-03-23 09:56:05,022 | server.py:279 | fit_round 17 received 5 results and 0 failures\n",
      "25063 INFO flwr 2023-03-23 09:56:08,596 | server.py:140 | fit progress: (17, 319.4115928411484, {'accuracy': 0.4516}, 178.72367760700013)\n",
      "25063 INFO flwr 2023-03-23 09:56:08,597 | server.py:190 | evaluate_round 17: no clients selected, cancel\n",
      "25063 DEBUG flwr 2023-03-23 09:56:08,598 | server.py:255 | fit_round 18: strategy sampled 5 clients (out of 100)\n",
      "25063 DEBUG flwr 2023-03-23 09:56:15,139 | server.py:279 | fit_round 18 received 5 results and 0 failures\n",
      "25063 INFO flwr 2023-03-23 09:56:18,664 | server.py:140 | fit progress: (18, 322.63150453567505, {'accuracy': 0.4513}, 188.79210715399972)\n",
      "25063 INFO flwr 2023-03-23 09:56:18,665 | server.py:190 | evaluate_round 18: no clients selected, cancel\n",
      "25063 DEBUG flwr 2023-03-23 09:56:18,666 | server.py:255 | fit_round 19: strategy sampled 5 clients (out of 100)\n",
      "25063 DEBUG flwr 2023-03-23 09:56:25,386 | server.py:279 | fit_round 19 received 5 results and 0 failures\n",
      "25063 INFO flwr 2023-03-23 09:56:29,684 | server.py:140 | fit progress: (19, 324.80711686611176, {'accuracy': 0.4683}, 199.81209842299972)\n",
      "25063 INFO flwr 2023-03-23 09:56:29,686 | server.py:190 | evaluate_round 19: no clients selected, cancel\n",
      "25063 DEBUG flwr 2023-03-23 09:56:29,688 | server.py:255 | fit_round 20: strategy sampled 5 clients (out of 100)\n",
      "25063 DEBUG flwr 2023-03-23 09:56:37,687 | server.py:279 | fit_round 20 received 5 results and 0 failures\n",
      "25063 INFO flwr 2023-03-23 09:56:41,229 | server.py:140 | fit progress: (20, 335.5853307247162, {'accuracy': 0.4315}, 211.35685040700014)\n",
      "25063 INFO flwr 2023-03-23 09:56:41,230 | server.py:190 | evaluate_round 20: no clients selected, cancel\n",
      "25063 INFO flwr 2023-03-23 09:56:41,230 | server.py:171 | FL finished in 211.35815093999986\n",
      "25063 INFO flwr 2023-03-23 09:56:41,231 | app.py:225 | app_fit: losses_distributed []\n",
      "25063 INFO flwr 2023-03-23 09:56:41,232 | app.py:226 | app_fit: metrics_distributed_fit {}\n",
      "25063 INFO flwr 2023-03-23 09:56:41,232 | app.py:227 | app_fit: metrics_distributed {}\n",
      "25063 INFO flwr 2023-03-23 09:56:41,233 | app.py:228 | app_fit: losses_centralized [(0, 461.18003726005554), (1, 447.82074761390686), (2, 432.7098342180252), (3, 418.05081045627594), (4, 387.23781859874725), (5, 377.01372742652893), (6, 367.9020599126816), (7, 396.6421283483505), (8, 346.17541217803955), (9, 346.3103438615799), (10, 329.0967016220093), (11, 351.55564546585083), (12, 330.1928485631943), (13, 320.86948597431183), (14, 319.31151473522186), (15, 323.0311543941498), (16, 321.83765494823456), (17, 319.4115928411484), (18, 322.63150453567505), (19, 324.80711686611176), (20, 335.5853307247162)]\n",
      "25063 INFO flwr 2023-03-23 09:56:41,233 | app.py:229 | app_fit: metrics_centralized {'accuracy': [(0, 0.0994), (1, 0.1672), (2, 0.2148), (3, 0.2476), (4, 0.3008), (5, 0.3176), (6, 0.3299), (7, 0.2885), (8, 0.3772), (9, 0.3936), (10, 0.412), (11, 0.3596), (12, 0.4302), (13, 0.4357), (14, 0.4393), (15, 0.4521), (16, 0.4462), (17, 0.4516), (18, 0.4513), (19, 0.4683), (20, 0.4315)]}\n"
     ]
    },
    {
     "name": "stdout",
     "output_type": "stream",
     "text": [
      "Files already downloaded and verified\n",
      "Generating unified CIFAR dataset\n",
      "Class histogram for 0-th partition (alpha=1000, 10 classes): [57 48 42 41 51 48 50 56 57 50]\n"
     ]
    },
    {
     "name": "stderr",
     "output_type": "stream",
     "text": [
      "25063 INFO flwr 2023-03-23 09:56:47,597 | app.py:146 | Starting Flower simulation, config: ServerConfig(num_rounds=20, round_timeout=None, asynchronous=False)\n",
      "2023-03-23 09:56:51,315\tINFO worker.py:1553 -- Started a local Ray instance.\n",
      "25063 INFO flwr 2023-03-23 09:56:52,515 | app.py:180 | Flower VCE: Ray initialized with resources: {'node:10.9.7.124': 1.0, 'CPU': 8.0, 'object_store_memory': 1157473075.0, 'memory': 2314946151.0}\n",
      "25063 INFO flwr 2023-03-23 09:56:52,516 | server.py:95 | Initializing global parameters\n",
      "25063 INFO flwr 2023-03-23 09:56:52,516 | server.py:320 | Requesting initial parameters from one random client\n",
      "25063 INFO flwr 2023-03-23 09:56:53,997 | server.py:324 | Received initial parameters from one random client\n",
      "25063 INFO flwr 2023-03-23 09:56:53,998 | server.py:97 | Evaluating initial parameters\n",
      "25063 INFO flwr 2023-03-23 09:56:57,182 | server.py:100 | initial parameters (loss, other metrics): 461.0798227787018, {'accuracy': 0.1091}\n",
      "25063 INFO flwr 2023-03-23 09:56:57,183 | server.py:110 | FL starting\n",
      "25063 DEBUG flwr 2023-03-23 09:56:57,184 | server.py:255 | fit_round 1: strategy sampled 10 clients (out of 100)\n",
      "25063 DEBUG flwr 2023-03-23 09:57:13,281 | server.py:279 | fit_round 1 received 10 results and 0 failures\n",
      "25063 WARNING flwr 2023-03-23 09:57:13,313 | fedavg.py:243 | No fit_metrics_aggregation_fn provided\n",
      "25063 INFO flwr 2023-03-23 09:57:17,040 | server.py:140 | fit progress: (1, 459.4333612918854, {'accuracy': 0.1224}, 19.856539647999853)\n",
      "25063 INFO flwr 2023-03-23 09:57:17,041 | server.py:190 | evaluate_round 1: no clients selected, cancel\n",
      "25063 DEBUG flwr 2023-03-23 09:57:17,042 | server.py:255 | fit_round 2: strategy sampled 10 clients (out of 100)\n",
      "25063 DEBUG flwr 2023-03-23 09:57:32,049 | server.py:279 | fit_round 2 received 10 results and 0 failures\n",
      "25063 INFO flwr 2023-03-23 09:57:35,463 | server.py:140 | fit progress: (2, 449.90169882774353, {'accuracy': 0.149}, 38.27942618099996)\n",
      "25063 INFO flwr 2023-03-23 09:57:35,464 | server.py:190 | evaluate_round 2: no clients selected, cancel\n",
      "25063 DEBUG flwr 2023-03-23 09:57:35,465 | server.py:255 | fit_round 3: strategy sampled 10 clients (out of 100)\n",
      "25063 DEBUG flwr 2023-03-23 09:57:51,868 | server.py:279 | fit_round 3 received 10 results and 0 failures\n",
      "25063 INFO flwr 2023-03-23 09:57:55,323 | server.py:140 | fit progress: (3, 399.2152718305588, {'accuracy': 0.2894}, 58.13959600399994)\n",
      "25063 INFO flwr 2023-03-23 09:57:55,324 | server.py:190 | evaluate_round 3: no clients selected, cancel\n",
      "25063 DEBUG flwr 2023-03-23 09:57:55,325 | server.py:255 | fit_round 4: strategy sampled 10 clients (out of 100)\n",
      "25063 DEBUG flwr 2023-03-23 09:58:11,328 | server.py:279 | fit_round 4 received 10 results and 0 failures\n",
      "25063 INFO flwr 2023-03-23 09:58:15,039 | server.py:140 | fit progress: (4, 395.87120282649994, {'accuracy': 0.2623}, 77.8546735699997)\n",
      "25063 INFO flwr 2023-03-23 09:58:15,039 | server.py:190 | evaluate_round 4: no clients selected, cancel\n",
      "25063 DEBUG flwr 2023-03-23 09:58:15,040 | server.py:255 | fit_round 5: strategy sampled 10 clients (out of 100)\n",
      "25063 DEBUG flwr 2023-03-23 09:58:30,992 | server.py:279 | fit_round 5 received 10 results and 0 failures\n",
      "25063 INFO flwr 2023-03-23 09:58:34,266 | server.py:140 | fit progress: (5, 362.1219104528427, {'accuracy': 0.3343}, 97.08267321299991)\n",
      "25063 INFO flwr 2023-03-23 09:58:34,267 | server.py:190 | evaluate_round 5: no clients selected, cancel\n",
      "25063 DEBUG flwr 2023-03-23 09:58:34,268 | server.py:255 | fit_round 6: strategy sampled 10 clients (out of 100)\n",
      "25063 DEBUG flwr 2023-03-23 09:58:49,302 | server.py:279 | fit_round 6 received 10 results and 0 failures\n",
      "25063 INFO flwr 2023-03-23 09:58:52,599 | server.py:140 | fit progress: (6, 347.29761803150177, {'accuracy': 0.3665}, 115.41496157999973)\n",
      "25063 INFO flwr 2023-03-23 09:58:52,600 | server.py:190 | evaluate_round 6: no clients selected, cancel\n",
      "25063 DEBUG flwr 2023-03-23 09:58:52,600 | server.py:255 | fit_round 7: strategy sampled 10 clients (out of 100)\n",
      "25063 DEBUG flwr 2023-03-23 09:59:07,262 | server.py:279 | fit_round 7 received 10 results and 0 failures\n",
      "25063 INFO flwr 2023-03-23 09:59:10,866 | server.py:140 | fit progress: (7, 333.54501700401306, {'accuracy': 0.3933}, 133.68242320699983)\n",
      "25063 INFO flwr 2023-03-23 09:59:10,867 | server.py:190 | evaluate_round 7: no clients selected, cancel\n",
      "25063 DEBUG flwr 2023-03-23 09:59:10,868 | server.py:255 | fit_round 8: strategy sampled 10 clients (out of 100)\n"
     ]
    },
    {
     "name": "stdout",
     "output_type": "stream",
     "text": [
      "\u001b[2m\u001b[1m\u001b[36m(autoscaler +9m5s)\u001b[0m Tip: use `ray status` to view detailed cluster status. To disable these messages, set RAY_SCHEDULER_EVENTS=0.\n",
      "\u001b[2m\u001b[1m\u001b[33m(autoscaler +9m5s)\u001b[0m Warning: The following resource request cannot be scheduled right now: {'CPU': 1.0}. This is likely due to all cluster resources being claimed by actors. Consider creating fewer actors or adding more nodes to this Ray cluster.\n"
     ]
    },
    {
     "name": "stderr",
     "output_type": "stream",
     "text": [
      "25063 DEBUG flwr 2023-03-23 09:59:25,403 | server.py:279 | fit_round 8 received 10 results and 0 failures\n",
      "25063 INFO flwr 2023-03-23 09:59:28,377 | server.py:140 | fit progress: (8, 330.96216881275177, {'accuracy': 0.3939}, 151.19291497699987)\n",
      "25063 INFO flwr 2023-03-23 09:59:28,377 | server.py:190 | evaluate_round 8: no clients selected, cancel\n",
      "25063 DEBUG flwr 2023-03-23 09:59:28,378 | server.py:255 | fit_round 9: strategy sampled 10 clients (out of 100)\n",
      "25063 DEBUG flwr 2023-03-23 09:59:40,561 | server.py:279 | fit_round 9 received 10 results and 0 failures\n",
      "25063 INFO flwr 2023-03-23 09:59:43,424 | server.py:140 | fit progress: (9, 325.7182095050812, {'accuracy': 0.4118}, 166.24003156399976)\n",
      "25063 INFO flwr 2023-03-23 09:59:43,425 | server.py:190 | evaluate_round 9: no clients selected, cancel\n",
      "25063 DEBUG flwr 2023-03-23 09:59:43,425 | server.py:255 | fit_round 10: strategy sampled 10 clients (out of 100)\n",
      "25063 DEBUG flwr 2023-03-23 09:59:55,544 | server.py:279 | fit_round 10 received 10 results and 0 failures\n",
      "25063 INFO flwr 2023-03-23 09:59:58,381 | server.py:140 | fit progress: (10, 313.35471308231354, {'accuracy': 0.428}, 181.1974474079998)\n",
      "25063 INFO flwr 2023-03-23 09:59:58,382 | server.py:190 | evaluate_round 10: no clients selected, cancel\n",
      "25063 DEBUG flwr 2023-03-23 09:59:58,383 | server.py:255 | fit_round 11: strategy sampled 10 clients (out of 100)\n",
      "25063 DEBUG flwr 2023-03-23 10:00:10,452 | server.py:279 | fit_round 11 received 10 results and 0 failures\n",
      "25063 INFO flwr 2023-03-23 10:00:13,190 | server.py:140 | fit progress: (11, 312.5859647989273, {'accuracy': 0.4401}, 196.00660430200014)\n",
      "25063 INFO flwr 2023-03-23 10:00:13,191 | server.py:190 | evaluate_round 11: no clients selected, cancel\n",
      "25063 DEBUG flwr 2023-03-23 10:00:13,192 | server.py:255 | fit_round 12: strategy sampled 10 clients (out of 100)\n",
      "25063 DEBUG flwr 2023-03-23 10:00:25,259 | server.py:279 | fit_round 12 received 10 results and 0 failures\n",
      "25063 INFO flwr 2023-03-23 10:00:28,151 | server.py:140 | fit progress: (12, 322.2495392560959, {'accuracy': 0.4012}, 210.967608338)\n",
      "25063 INFO flwr 2023-03-23 10:00:28,152 | server.py:190 | evaluate_round 12: no clients selected, cancel\n",
      "25063 DEBUG flwr 2023-03-23 10:00:28,153 | server.py:255 | fit_round 13: strategy sampled 10 clients (out of 100)\n",
      "25063 DEBUG flwr 2023-03-23 10:00:40,235 | server.py:279 | fit_round 13 received 10 results and 0 failures\n",
      "25063 INFO flwr 2023-03-23 10:00:42,971 | server.py:140 | fit progress: (13, 304.89995765686035, {'accuracy': 0.4506}, 225.78732291999995)\n",
      "25063 INFO flwr 2023-03-23 10:00:42,972 | server.py:190 | evaluate_round 13: no clients selected, cancel\n",
      "25063 DEBUG flwr 2023-03-23 10:00:42,972 | server.py:255 | fit_round 14: strategy sampled 10 clients (out of 100)\n",
      "25063 DEBUG flwr 2023-03-23 10:00:55,084 | server.py:279 | fit_round 14 received 10 results and 0 failures\n",
      "25063 INFO flwr 2023-03-23 10:00:57,819 | server.py:140 | fit progress: (14, 304.3414490222931, {'accuracy': 0.4579}, 240.635471564)\n",
      "25063 INFO flwr 2023-03-23 10:00:57,820 | server.py:190 | evaluate_round 14: no clients selected, cancel\n",
      "25063 DEBUG flwr 2023-03-23 10:00:57,821 | server.py:255 | fit_round 15: strategy sampled 10 clients (out of 100)\n",
      "25063 DEBUG flwr 2023-03-23 10:01:09,967 | server.py:279 | fit_round 15 received 10 results and 0 failures\n",
      "25063 INFO flwr 2023-03-23 10:01:12,701 | server.py:140 | fit progress: (15, 307.7966854572296, {'accuracy': 0.452}, 255.51695031600002)\n",
      "25063 INFO flwr 2023-03-23 10:01:12,701 | server.py:190 | evaluate_round 15: no clients selected, cancel\n",
      "25063 DEBUG flwr 2023-03-23 10:01:12,702 | server.py:255 | fit_round 16: strategy sampled 10 clients (out of 100)\n",
      "25063 DEBUG flwr 2023-03-23 10:01:24,795 | server.py:279 | fit_round 16 received 10 results and 0 failures\n",
      "25063 INFO flwr 2023-03-23 10:01:27,522 | server.py:140 | fit progress: (16, 297.16742289066315, {'accuracy': 0.4666}, 270.3384675819998)\n",
      "25063 INFO flwr 2023-03-23 10:01:27,523 | server.py:190 | evaluate_round 16: no clients selected, cancel\n",
      "25063 DEBUG flwr 2023-03-23 10:01:27,524 | server.py:255 | fit_round 17: strategy sampled 10 clients (out of 100)\n",
      "25063 DEBUG flwr 2023-03-23 10:01:39,777 | server.py:279 | fit_round 17 received 10 results and 0 failures\n",
      "25063 INFO flwr 2023-03-23 10:01:42,707 | server.py:140 | fit progress: (17, 303.9071006178856, {'accuracy': 0.4806}, 285.52365759199984)\n",
      "25063 INFO flwr 2023-03-23 10:01:42,708 | server.py:190 | evaluate_round 17: no clients selected, cancel\n",
      "25063 DEBUG flwr 2023-03-23 10:01:42,709 | server.py:255 | fit_round 18: strategy sampled 10 clients (out of 100)\n",
      "25063 DEBUG flwr 2023-03-23 10:01:55,037 | server.py:279 | fit_round 18 received 10 results and 0 failures\n",
      "25063 INFO flwr 2023-03-23 10:01:57,868 | server.py:140 | fit progress: (18, 295.00451159477234, {'accuracy': 0.4789}, 300.68405141799985)\n",
      "25063 INFO flwr 2023-03-23 10:01:57,869 | server.py:190 | evaluate_round 18: no clients selected, cancel\n",
      "25063 DEBUG flwr 2023-03-23 10:01:57,869 | server.py:255 | fit_round 19: strategy sampled 10 clients (out of 100)\n",
      "25063 DEBUG flwr 2023-03-23 10:02:10,280 | server.py:279 | fit_round 19 received 10 results and 0 failures\n",
      "25063 INFO flwr 2023-03-23 10:02:13,039 | server.py:140 | fit progress: (19, 295.8563421368599, {'accuracy': 0.497}, 315.85530757000015)\n",
      "25063 INFO flwr 2023-03-23 10:02:13,040 | server.py:190 | evaluate_round 19: no clients selected, cancel\n",
      "25063 DEBUG flwr 2023-03-23 10:02:13,041 | server.py:255 | fit_round 20: strategy sampled 10 clients (out of 100)\n",
      "25063 DEBUG flwr 2023-03-23 10:02:25,153 | server.py:279 | fit_round 20 received 10 results and 0 failures\n",
      "25063 INFO flwr 2023-03-23 10:02:27,917 | server.py:140 | fit progress: (20, 294.08780241012573, {'accuracy': 0.4894}, 330.73309986999993)\n",
      "25063 INFO flwr 2023-03-23 10:02:27,918 | server.py:190 | evaluate_round 20: no clients selected, cancel\n",
      "25063 INFO flwr 2023-03-23 10:02:27,918 | server.py:171 | FL finished in 330.7346443379997\n",
      "25063 INFO flwr 2023-03-23 10:02:27,919 | app.py:225 | app_fit: losses_distributed []\n",
      "25063 INFO flwr 2023-03-23 10:02:27,919 | app.py:226 | app_fit: metrics_distributed_fit {}\n",
      "25063 INFO flwr 2023-03-23 10:02:27,920 | app.py:227 | app_fit: metrics_distributed {}\n",
      "25063 INFO flwr 2023-03-23 10:02:27,920 | app.py:228 | app_fit: losses_centralized [(0, 461.0798227787018), (1, 459.4333612918854), (2, 449.90169882774353), (3, 399.2152718305588), (4, 395.87120282649994), (5, 362.1219104528427), (6, 347.29761803150177), (7, 333.54501700401306), (8, 330.96216881275177), (9, 325.7182095050812), (10, 313.35471308231354), (11, 312.5859647989273), (12, 322.2495392560959), (13, 304.89995765686035), (14, 304.3414490222931), (15, 307.7966854572296), (16, 297.16742289066315), (17, 303.9071006178856), (18, 295.00451159477234), (19, 295.8563421368599), (20, 294.08780241012573)]\n",
      "25063 INFO flwr 2023-03-23 10:02:27,921 | app.py:229 | app_fit: metrics_centralized {'accuracy': [(0, 0.1091), (1, 0.1224), (2, 0.149), (3, 0.2894), (4, 0.2623), (5, 0.3343), (6, 0.3665), (7, 0.3933), (8, 0.3939), (9, 0.4118), (10, 0.428), (11, 0.4401), (12, 0.4012), (13, 0.4506), (14, 0.4579), (15, 0.452), (16, 0.4666), (17, 0.4806), (18, 0.4789), (19, 0.497), (20, 0.4894)]}\n"
     ]
    },
    {
     "name": "stdout",
     "output_type": "stream",
     "text": [
      "Files already downloaded and verified\n",
      "Generating unified CIFAR dataset\n",
      "Class histogram for 0-th partition (alpha=1000, 10 classes): [59 43 51 52 37 45 60 48 51 54]\n"
     ]
    },
    {
     "name": "stderr",
     "output_type": "stream",
     "text": [
      "25063 INFO flwr 2023-03-23 10:02:33,076 | app.py:146 | Starting Flower simulation, config: ServerConfig(num_rounds=20, round_timeout=None, asynchronous=False)\n",
      "2023-03-23 10:02:37,612\tINFO worker.py:1553 -- Started a local Ray instance.\n",
      "25063 INFO flwr 2023-03-23 10:02:38,564 | app.py:180 | Flower VCE: Ray initialized with resources: {'node:10.9.7.124': 1.0, 'object_store_memory': 1343512166.0, 'memory': 2687024334.0, 'CPU': 8.0}\n",
      "25063 INFO flwr 2023-03-23 10:02:38,565 | server.py:95 | Initializing global parameters\n",
      "25063 INFO flwr 2023-03-23 10:02:38,566 | server.py:320 | Requesting initial parameters from one random client\n",
      "25063 INFO flwr 2023-03-23 10:02:39,777 | server.py:324 | Received initial parameters from one random client\n",
      "25063 INFO flwr 2023-03-23 10:02:39,778 | server.py:97 | Evaluating initial parameters\n",
      "25063 INFO flwr 2023-03-23 10:02:42,020 | server.py:100 | initial parameters (loss, other metrics): 461.12875056266785, {'accuracy': 0.0995}\n",
      "25063 INFO flwr 2023-03-23 10:02:42,021 | server.py:110 | FL starting\n",
      "25063 DEBUG flwr 2023-03-23 10:02:42,021 | server.py:255 | fit_round 1: strategy sampled 20 clients (out of 100)\n",
      "25063 DEBUG flwr 2023-03-23 10:03:03,920 | server.py:279 | fit_round 1 received 20 results and 0 failures\n",
      "25063 WARNING flwr 2023-03-23 10:03:03,965 | fedavg.py:243 | No fit_metrics_aggregation_fn provided\n",
      "25063 INFO flwr 2023-03-23 10:03:07,050 | server.py:140 | fit progress: (1, 451.1964154243469, {'accuracy': 0.1828}, 25.029314805000013)\n",
      "25063 INFO flwr 2023-03-23 10:03:07,051 | server.py:190 | evaluate_round 1: no clients selected, cancel\n",
      "25063 DEBUG flwr 2023-03-23 10:03:07,052 | server.py:255 | fit_round 2: strategy sampled 20 clients (out of 100)\n"
     ]
    },
    {
     "name": "stdout",
     "output_type": "stream",
     "text": [
      "\u001b[2m\u001b[1m\u001b[33m(autoscaler +13m1s)\u001b[0m Warning: The following resource request cannot be scheduled right now: {'CPU': 1.0}. This is likely due to all cluster resources being claimed by actors. Consider creating fewer actors or adding more nodes to this Ray cluster.\n"
     ]
    },
    {
     "name": "stderr",
     "output_type": "stream",
     "text": [
      "25063 DEBUG flwr 2023-03-23 10:03:29,654 | server.py:279 | fit_round 2 received 20 results and 0 failures\n",
      "25063 INFO flwr 2023-03-23 10:03:32,785 | server.py:140 | fit progress: (2, 411.0468044281006, {'accuracy': 0.2652}, 50.764193127)\n",
      "25063 INFO flwr 2023-03-23 10:03:32,786 | server.py:190 | evaluate_round 2: no clients selected, cancel\n",
      "25063 DEBUG flwr 2023-03-23 10:03:32,786 | server.py:255 | fit_round 3: strategy sampled 20 clients (out of 100)\n",
      "25063 DEBUG flwr 2023-03-23 10:03:55,495 | server.py:279 | fit_round 3 received 20 results and 0 failures\n",
      "25063 INFO flwr 2023-03-23 10:03:58,490 | server.py:140 | fit progress: (3, 386.12114584445953, {'accuracy': 0.316}, 76.46939526400001)\n",
      "25063 INFO flwr 2023-03-23 10:03:58,491 | server.py:190 | evaluate_round 3: no clients selected, cancel\n",
      "25063 DEBUG flwr 2023-03-23 10:03:58,492 | server.py:255 | fit_round 4: strategy sampled 20 clients (out of 100)\n",
      "25063 DEBUG flwr 2023-03-23 10:04:21,207 | server.py:279 | fit_round 4 received 20 results and 0 failures\n",
      "25063 INFO flwr 2023-03-23 10:04:24,286 | server.py:140 | fit progress: (4, 373.95739924907684, {'accuracy': 0.3179}, 102.26484047099984)\n",
      "25063 INFO flwr 2023-03-23 10:04:24,287 | server.py:190 | evaluate_round 4: no clients selected, cancel\n",
      "25063 DEBUG flwr 2023-03-23 10:04:24,287 | server.py:255 | fit_round 5: strategy sampled 20 clients (out of 100)\n",
      "25063 DEBUG flwr 2023-03-23 10:04:46,910 | server.py:279 | fit_round 5 received 20 results and 0 failures\n",
      "25063 INFO flwr 2023-03-23 10:04:49,996 | server.py:140 | fit progress: (5, 360.9268071651459, {'accuracy': 0.3468}, 127.97529223699985)\n",
      "25063 INFO flwr 2023-03-23 10:04:49,997 | server.py:190 | evaluate_round 5: no clients selected, cancel\n",
      "25063 DEBUG flwr 2023-03-23 10:04:49,998 | server.py:255 | fit_round 6: strategy sampled 20 clients (out of 100)\n",
      "25063 DEBUG flwr 2023-03-23 10:05:13,082 | server.py:279 | fit_round 6 received 20 results and 0 failures\n",
      "25063 INFO flwr 2023-03-23 10:05:16,168 | server.py:140 | fit progress: (6, 346.20675098896027, {'accuracy': 0.3747}, 154.14717143400003)\n",
      "25063 INFO flwr 2023-03-23 10:05:16,169 | server.py:190 | evaluate_round 6: no clients selected, cancel\n",
      "25063 DEBUG flwr 2023-03-23 10:05:16,170 | server.py:255 | fit_round 7: strategy sampled 20 clients (out of 100)\n",
      "25063 DEBUG flwr 2023-03-23 10:05:38,902 | server.py:279 | fit_round 7 received 20 results and 0 failures\n",
      "25063 INFO flwr 2023-03-23 10:05:41,849 | server.py:140 | fit progress: (7, 334.3075736761093, {'accuracy': 0.3951}, 179.82778703299982)\n",
      "25063 INFO flwr 2023-03-23 10:05:41,849 | server.py:190 | evaluate_round 7: no clients selected, cancel\n",
      "25063 DEBUG flwr 2023-03-23 10:05:41,850 | server.py:255 | fit_round 8: strategy sampled 20 clients (out of 100)\n",
      "25063 DEBUG flwr 2023-03-23 10:06:04,930 | server.py:279 | fit_round 8 received 20 results and 0 failures\n",
      "25063 INFO flwr 2023-03-23 10:06:07,918 | server.py:140 | fit progress: (8, 324.2807641029358, {'accuracy': 0.4182}, 205.89672818600002)\n",
      "25063 INFO flwr 2023-03-23 10:06:07,918 | server.py:190 | evaluate_round 8: no clients selected, cancel\n",
      "25063 DEBUG flwr 2023-03-23 10:06:07,919 | server.py:255 | fit_round 9: strategy sampled 20 clients (out of 100)\n",
      "25063 DEBUG flwr 2023-03-23 10:06:30,738 | server.py:279 | fit_round 9 received 20 results and 0 failures\n",
      "25063 INFO flwr 2023-03-23 10:06:33,834 | server.py:140 | fit progress: (9, 318.9378011226654, {'accuracy': 0.4313}, 231.81295475499974)\n",
      "25063 INFO flwr 2023-03-23 10:06:33,835 | server.py:190 | evaluate_round 9: no clients selected, cancel\n",
      "25063 DEBUG flwr 2023-03-23 10:06:33,835 | server.py:255 | fit_round 10: strategy sampled 20 clients (out of 100)\n",
      "25063 DEBUG flwr 2023-03-23 10:06:56,849 | server.py:279 | fit_round 10 received 20 results and 0 failures\n",
      "25063 INFO flwr 2023-03-23 10:06:59,796 | server.py:140 | fit progress: (10, 317.2520033121109, {'accuracy': 0.4407}, 257.77480518899984)\n",
      "25063 INFO flwr 2023-03-23 10:06:59,797 | server.py:190 | evaluate_round 10: no clients selected, cancel\n",
      "25063 DEBUG flwr 2023-03-23 10:06:59,797 | server.py:255 | fit_round 11: strategy sampled 20 clients (out of 100)\n",
      "25063 DEBUG flwr 2023-03-23 10:07:22,703 | server.py:279 | fit_round 11 received 20 results and 0 failures\n",
      "25063 INFO flwr 2023-03-23 10:07:25,842 | server.py:140 | fit progress: (11, 312.3191841840744, {'accuracy': 0.4506}, 283.82050630699996)\n",
      "25063 INFO flwr 2023-03-23 10:07:25,842 | server.py:190 | evaluate_round 11: no clients selected, cancel\n",
      "25063 DEBUG flwr 2023-03-23 10:07:25,843 | server.py:255 | fit_round 12: strategy sampled 20 clients (out of 100)\n",
      "25063 DEBUG flwr 2023-03-23 10:07:48,902 | server.py:279 | fit_round 12 received 20 results and 0 failures\n",
      "25063 INFO flwr 2023-03-23 10:07:51,892 | server.py:140 | fit progress: (12, 313.4831694364548, {'accuracy': 0.4435}, 309.87092859899985)\n",
      "25063 INFO flwr 2023-03-23 10:07:51,893 | server.py:190 | evaluate_round 12: no clients selected, cancel\n",
      "25063 DEBUG flwr 2023-03-23 10:07:51,893 | server.py:255 | fit_round 13: strategy sampled 20 clients (out of 100)\n",
      "25063 DEBUG flwr 2023-03-23 10:08:14,812 | server.py:279 | fit_round 13 received 20 results and 0 failures\n",
      "25063 INFO flwr 2023-03-23 10:08:17,857 | server.py:140 | fit progress: (13, 303.93048536777496, {'accuracy': 0.4676}, 335.835995209)\n",
      "25063 INFO flwr 2023-03-23 10:08:17,858 | server.py:190 | evaluate_round 13: no clients selected, cancel\n",
      "25063 DEBUG flwr 2023-03-23 10:08:17,859 | server.py:255 | fit_round 14: strategy sampled 20 clients (out of 100)\n",
      "25063 DEBUG flwr 2023-03-23 10:08:40,747 | server.py:279 | fit_round 14 received 20 results and 0 failures\n",
      "25063 INFO flwr 2023-03-23 10:08:43,835 | server.py:140 | fit progress: (14, 308.65116131305695, {'accuracy': 0.4774}, 361.8135224519997)\n",
      "25063 INFO flwr 2023-03-23 10:08:43,835 | server.py:190 | evaluate_round 14: no clients selected, cancel\n",
      "25063 DEBUG flwr 2023-03-23 10:08:43,836 | server.py:255 | fit_round 15: strategy sampled 20 clients (out of 100)\n",
      "25063 DEBUG flwr 2023-03-23 10:09:07,055 | server.py:279 | fit_round 15 received 20 results and 0 failures\n",
      "25063 INFO flwr 2023-03-23 10:09:09,994 | server.py:140 | fit progress: (15, 309.7715827226639, {'accuracy': 0.4574}, 387.9734436849999)\n",
      "25063 INFO flwr 2023-03-23 10:09:09,995 | server.py:190 | evaluate_round 15: no clients selected, cancel\n",
      "25063 DEBUG flwr 2023-03-23 10:09:09,996 | server.py:255 | fit_round 16: strategy sampled 20 clients (out of 100)\n",
      "25063 DEBUG flwr 2023-03-23 10:09:32,632 | server.py:279 | fit_round 16 received 20 results and 0 failures\n",
      "25063 INFO flwr 2023-03-23 10:09:35,533 | server.py:140 | fit progress: (16, 312.12296867370605, {'accuracy': 0.469}, 413.51163775199984)\n",
      "25063 INFO flwr 2023-03-23 10:09:35,533 | server.py:190 | evaluate_round 16: no clients selected, cancel\n",
      "25063 DEBUG flwr 2023-03-23 10:09:35,534 | server.py:255 | fit_round 17: strategy sampled 20 clients (out of 100)\n",
      "25063 DEBUG flwr 2023-03-23 10:09:58,503 | server.py:279 | fit_round 17 received 20 results and 0 failures\n",
      "25063 INFO flwr 2023-03-23 10:10:01,501 | server.py:140 | fit progress: (17, 303.74449849128723, {'accuracy': 0.4711}, 439.48023300099976)\n",
      "25063 INFO flwr 2023-03-23 10:10:01,502 | server.py:190 | evaluate_round 17: no clients selected, cancel\n",
      "25063 DEBUG flwr 2023-03-23 10:10:01,503 | server.py:255 | fit_round 18: strategy sampled 20 clients (out of 100)\n",
      "25063 DEBUG flwr 2023-03-23 10:10:24,258 | server.py:279 | fit_round 18 received 20 results and 0 failures\n",
      "25063 INFO flwr 2023-03-23 10:10:27,222 | server.py:140 | fit progress: (18, 308.8188177347183, {'accuracy': 0.4753}, 465.20108965300005)\n",
      "25063 INFO flwr 2023-03-23 10:10:27,223 | server.py:190 | evaluate_round 18: no clients selected, cancel\n",
      "25063 DEBUG flwr 2023-03-23 10:10:27,224 | server.py:255 | fit_round 19: strategy sampled 20 clients (out of 100)\n"
     ]
    },
    {
     "name": "stdout",
     "output_type": "stream",
     "text": [
      "\u001b[2m\u001b[1m\u001b[33m(autoscaler +20m16s)\u001b[0m Warning: The following resource request cannot be scheduled right now: {'CPU': 1.0}. This is likely due to all cluster resources being claimed by actors. Consider creating fewer actors or adding more nodes to this Ray cluster.\n"
     ]
    },
    {
     "name": "stderr",
     "output_type": "stream",
     "text": [
      "25063 DEBUG flwr 2023-03-23 10:10:50,234 | server.py:279 | fit_round 19 received 20 results and 0 failures\n",
      "25063 INFO flwr 2023-03-23 10:10:53,132 | server.py:140 | fit progress: (19, 307.8091161251068, {'accuracy': 0.4928}, 491.1104755309998)\n",
      "25063 INFO flwr 2023-03-23 10:10:53,132 | server.py:190 | evaluate_round 19: no clients selected, cancel\n",
      "25063 DEBUG flwr 2023-03-23 10:10:53,133 | server.py:255 | fit_round 20: strategy sampled 20 clients (out of 100)\n",
      "25063 DEBUG flwr 2023-03-23 10:11:16,028 | server.py:279 | fit_round 20 received 20 results and 0 failures\n",
      "25063 INFO flwr 2023-03-23 10:11:19,091 | server.py:140 | fit progress: (20, 306.05786538124084, {'accuracy': 0.4891}, 517.070132499)\n",
      "25063 INFO flwr 2023-03-23 10:11:19,092 | server.py:190 | evaluate_round 20: no clients selected, cancel\n",
      "25063 INFO flwr 2023-03-23 10:11:19,092 | server.py:171 | FL finished in 517.071351393\n",
      "25063 INFO flwr 2023-03-23 10:11:19,093 | app.py:225 | app_fit: losses_distributed []\n",
      "25063 INFO flwr 2023-03-23 10:11:19,094 | app.py:226 | app_fit: metrics_distributed_fit {}\n",
      "25063 INFO flwr 2023-03-23 10:11:19,094 | app.py:227 | app_fit: metrics_distributed {}\n",
      "25063 INFO flwr 2023-03-23 10:11:19,095 | app.py:228 | app_fit: losses_centralized [(0, 461.12875056266785), (1, 451.1964154243469), (2, 411.0468044281006), (3, 386.12114584445953), (4, 373.95739924907684), (5, 360.9268071651459), (6, 346.20675098896027), (7, 334.3075736761093), (8, 324.2807641029358), (9, 318.9378011226654), (10, 317.2520033121109), (11, 312.3191841840744), (12, 313.4831694364548), (13, 303.93048536777496), (14, 308.65116131305695), (15, 309.7715827226639), (16, 312.12296867370605), (17, 303.74449849128723), (18, 308.8188177347183), (19, 307.8091161251068), (20, 306.05786538124084)]\n",
      "25063 INFO flwr 2023-03-23 10:11:19,095 | app.py:229 | app_fit: metrics_centralized {'accuracy': [(0, 0.0995), (1, 0.1828), (2, 0.2652), (3, 0.316), (4, 0.3179), (5, 0.3468), (6, 0.3747), (7, 0.3951), (8, 0.4182), (9, 0.4313), (10, 0.4407), (11, 0.4506), (12, 0.4435), (13, 0.4676), (14, 0.4774), (15, 0.4574), (16, 0.469), (17, 0.4711), (18, 0.4753), (19, 0.4928), (20, 0.4891)]}\n"
     ]
    },
    {
     "name": "stdout",
     "output_type": "stream",
     "text": [
      "Files already downloaded and verified\n",
      "Generating unified CIFAR dataset\n",
      "Class histogram for 0-th partition (alpha=10, 10 classes): [37 49 38 55 64 39 31 59 55 73]\n"
     ]
    },
    {
     "name": "stderr",
     "output_type": "stream",
     "text": [
      "25063 INFO flwr 2023-03-23 10:11:24,517 | app.py:146 | Starting Flower simulation, config: ServerConfig(num_rounds=20, round_timeout=None, asynchronous=False)\n",
      "2023-03-23 10:11:28,709\tINFO worker.py:1553 -- Started a local Ray instance.\n",
      "25063 INFO flwr 2023-03-23 10:11:29,705 | app.py:180 | Flower VCE: Ray initialized with resources: {'object_store_memory': 1331171328.0, 'memory': 2662342656.0, 'node:10.9.7.124': 1.0, 'CPU': 8.0}\n",
      "25063 INFO flwr 2023-03-23 10:11:29,706 | server.py:95 | Initializing global parameters\n",
      "25063 INFO flwr 2023-03-23 10:11:29,707 | server.py:320 | Requesting initial parameters from one random client\n",
      "25063 INFO flwr 2023-03-23 10:11:30,929 | server.py:324 | Received initial parameters from one random client\n",
      "25063 INFO flwr 2023-03-23 10:11:30,930 | server.py:97 | Evaluating initial parameters\n",
      "25063 INFO flwr 2023-03-23 10:11:33,241 | server.py:100 | initial parameters (loss, other metrics): 461.8100469112396, {'accuracy': 0.1}\n",
      "25063 INFO flwr 2023-03-23 10:11:33,241 | server.py:110 | FL starting\n",
      "25063 DEBUG flwr 2023-03-23 10:11:33,242 | server.py:255 | fit_round 1: strategy sampled 5 clients (out of 100)\n",
      "25063 DEBUG flwr 2023-03-23 10:11:38,190 | server.py:279 | fit_round 1 received 5 results and 0 failures\n",
      "25063 WARNING flwr 2023-03-23 10:11:38,210 | fedavg.py:243 | No fit_metrics_aggregation_fn provided\n",
      "25063 INFO flwr 2023-03-23 10:11:41,831 | server.py:140 | fit progress: (1, 460.01852321624756, {'accuracy': 0.1504}, 8.589268768999773)\n",
      "25063 INFO flwr 2023-03-23 10:11:41,832 | server.py:190 | evaluate_round 1: no clients selected, cancel\n",
      "25063 DEBUG flwr 2023-03-23 10:11:41,833 | server.py:255 | fit_round 2: strategy sampled 5 clients (out of 100)\n",
      "25063 DEBUG flwr 2023-03-23 10:11:47,341 | server.py:279 | fit_round 2 received 5 results and 0 failures\n",
      "25063 INFO flwr 2023-03-23 10:11:50,391 | server.py:140 | fit progress: (2, 437.7555205821991, {'accuracy': 0.1606}, 17.148764462000145)\n",
      "25063 INFO flwr 2023-03-23 10:11:50,391 | server.py:190 | evaluate_round 2: no clients selected, cancel\n",
      "25063 DEBUG flwr 2023-03-23 10:11:50,392 | server.py:255 | fit_round 3: strategy sampled 5 clients (out of 100)\n",
      "25063 DEBUG flwr 2023-03-23 10:11:55,814 | server.py:279 | fit_round 3 received 5 results and 0 failures\n",
      "25063 INFO flwr 2023-03-23 10:11:58,768 | server.py:140 | fit progress: (3, 406.72574830055237, {'accuracy': 0.2553}, 25.525943007000023)\n",
      "25063 INFO flwr 2023-03-23 10:11:58,769 | server.py:190 | evaluate_round 3: no clients selected, cancel\n",
      "25063 DEBUG flwr 2023-03-23 10:11:58,769 | server.py:255 | fit_round 4: strategy sampled 5 clients (out of 100)\n",
      "25063 DEBUG flwr 2023-03-23 10:12:04,204 | server.py:279 | fit_round 4 received 5 results and 0 failures\n",
      "25063 INFO flwr 2023-03-23 10:12:07,217 | server.py:140 | fit progress: (4, 389.234046459198, {'accuracy': 0.2897}, 33.97545868299994)\n",
      "25063 INFO flwr 2023-03-23 10:12:07,218 | server.py:190 | evaluate_round 4: no clients selected, cancel\n",
      "25063 DEBUG flwr 2023-03-23 10:12:07,219 | server.py:255 | fit_round 5: strategy sampled 5 clients (out of 100)\n",
      "25063 DEBUG flwr 2023-03-23 10:12:12,632 | server.py:279 | fit_round 5 received 5 results and 0 failures\n",
      "25063 INFO flwr 2023-03-23 10:12:15,551 | server.py:140 | fit progress: (5, 390.9510303735733, {'accuracy': 0.254}, 42.30890148499975)\n",
      "25063 INFO flwr 2023-03-23 10:12:15,552 | server.py:190 | evaluate_round 5: no clients selected, cancel\n",
      "25063 DEBUG flwr 2023-03-23 10:12:15,552 | server.py:255 | fit_round 6: strategy sampled 5 clients (out of 100)\n",
      "25063 DEBUG flwr 2023-03-23 10:12:21,102 | server.py:279 | fit_round 6 received 5 results and 0 failures\n",
      "25063 INFO flwr 2023-03-23 10:12:23,979 | server.py:140 | fit progress: (6, 362.06427776813507, {'accuracy': 0.3365}, 50.73745776599981)\n",
      "25063 INFO flwr 2023-03-23 10:12:23,980 | server.py:190 | evaluate_round 6: no clients selected, cancel\n",
      "25063 DEBUG flwr 2023-03-23 10:12:23,981 | server.py:255 | fit_round 7: strategy sampled 5 clients (out of 100)\n",
      "25063 DEBUG flwr 2023-03-23 10:12:29,341 | server.py:279 | fit_round 7 received 5 results and 0 failures\n",
      "25063 INFO flwr 2023-03-23 10:12:32,373 | server.py:140 | fit progress: (7, 348.82943844795227, {'accuracy': 0.3713}, 59.13061643099991)\n",
      "25063 INFO flwr 2023-03-23 10:12:32,373 | server.py:190 | evaluate_round 7: no clients selected, cancel\n",
      "25063 DEBUG flwr 2023-03-23 10:12:32,374 | server.py:255 | fit_round 8: strategy sampled 5 clients (out of 100)\n",
      "25063 DEBUG flwr 2023-03-23 10:12:37,703 | server.py:279 | fit_round 8 received 5 results and 0 failures\n",
      "25063 INFO flwr 2023-03-23 10:12:40,949 | server.py:140 | fit progress: (8, 340.83299028873444, {'accuracy': 0.3768}, 67.70688285400001)\n",
      "25063 INFO flwr 2023-03-23 10:12:40,949 | server.py:190 | evaluate_round 8: no clients selected, cancel\n",
      "25063 DEBUG flwr 2023-03-23 10:12:40,950 | server.py:255 | fit_round 9: strategy sampled 5 clients (out of 100)\n",
      "25063 DEBUG flwr 2023-03-23 10:12:46,696 | server.py:279 | fit_round 9 received 5 results and 0 failures\n",
      "25063 INFO flwr 2023-03-23 10:12:49,728 | server.py:140 | fit progress: (9, 334.30560076236725, {'accuracy': 0.3876}, 76.48600779099979)\n",
      "25063 INFO flwr 2023-03-23 10:12:49,729 | server.py:190 | evaluate_round 9: no clients selected, cancel\n",
      "25063 DEBUG flwr 2023-03-23 10:12:49,729 | server.py:255 | fit_round 10: strategy sampled 5 clients (out of 100)\n",
      "25063 DEBUG flwr 2023-03-23 10:12:56,113 | server.py:279 | fit_round 10 received 5 results and 0 failures\n",
      "25063 INFO flwr 2023-03-23 10:12:59,854 | server.py:140 | fit progress: (10, 335.14369106292725, {'accuracy': 0.399}, 86.61189588099978)\n",
      "25063 INFO flwr 2023-03-23 10:12:59,855 | server.py:190 | evaluate_round 10: no clients selected, cancel\n",
      "25063 DEBUG flwr 2023-03-23 10:12:59,855 | server.py:255 | fit_round 11: strategy sampled 5 clients (out of 100)\n",
      "25063 DEBUG flwr 2023-03-23 10:13:06,938 | server.py:279 | fit_round 11 received 5 results and 0 failures\n",
      "25063 INFO flwr 2023-03-23 10:13:10,743 | server.py:140 | fit progress: (11, 339.7194764614105, {'accuracy': 0.3851}, 97.50092571699997)\n",
      "25063 INFO flwr 2023-03-23 10:13:10,744 | server.py:190 | evaluate_round 11: no clients selected, cancel\n",
      "25063 DEBUG flwr 2023-03-23 10:13:10,744 | server.py:255 | fit_round 12: strategy sampled 5 clients (out of 100)\n",
      "25063 DEBUG flwr 2023-03-23 10:13:17,580 | server.py:279 | fit_round 12 received 5 results and 0 failures\n",
      "25063 INFO flwr 2023-03-23 10:13:21,103 | server.py:140 | fit progress: (12, 319.37823045253754, {'accuracy': 0.422}, 107.86132320199977)\n",
      "25063 INFO flwr 2023-03-23 10:13:21,104 | server.py:190 | evaluate_round 12: no clients selected, cancel\n",
      "25063 DEBUG flwr 2023-03-23 10:13:21,104 | server.py:255 | fit_round 13: strategy sampled 5 clients (out of 100)\n",
      "25063 DEBUG flwr 2023-03-23 10:13:27,817 | server.py:279 | fit_round 13 received 5 results and 0 failures\n",
      "25063 INFO flwr 2023-03-23 10:13:31,343 | server.py:140 | fit progress: (13, 340.4506319761276, {'accuracy': 0.4047}, 118.10141783099971)\n",
      "25063 INFO flwr 2023-03-23 10:13:31,344 | server.py:190 | evaluate_round 13: no clients selected, cancel\n",
      "25063 DEBUG flwr 2023-03-23 10:13:31,345 | server.py:255 | fit_round 14: strategy sampled 5 clients (out of 100)\n",
      "25063 DEBUG flwr 2023-03-23 10:13:38,183 | server.py:279 | fit_round 14 received 5 results and 0 failures\n",
      "25063 INFO flwr 2023-03-23 10:13:41,817 | server.py:140 | fit progress: (14, 313.9737173318863, {'accuracy': 0.4449}, 128.57530722499996)\n",
      "25063 INFO flwr 2023-03-23 10:13:41,818 | server.py:190 | evaluate_round 14: no clients selected, cancel\n",
      "25063 DEBUG flwr 2023-03-23 10:13:41,819 | server.py:255 | fit_round 15: strategy sampled 5 clients (out of 100)\n",
      "25063 DEBUG flwr 2023-03-23 10:13:48,575 | server.py:279 | fit_round 15 received 5 results and 0 failures\n",
      "25063 INFO flwr 2023-03-23 10:13:52,135 | server.py:140 | fit progress: (15, 332.547265291214, {'accuracy': 0.4472}, 138.89320626400013)\n",
      "25063 INFO flwr 2023-03-23 10:13:52,136 | server.py:190 | evaluate_round 15: no clients selected, cancel\n",
      "25063 DEBUG flwr 2023-03-23 10:13:52,137 | server.py:255 | fit_round 16: strategy sampled 5 clients (out of 100)\n",
      "25063 DEBUG flwr 2023-03-23 10:13:58,978 | server.py:279 | fit_round 16 received 5 results and 0 failures\n",
      "25063 INFO flwr 2023-03-23 10:14:02,667 | server.py:140 | fit progress: (16, 311.9755344390869, {'accuracy': 0.4502}, 149.42479583199975)\n",
      "25063 INFO flwr 2023-03-23 10:14:02,667 | server.py:190 | evaluate_round 16: no clients selected, cancel\n",
      "25063 DEBUG flwr 2023-03-23 10:14:02,668 | server.py:255 | fit_round 17: strategy sampled 5 clients (out of 100)\n",
      "25063 DEBUG flwr 2023-03-23 10:14:09,325 | server.py:279 | fit_round 17 received 5 results and 0 failures\n",
      "25063 INFO flwr 2023-03-23 10:14:12,977 | server.py:140 | fit progress: (17, 318.83124017715454, {'accuracy': 0.45}, 159.7346348179999)\n",
      "25063 INFO flwr 2023-03-23 10:14:12,977 | server.py:190 | evaluate_round 17: no clients selected, cancel\n",
      "25063 DEBUG flwr 2023-03-23 10:14:12,978 | server.py:255 | fit_round 18: strategy sampled 5 clients (out of 100)\n",
      "25063 DEBUG flwr 2023-03-23 10:14:19,829 | server.py:279 | fit_round 18 received 5 results and 0 failures\n",
      "25063 INFO flwr 2023-03-23 10:14:23,305 | server.py:140 | fit progress: (18, 320.20303559303284, {'accuracy': 0.4366}, 170.0633450539999)\n",
      "25063 INFO flwr 2023-03-23 10:14:23,306 | server.py:190 | evaluate_round 18: no clients selected, cancel\n",
      "25063 DEBUG flwr 2023-03-23 10:14:23,307 | server.py:255 | fit_round 19: strategy sampled 5 clients (out of 100)\n",
      "25063 DEBUG flwr 2023-03-23 10:14:30,067 | server.py:279 | fit_round 19 received 5 results and 0 failures\n",
      "25063 INFO flwr 2023-03-23 10:14:34,696 | server.py:140 | fit progress: (19, 319.0233066082001, {'accuracy': 0.4541}, 181.45396936999987)\n",
      "25063 INFO flwr 2023-03-23 10:14:34,697 | server.py:190 | evaluate_round 19: no clients selected, cancel\n",
      "25063 DEBUG flwr 2023-03-23 10:14:34,697 | server.py:255 | fit_round 20: strategy sampled 5 clients (out of 100)\n",
      "25063 DEBUG flwr 2023-03-23 10:14:41,804 | server.py:279 | fit_round 20 received 5 results and 0 failures\n",
      "25063 INFO flwr 2023-03-23 10:14:45,684 | server.py:140 | fit progress: (20, 324.53021800518036, {'accuracy': 0.4614}, 192.4421730019999)\n",
      "25063 INFO flwr 2023-03-23 10:14:45,685 | server.py:190 | evaluate_round 20: no clients selected, cancel\n",
      "25063 INFO flwr 2023-03-23 10:14:45,686 | server.py:171 | FL finished in 192.4437633309999\n",
      "25063 INFO flwr 2023-03-23 10:14:45,686 | app.py:225 | app_fit: losses_distributed []\n",
      "25063 INFO flwr 2023-03-23 10:14:45,687 | app.py:226 | app_fit: metrics_distributed_fit {}\n",
      "25063 INFO flwr 2023-03-23 10:14:45,687 | app.py:227 | app_fit: metrics_distributed {}\n",
      "25063 INFO flwr 2023-03-23 10:14:45,688 | app.py:228 | app_fit: losses_centralized [(0, 461.8100469112396), (1, 460.01852321624756), (2, 437.7555205821991), (3, 406.72574830055237), (4, 389.234046459198), (5, 390.9510303735733), (6, 362.06427776813507), (7, 348.82943844795227), (8, 340.83299028873444), (9, 334.30560076236725), (10, 335.14369106292725), (11, 339.7194764614105), (12, 319.37823045253754), (13, 340.4506319761276), (14, 313.9737173318863), (15, 332.547265291214), (16, 311.9755344390869), (17, 318.83124017715454), (18, 320.20303559303284), (19, 319.0233066082001), (20, 324.53021800518036)]\n",
      "25063 INFO flwr 2023-03-23 10:14:45,689 | app.py:229 | app_fit: metrics_centralized {'accuracy': [(0, 0.1), (1, 0.1504), (2, 0.1606), (3, 0.2553), (4, 0.2897), (5, 0.254), (6, 0.3365), (7, 0.3713), (8, 0.3768), (9, 0.3876), (10, 0.399), (11, 0.3851), (12, 0.422), (13, 0.4047), (14, 0.4449), (15, 0.4472), (16, 0.4502), (17, 0.45), (18, 0.4366), (19, 0.4541), (20, 0.4614)]}\n"
     ]
    },
    {
     "name": "stdout",
     "output_type": "stream",
     "text": [
      "Files already downloaded and verified\n",
      "Generating unified CIFAR dataset\n",
      "Class histogram for 0-th partition (alpha=10, 10 classes): [39 60 56 50 43 50 33 42 79 48]\n"
     ]
    },
    {
     "name": "stderr",
     "output_type": "stream",
     "text": [
      "25063 INFO flwr 2023-03-23 10:14:52,498 | app.py:146 | Starting Flower simulation, config: ServerConfig(num_rounds=20, round_timeout=None, asynchronous=False)\n",
      "2023-03-23 10:14:56,870\tINFO worker.py:1553 -- Started a local Ray instance.\n",
      "25063 INFO flwr 2023-03-23 10:14:58,167 | app.py:180 | Flower VCE: Ray initialized with resources: {'object_store_memory': 1178887372.0, 'memory': 2357774747.0, 'CPU': 8.0, 'node:10.9.7.124': 1.0}\n",
      "25063 INFO flwr 2023-03-23 10:14:58,169 | server.py:95 | Initializing global parameters\n",
      "25063 INFO flwr 2023-03-23 10:14:58,170 | server.py:320 | Requesting initial parameters from one random client\n",
      "25063 INFO flwr 2023-03-23 10:14:59,715 | server.py:324 | Received initial parameters from one random client\n",
      "25063 INFO flwr 2023-03-23 10:14:59,717 | server.py:97 | Evaluating initial parameters\n",
      "25063 INFO flwr 2023-03-23 10:15:02,628 | server.py:100 | initial parameters (loss, other metrics): 461.20965600013733, {'accuracy': 0.0984}\n",
      "25063 INFO flwr 2023-03-23 10:15:02,628 | server.py:110 | FL starting\n",
      "25063 DEBUG flwr 2023-03-23 10:15:02,629 | server.py:255 | fit_round 1: strategy sampled 10 clients (out of 100)\n",
      "25063 DEBUG flwr 2023-03-23 10:15:16,426 | server.py:279 | fit_round 1 received 10 results and 0 failures\n",
      "25063 WARNING flwr 2023-03-23 10:15:16,460 | fedavg.py:243 | No fit_metrics_aggregation_fn provided\n",
      "25063 INFO flwr 2023-03-23 10:15:20,044 | server.py:140 | fit progress: (1, 454.8304057121277, {'accuracy': 0.1534}, 17.415490552999927)\n",
      "25063 INFO flwr 2023-03-23 10:15:20,046 | server.py:190 | evaluate_round 1: no clients selected, cancel\n",
      "25063 DEBUG flwr 2023-03-23 10:15:20,047 | server.py:255 | fit_round 2: strategy sampled 10 clients (out of 100)\n",
      "25063 DEBUG flwr 2023-03-23 10:15:34,796 | server.py:279 | fit_round 2 received 10 results and 0 failures\n",
      "25063 INFO flwr 2023-03-23 10:15:37,987 | server.py:140 | fit progress: (2, 433.93306720256805, {'accuracy': 0.1775}, 35.35774576199992)\n",
      "25063 INFO flwr 2023-03-23 10:15:37,988 | server.py:190 | evaluate_round 2: no clients selected, cancel\n",
      "25063 DEBUG flwr 2023-03-23 10:15:37,989 | server.py:255 | fit_round 3: strategy sampled 10 clients (out of 100)\n",
      "25063 DEBUG flwr 2023-03-23 10:15:50,973 | server.py:279 | fit_round 3 received 10 results and 0 failures\n",
      "25063 INFO flwr 2023-03-23 10:15:53,891 | server.py:140 | fit progress: (3, 403.2409071922302, {'accuracy': 0.2745}, 51.2621634369998)\n",
      "25063 INFO flwr 2023-03-23 10:15:53,892 | server.py:190 | evaluate_round 3: no clients selected, cancel\n",
      "25063 DEBUG flwr 2023-03-23 10:15:53,892 | server.py:255 | fit_round 4: strategy sampled 10 clients (out of 100)\n",
      "25063 DEBUG flwr 2023-03-23 10:16:06,450 | server.py:279 | fit_round 4 received 10 results and 0 failures\n",
      "25063 INFO flwr 2023-03-23 10:16:09,406 | server.py:140 | fit progress: (4, 389.6513522863388, {'accuracy': 0.2943}, 66.77711570600013)\n",
      "25063 INFO flwr 2023-03-23 10:16:09,407 | server.py:190 | evaluate_round 4: no clients selected, cancel\n",
      "25063 DEBUG flwr 2023-03-23 10:16:09,407 | server.py:255 | fit_round 5: strategy sampled 10 clients (out of 100)\n",
      "25063 DEBUG flwr 2023-03-23 10:16:21,604 | server.py:279 | fit_round 5 received 10 results and 0 failures\n",
      "25063 INFO flwr 2023-03-23 10:16:24,325 | server.py:140 | fit progress: (5, 379.03040874004364, {'accuracy': 0.3158}, 81.69569331399998)\n",
      "25063 INFO flwr 2023-03-23 10:16:24,325 | server.py:190 | evaluate_round 5: no clients selected, cancel\n",
      "25063 DEBUG flwr 2023-03-23 10:16:24,326 | server.py:255 | fit_round 6: strategy sampled 10 clients (out of 100)\n",
      "25063 DEBUG flwr 2023-03-23 10:16:36,243 | server.py:279 | fit_round 6 received 10 results and 0 failures\n",
      "25063 INFO flwr 2023-03-23 10:16:38,929 | server.py:140 | fit progress: (6, 365.6306972503662, {'accuracy': 0.3442}, 96.2999313979999)\n",
      "25063 INFO flwr 2023-03-23 10:16:38,930 | server.py:190 | evaluate_round 6: no clients selected, cancel\n",
      "25063 DEBUG flwr 2023-03-23 10:16:38,930 | server.py:255 | fit_round 7: strategy sampled 10 clients (out of 100)\n",
      "25063 DEBUG flwr 2023-03-23 10:16:51,025 | server.py:279 | fit_round 7 received 10 results and 0 failures\n",
      "25063 INFO flwr 2023-03-23 10:16:53,862 | server.py:140 | fit progress: (7, 351.0371688604355, {'accuracy': 0.3662}, 111.2335077849998)\n",
      "25063 INFO flwr 2023-03-23 10:16:53,863 | server.py:190 | evaluate_round 7: no clients selected, cancel\n",
      "25063 DEBUG flwr 2023-03-23 10:16:53,864 | server.py:255 | fit_round 8: strategy sampled 10 clients (out of 100)\n",
      "25063 DEBUG flwr 2023-03-23 10:17:05,855 | server.py:279 | fit_round 8 received 10 results and 0 failures\n",
      "25063 INFO flwr 2023-03-23 10:17:08,680 | server.py:140 | fit progress: (8, 339.1128354072571, {'accuracy': 0.3966}, 126.05095731999972)\n",
      "25063 INFO flwr 2023-03-23 10:17:08,681 | server.py:190 | evaluate_round 8: no clients selected, cancel\n",
      "25063 DEBUG flwr 2023-03-23 10:17:08,681 | server.py:255 | fit_round 9: strategy sampled 10 clients (out of 100)\n",
      "25063 DEBUG flwr 2023-03-23 10:17:21,087 | server.py:279 | fit_round 9 received 10 results and 0 failures\n",
      "25063 INFO flwr 2023-03-23 10:17:23,984 | server.py:140 | fit progress: (9, 334.3338052034378, {'accuracy': 0.3949}, 141.35492013800013)\n",
      "25063 INFO flwr 2023-03-23 10:17:23,985 | server.py:190 | evaluate_round 9: no clients selected, cancel\n",
      "25063 DEBUG flwr 2023-03-23 10:17:23,985 | server.py:255 | fit_round 10: strategy sampled 10 clients (out of 100)\n",
      "25063 DEBUG flwr 2023-03-23 10:17:39,726 | server.py:279 | fit_round 10 received 10 results and 0 failures\n",
      "25063 INFO flwr 2023-03-23 10:17:43,170 | server.py:140 | fit progress: (10, 329.13955330848694, {'accuracy': 0.4054}, 160.54054762299984)\n",
      "25063 INFO flwr 2023-03-23 10:17:43,170 | server.py:190 | evaluate_round 10: no clients selected, cancel\n",
      "25063 DEBUG flwr 2023-03-23 10:17:43,171 | server.py:255 | fit_round 11: strategy sampled 10 clients (out of 100)\n",
      "25063 DEBUG flwr 2023-03-23 10:17:56,870 | server.py:279 | fit_round 11 received 10 results and 0 failures\n",
      "25063 INFO flwr 2023-03-23 10:18:00,001 | server.py:140 | fit progress: (11, 315.29915606975555, {'accuracy': 0.4236}, 177.37179912500005)\n",
      "25063 INFO flwr 2023-03-23 10:18:00,002 | server.py:190 | evaluate_round 11: no clients selected, cancel\n",
      "25063 DEBUG flwr 2023-03-23 10:18:00,003 | server.py:255 | fit_round 12: strategy sampled 10 clients (out of 100)\n",
      "25063 DEBUG flwr 2023-03-23 10:18:16,615 | server.py:279 | fit_round 12 received 10 results and 0 failures\n",
      "25063 INFO flwr 2023-03-23 10:18:19,893 | server.py:140 | fit progress: (12, 316.39653754234314, {'accuracy': 0.4377}, 197.26409007199982)\n",
      "25063 INFO flwr 2023-03-23 10:18:19,894 | server.py:190 | evaluate_round 12: no clients selected, cancel\n",
      "25063 DEBUG flwr 2023-03-23 10:18:19,895 | server.py:255 | fit_round 13: strategy sampled 10 clients (out of 100)\n",
      "25063 DEBUG flwr 2023-03-23 10:18:35,572 | server.py:279 | fit_round 13 received 10 results and 0 failures\n",
      "25063 INFO flwr 2023-03-23 10:18:39,095 | server.py:140 | fit progress: (13, 312.77350294589996, {'accuracy': 0.4491}, 216.46619507000014)\n",
      "25063 INFO flwr 2023-03-23 10:18:39,096 | server.py:190 | evaluate_round 13: no clients selected, cancel\n",
      "25063 DEBUG flwr 2023-03-23 10:18:39,097 | server.py:255 | fit_round 14: strategy sampled 10 clients (out of 100)\n",
      "25063 DEBUG flwr 2023-03-23 10:18:56,213 | server.py:279 | fit_round 14 received 10 results and 0 failures\n",
      "25063 INFO flwr 2023-03-23 10:18:59,879 | server.py:140 | fit progress: (14, 325.2654972076416, {'accuracy': 0.4208}, 237.25040419200013)\n",
      "25063 INFO flwr 2023-03-23 10:18:59,880 | server.py:190 | evaluate_round 14: no clients selected, cancel\n",
      "25063 DEBUG flwr 2023-03-23 10:18:59,881 | server.py:255 | fit_round 15: strategy sampled 10 clients (out of 100)\n",
      "25063 DEBUG flwr 2023-03-23 10:19:16,957 | server.py:279 | fit_round 15 received 10 results and 0 failures\n",
      "25063 INFO flwr 2023-03-23 10:19:20,656 | server.py:140 | fit progress: (15, 311.4072742462158, {'accuracy': 0.4576}, 258.02700945200013)\n",
      "25063 INFO flwr 2023-03-23 10:19:20,657 | server.py:190 | evaluate_round 15: no clients selected, cancel\n",
      "25063 DEBUG flwr 2023-03-23 10:19:20,657 | server.py:255 | fit_round 16: strategy sampled 10 clients (out of 100)\n",
      "25063 DEBUG flwr 2023-03-23 10:19:38,324 | server.py:279 | fit_round 16 received 10 results and 0 failures\n",
      "25063 INFO flwr 2023-03-23 10:19:42,274 | server.py:140 | fit progress: (16, 310.2616651058197, {'accuracy': 0.4559}, 279.6450137470001)\n",
      "25063 INFO flwr 2023-03-23 10:19:42,275 | server.py:190 | evaluate_round 16: no clients selected, cancel\n",
      "25063 DEBUG flwr 2023-03-23 10:19:42,276 | server.py:255 | fit_round 17: strategy sampled 10 clients (out of 100)\n",
      "25063 DEBUG flwr 2023-03-23 10:19:58,365 | server.py:279 | fit_round 17 received 10 results and 0 failures\n",
      "25063 INFO flwr 2023-03-23 10:20:01,716 | server.py:140 | fit progress: (17, 311.1945253610611, {'accuracy': 0.4621}, 299.08721177200005)\n",
      "25063 INFO flwr 2023-03-23 10:20:01,717 | server.py:190 | evaluate_round 17: no clients selected, cancel\n",
      "25063 DEBUG flwr 2023-03-23 10:20:01,718 | server.py:255 | fit_round 18: strategy sampled 10 clients (out of 100)\n",
      "25063 DEBUG flwr 2023-03-23 10:20:19,514 | server.py:279 | fit_round 18 received 10 results and 0 failures\n",
      "25063 INFO flwr 2023-03-23 10:20:23,131 | server.py:140 | fit progress: (18, 327.779421210289, {'accuracy': 0.4391}, 320.5021834999998)\n",
      "25063 INFO flwr 2023-03-23 10:20:23,132 | server.py:190 | evaluate_round 18: no clients selected, cancel\n",
      "25063 DEBUG flwr 2023-03-23 10:20:23,133 | server.py:255 | fit_round 19: strategy sampled 10 clients (out of 100)\n",
      "25063 DEBUG flwr 2023-03-23 10:20:38,841 | server.py:279 | fit_round 19 received 10 results and 0 failures\n",
      "25063 INFO flwr 2023-03-23 10:20:42,293 | server.py:140 | fit progress: (19, 304.3984752893448, {'accuracy': 0.4724}, 339.6641812879998)\n",
      "25063 INFO flwr 2023-03-23 10:20:42,294 | server.py:190 | evaluate_round 19: no clients selected, cancel\n",
      "25063 DEBUG flwr 2023-03-23 10:20:42,295 | server.py:255 | fit_round 20: strategy sampled 10 clients (out of 100)\n",
      "25063 DEBUG flwr 2023-03-23 10:20:58,285 | server.py:279 | fit_round 20 received 10 results and 0 failures\n",
      "25063 INFO flwr 2023-03-23 10:21:01,490 | server.py:140 | fit progress: (20, 313.9251857995987, {'accuracy': 0.4874}, 358.8610650559999)\n",
      "25063 INFO flwr 2023-03-23 10:21:01,491 | server.py:190 | evaluate_round 20: no clients selected, cancel\n",
      "25063 INFO flwr 2023-03-23 10:21:01,492 | server.py:171 | FL finished in 358.86302561499997\n",
      "25063 INFO flwr 2023-03-23 10:21:01,493 | app.py:225 | app_fit: losses_distributed []\n",
      "25063 INFO flwr 2023-03-23 10:21:01,493 | app.py:226 | app_fit: metrics_distributed_fit {}\n",
      "25063 INFO flwr 2023-03-23 10:21:01,494 | app.py:227 | app_fit: metrics_distributed {}\n",
      "25063 INFO flwr 2023-03-23 10:21:01,494 | app.py:228 | app_fit: losses_centralized [(0, 461.20965600013733), (1, 454.8304057121277), (2, 433.93306720256805), (3, 403.2409071922302), (4, 389.6513522863388), (5, 379.03040874004364), (6, 365.6306972503662), (7, 351.0371688604355), (8, 339.1128354072571), (9, 334.3338052034378), (10, 329.13955330848694), (11, 315.29915606975555), (12, 316.39653754234314), (13, 312.77350294589996), (14, 325.2654972076416), (15, 311.4072742462158), (16, 310.2616651058197), (17, 311.1945253610611), (18, 327.779421210289), (19, 304.3984752893448), (20, 313.9251857995987)]\n",
      "25063 INFO flwr 2023-03-23 10:21:01,495 | app.py:229 | app_fit: metrics_centralized {'accuracy': [(0, 0.0984), (1, 0.1534), (2, 0.1775), (3, 0.2745), (4, 0.2943), (5, 0.3158), (6, 0.3442), (7, 0.3662), (8, 0.3966), (9, 0.3949), (10, 0.4054), (11, 0.4236), (12, 0.4377), (13, 0.4491), (14, 0.4208), (15, 0.4576), (16, 0.4559), (17, 0.4621), (18, 0.4391), (19, 0.4724), (20, 0.4874)]}\n"
     ]
    },
    {
     "name": "stdout",
     "output_type": "stream",
     "text": [
      "Files already downloaded and verified\n",
      "Generating unified CIFAR dataset\n",
      "Class histogram for 0-th partition (alpha=10, 10 classes): [23 44 45 47 43 31 90 70 39 68]\n"
     ]
    },
    {
     "name": "stderr",
     "output_type": "stream",
     "text": [
      "25063 INFO flwr 2023-03-23 10:21:08,020 | app.py:146 | Starting Flower simulation, config: ServerConfig(num_rounds=20, round_timeout=None, asynchronous=False)\n",
      "2023-03-23 10:21:12,717\tINFO worker.py:1553 -- Started a local Ray instance.\n",
      "25063 INFO flwr 2023-03-23 10:21:14,061 | app.py:180 | Flower VCE: Ray initialized with resources: {'object_store_memory': 1212844032.0, 'node:10.9.7.124': 1.0, 'memory': 2425688064.0, 'CPU': 8.0}\n",
      "25063 INFO flwr 2023-03-23 10:21:14,063 | server.py:95 | Initializing global parameters\n",
      "25063 INFO flwr 2023-03-23 10:21:14,064 | server.py:320 | Requesting initial parameters from one random client\n",
      "25063 INFO flwr 2023-03-23 10:21:15,582 | server.py:324 | Received initial parameters from one random client\n",
      "25063 INFO flwr 2023-03-23 10:21:15,582 | server.py:97 | Evaluating initial parameters\n",
      "25063 INFO flwr 2023-03-23 10:21:18,892 | server.py:100 | initial parameters (loss, other metrics): 461.43152475357056, {'accuracy': 0.1078}\n",
      "25063 INFO flwr 2023-03-23 10:21:18,892 | server.py:110 | FL starting\n",
      "25063 DEBUG flwr 2023-03-23 10:21:18,893 | server.py:255 | fit_round 1: strategy sampled 20 clients (out of 100)\n",
      "25063 DEBUG flwr 2023-03-23 10:21:49,112 | server.py:279 | fit_round 1 received 20 results and 0 failures\n",
      "25063 WARNING flwr 2023-03-23 10:21:49,172 | fedavg.py:243 | No fit_metrics_aggregation_fn provided\n",
      "25063 INFO flwr 2023-03-23 10:21:52,539 | server.py:140 | fit progress: (1, 458.0109543800354, {'accuracy': 0.1143}, 33.6458438589998)\n",
      "25063 INFO flwr 2023-03-23 10:21:52,539 | server.py:190 | evaluate_round 1: no clients selected, cancel\n",
      "25063 DEBUG flwr 2023-03-23 10:21:52,540 | server.py:255 | fit_round 2: strategy sampled 20 clients (out of 100)\n",
      "25063 DEBUG flwr 2023-03-23 10:22:24,385 | server.py:279 | fit_round 2 received 20 results and 0 failures\n",
      "25063 INFO flwr 2023-03-23 10:22:28,118 | server.py:140 | fit progress: (2, 436.0859303474426, {'accuracy': 0.1811}, 69.22519521499999)\n",
      "25063 INFO flwr 2023-03-23 10:22:28,119 | server.py:190 | evaluate_round 2: no clients selected, cancel\n",
      "25063 DEBUG flwr 2023-03-23 10:22:28,120 | server.py:255 | fit_round 3: strategy sampled 20 clients (out of 100)\n",
      "25063 DEBUG flwr 2023-03-23 10:22:41,318 | ray_client_proxy.py:87 | Task was killed due to the node running low on memory.\n",
      "Memory on the node (IP: 10.9.7.124, ID: 63092807fba7047403e33b75ce1d6944f0a33cdeb0f6efa6e0d22c6e) where the task (task ID: c5f3385a664ef8cec9074731167115517d23b7e501000000, name=launch_and_fit, pid=226977, memory used=0.05GB) was running was 7.28GB / 7.65GB (0.951504), which exceeds the memory usage threshold of 0.95. Ray killed this worker (ID: 004ca8970746f055097f28abc7be7a52d8ee73b849fe5600817ed09a) because it was the most recently scheduled task; to see more information about memory usage on this node, use `ray logs raylet.out -ip 10.9.7.124`. To see the logs of the worker, use `ray logs worker-004ca8970746f055097f28abc7be7a52d8ee73b849fe5600817ed09a*out -ip 10.9.7.124. Top 10 memory users:\n",
      "PID\tMEM(GB)\tCOMMAND\n",
      "1868\t0.60\t/usr/lib/electron19/electron /usr/lib/code/out/bootstrap-fork --type=fileWatcher\n",
      "1968\t0.52\t/usr/lib/electron19/electron /home/wash/.vscode-oss/extensions/streetsidesoftware.code-spell-checker...\n",
      "25063\t0.41\t/home/wash/LARGE/Work/L361_project/flower_fedbuff_project/venv/bin/python -m ipykernel_launcher --ip...\n",
      "2406\t0.38\t/usr/lib/firefox/firefox\n",
      "1793\t0.30\t/usr/lib/electron19/electron --type=renderer --enable-crashpad --crashpad-handler-pid=1740 --enable-...\n",
      "1831\t0.28\t/usr/lib/electron19/electron --inspect-port=0 /usr/lib/code/out/bootstrap-fork --type=extensionHost ...\n",
      "225480\t0.21\tray::IDLE\n",
      "225473\t0.20\tray::IDLE\n",
      "225478\t0.20\tray::IDLE\n",
      "225470\t0.20\tray::IDLE\n",
      "Refer to the documentation on how to address the out of memory issue: https://docs.ray.io/en/latest/ray-core/scheduling/ray-oom-prevention.html. Consider provisioning more memory on this node or reducing task parallelism by requesting more CPUs per task. To adjust the kill threshold, set the environment variable `RAY_memory_usage_threshold` when starting Ray. To disable worker killing, set the environment variable `RAY_memory_monitor_refresh_ms` to zero.\n",
      "25063 DEBUG flwr 2023-03-23 10:22:58,014 | server.py:279 | fit_round 3 received 19 results and 1 failures\n",
      "25063 INFO flwr 2023-03-23 10:23:01,812 | server.py:140 | fit progress: (3, 436.0859303474426, {'accuracy': 0.1811}, 102.9191358789999)\n",
      "25063 INFO flwr 2023-03-23 10:23:01,813 | server.py:190 | evaluate_round 3: no clients selected, cancel\n",
      "25063 DEBUG flwr 2023-03-23 10:23:01,814 | server.py:255 | fit_round 4: strategy sampled 20 clients (out of 100)\n"
     ]
    },
    {
     "name": "stdout",
     "output_type": "stream",
     "text": [
      "\u001b[2m\u001b[1m\u001b[33m(autoscaler +32m56s)\u001b[0m Warning: The following resource request cannot be scheduled right now: {'CPU': 1.0}. This is likely due to all cluster resources being claimed by actors. Consider creating fewer actors or adding more nodes to this Ray cluster.\n"
     ]
    },
    {
     "name": "stderr",
     "output_type": "stream",
     "text": [
      "\u001b[2m\u001b[33m(raylet)\u001b[0m [2023-03-23 10:23:12,627 E 217633 217633] (raylet) node_manager.cc:3040: 1 Workers (tasks / actors) killed due to memory pressure (OOM), 0 Workers crashed due to other reasons at node (ID: 63092807fba7047403e33b75ce1d6944f0a33cdeb0f6efa6e0d22c6e, IP: 10.9.7.124) over the last time period. To see more information about the Workers killed on this node, use `ray logs raylet.out -ip 10.9.7.124`\n",
      "\u001b[2m\u001b[33m(raylet)\u001b[0m \n",
      "\u001b[2m\u001b[33m(raylet)\u001b[0m Refer to the documentation on how to address the out of memory issue: https://docs.ray.io/en/latest/ray-core/scheduling/ray-oom-prevention.html. Consider provisioning more memory on this node or reducing task parallelism by requesting more CPUs per task. To adjust the kill threshold, set the environment variable `RAY_memory_usage_threshold` when starting Ray. To disable worker killing, set the environment variable `RAY_memory_monitor_refresh_ms` to zero.\n",
      "25063 DEBUG flwr 2023-03-23 10:23:33,102 | server.py:279 | fit_round 4 received 20 results and 0 failures\n",
      "25063 INFO flwr 2023-03-23 10:23:36,747 | server.py:140 | fit progress: (4, 408.2107335329056, {'accuracy': 0.2379}, 137.85364250899966)\n",
      "25063 INFO flwr 2023-03-23 10:23:36,747 | server.py:190 | evaluate_round 4: no clients selected, cancel\n",
      "25063 DEBUG flwr 2023-03-23 10:23:36,748 | server.py:255 | fit_round 5: strategy sampled 20 clients (out of 100)\n",
      "25063 DEBUG flwr 2023-03-23 10:24:06,908 | server.py:279 | fit_round 5 received 20 results and 0 failures\n",
      "25063 INFO flwr 2023-03-23 10:24:10,573 | server.py:140 | fit progress: (5, 384.7355011701584, {'accuracy': 0.2934}, 171.680278154)\n",
      "25063 INFO flwr 2023-03-23 10:24:10,574 | server.py:190 | evaluate_round 5: no clients selected, cancel\n",
      "25063 DEBUG flwr 2023-03-23 10:24:10,575 | server.py:255 | fit_round 6: strategy sampled 20 clients (out of 100)\n",
      "25063 DEBUG flwr 2023-03-23 10:24:41,901 | server.py:279 | fit_round 6 received 20 results and 0 failures\n",
      "25063 INFO flwr 2023-03-23 10:24:45,471 | server.py:140 | fit progress: (6, 370.12934470176697, {'accuracy': 0.3123}, 206.578155659)\n",
      "25063 INFO flwr 2023-03-23 10:24:45,472 | server.py:190 | evaluate_round 6: no clients selected, cancel\n",
      "25063 DEBUG flwr 2023-03-23 10:24:45,472 | server.py:255 | fit_round 7: strategy sampled 20 clients (out of 100)\n",
      "25063 DEBUG flwr 2023-03-23 10:25:16,560 | server.py:279 | fit_round 7 received 20 results and 0 failures\n",
      "25063 INFO flwr 2023-03-23 10:25:20,767 | server.py:140 | fit progress: (7, 354.4206759929657, {'accuracy': 0.3569}, 241.87365979800006)\n",
      "25063 INFO flwr 2023-03-23 10:25:20,767 | server.py:190 | evaluate_round 7: no clients selected, cancel\n",
      "25063 DEBUG flwr 2023-03-23 10:25:20,768 | server.py:255 | fit_round 8: strategy sampled 20 clients (out of 100)\n",
      "25063 DEBUG flwr 2023-03-23 10:25:51,914 | server.py:279 | fit_round 8 received 20 results and 0 failures\n",
      "25063 INFO flwr 2023-03-23 10:25:55,780 | server.py:140 | fit progress: (8, 347.2663631439209, {'accuracy': 0.3699}, 276.88705918999995)\n",
      "25063 INFO flwr 2023-03-23 10:25:55,781 | server.py:190 | evaluate_round 8: no clients selected, cancel\n",
      "25063 DEBUG flwr 2023-03-23 10:25:55,781 | server.py:255 | fit_round 9: strategy sampled 20 clients (out of 100)\n",
      "25063 DEBUG flwr 2023-03-23 10:26:25,248 | server.py:279 | fit_round 9 received 20 results and 0 failures\n",
      "25063 INFO flwr 2023-03-23 10:26:30,373 | server.py:140 | fit progress: (9, 340.2012560367584, {'accuracy': 0.3823}, 311.4798846529998)\n",
      "25063 INFO flwr 2023-03-23 10:26:30,374 | server.py:190 | evaluate_round 9: no clients selected, cancel\n",
      "25063 DEBUG flwr 2023-03-23 10:26:30,376 | server.py:255 | fit_round 10: strategy sampled 20 clients (out of 100)\n",
      "25063 DEBUG flwr 2023-03-23 10:27:02,793 | server.py:279 | fit_round 10 received 20 results and 0 failures\n",
      "25063 INFO flwr 2023-03-23 10:27:06,345 | server.py:140 | fit progress: (10, 326.55584847927094, {'accuracy': 0.4091}, 347.45247779300007)\n",
      "25063 INFO flwr 2023-03-23 10:27:06,346 | server.py:190 | evaluate_round 10: no clients selected, cancel\n",
      "25063 DEBUG flwr 2023-03-23 10:27:06,347 | server.py:255 | fit_round 11: strategy sampled 20 clients (out of 100)\n",
      "25063 DEBUG flwr 2023-03-23 10:27:36,644 | server.py:279 | fit_round 11 received 20 results and 0 failures\n",
      "25063 INFO flwr 2023-03-23 10:27:40,263 | server.py:140 | fit progress: (11, 317.50078999996185, {'accuracy': 0.4295}, 381.3700762819999)\n",
      "25063 INFO flwr 2023-03-23 10:27:40,264 | server.py:190 | evaluate_round 11: no clients selected, cancel\n",
      "25063 DEBUG flwr 2023-03-23 10:27:40,264 | server.py:255 | fit_round 12: strategy sampled 20 clients (out of 100)\n",
      "25063 DEBUG flwr 2023-03-23 10:28:12,659 | server.py:279 | fit_round 12 received 20 results and 0 failures\n",
      "25063 INFO flwr 2023-03-23 10:28:16,157 | server.py:140 | fit progress: (12, 312.49443316459656, {'accuracy': 0.446}, 417.26450908499964)\n",
      "25063 INFO flwr 2023-03-23 10:28:16,158 | server.py:190 | evaluate_round 12: no clients selected, cancel\n",
      "25063 DEBUG flwr 2023-03-23 10:28:16,159 | server.py:255 | fit_round 13: strategy sampled 20 clients (out of 100)\n",
      "25063 DEBUG flwr 2023-03-23 10:28:47,430 | server.py:279 | fit_round 13 received 20 results and 0 failures\n",
      "25063 INFO flwr 2023-03-23 10:28:50,973 | server.py:140 | fit progress: (13, 307.45409893989563, {'accuracy': 0.4454}, 452.08025271299994)\n",
      "25063 INFO flwr 2023-03-23 10:28:50,974 | server.py:190 | evaluate_round 13: no clients selected, cancel\n",
      "25063 DEBUG flwr 2023-03-23 10:28:50,975 | server.py:255 | fit_round 14: strategy sampled 20 clients (out of 100)\n",
      "25063 DEBUG flwr 2023-03-23 10:29:22,596 | server.py:279 | fit_round 14 received 20 results and 0 failures\n",
      "25063 INFO flwr 2023-03-23 10:29:26,640 | server.py:140 | fit progress: (14, 304.05627739429474, {'accuracy': 0.4571}, 487.74731656699987)\n",
      "25063 INFO flwr 2023-03-23 10:29:26,641 | server.py:190 | evaluate_round 14: no clients selected, cancel\n",
      "25063 DEBUG flwr 2023-03-23 10:29:26,642 | server.py:255 | fit_round 15: strategy sampled 20 clients (out of 100)\n",
      "25063 DEBUG flwr 2023-03-23 10:29:58,229 | server.py:279 | fit_round 15 received 20 results and 0 failures\n",
      "25063 INFO flwr 2023-03-23 10:30:02,225 | server.py:140 | fit progress: (15, 297.59807574748993, {'accuracy': 0.4733}, 523.3324629449999)\n",
      "25063 INFO flwr 2023-03-23 10:30:02,227 | server.py:190 | evaluate_round 15: no clients selected, cancel\n",
      "25063 DEBUG flwr 2023-03-23 10:30:02,228 | server.py:255 | fit_round 16: strategy sampled 20 clients (out of 100)\n"
     ]
    },
    {
     "name": "stdout",
     "output_type": "stream",
     "text": [
      "\u001b[2m\u001b[1m\u001b[33m(autoscaler +39m52s)\u001b[0m Warning: The following resource request cannot be scheduled right now: {'CPU': 1.0}. This is likely due to all cluster resources being claimed by actors. Consider creating fewer actors or adding more nodes to this Ray cluster.\n"
     ]
    },
    {
     "name": "stderr",
     "output_type": "stream",
     "text": [
      "25063 DEBUG flwr 2023-03-23 10:30:32,497 | server.py:279 | fit_round 16 received 20 results and 0 failures\n",
      "25063 INFO flwr 2023-03-23 10:30:36,616 | server.py:140 | fit progress: (16, 298.5274577140808, {'accuracy': 0.4707}, 557.7228301059995)\n",
      "25063 INFO flwr 2023-03-23 10:30:36,616 | server.py:190 | evaluate_round 16: no clients selected, cancel\n",
      "25063 DEBUG flwr 2023-03-23 10:30:36,617 | server.py:255 | fit_round 17: strategy sampled 20 clients (out of 100)\n",
      "25063 DEBUG flwr 2023-03-23 10:31:01,651 | server.py:279 | fit_round 17 received 20 results and 0 failures\n",
      "25063 INFO flwr 2023-03-23 10:31:05,656 | server.py:140 | fit progress: (17, 292.688867688179, {'accuracy': 0.4695}, 586.7634860460003)\n",
      "25063 INFO flwr 2023-03-23 10:31:05,657 | server.py:190 | evaluate_round 17: no clients selected, cancel\n",
      "25063 DEBUG flwr 2023-03-23 10:31:05,658 | server.py:255 | fit_round 18: strategy sampled 20 clients (out of 100)\n",
      "25063 DEBUG flwr 2023-03-23 10:31:32,861 | server.py:279 | fit_round 18 received 20 results and 0 failures\n",
      "25063 INFO flwr 2023-03-23 10:31:35,946 | server.py:140 | fit progress: (18, 298.3908953666687, {'accuracy': 0.4798}, 617.0535007560002)\n",
      "25063 INFO flwr 2023-03-23 10:31:35,947 | server.py:190 | evaluate_round 18: no clients selected, cancel\n",
      "25063 DEBUG flwr 2023-03-23 10:31:35,948 | server.py:255 | fit_round 19: strategy sampled 20 clients (out of 100)\n",
      "25063 DEBUG flwr 2023-03-23 10:32:09,143 | server.py:279 | fit_round 19 received 20 results and 0 failures\n",
      "25063 INFO flwr 2023-03-23 10:32:12,449 | server.py:140 | fit progress: (19, 296.2931228876114, {'accuracy': 0.4939}, 653.556327757)\n",
      "25063 INFO flwr 2023-03-23 10:32:12,451 | server.py:190 | evaluate_round 19: no clients selected, cancel\n",
      "25063 DEBUG flwr 2023-03-23 10:32:12,453 | server.py:255 | fit_round 20: strategy sampled 20 clients (out of 100)\n"
     ]
    },
    {
     "name": "stdout",
     "output_type": "stream",
     "text": [
      "\u001b[2m\u001b[1m\u001b[33m(autoscaler +42m2s)\u001b[0m Warning: The following resource request cannot be scheduled right now: {'CPU': 1.0}. This is likely due to all cluster resources being claimed by actors. Consider creating fewer actors or adding more nodes to this Ray cluster.\n"
     ]
    },
    {
     "name": "stderr",
     "output_type": "stream",
     "text": [
      "25063 DEBUG flwr 2023-03-23 10:32:24,023 | ray_client_proxy.py:87 | Task was killed due to the node running low on memory.\n",
      "Memory on the node (IP: 10.9.7.124, ID: 63092807fba7047403e33b75ce1d6944f0a33cdeb0f6efa6e0d22c6e) where the task (task ID: e800bbe86c56c30b5cafcfb9949e700fa67db8c101000000, name=launch_and_fit, pid=291611, memory used=0.05GB) was running was 7.28GB / 7.65GB (0.951467), which exceeds the memory usage threshold of 0.95. Ray killed this worker (ID: d2f4fe3f589b2e30050365b156e87a4a9dd6605224ab0c2017aa7007) because it was the most recently scheduled task; to see more information about memory usage on this node, use `ray logs raylet.out -ip 10.9.7.124`. To see the logs of the worker, use `ray logs worker-d2f4fe3f589b2e30050365b156e87a4a9dd6605224ab0c2017aa7007*out -ip 10.9.7.124. Top 10 memory users:\n",
      "PID\tMEM(GB)\tCOMMAND\n",
      "1831\t0.62\t/usr/lib/electron19/electron --inspect-port=0 /usr/lib/code/out/bootstrap-fork --type=extensionHost ...\n",
      "1868\t0.60\t/usr/lib/electron19/electron /usr/lib/code/out/bootstrap-fork --type=fileWatcher\n",
      "25063\t0.42\t/home/wash/LARGE/Work/L361_project/flower_fedbuff_project/venv/bin/python -m ipykernel_launcher --ip...\n",
      "2406\t0.37\t/usr/lib/firefox/firefox\n",
      "1793\t0.34\t/usr/lib/electron19/electron --type=renderer --enable-crashpad --crashpad-handler-pid=1740 --enable-...\n",
      "1968\t0.33\t/usr/lib/electron19/electron /home/wash/.vscode-oss/extensions/streetsidesoftware.code-spell-checker...\n",
      "2663\t0.21\t/usr/lib/firefox/firefox -contentproc -childID 3 -isForBrowser -prefsLen 30766 -prefMapSize 248609 -...\n",
      "290095\t0.20\tray::IDLE\n",
      "290098\t0.20\tray::IDLE\n",
      "290102\t0.20\tray::IDLE\n",
      "Refer to the documentation on how to address the out of memory issue: https://docs.ray.io/en/latest/ray-core/scheduling/ray-oom-prevention.html. Consider provisioning more memory on this node or reducing task parallelism by requesting more CPUs per task. To adjust the kill threshold, set the environment variable `RAY_memory_usage_threshold` when starting Ray. To disable worker killing, set the environment variable `RAY_memory_monitor_refresh_ms` to zero.\n",
      "25063 DEBUG flwr 2023-03-23 10:32:24,613 | ray_client_proxy.py:87 | Task was killed due to the node running low on memory.\n",
      "Memory on the node (IP: 10.9.7.124, ID: 63092807fba7047403e33b75ce1d6944f0a33cdeb0f6efa6e0d22c6e) where the task (task ID: df06f441c6f10567970f2c419bc0089acb9bdf9f01000000, name=launch_and_fit, pid=291618, memory used=0.05GB) was running was 7.29GB / 7.65GB (0.953201), which exceeds the memory usage threshold of 0.95. Ray killed this worker (ID: d1fc1cdaf2d64bce2f3a2e041f303958a8fde350e7e71f79bce191c9) because it was the most recently scheduled task; to see more information about memory usage on this node, use `ray logs raylet.out -ip 10.9.7.124`. To see the logs of the worker, use `ray logs worker-d1fc1cdaf2d64bce2f3a2e041f303958a8fde350e7e71f79bce191c9*out -ip 10.9.7.124. Top 10 memory users:\n",
      "PID\tMEM(GB)\tCOMMAND\n",
      "1831\t0.62\t/usr/lib/electron19/electron --inspect-port=0 /usr/lib/code/out/bootstrap-fork --type=extensionHost ...\n",
      "1868\t0.60\t/usr/lib/electron19/electron /usr/lib/code/out/bootstrap-fork --type=fileWatcher\n",
      "25063\t0.37\t/home/wash/LARGE/Work/L361_project/flower_fedbuff_project/venv/bin/python -m ipykernel_launcher --ip...\n",
      "2406\t0.37\t/usr/lib/firefox/firefox\n",
      "1793\t0.34\t/usr/lib/electron19/electron --type=renderer --enable-crashpad --crashpad-handler-pid=1740 --enable-...\n",
      "1968\t0.33\t/usr/lib/electron19/electron /home/wash/.vscode-oss/extensions/streetsidesoftware.code-spell-checker...\n",
      "2663\t0.21\t/usr/lib/firefox/firefox -contentproc -childID 3 -isForBrowser -prefsLen 30766 -prefMapSize 248609 -...\n",
      "290161\t0.20\tray::IDLE\n",
      "290095\t0.20\tray::IDLE\n",
      "290098\t0.20\tray::IDLE\n",
      "Refer to the documentation on how to address the out of memory issue: https://docs.ray.io/en/latest/ray-core/scheduling/ray-oom-prevention.html. Consider provisioning more memory on this node or reducing task parallelism by requesting more CPUs per task. To adjust the kill threshold, set the environment variable `RAY_memory_usage_threshold` when starting Ray. To disable worker killing, set the environment variable `RAY_memory_monitor_refresh_ms` to zero.\n",
      "25063 DEBUG flwr 2023-03-23 10:32:25,273 | ray_client_proxy.py:87 | Task was killed due to the node running low on memory.\n",
      "Memory on the node (IP: 10.9.7.124, ID: 63092807fba7047403e33b75ce1d6944f0a33cdeb0f6efa6e0d22c6e) where the task (task ID: b2920a0e89aefec5a5cc9c7f0cbaeb592cad790601000000, name=launch_and_fit, pid=291636, memory used=0.05GB) was running was 7.28GB / 7.65GB (0.951258), which exceeds the memory usage threshold of 0.95. Ray killed this worker (ID: 30f59eeade274e263477e2f02b8bad873074783aeffcaddf22830997) because it was the most recently scheduled task; to see more information about memory usage on this node, use `ray logs raylet.out -ip 10.9.7.124`. To see the logs of the worker, use `ray logs worker-30f59eeade274e263477e2f02b8bad873074783aeffcaddf22830997*out -ip 10.9.7.124. Top 10 memory users:\n",
      "PID\tMEM(GB)\tCOMMAND\n",
      "1831\t0.62\t/usr/lib/electron19/electron --inspect-port=0 /usr/lib/code/out/bootstrap-fork --type=extensionHost ...\n",
      "1868\t0.60\t/usr/lib/electron19/electron /usr/lib/code/out/bootstrap-fork --type=fileWatcher\n",
      "25063\t0.42\t/home/wash/LARGE/Work/L361_project/flower_fedbuff_project/venv/bin/python -m ipykernel_launcher --ip...\n",
      "2406\t0.35\t/usr/lib/firefox/firefox\n",
      "1793\t0.34\t/usr/lib/electron19/electron --type=renderer --enable-crashpad --crashpad-handler-pid=1740 --enable-...\n",
      "1968\t0.33\t/usr/lib/electron19/electron /home/wash/.vscode-oss/extensions/streetsidesoftware.code-spell-checker...\n",
      "2663\t0.21\t/usr/lib/firefox/firefox -contentproc -childID 3 -isForBrowser -prefsLen 30766 -prefMapSize 248609 -...\n",
      "290161\t0.20\tray::IDLE\n",
      "290095\t0.20\tray::IDLE\n",
      "290098\t0.20\tray::IDLE\n",
      "Refer to the documentation on how to address the out of memory issue: https://docs.ray.io/en/latest/ray-core/scheduling/ray-oom-prevention.html. Consider provisioning more memory on this node or reducing task parallelism by requesting more CPUs per task. To adjust the kill threshold, set the environment variable `RAY_memory_usage_threshold` when starting Ray. To disable worker killing, set the environment variable `RAY_memory_monitor_refresh_ms` to zero.\n",
      "25063 DEBUG flwr 2023-03-23 10:32:40,445 | server.py:279 | fit_round 20 received 17 results and 3 failures\n",
      "25063 INFO flwr 2023-03-23 10:32:43,856 | server.py:140 | fit progress: (20, 296.2931228876114, {'accuracy': 0.4939}, 684.9630318869995)\n",
      "25063 INFO flwr 2023-03-23 10:32:43,857 | server.py:190 | evaluate_round 20: no clients selected, cancel\n",
      "25063 INFO flwr 2023-03-23 10:32:43,857 | server.py:171 | FL finished in 684.9644049749995\n",
      "25063 INFO flwr 2023-03-23 10:32:43,858 | app.py:225 | app_fit: losses_distributed []\n",
      "25063 INFO flwr 2023-03-23 10:32:43,859 | app.py:226 | app_fit: metrics_distributed_fit {}\n",
      "25063 INFO flwr 2023-03-23 10:32:43,859 | app.py:227 | app_fit: metrics_distributed {}\n",
      "25063 INFO flwr 2023-03-23 10:32:43,860 | app.py:228 | app_fit: losses_centralized [(0, 461.43152475357056), (1, 458.0109543800354), (2, 436.0859303474426), (3, 436.0859303474426), (4, 408.2107335329056), (5, 384.7355011701584), (6, 370.12934470176697), (7, 354.4206759929657), (8, 347.2663631439209), (9, 340.2012560367584), (10, 326.55584847927094), (11, 317.50078999996185), (12, 312.49443316459656), (13, 307.45409893989563), (14, 304.05627739429474), (15, 297.59807574748993), (16, 298.5274577140808), (17, 292.688867688179), (18, 298.3908953666687), (19, 296.2931228876114), (20, 296.2931228876114)]\n",
      "25063 INFO flwr 2023-03-23 10:32:43,860 | app.py:229 | app_fit: metrics_centralized {'accuracy': [(0, 0.1078), (1, 0.1143), (2, 0.1811), (3, 0.1811), (4, 0.2379), (5, 0.2934), (6, 0.3123), (7, 0.3569), (8, 0.3699), (9, 0.3823), (10, 0.4091), (11, 0.4295), (12, 0.446), (13, 0.4454), (14, 0.4571), (15, 0.4733), (16, 0.4707), (17, 0.4695), (18, 0.4798), (19, 0.4939), (20, 0.4939)]}\n"
     ]
    },
    {
     "name": "stdout",
     "output_type": "stream",
     "text": [
      "Files already downloaded and verified\n",
      "Generating unified CIFAR dataset\n",
      "Class histogram for 0-th partition (alpha=1, 10 classes): [ 81  28  85 112  47  49  37   5  55   1]\n"
     ]
    },
    {
     "name": "stderr",
     "output_type": "stream",
     "text": [
      "25063 INFO flwr 2023-03-23 10:32:50,919 | app.py:146 | Starting Flower simulation, config: ServerConfig(num_rounds=20, round_timeout=None, asynchronous=False)\n",
      "2023-03-23 10:32:55,344\tINFO worker.py:1553 -- Started a local Ray instance.\n",
      "25063 INFO flwr 2023-03-23 10:32:56,707 | app.py:180 | Flower VCE: Ray initialized with resources: {'memory': 2171685275.0, 'object_store_memory': 1085842636.0, 'CPU': 8.0, 'node:10.9.7.124': 1.0}\n",
      "25063 INFO flwr 2023-03-23 10:32:56,709 | server.py:95 | Initializing global parameters\n",
      "25063 INFO flwr 2023-03-23 10:32:56,709 | server.py:320 | Requesting initial parameters from one random client\n",
      "25063 INFO flwr 2023-03-23 10:32:58,507 | server.py:324 | Received initial parameters from one random client\n",
      "25063 INFO flwr 2023-03-23 10:32:58,509 | server.py:97 | Evaluating initial parameters\n",
      "25063 INFO flwr 2023-03-23 10:33:01,906 | server.py:100 | initial parameters (loss, other metrics): 461.0742931365967, {'accuracy': 0.1015}\n",
      "25063 INFO flwr 2023-03-23 10:33:01,907 | server.py:110 | FL starting\n",
      "25063 DEBUG flwr 2023-03-23 10:33:01,908 | server.py:255 | fit_round 1: strategy sampled 5 clients (out of 100)\n",
      "25063 DEBUG flwr 2023-03-23 10:33:08,432 | server.py:279 | fit_round 1 received 5 results and 0 failures\n",
      "25063 WARNING flwr 2023-03-23 10:33:08,450 | fedavg.py:243 | No fit_metrics_aggregation_fn provided\n",
      "25063 INFO flwr 2023-03-23 10:33:12,587 | server.py:140 | fit progress: (1, 475.05558705329895, {'accuracy': 0.1057}, 10.679615037000076)\n",
      "25063 INFO flwr 2023-03-23 10:33:12,589 | server.py:190 | evaluate_round 1: no clients selected, cancel\n",
      "25063 DEBUG flwr 2023-03-23 10:33:12,589 | server.py:255 | fit_round 2: strategy sampled 5 clients (out of 100)\n",
      "25063 DEBUG flwr 2023-03-23 10:33:20,711 | server.py:279 | fit_round 2 received 5 results and 0 failures\n",
      "25063 INFO flwr 2023-03-23 10:33:24,785 | server.py:140 | fit progress: (2, 452.53621101379395, {'accuracy': 0.161}, 22.87666030299988)\n",
      "25063 INFO flwr 2023-03-23 10:33:24,785 | server.py:190 | evaluate_round 2: no clients selected, cancel\n",
      "25063 DEBUG flwr 2023-03-23 10:33:24,786 | server.py:255 | fit_round 3: strategy sampled 5 clients (out of 100)\n",
      "25063 DEBUG flwr 2023-03-23 10:33:31,817 | server.py:279 | fit_round 3 received 5 results and 0 failures\n",
      "25063 INFO flwr 2023-03-23 10:33:35,882 | server.py:140 | fit progress: (3, 434.60402607917786, {'accuracy': 0.2147}, 33.97416353300014)\n",
      "25063 INFO flwr 2023-03-23 10:33:35,883 | server.py:190 | evaluate_round 3: no clients selected, cancel\n",
      "25063 DEBUG flwr 2023-03-23 10:33:35,884 | server.py:255 | fit_round 4: strategy sampled 5 clients (out of 100)\n",
      "25063 DEBUG flwr 2023-03-23 10:33:43,552 | server.py:279 | fit_round 4 received 5 results and 0 failures\n",
      "25063 INFO flwr 2023-03-23 10:33:47,168 | server.py:140 | fit progress: (4, 415.63256430625916, {'accuracy': 0.2208}, 45.25978283600034)\n",
      "25063 INFO flwr 2023-03-23 10:33:47,169 | server.py:190 | evaluate_round 4: no clients selected, cancel\n",
      "25063 DEBUG flwr 2023-03-23 10:33:47,170 | server.py:255 | fit_round 5: strategy sampled 5 clients (out of 100)\n",
      "25063 DEBUG flwr 2023-03-23 10:33:54,793 | server.py:279 | fit_round 5 received 5 results and 0 failures\n",
      "25063 INFO flwr 2023-03-23 10:33:58,631 | server.py:140 | fit progress: (5, 420.94793474674225, {'accuracy': 0.2319}, 56.72286269800043)\n",
      "25063 INFO flwr 2023-03-23 10:33:58,631 | server.py:190 | evaluate_round 5: no clients selected, cancel\n",
      "25063 DEBUG flwr 2023-03-23 10:33:58,632 | server.py:255 | fit_round 6: strategy sampled 5 clients (out of 100)\n",
      "25063 DEBUG flwr 2023-03-23 10:34:06,046 | server.py:279 | fit_round 6 received 5 results and 0 failures\n",
      "25063 INFO flwr 2023-03-23 10:34:09,909 | server.py:140 | fit progress: (6, 472.96163046360016, {'accuracy': 0.225}, 68.00115364300018)\n",
      "25063 INFO flwr 2023-03-23 10:34:09,910 | server.py:190 | evaluate_round 6: no clients selected, cancel\n",
      "25063 DEBUG flwr 2023-03-23 10:34:09,910 | server.py:255 | fit_round 7: strategy sampled 5 clients (out of 100)\n",
      "25063 DEBUG flwr 2023-03-23 10:34:17,506 | server.py:279 | fit_round 7 received 5 results and 0 failures\n",
      "25063 INFO flwr 2023-03-23 10:34:21,450 | server.py:140 | fit progress: (7, 382.4647054672241, {'accuracy': 0.2847}, 79.54232510400016)\n",
      "25063 INFO flwr 2023-03-23 10:34:21,451 | server.py:190 | evaluate_round 7: no clients selected, cancel\n",
      "25063 DEBUG flwr 2023-03-23 10:34:21,452 | server.py:255 | fit_round 8: strategy sampled 5 clients (out of 100)\n",
      "25063 DEBUG flwr 2023-03-23 10:34:28,974 | server.py:279 | fit_round 8 received 5 results and 0 failures\n",
      "25063 INFO flwr 2023-03-23 10:34:32,601 | server.py:140 | fit progress: (8, 374.87976038455963, {'accuracy': 0.3227}, 90.69324497900016)\n",
      "25063 INFO flwr 2023-03-23 10:34:32,602 | server.py:190 | evaluate_round 8: no clients selected, cancel\n",
      "25063 DEBUG flwr 2023-03-23 10:34:32,603 | server.py:255 | fit_round 9: strategy sampled 5 clients (out of 100)\n",
      "25063 DEBUG flwr 2023-03-23 10:34:40,393 | server.py:279 | fit_round 9 received 5 results and 0 failures\n",
      "25063 INFO flwr 2023-03-23 10:34:44,496 | server.py:140 | fit progress: (9, 360.8685690164566, {'accuracy': 0.3113}, 102.5884922209998)\n",
      "25063 INFO flwr 2023-03-23 10:34:44,497 | server.py:190 | evaluate_round 9: no clients selected, cancel\n",
      "25063 DEBUG flwr 2023-03-23 10:34:44,498 | server.py:255 | fit_round 10: strategy sampled 5 clients (out of 100)\n",
      "25063 DEBUG flwr 2023-03-23 10:34:51,227 | server.py:279 | fit_round 10 received 5 results and 0 failures\n",
      "25063 INFO flwr 2023-03-23 10:34:54,566 | server.py:140 | fit progress: (10, 353.81953477859497, {'accuracy': 0.3537}, 112.6576313530004)\n",
      "25063 INFO flwr 2023-03-23 10:34:54,567 | server.py:190 | evaluate_round 10: no clients selected, cancel\n",
      "25063 DEBUG flwr 2023-03-23 10:34:54,568 | server.py:255 | fit_round 11: strategy sampled 5 clients (out of 100)\n",
      "25063 DEBUG flwr 2023-03-23 10:35:01,350 | server.py:279 | fit_round 11 received 5 results and 0 failures\n",
      "25063 INFO flwr 2023-03-23 10:35:04,933 | server.py:140 | fit progress: (11, 363.0007812976837, {'accuracy': 0.3434}, 123.0252824019999)\n",
      "25063 INFO flwr 2023-03-23 10:35:04,934 | server.py:190 | evaluate_round 11: no clients selected, cancel\n",
      "25063 DEBUG flwr 2023-03-23 10:35:04,935 | server.py:255 | fit_round 12: strategy sampled 5 clients (out of 100)\n",
      "25063 DEBUG flwr 2023-03-23 10:35:11,993 | server.py:279 | fit_round 12 received 5 results and 0 failures\n",
      "25063 INFO flwr 2023-03-23 10:35:15,020 | server.py:140 | fit progress: (12, 346.2720659971237, {'accuracy': 0.3769}, 133.11205180700017)\n",
      "25063 INFO flwr 2023-03-23 10:35:15,021 | server.py:190 | evaluate_round 12: no clients selected, cancel\n",
      "25063 DEBUG flwr 2023-03-23 10:35:15,021 | server.py:255 | fit_round 13: strategy sampled 5 clients (out of 100)\n",
      "25063 DEBUG flwr 2023-03-23 10:35:20,665 | server.py:279 | fit_round 13 received 5 results and 0 failures\n",
      "25063 INFO flwr 2023-03-23 10:35:23,593 | server.py:140 | fit progress: (13, 342.67589235305786, {'accuracy': 0.366}, 141.68503791500007)\n",
      "25063 INFO flwr 2023-03-23 10:35:23,594 | server.py:190 | evaluate_round 13: no clients selected, cancel\n",
      "25063 DEBUG flwr 2023-03-23 10:35:23,594 | server.py:255 | fit_round 14: strategy sampled 5 clients (out of 100)\n",
      "25063 DEBUG flwr 2023-03-23 10:35:29,383 | server.py:279 | fit_round 14 received 5 results and 0 failures\n",
      "25063 INFO flwr 2023-03-23 10:35:32,997 | server.py:140 | fit progress: (14, 324.63672637939453, {'accuracy': 0.4213}, 151.08955781900022)\n",
      "25063 INFO flwr 2023-03-23 10:35:32,998 | server.py:190 | evaluate_round 14: no clients selected, cancel\n",
      "25063 DEBUG flwr 2023-03-23 10:35:33,000 | server.py:255 | fit_round 15: strategy sampled 5 clients (out of 100)\n",
      "25063 DEBUG flwr 2023-03-23 10:35:39,806 | server.py:279 | fit_round 15 received 5 results and 0 failures\n",
      "25063 INFO flwr 2023-03-23 10:35:43,528 | server.py:140 | fit progress: (15, 351.49512708187103, {'accuracy': 0.3872}, 161.62016657700042)\n",
      "25063 INFO flwr 2023-03-23 10:35:43,529 | server.py:190 | evaluate_round 15: no clients selected, cancel\n",
      "25063 DEBUG flwr 2023-03-23 10:35:43,530 | server.py:255 | fit_round 16: strategy sampled 5 clients (out of 100)\n",
      "25063 DEBUG flwr 2023-03-23 10:35:50,810 | server.py:279 | fit_round 16 received 5 results and 0 failures\n",
      "25063 INFO flwr 2023-03-23 10:35:54,580 | server.py:140 | fit progress: (16, 370.1062500476837, {'accuracy': 0.3527}, 172.67248661200028)\n",
      "25063 INFO flwr 2023-03-23 10:35:54,581 | server.py:190 | evaluate_round 16: no clients selected, cancel\n",
      "25063 DEBUG flwr 2023-03-23 10:35:54,582 | server.py:255 | fit_round 17: strategy sampled 5 clients (out of 100)\n",
      "25063 DEBUG flwr 2023-03-23 10:36:01,363 | server.py:279 | fit_round 17 received 5 results and 0 failures\n",
      "25063 INFO flwr 2023-03-23 10:36:04,904 | server.py:140 | fit progress: (17, 335.2185482978821, {'accuracy': 0.4106}, 182.99638024900014)\n",
      "25063 INFO flwr 2023-03-23 10:36:04,905 | server.py:190 | evaluate_round 17: no clients selected, cancel\n",
      "25063 DEBUG flwr 2023-03-23 10:36:04,906 | server.py:255 | fit_round 18: strategy sampled 5 clients (out of 100)\n",
      "25063 DEBUG flwr 2023-03-23 10:36:11,698 | server.py:279 | fit_round 18 received 5 results and 0 failures\n",
      "25063 INFO flwr 2023-03-23 10:36:15,346 | server.py:140 | fit progress: (18, 335.08084058761597, {'accuracy': 0.4149}, 193.4378893969997)\n",
      "25063 INFO flwr 2023-03-23 10:36:15,347 | server.py:190 | evaluate_round 18: no clients selected, cancel\n",
      "25063 DEBUG flwr 2023-03-23 10:36:15,347 | server.py:255 | fit_round 19: strategy sampled 5 clients (out of 100)\n",
      "25063 DEBUG flwr 2023-03-23 10:36:21,899 | server.py:279 | fit_round 19 received 5 results and 0 failures\n",
      "25063 INFO flwr 2023-03-23 10:36:25,730 | server.py:140 | fit progress: (19, 409.48680901527405, {'accuracy': 0.339}, 203.8221747460002)\n",
      "25063 INFO flwr 2023-03-23 10:36:25,731 | server.py:190 | evaluate_round 19: no clients selected, cancel\n",
      "25063 DEBUG flwr 2023-03-23 10:36:25,731 | server.py:255 | fit_round 20: strategy sampled 5 clients (out of 100)\n",
      "25063 DEBUG flwr 2023-03-23 10:36:32,814 | server.py:279 | fit_round 20 received 5 results and 0 failures\n",
      "25063 INFO flwr 2023-03-23 10:36:36,387 | server.py:140 | fit progress: (20, 337.15199160575867, {'accuracy': 0.3905}, 214.47916978299963)\n",
      "25063 INFO flwr 2023-03-23 10:36:36,388 | server.py:190 | evaluate_round 20: no clients selected, cancel\n",
      "25063 INFO flwr 2023-03-23 10:36:36,389 | server.py:171 | FL finished in 214.4814488230004\n",
      "25063 INFO flwr 2023-03-23 10:36:36,390 | app.py:225 | app_fit: losses_distributed []\n",
      "25063 INFO flwr 2023-03-23 10:36:36,391 | app.py:226 | app_fit: metrics_distributed_fit {}\n",
      "25063 INFO flwr 2023-03-23 10:36:36,391 | app.py:227 | app_fit: metrics_distributed {}\n",
      "25063 INFO flwr 2023-03-23 10:36:36,392 | app.py:228 | app_fit: losses_centralized [(0, 461.0742931365967), (1, 475.05558705329895), (2, 452.53621101379395), (3, 434.60402607917786), (4, 415.63256430625916), (5, 420.94793474674225), (6, 472.96163046360016), (7, 382.4647054672241), (8, 374.87976038455963), (9, 360.8685690164566), (10, 353.81953477859497), (11, 363.0007812976837), (12, 346.2720659971237), (13, 342.67589235305786), (14, 324.63672637939453), (15, 351.49512708187103), (16, 370.1062500476837), (17, 335.2185482978821), (18, 335.08084058761597), (19, 409.48680901527405), (20, 337.15199160575867)]\n",
      "25063 INFO flwr 2023-03-23 10:36:36,392 | app.py:229 | app_fit: metrics_centralized {'accuracy': [(0, 0.1015), (1, 0.1057), (2, 0.161), (3, 0.2147), (4, 0.2208), (5, 0.2319), (6, 0.225), (7, 0.2847), (8, 0.3227), (9, 0.3113), (10, 0.3537), (11, 0.3434), (12, 0.3769), (13, 0.366), (14, 0.4213), (15, 0.3872), (16, 0.3527), (17, 0.4106), (18, 0.4149), (19, 0.339), (20, 0.3905)]}\n"
     ]
    },
    {
     "name": "stdout",
     "output_type": "stream",
     "text": [
      "Files already downloaded and verified\n",
      "Generating unified CIFAR dataset\n",
      "Class histogram for 0-th partition (alpha=1, 10 classes): [ 45 147   8  73   6 127   0  66  20   8]\n"
     ]
    },
    {
     "name": "stderr",
     "output_type": "stream",
     "text": [
      "25063 INFO flwr 2023-03-23 10:36:43,153 | app.py:146 | Starting Flower simulation, config: ServerConfig(num_rounds=20, round_timeout=None, asynchronous=False)\n",
      "2023-03-23 10:36:47,580\tINFO worker.py:1553 -- Started a local Ray instance.\n",
      "25063 INFO flwr 2023-03-23 10:36:48,830 | app.py:180 | Flower VCE: Ray initialized with resources: {'memory': 2989640910.0, 'node:10.9.7.124': 1.0, 'object_store_memory': 1494820454.0, 'CPU': 8.0}\n",
      "25063 INFO flwr 2023-03-23 10:36:48,832 | server.py:95 | Initializing global parameters\n",
      "25063 INFO flwr 2023-03-23 10:36:48,832 | server.py:320 | Requesting initial parameters from one random client\n",
      "25063 INFO flwr 2023-03-23 10:36:50,487 | server.py:324 | Received initial parameters from one random client\n",
      "25063 INFO flwr 2023-03-23 10:36:50,489 | server.py:97 | Evaluating initial parameters\n",
      "25063 INFO flwr 2023-03-23 10:36:53,308 | server.py:100 | initial parameters (loss, other metrics): 460.92807626724243, {'accuracy': 0.1012}\n",
      "25063 INFO flwr 2023-03-23 10:36:53,309 | server.py:110 | FL starting\n",
      "25063 DEBUG flwr 2023-03-23 10:36:53,310 | server.py:255 | fit_round 1: strategy sampled 10 clients (out of 100)\n",
      "25063 DEBUG flwr 2023-03-23 10:37:07,792 | server.py:279 | fit_round 1 received 10 results and 0 failures\n",
      "25063 WARNING flwr 2023-03-23 10:37:07,817 | fedavg.py:243 | No fit_metrics_aggregation_fn provided\n",
      "25063 INFO flwr 2023-03-23 10:37:11,211 | server.py:140 | fit progress: (1, 456.3194398880005, {'accuracy': 0.1007}, 17.90161261100002)\n",
      "25063 INFO flwr 2023-03-23 10:37:11,212 | server.py:190 | evaluate_round 1: no clients selected, cancel\n",
      "25063 DEBUG flwr 2023-03-23 10:37:11,213 | server.py:255 | fit_round 2: strategy sampled 10 clients (out of 100)\n",
      "25063 DEBUG flwr 2023-03-23 10:37:26,759 | server.py:279 | fit_round 2 received 10 results and 0 failures\n",
      "25063 INFO flwr 2023-03-23 10:37:30,210 | server.py:140 | fit progress: (2, 427.550292134285, {'accuracy': 0.2236}, 36.89989946300011)\n",
      "25063 INFO flwr 2023-03-23 10:37:30,211 | server.py:190 | evaluate_round 2: no clients selected, cancel\n",
      "25063 DEBUG flwr 2023-03-23 10:37:30,212 | server.py:255 | fit_round 3: strategy sampled 10 clients (out of 100)\n",
      "25063 DEBUG flwr 2023-03-23 10:37:45,307 | server.py:279 | fit_round 3 received 10 results and 0 failures\n",
      "25063 INFO flwr 2023-03-23 10:37:48,380 | server.py:140 | fit progress: (3, 408.0652096271515, {'accuracy': 0.2125}, 55.07032211099977)\n",
      "25063 INFO flwr 2023-03-23 10:37:48,381 | server.py:190 | evaluate_round 3: no clients selected, cancel\n",
      "25063 DEBUG flwr 2023-03-23 10:37:48,382 | server.py:255 | fit_round 4: strategy sampled 10 clients (out of 100)\n",
      "25063 DEBUG flwr 2023-03-23 10:38:03,071 | server.py:279 | fit_round 4 received 10 results and 0 failures\n",
      "25063 INFO flwr 2023-03-23 10:38:06,161 | server.py:140 | fit progress: (4, 387.40098118782043, {'accuracy': 0.2834}, 72.85150678700029)\n",
      "25063 INFO flwr 2023-03-23 10:38:06,162 | server.py:190 | evaluate_round 4: no clients selected, cancel\n",
      "25063 DEBUG flwr 2023-03-23 10:38:06,163 | server.py:255 | fit_round 5: strategy sampled 10 clients (out of 100)\n",
      "25063 DEBUG flwr 2023-03-23 10:38:20,782 | server.py:279 | fit_round 5 received 10 results and 0 failures\n",
      "25063 INFO flwr 2023-03-23 10:38:24,049 | server.py:140 | fit progress: (5, 372.2209950685501, {'accuracy': 0.3067}, 90.73890049500005)\n",
      "25063 INFO flwr 2023-03-23 10:38:24,049 | server.py:190 | evaluate_round 5: no clients selected, cancel\n",
      "25063 DEBUG flwr 2023-03-23 10:38:24,050 | server.py:255 | fit_round 6: strategy sampled 10 clients (out of 100)\n",
      "25063 DEBUG flwr 2023-03-23 10:38:40,153 | server.py:279 | fit_round 6 received 10 results and 0 failures\n",
      "25063 INFO flwr 2023-03-23 10:38:43,571 | server.py:140 | fit progress: (6, 389.6082763671875, {'accuracy': 0.2833}, 110.26079540000046)\n",
      "25063 INFO flwr 2023-03-23 10:38:43,571 | server.py:190 | evaluate_round 6: no clients selected, cancel\n",
      "25063 DEBUG flwr 2023-03-23 10:38:43,572 | server.py:255 | fit_round 7: strategy sampled 10 clients (out of 100)\n",
      "25063 DEBUG flwr 2023-03-23 10:38:58,420 | server.py:279 | fit_round 7 received 10 results and 0 failures\n",
      "25063 INFO flwr 2023-03-23 10:39:01,526 | server.py:140 | fit progress: (7, 360.99187910556793, {'accuracy': 0.3196}, 128.21595090400024)\n",
      "25063 INFO flwr 2023-03-23 10:39:01,526 | server.py:190 | evaluate_round 7: no clients selected, cancel\n",
      "25063 DEBUG flwr 2023-03-23 10:39:01,527 | server.py:255 | fit_round 8: strategy sampled 10 clients (out of 100)\n",
      "25063 DEBUG flwr 2023-03-23 10:39:15,478 | server.py:279 | fit_round 8 received 10 results and 0 failures\n",
      "25063 INFO flwr 2023-03-23 10:39:18,849 | server.py:140 | fit progress: (8, 362.4030692577362, {'accuracy': 0.3447}, 145.539506481)\n",
      "25063 INFO flwr 2023-03-23 10:39:18,850 | server.py:190 | evaluate_round 8: no clients selected, cancel\n",
      "25063 DEBUG flwr 2023-03-23 10:39:18,851 | server.py:255 | fit_round 9: strategy sampled 10 clients (out of 100)\n",
      "25063 DEBUG flwr 2023-03-23 10:39:33,169 | server.py:279 | fit_round 9 received 10 results and 0 failures\n",
      "25063 INFO flwr 2023-03-23 10:39:36,228 | server.py:140 | fit progress: (9, 351.88562285900116, {'accuracy': 0.3537}, 162.91856689199994)\n",
      "25063 INFO flwr 2023-03-23 10:39:36,229 | server.py:190 | evaluate_round 9: no clients selected, cancel\n",
      "25063 DEBUG flwr 2023-03-23 10:39:36,230 | server.py:255 | fit_round 10: strategy sampled 10 clients (out of 100)\n",
      "25063 DEBUG flwr 2023-03-23 10:39:50,208 | server.py:279 | fit_round 10 received 10 results and 0 failures\n",
      "25063 INFO flwr 2023-03-23 10:39:53,314 | server.py:140 | fit progress: (10, 352.9527920484543, {'accuracy': 0.3478}, 180.00460581700008)\n",
      "25063 INFO flwr 2023-03-23 10:39:53,315 | server.py:190 | evaluate_round 10: no clients selected, cancel\n",
      "25063 DEBUG flwr 2023-03-23 10:39:53,316 | server.py:255 | fit_round 11: strategy sampled 10 clients (out of 100)\n",
      "25063 DEBUG flwr 2023-03-23 10:40:07,854 | server.py:279 | fit_round 11 received 10 results and 0 failures\n",
      "25063 INFO flwr 2023-03-23 10:40:10,943 | server.py:140 | fit progress: (11, 340.8998577594757, {'accuracy': 0.3756}, 197.6327972400004)\n",
      "25063 INFO flwr 2023-03-23 10:40:10,943 | server.py:190 | evaluate_round 11: no clients selected, cancel\n",
      "25063 DEBUG flwr 2023-03-23 10:40:10,944 | server.py:255 | fit_round 12: strategy sampled 10 clients (out of 100)\n",
      "25063 DEBUG flwr 2023-03-23 10:40:25,393 | server.py:279 | fit_round 12 received 10 results and 0 failures\n",
      "25063 INFO flwr 2023-03-23 10:40:28,631 | server.py:140 | fit progress: (12, 334.7319291830063, {'accuracy': 0.3879}, 215.32109717000003)\n",
      "25063 INFO flwr 2023-03-23 10:40:28,632 | server.py:190 | evaluate_round 12: no clients selected, cancel\n",
      "25063 DEBUG flwr 2023-03-23 10:40:28,632 | server.py:255 | fit_round 13: strategy sampled 10 clients (out of 100)\n",
      "25063 DEBUG flwr 2023-03-23 10:40:42,779 | server.py:279 | fit_round 13 received 10 results and 0 failures\n",
      "25063 INFO flwr 2023-03-23 10:40:45,841 | server.py:140 | fit progress: (13, 342.388622879982, {'accuracy': 0.3933}, 232.53127574500013)\n",
      "25063 INFO flwr 2023-03-23 10:40:45,842 | server.py:190 | evaluate_round 13: no clients selected, cancel\n",
      "25063 DEBUG flwr 2023-03-23 10:40:45,843 | server.py:255 | fit_round 14: strategy sampled 10 clients (out of 100)\n",
      "25063 DEBUG flwr 2023-03-23 10:41:00,282 | server.py:279 | fit_round 14 received 10 results and 0 failures\n",
      "25063 INFO flwr 2023-03-23 10:41:03,473 | server.py:140 | fit progress: (14, 343.3942246437073, {'accuracy': 0.3879}, 250.1628596010005)\n",
      "25063 INFO flwr 2023-03-23 10:41:03,474 | server.py:190 | evaluate_round 14: no clients selected, cancel\n",
      "25063 DEBUG flwr 2023-03-23 10:41:03,474 | server.py:255 | fit_round 15: strategy sampled 10 clients (out of 100)\n",
      "25063 DEBUG flwr 2023-03-23 10:41:19,480 | server.py:279 | fit_round 15 received 10 results and 0 failures\n",
      "25063 INFO flwr 2023-03-23 10:41:22,798 | server.py:140 | fit progress: (15, 332.4877487421036, {'accuracy': 0.4002}, 269.488026473)\n",
      "25063 INFO flwr 2023-03-23 10:41:22,799 | server.py:190 | evaluate_round 15: no clients selected, cancel\n",
      "25063 DEBUG flwr 2023-03-23 10:41:22,800 | server.py:255 | fit_round 16: strategy sampled 10 clients (out of 100)\n",
      "25063 DEBUG flwr 2023-03-23 10:41:38,265 | server.py:279 | fit_round 16 received 10 results and 0 failures\n",
      "25063 INFO flwr 2023-03-23 10:41:41,471 | server.py:140 | fit progress: (16, 322.8648991584778, {'accuracy': 0.4177}, 288.1608050470004)\n",
      "25063 INFO flwr 2023-03-23 10:41:41,471 | server.py:190 | evaluate_round 16: no clients selected, cancel\n",
      "25063 DEBUG flwr 2023-03-23 10:41:41,472 | server.py:255 | fit_round 17: strategy sampled 10 clients (out of 100)\n",
      "25063 DEBUG flwr 2023-03-23 10:41:57,488 | server.py:279 | fit_round 17 received 10 results and 0 failures\n",
      "25063 INFO flwr 2023-03-23 10:42:00,659 | server.py:140 | fit progress: (17, 466.51023256778717, {'accuracy': 0.2998}, 307.34890740799983)\n",
      "25063 INFO flwr 2023-03-23 10:42:00,660 | server.py:190 | evaluate_round 17: no clients selected, cancel\n",
      "25063 DEBUG flwr 2023-03-23 10:42:00,660 | server.py:255 | fit_round 18: strategy sampled 10 clients (out of 100)\n",
      "25063 DEBUG flwr 2023-03-23 10:42:15,683 | server.py:279 | fit_round 18 received 10 results and 0 failures\n",
      "25063 INFO flwr 2023-03-23 10:42:19,231 | server.py:140 | fit progress: (18, 309.2685605287552, {'accuracy': 0.4415}, 325.92103005100034)\n",
      "25063 INFO flwr 2023-03-23 10:42:19,232 | server.py:190 | evaluate_round 18: no clients selected, cancel\n",
      "25063 DEBUG flwr 2023-03-23 10:42:19,232 | server.py:255 | fit_round 19: strategy sampled 10 clients (out of 100)\n",
      "25063 DEBUG flwr 2023-03-23 10:42:35,224 | server.py:279 | fit_round 19 received 10 results and 0 failures\n",
      "25063 INFO flwr 2023-03-23 10:42:38,510 | server.py:140 | fit progress: (19, 328.4645322561264, {'accuracy': 0.448}, 345.20046327399996)\n",
      "25063 INFO flwr 2023-03-23 10:42:38,511 | server.py:190 | evaluate_round 19: no clients selected, cancel\n",
      "25063 DEBUG flwr 2023-03-23 10:42:38,512 | server.py:255 | fit_round 20: strategy sampled 10 clients (out of 100)\n",
      "25063 DEBUG flwr 2023-03-23 10:42:54,346 | server.py:279 | fit_round 20 received 10 results and 0 failures\n",
      "25063 INFO flwr 2023-03-23 10:42:57,605 | server.py:140 | fit progress: (20, 320.29392206668854, {'accuracy': 0.4293}, 364.29506671000036)\n",
      "25063 INFO flwr 2023-03-23 10:42:57,606 | server.py:190 | evaluate_round 20: no clients selected, cancel\n",
      "25063 INFO flwr 2023-03-23 10:42:57,606 | server.py:171 | FL finished in 364.29643508699974\n",
      "25063 INFO flwr 2023-03-23 10:42:57,607 | app.py:225 | app_fit: losses_distributed []\n",
      "25063 INFO flwr 2023-03-23 10:42:57,608 | app.py:226 | app_fit: metrics_distributed_fit {}\n",
      "25063 INFO flwr 2023-03-23 10:42:57,608 | app.py:227 | app_fit: metrics_distributed {}\n",
      "25063 INFO flwr 2023-03-23 10:42:57,609 | app.py:228 | app_fit: losses_centralized [(0, 460.92807626724243), (1, 456.3194398880005), (2, 427.550292134285), (3, 408.0652096271515), (4, 387.40098118782043), (5, 372.2209950685501), (6, 389.6082763671875), (7, 360.99187910556793), (8, 362.4030692577362), (9, 351.88562285900116), (10, 352.9527920484543), (11, 340.8998577594757), (12, 334.7319291830063), (13, 342.388622879982), (14, 343.3942246437073), (15, 332.4877487421036), (16, 322.8648991584778), (17, 466.51023256778717), (18, 309.2685605287552), (19, 328.4645322561264), (20, 320.29392206668854)]\n",
      "25063 INFO flwr 2023-03-23 10:42:57,610 | app.py:229 | app_fit: metrics_centralized {'accuracy': [(0, 0.1012), (1, 0.1007), (2, 0.2236), (3, 0.2125), (4, 0.2834), (5, 0.3067), (6, 0.2833), (7, 0.3196), (8, 0.3447), (9, 0.3537), (10, 0.3478), (11, 0.3756), (12, 0.3879), (13, 0.3933), (14, 0.3879), (15, 0.4002), (16, 0.4177), (17, 0.2998), (18, 0.4415), (19, 0.448), (20, 0.4293)]}\n"
     ]
    },
    {
     "name": "stdout",
     "output_type": "stream",
     "text": [
      "Files already downloaded and verified\n",
      "Generating unified CIFAR dataset\n",
      "Class histogram for 0-th partition (alpha=1, 10 classes): [ 89  40   9  81  12  42  11 117  95   4]\n"
     ]
    },
    {
     "name": "stderr",
     "output_type": "stream",
     "text": [
      "25063 INFO flwr 2023-03-23 10:43:04,063 | app.py:146 | Starting Flower simulation, config: ServerConfig(num_rounds=20, round_timeout=None, asynchronous=False)\n",
      "2023-03-23 10:43:07,841\tINFO worker.py:1553 -- Started a local Ray instance.\n",
      "25063 INFO flwr 2023-03-23 10:43:09,111 | app.py:180 | Flower VCE: Ray initialized with resources: {'CPU': 8.0, 'object_store_memory': 1399184179.0, 'node:10.9.7.124': 1.0, 'memory': 2798368359.0}\n",
      "25063 INFO flwr 2023-03-23 10:43:09,113 | server.py:95 | Initializing global parameters\n",
      "25063 INFO flwr 2023-03-23 10:43:09,113 | server.py:320 | Requesting initial parameters from one random client\n",
      "25063 INFO flwr 2023-03-23 10:43:10,751 | server.py:324 | Received initial parameters from one random client\n",
      "25063 INFO flwr 2023-03-23 10:43:10,753 | server.py:97 | Evaluating initial parameters\n",
      "25063 INFO flwr 2023-03-23 10:43:14,040 | server.py:100 | initial parameters (loss, other metrics): 461.84979462623596, {'accuracy': 0.0778}\n",
      "25063 INFO flwr 2023-03-23 10:43:14,041 | server.py:110 | FL starting\n",
      "25063 DEBUG flwr 2023-03-23 10:43:14,041 | server.py:255 | fit_round 1: strategy sampled 20 clients (out of 100)\n",
      "25063 DEBUG flwr 2023-03-23 10:43:40,986 | server.py:279 | fit_round 1 received 20 results and 0 failures\n",
      "25063 WARNING flwr 2023-03-23 10:43:41,036 | fedavg.py:243 | No fit_metrics_aggregation_fn provided\n",
      "25063 INFO flwr 2023-03-23 10:43:44,391 | server.py:140 | fit progress: (1, 455.03981828689575, {'accuracy': 0.1639}, 30.349346210000476)\n",
      "25063 INFO flwr 2023-03-23 10:43:44,391 | server.py:190 | evaluate_round 1: no clients selected, cancel\n",
      "25063 DEBUG flwr 2023-03-23 10:43:44,392 | server.py:255 | fit_round 2: strategy sampled 20 clients (out of 100)\n",
      "25063 DEBUG flwr 2023-03-23 10:44:14,511 | server.py:279 | fit_round 2 received 20 results and 0 failures\n",
      "25063 INFO flwr 2023-03-23 10:44:17,935 | server.py:140 | fit progress: (2, 430.02095103263855, {'accuracy': 0.1998}, 63.89379901600023)\n",
      "25063 INFO flwr 2023-03-23 10:44:17,936 | server.py:190 | evaluate_round 2: no clients selected, cancel\n",
      "25063 DEBUG flwr 2023-03-23 10:44:17,937 | server.py:255 | fit_round 3: strategy sampled 20 clients (out of 100)\n",
      "25063 DEBUG flwr 2023-03-23 10:44:44,968 | server.py:279 | fit_round 3 received 20 results and 0 failures\n",
      "25063 INFO flwr 2023-03-23 10:44:49,464 | server.py:140 | fit progress: (3, 409.3078911304474, {'accuracy': 0.2545}, 95.42248168600054)\n",
      "25063 INFO flwr 2023-03-23 10:44:49,465 | server.py:190 | evaluate_round 3: no clients selected, cancel\n",
      "25063 DEBUG flwr 2023-03-23 10:44:49,466 | server.py:255 | fit_round 4: strategy sampled 20 clients (out of 100)\n",
      "25063 DEBUG flwr 2023-03-23 10:45:19,574 | server.py:279 | fit_round 4 received 20 results and 0 failures\n",
      "25063 INFO flwr 2023-03-23 10:45:22,865 | server.py:140 | fit progress: (4, 386.1577937602997, {'accuracy': 0.3043}, 128.82369891600047)\n",
      "25063 INFO flwr 2023-03-23 10:45:22,866 | server.py:190 | evaluate_round 4: no clients selected, cancel\n",
      "25063 DEBUG flwr 2023-03-23 10:45:22,867 | server.py:255 | fit_round 5: strategy sampled 20 clients (out of 100)\n",
      "25063 DEBUG flwr 2023-03-23 10:45:52,014 | server.py:279 | fit_round 5 received 20 results and 0 failures\n",
      "25063 INFO flwr 2023-03-23 10:45:55,671 | server.py:140 | fit progress: (5, 381.61243546009064, {'accuracy': 0.3084}, 161.62942760700025)\n",
      "25063 INFO flwr 2023-03-23 10:45:55,673 | server.py:190 | evaluate_round 5: no clients selected, cancel\n",
      "25063 DEBUG flwr 2023-03-23 10:45:55,673 | server.py:255 | fit_round 6: strategy sampled 20 clients (out of 100)\n",
      "25063 DEBUG flwr 2023-03-23 10:46:23,852 | server.py:279 | fit_round 6 received 20 results and 0 failures\n",
      "25063 INFO flwr 2023-03-23 10:46:27,052 | server.py:140 | fit progress: (6, 363.55278635025024, {'accuracy': 0.3253}, 193.0106487029998)\n",
      "25063 INFO flwr 2023-03-23 10:46:27,053 | server.py:190 | evaluate_round 6: no clients selected, cancel\n",
      "25063 DEBUG flwr 2023-03-23 10:46:27,053 | server.py:255 | fit_round 7: strategy sampled 20 clients (out of 100)\n"
     ]
    },
    {
     "name": "stdout",
     "output_type": "stream",
     "text": [
      "\u001b[2m\u001b[1m\u001b[33m(autoscaler +56m16s)\u001b[0m Warning: The following resource request cannot be scheduled right now: {'CPU': 1.0}. This is likely due to all cluster resources being claimed by actors. Consider creating fewer actors or adding more nodes to this Ray cluster.\n"
     ]
    },
    {
     "name": "stderr",
     "output_type": "stream",
     "text": [
      "25063 DEBUG flwr 2023-03-23 10:46:55,977 | server.py:279 | fit_round 7 received 20 results and 0 failures\n",
      "25063 INFO flwr 2023-03-23 10:46:59,389 | server.py:140 | fit progress: (7, 350.64702677726746, {'accuracy': 0.3612}, 225.34807881300003)\n",
      "25063 INFO flwr 2023-03-23 10:46:59,390 | server.py:190 | evaluate_round 7: no clients selected, cancel\n",
      "25063 DEBUG flwr 2023-03-23 10:46:59,391 | server.py:255 | fit_round 8: strategy sampled 20 clients (out of 100)\n",
      "25063 DEBUG flwr 2023-03-23 10:47:28,451 | server.py:279 | fit_round 8 received 20 results and 0 failures\n",
      "25063 INFO flwr 2023-03-23 10:47:32,347 | server.py:140 | fit progress: (8, 350.9291926622391, {'accuracy': 0.349}, 258.30585827699997)\n",
      "25063 INFO flwr 2023-03-23 10:47:32,349 | server.py:190 | evaluate_round 8: no clients selected, cancel\n",
      "25063 DEBUG flwr 2023-03-23 10:47:32,350 | server.py:255 | fit_round 9: strategy sampled 20 clients (out of 100)\n",
      "25063 DEBUG flwr 2023-03-23 10:48:01,111 | server.py:279 | fit_round 9 received 20 results and 0 failures\n",
      "25063 INFO flwr 2023-03-23 10:48:04,970 | server.py:140 | fit progress: (9, 339.9953340291977, {'accuracy': 0.3718}, 290.9285203240006)\n",
      "25063 INFO flwr 2023-03-23 10:48:04,971 | server.py:190 | evaluate_round 9: no clients selected, cancel\n",
      "25063 DEBUG flwr 2023-03-23 10:48:04,971 | server.py:255 | fit_round 10: strategy sampled 20 clients (out of 100)\n",
      "25063 DEBUG flwr 2023-03-23 10:48:34,424 | server.py:279 | fit_round 10 received 20 results and 0 failures\n",
      "25063 INFO flwr 2023-03-23 10:48:38,636 | server.py:140 | fit progress: (10, 327.4221167564392, {'accuracy': 0.3962}, 324.59445271799996)\n",
      "25063 INFO flwr 2023-03-23 10:48:38,637 | server.py:190 | evaluate_round 10: no clients selected, cancel\n",
      "25063 DEBUG flwr 2023-03-23 10:48:38,637 | server.py:255 | fit_round 11: strategy sampled 20 clients (out of 100)\n",
      "25063 DEBUG flwr 2023-03-23 10:49:10,437 | server.py:279 | fit_round 11 received 20 results and 0 failures\n",
      "25063 INFO flwr 2023-03-23 10:49:14,480 | server.py:140 | fit progress: (11, 324.63830602169037, {'accuracy': 0.4044}, 360.4387416950003)\n",
      "25063 INFO flwr 2023-03-23 10:49:14,481 | server.py:190 | evaluate_round 11: no clients selected, cancel\n",
      "25063 DEBUG flwr 2023-03-23 10:49:14,482 | server.py:255 | fit_round 12: strategy sampled 20 clients (out of 100)\n",
      "25063 DEBUG flwr 2023-03-23 10:49:44,774 | server.py:279 | fit_round 12 received 20 results and 0 failures\n",
      "25063 INFO flwr 2023-03-23 10:49:49,516 | server.py:140 | fit progress: (12, 321.3391981124878, {'accuracy': 0.4168}, 395.4749040510005)\n",
      "25063 INFO flwr 2023-03-23 10:49:49,517 | server.py:190 | evaluate_round 12: no clients selected, cancel\n",
      "25063 DEBUG flwr 2023-03-23 10:49:49,518 | server.py:255 | fit_round 13: strategy sampled 20 clients (out of 100)\n",
      "25063 DEBUG flwr 2023-03-23 10:50:23,083 | server.py:279 | fit_round 13 received 20 results and 0 failures\n",
      "25063 INFO flwr 2023-03-23 10:50:27,339 | server.py:140 | fit progress: (13, 324.04124534130096, {'accuracy': 0.4005}, 433.2981681020001)\n",
      "25063 INFO flwr 2023-03-23 10:50:27,340 | server.py:190 | evaluate_round 13: no clients selected, cancel\n",
      "25063 DEBUG flwr 2023-03-23 10:50:27,341 | server.py:255 | fit_round 14: strategy sampled 20 clients (out of 100)\n"
     ]
    },
    {
     "name": "stdout",
     "output_type": "stream",
     "text": [
      "\u001b[2m\u001b[1m\u001b[33m(autoscaler +1h17s)\u001b[0m Warning: The following resource request cannot be scheduled right now: {'CPU': 1.0}. This is likely due to all cluster resources being claimed by actors. Consider creating fewer actors or adding more nodes to this Ray cluster.\n"
     ]
    },
    {
     "name": "stderr",
     "output_type": "stream",
     "text": [
      "25063 DEBUG flwr 2023-03-23 10:50:58,441 | server.py:279 | fit_round 14 received 20 results and 0 failures\n",
      "25063 INFO flwr 2023-03-23 10:51:02,498 | server.py:140 | fit progress: (14, 313.6981896162033, {'accuracy': 0.4368}, 468.45653861699975)\n",
      "25063 INFO flwr 2023-03-23 10:51:02,499 | server.py:190 | evaluate_round 14: no clients selected, cancel\n",
      "25063 DEBUG flwr 2023-03-23 10:51:02,499 | server.py:255 | fit_round 15: strategy sampled 20 clients (out of 100)\n",
      "25063 DEBUG flwr 2023-03-23 10:51:31,805 | server.py:279 | fit_round 15 received 20 results and 0 failures\n",
      "25063 INFO flwr 2023-03-23 10:51:35,528 | server.py:140 | fit progress: (15, 305.789263010025, {'accuracy': 0.4515}, 501.4865913600006)\n",
      "25063 INFO flwr 2023-03-23 10:51:35,529 | server.py:190 | evaluate_round 15: no clients selected, cancel\n",
      "25063 DEBUG flwr 2023-03-23 10:51:35,529 | server.py:255 | fit_round 16: strategy sampled 20 clients (out of 100)\n",
      "25063 DEBUG flwr 2023-03-23 10:52:05,833 | server.py:279 | fit_round 16 received 20 results and 0 failures\n",
      "25063 INFO flwr 2023-03-23 10:52:09,307 | server.py:140 | fit progress: (16, 322.61927807331085, {'accuracy': 0.4216}, 535.2652484560003)\n",
      "25063 INFO flwr 2023-03-23 10:52:09,307 | server.py:190 | evaluate_round 16: no clients selected, cancel\n",
      "25063 DEBUG flwr 2023-03-23 10:52:09,308 | server.py:255 | fit_round 17: strategy sampled 20 clients (out of 100)\n",
      "25063 DEBUG flwr 2023-03-23 10:52:37,424 | server.py:279 | fit_round 17 received 20 results and 0 failures\n",
      "25063 INFO flwr 2023-03-23 10:52:41,452 | server.py:140 | fit progress: (17, 304.52276825904846, {'accuracy': 0.4546}, 567.4105054760003)\n",
      "25063 INFO flwr 2023-03-23 10:52:41,453 | server.py:190 | evaluate_round 17: no clients selected, cancel\n",
      "25063 DEBUG flwr 2023-03-23 10:52:41,453 | server.py:255 | fit_round 18: strategy sampled 20 clients (out of 100)\n",
      "25063 DEBUG flwr 2023-03-23 10:53:11,907 | server.py:279 | fit_round 18 received 20 results and 0 failures\n",
      "25063 INFO flwr 2023-03-23 10:53:15,723 | server.py:140 | fit progress: (18, 322.6553155183792, {'accuracy': 0.421}, 601.6812545330004)\n",
      "25063 INFO flwr 2023-03-23 10:53:15,723 | server.py:190 | evaluate_round 18: no clients selected, cancel\n",
      "25063 DEBUG flwr 2023-03-23 10:53:15,724 | server.py:255 | fit_round 19: strategy sampled 20 clients (out of 100)\n",
      "25063 DEBUG flwr 2023-03-23 10:53:43,714 | server.py:279 | fit_round 19 received 20 results and 0 failures\n",
      "25063 INFO flwr 2023-03-23 10:53:47,129 | server.py:140 | fit progress: (19, 300.8540540933609, {'accuracy': 0.462}, 633.0880163190004)\n",
      "25063 INFO flwr 2023-03-23 10:53:47,130 | server.py:190 | evaluate_round 19: no clients selected, cancel\n",
      "25063 DEBUG flwr 2023-03-23 10:53:47,131 | server.py:255 | fit_round 20: strategy sampled 20 clients (out of 100)\n"
     ]
    },
    {
     "name": "stdout",
     "output_type": "stream",
     "text": [
      "\u001b[2m\u001b[1m\u001b[33m(autoscaler +1h3m37s)\u001b[0m Warning: The following resource request cannot be scheduled right now: {'CPU': 1.0}. This is likely due to all cluster resources being claimed by actors. Consider creating fewer actors or adding more nodes to this Ray cluster.\n"
     ]
    },
    {
     "name": "stderr",
     "output_type": "stream",
     "text": [
      "25063 DEBUG flwr 2023-03-23 10:54:18,099 | server.py:279 | fit_round 20 received 20 results and 0 failures\n",
      "25063 INFO flwr 2023-03-23 10:54:21,952 | server.py:140 | fit progress: (20, 302.03646290302277, {'accuracy': 0.4616}, 667.9107529330004)\n",
      "25063 INFO flwr 2023-03-23 10:54:21,953 | server.py:190 | evaluate_round 20: no clients selected, cancel\n",
      "25063 INFO flwr 2023-03-23 10:54:21,954 | server.py:171 | FL finished in 667.9123207809998\n",
      "25063 INFO flwr 2023-03-23 10:54:21,955 | app.py:225 | app_fit: losses_distributed []\n",
      "25063 INFO flwr 2023-03-23 10:54:21,955 | app.py:226 | app_fit: metrics_distributed_fit {}\n",
      "25063 INFO flwr 2023-03-23 10:54:21,956 | app.py:227 | app_fit: metrics_distributed {}\n",
      "25063 INFO flwr 2023-03-23 10:54:21,956 | app.py:228 | app_fit: losses_centralized [(0, 461.84979462623596), (1, 455.03981828689575), (2, 430.02095103263855), (3, 409.3078911304474), (4, 386.1577937602997), (5, 381.61243546009064), (6, 363.55278635025024), (7, 350.64702677726746), (8, 350.9291926622391), (9, 339.9953340291977), (10, 327.4221167564392), (11, 324.63830602169037), (12, 321.3391981124878), (13, 324.04124534130096), (14, 313.6981896162033), (15, 305.789263010025), (16, 322.61927807331085), (17, 304.52276825904846), (18, 322.6553155183792), (19, 300.8540540933609), (20, 302.03646290302277)]\n",
      "25063 INFO flwr 2023-03-23 10:54:21,957 | app.py:229 | app_fit: metrics_centralized {'accuracy': [(0, 0.0778), (1, 0.1639), (2, 0.1998), (3, 0.2545), (4, 0.3043), (5, 0.3084), (6, 0.3253), (7, 0.3612), (8, 0.349), (9, 0.3718), (10, 0.3962), (11, 0.4044), (12, 0.4168), (13, 0.4005), (14, 0.4368), (15, 0.4515), (16, 0.4216), (17, 0.4546), (18, 0.421), (19, 0.462), (20, 0.4616)]}\n"
     ]
    }
   ],
   "source": [
    "sync_hist_5_1000 = run_simulation(asynchronous=False, concurrency=5, alpha=1000, num_rounds=20)\n",
    "torch.save(sync_hist_5_1000,\"saves/sync_hist_5_1000\")\n",
    "sync_hist_10_1000 = run_simulation(asynchronous=False, concurrency=10, alpha=1000, num_rounds=20)\n",
    "torch.save(sync_hist_10_1000,\"saves/sync_hist_10_1000\")\n",
    "sync_hist_20_1000 = run_simulation(asynchronous=False, concurrency=20, alpha=1000, num_rounds=20)\n",
    "torch.save(sync_hist_20_1000,\"saves/sync_hist_20_1000\")\n",
    "\n",
    "sync_hist_5_10 = run_simulation(asynchronous=False, concurrency=5, alpha=10, num_rounds=20)\n",
    "torch.save(sync_hist_5_10,\"saves/sync_hist_5_10\")\n",
    "sync_hist_10_10 = run_simulation(asynchronous=False, concurrency=10, alpha=10, num_rounds=20)\n",
    "torch.save(sync_hist_10_10,\"saves/sync_hist_10_10\")\n",
    "sync_hist_20_10 = run_simulation(asynchronous=False, concurrency=20, alpha=10, num_rounds=20)\n",
    "torch.save(sync_hist_20_10,\"saves/sync_hist_20_10\")\n",
    "\n",
    "sync_hist_5_1 = run_simulation(asynchronous=False, concurrency=5, alpha=1, num_rounds=20)\n",
    "torch.save(sync_hist_5_1,\"saves/sync_hist_5_1\")\n",
    "sync_hist_10_1 = run_simulation(asynchronous=False, concurrency=10, alpha=1, num_rounds=20)\n",
    "torch.save(sync_hist_10_1,\"saves/sync_hist_10_1\")\n",
    "sync_hist_20_1 = run_simulation(asynchronous=False, concurrency=20, alpha=1, num_rounds=20)\n",
    "torch.save(sync_hist_20_1,\"saves/sync_hist_20_1\")\n"
   ]
  },
  {
   "attachments": {},
   "cell_type": "markdown",
   "metadata": {},
   "source": [
    "## Asynchronous"
   ]
  },
  {
   "cell_type": "code",
   "execution_count": 24,
   "metadata": {},
   "outputs": [
    {
     "name": "stdout",
     "output_type": "stream",
     "text": [
      "Files already downloaded and verified\n",
      "Generating unified CIFAR dataset\n",
      "Class histogram for 0-th partition (alpha=1000, 10 classes): [58 56 50 55 56 42 43 49 47 44]\n"
     ]
    },
    {
     "name": "stderr",
     "output_type": "stream",
     "text": [
      "25063 INFO flwr 2023-03-23 11:00:19,483 | app.py:146 | Starting Flower simulation, config: ServerConfig(num_rounds=40, round_timeout=None, asynchronous=True)\n",
      "2023-03-23 11:00:24,047\tINFO worker.py:1553 -- Started a local Ray instance.\n",
      "25063 INFO flwr 2023-03-23 11:00:25,317 | app.py:180 | Flower VCE: Ray initialized with resources: {'CPU': 8.0, 'object_store_memory': 1400406835.0, 'memory': 2800813671.0, 'node:10.9.7.124': 1.0}\n",
      "25063 INFO flwr 2023-03-23 11:00:25,319 | server.py:95 | Initializing global parameters\n",
      "25063 INFO flwr 2023-03-23 11:00:25,319 | server.py:320 | Requesting initial parameters from one random client\n",
      "25063 INFO flwr 2023-03-23 11:00:26,879 | server.py:324 | Received initial parameters from one random client\n",
      "25063 INFO flwr 2023-03-23 11:00:26,880 | server.py:97 | Evaluating initial parameters\n",
      "25063 INFO flwr 2023-03-23 11:00:29,828 | server.py:100 | initial parameters (loss, other metrics): 460.7783987522125, {'accuracy': 0.1003}\n",
      "25063 INFO flwr 2023-03-23 11:00:29,829 | server.py:110 | FL starting\n",
      "25063 DEBUG flwr 2023-03-23 11:00:29,833 | server.py:255 | fit_round 1: strategy sampled 10 clients (out of 100)\n",
      "25063 DEBUG flwr 2023-03-23 11:00:29,833 | server.py:435 | Sending instructions to clients\n"
     ]
    },
    {
     "name": "stdout",
     "output_type": "stream",
     "text": [
      "Working out which clients to instruct\n",
      "Want 10 more clients, minimum 10\n",
      "Selected clients = ['48', '91', '67', '20', '78', '36', '75', '13', '34', '5']\n",
      "Client finshed: 48\n",
      "Client finshed: 67\n",
      "Client finshed: 36\n"
     ]
    },
    {
     "name": "stderr",
     "output_type": "stream",
     "text": [
      "25063 DEBUG flwr 2023-03-23 11:00:38,564 | server.py:461 | Received enough responses from clients\n",
      "25063 DEBUG flwr 2023-03-23 11:00:38,566 | server.py:279 | fit_round 1 received 5 results and 0 failures\n",
      "25063 WARNING flwr 2023-03-23 11:00:38,597 | fedbuff.py:257 | No fit_metrics_aggregation_fn provided\n"
     ]
    },
    {
     "name": "stdout",
     "output_type": "stream",
     "text": [
      "Client finshed: 91\n",
      "Client finshed: 20\n",
      "These clients sent updates: [('48', 0), ('67', 0), ('36', 0), ('91', 0), ('20', 0)]\n",
      "These clients failed: []\n"
     ]
    },
    {
     "name": "stderr",
     "output_type": "stream",
     "text": [
      "25063 INFO flwr 2023-03-23 11:00:43,131 | server.py:140 | fit progress: (1, 453.8803882598877, {'accuracy': 0.1617}, 13.301516859000003)\n",
      "25063 INFO flwr 2023-03-23 11:00:43,132 | server.py:190 | evaluate_round 1: no clients selected, cancel\n",
      "25063 DEBUG flwr 2023-03-23 11:00:43,137 | server.py:255 | fit_round 2: strategy sampled 5 clients (out of 100)\n",
      "25063 DEBUG flwr 2023-03-23 11:00:43,138 | server.py:435 | Sending instructions to clients\n"
     ]
    },
    {
     "name": "stdout",
     "output_type": "stream",
     "text": [
      "Working out which clients to instruct\n",
      "Want 5 more clients, minimum 5\n",
      "Selected clients = ['70', '69', '54', '59', '77']\n",
      "Client finshed: 75\n",
      "Client finshed: 13\n",
      "Client finshed: 78\n"
     ]
    },
    {
     "name": "stderr",
     "output_type": "stream",
     "text": [
      "25063 DEBUG flwr 2023-03-23 11:00:47,326 | server.py:461 | Received enough responses from clients\n",
      "25063 DEBUG flwr 2023-03-23 11:00:47,327 | server.py:279 | fit_round 2 received 5 results and 0 failures\n"
     ]
    },
    {
     "name": "stdout",
     "output_type": "stream",
     "text": [
      "Client finshed: 5\n",
      "Client finshed: 34\n",
      "These clients sent updates: [('75', 1), ('13', 1), ('78', 1), ('5', 1), ('34', 1)]\n",
      "These clients failed: []\n"
     ]
    },
    {
     "name": "stderr",
     "output_type": "stream",
     "text": [
      "25063 INFO flwr 2023-03-23 11:00:52,199 | server.py:140 | fit progress: (2, 453.40291476249695, {'accuracy': 0.1297}, 22.36941981899963)\n",
      "25063 INFO flwr 2023-03-23 11:00:52,200 | server.py:190 | evaluate_round 2: no clients selected, cancel\n",
      "25063 DEBUG flwr 2023-03-23 11:00:52,205 | server.py:255 | fit_round 3: strategy sampled 5 clients (out of 100)\n",
      "25063 DEBUG flwr 2023-03-23 11:00:52,205 | server.py:435 | Sending instructions to clients\n"
     ]
    },
    {
     "name": "stdout",
     "output_type": "stream",
     "text": [
      "Working out which clients to instruct\n",
      "Want 5 more clients, minimum 5\n",
      "Selected clients = ['88', '78', '28', '16', '80']\n",
      "Client finshed: 54\n",
      "Client finshed: 70\n",
      "Client finshed: 77\n",
      "Client finshed: 69\n"
     ]
    },
    {
     "name": "stderr",
     "output_type": "stream",
     "text": [
      "25063 DEBUG flwr 2023-03-23 11:00:54,593 | server.py:461 | Received enough responses from clients\n",
      "25063 DEBUG flwr 2023-03-23 11:00:54,594 | server.py:279 | fit_round 3 received 5 results and 0 failures\n"
     ]
    },
    {
     "name": "stdout",
     "output_type": "stream",
     "text": [
      "Client finshed: 59\n",
      "These clients sent updates: [('54', 1), ('70', 1), ('77', 1), ('69', 1), ('59', 1)]\n",
      "These clients failed: []\n"
     ]
    },
    {
     "name": "stderr",
     "output_type": "stream",
     "text": [
      "25063 INFO flwr 2023-03-23 11:00:59,462 | server.py:140 | fit progress: (3, 414.42474365234375, {'accuracy': 0.2503}, 29.632678412999667)\n",
      "25063 INFO flwr 2023-03-23 11:00:59,463 | server.py:190 | evaluate_round 3: no clients selected, cancel\n",
      "25063 DEBUG flwr 2023-03-23 11:00:59,467 | server.py:255 | fit_round 4: strategy sampled 5 clients (out of 100)\n",
      "25063 DEBUG flwr 2023-03-23 11:00:59,468 | server.py:435 | Sending instructions to clients\n"
     ]
    },
    {
     "name": "stdout",
     "output_type": "stream",
     "text": [
      "Working out which clients to instruct\n",
      "Want 5 more clients, minimum 5\n",
      "Selected clients = ['71', '41', '13', '23', '1']\n",
      "Client finshed: 78\n",
      "Client finshed: 88\n",
      "Client finshed: 28\n",
      "Client finshed: 16\n"
     ]
    },
    {
     "name": "stderr",
     "output_type": "stream",
     "text": [
      "25063 DEBUG flwr 2023-03-23 11:01:04,324 | server.py:461 | Received enough responses from clients\n",
      "25063 DEBUG flwr 2023-03-23 11:01:04,330 | server.py:279 | fit_round 4 received 5 results and 0 failures\n"
     ]
    },
    {
     "name": "stdout",
     "output_type": "stream",
     "text": [
      "Client finshed: 80\n",
      "These clients sent updates: [('78', 1), ('88', 1), ('28', 1), ('16', 1), ('80', 1)]\n",
      "These clients failed: []\n"
     ]
    },
    {
     "name": "stderr",
     "output_type": "stream",
     "text": [
      "25063 INFO flwr 2023-03-23 11:01:09,521 | server.py:140 | fit progress: (4, 416.5387237071991, {'accuracy': 0.2574}, 39.69187052799953)\n",
      "25063 INFO flwr 2023-03-23 11:01:09,524 | server.py:190 | evaluate_round 4: no clients selected, cancel\n",
      "25063 DEBUG flwr 2023-03-23 11:01:09,529 | server.py:255 | fit_round 5: strategy sampled 5 clients (out of 100)\n",
      "25063 DEBUG flwr 2023-03-23 11:01:09,530 | server.py:435 | Sending instructions to clients\n"
     ]
    },
    {
     "name": "stdout",
     "output_type": "stream",
     "text": [
      "Working out which clients to instruct\n",
      "Want 5 more clients, minimum 5\n",
      "Selected clients = ['87', '28', '85', '38', '35']\n",
      "Client finshed: 41\n",
      "Client finshed: 71\n",
      "Client finshed: 13\n",
      "Client finshed: 1\n"
     ]
    },
    {
     "name": "stderr",
     "output_type": "stream",
     "text": [
      "25063 DEBUG flwr 2023-03-23 11:01:12,988 | server.py:461 | Received enough responses from clients\n",
      "25063 DEBUG flwr 2023-03-23 11:01:12,989 | server.py:279 | fit_round 5 received 5 results and 0 failures\n"
     ]
    },
    {
     "name": "stdout",
     "output_type": "stream",
     "text": [
      "Client finshed: 23\n",
      "These clients sent updates: [('41', 1), ('71', 1), ('13', 1), ('1', 1), ('23', 1)]\n",
      "These clients failed: []\n"
     ]
    },
    {
     "name": "stderr",
     "output_type": "stream",
     "text": [
      "25063 INFO flwr 2023-03-23 11:01:17,386 | server.py:140 | fit progress: (5, 396.59955620765686, {'accuracy': 0.2896}, 47.55674635499963)\n",
      "25063 INFO flwr 2023-03-23 11:01:17,389 | server.py:190 | evaluate_round 5: no clients selected, cancel\n",
      "25063 DEBUG flwr 2023-03-23 11:01:17,395 | server.py:255 | fit_round 6: strategy sampled 5 clients (out of 100)\n",
      "25063 DEBUG flwr 2023-03-23 11:01:17,396 | server.py:435 | Sending instructions to clients\n"
     ]
    },
    {
     "name": "stdout",
     "output_type": "stream",
     "text": [
      "Working out which clients to instruct\n",
      "Want 5 more clients, minimum 5\n",
      "Selected clients = ['99', '26', '88', '71', '65']\n",
      "Client finshed: 38\n",
      "Client finshed: 85\n",
      "Client finshed: 28\n",
      "Client finshed: 35\n"
     ]
    },
    {
     "name": "stderr",
     "output_type": "stream",
     "text": [
      "25063 DEBUG flwr 2023-03-23 11:01:21,740 | server.py:461 | Received enough responses from clients\n",
      "25063 DEBUG flwr 2023-03-23 11:01:21,742 | server.py:279 | fit_round 6 received 5 results and 0 failures\n"
     ]
    },
    {
     "name": "stdout",
     "output_type": "stream",
     "text": [
      "Client finshed: 87\n",
      "These clients sent updates: [('38', 1), ('85', 1), ('28', 1), ('35', 1), ('87', 1)]\n",
      "These clients failed: []\n"
     ]
    },
    {
     "name": "stderr",
     "output_type": "stream",
     "text": [
      "25063 INFO flwr 2023-03-23 11:01:26,621 | server.py:140 | fit progress: (6, 396.75235664844513, {'accuracy': 0.297}, 56.79150070899959)\n",
      "25063 INFO flwr 2023-03-23 11:01:26,623 | server.py:190 | evaluate_round 6: no clients selected, cancel\n",
      "25063 DEBUG flwr 2023-03-23 11:01:26,628 | server.py:255 | fit_round 7: strategy sampled 5 clients (out of 100)\n",
      "25063 DEBUG flwr 2023-03-23 11:01:26,630 | server.py:435 | Sending instructions to clients\n"
     ]
    },
    {
     "name": "stdout",
     "output_type": "stream",
     "text": [
      "Working out which clients to instruct\n",
      "Want 5 more clients, minimum 5\n",
      "Selected clients = ['24', '85', '29', '42', '45']\n",
      "Client finshed: 26\n",
      "Client finshed: 88\n",
      "Client finshed: 71\n",
      "Client finshed: 99\n"
     ]
    },
    {
     "name": "stderr",
     "output_type": "stream",
     "text": [
      "25063 DEBUG flwr 2023-03-23 11:01:29,737 | server.py:461 | Received enough responses from clients\n",
      "25063 DEBUG flwr 2023-03-23 11:01:29,741 | server.py:279 | fit_round 7 received 5 results and 0 failures\n"
     ]
    },
    {
     "name": "stdout",
     "output_type": "stream",
     "text": [
      "Client finshed: 65\n",
      "These clients sent updates: [('26', 1), ('88', 1), ('71', 1), ('99', 1), ('65', 1)]\n",
      "These clients failed: []\n"
     ]
    },
    {
     "name": "stderr",
     "output_type": "stream",
     "text": [
      "25063 INFO flwr 2023-03-23 11:01:34,347 | server.py:140 | fit progress: (7, 399.8076756000519, {'accuracy': 0.2921}, 64.51765525599967)\n",
      "25063 INFO flwr 2023-03-23 11:01:34,348 | server.py:190 | evaluate_round 7: no clients selected, cancel\n",
      "25063 DEBUG flwr 2023-03-23 11:01:34,353 | server.py:255 | fit_round 8: strategy sampled 5 clients (out of 100)\n",
      "25063 DEBUG flwr 2023-03-23 11:01:34,354 | server.py:435 | Sending instructions to clients\n"
     ]
    },
    {
     "name": "stdout",
     "output_type": "stream",
     "text": [
      "Working out which clients to instruct\n",
      "Want 5 more clients, minimum 5\n",
      "Selected clients = ['92', '49', '95', '67', '48']\n",
      "Client finshed: 45\n",
      "Client finshed: 42\n",
      "Client finshed: 29\n",
      "Client finshed: 24\n"
     ]
    },
    {
     "name": "stderr",
     "output_type": "stream",
     "text": [
      "25063 DEBUG flwr 2023-03-23 11:01:37,820 | server.py:461 | Received enough responses from clients\n",
      "25063 DEBUG flwr 2023-03-23 11:01:37,823 | server.py:279 | fit_round 8 received 5 results and 0 failures\n"
     ]
    },
    {
     "name": "stdout",
     "output_type": "stream",
     "text": [
      "Client finshed: 85\n",
      "These clients sent updates: [('45', 1), ('42', 1), ('29', 1), ('24', 1), ('85', 1)]\n",
      "These clients failed: []\n"
     ]
    },
    {
     "name": "stderr",
     "output_type": "stream",
     "text": [
      "25063 INFO flwr 2023-03-23 11:01:43,119 | server.py:140 | fit progress: (8, 379.0973024368286, {'accuracy': 0.3203}, 73.28937853999923)\n",
      "25063 INFO flwr 2023-03-23 11:01:43,120 | server.py:190 | evaluate_round 8: no clients selected, cancel\n",
      "25063 DEBUG flwr 2023-03-23 11:01:43,124 | server.py:255 | fit_round 9: strategy sampled 5 clients (out of 100)\n",
      "25063 DEBUG flwr 2023-03-23 11:01:43,126 | server.py:435 | Sending instructions to clients\n"
     ]
    },
    {
     "name": "stdout",
     "output_type": "stream",
     "text": [
      "Working out which clients to instruct\n",
      "Want 5 more clients, minimum 5\n",
      "Selected clients = ['46', '38', '10', '85', '50']\n",
      "Client finshed: 92\n",
      "Client finshed: 49\n",
      "Client finshed: 95\n",
      "Client finshed: 67\n"
     ]
    },
    {
     "name": "stderr",
     "output_type": "stream",
     "text": [
      "25063 DEBUG flwr 2023-03-23 11:01:47,235 | server.py:461 | Received enough responses from clients\n",
      "25063 DEBUG flwr 2023-03-23 11:01:47,237 | server.py:279 | fit_round 9 received 5 results and 0 failures\n"
     ]
    },
    {
     "name": "stdout",
     "output_type": "stream",
     "text": [
      "Client finshed: 48\n",
      "These clients sent updates: [('92', 1), ('49', 1), ('95', 1), ('67', 1), ('48', 1)]\n",
      "These clients failed: []\n"
     ]
    },
    {
     "name": "stderr",
     "output_type": "stream",
     "text": [
      "25063 INFO flwr 2023-03-23 11:01:51,638 | server.py:140 | fit progress: (9, 357.97907638549805, {'accuracy': 0.3599}, 81.80876161699962)\n",
      "25063 INFO flwr 2023-03-23 11:01:51,639 | server.py:190 | evaluate_round 9: no clients selected, cancel\n",
      "25063 DEBUG flwr 2023-03-23 11:01:51,643 | server.py:255 | fit_round 10: strategy sampled 5 clients (out of 100)\n",
      "25063 DEBUG flwr 2023-03-23 11:01:51,644 | server.py:435 | Sending instructions to clients\n"
     ]
    },
    {
     "name": "stdout",
     "output_type": "stream",
     "text": [
      "Working out which clients to instruct\n",
      "Want 5 more clients, minimum 5\n",
      "Selected clients = ['76', '18', '52', '45', '55']\n",
      "Client finshed: 10\n",
      "Client finshed: 50\n",
      "Client finshed: 38\n",
      "Client finshed: 46\n"
     ]
    },
    {
     "name": "stderr",
     "output_type": "stream",
     "text": [
      "25063 DEBUG flwr 2023-03-23 11:01:57,515 | server.py:461 | Received enough responses from clients\n",
      "25063 DEBUG flwr 2023-03-23 11:01:57,522 | server.py:279 | fit_round 10 received 5 results and 0 failures\n"
     ]
    },
    {
     "name": "stdout",
     "output_type": "stream",
     "text": [
      "Client finshed: 85\n",
      "These clients sent updates: [('10', 1), ('50', 1), ('38', 1), ('46', 1), ('85', 1)]\n",
      "These clients failed: []\n"
     ]
    },
    {
     "name": "stderr",
     "output_type": "stream",
     "text": [
      "25063 INFO flwr 2023-03-23 11:02:03,625 | server.py:140 | fit progress: (10, 361.27526235580444, {'accuracy': 0.3581}, 93.79599888699977)\n",
      "25063 INFO flwr 2023-03-23 11:02:03,626 | server.py:190 | evaluate_round 10: no clients selected, cancel\n",
      "25063 DEBUG flwr 2023-03-23 11:02:03,630 | server.py:255 | fit_round 11: strategy sampled 5 clients (out of 100)\n",
      "25063 DEBUG flwr 2023-03-23 11:02:03,631 | server.py:435 | Sending instructions to clients\n"
     ]
    },
    {
     "name": "stdout",
     "output_type": "stream",
     "text": [
      "Working out which clients to instruct\n",
      "Want 5 more clients, minimum 5\n",
      "Selected clients = ['44', '38', '91', '28', '1']\n",
      "Client finshed: 76\n",
      "Client finshed: 18\n",
      "Client finshed: 45\n"
     ]
    },
    {
     "name": "stderr",
     "output_type": "stream",
     "text": [
      "25063 DEBUG flwr 2023-03-23 11:02:07,212 | server.py:461 | Received enough responses from clients\n",
      "25063 DEBUG flwr 2023-03-23 11:02:07,214 | server.py:279 | fit_round 11 received 5 results and 0 failures\n"
     ]
    },
    {
     "name": "stdout",
     "output_type": "stream",
     "text": [
      "Client finshed: 52\n",
      "Client finshed: 55\n",
      "These clients sent updates: [('76', 1), ('18', 1), ('45', 1), ('52', 1), ('55', 1)]\n",
      "These clients failed: []\n"
     ]
    },
    {
     "name": "stderr",
     "output_type": "stream",
     "text": [
      "25063 INFO flwr 2023-03-23 11:02:11,820 | server.py:140 | fit progress: (11, 348.1148660182953, {'accuracy': 0.3726}, 101.99056769699928)\n",
      "25063 INFO flwr 2023-03-23 11:02:11,822 | server.py:190 | evaluate_round 11: no clients selected, cancel\n",
      "25063 DEBUG flwr 2023-03-23 11:02:11,830 | server.py:255 | fit_round 12: strategy sampled 5 clients (out of 100)\n",
      "25063 DEBUG flwr 2023-03-23 11:02:11,832 | server.py:435 | Sending instructions to clients\n"
     ]
    },
    {
     "name": "stdout",
     "output_type": "stream",
     "text": [
      "Working out which clients to instruct\n",
      "Want 5 more clients, minimum 5\n",
      "Selected clients = ['98', '33', '75', '99', '64']\n",
      "Client finshed: 38\n",
      "Client finshed: 44\n"
     ]
    },
    {
     "name": "stderr",
     "output_type": "stream",
     "text": [
      "25063 DEBUG flwr 2023-03-23 11:02:13,661 | server.py:461 | Received enough responses from clients\n",
      "25063 DEBUG flwr 2023-03-23 11:02:13,663 | server.py:279 | fit_round 12 received 5 results and 0 failures\n"
     ]
    },
    {
     "name": "stdout",
     "output_type": "stream",
     "text": [
      "Client finshed: 91\n",
      "Client finshed: 28\n",
      "Client finshed: 1\n",
      "These clients sent updates: [('38', 1), ('44', 1), ('91', 1), ('28', 1), ('1', 1)]\n",
      "These clients failed: []\n"
     ]
    },
    {
     "name": "stderr",
     "output_type": "stream",
     "text": [
      "25063 INFO flwr 2023-03-23 11:02:17,574 | server.py:140 | fit progress: (12, 346.08798110485077, {'accuracy': 0.3742}, 107.74459696299982)\n",
      "25063 INFO flwr 2023-03-23 11:02:17,575 | server.py:190 | evaluate_round 12: no clients selected, cancel\n",
      "25063 DEBUG flwr 2023-03-23 11:02:17,580 | server.py:255 | fit_round 13: strategy sampled 5 clients (out of 100)\n",
      "25063 DEBUG flwr 2023-03-23 11:02:17,581 | server.py:435 | Sending instructions to clients\n"
     ]
    },
    {
     "name": "stdout",
     "output_type": "stream",
     "text": [
      "Working out which clients to instruct\n",
      "Want 5 more clients, minimum 5\n",
      "Selected clients = ['91', '34', '27', '31', '9']\n",
      "Client finshed: 75\n",
      "Client finshed: 98\n",
      "Client finshed: 64\n",
      "Client finshed: 33\n"
     ]
    },
    {
     "name": "stderr",
     "output_type": "stream",
     "text": [
      "25063 DEBUG flwr 2023-03-23 11:02:23,341 | server.py:461 | Received enough responses from clients\n",
      "25063 DEBUG flwr 2023-03-23 11:02:23,349 | server.py:279 | fit_round 13 received 5 results and 0 failures\n"
     ]
    },
    {
     "name": "stdout",
     "output_type": "stream",
     "text": [
      "Client finshed: 99\n",
      "These clients sent updates: [('75', 1), ('98', 1), ('64', 1), ('33', 1), ('99', 1)]\n",
      "These clients failed: []\n"
     ]
    },
    {
     "name": "stderr",
     "output_type": "stream",
     "text": [
      "25063 INFO flwr 2023-03-23 11:02:27,636 | server.py:140 | fit progress: (13, 360.90504932403564, {'accuracy': 0.3573}, 117.80628960099966)\n",
      "25063 INFO flwr 2023-03-23 11:02:27,637 | server.py:190 | evaluate_round 13: no clients selected, cancel\n",
      "25063 DEBUG flwr 2023-03-23 11:02:27,647 | server.py:255 | fit_round 14: strategy sampled 5 clients (out of 100)\n",
      "25063 DEBUG flwr 2023-03-23 11:02:27,648 | server.py:435 | Sending instructions to clients\n"
     ]
    },
    {
     "name": "stdout",
     "output_type": "stream",
     "text": [
      "Working out which clients to instruct\n",
      "Want 5 more clients, minimum 5\n",
      "Selected clients = ['66', '22', '5', '13', '43']\n",
      "Client finshed: 91\n",
      "Client finshed: 31\n",
      "Client finshed: 34\n",
      "Client finshed: 9\n"
     ]
    },
    {
     "name": "stderr",
     "output_type": "stream",
     "text": [
      "25063 DEBUG flwr 2023-03-23 11:02:30,130 | server.py:461 | Received enough responses from clients\n",
      "25063 DEBUG flwr 2023-03-23 11:02:30,132 | server.py:279 | fit_round 14 received 5 results and 0 failures\n"
     ]
    },
    {
     "name": "stdout",
     "output_type": "stream",
     "text": [
      "Client finshed: 27\n",
      "These clients sent updates: [('91', 1), ('31', 1), ('34', 1), ('9', 1), ('27', 1)]\n",
      "These clients failed: []\n"
     ]
    },
    {
     "name": "stderr",
     "output_type": "stream",
     "text": [
      "25063 INFO flwr 2023-03-23 11:02:34,402 | server.py:140 | fit progress: (14, 339.1662902832031, {'accuracy': 0.3909}, 124.57219963499938)\n",
      "25063 INFO flwr 2023-03-23 11:02:34,403 | server.py:190 | evaluate_round 14: no clients selected, cancel\n",
      "25063 DEBUG flwr 2023-03-23 11:02:34,407 | server.py:255 | fit_round 15: strategy sampled 5 clients (out of 100)\n",
      "25063 DEBUG flwr 2023-03-23 11:02:34,408 | server.py:435 | Sending instructions to clients\n"
     ]
    },
    {
     "name": "stdout",
     "output_type": "stream",
     "text": [
      "Working out which clients to instruct\n",
      "Want 5 more clients, minimum 5\n",
      "Selected clients = ['67', '68', '16', '56', '42']\n",
      "Client finshed: 13\n",
      "Client finshed: 66\n",
      "Client finshed: 5\n",
      "Client finshed: 43\n"
     ]
    },
    {
     "name": "stderr",
     "output_type": "stream",
     "text": [
      "25063 DEBUG flwr 2023-03-23 11:02:37,194 | server.py:461 | Received enough responses from clients\n",
      "25063 DEBUG flwr 2023-03-23 11:02:37,196 | server.py:279 | fit_round 15 received 5 results and 0 failures\n"
     ]
    },
    {
     "name": "stdout",
     "output_type": "stream",
     "text": [
      "Client finshed: 22\n",
      "These clients sent updates: [('13', 1), ('66', 1), ('5', 1), ('43', 1), ('22', 1)]\n",
      "These clients failed: []\n"
     ]
    },
    {
     "name": "stderr",
     "output_type": "stream",
     "text": [
      "25063 INFO flwr 2023-03-23 11:02:41,457 | server.py:140 | fit progress: (15, 337.49304735660553, {'accuracy': 0.4004}, 131.62788648599962)\n",
      "25063 INFO flwr 2023-03-23 11:02:41,458 | server.py:190 | evaluate_round 15: no clients selected, cancel\n",
      "25063 DEBUG flwr 2023-03-23 11:02:41,474 | server.py:255 | fit_round 16: strategy sampled 5 clients (out of 100)\n",
      "25063 DEBUG flwr 2023-03-23 11:02:41,478 | server.py:435 | Sending instructions to clients\n"
     ]
    },
    {
     "name": "stdout",
     "output_type": "stream",
     "text": [
      "Working out which clients to instruct\n",
      "Want 5 more clients, minimum 5\n",
      "Selected clients = ['2', '50', '14', '15', '45']\n",
      "Client finshed: 68\n",
      "Client finshed: 67\n",
      "Client finshed: 16\n",
      "Client finshed: 56\n"
     ]
    },
    {
     "name": "stderr",
     "output_type": "stream",
     "text": [
      "25063 DEBUG flwr 2023-03-23 11:02:49,427 | server.py:461 | Received enough responses from clients\n",
      "25063 DEBUG flwr 2023-03-23 11:02:49,428 | server.py:279 | fit_round 16 received 5 results and 0 failures\n"
     ]
    },
    {
     "name": "stdout",
     "output_type": "stream",
     "text": [
      "Client finshed: 42\n",
      "These clients sent updates: [('68', 1), ('67', 1), ('16', 1), ('56', 1), ('42', 1)]\n",
      "These clients failed: []\n"
     ]
    },
    {
     "name": "stderr",
     "output_type": "stream",
     "text": [
      "25063 INFO flwr 2023-03-23 11:02:54,796 | server.py:140 | fit progress: (16, 344.86458015441895, {'accuracy': 0.3835}, 144.96711883599983)\n",
      "25063 INFO flwr 2023-03-23 11:02:54,798 | server.py:190 | evaluate_round 16: no clients selected, cancel\n",
      "25063 DEBUG flwr 2023-03-23 11:02:54,804 | server.py:255 | fit_round 17: strategy sampled 5 clients (out of 100)\n",
      "25063 DEBUG flwr 2023-03-23 11:02:54,806 | server.py:435 | Sending instructions to clients\n"
     ]
    },
    {
     "name": "stdout",
     "output_type": "stream",
     "text": [
      "Working out which clients to instruct\n",
      "Want 5 more clients, minimum 5\n",
      "Selected clients = ['74', '90', '25', '17', '87']\n",
      "Client finshed: 15\n",
      "Client finshed: 45\n",
      "Client finshed: 2\n"
     ]
    },
    {
     "name": "stderr",
     "output_type": "stream",
     "text": [
      "25063 DEBUG flwr 2023-03-23 11:02:58,816 | server.py:461 | Received enough responses from clients\n",
      "25063 DEBUG flwr 2023-03-23 11:02:58,819 | server.py:279 | fit_round 17 received 5 results and 0 failures\n"
     ]
    },
    {
     "name": "stdout",
     "output_type": "stream",
     "text": [
      "Client finshed: 14\n",
      "Client finshed: 50\n",
      "These clients sent updates: [('15', 1), ('45', 1), ('2', 1), ('14', 1), ('50', 1)]\n",
      "These clients failed: []\n"
     ]
    },
    {
     "name": "stderr",
     "output_type": "stream",
     "text": [
      "25063 INFO flwr 2023-03-23 11:03:04,113 | server.py:140 | fit progress: (17, 330.37171280384064, {'accuracy': 0.4137}, 154.2834602519997)\n",
      "25063 INFO flwr 2023-03-23 11:03:04,115 | server.py:190 | evaluate_round 17: no clients selected, cancel\n",
      "25063 DEBUG flwr 2023-03-23 11:03:04,121 | server.py:255 | fit_round 18: strategy sampled 5 clients (out of 100)\n",
      "25063 DEBUG flwr 2023-03-23 11:03:04,124 | server.py:435 | Sending instructions to clients\n"
     ]
    },
    {
     "name": "stdout",
     "output_type": "stream",
     "text": [
      "Working out which clients to instruct\n",
      "Want 5 more clients, minimum 5\n",
      "Selected clients = ['27', '57', '82', '76', '54']\n",
      "Client finshed: 74\n",
      "Client finshed: 17\n",
      "Client finshed: 90\n",
      "Client finshed: 87\n"
     ]
    },
    {
     "name": "stderr",
     "output_type": "stream",
     "text": [
      "25063 DEBUG flwr 2023-03-23 11:03:09,445 | server.py:461 | Received enough responses from clients\n",
      "25063 DEBUG flwr 2023-03-23 11:03:09,447 | server.py:279 | fit_round 18 received 5 results and 0 failures\n"
     ]
    },
    {
     "name": "stdout",
     "output_type": "stream",
     "text": [
      "Client finshed: 25\n",
      "These clients sent updates: [('74', 1), ('17', 1), ('90', 1), ('87', 1), ('25', 1)]\n",
      "These clients failed: []\n"
     ]
    },
    {
     "name": "stderr",
     "output_type": "stream",
     "text": [
      "25063 INFO flwr 2023-03-23 11:03:14,413 | server.py:140 | fit progress: (18, 335.3663350343704, {'accuracy': 0.4062}, 164.58336419599982)\n",
      "25063 INFO flwr 2023-03-23 11:03:14,414 | server.py:190 | evaluate_round 18: no clients selected, cancel\n",
      "25063 DEBUG flwr 2023-03-23 11:03:14,419 | server.py:255 | fit_round 19: strategy sampled 5 clients (out of 100)\n",
      "25063 DEBUG flwr 2023-03-23 11:03:14,421 | server.py:435 | Sending instructions to clients\n"
     ]
    },
    {
     "name": "stdout",
     "output_type": "stream",
     "text": [
      "Working out which clients to instruct\n",
      "Want 5 more clients, minimum 5\n",
      "Selected clients = ['31', '37', '19', '26', '7']\n",
      "Client finshed: 57\n",
      "Client finshed: 54\n",
      "Client finshed: 27\n",
      "Client finshed: 82\n"
     ]
    },
    {
     "name": "stderr",
     "output_type": "stream",
     "text": [
      "25063 DEBUG flwr 2023-03-23 11:03:19,373 | server.py:461 | Received enough responses from clients\n",
      "25063 DEBUG flwr 2023-03-23 11:03:19,379 | server.py:279 | fit_round 19 received 5 results and 0 failures\n"
     ]
    },
    {
     "name": "stdout",
     "output_type": "stream",
     "text": [
      "Client finshed: 76\n",
      "These clients sent updates: [('57', 1), ('54', 1), ('27', 1), ('82', 1), ('76', 1)]\n",
      "These clients failed: []\n"
     ]
    },
    {
     "name": "stderr",
     "output_type": "stream",
     "text": [
      "25063 INFO flwr 2023-03-23 11:03:24,458 | server.py:140 | fit progress: (19, 323.79184114933014, {'accuracy': 0.4305}, 174.6282584139999)\n",
      "25063 INFO flwr 2023-03-23 11:03:24,460 | server.py:190 | evaluate_round 19: no clients selected, cancel\n",
      "25063 DEBUG flwr 2023-03-23 11:03:24,465 | server.py:255 | fit_round 20: strategy sampled 5 clients (out of 100)\n",
      "25063 DEBUG flwr 2023-03-23 11:03:24,467 | server.py:435 | Sending instructions to clients\n"
     ]
    },
    {
     "name": "stdout",
     "output_type": "stream",
     "text": [
      "Working out which clients to instruct\n",
      "Want 5 more clients, minimum 5\n",
      "Selected clients = ['10', '14', '25', '91', '50']\n",
      "Client finshed: 19\n",
      "Client finshed: 26\n",
      "Client finshed: 37\n",
      "Client finshed: 31\n"
     ]
    },
    {
     "name": "stderr",
     "output_type": "stream",
     "text": [
      "25063 DEBUG flwr 2023-03-23 11:03:28,310 | server.py:461 | Received enough responses from clients\n",
      "25063 DEBUG flwr 2023-03-23 11:03:28,312 | server.py:279 | fit_round 20 received 5 results and 0 failures\n"
     ]
    },
    {
     "name": "stdout",
     "output_type": "stream",
     "text": [
      "Client finshed: 7\n",
      "These clients sent updates: [('19', 1), ('26', 1), ('37', 1), ('31', 1), ('7', 1)]\n",
      "These clients failed: []\n"
     ]
    },
    {
     "name": "stderr",
     "output_type": "stream",
     "text": [
      "25063 INFO flwr 2023-03-23 11:03:33,938 | server.py:140 | fit progress: (20, 329.8821635246277, {'accuracy': 0.4153}, 184.1090469619994)\n",
      "25063 INFO flwr 2023-03-23 11:03:33,940 | server.py:190 | evaluate_round 20: no clients selected, cancel\n",
      "25063 DEBUG flwr 2023-03-23 11:03:33,944 | server.py:255 | fit_round 21: strategy sampled 5 clients (out of 100)\n",
      "25063 DEBUG flwr 2023-03-23 11:03:33,945 | server.py:435 | Sending instructions to clients\n"
     ]
    },
    {
     "name": "stdout",
     "output_type": "stream",
     "text": [
      "Working out which clients to instruct\n",
      "Want 5 more clients, minimum 5\n",
      "Selected clients = ['65', '46', '47', '30', '98']\n",
      "Client finshed: 14\n",
      "Client finshed: 10\n",
      "Client finshed: 91\n",
      "Client finshed: 25\n"
     ]
    },
    {
     "name": "stderr",
     "output_type": "stream",
     "text": [
      "25063 DEBUG flwr 2023-03-23 11:03:39,966 | server.py:461 | Received enough responses from clients\n",
      "25063 DEBUG flwr 2023-03-23 11:03:39,969 | server.py:279 | fit_round 21 received 5 results and 0 failures\n"
     ]
    },
    {
     "name": "stdout",
     "output_type": "stream",
     "text": [
      "Client finshed: 50\n",
      "These clients sent updates: [('14', 1), ('10', 1), ('91', 1), ('25', 1), ('50', 1)]\n",
      "These clients failed: []\n"
     ]
    },
    {
     "name": "stderr",
     "output_type": "stream",
     "text": [
      "25063 INFO flwr 2023-03-23 11:03:46,195 | server.py:140 | fit progress: (21, 323.81775999069214, {'accuracy': 0.4366}, 196.36521129499943)\n",
      "25063 INFO flwr 2023-03-23 11:03:46,196 | server.py:190 | evaluate_round 21: no clients selected, cancel\n",
      "25063 DEBUG flwr 2023-03-23 11:03:46,201 | server.py:255 | fit_round 22: strategy sampled 5 clients (out of 100)\n",
      "25063 DEBUG flwr 2023-03-23 11:03:46,203 | server.py:435 | Sending instructions to clients\n"
     ]
    },
    {
     "name": "stdout",
     "output_type": "stream",
     "text": [
      "Working out which clients to instruct\n",
      "Want 5 more clients, minimum 5\n",
      "Selected clients = ['21', '97', '58', '59', '80']\n",
      "Client finshed: 65\n",
      "Client finshed: 30\n",
      "Client finshed: 47\n",
      "Client finshed: 98\n"
     ]
    },
    {
     "name": "stderr",
     "output_type": "stream",
     "text": [
      "25063 DEBUG flwr 2023-03-23 11:03:49,328 | server.py:461 | Received enough responses from clients\n",
      "25063 DEBUG flwr 2023-03-23 11:03:49,330 | server.py:279 | fit_round 22 received 5 results and 0 failures\n"
     ]
    },
    {
     "name": "stdout",
     "output_type": "stream",
     "text": [
      "Client finshed: 46\n",
      "These clients sent updates: [('65', 1), ('30', 1), ('47', 1), ('98', 1), ('46', 1)]\n",
      "These clients failed: []\n"
     ]
    },
    {
     "name": "stderr",
     "output_type": "stream",
     "text": [
      "25063 INFO flwr 2023-03-23 11:03:54,325 | server.py:140 | fit progress: (22, 346.18437242507935, {'accuracy': 0.3779}, 204.49559509899973)\n",
      "25063 INFO flwr 2023-03-23 11:03:54,327 | server.py:190 | evaluate_round 22: no clients selected, cancel\n",
      "25063 DEBUG flwr 2023-03-23 11:03:54,334 | server.py:255 | fit_round 23: strategy sampled 5 clients (out of 100)\n",
      "25063 DEBUG flwr 2023-03-23 11:03:54,335 | server.py:435 | Sending instructions to clients\n"
     ]
    },
    {
     "name": "stdout",
     "output_type": "stream",
     "text": [
      "Working out which clients to instruct\n",
      "Want 5 more clients, minimum 5\n",
      "Selected clients = ['93', '9', '72', '48', '45']\n",
      "Client finshed: 21\n",
      "Client finshed: 58\n",
      "Client finshed: 80\n"
     ]
    },
    {
     "name": "stderr",
     "output_type": "stream",
     "text": [
      "25063 DEBUG flwr 2023-03-23 11:03:58,507 | server.py:461 | Received enough responses from clients\n",
      "25063 DEBUG flwr 2023-03-23 11:03:58,510 | server.py:279 | fit_round 23 received 5 results and 0 failures\n"
     ]
    },
    {
     "name": "stdout",
     "output_type": "stream",
     "text": [
      "Client finshed: 97\n",
      "Client finshed: 59\n",
      "These clients sent updates: [('21', 1), ('58', 1), ('80', 1), ('97', 1), ('59', 1)]\n",
      "These clients failed: []\n"
     ]
    },
    {
     "name": "stderr",
     "output_type": "stream",
     "text": [
      "25063 INFO flwr 2023-03-23 11:04:04,238 | server.py:140 | fit progress: (23, 331.74897849559784, {'accuracy': 0.4015}, 214.40910277499916)\n",
      "25063 INFO flwr 2023-03-23 11:04:04,240 | server.py:190 | evaluate_round 23: no clients selected, cancel\n",
      "25063 DEBUG flwr 2023-03-23 11:04:04,245 | server.py:255 | fit_round 24: strategy sampled 5 clients (out of 100)\n",
      "25063 DEBUG flwr 2023-03-23 11:04:04,254 | server.py:435 | Sending instructions to clients\n"
     ]
    },
    {
     "name": "stdout",
     "output_type": "stream",
     "text": [
      "Working out which clients to instruct\n",
      "Want 5 more clients, minimum 5\n",
      "Selected clients = ['77', '88', '41', '82', '70']\n",
      "Client finshed: 48\n",
      "Client finshed: 45\n",
      "Client finshed: 72\n",
      "Client finshed: 9\n"
     ]
    },
    {
     "name": "stderr",
     "output_type": "stream",
     "text": [
      "25063 DEBUG flwr 2023-03-23 11:04:09,120 | server.py:461 | Received enough responses from clients\n",
      "25063 DEBUG flwr 2023-03-23 11:04:09,122 | server.py:279 | fit_round 24 received 5 results and 0 failures\n"
     ]
    },
    {
     "name": "stdout",
     "output_type": "stream",
     "text": [
      "Client finshed: 93\n",
      "These clients sent updates: [('48', 1), ('45', 1), ('72', 1), ('9', 1), ('93', 1)]\n",
      "These clients failed: []\n"
     ]
    },
    {
     "name": "stderr",
     "output_type": "stream",
     "text": [
      "25063 INFO flwr 2023-03-23 11:04:13,914 | server.py:140 | fit progress: (24, 322.50355899333954, {'accuracy': 0.4307}, 224.08436046299994)\n",
      "25063 INFO flwr 2023-03-23 11:04:13,915 | server.py:190 | evaluate_round 24: no clients selected, cancel\n",
      "25063 DEBUG flwr 2023-03-23 11:04:13,921 | server.py:255 | fit_round 25: strategy sampled 5 clients (out of 100)\n",
      "25063 DEBUG flwr 2023-03-23 11:04:13,922 | server.py:435 | Sending instructions to clients\n"
     ]
    },
    {
     "name": "stdout",
     "output_type": "stream",
     "text": [
      "Working out which clients to instruct\n",
      "Want 5 more clients, minimum 5\n",
      "Selected clients = ['22', '95', '6', '55', '93']\n",
      "Client finshed: 82\n",
      "Client finshed: 88\n",
      "Client finshed: 41\n",
      "Client finshed: 77\n"
     ]
    },
    {
     "name": "stderr",
     "output_type": "stream",
     "text": [
      "25063 DEBUG flwr 2023-03-23 11:04:19,040 | server.py:461 | Received enough responses from clients\n",
      "25063 DEBUG flwr 2023-03-23 11:04:19,042 | server.py:279 | fit_round 25 received 5 results and 0 failures\n"
     ]
    },
    {
     "name": "stdout",
     "output_type": "stream",
     "text": [
      "Client finshed: 70\n",
      "These clients sent updates: [('82', 1), ('88', 1), ('41', 1), ('77', 1), ('70', 1)]\n",
      "These clients failed: []\n"
     ]
    },
    {
     "name": "stderr",
     "output_type": "stream",
     "text": [
      "25063 INFO flwr 2023-03-23 11:04:24,249 | server.py:140 | fit progress: (25, 316.8592805862427, {'accuracy': 0.4386}, 234.41993666799954)\n",
      "25063 INFO flwr 2023-03-23 11:04:24,251 | server.py:190 | evaluate_round 25: no clients selected, cancel\n",
      "25063 DEBUG flwr 2023-03-23 11:04:24,255 | server.py:255 | fit_round 26: strategy sampled 5 clients (out of 100)\n",
      "25063 DEBUG flwr 2023-03-23 11:04:24,257 | server.py:435 | Sending instructions to clients\n"
     ]
    },
    {
     "name": "stdout",
     "output_type": "stream",
     "text": [
      "Working out which clients to instruct\n",
      "Want 5 more clients, minimum 5\n",
      "Selected clients = ['57', '46', '31', '58', '91']\n",
      "Client finshed: 55\n",
      "Client finshed: 22\n",
      "Client finshed: 95\n",
      "Client finshed: 6\n"
     ]
    },
    {
     "name": "stderr",
     "output_type": "stream",
     "text": [
      "25063 DEBUG flwr 2023-03-23 11:04:27,320 | server.py:461 | Received enough responses from clients\n",
      "25063 DEBUG flwr 2023-03-23 11:04:27,323 | server.py:279 | fit_round 26 received 5 results and 0 failures\n"
     ]
    },
    {
     "name": "stdout",
     "output_type": "stream",
     "text": [
      "Client finshed: 93\n",
      "These clients sent updates: [('55', 1), ('22', 1), ('95', 1), ('6', 1), ('93', 1)]\n",
      "These clients failed: []\n"
     ]
    },
    {
     "name": "stderr",
     "output_type": "stream",
     "text": [
      "25063 INFO flwr 2023-03-23 11:04:31,821 | server.py:140 | fit progress: (26, 319.02267622947693, {'accuracy': 0.4508}, 241.99142267299976)\n",
      "25063 INFO flwr 2023-03-23 11:04:31,822 | server.py:190 | evaluate_round 26: no clients selected, cancel\n",
      "25063 DEBUG flwr 2023-03-23 11:04:31,828 | server.py:255 | fit_round 27: strategy sampled 5 clients (out of 100)\n",
      "25063 DEBUG flwr 2023-03-23 11:04:31,830 | server.py:435 | Sending instructions to clients\n"
     ]
    },
    {
     "name": "stdout",
     "output_type": "stream",
     "text": [
      "Working out which clients to instruct\n",
      "Want 5 more clients, minimum 5\n",
      "Selected clients = ['23', '99', '92', '89', '43']\n",
      "Client finshed: 58\n",
      "Client finshed: 46\n",
      "Client finshed: 31\n"
     ]
    },
    {
     "name": "stderr",
     "output_type": "stream",
     "text": [
      "25063 DEBUG flwr 2023-03-23 11:04:37,035 | server.py:461 | Received enough responses from clients\n",
      "25063 DEBUG flwr 2023-03-23 11:04:37,038 | server.py:279 | fit_round 27 received 5 results and 0 failures\n"
     ]
    },
    {
     "name": "stdout",
     "output_type": "stream",
     "text": [
      "Client finshed: 91\n",
      "Client finshed: 57\n",
      "These clients sent updates: [('58', 1), ('46', 1), ('31', 1), ('91', 1), ('57', 1)]\n",
      "These clients failed: []\n"
     ]
    },
    {
     "name": "stderr",
     "output_type": "stream",
     "text": [
      "25063 INFO flwr 2023-03-23 11:04:41,686 | server.py:140 | fit progress: (27, 323.6001077890396, {'accuracy': 0.447}, 251.85671583799922)\n",
      "25063 INFO flwr 2023-03-23 11:04:41,688 | server.py:190 | evaluate_round 27: no clients selected, cancel\n",
      "25063 DEBUG flwr 2023-03-23 11:04:41,693 | server.py:255 | fit_round 28: strategy sampled 5 clients (out of 100)\n",
      "25063 DEBUG flwr 2023-03-23 11:04:41,694 | server.py:435 | Sending instructions to clients\n"
     ]
    },
    {
     "name": "stdout",
     "output_type": "stream",
     "text": [
      "Working out which clients to instruct\n",
      "Want 5 more clients, minimum 5\n",
      "Selected clients = ['72', '82', '93', '21', '15']\n",
      "Client finshed: 99\n",
      "Client finshed: 92\n",
      "Client finshed: 23\n",
      "Client finshed: 43\n"
     ]
    },
    {
     "name": "stderr",
     "output_type": "stream",
     "text": [
      "25063 DEBUG flwr 2023-03-23 11:04:46,993 | server.py:461 | Received enough responses from clients\n",
      "25063 DEBUG flwr 2023-03-23 11:04:46,997 | server.py:279 | fit_round 28 received 5 results and 0 failures\n"
     ]
    },
    {
     "name": "stdout",
     "output_type": "stream",
     "text": [
      "Client finshed: 89\n",
      "These clients sent updates: [('99', 1), ('92', 1), ('23', 1), ('43', 1), ('89', 1)]\n",
      "These clients failed: []\n"
     ]
    },
    {
     "name": "stderr",
     "output_type": "stream",
     "text": [
      "25063 INFO flwr 2023-03-23 11:04:51,484 | server.py:140 | fit progress: (28, 347.65332663059235, {'accuracy': 0.3689}, 261.65443714699995)\n",
      "25063 INFO flwr 2023-03-23 11:04:51,486 | server.py:190 | evaluate_round 28: no clients selected, cancel\n",
      "25063 DEBUG flwr 2023-03-23 11:04:51,492 | server.py:255 | fit_round 29: strategy sampled 5 clients (out of 100)\n",
      "25063 DEBUG flwr 2023-03-23 11:04:51,494 | server.py:435 | Sending instructions to clients\n"
     ]
    },
    {
     "name": "stdout",
     "output_type": "stream",
     "text": [
      "Working out which clients to instruct\n",
      "Want 5 more clients, minimum 5\n",
      "Selected clients = ['98', '20', '36', '12', '59']\n",
      "Client finshed: 15\n",
      "Client finshed: 82\n",
      "Client finshed: 21\n",
      "Client finshed: 72\n"
     ]
    },
    {
     "name": "stderr",
     "output_type": "stream",
     "text": [
      "25063 DEBUG flwr 2023-03-23 11:04:55,008 | server.py:461 | Received enough responses from clients\n",
      "25063 DEBUG flwr 2023-03-23 11:04:55,011 | server.py:279 | fit_round 29 received 5 results and 0 failures\n"
     ]
    },
    {
     "name": "stdout",
     "output_type": "stream",
     "text": [
      "Client finshed: 93\n",
      "These clients sent updates: [('15', 1), ('82', 1), ('21', 1), ('72', 1), ('93', 1)]\n",
      "These clients failed: []\n"
     ]
    },
    {
     "name": "stderr",
     "output_type": "stream",
     "text": [
      "25063 INFO flwr 2023-03-23 11:05:00,231 | server.py:140 | fit progress: (29, 330.57621216773987, {'accuracy': 0.4518}, 270.40192704699984)\n",
      "25063 INFO flwr 2023-03-23 11:05:00,233 | server.py:190 | evaluate_round 29: no clients selected, cancel\n",
      "25063 DEBUG flwr 2023-03-23 11:05:00,241 | server.py:255 | fit_round 30: strategy sampled 5 clients (out of 100)\n",
      "25063 DEBUG flwr 2023-03-23 11:05:00,242 | server.py:435 | Sending instructions to clients\n"
     ]
    },
    {
     "name": "stdout",
     "output_type": "stream",
     "text": [
      "Working out which clients to instruct\n",
      "Want 5 more clients, minimum 5\n",
      "Selected clients = ['10', '85', '61', '38', '27']\n",
      "Client finshed: 59\n",
      "Client finshed: 20\n",
      "Client finshed: 36\n",
      "Client finshed: 12\n"
     ]
    },
    {
     "name": "stderr",
     "output_type": "stream",
     "text": [
      "25063 DEBUG flwr 2023-03-23 11:05:05,235 | server.py:461 | Received enough responses from clients\n",
      "25063 DEBUG flwr 2023-03-23 11:05:05,237 | server.py:279 | fit_round 30 received 5 results and 0 failures\n"
     ]
    },
    {
     "name": "stdout",
     "output_type": "stream",
     "text": [
      "Client finshed: 98\n",
      "These clients sent updates: [('59', 1), ('20', 1), ('36', 1), ('12', 1), ('98', 1)]\n",
      "These clients failed: []\n"
     ]
    },
    {
     "name": "stderr",
     "output_type": "stream",
     "text": [
      "25063 INFO flwr 2023-03-23 11:05:10,164 | server.py:140 | fit progress: (30, 337.5591049194336, {'accuracy': 0.4226}, 280.3350661839995)\n",
      "25063 INFO flwr 2023-03-23 11:05:10,165 | server.py:190 | evaluate_round 30: no clients selected, cancel\n",
      "25063 DEBUG flwr 2023-03-23 11:05:10,171 | server.py:255 | fit_round 31: strategy sampled 5 clients (out of 100)\n",
      "25063 DEBUG flwr 2023-03-23 11:05:10,174 | server.py:435 | Sending instructions to clients\n"
     ]
    },
    {
     "name": "stdout",
     "output_type": "stream",
     "text": [
      "Working out which clients to instruct\n",
      "Want 5 more clients, minimum 5\n",
      "Selected clients = ['53', '63', '49', '69', '65']\n",
      "Client finshed: 61\n",
      "Client finshed: 27\n",
      "Client finshed: 38\n",
      "Client finshed: 85\n"
     ]
    },
    {
     "name": "stderr",
     "output_type": "stream",
     "text": [
      "25063 DEBUG flwr 2023-03-23 11:05:13,235 | server.py:461 | Received enough responses from clients\n",
      "25063 DEBUG flwr 2023-03-23 11:05:13,239 | server.py:279 | fit_round 31 received 5 results and 0 failures\n"
     ]
    },
    {
     "name": "stdout",
     "output_type": "stream",
     "text": [
      "Client finshed: 10\n",
      "These clients sent updates: [('61', 1), ('27', 1), ('38', 1), ('85', 1), ('10', 1)]\n",
      "These clients failed: []\n"
     ]
    },
    {
     "name": "stderr",
     "output_type": "stream",
     "text": [
      "25063 INFO flwr 2023-03-23 11:05:18,581 | server.py:140 | fit progress: (31, 331.01889729499817, {'accuracy': 0.4581}, 288.7517282439994)\n",
      "25063 INFO flwr 2023-03-23 11:05:18,583 | server.py:190 | evaluate_round 31: no clients selected, cancel\n",
      "25063 DEBUG flwr 2023-03-23 11:05:18,588 | server.py:255 | fit_round 32: strategy sampled 5 clients (out of 100)\n",
      "25063 DEBUG flwr 2023-03-23 11:05:18,592 | server.py:435 | Sending instructions to clients\n"
     ]
    },
    {
     "name": "stdout",
     "output_type": "stream",
     "text": [
      "Working out which clients to instruct\n",
      "Want 5 more clients, minimum 5\n",
      "Selected clients = ['14', '90', '3', '51', '46']\n",
      "Client finshed: 49\n",
      "Client finshed: 63\n",
      "Client finshed: 53\n",
      "Client finshed: 65\n"
     ]
    },
    {
     "name": "stderr",
     "output_type": "stream",
     "text": [
      "25063 DEBUG flwr 2023-03-23 11:05:25,408 | server.py:461 | Received enough responses from clients\n",
      "25063 DEBUG flwr 2023-03-23 11:05:25,414 | server.py:279 | fit_round 32 received 5 results and 0 failures\n"
     ]
    },
    {
     "name": "stdout",
     "output_type": "stream",
     "text": [
      "Client finshed: 69\n",
      "These clients sent updates: [('49', 1), ('63', 1), ('53', 1), ('65', 1), ('69', 1)]\n",
      "These clients failed: []\n"
     ]
    },
    {
     "name": "stderr",
     "output_type": "stream",
     "text": [
      "25063 INFO flwr 2023-03-23 11:05:30,097 | server.py:140 | fit progress: (32, 310.8672397136688, {'accuracy': 0.4544}, 300.26777335599945)\n",
      "25063 INFO flwr 2023-03-23 11:05:30,101 | server.py:190 | evaluate_round 32: no clients selected, cancel\n",
      "25063 DEBUG flwr 2023-03-23 11:05:30,112 | server.py:255 | fit_round 33: strategy sampled 5 clients (out of 100)\n",
      "25063 DEBUG flwr 2023-03-23 11:05:30,114 | server.py:435 | Sending instructions to clients\n"
     ]
    },
    {
     "name": "stdout",
     "output_type": "stream",
     "text": [
      "Working out which clients to instruct\n",
      "Want 5 more clients, minimum 5\n",
      "Selected clients = ['96', '23', '37', '66', '36']\n",
      "Client finshed: 51\n",
      "Client finshed: 90\n",
      "Client finshed: 14\n",
      "Client finshed: 3\n"
     ]
    },
    {
     "name": "stderr",
     "output_type": "stream",
     "text": [
      "25063 DEBUG flwr 2023-03-23 11:05:34,208 | server.py:461 | Received enough responses from clients\n",
      "25063 DEBUG flwr 2023-03-23 11:05:34,211 | server.py:279 | fit_round 33 received 5 results and 0 failures\n"
     ]
    },
    {
     "name": "stdout",
     "output_type": "stream",
     "text": [
      "Client finshed: 46\n",
      "These clients sent updates: [('51', 1), ('90', 1), ('14', 1), ('3', 1), ('46', 1)]\n",
      "These clients failed: []\n"
     ]
    },
    {
     "name": "stderr",
     "output_type": "stream",
     "text": [
      "25063 INFO flwr 2023-03-23 11:05:38,847 | server.py:140 | fit progress: (33, 319.7767471075058, {'accuracy': 0.4522}, 309.0179294239997)\n",
      "25063 INFO flwr 2023-03-23 11:05:38,849 | server.py:190 | evaluate_round 33: no clients selected, cancel\n",
      "25063 DEBUG flwr 2023-03-23 11:05:38,854 | server.py:255 | fit_round 34: strategy sampled 5 clients (out of 100)\n",
      "25063 DEBUG flwr 2023-03-23 11:05:38,856 | server.py:435 | Sending instructions to clients\n"
     ]
    },
    {
     "name": "stdout",
     "output_type": "stream",
     "text": [
      "Working out which clients to instruct\n",
      "Want 5 more clients, minimum 5\n",
      "Selected clients = ['79', '34', '81', '50', '91']\n",
      "Client finshed: 37\n",
      "Client finshed: 66\n",
      "Client finshed: 23\n",
      "Client finshed: 96\n"
     ]
    },
    {
     "name": "stderr",
     "output_type": "stream",
     "text": [
      "25063 DEBUG flwr 2023-03-23 11:05:41,652 | server.py:461 | Received enough responses from clients\n",
      "25063 DEBUG flwr 2023-03-23 11:05:41,655 | server.py:279 | fit_round 34 received 5 results and 0 failures\n"
     ]
    },
    {
     "name": "stdout",
     "output_type": "stream",
     "text": [
      "Client finshed: 36\n",
      "These clients sent updates: [('37', 1), ('66', 1), ('23', 1), ('96', 1), ('36', 1)]\n",
      "These clients failed: []\n"
     ]
    },
    {
     "name": "stderr",
     "output_type": "stream",
     "text": [
      "25063 INFO flwr 2023-03-23 11:05:47,644 | server.py:140 | fit progress: (34, 313.8543610572815, {'accuracy': 0.4594}, 317.81478931499987)\n",
      "25063 INFO flwr 2023-03-23 11:05:47,646 | server.py:190 | evaluate_round 34: no clients selected, cancel\n",
      "25063 DEBUG flwr 2023-03-23 11:05:47,652 | server.py:255 | fit_round 35: strategy sampled 5 clients (out of 100)\n",
      "25063 DEBUG flwr 2023-03-23 11:05:47,653 | server.py:435 | Sending instructions to clients\n"
     ]
    },
    {
     "name": "stdout",
     "output_type": "stream",
     "text": [
      "Working out which clients to instruct\n",
      "Want 5 more clients, minimum 5\n",
      "Selected clients = ['7', '10', '21', '32', '57']\n",
      "Client finshed: 50\n",
      "Client finshed: 91\n",
      "Client finshed: 79\n",
      "Client finshed: 81\n"
     ]
    },
    {
     "name": "stderr",
     "output_type": "stream",
     "text": [
      "25063 DEBUG flwr 2023-03-23 11:05:51,964 | server.py:461 | Received enough responses from clients\n",
      "25063 DEBUG flwr 2023-03-23 11:05:51,968 | server.py:279 | fit_round 35 received 5 results and 0 failures\n"
     ]
    },
    {
     "name": "stdout",
     "output_type": "stream",
     "text": [
      "Client finshed: 34\n",
      "These clients sent updates: [('50', 1), ('91', 1), ('79', 1), ('81', 1), ('34', 1)]\n",
      "These clients failed: []\n"
     ]
    },
    {
     "name": "stderr",
     "output_type": "stream",
     "text": [
      "25063 INFO flwr 2023-03-23 11:05:57,637 | server.py:140 | fit progress: (35, 316.17050290107727, {'accuracy': 0.4629}, 327.8080854079999)\n",
      "25063 INFO flwr 2023-03-23 11:05:57,639 | server.py:190 | evaluate_round 35: no clients selected, cancel\n",
      "25063 DEBUG flwr 2023-03-23 11:05:57,644 | server.py:255 | fit_round 36: strategy sampled 5 clients (out of 100)\n",
      "25063 DEBUG flwr 2023-03-23 11:05:57,645 | server.py:435 | Sending instructions to clients\n"
     ]
    },
    {
     "name": "stdout",
     "output_type": "stream",
     "text": [
      "Working out which clients to instruct\n",
      "Want 5 more clients, minimum 5\n",
      "Selected clients = ['24', '23', '87', '2', '48']\n",
      "Client finshed: 7\n",
      "Client finshed: 21\n",
      "Client finshed: 10\n",
      "Client finshed: 32\n"
     ]
    },
    {
     "name": "stderr",
     "output_type": "stream",
     "text": [
      "25063 DEBUG flwr 2023-03-23 11:06:01,742 | server.py:461 | Received enough responses from clients\n",
      "25063 DEBUG flwr 2023-03-23 11:06:01,745 | server.py:279 | fit_round 36 received 5 results and 0 failures\n"
     ]
    },
    {
     "name": "stdout",
     "output_type": "stream",
     "text": [
      "Client finshed: 57\n",
      "These clients sent updates: [('7', 1), ('21', 1), ('10', 1), ('32', 1), ('57', 1)]\n",
      "These clients failed: []\n"
     ]
    },
    {
     "name": "stderr",
     "output_type": "stream",
     "text": [
      "25063 INFO flwr 2023-03-23 11:06:06,390 | server.py:140 | fit progress: (36, 319.3345729112625, {'accuracy': 0.4532}, 336.56070180699953)\n",
      "25063 INFO flwr 2023-03-23 11:06:06,392 | server.py:190 | evaluate_round 36: no clients selected, cancel\n",
      "25063 DEBUG flwr 2023-03-23 11:06:06,397 | server.py:255 | fit_round 37: strategy sampled 5 clients (out of 100)\n",
      "25063 DEBUG flwr 2023-03-23 11:06:06,400 | server.py:435 | Sending instructions to clients\n"
     ]
    },
    {
     "name": "stdout",
     "output_type": "stream",
     "text": [
      "Working out which clients to instruct\n",
      "Want 5 more clients, minimum 5\n",
      "Selected clients = ['31', '78', '30', '0', '17']\n",
      "Client finshed: 87\n",
      "Client finshed: 24\n",
      "Client finshed: 23\n",
      "Client finshed: 48\n"
     ]
    },
    {
     "name": "stderr",
     "output_type": "stream",
     "text": [
      "25063 DEBUG flwr 2023-03-23 11:06:11,792 | server.py:461 | Received enough responses from clients\n",
      "25063 DEBUG flwr 2023-03-23 11:06:11,795 | server.py:279 | fit_round 37 received 5 results and 0 failures\n"
     ]
    },
    {
     "name": "stdout",
     "output_type": "stream",
     "text": [
      "Client finshed: 2\n",
      "These clients sent updates: [('87', 1), ('24', 1), ('23', 1), ('48', 1), ('2', 1)]\n",
      "These clients failed: []\n"
     ]
    },
    {
     "name": "stderr",
     "output_type": "stream",
     "text": [
      "25063 INFO flwr 2023-03-23 11:06:16,993 | server.py:140 | fit progress: (37, 307.9502092599869, {'accuracy': 0.4563}, 347.1636697539998)\n",
      "25063 INFO flwr 2023-03-23 11:06:16,998 | server.py:190 | evaluate_round 37: no clients selected, cancel\n",
      "25063 DEBUG flwr 2023-03-23 11:06:17,005 | server.py:255 | fit_round 38: strategy sampled 5 clients (out of 100)\n",
      "25063 DEBUG flwr 2023-03-23 11:06:17,006 | server.py:435 | Sending instructions to clients\n"
     ]
    },
    {
     "name": "stdout",
     "output_type": "stream",
     "text": [
      "Working out which clients to instruct\n",
      "Want 5 more clients, minimum 5\n",
      "Selected clients = ['29', '59', '77', '37', '94']\n",
      "Client finshed: 78\n",
      "Client finshed: 31\n",
      "Client finshed: 30\n",
      "Client finshed: 0\n"
     ]
    },
    {
     "name": "stderr",
     "output_type": "stream",
     "text": [
      "25063 DEBUG flwr 2023-03-23 11:06:21,368 | server.py:461 | Received enough responses from clients\n",
      "25063 DEBUG flwr 2023-03-23 11:06:21,374 | server.py:279 | fit_round 38 received 5 results and 0 failures\n"
     ]
    },
    {
     "name": "stdout",
     "output_type": "stream",
     "text": [
      "Client finshed: 17\n",
      "These clients sent updates: [('78', 1), ('31', 1), ('30', 1), ('0', 1), ('17', 1)]\n",
      "These clients failed: []\n"
     ]
    },
    {
     "name": "stderr",
     "output_type": "stream",
     "text": [
      "25063 INFO flwr 2023-03-23 11:06:26,118 | server.py:140 | fit progress: (38, 326.30361020565033, {'accuracy': 0.4644}, 356.28852253199966)\n",
      "25063 INFO flwr 2023-03-23 11:06:26,119 | server.py:190 | evaluate_round 38: no clients selected, cancel\n",
      "25063 DEBUG flwr 2023-03-23 11:06:26,123 | server.py:255 | fit_round 39: strategy sampled 5 clients (out of 100)\n",
      "25063 DEBUG flwr 2023-03-23 11:06:26,124 | server.py:435 | Sending instructions to clients\n"
     ]
    },
    {
     "name": "stdout",
     "output_type": "stream",
     "text": [
      "Working out which clients to instruct\n",
      "Want 5 more clients, minimum 5\n",
      "Selected clients = ['88', '65', '84', '38', '58']\n",
      "Client finshed: 94\n",
      "Client finshed: 29\n",
      "Client finshed: 37\n",
      "Client finshed: 77\n"
     ]
    },
    {
     "name": "stderr",
     "output_type": "stream",
     "text": [
      "25063 DEBUG flwr 2023-03-23 11:06:29,115 | server.py:461 | Received enough responses from clients\n",
      "25063 DEBUG flwr 2023-03-23 11:06:29,119 | server.py:279 | fit_round 39 received 5 results and 0 failures\n"
     ]
    },
    {
     "name": "stdout",
     "output_type": "stream",
     "text": [
      "Client finshed: 59\n",
      "These clients sent updates: [('94', 1), ('29', 1), ('37', 1), ('77', 1), ('59', 1)]\n",
      "These clients failed: []\n"
     ]
    },
    {
     "name": "stderr",
     "output_type": "stream",
     "text": [
      "25063 INFO flwr 2023-03-23 11:06:34,342 | server.py:140 | fit progress: (39, 322.37195897102356, {'accuracy': 0.4484}, 364.5122424739993)\n",
      "25063 INFO flwr 2023-03-23 11:06:34,344 | server.py:190 | evaluate_round 39: no clients selected, cancel\n",
      "25063 DEBUG flwr 2023-03-23 11:06:34,349 | server.py:255 | fit_round 40: strategy sampled 5 clients (out of 100)\n",
      "25063 DEBUG flwr 2023-03-23 11:06:34,350 | server.py:435 | Sending instructions to clients\n"
     ]
    },
    {
     "name": "stdout",
     "output_type": "stream",
     "text": [
      "Working out which clients to instruct\n",
      "Want 5 more clients, minimum 5\n",
      "Selected clients = ['68', '18', '45', '0', '35']\n",
      "Client finshed: 88\n",
      "Client finshed: 84\n",
      "Client finshed: 58\n",
      "Client finshed: 38\n"
     ]
    },
    {
     "name": "stderr",
     "output_type": "stream",
     "text": [
      "25063 DEBUG flwr 2023-03-23 11:06:39,624 | server.py:461 | Received enough responses from clients\n",
      "25063 DEBUG flwr 2023-03-23 11:06:39,629 | server.py:279 | fit_round 40 received 5 results and 0 failures\n"
     ]
    },
    {
     "name": "stdout",
     "output_type": "stream",
     "text": [
      "Client finshed: 65\n",
      "These clients sent updates: [('88', 1), ('84', 1), ('58', 1), ('38', 1), ('65', 1)]\n",
      "These clients failed: []\n"
     ]
    },
    {
     "name": "stderr",
     "output_type": "stream",
     "text": [
      "25063 INFO flwr 2023-03-23 11:06:44,689 | server.py:140 | fit progress: (40, 321.93709552288055, {'accuracy': 0.4646}, 374.8592295619992)\n",
      "25063 INFO flwr 2023-03-23 11:06:44,690 | server.py:190 | evaluate_round 40: no clients selected, cancel\n",
      "25063 INFO flwr 2023-03-23 11:06:46,219 | server.py:171 | FL finished in 376.38955623199945\n",
      "25063 INFO flwr 2023-03-23 11:06:46,223 | app.py:225 | app_fit: losses_distributed []\n",
      "25063 INFO flwr 2023-03-23 11:06:46,225 | app.py:226 | app_fit: metrics_distributed_fit {}\n",
      "25063 INFO flwr 2023-03-23 11:06:46,227 | app.py:227 | app_fit: metrics_distributed {}\n",
      "25063 INFO flwr 2023-03-23 11:06:46,229 | app.py:228 | app_fit: losses_centralized [(0, 460.7783987522125), (1, 453.8803882598877), (2, 453.40291476249695), (3, 414.42474365234375), (4, 416.5387237071991), (5, 396.59955620765686), (6, 396.75235664844513), (7, 399.8076756000519), (8, 379.0973024368286), (9, 357.97907638549805), (10, 361.27526235580444), (11, 348.1148660182953), (12, 346.08798110485077), (13, 360.90504932403564), (14, 339.1662902832031), (15, 337.49304735660553), (16, 344.86458015441895), (17, 330.37171280384064), (18, 335.3663350343704), (19, 323.79184114933014), (20, 329.8821635246277), (21, 323.81775999069214), (22, 346.18437242507935), (23, 331.74897849559784), (24, 322.50355899333954), (25, 316.8592805862427), (26, 319.02267622947693), (27, 323.6001077890396), (28, 347.65332663059235), (29, 330.57621216773987), (30, 337.5591049194336), (31, 331.01889729499817), (32, 310.8672397136688), (33, 319.7767471075058), (34, 313.8543610572815), (35, 316.17050290107727), (36, 319.3345729112625), (37, 307.9502092599869), (38, 326.30361020565033), (39, 322.37195897102356), (40, 321.93709552288055)]\n",
      "25063 INFO flwr 2023-03-23 11:06:46,231 | app.py:229 | app_fit: metrics_centralized {'accuracy': [(0, 0.1003), (1, 0.1617), (2, 0.1297), (3, 0.2503), (4, 0.2574), (5, 0.2896), (6, 0.297), (7, 0.2921), (8, 0.3203), (9, 0.3599), (10, 0.3581), (11, 0.3726), (12, 0.3742), (13, 0.3573), (14, 0.3909), (15, 0.4004), (16, 0.3835), (17, 0.4137), (18, 0.4062), (19, 0.4305), (20, 0.4153), (21, 0.4366), (22, 0.3779), (23, 0.4015), (24, 0.4307), (25, 0.4386), (26, 0.4508), (27, 0.447), (28, 0.3689), (29, 0.4518), (30, 0.4226), (31, 0.4581), (32, 0.4544), (33, 0.4522), (34, 0.4594), (35, 0.4629), (36, 0.4532), (37, 0.4563), (38, 0.4644), (39, 0.4484), (40, 0.4646)]}\n"
     ]
    },
    {
     "name": "stdout",
     "output_type": "stream",
     "text": [
      "Files already downloaded and verified\n",
      "Generating unified CIFAR dataset\n",
      "Class histogram for 0-th partition (alpha=1000, 10 classes): [54 49 47 49 40 55 43 52 56 55]\n"
     ]
    },
    {
     "name": "stderr",
     "output_type": "stream",
     "text": [
      "25063 INFO flwr 2023-03-23 11:06:53,930 | app.py:146 | Starting Flower simulation, config: ServerConfig(num_rounds=40, round_timeout=None, asynchronous=True)\n",
      "2023-03-23 11:06:58,367\tINFO worker.py:1553 -- Started a local Ray instance.\n",
      "25063 INFO flwr 2023-03-23 11:06:59,556 | app.py:180 | Flower VCE: Ray initialized with resources: {'object_store_memory': 1260321177.0, 'node:10.9.7.124': 1.0, 'memory': 2520642356.0, 'CPU': 8.0}\n",
      "25063 INFO flwr 2023-03-23 11:06:59,558 | server.py:95 | Initializing global parameters\n",
      "25063 INFO flwr 2023-03-23 11:06:59,559 | server.py:320 | Requesting initial parameters from one random client\n",
      "25063 INFO flwr 2023-03-23 11:07:01,070 | server.py:324 | Received initial parameters from one random client\n",
      "25063 INFO flwr 2023-03-23 11:07:01,072 | server.py:97 | Evaluating initial parameters\n",
      "25063 INFO flwr 2023-03-23 11:07:04,126 | server.py:100 | initial parameters (loss, other metrics): 461.31730818748474, {'accuracy': 0.0997}\n",
      "25063 INFO flwr 2023-03-23 11:07:04,127 | server.py:110 | FL starting\n",
      "25063 DEBUG flwr 2023-03-23 11:07:04,130 | server.py:255 | fit_round 1: strategy sampled 20 clients (out of 100)\n",
      "25063 DEBUG flwr 2023-03-23 11:07:04,131 | server.py:435 | Sending instructions to clients\n"
     ]
    },
    {
     "name": "stdout",
     "output_type": "stream",
     "text": [
      "Working out which clients to instruct\n",
      "Want 20 more clients, minimum 20\n",
      "Selected clients = ['21', '6', '20', '87', '19', '89', '26', '36', '91', '97', '63', '31', '84', '9', '38', '83', '44', '82', '17', '37']\n",
      "Client finshed: 26\n",
      "Client finshed: 6\n",
      "Client finshed: 87\n",
      "Client finshed: 21\n"
     ]
    },
    {
     "name": "stderr",
     "output_type": "stream",
     "text": [
      "25063 DEBUG flwr 2023-03-23 11:07:12,477 | server.py:461 | Received enough responses from clients\n",
      "25063 DEBUG flwr 2023-03-23 11:07:12,478 | server.py:279 | fit_round 1 received 5 results and 0 failures\n",
      "25063 WARNING flwr 2023-03-23 11:07:12,580 | fedbuff.py:257 | No fit_metrics_aggregation_fn provided\n"
     ]
    },
    {
     "name": "stdout",
     "output_type": "stream",
     "text": [
      "Client finshed: 20\n",
      "These clients sent updates: [('26', 0), ('6', 0), ('87', 0), ('21', 0), ('20', 0)]\n",
      "These clients failed: []\n"
     ]
    },
    {
     "name": "stderr",
     "output_type": "stream",
     "text": [
      "25063 INFO flwr 2023-03-23 11:07:19,863 | server.py:140 | fit progress: (1, 449.8096432685852, {'accuracy': 0.1519}, 15.73594287099968)\n",
      "25063 INFO flwr 2023-03-23 11:07:19,864 | server.py:190 | evaluate_round 1: no clients selected, cancel\n",
      "25063 DEBUG flwr 2023-03-23 11:07:19,869 | server.py:255 | fit_round 2: strategy sampled 5 clients (out of 100)\n",
      "25063 DEBUG flwr 2023-03-23 11:07:19,871 | server.py:435 | Sending instructions to clients\n"
     ]
    },
    {
     "name": "stdout",
     "output_type": "stream",
     "text": [
      "Working out which clients to instruct\n",
      "Want 5 more clients, minimum 5\n",
      "Selected clients = ['92', '33', '73', '76', '88']\n",
      "Client finshed: 89\n",
      "Client finshed: 19\n",
      "Client finshed: 91\n"
     ]
    },
    {
     "name": "stderr",
     "output_type": "stream",
     "text": [
      "25063 DEBUG flwr 2023-03-23 11:07:25,251 | server.py:461 | Received enough responses from clients\n",
      "25063 DEBUG flwr 2023-03-23 11:07:25,264 | server.py:279 | fit_round 2 received 5 results and 0 failures\n"
     ]
    },
    {
     "name": "stdout",
     "output_type": "stream",
     "text": [
      "Client finshed: 97\n",
      "Client finshed: 84\n",
      "These clients sent updates: [('89', 1), ('19', 1), ('91', 1), ('97', 1), ('84', 1)]\n",
      "These clients failed: []\n"
     ]
    },
    {
     "name": "stderr",
     "output_type": "stream",
     "text": [
      "25063 INFO flwr 2023-03-23 11:07:32,948 | server.py:140 | fit progress: (2, 450.37589836120605, {'accuracy': 0.1655}, 28.820392132000052)\n",
      "25063 INFO flwr 2023-03-23 11:07:32,949 | server.py:190 | evaluate_round 2: no clients selected, cancel\n",
      "25063 DEBUG flwr 2023-03-23 11:07:32,956 | server.py:255 | fit_round 3: strategy sampled 5 clients (out of 100)\n",
      "25063 DEBUG flwr 2023-03-23 11:07:32,957 | server.py:435 | Sending instructions to clients\n",
      "25063 DEBUG flwr 2023-03-23 11:07:32,959 | server.py:461 | Received enough responses from clients\n",
      "25063 DEBUG flwr 2023-03-23 11:07:32,989 | server.py:279 | fit_round 3 received 5 results and 0 failures\n"
     ]
    },
    {
     "name": "stdout",
     "output_type": "stream",
     "text": [
      "Working out which clients to instruct\n",
      "Want 5 more clients, minimum 5\n",
      "Selected clients = ['25', '78', '1', '24', '75']\n",
      "Client finshed: 36\n",
      "Client finshed: 83\n",
      "Client finshed: 63\n",
      "Client finshed: 31\n",
      "Client finshed: 9\n",
      "These clients sent updates: [('36', 2), ('83', 2), ('63', 2), ('31', 2), ('9', 2)]\n",
      "These clients failed: []\n"
     ]
    },
    {
     "name": "stderr",
     "output_type": "stream",
     "text": [
      "25063 INFO flwr 2023-03-23 11:07:38,828 | server.py:140 | fit progress: (3, 451.40450072288513, {'accuracy': 0.171}, 34.70113179799955)\n",
      "25063 INFO flwr 2023-03-23 11:07:38,829 | server.py:190 | evaluate_round 3: no clients selected, cancel\n",
      "25063 DEBUG flwr 2023-03-23 11:07:38,834 | server.py:255 | fit_round 4: strategy sampled 5 clients (out of 100)\n",
      "25063 DEBUG flwr 2023-03-23 11:07:38,835 | server.py:435 | Sending instructions to clients\n"
     ]
    },
    {
     "name": "stdout",
     "output_type": "stream",
     "text": [
      "Working out which clients to instruct\n",
      "Want 5 more clients, minimum 5\n",
      "Selected clients = ['53', '80', '97', '98', '22']\n",
      "Client finshed: 38\n",
      "Client finshed: 17\n",
      "Client finshed: 82\n"
     ]
    },
    {
     "name": "stderr",
     "output_type": "stream",
     "text": [
      "25063 DEBUG flwr 2023-03-23 11:07:44,319 | server.py:461 | Received enough responses from clients\n",
      "25063 DEBUG flwr 2023-03-23 11:07:44,334 | server.py:279 | fit_round 4 received 5 results and 0 failures\n"
     ]
    },
    {
     "name": "stdout",
     "output_type": "stream",
     "text": [
      "Client finshed: 37\n",
      "Client finshed: 44\n",
      "These clients sent updates: [('38', 3), ('17', 3), ('82', 3), ('37', 3), ('44', 3)]\n",
      "These clients failed: []\n"
     ]
    },
    {
     "name": "stderr",
     "output_type": "stream",
     "text": [
      "25063 INFO flwr 2023-03-23 11:07:53,242 | server.py:140 | fit progress: (4, 452.4175877571106, {'accuracy': 0.151}, 49.11503158599953)\n",
      "25063 INFO flwr 2023-03-23 11:07:53,243 | server.py:190 | evaluate_round 4: no clients selected, cancel\n",
      "25063 DEBUG flwr 2023-03-23 11:07:53,249 | server.py:255 | fit_round 5: strategy sampled 5 clients (out of 100)\n",
      "25063 DEBUG flwr 2023-03-23 11:07:53,250 | server.py:435 | Sending instructions to clients\n"
     ]
    },
    {
     "name": "stdout",
     "output_type": "stream",
     "text": [
      "Working out which clients to instruct\n",
      "Want 5 more clients, minimum 5\n",
      "Selected clients = ['52', '82', '19', '48', '79']\n",
      "Client finshed: 76\n",
      "Client finshed: 33\n",
      "Client finshed: 73\n",
      "Client finshed: 92\n"
     ]
    },
    {
     "name": "stderr",
     "output_type": "stream",
     "text": [
      "25063 DEBUG flwr 2023-03-23 11:07:58,100 | server.py:461 | Received enough responses from clients\n",
      "25063 DEBUG flwr 2023-03-23 11:07:58,102 | server.py:279 | fit_round 5 received 5 results and 0 failures\n"
     ]
    },
    {
     "name": "stdout",
     "output_type": "stream",
     "text": [
      "Client finshed: 1\n",
      "These clients sent updates: [('76', 3), ('33', 3), ('73', 3), ('92', 3), ('1', 2)]\n",
      "These clients failed: []\n"
     ]
    },
    {
     "name": "stderr",
     "output_type": "stream",
     "text": [
      "25063 INFO flwr 2023-03-23 11:08:04,222 | server.py:140 | fit progress: (5, 417.72204303741455, {'accuracy': 0.2486}, 60.0949852269996)\n",
      "25063 INFO flwr 2023-03-23 11:08:04,225 | server.py:190 | evaluate_round 5: no clients selected, cancel\n",
      "25063 DEBUG flwr 2023-03-23 11:08:04,232 | server.py:255 | fit_round 6: strategy sampled 5 clients (out of 100)\n",
      "25063 DEBUG flwr 2023-03-23 11:08:04,236 | server.py:435 | Sending instructions to clients\n"
     ]
    },
    {
     "name": "stdout",
     "output_type": "stream",
     "text": [
      "Working out which clients to instruct\n",
      "Want 5 more clients, minimum 5\n",
      "Selected clients = ['51', '10', '46', '68', '67']\n",
      "Client finshed: 25\n",
      "Client finshed: 78\n",
      "Client finshed: 88\n",
      "Client finshed: 75\n"
     ]
    },
    {
     "name": "stderr",
     "output_type": "stream",
     "text": [
      "25063 DEBUG flwr 2023-03-23 11:08:05,383 | server.py:461 | Received enough responses from clients\n",
      "25063 DEBUG flwr 2023-03-23 11:08:05,398 | server.py:279 | fit_round 6 received 5 results and 0 failures\n"
     ]
    },
    {
     "name": "stdout",
     "output_type": "stream",
     "text": [
      "Client finshed: 24\n",
      "These clients sent updates: [('25', 3), ('78', 3), ('88', 4), ('75', 3), ('24', 3)]\n",
      "These clients failed: []\n"
     ]
    },
    {
     "name": "stderr",
     "output_type": "stream",
     "text": [
      "25063 INFO flwr 2023-03-23 11:08:12,214 | server.py:140 | fit progress: (6, 414.90130400657654, {'accuracy': 0.2451}, 68.087138074)\n",
      "25063 INFO flwr 2023-03-23 11:08:12,216 | server.py:190 | evaluate_round 6: no clients selected, cancel\n",
      "25063 DEBUG flwr 2023-03-23 11:08:12,227 | server.py:255 | fit_round 7: strategy sampled 5 clients (out of 100)\n",
      "25063 DEBUG flwr 2023-03-23 11:08:12,228 | server.py:435 | Sending instructions to clients\n"
     ]
    },
    {
     "name": "stdout",
     "output_type": "stream",
     "text": [
      "Working out which clients to instruct\n",
      "Want 5 more clients, minimum 5\n",
      "Selected clients = ['7', '70', '90', '69', '54']\n",
      "Client finshed: 80\n",
      "Client finshed: 53\n",
      "Client finshed: 97\n"
     ]
    },
    {
     "name": "stderr",
     "output_type": "stream",
     "text": [
      "25063 DEBUG flwr 2023-03-23 11:08:14,999 | server.py:461 | Received enough responses from clients\n",
      "25063 DEBUG flwr 2023-03-23 11:08:15,021 | server.py:279 | fit_round 7 received 5 results and 0 failures\n"
     ]
    },
    {
     "name": "stdout",
     "output_type": "stream",
     "text": [
      "Client finshed: 98\n",
      "Client finshed: 22\n",
      "These clients sent updates: [('80', 3), ('53', 3), ('97', 3), ('98', 3), ('22', 3)]\n",
      "These clients failed: []\n"
     ]
    },
    {
     "name": "stderr",
     "output_type": "stream",
     "text": [
      "25063 INFO flwr 2023-03-23 11:08:21,755 | server.py:140 | fit progress: (7, 417.22316122055054, {'accuracy': 0.2478}, 77.62799542399989)\n",
      "25063 INFO flwr 2023-03-23 11:08:21,756 | server.py:190 | evaluate_round 7: no clients selected, cancel\n",
      "25063 DEBUG flwr 2023-03-23 11:08:21,761 | server.py:255 | fit_round 8: strategy sampled 5 clients (out of 100)\n",
      "25063 DEBUG flwr 2023-03-23 11:08:21,762 | server.py:435 | Sending instructions to clients\n"
     ]
    },
    {
     "name": "stdout",
     "output_type": "stream",
     "text": [
      "Working out which clients to instruct\n",
      "Want 5 more clients, minimum 5\n",
      "Selected clients = ['87', '64', '31', '9', '45']\n",
      "Client finshed: 52\n",
      "Client finshed: 19\n",
      "Client finshed: 48\n",
      "Client finshed: 82\n"
     ]
    },
    {
     "name": "stderr",
     "output_type": "stream",
     "text": [
      "25063 DEBUG flwr 2023-03-23 11:08:24,464 | server.py:461 | Received enough responses from clients\n",
      "25063 DEBUG flwr 2023-03-23 11:08:24,466 | server.py:279 | fit_round 8 received 5 results and 0 failures\n"
     ]
    },
    {
     "name": "stdout",
     "output_type": "stream",
     "text": [
      "Client finshed: 79\n",
      "These clients sent updates: [('52', 3), ('19', 3), ('48', 3), ('82', 3), ('79', 3)]\n",
      "These clients failed: []\n"
     ]
    },
    {
     "name": "stderr",
     "output_type": "stream",
     "text": [
      "25063 INFO flwr 2023-03-23 11:08:30,399 | server.py:140 | fit progress: (8, 419.58214592933655, {'accuracy': 0.2313}, 86.27162495099947)\n",
      "25063 INFO flwr 2023-03-23 11:08:30,400 | server.py:190 | evaluate_round 8: no clients selected, cancel\n",
      "25063 DEBUG flwr 2023-03-23 11:08:30,407 | server.py:255 | fit_round 9: strategy sampled 5 clients (out of 100)\n",
      "25063 DEBUG flwr 2023-03-23 11:08:30,408 | server.py:435 | Sending instructions to clients\n"
     ]
    },
    {
     "name": "stdout",
     "output_type": "stream",
     "text": [
      "Working out which clients to instruct\n",
      "Want 5 more clients, minimum 5\n",
      "Selected clients = ['65', '42', '22', '98', '18']\n",
      "Client finshed: 10\n",
      "Client finshed: 51\n",
      "Client finshed: 68\n",
      "Client finshed: 46\n"
     ]
    },
    {
     "name": "stderr",
     "output_type": "stream",
     "text": [
      "25063 DEBUG flwr 2023-03-23 11:08:33,773 | server.py:461 | Received enough responses from clients\n",
      "25063 DEBUG flwr 2023-03-23 11:08:33,777 | server.py:279 | fit_round 9 received 5 results and 0 failures\n"
     ]
    },
    {
     "name": "stdout",
     "output_type": "stream",
     "text": [
      "Client finshed: 67\n",
      "These clients sent updates: [('10', 3), ('51', 3), ('68', 3), ('46', 3), ('67', 3)]\n",
      "These clients failed: []\n"
     ]
    },
    {
     "name": "stderr",
     "output_type": "stream",
     "text": [
      "25063 INFO flwr 2023-03-23 11:08:39,302 | server.py:140 | fit progress: (9, 409.76895701885223, {'accuracy': 0.2557}, 95.17522530600036)\n",
      "25063 INFO flwr 2023-03-23 11:08:39,309 | server.py:190 | evaluate_round 9: no clients selected, cancel\n",
      "25063 DEBUG flwr 2023-03-23 11:08:39,318 | server.py:255 | fit_round 10: strategy sampled 5 clients (out of 100)\n",
      "25063 DEBUG flwr 2023-03-23 11:08:39,320 | server.py:435 | Sending instructions to clients\n"
     ]
    },
    {
     "name": "stdout",
     "output_type": "stream",
     "text": [
      "Working out which clients to instruct\n",
      "Want 5 more clients, minimum 5\n",
      "Selected clients = ['99', '50', '20', '23', '3']\n",
      "Client finshed: 7\n",
      "Client finshed: 70\n",
      "Client finshed: 90\n"
     ]
    },
    {
     "name": "stderr",
     "output_type": "stream",
     "text": [
      "25063 DEBUG flwr 2023-03-23 11:08:45,621 | server.py:461 | Received enough responses from clients\n",
      "25063 DEBUG flwr 2023-03-23 11:08:45,630 | server.py:279 | fit_round 10 received 5 results and 0 failures\n"
     ]
    },
    {
     "name": "stdout",
     "output_type": "stream",
     "text": [
      "Client finshed: 69\n",
      "Client finshed: 54\n",
      "These clients sent updates: [('7', 3), ('70', 3), ('90', 3), ('69', 3), ('54', 3)]\n",
      "These clients failed: []\n"
     ]
    },
    {
     "name": "stderr",
     "output_type": "stream",
     "text": [
      "25063 INFO flwr 2023-03-23 11:08:52,711 | server.py:140 | fit progress: (10, 396.5217270851135, {'accuracy': 0.2874}, 108.58364146199983)\n",
      "25063 INFO flwr 2023-03-23 11:08:52,712 | server.py:190 | evaluate_round 10: no clients selected, cancel\n",
      "25063 DEBUG flwr 2023-03-23 11:08:52,716 | server.py:255 | fit_round 11: strategy sampled 5 clients (out of 100)\n",
      "25063 DEBUG flwr 2023-03-23 11:08:52,717 | server.py:435 | Sending instructions to clients\n"
     ]
    },
    {
     "name": "stdout",
     "output_type": "stream",
     "text": [
      "Working out which clients to instruct\n",
      "Want 5 more clients, minimum 5\n",
      "Selected clients = ['52', '26', '39', '59', '27']\n",
      "Client finshed: 87\n",
      "Client finshed: 31\n",
      "Client finshed: 64\n",
      "Client finshed: 9\n"
     ]
    },
    {
     "name": "stderr",
     "output_type": "stream",
     "text": [
      "25063 DEBUG flwr 2023-03-23 11:08:57,857 | server.py:461 | Received enough responses from clients\n",
      "25063 DEBUG flwr 2023-03-23 11:08:57,860 | server.py:279 | fit_round 11 received 5 results and 0 failures\n"
     ]
    },
    {
     "name": "stdout",
     "output_type": "stream",
     "text": [
      "Client finshed: 65\n",
      "These clients sent updates: [('87', 3), ('31', 3), ('64', 3), ('9', 3), ('65', 2)]\n",
      "These clients failed: []\n"
     ]
    },
    {
     "name": "stderr",
     "output_type": "stream",
     "text": [
      "25063 INFO flwr 2023-03-23 11:09:04,436 | server.py:140 | fit progress: (11, 394.17833387851715, {'accuracy': 0.2983}, 120.30868625400035)\n",
      "25063 INFO flwr 2023-03-23 11:09:04,438 | server.py:190 | evaluate_round 11: no clients selected, cancel\n",
      "25063 DEBUG flwr 2023-03-23 11:09:04,443 | server.py:255 | fit_round 12: strategy sampled 5 clients (out of 100)\n",
      "25063 DEBUG flwr 2023-03-23 11:09:04,446 | server.py:435 | Sending instructions to clients\n",
      "25063 DEBUG flwr 2023-03-23 11:09:04,448 | server.py:461 | Received enough responses from clients\n",
      "25063 DEBUG flwr 2023-03-23 11:09:04,481 | server.py:279 | fit_round 12 received 5 results and 0 failures\n"
     ]
    },
    {
     "name": "stdout",
     "output_type": "stream",
     "text": [
      "Working out which clients to instruct\n",
      "Want 5 more clients, minimum 5\n",
      "Selected clients = ['14', '11', '19', '97', '70']\n",
      "Client finshed: 42\n",
      "Client finshed: 99\n",
      "Client finshed: 22\n",
      "Client finshed: 45\n",
      "Client finshed: 18\n",
      "These clients sent updates: [('42', 3), ('99', 2), ('22', 3), ('45', 4), ('18', 3)]\n",
      "These clients failed: []\n"
     ]
    },
    {
     "name": "stderr",
     "output_type": "stream",
     "text": [
      "25063 INFO flwr 2023-03-23 11:09:09,333 | server.py:140 | fit progress: (12, 405.18534719944, {'accuracy': 0.2432}, 125.20627834700008)\n",
      "25063 INFO flwr 2023-03-23 11:09:09,335 | server.py:190 | evaluate_round 12: no clients selected, cancel\n",
      "25063 DEBUG flwr 2023-03-23 11:09:09,339 | server.py:255 | fit_round 13: strategy sampled 5 clients (out of 100)\n",
      "25063 DEBUG flwr 2023-03-23 11:09:09,341 | server.py:435 | Sending instructions to clients\n"
     ]
    },
    {
     "name": "stdout",
     "output_type": "stream",
     "text": [
      "Working out which clients to instruct\n",
      "Want 5 more clients, minimum 5\n",
      "Selected clients = ['73', '53', '57', '78', '31']\n",
      "Client finshed: 98\n",
      "Client finshed: 50\n",
      "Client finshed: 20\n"
     ]
    },
    {
     "name": "stderr",
     "output_type": "stream",
     "text": [
      "25063 DEBUG flwr 2023-03-23 11:09:15,110 | server.py:461 | Received enough responses from clients\n",
      "25063 DEBUG flwr 2023-03-23 11:09:15,125 | server.py:279 | fit_round 13 received 5 results and 0 failures\n"
     ]
    },
    {
     "name": "stdout",
     "output_type": "stream",
     "text": [
      "Client finshed: 23\n",
      "Client finshed: 3\n",
      "These clients sent updates: [('98', 4), ('50', 3), ('20', 3), ('23', 3), ('3', 3)]\n",
      "These clients failed: []\n"
     ]
    },
    {
     "name": "stderr",
     "output_type": "stream",
     "text": [
      "25063 INFO flwr 2023-03-23 11:09:21,245 | server.py:140 | fit progress: (13, 383.81866931915283, {'accuracy': 0.3068}, 137.11768859099993)\n",
      "25063 INFO flwr 2023-03-23 11:09:21,246 | server.py:190 | evaluate_round 13: no clients selected, cancel\n",
      "25063 DEBUG flwr 2023-03-23 11:09:21,250 | server.py:255 | fit_round 14: strategy sampled 5 clients (out of 100)\n",
      "25063 DEBUG flwr 2023-03-23 11:09:21,252 | server.py:435 | Sending instructions to clients\n"
     ]
    },
    {
     "name": "stdout",
     "output_type": "stream",
     "text": [
      "Working out which clients to instruct\n",
      "Want 5 more clients, minimum 5\n",
      "Selected clients = ['74', '16', '84', '32', '37']\n",
      "Client finshed: 52\n",
      "Client finshed: 26\n",
      "Client finshed: 39\n",
      "Client finshed: 59\n"
     ]
    },
    {
     "name": "stderr",
     "output_type": "stream",
     "text": [
      "25063 DEBUG flwr 2023-03-23 11:09:24,676 | server.py:461 | Received enough responses from clients\n",
      "25063 DEBUG flwr 2023-03-23 11:09:24,684 | server.py:279 | fit_round 14 received 5 results and 0 failures\n"
     ]
    },
    {
     "name": "stdout",
     "output_type": "stream",
     "text": [
      "Client finshed: 27\n",
      "These clients sent updates: [('52', 3), ('26', 3), ('39', 3), ('59', 3), ('27', 3)]\n",
      "These clients failed: []\n"
     ]
    },
    {
     "name": "stderr",
     "output_type": "stream",
     "text": [
      "25063 INFO flwr 2023-03-23 11:09:30,015 | server.py:140 | fit progress: (14, 400.6509647369385, {'accuracy': 0.2803}, 145.88827115200002)\n",
      "25063 INFO flwr 2023-03-23 11:09:30,017 | server.py:190 | evaluate_round 14: no clients selected, cancel\n",
      "25063 DEBUG flwr 2023-03-23 11:09:30,023 | server.py:255 | fit_round 15: strategy sampled 5 clients (out of 100)\n",
      "25063 DEBUG flwr 2023-03-23 11:09:30,025 | server.py:435 | Sending instructions to clients\n"
     ]
    },
    {
     "name": "stdout",
     "output_type": "stream",
     "text": [
      "Working out which clients to instruct\n",
      "Want 5 more clients, minimum 5\n",
      "Selected clients = ['44', '68', '1', '55', '56']\n",
      "Client finshed: 14\n",
      "Client finshed: 73\n",
      "Client finshed: 97\n",
      "Client finshed: 19\n"
     ]
    },
    {
     "name": "stderr",
     "output_type": "stream",
     "text": [
      "25063 DEBUG flwr 2023-03-23 11:09:32,330 | server.py:461 | Received enough responses from clients\n",
      "25063 DEBUG flwr 2023-03-23 11:09:32,334 | server.py:279 | fit_round 15 received 5 results and 0 failures\n"
     ]
    },
    {
     "name": "stdout",
     "output_type": "stream",
     "text": [
      "Client finshed: 11\n",
      "These clients sent updates: [('14', 3), ('73', 2), ('97', 3), ('19', 3), ('11', 3)]\n",
      "These clients failed: []\n"
     ]
    },
    {
     "name": "stderr",
     "output_type": "stream",
     "text": [
      "25063 INFO flwr 2023-03-23 11:09:37,733 | server.py:140 | fit progress: (15, 375.5312719345093, {'accuracy': 0.3193}, 153.60567097799958)\n",
      "25063 INFO flwr 2023-03-23 11:09:37,734 | server.py:190 | evaluate_round 15: no clients selected, cancel\n",
      "25063 DEBUG flwr 2023-03-23 11:09:37,739 | server.py:255 | fit_round 16: strategy sampled 5 clients (out of 100)\n",
      "25063 DEBUG flwr 2023-03-23 11:09:37,740 | server.py:435 | Sending instructions to clients\n"
     ]
    },
    {
     "name": "stdout",
     "output_type": "stream",
     "text": [
      "Working out which clients to instruct\n",
      "Want 5 more clients, minimum 5\n",
      "Selected clients = ['76', '42', '10', '92', '14']\n",
      "Client finshed: 70\n",
      "Client finshed: 53\n",
      "Client finshed: 57\n"
     ]
    },
    {
     "name": "stderr",
     "output_type": "stream",
     "text": [
      "25063 DEBUG flwr 2023-03-23 11:09:42,168 | server.py:461 | Received enough responses from clients\n",
      "25063 DEBUG flwr 2023-03-23 11:09:42,170 | server.py:279 | fit_round 16 received 5 results and 0 failures\n"
     ]
    },
    {
     "name": "stdout",
     "output_type": "stream",
     "text": [
      "Client finshed: 74\n",
      "Client finshed: 78\n",
      "These clients sent updates: [('70', 4), ('53', 3), ('57', 3), ('74', 2), ('78', 3)]\n",
      "These clients failed: []\n"
     ]
    },
    {
     "name": "stderr",
     "output_type": "stream",
     "text": [
      "25063 INFO flwr 2023-03-23 11:09:48,327 | server.py:140 | fit progress: (16, 377.1650596857071, {'accuracy': 0.3217}, 164.20014558799994)\n",
      "25063 INFO flwr 2023-03-23 11:09:48,329 | server.py:190 | evaluate_round 16: no clients selected, cancel\n",
      "25063 DEBUG flwr 2023-03-23 11:09:48,333 | server.py:255 | fit_round 17: strategy sampled 5 clients (out of 100)\n",
      "25063 DEBUG flwr 2023-03-23 11:09:48,335 | server.py:435 | Sending instructions to clients\n",
      "25063 DEBUG flwr 2023-03-23 11:09:48,337 | server.py:461 | Received enough responses from clients\n",
      "25063 DEBUG flwr 2023-03-23 11:09:48,359 | server.py:279 | fit_round 17 received 5 results and 0 failures\n"
     ]
    },
    {
     "name": "stdout",
     "output_type": "stream",
     "text": [
      "Working out which clients to instruct\n",
      "Want 5 more clients, minimum 5\n",
      "Selected clients = ['61', '63', '58', '22', '72']\n",
      "Client finshed: 16\n",
      "Client finshed: 37\n",
      "Client finshed: 32\n",
      "Client finshed: 84\n",
      "Client finshed: 31\n",
      "These clients sent updates: [('16', 3), ('37', 3), ('32', 3), ('84', 3), ('31', 4)]\n",
      "These clients failed: []\n"
     ]
    },
    {
     "name": "stderr",
     "output_type": "stream",
     "text": [
      "25063 INFO flwr 2023-03-23 11:09:54,101 | server.py:140 | fit progress: (17, 377.61370491981506, {'accuracy': 0.3094}, 169.9742234710002)\n",
      "25063 INFO flwr 2023-03-23 11:09:54,103 | server.py:190 | evaluate_round 17: no clients selected, cancel\n",
      "25063 DEBUG flwr 2023-03-23 11:09:54,107 | server.py:255 | fit_round 18: strategy sampled 5 clients (out of 100)\n",
      "25063 DEBUG flwr 2023-03-23 11:09:54,108 | server.py:435 | Sending instructions to clients\n"
     ]
    },
    {
     "name": "stdout",
     "output_type": "stream",
     "text": [
      "Working out which clients to instruct\n",
      "Want 5 more clients, minimum 5\n",
      "Selected clients = ['26', '48', '0', '33', '60']\n",
      "Client finshed: 44\n",
      "Client finshed: 55\n",
      "Client finshed: 68\n",
      "Client finshed: 1\n"
     ]
    },
    {
     "name": "stderr",
     "output_type": "stream",
     "text": [
      "25063 DEBUG flwr 2023-03-23 11:09:56,982 | server.py:461 | Received enough responses from clients\n",
      "25063 DEBUG flwr 2023-03-23 11:09:56,987 | server.py:279 | fit_round 18 received 5 results and 0 failures\n"
     ]
    },
    {
     "name": "stdout",
     "output_type": "stream",
     "text": [
      "Client finshed: 42\n",
      "These clients sent updates: [('44', 3), ('55', 3), ('68', 3), ('1', 3), ('42', 2)]\n",
      "These clients failed: []\n"
     ]
    },
    {
     "name": "stderr",
     "output_type": "stream",
     "text": [
      "25063 INFO flwr 2023-03-23 11:10:02,692 | server.py:140 | fit progress: (18, 360.93427979946136, {'accuracy': 0.3378}, 178.5652256659996)\n",
      "25063 INFO flwr 2023-03-23 11:10:02,695 | server.py:190 | evaluate_round 18: no clients selected, cancel\n",
      "25063 DEBUG flwr 2023-03-23 11:10:02,702 | server.py:255 | fit_round 19: strategy sampled 5 clients (out of 100)\n",
      "25063 DEBUG flwr 2023-03-23 11:10:02,704 | server.py:435 | Sending instructions to clients\n"
     ]
    },
    {
     "name": "stdout",
     "output_type": "stream",
     "text": [
      "Working out which clients to instruct\n",
      "Want 5 more clients, minimum 5\n",
      "Selected clients = ['32', '13', '45', '68', '28']\n",
      "Client finshed: 56\n",
      "Client finshed: 76\n",
      "Client finshed: 10\n",
      "Client finshed: 92\n"
     ]
    },
    {
     "name": "stderr",
     "output_type": "stream",
     "text": [
      "25063 DEBUG flwr 2023-03-23 11:10:07,313 | server.py:461 | Received enough responses from clients\n",
      "25063 DEBUG flwr 2023-03-23 11:10:07,316 | server.py:279 | fit_round 19 received 5 results and 0 failures\n"
     ]
    },
    {
     "name": "stdout",
     "output_type": "stream",
     "text": [
      "Client finshed: 61\n",
      "These clients sent updates: [('56', 4), ('76', 3), ('10', 3), ('92', 3), ('61', 2)]\n",
      "These clients failed: []\n"
     ]
    },
    {
     "name": "stderr",
     "output_type": "stream",
     "text": [
      "25063 INFO flwr 2023-03-23 11:10:13,340 | server.py:140 | fit progress: (19, 367.4355773925781, {'accuracy': 0.3259}, 189.21234100899983)\n",
      "25063 INFO flwr 2023-03-23 11:10:13,341 | server.py:190 | evaluate_round 19: no clients selected, cancel\n",
      "25063 DEBUG flwr 2023-03-23 11:10:13,346 | server.py:255 | fit_round 20: strategy sampled 5 clients (out of 100)\n",
      "25063 DEBUG flwr 2023-03-23 11:10:13,347 | server.py:435 | Sending instructions to clients\n",
      "25063 DEBUG flwr 2023-03-23 11:10:13,348 | server.py:461 | Received enough responses from clients\n",
      "25063 DEBUG flwr 2023-03-23 11:10:13,370 | server.py:279 | fit_round 20 received 5 results and 0 failures\n"
     ]
    },
    {
     "name": "stdout",
     "output_type": "stream",
     "text": [
      "Working out which clients to instruct\n",
      "Want 5 more clients, minimum 5\n",
      "Selected clients = ['80', '55', '40', '37', '95']\n",
      "Client finshed: 72\n",
      "Client finshed: 22\n",
      "Client finshed: 63\n",
      "Client finshed: 14\n",
      "Client finshed: 58\n",
      "These clients sent updates: [('72', 3), ('22', 3), ('63', 3), ('14', 4), ('58', 3)]\n",
      "These clients failed: []\n"
     ]
    },
    {
     "name": "stderr",
     "output_type": "stream",
     "text": [
      "25063 INFO flwr 2023-03-23 11:10:17,608 | server.py:140 | fit progress: (20, 364.20970821380615, {'accuracy': 0.3343}, 193.48031127099966)\n",
      "25063 INFO flwr 2023-03-23 11:10:17,609 | server.py:190 | evaluate_round 20: no clients selected, cancel\n",
      "25063 DEBUG flwr 2023-03-23 11:10:17,614 | server.py:255 | fit_round 21: strategy sampled 5 clients (out of 100)\n",
      "25063 DEBUG flwr 2023-03-23 11:10:17,615 | server.py:435 | Sending instructions to clients\n"
     ]
    },
    {
     "name": "stdout",
     "output_type": "stream",
     "text": [
      "Working out which clients to instruct\n",
      "Want 5 more clients, minimum 5\n",
      "Selected clients = ['38', '77', '59', '24', '54']\n",
      "Client finshed: 26\n",
      "Client finshed: 0\n",
      "Client finshed: 48\n",
      "Client finshed: 60\n"
     ]
    },
    {
     "name": "stderr",
     "output_type": "stream",
     "text": [
      "25063 DEBUG flwr 2023-03-23 11:10:21,690 | server.py:461 | Received enough responses from clients\n",
      "25063 DEBUG flwr 2023-03-23 11:10:21,692 | server.py:279 | fit_round 21 received 5 results and 0 failures\n"
     ]
    },
    {
     "name": "stdout",
     "output_type": "stream",
     "text": [
      "Client finshed: 13\n",
      "These clients sent updates: [('26', 3), ('0', 3), ('48', 3), ('60', 3), ('13', 2)]\n",
      "These clients failed: []\n"
     ]
    },
    {
     "name": "stderr",
     "output_type": "stream",
     "text": [
      "25063 INFO flwr 2023-03-23 11:10:28,014 | server.py:140 | fit progress: (21, 369.1843070983887, {'accuracy': 0.3216}, 203.88652325800012)\n",
      "25063 INFO flwr 2023-03-23 11:10:28,024 | server.py:190 | evaluate_round 21: no clients selected, cancel\n",
      "25063 DEBUG flwr 2023-03-23 11:10:28,029 | server.py:255 | fit_round 22: strategy sampled 5 clients (out of 100)\n",
      "25063 DEBUG flwr 2023-03-23 11:10:28,030 | server.py:435 | Sending instructions to clients\n"
     ]
    },
    {
     "name": "stdout",
     "output_type": "stream",
     "text": [
      "Working out which clients to instruct\n",
      "Want 5 more clients, minimum 5\n",
      "Selected clients = ['39', '22', '61', '18', '15']\n",
      "Client finshed: 32\n",
      "Client finshed: 33\n",
      "Client finshed: 45\n",
      "Client finshed: 68\n"
     ]
    },
    {
     "name": "stderr",
     "output_type": "stream",
     "text": [
      "25063 DEBUG flwr 2023-03-23 11:10:34,492 | server.py:461 | Received enough responses from clients\n",
      "25063 DEBUG flwr 2023-03-23 11:10:34,508 | server.py:279 | fit_round 22 received 5 results and 0 failures\n"
     ]
    },
    {
     "name": "stdout",
     "output_type": "stream",
     "text": [
      "Client finshed: 28\n",
      "These clients sent updates: [('32', 3), ('33', 4), ('45', 3), ('68', 3), ('28', 3)]\n",
      "These clients failed: []\n"
     ]
    },
    {
     "name": "stderr",
     "output_type": "stream",
     "text": [
      "25063 INFO flwr 2023-03-23 11:10:41,378 | server.py:140 | fit progress: (22, 355.52752697467804, {'accuracy': 0.3498}, 217.25118448600006)\n",
      "25063 INFO flwr 2023-03-23 11:10:41,380 | server.py:190 | evaluate_round 22: no clients selected, cancel\n",
      "25063 DEBUG flwr 2023-03-23 11:10:41,385 | server.py:255 | fit_round 23: strategy sampled 5 clients (out of 100)\n",
      "25063 DEBUG flwr 2023-03-23 11:10:41,386 | server.py:435 | Sending instructions to clients\n",
      "25063 DEBUG flwr 2023-03-23 11:10:41,387 | server.py:461 | Received enough responses from clients\n",
      "25063 DEBUG flwr 2023-03-23 11:10:41,428 | server.py:279 | fit_round 23 received 5 results and 0 failures\n"
     ]
    },
    {
     "name": "stdout",
     "output_type": "stream",
     "text": [
      "Working out which clients to instruct\n",
      "Want 5 more clients, minimum 5\n",
      "Selected clients = ['29', '74', '60', '19', '9']\n",
      "Client finshed: 37\n",
      "Client finshed: 95\n",
      "Client finshed: 55\n",
      "Client finshed: 40\n",
      "Client finshed: 38\n",
      "These clients sent updates: [('37', 3), ('95', 3), ('55', 3), ('40', 3), ('38', 2)]\n",
      "These clients failed: []\n"
     ]
    },
    {
     "name": "stderr",
     "output_type": "stream",
     "text": [
      "25063 INFO flwr 2023-03-23 11:10:47,145 | server.py:140 | fit progress: (23, 352.88429141044617, {'accuracy': 0.3604}, 223.0174740780003)\n",
      "25063 INFO flwr 2023-03-23 11:10:47,147 | server.py:190 | evaluate_round 23: no clients selected, cancel\n",
      "25063 DEBUG flwr 2023-03-23 11:10:47,153 | server.py:255 | fit_round 24: strategy sampled 5 clients (out of 100)\n",
      "25063 DEBUG flwr 2023-03-23 11:10:47,154 | server.py:435 | Sending instructions to clients\n"
     ]
    },
    {
     "name": "stdout",
     "output_type": "stream",
     "text": [
      "Working out which clients to instruct\n",
      "Want 5 more clients, minimum 5\n",
      "Selected clients = ['79', '7', '55', '52', '46']\n",
      "Client finshed: 80\n",
      "Client finshed: 77\n",
      "Client finshed: 61\n",
      "Client finshed: 59\n"
     ]
    },
    {
     "name": "stderr",
     "output_type": "stream",
     "text": [
      "25063 DEBUG flwr 2023-03-23 11:10:51,571 | server.py:461 | Received enough responses from clients\n",
      "25063 DEBUG flwr 2023-03-23 11:10:51,580 | server.py:279 | fit_round 24 received 5 results and 0 failures\n"
     ]
    },
    {
     "name": "stdout",
     "output_type": "stream",
     "text": [
      "Client finshed: 24\n",
      "These clients sent updates: [('80', 4), ('77', 3), ('61', 2), ('59', 3), ('24', 3)]\n",
      "These clients failed: []\n"
     ]
    },
    {
     "name": "stderr",
     "output_type": "stream",
     "text": [
      "25063 INFO flwr 2023-03-23 11:10:59,130 | server.py:140 | fit progress: (24, 348.0721426010132, {'accuracy': 0.3656}, 235.0030430070001)\n",
      "25063 INFO flwr 2023-03-23 11:10:59,133 | server.py:190 | evaluate_round 24: no clients selected, cancel\n",
      "25063 DEBUG flwr 2023-03-23 11:10:59,137 | server.py:255 | fit_round 25: strategy sampled 5 clients (out of 100)\n",
      "25063 DEBUG flwr 2023-03-23 11:10:59,138 | server.py:435 | Sending instructions to clients\n"
     ]
    },
    {
     "name": "stdout",
     "output_type": "stream",
     "text": [
      "Working out which clients to instruct\n",
      "Want 5 more clients, minimum 5\n",
      "Selected clients = ['43', '14', '73', '81', '76']\n",
      "Client finshed: 18\n",
      "Client finshed: 54\n",
      "Client finshed: 22\n",
      "Client finshed: 39\n"
     ]
    },
    {
     "name": "stderr",
     "output_type": "stream",
     "text": [
      "25063 DEBUG flwr 2023-03-23 11:11:02,037 | server.py:461 | Received enough responses from clients\n",
      "25063 DEBUG flwr 2023-03-23 11:11:02,039 | server.py:279 | fit_round 25 received 5 results and 0 failures\n"
     ]
    },
    {
     "name": "stdout",
     "output_type": "stream",
     "text": [
      "Client finshed: 15\n",
      "These clients sent updates: [('18', 3), ('54', 4), ('22', 3), ('39', 3), ('15', 3)]\n",
      "These clients failed: []\n"
     ]
    },
    {
     "name": "stderr",
     "output_type": "stream",
     "text": [
      "25063 INFO flwr 2023-03-23 11:11:06,639 | server.py:140 | fit progress: (25, 355.31598246097565, {'accuracy': 0.3368}, 242.5115540329998)\n",
      "25063 INFO flwr 2023-03-23 11:11:06,640 | server.py:190 | evaluate_round 25: no clients selected, cancel\n",
      "25063 DEBUG flwr 2023-03-23 11:11:06,646 | server.py:255 | fit_round 26: strategy sampled 5 clients (out of 100)\n",
      "25063 DEBUG flwr 2023-03-23 11:11:06,647 | server.py:435 | Sending instructions to clients\n"
     ]
    },
    {
     "name": "stdout",
     "output_type": "stream",
     "text": [
      "Working out which clients to instruct\n",
      "Want 5 more clients, minimum 5\n",
      "Selected clients = ['5', '49', '54', '63', '88']\n",
      "Client finshed: 74\n",
      "Client finshed: 29\n",
      "Client finshed: 19\n",
      "Client finshed: 9\n"
     ]
    },
    {
     "name": "stderr",
     "output_type": "stream",
     "text": [
      "25063 DEBUG flwr 2023-03-23 11:11:09,349 | server.py:461 | Received enough responses from clients\n",
      "25063 DEBUG flwr 2023-03-23 11:11:09,357 | server.py:279 | fit_round 26 received 5 results and 0 failures\n"
     ]
    },
    {
     "name": "stdout",
     "output_type": "stream",
     "text": [
      "Client finshed: 60\n",
      "These clients sent updates: [('74', 3), ('29', 3), ('19', 3), ('9', 3), ('60', 3)]\n",
      "These clients failed: []\n"
     ]
    },
    {
     "name": "stderr",
     "output_type": "stream",
     "text": [
      "25063 INFO flwr 2023-03-23 11:11:15,243 | server.py:140 | fit progress: (26, 343.6405566930771, {'accuracy': 0.3756}, 251.11556245300017)\n",
      "25063 INFO flwr 2023-03-23 11:11:15,244 | server.py:190 | evaluate_round 26: no clients selected, cancel\n",
      "25063 DEBUG flwr 2023-03-23 11:11:15,249 | server.py:255 | fit_round 27: strategy sampled 5 clients (out of 100)\n",
      "25063 DEBUG flwr 2023-03-23 11:11:15,250 | server.py:435 | Sending instructions to clients\n"
     ]
    },
    {
     "name": "stdout",
     "output_type": "stream",
     "text": [
      "Working out which clients to instruct\n",
      "Want 5 more clients, minimum 5\n",
      "Selected clients = ['23', '70', '31', '39', '64']\n",
      "Client finshed: 79\n",
      "Client finshed: 7\n",
      "Client finshed: 55\n",
      "Client finshed: 52\n"
     ]
    },
    {
     "name": "stderr",
     "output_type": "stream",
     "text": [
      "25063 DEBUG flwr 2023-03-23 11:11:21,811 | server.py:461 | Received enough responses from clients\n",
      "25063 DEBUG flwr 2023-03-23 11:11:21,813 | server.py:279 | fit_round 27 received 5 results and 0 failures\n"
     ]
    },
    {
     "name": "stdout",
     "output_type": "stream",
     "text": [
      "Client finshed: 46\n",
      "These clients sent updates: [('79', 3), ('7', 3), ('55', 3), ('52', 3), ('46', 3)]\n",
      "These clients failed: []\n"
     ]
    },
    {
     "name": "stderr",
     "output_type": "stream",
     "text": [
      "25063 INFO flwr 2023-03-23 11:11:29,925 | server.py:140 | fit progress: (27, 342.6770569086075, {'accuracy': 0.3768}, 265.7977808939995)\n",
      "25063 INFO flwr 2023-03-23 11:11:29,926 | server.py:190 | evaluate_round 27: no clients selected, cancel\n",
      "25063 DEBUG flwr 2023-03-23 11:11:29,930 | server.py:255 | fit_round 28: strategy sampled 5 clients (out of 100)\n",
      "25063 DEBUG flwr 2023-03-23 11:11:29,933 | server.py:435 | Sending instructions to clients\n"
     ]
    },
    {
     "name": "stdout",
     "output_type": "stream",
     "text": [
      "Working out which clients to instruct\n",
      "Want 5 more clients, minimum 5\n",
      "Selected clients = ['91', '19', '47', '66', '11']\n",
      "Client finshed: 81\n",
      "Client finshed: 73\n",
      "Client finshed: 43\n",
      "Client finshed: 14\n"
     ]
    },
    {
     "name": "stderr",
     "output_type": "stream",
     "text": [
      "25063 DEBUG flwr 2023-03-23 11:11:31,082 | server.py:461 | Received enough responses from clients\n",
      "25063 DEBUG flwr 2023-03-23 11:11:31,088 | server.py:279 | fit_round 28 received 5 results and 0 failures\n"
     ]
    },
    {
     "name": "stdout",
     "output_type": "stream",
     "text": [
      "Client finshed: 76\n",
      "These clients sent updates: [('81', 3), ('73', 3), ('43', 3), ('14', 3), ('76', 3)]\n",
      "These clients failed: []\n"
     ]
    },
    {
     "name": "stderr",
     "output_type": "stream",
     "text": [
      "25063 INFO flwr 2023-03-23 11:11:36,431 | server.py:140 | fit progress: (28, 344.1336885690689, {'accuracy': 0.3679}, 272.3036479279999)\n",
      "25063 INFO flwr 2023-03-23 11:11:36,432 | server.py:190 | evaluate_round 28: no clients selected, cancel\n",
      "25063 DEBUG flwr 2023-03-23 11:11:36,437 | server.py:255 | fit_round 29: strategy sampled 5 clients (out of 100)\n",
      "25063 DEBUG flwr 2023-03-23 11:11:36,439 | server.py:435 | Sending instructions to clients\n"
     ]
    },
    {
     "name": "stdout",
     "output_type": "stream",
     "text": [
      "Working out which clients to instruct\n",
      "Want 5 more clients, minimum 5\n",
      "Selected clients = ['45', '95', '68', '86', '29']\n",
      "Client finshed: 5\n",
      "Client finshed: 49\n",
      "Client finshed: 54\n"
     ]
    },
    {
     "name": "stderr",
     "output_type": "stream",
     "text": [
      "25063 DEBUG flwr 2023-03-23 11:11:39,171 | server.py:461 | Received enough responses from clients\n",
      "25063 DEBUG flwr 2023-03-23 11:11:39,181 | server.py:279 | fit_round 29 received 5 results and 0 failures\n"
     ]
    },
    {
     "name": "stdout",
     "output_type": "stream",
     "text": [
      "Client finshed: 63\n",
      "Client finshed: 88\n",
      "These clients sent updates: [('5', 3), ('49', 3), ('54', 3), ('63', 3), ('88', 3)]\n",
      "These clients failed: []\n"
     ]
    },
    {
     "name": "stderr",
     "output_type": "stream",
     "text": [
      "25063 INFO flwr 2023-03-23 11:11:45,342 | server.py:140 | fit progress: (29, 341.13610577583313, {'accuracy': 0.3699}, 281.21437271800005)\n",
      "25063 INFO flwr 2023-03-23 11:11:45,343 | server.py:190 | evaluate_round 29: no clients selected, cancel\n",
      "25063 DEBUG flwr 2023-03-23 11:11:45,347 | server.py:255 | fit_round 30: strategy sampled 5 clients (out of 100)\n",
      "25063 DEBUG flwr 2023-03-23 11:11:45,348 | server.py:435 | Sending instructions to clients\n"
     ]
    },
    {
     "name": "stdout",
     "output_type": "stream",
     "text": [
      "Working out which clients to instruct\n",
      "Want 5 more clients, minimum 5\n",
      "Selected clients = ['33', '3', '60', '34', '30']\n",
      "Client finshed: 70\n",
      "Client finshed: 23\n",
      "Client finshed: 31\n",
      "Client finshed: 39\n"
     ]
    },
    {
     "name": "stderr",
     "output_type": "stream",
     "text": [
      "25063 DEBUG flwr 2023-03-23 11:11:52,697 | server.py:461 | Received enough responses from clients\n",
      "25063 DEBUG flwr 2023-03-23 11:11:52,699 | server.py:279 | fit_round 30 received 5 results and 0 failures\n"
     ]
    },
    {
     "name": "stdout",
     "output_type": "stream",
     "text": [
      "Client finshed: 64\n",
      "These clients sent updates: [('70', 3), ('23', 3), ('31', 3), ('39', 3), ('64', 3)]\n",
      "These clients failed: []\n"
     ]
    },
    {
     "name": "stderr",
     "output_type": "stream",
     "text": [
      "25063 INFO flwr 2023-03-23 11:11:59,545 | server.py:140 | fit progress: (30, 335.1205049753189, {'accuracy': 0.3846}, 295.41779680000036)\n",
      "25063 INFO flwr 2023-03-23 11:11:59,546 | server.py:190 | evaluate_round 30: no clients selected, cancel\n",
      "25063 DEBUG flwr 2023-03-23 11:11:59,551 | server.py:255 | fit_round 31: strategy sampled 5 clients (out of 100)\n",
      "25063 DEBUG flwr 2023-03-23 11:11:59,553 | server.py:435 | Sending instructions to clients\n",
      "25063 DEBUG flwr 2023-03-23 11:11:59,555 | server.py:461 | Received enough responses from clients\n",
      "25063 DEBUG flwr 2023-03-23 11:11:59,556 | server.py:279 | fit_round 31 received 5 results and 0 failures\n"
     ]
    },
    {
     "name": "stdout",
     "output_type": "stream",
     "text": [
      "Working out which clients to instruct\n",
      "Want 5 more clients, minimum 5\n",
      "Selected clients = ['36', '58', '94', '61', '2']\n",
      "Client finshed: 19\n",
      "Client finshed: 91\n",
      "Client finshed: 47\n",
      "Client finshed: 11\n",
      "Client finshed: 66\n",
      "These clients sent updates: [('19', 3), ('91', 3), ('47', 3), ('11', 3), ('66', 3)]\n",
      "These clients failed: []\n"
     ]
    },
    {
     "name": "stderr",
     "output_type": "stream",
     "text": [
      "25063 INFO flwr 2023-03-23 11:12:04,689 | server.py:140 | fit progress: (31, 340.42891335487366, {'accuracy': 0.3824}, 300.56168032799997)\n",
      "25063 INFO flwr 2023-03-23 11:12:04,691 | server.py:190 | evaluate_round 31: no clients selected, cancel\n",
      "25063 DEBUG flwr 2023-03-23 11:12:04,699 | server.py:255 | fit_round 32: strategy sampled 5 clients (out of 100)\n",
      "25063 DEBUG flwr 2023-03-23 11:12:04,701 | server.py:435 | Sending instructions to clients\n"
     ]
    },
    {
     "name": "stdout",
     "output_type": "stream",
     "text": [
      "Working out which clients to instruct\n",
      "Want 5 more clients, minimum 5\n",
      "Selected clients = ['57', '55', '97', '25', '69']\n",
      "Client finshed: 45\n",
      "Client finshed: 95\n",
      "Client finshed: 86\n",
      "Client finshed: 68\n"
     ]
    },
    {
     "name": "stderr",
     "output_type": "stream",
     "text": [
      "25063 DEBUG flwr 2023-03-23 11:12:09,255 | server.py:461 | Received enough responses from clients\n",
      "25063 DEBUG flwr 2023-03-23 11:12:09,257 | server.py:279 | fit_round 32 received 5 results and 0 failures\n"
     ]
    },
    {
     "name": "stdout",
     "output_type": "stream",
     "text": [
      "Client finshed: 60\n",
      "These clients sent updates: [('45', 3), ('95', 3), ('86', 3), ('68', 3), ('60', 2)]\n",
      "These clients failed: []\n"
     ]
    },
    {
     "name": "stderr",
     "output_type": "stream",
     "text": [
      "25063 INFO flwr 2023-03-23 11:12:16,849 | server.py:140 | fit progress: (32, 337.30017137527466, {'accuracy': 0.3828}, 312.72183379299986)\n",
      "25063 INFO flwr 2023-03-23 11:12:16,851 | server.py:190 | evaluate_round 32: no clients selected, cancel\n",
      "25063 DEBUG flwr 2023-03-23 11:12:16,856 | server.py:255 | fit_round 33: strategy sampled 5 clients (out of 100)\n",
      "25063 DEBUG flwr 2023-03-23 11:12:16,857 | server.py:435 | Sending instructions to clients\n"
     ]
    },
    {
     "name": "stdout",
     "output_type": "stream",
     "text": [
      "Working out which clients to instruct\n",
      "Want 5 more clients, minimum 5\n",
      "Selected clients = ['47', '65', '80', '78', '7']\n",
      "Client finshed: 3\n",
      "Client finshed: 33\n",
      "Client finshed: 29\n",
      "Client finshed: 34\n"
     ]
    },
    {
     "name": "stderr",
     "output_type": "stream",
     "text": [
      "25063 DEBUG flwr 2023-03-23 11:12:20,751 | server.py:461 | Received enough responses from clients\n",
      "25063 DEBUG flwr 2023-03-23 11:12:20,754 | server.py:279 | fit_round 33 received 5 results and 0 failures\n"
     ]
    },
    {
     "name": "stdout",
     "output_type": "stream",
     "text": [
      "Client finshed: 94\n",
      "These clients sent updates: [('3', 3), ('33', 3), ('29', 4), ('34', 3), ('94', 2)]\n",
      "These clients failed: []\n"
     ]
    },
    {
     "name": "stderr",
     "output_type": "stream",
     "text": [
      "25063 INFO flwr 2023-03-23 11:12:27,957 | server.py:140 | fit progress: (33, 342.56415343284607, {'accuracy': 0.3835}, 323.8296503219999)\n",
      "25063 INFO flwr 2023-03-23 11:12:27,959 | server.py:190 | evaluate_round 33: no clients selected, cancel\n",
      "25063 DEBUG flwr 2023-03-23 11:12:27,966 | server.py:255 | fit_round 34: strategy sampled 5 clients (out of 100)\n",
      "25063 DEBUG flwr 2023-03-23 11:12:27,969 | server.py:435 | Sending instructions to clients\n",
      "25063 DEBUG flwr 2023-03-23 11:12:28,077 | server.py:461 | Received enough responses from clients\n",
      "25063 DEBUG flwr 2023-03-23 11:12:28,080 | server.py:279 | fit_round 34 received 5 results and 0 failures\n"
     ]
    },
    {
     "name": "stdout",
     "output_type": "stream",
     "text": [
      "Working out which clients to instruct\n",
      "Want 5 more clients, minimum 5\n",
      "Selected clients = ['67', '82', '27', '77', '64']\n",
      "Client finshed: 36\n",
      "Client finshed: 30\n",
      "Client finshed: 58\n",
      "Client finshed: 61\n",
      "Client finshed: 57\n",
      "These clients sent updates: [('36', 3), ('30', 4), ('58', 3), ('61', 3), ('57', 2)]\n",
      "These clients failed: []\n"
     ]
    },
    {
     "name": "stderr",
     "output_type": "stream",
     "text": [
      "25063 INFO flwr 2023-03-23 11:12:34,407 | server.py:140 | fit progress: (34, 333.4609328508377, {'accuracy': 0.3986}, 330.2796800369997)\n",
      "25063 INFO flwr 2023-03-23 11:12:34,408 | server.py:190 | evaluate_round 34: no clients selected, cancel\n",
      "25063 DEBUG flwr 2023-03-23 11:12:34,413 | server.py:255 | fit_round 35: strategy sampled 5 clients (out of 100)\n",
      "25063 DEBUG flwr 2023-03-23 11:12:34,415 | server.py:435 | Sending instructions to clients\n"
     ]
    },
    {
     "name": "stdout",
     "output_type": "stream",
     "text": [
      "Working out which clients to instruct\n",
      "Want 5 more clients, minimum 5\n",
      "Selected clients = ['48', '79', '41', '42', '43']\n",
      "Client finshed: 2\n",
      "Client finshed: 55\n",
      "Client finshed: 97\n",
      "Client finshed: 69\n"
     ]
    },
    {
     "name": "stderr",
     "output_type": "stream",
     "text": [
      "25063 DEBUG flwr 2023-03-23 11:12:38,831 | server.py:461 | Received enough responses from clients\n",
      "25063 DEBUG flwr 2023-03-23 11:12:38,836 | server.py:279 | fit_round 35 received 5 results and 0 failures\n"
     ]
    },
    {
     "name": "stdout",
     "output_type": "stream",
     "text": [
      "Client finshed: 25\n",
      "These clients sent updates: [('2', 4), ('55', 3), ('97', 3), ('69', 3), ('25', 3)]\n",
      "These clients failed: []\n"
     ]
    },
    {
     "name": "stderr",
     "output_type": "stream",
     "text": [
      "25063 INFO flwr 2023-03-23 11:12:46,739 | server.py:140 | fit progress: (35, 339.3363598585129, {'accuracy': 0.3958}, 342.6114563330002)\n",
      "25063 INFO flwr 2023-03-23 11:12:46,742 | server.py:190 | evaluate_round 35: no clients selected, cancel\n",
      "25063 DEBUG flwr 2023-03-23 11:12:46,751 | server.py:255 | fit_round 36: strategy sampled 5 clients (out of 100)\n",
      "25063 DEBUG flwr 2023-03-23 11:12:46,753 | server.py:435 | Sending instructions to clients\n"
     ]
    },
    {
     "name": "stdout",
     "output_type": "stream",
     "text": [
      "Working out which clients to instruct\n",
      "Want 5 more clients, minimum 5\n",
      "Selected clients = ['45', '92', '94', '14', '10']\n",
      "Client finshed: 47\n",
      "Client finshed: 80\n",
      "Client finshed: 65\n",
      "Client finshed: 78\n"
     ]
    },
    {
     "name": "stderr",
     "output_type": "stream",
     "text": [
      "25063 DEBUG flwr 2023-03-23 11:12:49,860 | server.py:461 | Received enough responses from clients\n",
      "25063 DEBUG flwr 2023-03-23 11:12:49,868 | server.py:279 | fit_round 36 received 5 results and 0 failures\n"
     ]
    },
    {
     "name": "stdout",
     "output_type": "stream",
     "text": [
      "Client finshed: 7\n",
      "These clients sent updates: [('47', 3), ('80', 3), ('65', 3), ('78', 3), ('7', 3)]\n",
      "These clients failed: []\n"
     ]
    },
    {
     "name": "stderr",
     "output_type": "stream",
     "text": [
      "25063 INFO flwr 2023-03-23 11:12:55,904 | server.py:140 | fit progress: (36, 333.2420184612274, {'accuracy': 0.4047}, 351.7769292339999)\n",
      "25063 INFO flwr 2023-03-23 11:12:55,905 | server.py:190 | evaluate_round 36: no clients selected, cancel\n",
      "25063 DEBUG flwr 2023-03-23 11:12:55,910 | server.py:255 | fit_round 37: strategy sampled 5 clients (out of 100)\n",
      "25063 DEBUG flwr 2023-03-23 11:12:55,911 | server.py:435 | Sending instructions to clients\n"
     ]
    },
    {
     "name": "stdout",
     "output_type": "stream",
     "text": [
      "Working out which clients to instruct\n",
      "Want 5 more clients, minimum 5\n",
      "Selected clients = ['68', '25', '69', '1', '89']\n",
      "Client finshed: 77\n",
      "Client finshed: 82\n",
      "Client finshed: 67\n",
      "Client finshed: 27\n"
     ]
    },
    {
     "name": "stderr",
     "output_type": "stream",
     "text": [
      "25063 DEBUG flwr 2023-03-23 11:12:56,987 | server.py:461 | Received enough responses from clients\n",
      "25063 DEBUG flwr 2023-03-23 11:12:56,999 | server.py:279 | fit_round 37 received 5 results and 0 failures\n"
     ]
    },
    {
     "name": "stdout",
     "output_type": "stream",
     "text": [
      "Client finshed: 64\n",
      "These clients sent updates: [('77', 3), ('82', 3), ('67', 3), ('27', 3), ('64', 3)]\n",
      "These clients failed: []\n"
     ]
    },
    {
     "name": "stderr",
     "output_type": "stream",
     "text": [
      "25063 INFO flwr 2023-03-23 11:13:03,030 | server.py:140 | fit progress: (37, 342.79113256931305, {'accuracy': 0.3782}, 358.90267056099947)\n",
      "25063 INFO flwr 2023-03-23 11:13:03,031 | server.py:190 | evaluate_round 37: no clients selected, cancel\n",
      "25063 DEBUG flwr 2023-03-23 11:13:03,036 | server.py:255 | fit_round 38: strategy sampled 5 clients (out of 100)\n",
      "25063 DEBUG flwr 2023-03-23 11:13:03,037 | server.py:435 | Sending instructions to clients\n"
     ]
    },
    {
     "name": "stdout",
     "output_type": "stream",
     "text": [
      "Working out which clients to instruct\n",
      "Want 5 more clients, minimum 5\n",
      "Selected clients = ['32', '64', '44', '31', '6']\n",
      "Client finshed: 48\n",
      "Client finshed: 79\n",
      "Client finshed: 41\n",
      "Client finshed: 43\n"
     ]
    },
    {
     "name": "stderr",
     "output_type": "stream",
     "text": [
      "25063 DEBUG flwr 2023-03-23 11:13:09,227 | server.py:461 | Received enough responses from clients\n",
      "25063 DEBUG flwr 2023-03-23 11:13:09,230 | server.py:279 | fit_round 38 received 5 results and 0 failures\n"
     ]
    },
    {
     "name": "stdout",
     "output_type": "stream",
     "text": [
      "Client finshed: 92\n",
      "These clients sent updates: [('48', 3), ('79', 3), ('41', 3), ('43', 3), ('92', 2)]\n",
      "These clients failed: []\n"
     ]
    },
    {
     "name": "stderr",
     "output_type": "stream",
     "text": [
      "25063 INFO flwr 2023-03-23 11:13:17,744 | server.py:140 | fit progress: (38, 334.90641486644745, {'accuracy': 0.3825}, 373.6169056689996)\n",
      "25063 INFO flwr 2023-03-23 11:13:17,745 | server.py:190 | evaluate_round 38: no clients selected, cancel\n",
      "25063 DEBUG flwr 2023-03-23 11:13:17,749 | server.py:255 | fit_round 39: strategy sampled 5 clients (out of 100)\n",
      "25063 DEBUG flwr 2023-03-23 11:13:17,750 | server.py:435 | Sending instructions to clients\n"
     ]
    },
    {
     "name": "stdout",
     "output_type": "stream",
     "text": [
      "Working out which clients to instruct\n",
      "Want 5 more clients, minimum 5\n",
      "Selected clients = ['38', '21', '54', '93', '15']\n",
      "Client finshed: 14\n",
      "Client finshed: 94\n",
      "Client finshed: 42\n",
      "Client finshed: 45\n"
     ]
    },
    {
     "name": "stderr",
     "output_type": "stream",
     "text": [
      "25063 DEBUG flwr 2023-03-23 11:13:19,252 | server.py:461 | Received enough responses from clients\n",
      "25063 DEBUG flwr 2023-03-23 11:13:19,258 | server.py:279 | fit_round 39 received 5 results and 0 failures\n"
     ]
    },
    {
     "name": "stdout",
     "output_type": "stream",
     "text": [
      "Client finshed: 10\n",
      "These clients sent updates: [('14', 3), ('94', 3), ('42', 4), ('45', 3), ('10', 3)]\n",
      "These clients failed: []\n"
     ]
    },
    {
     "name": "stderr",
     "output_type": "stream",
     "text": [
      "25063 INFO flwr 2023-03-23 11:13:24,916 | server.py:140 | fit progress: (39, 329.8436726331711, {'accuracy': 0.4085}, 380.78877296500013)\n",
      "25063 INFO flwr 2023-03-23 11:13:24,917 | server.py:190 | evaluate_round 39: no clients selected, cancel\n",
      "25063 DEBUG flwr 2023-03-23 11:13:24,922 | server.py:255 | fit_round 40: strategy sampled 5 clients (out of 100)\n",
      "25063 DEBUG flwr 2023-03-23 11:13:24,924 | server.py:435 | Sending instructions to clients\n"
     ]
    },
    {
     "name": "stdout",
     "output_type": "stream",
     "text": [
      "Working out which clients to instruct\n",
      "Want 5 more clients, minimum 5\n",
      "Selected clients = ['14', '13', '35', '73', '81']\n",
      "Client finshed: 68\n",
      "Client finshed: 25\n",
      "Client finshed: 89\n",
      "Client finshed: 69\n"
     ]
    },
    {
     "name": "stderr",
     "output_type": "stream",
     "text": [
      "25063 DEBUG flwr 2023-03-23 11:13:27,545 | server.py:461 | Received enough responses from clients\n",
      "25063 DEBUG flwr 2023-03-23 11:13:27,546 | server.py:279 | fit_round 40 received 5 results and 0 failures\n"
     ]
    },
    {
     "name": "stdout",
     "output_type": "stream",
     "text": [
      "Client finshed: 1\n",
      "These clients sent updates: [('68', 3), ('25', 3), ('89', 3), ('69', 3), ('1', 3)]\n",
      "These clients failed: []\n"
     ]
    },
    {
     "name": "stderr",
     "output_type": "stream",
     "text": [
      "25063 INFO flwr 2023-03-23 11:13:34,627 | server.py:140 | fit progress: (40, 325.0892198085785, {'accuracy': 0.4187}, 390.5001283169995)\n",
      "25063 INFO flwr 2023-03-23 11:13:34,628 | server.py:190 | evaluate_round 40: no clients selected, cancel\n",
      "25063 INFO flwr 2023-03-23 11:13:47,975 | server.py:171 | FL finished in 403.84808800599967\n",
      "25063 INFO flwr 2023-03-23 11:13:47,977 | app.py:225 | app_fit: losses_distributed []\n",
      "25063 INFO flwr 2023-03-23 11:13:47,977 | app.py:226 | app_fit: metrics_distributed_fit {}\n",
      "25063 INFO flwr 2023-03-23 11:13:47,978 | app.py:227 | app_fit: metrics_distributed {}\n",
      "25063 INFO flwr 2023-03-23 11:13:47,979 | app.py:228 | app_fit: losses_centralized [(0, 461.31730818748474), (1, 449.8096432685852), (2, 450.37589836120605), (3, 451.40450072288513), (4, 452.4175877571106), (5, 417.72204303741455), (6, 414.90130400657654), (7, 417.22316122055054), (8, 419.58214592933655), (9, 409.76895701885223), (10, 396.5217270851135), (11, 394.17833387851715), (12, 405.18534719944), (13, 383.81866931915283), (14, 400.6509647369385), (15, 375.5312719345093), (16, 377.1650596857071), (17, 377.61370491981506), (18, 360.93427979946136), (19, 367.4355773925781), (20, 364.20970821380615), (21, 369.1843070983887), (22, 355.52752697467804), (23, 352.88429141044617), (24, 348.0721426010132), (25, 355.31598246097565), (26, 343.6405566930771), (27, 342.6770569086075), (28, 344.1336885690689), (29, 341.13610577583313), (30, 335.1205049753189), (31, 340.42891335487366), (32, 337.30017137527466), (33, 342.56415343284607), (34, 333.4609328508377), (35, 339.3363598585129), (36, 333.2420184612274), (37, 342.79113256931305), (38, 334.90641486644745), (39, 329.8436726331711), (40, 325.0892198085785)]\n",
      "25063 INFO flwr 2023-03-23 11:13:47,980 | app.py:229 | app_fit: metrics_centralized {'accuracy': [(0, 0.0997), (1, 0.1519), (2, 0.1655), (3, 0.171), (4, 0.151), (5, 0.2486), (6, 0.2451), (7, 0.2478), (8, 0.2313), (9, 0.2557), (10, 0.2874), (11, 0.2983), (12, 0.2432), (13, 0.3068), (14, 0.2803), (15, 0.3193), (16, 0.3217), (17, 0.3094), (18, 0.3378), (19, 0.3259), (20, 0.3343), (21, 0.3216), (22, 0.3498), (23, 0.3604), (24, 0.3656), (25, 0.3368), (26, 0.3756), (27, 0.3768), (28, 0.3679), (29, 0.3699), (30, 0.3846), (31, 0.3824), (32, 0.3828), (33, 0.3835), (34, 0.3986), (35, 0.3958), (36, 0.4047), (37, 0.3782), (38, 0.3825), (39, 0.4085), (40, 0.4187)]}\n"
     ]
    },
    {
     "name": "stdout",
     "output_type": "stream",
     "text": [
      "Files already downloaded and verified\n",
      "Generating unified CIFAR dataset\n",
      "Class histogram for 0-th partition (alpha=10, 10 classes): [55 53 36 38 66 58 56 60 46 32]\n"
     ]
    },
    {
     "name": "stderr",
     "output_type": "stream",
     "text": [
      "25063 INFO flwr 2023-03-23 11:13:55,961 | app.py:146 | Starting Flower simulation, config: ServerConfig(num_rounds=40, round_timeout=None, asynchronous=True)\n",
      "2023-03-23 11:14:00,335\tINFO worker.py:1553 -- Started a local Ray instance.\n",
      "25063 INFO flwr 2023-03-23 11:14:01,893 | app.py:180 | Flower VCE: Ray initialized with resources: {'CPU': 8.0, 'node:10.9.7.124': 1.0, 'memory': 2084447847.0, 'object_store_memory': 1042223923.0}\n",
      "25063 INFO flwr 2023-03-23 11:14:01,895 | server.py:95 | Initializing global parameters\n",
      "25063 INFO flwr 2023-03-23 11:14:01,896 | server.py:320 | Requesting initial parameters from one random client\n",
      "25063 INFO flwr 2023-03-23 11:14:03,676 | server.py:324 | Received initial parameters from one random client\n",
      "25063 INFO flwr 2023-03-23 11:14:03,677 | server.py:97 | Evaluating initial parameters\n",
      "25063 INFO flwr 2023-03-23 11:14:06,875 | server.py:100 | initial parameters (loss, other metrics): 460.8828179836273, {'accuracy': 0.1}\n",
      "25063 INFO flwr 2023-03-23 11:14:06,876 | server.py:110 | FL starting\n",
      "25063 DEBUG flwr 2023-03-23 11:14:06,880 | server.py:255 | fit_round 1: strategy sampled 10 clients (out of 100)\n",
      "25063 DEBUG flwr 2023-03-23 11:14:06,881 | server.py:435 | Sending instructions to clients\n"
     ]
    },
    {
     "name": "stdout",
     "output_type": "stream",
     "text": [
      "Working out which clients to instruct\n",
      "Want 10 more clients, minimum 10\n",
      "Selected clients = ['26', '91', '70', '52', '77', '36', '85', '53', '68', '16']\n"
     ]
    },
    {
     "name": "stderr",
     "output_type": "stream",
     "text": [
      "25063 DEBUG flwr 2023-03-23 11:14:15,868 | ray_client_proxy.py:87 | Task was killed due to the node running low on memory.\n",
      "Memory on the node (IP: 10.9.7.124, ID: 1a50e2d15ec61b42ce3f8138107d2e49dbe0b5a2305b0845325f907e) where the task (task ID: f296e912e0177d3f5869a5748ce931f08605c6b801000000, name=launch_and_fit, pid=529704, memory used=0.01GB) was running was 7.29GB / 7.65GB (0.952802), which exceeds the memory usage threshold of 0.95. Ray killed this worker (ID: d4c7e78baf2c51aabf268a002b6e5b18674143ac221a7e3408cc409e) because it was the most recently scheduled task; to see more information about memory usage on this node, use `ray logs raylet.out -ip 10.9.7.124`. To see the logs of the worker, use `ray logs worker-d4c7e78baf2c51aabf268a002b6e5b18674143ac221a7e3408cc409e*out -ip 10.9.7.124. Top 10 memory users:\n",
      "PID\tMEM(GB)\tCOMMAND\n",
      "1868\t0.60\t/usr/lib/electron19/electron /usr/lib/code/out/bootstrap-fork --type=fileWatcher\n",
      "25063\t0.56\t/home/wash/LARGE/Work/L361_project/flower_fedbuff_project/venv/bin/python -m ipykernel_launcher --ip...\n",
      "1831\t0.52\t/usr/lib/electron19/electron --inspect-port=0 /usr/lib/code/out/bootstrap-fork --type=extensionHost ...\n",
      "1968\t0.41\t/usr/lib/electron19/electron /home/wash/.vscode-oss/extensions/streetsidesoftware.code-spell-checker...\n",
      "457644\t0.36\t/usr/lib/firefox/firefox\n",
      "1793\t0.34\t/usr/lib/electron19/electron --type=renderer --enable-crashpad --crashpad-handler-pid=1740 --enable-...\n",
      "458911\t0.24\t/usr/lib/firefox/firefox -contentproc -childID 9 -isForBrowser -prefsLen 30823 -prefMapSize 248609 -...\n",
      "530643\t0.19\tray::launch_and_fit\n",
      "1999\t0.18\t/home/wash/LARGE/Work/L361_project/flower_fedbuff_project/venv/bin/python /home/wash/.vscode-oss/ext...\n",
      "2011\t0.16\t/home/wash/LARGE/Work/L361_project/flower_fedbuff_project/venv/bin/python /home/wash/.vscode-oss/ext...\n",
      "Refer to the documentation on how to address the out of memory issue: https://docs.ray.io/en/latest/ray-core/scheduling/ray-oom-prevention.html. Consider provisioning more memory on this node or reducing task parallelism by requesting more CPUs per task. To adjust the kill threshold, set the environment variable `RAY_memory_usage_threshold` when starting Ray. To disable worker killing, set the environment variable `RAY_memory_monitor_refresh_ms` to zero.\n"
     ]
    },
    {
     "name": "stdout",
     "output_type": "stream",
     "text": [
      "Client finshed: 68\n",
      "Client finshed: 70\n",
      "Client finshed: 77\n",
      "Client finshed: 91\n",
      "Client finshed: 52\n"
     ]
    },
    {
     "name": "stderr",
     "output_type": "stream",
     "text": [
      "25063 DEBUG flwr 2023-03-23 11:14:17,113 | server.py:461 | Received enough responses from clients\n",
      "25063 DEBUG flwr 2023-03-23 11:14:17,116 | server.py:279 | fit_round 1 received 5 results and 1 failures\n",
      "25063 WARNING flwr 2023-03-23 11:14:17,146 | fedbuff.py:257 | No fit_metrics_aggregation_fn provided\n"
     ]
    },
    {
     "name": "stdout",
     "output_type": "stream",
     "text": [
      "Client finshed: 26\n",
      "These clients sent updates: [('70', 0), ('77', 0), ('91', 0), ('52', 0), ('26', 0)]\n",
      "These clients failed: ['68']\n"
     ]
    },
    {
     "name": "stderr",
     "output_type": "stream",
     "text": [
      "25063 DEBUG flwr 2023-03-23 11:14:19,881 | ray_client_proxy.py:87 | Task was killed due to the node running low on memory.\n",
      "Memory on the node (IP: 10.9.7.124, ID: 1a50e2d15ec61b42ce3f8138107d2e49dbe0b5a2305b0845325f907e) where the task (task ID: 4a7c150be98807c59691cc389409d20a381cda6101000000, name=launch_and_fit, pid=530065, memory used=0.02GB) was running was 7.27GB / 7.65GB (0.950311), which exceeds the memory usage threshold of 0.95. Ray killed this worker (ID: 4b8844a49d51b06934a59416c80b7de887e46a35cf249c555cddcb8a) because it was the most recently scheduled task; to see more information about memory usage on this node, use `ray logs raylet.out -ip 10.9.7.124`. To see the logs of the worker, use `ray logs worker-4b8844a49d51b06934a59416c80b7de887e46a35cf249c555cddcb8a*out -ip 10.9.7.124. Top 10 memory users:\n",
      "PID\tMEM(GB)\tCOMMAND\n",
      "1868\t0.60\t/usr/lib/electron19/electron /usr/lib/code/out/bootstrap-fork --type=fileWatcher\n",
      "25063\t0.56\t/home/wash/LARGE/Work/L361_project/flower_fedbuff_project/venv/bin/python -m ipykernel_launcher --ip...\n",
      "1831\t0.52\t/usr/lib/electron19/electron --inspect-port=0 /usr/lib/code/out/bootstrap-fork --type=extensionHost ...\n",
      "1968\t0.41\t/usr/lib/electron19/electron /home/wash/.vscode-oss/extensions/streetsidesoftware.code-spell-checker...\n",
      "457644\t0.36\t/usr/lib/firefox/firefox\n",
      "1793\t0.34\t/usr/lib/electron19/electron --type=renderer --enable-crashpad --crashpad-handler-pid=1740 --enable-...\n",
      "458911\t0.24\t/usr/lib/firefox/firefox -contentproc -childID 9 -isForBrowser -prefsLen 30823 -prefMapSize 248609 -...\n",
      "1999\t0.18\t/home/wash/LARGE/Work/L361_project/flower_fedbuff_project/venv/bin/python /home/wash/.vscode-oss/ext...\n",
      "2011\t0.16\t/home/wash/LARGE/Work/L361_project/flower_fedbuff_project/venv/bin/python /home/wash/.vscode-oss/ext...\n",
      "518848\t0.15\tpython\n",
      "Refer to the documentation on how to address the out of memory issue: https://docs.ray.io/en/latest/ray-core/scheduling/ray-oom-prevention.html. Consider provisioning more memory on this node or reducing task parallelism by requesting more CPUs per task. To adjust the kill threshold, set the environment variable `RAY_memory_usage_threshold` when starting Ray. To disable worker killing, set the environment variable `RAY_memory_monitor_refresh_ms` to zero.\n",
      "25063 INFO flwr 2023-03-23 11:14:22,155 | server.py:140 | fit progress: (1, 455.4566400051117, {'accuracy': 0.1133}, 15.278569770000104)\n",
      "25063 INFO flwr 2023-03-23 11:14:22,164 | server.py:190 | evaluate_round 1: no clients selected, cancel\n",
      "25063 DEBUG flwr 2023-03-23 11:14:22,171 | server.py:255 | fit_round 2: strategy sampled 6 clients (out of 100)\n",
      "25063 DEBUG flwr 2023-03-23 11:14:22,172 | server.py:435 | Sending instructions to clients\n"
     ]
    },
    {
     "name": "stdout",
     "output_type": "stream",
     "text": [
      "Working out which clients to instruct\n",
      "Want 6 more clients, minimum 6\n",
      "Selected clients = ['68', '65', '32', '29', '76', '49']\n",
      "Client finshed: 85\n",
      "Client finshed: 53\n",
      "Client finshed: 36\n",
      "Client finshed: 16\n"
     ]
    },
    {
     "name": "stderr",
     "output_type": "stream",
     "text": [
      "25063 DEBUG flwr 2023-03-23 11:14:31,966 | server.py:461 | Received enough responses from clients\n",
      "25063 DEBUG flwr 2023-03-23 11:14:31,974 | server.py:279 | fit_round 2 received 5 results and 1 failures\n"
     ]
    },
    {
     "name": "stdout",
     "output_type": "stream",
     "text": [
      "Client finshed: 76\n",
      "Client finshed: 32\n",
      "These clients sent updates: [('85', 1), ('36', 1), ('16', 1), ('76', 0), ('32', 0)]\n",
      "These clients failed: ['53']\n"
     ]
    },
    {
     "name": "stderr",
     "output_type": "stream",
     "text": [
      "25063 INFO flwr 2023-03-23 11:14:36,773 | server.py:140 | fit progress: (2, 443.8637080192566, {'accuracy': 0.1904}, 29.895982023000215)\n",
      "25063 INFO flwr 2023-03-23 11:14:36,774 | server.py:190 | evaluate_round 2: no clients selected, cancel\n",
      "25063 DEBUG flwr 2023-03-23 11:14:36,777 | server.py:255 | fit_round 3: strategy sampled 6 clients (out of 100)\n",
      "25063 DEBUG flwr 2023-03-23 11:14:36,777 | server.py:435 | Sending instructions to clients\n"
     ]
    },
    {
     "name": "stdout",
     "output_type": "stream",
     "text": [
      "Working out which clients to instruct\n",
      "Want 6 more clients, minimum 6\n",
      "Selected clients = ['66', '23', '86', '84', '74', '7']\n",
      "Client finshed: 65\n",
      "Client finshed: 29\n",
      "Client finshed: 49\n",
      "Client finshed: 68\n"
     ]
    },
    {
     "name": "stderr",
     "output_type": "stream",
     "text": [
      "25063 DEBUG flwr 2023-03-23 11:14:44,353 | server.py:461 | Received enough responses from clients\n",
      "25063 DEBUG flwr 2023-03-23 11:14:44,359 | server.py:279 | fit_round 3 received 5 results and 0 failures\n"
     ]
    },
    {
     "name": "stdout",
     "output_type": "stream",
     "text": [
      "Client finshed: 84\n",
      "These clients sent updates: [('65', 1), ('29', 1), ('49', 1), ('68', 1), ('84', 0)]\n",
      "These clients failed: []\n"
     ]
    },
    {
     "name": "stderr",
     "output_type": "stream",
     "text": [
      "25063 INFO flwr 2023-03-23 11:14:48,365 | server.py:140 | fit progress: (3, 413.461319565773, {'accuracy': 0.2355}, 41.48855135700069)\n",
      "25063 INFO flwr 2023-03-23 11:14:48,366 | server.py:190 | evaluate_round 3: no clients selected, cancel\n",
      "25063 DEBUG flwr 2023-03-23 11:14:48,370 | server.py:255 | fit_round 4: strategy sampled 5 clients (out of 100)\n",
      "25063 DEBUG flwr 2023-03-23 11:14:48,371 | server.py:435 | Sending instructions to clients\n",
      "25063 DEBUG flwr 2023-03-23 11:14:48,371 | server.py:461 | Received enough responses from clients\n",
      "25063 DEBUG flwr 2023-03-23 11:14:48,390 | server.py:279 | fit_round 4 received 5 results and 0 failures\n"
     ]
    },
    {
     "name": "stdout",
     "output_type": "stream",
     "text": [
      "Working out which clients to instruct\n",
      "Want 5 more clients, minimum 5\n",
      "Selected clients = ['44', '34', '99', '85', '87']\n",
      "Client finshed: 74\n",
      "Client finshed: 23\n",
      "Client finshed: 66\n",
      "Client finshed: 86\n",
      "Client finshed: 7\n",
      "These clients sent updates: [('74', 1), ('23', 1), ('66', 1), ('86', 1), ('7', 1)]\n",
      "These clients failed: []\n"
     ]
    },
    {
     "name": "stderr",
     "output_type": "stream",
     "text": [
      "25063 INFO flwr 2023-03-23 11:14:53,227 | server.py:140 | fit progress: (4, 404.83228826522827, {'accuracy': 0.2624}, 46.35005289500077)\n",
      "25063 INFO flwr 2023-03-23 11:14:53,229 | server.py:190 | evaluate_round 4: no clients selected, cancel\n",
      "25063 DEBUG flwr 2023-03-23 11:14:53,235 | server.py:255 | fit_round 5: strategy sampled 5 clients (out of 100)\n",
      "25063 DEBUG flwr 2023-03-23 11:14:53,236 | server.py:435 | Sending instructions to clients\n"
     ]
    },
    {
     "name": "stdout",
     "output_type": "stream",
     "text": [
      "Working out which clients to instruct\n",
      "Want 5 more clients, minimum 5\n",
      "Selected clients = ['48', '30', '45', '94', '72']\n",
      "Client finshed: 34\n",
      "Client finshed: 85\n"
     ]
    },
    {
     "name": "stderr",
     "output_type": "stream",
     "text": [
      "25063 DEBUG flwr 2023-03-23 11:14:57,667 | server.py:461 | Received enough responses from clients\n",
      "25063 DEBUG flwr 2023-03-23 11:14:57,669 | server.py:279 | fit_round 5 received 5 results and 0 failures\n"
     ]
    },
    {
     "name": "stdout",
     "output_type": "stream",
     "text": [
      "Client finshed: 87\n",
      "Client finshed: 99\n",
      "Client finshed: 44\n",
      "These clients sent updates: [('34', 1), ('85', 1), ('87', 1), ('99', 1), ('44', 1)]\n",
      "These clients failed: []\n"
     ]
    },
    {
     "name": "stderr",
     "output_type": "stream",
     "text": [
      "\u001b[2m\u001b[33m(raylet)\u001b[0m [2023-03-23 11:15:00,338 E 529613 529613] (raylet) node_manager.cc:3040: 2 Workers (tasks / actors) killed due to memory pressure (OOM), 0 Workers crashed due to other reasons at node (ID: 1a50e2d15ec61b42ce3f8138107d2e49dbe0b5a2305b0845325f907e, IP: 10.9.7.124) over the last time period. To see more information about the Workers killed on this node, use `ray logs raylet.out -ip 10.9.7.124`\n",
      "\u001b[2m\u001b[33m(raylet)\u001b[0m \n",
      "\u001b[2m\u001b[33m(raylet)\u001b[0m Refer to the documentation on how to address the out of memory issue: https://docs.ray.io/en/latest/ray-core/scheduling/ray-oom-prevention.html. Consider provisioning more memory on this node or reducing task parallelism by requesting more CPUs per task. To adjust the kill threshold, set the environment variable `RAY_memory_usage_threshold` when starting Ray. To disable worker killing, set the environment variable `RAY_memory_monitor_refresh_ms` to zero.\n",
      "25063 INFO flwr 2023-03-23 11:15:02,970 | server.py:140 | fit progress: (5, 443.6168096065521, {'accuracy': 0.1721}, 56.0930007120005)\n",
      "25063 INFO flwr 2023-03-23 11:15:02,971 | server.py:190 | evaluate_round 5: no clients selected, cancel\n",
      "25063 DEBUG flwr 2023-03-23 11:15:02,977 | server.py:255 | fit_round 6: strategy sampled 5 clients (out of 100)\n",
      "25063 DEBUG flwr 2023-03-23 11:15:02,978 | server.py:435 | Sending instructions to clients\n"
     ]
    },
    {
     "name": "stdout",
     "output_type": "stream",
     "text": [
      "Working out which clients to instruct\n",
      "Want 5 more clients, minimum 5\n",
      "Selected clients = ['10', '26', '95', '82', '46']\n",
      "Client finshed: 48\n",
      "Client finshed: 30\n",
      "Client finshed: 45\n",
      "Client finshed: 94\n"
     ]
    },
    {
     "name": "stderr",
     "output_type": "stream",
     "text": [
      "25063 DEBUG flwr 2023-03-23 11:15:08,165 | server.py:461 | Received enough responses from clients\n",
      "25063 DEBUG flwr 2023-03-23 11:15:08,166 | server.py:279 | fit_round 6 received 5 results and 0 failures\n"
     ]
    },
    {
     "name": "stdout",
     "output_type": "stream",
     "text": [
      "Client finshed: 72\n",
      "These clients sent updates: [('48', 1), ('30', 1), ('45', 1), ('94', 1), ('72', 1)]\n",
      "These clients failed: []\n"
     ]
    },
    {
     "name": "stderr",
     "output_type": "stream",
     "text": [
      "25063 INFO flwr 2023-03-23 11:15:12,218 | server.py:140 | fit progress: (6, 412.0217686891556, {'accuracy': 0.2229}, 65.34144194600049)\n",
      "25063 INFO flwr 2023-03-23 11:15:12,220 | server.py:190 | evaluate_round 6: no clients selected, cancel\n",
      "25063 DEBUG flwr 2023-03-23 11:15:12,224 | server.py:255 | fit_round 7: strategy sampled 5 clients (out of 100)\n",
      "25063 DEBUG flwr 2023-03-23 11:15:12,226 | server.py:435 | Sending instructions to clients\n"
     ]
    },
    {
     "name": "stdout",
     "output_type": "stream",
     "text": [
      "Working out which clients to instruct\n",
      "Want 5 more clients, minimum 5\n",
      "Selected clients = ['49', '83', '90', '12', '60']\n",
      "Client finshed: 95\n",
      "Client finshed: 10\n",
      "Client finshed: 46\n",
      "Client finshed: 26\n"
     ]
    },
    {
     "name": "stderr",
     "output_type": "stream",
     "text": [
      "25063 DEBUG flwr 2023-03-23 11:15:14,723 | server.py:461 | Received enough responses from clients\n",
      "25063 DEBUG flwr 2023-03-23 11:15:14,727 | server.py:279 | fit_round 7 received 5 results and 0 failures\n"
     ]
    },
    {
     "name": "stdout",
     "output_type": "stream",
     "text": [
      "Client finshed: 82\n",
      "These clients sent updates: [('95', 1), ('10', 1), ('46', 1), ('26', 1), ('82', 1)]\n",
      "These clients failed: []\n"
     ]
    },
    {
     "name": "stderr",
     "output_type": "stream",
     "text": [
      "25063 INFO flwr 2023-03-23 11:15:20,205 | server.py:140 | fit progress: (7, 387.24271380901337, {'accuracy': 0.2916}, 73.328697551)\n",
      "25063 INFO flwr 2023-03-23 11:15:20,207 | server.py:190 | evaluate_round 7: no clients selected, cancel\n",
      "25063 DEBUG flwr 2023-03-23 11:15:20,212 | server.py:255 | fit_round 8: strategy sampled 5 clients (out of 100)\n",
      "25063 DEBUG flwr 2023-03-23 11:15:20,214 | server.py:435 | Sending instructions to clients\n"
     ]
    },
    {
     "name": "stdout",
     "output_type": "stream",
     "text": [
      "Working out which clients to instruct\n",
      "Want 5 more clients, minimum 5\n",
      "Selected clients = ['7', '30', '28', '88', '80']\n",
      "Client finshed: 12\n",
      "Client finshed: 49\n",
      "Client finshed: 90\n",
      "Client finshed: 83\n"
     ]
    },
    {
     "name": "stderr",
     "output_type": "stream",
     "text": [
      "25063 DEBUG flwr 2023-03-23 11:15:23,964 | server.py:461 | Received enough responses from clients\n",
      "25063 DEBUG flwr 2023-03-23 11:15:23,972 | server.py:279 | fit_round 8 received 5 results and 0 failures\n"
     ]
    },
    {
     "name": "stdout",
     "output_type": "stream",
     "text": [
      "Client finshed: 60\n",
      "These clients sent updates: [('12', 1), ('49', 1), ('90', 1), ('83', 1), ('60', 1)]\n",
      "These clients failed: []\n"
     ]
    },
    {
     "name": "stderr",
     "output_type": "stream",
     "text": [
      "25063 INFO flwr 2023-03-23 11:15:28,206 | server.py:140 | fit progress: (8, 378.95860409736633, {'accuracy': 0.3134}, 81.32915837000019)\n",
      "25063 INFO flwr 2023-03-23 11:15:28,207 | server.py:190 | evaluate_round 8: no clients selected, cancel\n",
      "25063 DEBUG flwr 2023-03-23 11:15:28,212 | server.py:255 | fit_round 9: strategy sampled 5 clients (out of 100)\n",
      "25063 DEBUG flwr 2023-03-23 11:15:28,214 | server.py:435 | Sending instructions to clients\n"
     ]
    },
    {
     "name": "stdout",
     "output_type": "stream",
     "text": [
      "Working out which clients to instruct\n",
      "Want 5 more clients, minimum 5\n",
      "Selected clients = ['52', '81', '78', '5', '65']\n",
      "Client finshed: 30\n",
      "Client finshed: 88\n",
      "Client finshed: 80\n"
     ]
    },
    {
     "name": "stderr",
     "output_type": "stream",
     "text": [
      "25063 DEBUG flwr 2023-03-23 11:15:33,664 | server.py:461 | Received enough responses from clients\n",
      "25063 DEBUG flwr 2023-03-23 11:15:33,668 | server.py:279 | fit_round 9 received 5 results and 0 failures\n"
     ]
    },
    {
     "name": "stdout",
     "output_type": "stream",
     "text": [
      "Client finshed: 28\n",
      "Client finshed: 7\n",
      "These clients sent updates: [('30', 1), ('88', 1), ('80', 1), ('28', 1), ('7', 1)]\n",
      "These clients failed: []\n"
     ]
    },
    {
     "name": "stderr",
     "output_type": "stream",
     "text": [
      "25063 INFO flwr 2023-03-23 11:15:39,452 | server.py:140 | fit progress: (9, 386.5117937326431, {'accuracy': 0.268}, 92.57572877200073)\n",
      "25063 INFO flwr 2023-03-23 11:15:39,454 | server.py:190 | evaluate_round 9: no clients selected, cancel\n",
      "25063 DEBUG flwr 2023-03-23 11:15:39,458 | server.py:255 | fit_round 10: strategy sampled 5 clients (out of 100)\n",
      "25063 DEBUG flwr 2023-03-23 11:15:39,459 | server.py:435 | Sending instructions to clients\n"
     ]
    },
    {
     "name": "stdout",
     "output_type": "stream",
     "text": [
      "Working out which clients to instruct\n",
      "Want 5 more clients, minimum 5\n",
      "Selected clients = ['83', '1', '60', '80', '16']\n",
      "Client finshed: 5\n",
      "Client finshed: 78\n",
      "Client finshed: 81\n"
     ]
    },
    {
     "name": "stderr",
     "output_type": "stream",
     "text": [
      "25063 DEBUG flwr 2023-03-23 11:15:43,272 | server.py:461 | Received enough responses from clients\n",
      "25063 DEBUG flwr 2023-03-23 11:15:43,274 | server.py:279 | fit_round 10 received 5 results and 0 failures\n"
     ]
    },
    {
     "name": "stdout",
     "output_type": "stream",
     "text": [
      "Client finshed: 52\n",
      "Client finshed: 65\n",
      "These clients sent updates: [('5', 1), ('78', 1), ('81', 1), ('52', 1), ('65', 1)]\n",
      "These clients failed: []\n"
     ]
    },
    {
     "name": "stderr",
     "output_type": "stream",
     "text": [
      "25063 INFO flwr 2023-03-23 11:15:48,356 | server.py:140 | fit progress: (10, 377.77522015571594, {'accuracy': 0.3159}, 101.4797382300003)\n",
      "25063 INFO flwr 2023-03-23 11:15:48,358 | server.py:190 | evaluate_round 10: no clients selected, cancel\n",
      "25063 DEBUG flwr 2023-03-23 11:15:48,365 | server.py:255 | fit_round 11: strategy sampled 5 clients (out of 100)\n",
      "25063 DEBUG flwr 2023-03-23 11:15:48,366 | server.py:435 | Sending instructions to clients\n"
     ]
    },
    {
     "name": "stdout",
     "output_type": "stream",
     "text": [
      "Working out which clients to instruct\n",
      "Want 5 more clients, minimum 5\n",
      "Selected clients = ['70', '61', '31', '28', '30']\n",
      "Client finshed: 83\n",
      "Client finshed: 80\n",
      "Client finshed: 60\n",
      "Client finshed: 1\n"
     ]
    },
    {
     "name": "stderr",
     "output_type": "stream",
     "text": [
      "25063 DEBUG flwr 2023-03-23 11:15:51,564 | server.py:461 | Received enough responses from clients\n",
      "25063 DEBUG flwr 2023-03-23 11:15:51,566 | server.py:279 | fit_round 11 received 5 results and 0 failures\n"
     ]
    },
    {
     "name": "stdout",
     "output_type": "stream",
     "text": [
      "Client finshed: 16\n",
      "These clients sent updates: [('83', 1), ('80', 1), ('60', 1), ('1', 1), ('16', 1)]\n",
      "These clients failed: []\n"
     ]
    },
    {
     "name": "stderr",
     "output_type": "stream",
     "text": [
      "25063 INFO flwr 2023-03-23 11:15:55,680 | server.py:140 | fit progress: (11, 359.4510887861252, {'accuracy': 0.3512}, 108.80363130600017)\n",
      "25063 INFO flwr 2023-03-23 11:15:55,682 | server.py:190 | evaluate_round 11: no clients selected, cancel\n",
      "25063 DEBUG flwr 2023-03-23 11:15:55,686 | server.py:255 | fit_round 12: strategy sampled 5 clients (out of 100)\n",
      "25063 DEBUG flwr 2023-03-23 11:15:55,687 | server.py:435 | Sending instructions to clients\n"
     ]
    },
    {
     "name": "stdout",
     "output_type": "stream",
     "text": [
      "Working out which clients to instruct\n",
      "Want 5 more clients, minimum 5\n",
      "Selected clients = ['39', '47', '74', '42', '2']\n",
      "Client finshed: 30\n",
      "Client finshed: 70\n",
      "Client finshed: 31\n",
      "Client finshed: 28\n"
     ]
    },
    {
     "name": "stderr",
     "output_type": "stream",
     "text": [
      "25063 DEBUG flwr 2023-03-23 11:16:00,818 | server.py:461 | Received enough responses from clients\n",
      "25063 DEBUG flwr 2023-03-23 11:16:00,821 | server.py:279 | fit_round 12 received 5 results and 0 failures\n"
     ]
    },
    {
     "name": "stdout",
     "output_type": "stream",
     "text": [
      "Client finshed: 61\n",
      "These clients sent updates: [('30', 1), ('70', 1), ('31', 1), ('28', 1), ('61', 1)]\n",
      "These clients failed: []\n"
     ]
    },
    {
     "name": "stderr",
     "output_type": "stream",
     "text": [
      "25063 INFO flwr 2023-03-23 11:16:05,817 | server.py:140 | fit progress: (12, 352.1459242105484, {'accuracy': 0.3592}, 118.94046351700035)\n",
      "25063 INFO flwr 2023-03-23 11:16:05,818 | server.py:190 | evaluate_round 12: no clients selected, cancel\n",
      "25063 DEBUG flwr 2023-03-23 11:16:05,823 | server.py:255 | fit_round 13: strategy sampled 5 clients (out of 100)\n",
      "25063 DEBUG flwr 2023-03-23 11:16:05,825 | server.py:435 | Sending instructions to clients\n"
     ]
    },
    {
     "name": "stdout",
     "output_type": "stream",
     "text": [
      "Working out which clients to instruct\n",
      "Want 5 more clients, minimum 5\n",
      "Selected clients = ['22', '8', '26', '17', '64']\n",
      "Client finshed: 47\n",
      "Client finshed: 74\n",
      "Client finshed: 39\n"
     ]
    },
    {
     "name": "stderr",
     "output_type": "stream",
     "text": [
      "25063 DEBUG flwr 2023-03-23 11:16:08,363 | server.py:461 | Received enough responses from clients\n",
      "25063 DEBUG flwr 2023-03-23 11:16:08,365 | server.py:279 | fit_round 13 received 5 results and 0 failures\n"
     ]
    },
    {
     "name": "stdout",
     "output_type": "stream",
     "text": [
      "Client finshed: 2\n",
      "Client finshed: 42\n",
      "These clients sent updates: [('47', 1), ('74', 1), ('39', 1), ('2', 1), ('42', 1)]\n",
      "These clients failed: []\n"
     ]
    },
    {
     "name": "stderr",
     "output_type": "stream",
     "text": [
      "25063 INFO flwr 2023-03-23 11:16:12,520 | server.py:140 | fit progress: (13, 348.00287449359894, {'accuracy': 0.3664}, 125.64344536099998)\n",
      "25063 INFO flwr 2023-03-23 11:16:12,521 | server.py:190 | evaluate_round 13: no clients selected, cancel\n",
      "25063 DEBUG flwr 2023-03-23 11:16:12,525 | server.py:255 | fit_round 14: strategy sampled 5 clients (out of 100)\n",
      "25063 DEBUG flwr 2023-03-23 11:16:12,526 | server.py:435 | Sending instructions to clients\n"
     ]
    },
    {
     "name": "stdout",
     "output_type": "stream",
     "text": [
      "Working out which clients to instruct\n",
      "Want 5 more clients, minimum 5\n",
      "Selected clients = ['95', '71', '19', '14', '57']\n",
      "Client finshed: 17\n",
      "Client finshed: 26\n",
      "Client finshed: 64\n",
      "Client finshed: 8\n"
     ]
    },
    {
     "name": "stderr",
     "output_type": "stream",
     "text": [
      "25063 DEBUG flwr 2023-03-23 11:16:15,955 | server.py:461 | Received enough responses from clients\n",
      "25063 DEBUG flwr 2023-03-23 11:16:15,958 | server.py:279 | fit_round 14 received 5 results and 0 failures\n"
     ]
    },
    {
     "name": "stdout",
     "output_type": "stream",
     "text": [
      "Client finshed: 22\n",
      "These clients sent updates: [('17', 1), ('26', 1), ('64', 1), ('8', 1), ('22', 1)]\n",
      "These clients failed: []\n"
     ]
    },
    {
     "name": "stderr",
     "output_type": "stream",
     "text": [
      "25063 INFO flwr 2023-03-23 11:16:20,320 | server.py:140 | fit progress: (14, 345.37492072582245, {'accuracy': 0.3731}, 133.44323821000035)\n",
      "25063 INFO flwr 2023-03-23 11:16:20,321 | server.py:190 | evaluate_round 14: no clients selected, cancel\n",
      "25063 DEBUG flwr 2023-03-23 11:16:20,327 | server.py:255 | fit_round 15: strategy sampled 5 clients (out of 100)\n",
      "25063 DEBUG flwr 2023-03-23 11:16:20,328 | server.py:435 | Sending instructions to clients\n"
     ]
    },
    {
     "name": "stdout",
     "output_type": "stream",
     "text": [
      "Working out which clients to instruct\n",
      "Want 5 more clients, minimum 5\n",
      "Selected clients = ['74', '8', '69', '16', '75']\n",
      "Client finshed: 14\n",
      "Client finshed: 95\n",
      "Client finshed: 71\n",
      "Client finshed: 57\n"
     ]
    },
    {
     "name": "stderr",
     "output_type": "stream",
     "text": [
      "25063 DEBUG flwr 2023-03-23 11:16:26,718 | server.py:461 | Received enough responses from clients\n",
      "25063 DEBUG flwr 2023-03-23 11:16:26,721 | server.py:279 | fit_round 15 received 5 results and 0 failures\n"
     ]
    },
    {
     "name": "stdout",
     "output_type": "stream",
     "text": [
      "Client finshed: 19\n",
      "These clients sent updates: [('14', 1), ('95', 1), ('71', 1), ('57', 1), ('19', 1)]\n",
      "These clients failed: []\n"
     ]
    },
    {
     "name": "stderr",
     "output_type": "stream",
     "text": [
      "25063 INFO flwr 2023-03-23 11:16:31,161 | server.py:140 | fit progress: (15, 338.03660666942596, {'accuracy': 0.3833}, 144.28457078200063)\n",
      "25063 INFO flwr 2023-03-23 11:16:31,162 | server.py:190 | evaluate_round 15: no clients selected, cancel\n",
      "25063 DEBUG flwr 2023-03-23 11:16:31,167 | server.py:255 | fit_round 16: strategy sampled 5 clients (out of 100)\n",
      "25063 DEBUG flwr 2023-03-23 11:16:31,168 | server.py:435 | Sending instructions to clients\n"
     ]
    },
    {
     "name": "stdout",
     "output_type": "stream",
     "text": [
      "Working out which clients to instruct\n",
      "Want 5 more clients, minimum 5\n",
      "Selected clients = ['65', '73', '78', '3', '21']\n",
      "Client finshed: 74\n",
      "Client finshed: 69\n",
      "Client finshed: 8\n",
      "Client finshed: 16\n"
     ]
    },
    {
     "name": "stderr",
     "output_type": "stream",
     "text": [
      "25063 DEBUG flwr 2023-03-23 11:16:34,679 | server.py:461 | Received enough responses from clients\n",
      "25063 DEBUG flwr 2023-03-23 11:16:34,682 | server.py:279 | fit_round 16 received 5 results and 0 failures\n"
     ]
    },
    {
     "name": "stdout",
     "output_type": "stream",
     "text": [
      "Client finshed: 75\n",
      "These clients sent updates: [('74', 1), ('69', 1), ('8', 1), ('16', 1), ('75', 1)]\n",
      "These clients failed: []\n"
     ]
    },
    {
     "name": "stderr",
     "output_type": "stream",
     "text": [
      "25063 INFO flwr 2023-03-23 11:16:39,735 | server.py:140 | fit progress: (16, 339.28282833099365, {'accuracy': 0.3939}, 152.85796023300009)\n",
      "25063 INFO flwr 2023-03-23 11:16:39,736 | server.py:190 | evaluate_round 16: no clients selected, cancel\n",
      "25063 DEBUG flwr 2023-03-23 11:16:39,741 | server.py:255 | fit_round 17: strategy sampled 5 clients (out of 100)\n",
      "25063 DEBUG flwr 2023-03-23 11:16:39,742 | server.py:435 | Sending instructions to clients\n"
     ]
    },
    {
     "name": "stdout",
     "output_type": "stream",
     "text": [
      "Working out which clients to instruct\n",
      "Want 5 more clients, minimum 5\n",
      "Selected clients = ['97', '13', '10', '28', '12']\n",
      "Client finshed: 65\n",
      "Client finshed: 78\n",
      "Client finshed: 73\n",
      "Client finshed: 21\n"
     ]
    },
    {
     "name": "stderr",
     "output_type": "stream",
     "text": [
      "25063 DEBUG flwr 2023-03-23 11:16:43,457 | server.py:461 | Received enough responses from clients\n",
      "25063 DEBUG flwr 2023-03-23 11:16:43,460 | server.py:279 | fit_round 17 received 5 results and 0 failures\n"
     ]
    },
    {
     "name": "stdout",
     "output_type": "stream",
     "text": [
      "Client finshed: 3\n",
      "These clients sent updates: [('65', 1), ('78', 1), ('73', 1), ('21', 1), ('3', 1)]\n",
      "These clients failed: []\n"
     ]
    },
    {
     "name": "stderr",
     "output_type": "stream",
     "text": [
      "25063 INFO flwr 2023-03-23 11:16:49,452 | server.py:140 | fit progress: (17, 334.9741951227188, {'accuracy': 0.4067}, 162.57569264300037)\n",
      "25063 INFO flwr 2023-03-23 11:16:49,454 | server.py:190 | evaluate_round 17: no clients selected, cancel\n",
      "25063 DEBUG flwr 2023-03-23 11:16:49,459 | server.py:255 | fit_round 18: strategy sampled 5 clients (out of 100)\n",
      "25063 DEBUG flwr 2023-03-23 11:16:49,461 | server.py:435 | Sending instructions to clients\n"
     ]
    },
    {
     "name": "stdout",
     "output_type": "stream",
     "text": [
      "Working out which clients to instruct\n",
      "Want 5 more clients, minimum 5\n",
      "Selected clients = ['68', '20', '46', '54', '50']\n",
      "Client finshed: 13\n",
      "Client finshed: 28\n",
      "Client finshed: 97\n",
      "Client finshed: 10\n"
     ]
    },
    {
     "name": "stderr",
     "output_type": "stream",
     "text": [
      "25063 DEBUG flwr 2023-03-23 11:16:53,390 | server.py:461 | Received enough responses from clients\n",
      "25063 DEBUG flwr 2023-03-23 11:16:53,392 | server.py:279 | fit_round 18 received 5 results and 0 failures\n"
     ]
    },
    {
     "name": "stdout",
     "output_type": "stream",
     "text": [
      "Client finshed: 12\n",
      "These clients sent updates: [('13', 1), ('28', 1), ('97', 1), ('10', 1), ('12', 1)]\n",
      "These clients failed: []\n"
     ]
    },
    {
     "name": "stderr",
     "output_type": "stream",
     "text": [
      "25063 INFO flwr 2023-03-23 11:16:58,261 | server.py:140 | fit progress: (18, 334.45239651203156, {'accuracy': 0.4044}, 171.3838461590003)\n",
      "25063 INFO flwr 2023-03-23 11:16:58,262 | server.py:190 | evaluate_round 18: no clients selected, cancel\n",
      "25063 DEBUG flwr 2023-03-23 11:16:58,267 | server.py:255 | fit_round 19: strategy sampled 5 clients (out of 100)\n",
      "25063 DEBUG flwr 2023-03-23 11:16:58,268 | server.py:435 | Sending instructions to clients\n"
     ]
    },
    {
     "name": "stdout",
     "output_type": "stream",
     "text": [
      "Working out which clients to instruct\n",
      "Want 5 more clients, minimum 5\n",
      "Selected clients = ['13', '78', '62', '24', '0']\n",
      "Client finshed: 68\n",
      "Client finshed: 46\n",
      "Client finshed: 20\n",
      "Client finshed: 54\n"
     ]
    },
    {
     "name": "stderr",
     "output_type": "stream",
     "text": [
      "25063 DEBUG flwr 2023-03-23 11:17:02,307 | server.py:461 | Received enough responses from clients\n",
      "25063 DEBUG flwr 2023-03-23 11:17:02,308 | server.py:279 | fit_round 19 received 5 results and 0 failures\n"
     ]
    },
    {
     "name": "stdout",
     "output_type": "stream",
     "text": [
      "Client finshed: 50\n",
      "These clients sent updates: [('68', 1), ('46', 1), ('20', 1), ('54', 1), ('50', 1)]\n",
      "These clients failed: []\n"
     ]
    },
    {
     "name": "stderr",
     "output_type": "stream",
     "text": [
      "25063 INFO flwr 2023-03-23 11:17:07,736 | server.py:140 | fit progress: (19, 331.6554135084152, {'accuracy': 0.4102}, 180.85973324300085)\n",
      "25063 INFO flwr 2023-03-23 11:17:07,738 | server.py:190 | evaluate_round 19: no clients selected, cancel\n",
      "25063 DEBUG flwr 2023-03-23 11:17:07,748 | server.py:255 | fit_round 20: strategy sampled 5 clients (out of 100)\n",
      "25063 DEBUG flwr 2023-03-23 11:17:07,749 | server.py:435 | Sending instructions to clients\n"
     ]
    },
    {
     "name": "stdout",
     "output_type": "stream",
     "text": [
      "Working out which clients to instruct\n",
      "Want 5 more clients, minimum 5\n",
      "Selected clients = ['12', '42', '57', '1', '32']\n",
      "Client finshed: 78\n",
      "Client finshed: 62\n",
      "Client finshed: 24\n",
      "Client finshed: 0\n"
     ]
    },
    {
     "name": "stderr",
     "output_type": "stream",
     "text": [
      "25063 DEBUG flwr 2023-03-23 11:17:10,923 | server.py:461 | Received enough responses from clients\n",
      "25063 DEBUG flwr 2023-03-23 11:17:10,925 | server.py:279 | fit_round 20 received 5 results and 0 failures\n"
     ]
    },
    {
     "name": "stdout",
     "output_type": "stream",
     "text": [
      "Client finshed: 13\n",
      "These clients sent updates: [('78', 1), ('62', 1), ('24', 1), ('0', 1), ('13', 1)]\n",
      "These clients failed: []\n"
     ]
    },
    {
     "name": "stderr",
     "output_type": "stream",
     "text": [
      "25063 INFO flwr 2023-03-23 11:17:16,373 | server.py:140 | fit progress: (20, 329.16163551807404, {'accuracy': 0.4152}, 189.49602202900041)\n",
      "25063 INFO flwr 2023-03-23 11:17:16,374 | server.py:190 | evaluate_round 20: no clients selected, cancel\n",
      "25063 DEBUG flwr 2023-03-23 11:17:16,378 | server.py:255 | fit_round 21: strategy sampled 5 clients (out of 100)\n",
      "25063 DEBUG flwr 2023-03-23 11:17:16,380 | server.py:435 | Sending instructions to clients\n"
     ]
    },
    {
     "name": "stdout",
     "output_type": "stream",
     "text": [
      "Working out which clients to instruct\n",
      "Want 5 more clients, minimum 5\n",
      "Selected clients = ['55', '77', '44', '64', '69']\n",
      "Client finshed: 12\n",
      "Client finshed: 1\n",
      "Client finshed: 32\n",
      "Client finshed: 57\n"
     ]
    },
    {
     "name": "stderr",
     "output_type": "stream",
     "text": [
      "25063 DEBUG flwr 2023-03-23 11:17:19,361 | server.py:461 | Received enough responses from clients\n",
      "25063 DEBUG flwr 2023-03-23 11:17:19,363 | server.py:279 | fit_round 21 received 5 results and 0 failures\n"
     ]
    },
    {
     "name": "stdout",
     "output_type": "stream",
     "text": [
      "Client finshed: 42\n",
      "These clients sent updates: [('12', 1), ('1', 1), ('32', 1), ('57', 1), ('42', 1)]\n",
      "These clients failed: []\n"
     ]
    },
    {
     "name": "stderr",
     "output_type": "stream",
     "text": [
      "25063 INFO flwr 2023-03-23 11:17:23,503 | server.py:140 | fit progress: (21, 334.57441687583923, {'accuracy': 0.4004}, 196.62597056200048)\n",
      "25063 INFO flwr 2023-03-23 11:17:23,504 | server.py:190 | evaluate_round 21: no clients selected, cancel\n",
      "25063 DEBUG flwr 2023-03-23 11:17:23,508 | server.py:255 | fit_round 22: strategy sampled 5 clients (out of 100)\n",
      "25063 DEBUG flwr 2023-03-23 11:17:23,510 | server.py:435 | Sending instructions to clients\n"
     ]
    },
    {
     "name": "stdout",
     "output_type": "stream",
     "text": [
      "Working out which clients to instruct\n",
      "Want 5 more clients, minimum 5\n",
      "Selected clients = ['3', '53', '30', '78', '87']\n",
      "Client finshed: 77\n",
      "Client finshed: 44\n",
      "Client finshed: 55\n",
      "Client finshed: 64\n"
     ]
    },
    {
     "name": "stderr",
     "output_type": "stream",
     "text": [
      "25063 DEBUG flwr 2023-03-23 11:17:28,642 | server.py:461 | Received enough responses from clients\n",
      "25063 DEBUG flwr 2023-03-23 11:17:28,646 | server.py:279 | fit_round 22 received 5 results and 0 failures\n"
     ]
    },
    {
     "name": "stdout",
     "output_type": "stream",
     "text": [
      "Client finshed: 69\n",
      "These clients sent updates: [('77', 1), ('44', 1), ('55', 1), ('64', 1), ('69', 1)]\n",
      "These clients failed: []\n"
     ]
    },
    {
     "name": "stderr",
     "output_type": "stream",
     "text": [
      "25063 INFO flwr 2023-03-23 11:17:33,507 | server.py:140 | fit progress: (22, 326.8337399959564, {'accuracy': 0.4159}, 206.63044759200056)\n",
      "25063 INFO flwr 2023-03-23 11:17:33,508 | server.py:190 | evaluate_round 22: no clients selected, cancel\n",
      "25063 DEBUG flwr 2023-03-23 11:17:33,512 | server.py:255 | fit_round 23: strategy sampled 5 clients (out of 100)\n",
      "25063 DEBUG flwr 2023-03-23 11:17:33,512 | server.py:435 | Sending instructions to clients\n"
     ]
    },
    {
     "name": "stdout",
     "output_type": "stream",
     "text": [
      "Working out which clients to instruct\n",
      "Want 5 more clients, minimum 5\n",
      "Selected clients = ['68', '98', '38', '17', '52']\n",
      "Client finshed: 30\n",
      "Client finshed: 53\n",
      "Client finshed: 3\n",
      "Client finshed: 78\n"
     ]
    },
    {
     "name": "stderr",
     "output_type": "stream",
     "text": [
      "25063 DEBUG flwr 2023-03-23 11:17:36,762 | server.py:461 | Received enough responses from clients\n",
      "25063 DEBUG flwr 2023-03-23 11:17:36,766 | server.py:279 | fit_round 23 received 5 results and 0 failures\n"
     ]
    },
    {
     "name": "stdout",
     "output_type": "stream",
     "text": [
      "Client finshed: 87\n",
      "These clients sent updates: [('30', 1), ('53', 1), ('3', 1), ('78', 1), ('87', 1)]\n",
      "These clients failed: []\n"
     ]
    },
    {
     "name": "stderr",
     "output_type": "stream",
     "text": [
      "25063 INFO flwr 2023-03-23 11:17:40,706 | server.py:140 | fit progress: (23, 326.99032723903656, {'accuracy': 0.4337}, 213.8288572600004)\n",
      "25063 INFO flwr 2023-03-23 11:17:40,707 | server.py:190 | evaluate_round 23: no clients selected, cancel\n",
      "25063 DEBUG flwr 2023-03-23 11:17:40,711 | server.py:255 | fit_round 24: strategy sampled 5 clients (out of 100)\n",
      "25063 DEBUG flwr 2023-03-23 11:17:40,712 | server.py:435 | Sending instructions to clients\n"
     ]
    },
    {
     "name": "stdout",
     "output_type": "stream",
     "text": [
      "Working out which clients to instruct\n",
      "Want 5 more clients, minimum 5\n",
      "Selected clients = ['54', '75', '89', '0', '5']\n",
      "Client finshed: 52\n",
      "Client finshed: 38\n",
      "Client finshed: 68\n",
      "Client finshed: 98\n"
     ]
    },
    {
     "name": "stderr",
     "output_type": "stream",
     "text": [
      "25063 DEBUG flwr 2023-03-23 11:17:42,656 | server.py:461 | Received enough responses from clients\n",
      "25063 DEBUG flwr 2023-03-23 11:17:42,657 | server.py:279 | fit_round 24 received 5 results and 0 failures\n"
     ]
    },
    {
     "name": "stdout",
     "output_type": "stream",
     "text": [
      "Client finshed: 17\n",
      "These clients sent updates: [('52', 1), ('38', 1), ('68', 1), ('98', 1), ('17', 1)]\n",
      "These clients failed: []\n"
     ]
    },
    {
     "name": "stderr",
     "output_type": "stream",
     "text": [
      "25063 INFO flwr 2023-03-23 11:17:47,516 | server.py:140 | fit progress: (24, 355.5809645652771, {'accuracy': 0.3834}, 220.63904473500043)\n",
      "25063 INFO flwr 2023-03-23 11:17:47,517 | server.py:190 | evaluate_round 24: no clients selected, cancel\n",
      "25063 DEBUG flwr 2023-03-23 11:17:47,522 | server.py:255 | fit_round 25: strategy sampled 5 clients (out of 100)\n",
      "25063 DEBUG flwr 2023-03-23 11:17:47,523 | server.py:435 | Sending instructions to clients\n"
     ]
    },
    {
     "name": "stdout",
     "output_type": "stream",
     "text": [
      "Working out which clients to instruct\n",
      "Want 5 more clients, minimum 5\n",
      "Selected clients = ['63', '83', '87', '19', '15']\n",
      "Client finshed: 0\n",
      "Client finshed: 75\n"
     ]
    },
    {
     "name": "stderr",
     "output_type": "stream",
     "text": [
      "25063 DEBUG flwr 2023-03-23 11:17:52,054 | server.py:461 | Received enough responses from clients\n",
      "25063 DEBUG flwr 2023-03-23 11:17:52,059 | server.py:279 | fit_round 25 received 5 results and 0 failures\n"
     ]
    },
    {
     "name": "stdout",
     "output_type": "stream",
     "text": [
      "Client finshed: 54\n",
      "Client finshed: 5\n",
      "Client finshed: 89\n",
      "These clients sent updates: [('0', 1), ('75', 1), ('54', 1), ('5', 1), ('89', 1)]\n",
      "These clients failed: []\n"
     ]
    },
    {
     "name": "stderr",
     "output_type": "stream",
     "text": [
      "25063 INFO flwr 2023-03-23 11:17:57,470 | server.py:140 | fit progress: (25, 330.0847053527832, {'accuracy': 0.4334}, 230.59364179600016)\n",
      "25063 INFO flwr 2023-03-23 11:17:57,471 | server.py:190 | evaluate_round 25: no clients selected, cancel\n",
      "25063 DEBUG flwr 2023-03-23 11:17:57,476 | server.py:255 | fit_round 26: strategy sampled 5 clients (out of 100)\n",
      "25063 DEBUG flwr 2023-03-23 11:17:57,476 | server.py:435 | Sending instructions to clients\n"
     ]
    },
    {
     "name": "stdout",
     "output_type": "stream",
     "text": [
      "Working out which clients to instruct\n",
      "Want 5 more clients, minimum 5\n",
      "Selected clients = ['80', '92', '12', '6', '93']\n",
      "Client finshed: 87\n",
      "Client finshed: 63\n",
      "Client finshed: 83\n",
      "Client finshed: 19\n"
     ]
    },
    {
     "name": "stderr",
     "output_type": "stream",
     "text": [
      "25063 DEBUG flwr 2023-03-23 11:18:00,556 | server.py:461 | Received enough responses from clients\n",
      "25063 DEBUG flwr 2023-03-23 11:18:00,562 | server.py:279 | fit_round 26 received 5 results and 0 failures\n"
     ]
    },
    {
     "name": "stdout",
     "output_type": "stream",
     "text": [
      "Client finshed: 15\n",
      "These clients sent updates: [('87', 1), ('63', 1), ('83', 1), ('19', 1), ('15', 1)]\n",
      "These clients failed: []\n"
     ]
    },
    {
     "name": "stderr",
     "output_type": "stream",
     "text": [
      "25063 INFO flwr 2023-03-23 11:18:05,630 | server.py:140 | fit progress: (26, 366.036013007164, {'accuracy': 0.3354}, 238.75350956300008)\n",
      "25063 INFO flwr 2023-03-23 11:18:05,632 | server.py:190 | evaluate_round 26: no clients selected, cancel\n",
      "25063 DEBUG flwr 2023-03-23 11:18:05,636 | server.py:255 | fit_round 27: strategy sampled 5 clients (out of 100)\n",
      "25063 DEBUG flwr 2023-03-23 11:18:05,637 | server.py:435 | Sending instructions to clients\n"
     ]
    },
    {
     "name": "stdout",
     "output_type": "stream",
     "text": [
      "Working out which clients to instruct\n",
      "Want 5 more clients, minimum 5\n",
      "Selected clients = ['60', '23', '11', '26', '0']\n",
      "Client finshed: 92\n",
      "Client finshed: 80\n",
      "Client finshed: 12\n",
      "Client finshed: 93\n"
     ]
    },
    {
     "name": "stderr",
     "output_type": "stream",
     "text": [
      "25063 DEBUG flwr 2023-03-23 11:18:10,198 | server.py:461 | Received enough responses from clients\n",
      "25063 DEBUG flwr 2023-03-23 11:18:10,200 | server.py:279 | fit_round 27 received 5 results and 0 failures\n"
     ]
    },
    {
     "name": "stdout",
     "output_type": "stream",
     "text": [
      "Client finshed: 6\n",
      "These clients sent updates: [('92', 1), ('80', 1), ('12', 1), ('93', 1), ('6', 1)]\n",
      "These clients failed: []\n"
     ]
    },
    {
     "name": "stderr",
     "output_type": "stream",
     "text": [
      "25063 INFO flwr 2023-03-23 11:18:15,113 | server.py:140 | fit progress: (27, 324.217333316803, {'accuracy': 0.429}, 248.23628498000016)\n",
      "25063 INFO flwr 2023-03-23 11:18:15,114 | server.py:190 | evaluate_round 27: no clients selected, cancel\n",
      "25063 DEBUG flwr 2023-03-23 11:18:15,118 | server.py:255 | fit_round 28: strategy sampled 5 clients (out of 100)\n",
      "25063 DEBUG flwr 2023-03-23 11:18:15,119 | server.py:435 | Sending instructions to clients\n"
     ]
    },
    {
     "name": "stdout",
     "output_type": "stream",
     "text": [
      "Working out which clients to instruct\n",
      "Want 5 more clients, minimum 5\n",
      "Selected clients = ['70', '15', '96', '75', '51']\n",
      "Client finshed: 23\n",
      "Client finshed: 11\n",
      "Client finshed: 60\n",
      "Client finshed: 26\n"
     ]
    },
    {
     "name": "stderr",
     "output_type": "stream",
     "text": [
      "25063 DEBUG flwr 2023-03-23 11:18:20,852 | server.py:461 | Received enough responses from clients\n",
      "25063 DEBUG flwr 2023-03-23 11:18:20,854 | server.py:279 | fit_round 28 received 5 results and 0 failures\n"
     ]
    },
    {
     "name": "stdout",
     "output_type": "stream",
     "text": [
      "Client finshed: 0\n",
      "These clients sent updates: [('23', 1), ('11', 1), ('60', 1), ('26', 1), ('0', 1)]\n",
      "These clients failed: []\n"
     ]
    },
    {
     "name": "stderr",
     "output_type": "stream",
     "text": [
      "25063 INFO flwr 2023-03-23 11:18:25,772 | server.py:140 | fit progress: (28, 325.96419990062714, {'accuracy': 0.433}, 258.89549211900066)\n",
      "25063 INFO flwr 2023-03-23 11:18:25,773 | server.py:190 | evaluate_round 28: no clients selected, cancel\n",
      "25063 DEBUG flwr 2023-03-23 11:18:25,778 | server.py:255 | fit_round 29: strategy sampled 5 clients (out of 100)\n",
      "25063 DEBUG flwr 2023-03-23 11:18:25,779 | server.py:435 | Sending instructions to clients\n"
     ]
    },
    {
     "name": "stdout",
     "output_type": "stream",
     "text": [
      "Working out which clients to instruct\n",
      "Want 5 more clients, minimum 5\n",
      "Selected clients = ['34', '18', '88', '31', '33']\n",
      "Client finshed: 15\n",
      "Client finshed: 70\n",
      "Client finshed: 75\n",
      "Client finshed: 51\n"
     ]
    },
    {
     "name": "stderr",
     "output_type": "stream",
     "text": [
      "25063 DEBUG flwr 2023-03-23 11:18:30,809 | server.py:461 | Received enough responses from clients\n",
      "25063 DEBUG flwr 2023-03-23 11:18:30,811 | server.py:279 | fit_round 29 received 5 results and 0 failures\n"
     ]
    },
    {
     "name": "stdout",
     "output_type": "stream",
     "text": [
      "Client finshed: 96\n",
      "These clients sent updates: [('15', 1), ('70', 1), ('75', 1), ('51', 1), ('96', 1)]\n",
      "These clients failed: []\n"
     ]
    },
    {
     "name": "stderr",
     "output_type": "stream",
     "text": [
      "25063 INFO flwr 2023-03-23 11:18:35,631 | server.py:140 | fit progress: (29, 329.1912475824356, {'accuracy': 0.4291}, 268.75409917900015)\n",
      "25063 INFO flwr 2023-03-23 11:18:35,633 | server.py:190 | evaluate_round 29: no clients selected, cancel\n",
      "25063 DEBUG flwr 2023-03-23 11:18:35,643 | server.py:255 | fit_round 30: strategy sampled 5 clients (out of 100)\n",
      "25063 DEBUG flwr 2023-03-23 11:18:35,644 | server.py:435 | Sending instructions to clients\n"
     ]
    },
    {
     "name": "stdout",
     "output_type": "stream",
     "text": [
      "Working out which clients to instruct\n",
      "Want 5 more clients, minimum 5\n",
      "Selected clients = ['58', '57', '72', '63', '24']\n",
      "Client finshed: 88\n",
      "Client finshed: 31\n",
      "Client finshed: 34\n",
      "Client finshed: 33\n"
     ]
    },
    {
     "name": "stderr",
     "output_type": "stream",
     "text": [
      "25063 DEBUG flwr 2023-03-23 11:18:38,265 | server.py:461 | Received enough responses from clients\n",
      "25063 DEBUG flwr 2023-03-23 11:18:38,266 | server.py:279 | fit_round 30 received 5 results and 0 failures\n"
     ]
    },
    {
     "name": "stdout",
     "output_type": "stream",
     "text": [
      "Client finshed: 18\n",
      "These clients sent updates: [('88', 1), ('31', 1), ('34', 1), ('33', 1), ('18', 1)]\n",
      "These clients failed: []\n"
     ]
    },
    {
     "name": "stderr",
     "output_type": "stream",
     "text": [
      "25063 INFO flwr 2023-03-23 11:18:43,333 | server.py:140 | fit progress: (30, 318.9368817806244, {'accuracy': 0.4431}, 276.45649901900015)\n",
      "25063 INFO flwr 2023-03-23 11:18:43,334 | server.py:190 | evaluate_round 30: no clients selected, cancel\n",
      "25063 DEBUG flwr 2023-03-23 11:18:43,338 | server.py:255 | fit_round 31: strategy sampled 5 clients (out of 100)\n",
      "25063 DEBUG flwr 2023-03-23 11:18:43,340 | server.py:435 | Sending instructions to clients\n"
     ]
    },
    {
     "name": "stdout",
     "output_type": "stream",
     "text": [
      "Working out which clients to instruct\n",
      "Want 5 more clients, minimum 5\n",
      "Selected clients = ['27', '99', '0', '43', '69']\n",
      "Client finshed: 57\n",
      "Client finshed: 72\n",
      "Client finshed: 58\n",
      "Client finshed: 63\n"
     ]
    },
    {
     "name": "stderr",
     "output_type": "stream",
     "text": [
      "25063 DEBUG flwr 2023-03-23 11:18:47,044 | server.py:461 | Received enough responses from clients\n",
      "25063 DEBUG flwr 2023-03-23 11:18:47,045 | server.py:279 | fit_round 31 received 5 results and 0 failures\n"
     ]
    },
    {
     "name": "stdout",
     "output_type": "stream",
     "text": [
      "Client finshed: 24\n",
      "These clients sent updates: [('57', 1), ('72', 1), ('58', 1), ('63', 1), ('24', 1)]\n",
      "These clients failed: []\n"
     ]
    },
    {
     "name": "stderr",
     "output_type": "stream",
     "text": [
      "25063 INFO flwr 2023-03-23 11:18:50,973 | server.py:140 | fit progress: (31, 335.7359930276871, {'accuracy': 0.4099}, 284.09641062600076)\n",
      "25063 INFO flwr 2023-03-23 11:18:50,974 | server.py:190 | evaluate_round 31: no clients selected, cancel\n",
      "25063 DEBUG flwr 2023-03-23 11:18:50,979 | server.py:255 | fit_round 32: strategy sampled 5 clients (out of 100)\n",
      "25063 DEBUG flwr 2023-03-23 11:18:50,979 | server.py:435 | Sending instructions to clients\n"
     ]
    },
    {
     "name": "stdout",
     "output_type": "stream",
     "text": [
      "Working out which clients to instruct\n",
      "Want 5 more clients, minimum 5\n",
      "Selected clients = ['87', '46', '61', '47', '56']\n",
      "Client finshed: 99\n",
      "Client finshed: 27\n",
      "Client finshed: 0\n"
     ]
    },
    {
     "name": "stderr",
     "output_type": "stream",
     "text": [
      "25063 DEBUG flwr 2023-03-23 11:18:53,643 | server.py:461 | Received enough responses from clients\n",
      "25063 DEBUG flwr 2023-03-23 11:18:53,644 | server.py:279 | fit_round 32 received 5 results and 0 failures\n"
     ]
    },
    {
     "name": "stdout",
     "output_type": "stream",
     "text": [
      "Client finshed: 43\n",
      "Client finshed: 69\n",
      "These clients sent updates: [('99', 1), ('27', 1), ('0', 1), ('43', 1), ('69', 1)]\n",
      "These clients failed: []\n"
     ]
    },
    {
     "name": "stderr",
     "output_type": "stream",
     "text": [
      "25063 INFO flwr 2023-03-23 11:18:58,171 | server.py:140 | fit progress: (32, 409.0148249864578, {'accuracy': 0.3197}, 291.2938709560003)\n",
      "25063 INFO flwr 2023-03-23 11:18:58,172 | server.py:190 | evaluate_round 32: no clients selected, cancel\n",
      "25063 DEBUG flwr 2023-03-23 11:18:58,177 | server.py:255 | fit_round 33: strategy sampled 5 clients (out of 100)\n",
      "25063 DEBUG flwr 2023-03-23 11:18:58,178 | server.py:435 | Sending instructions to clients\n"
     ]
    },
    {
     "name": "stdout",
     "output_type": "stream",
     "text": [
      "Working out which clients to instruct\n",
      "Want 5 more clients, minimum 5\n",
      "Selected clients = ['31', '6', '55', '50', '34']\n",
      "Client finshed: 87\n",
      "Client finshed: 47\n",
      "Client finshed: 46\n",
      "Client finshed: 61\n"
     ]
    },
    {
     "name": "stderr",
     "output_type": "stream",
     "text": [
      "25063 DEBUG flwr 2023-03-23 11:19:05,180 | server.py:461 | Received enough responses from clients\n",
      "25063 DEBUG flwr 2023-03-23 11:19:05,183 | server.py:279 | fit_round 33 received 5 results and 0 failures\n"
     ]
    },
    {
     "name": "stdout",
     "output_type": "stream",
     "text": [
      "Client finshed: 56\n",
      "These clients sent updates: [('87', 1), ('47', 1), ('46', 1), ('61', 1), ('56', 1)]\n",
      "These clients failed: []\n"
     ]
    },
    {
     "name": "stderr",
     "output_type": "stream",
     "text": [
      "25063 INFO flwr 2023-03-23 11:19:10,408 | server.py:140 | fit progress: (33, 315.72434055805206, {'accuracy': 0.451}, 303.531217621)\n",
      "25063 INFO flwr 2023-03-23 11:19:10,409 | server.py:190 | evaluate_round 33: no clients selected, cancel\n",
      "25063 DEBUG flwr 2023-03-23 11:19:10,413 | server.py:255 | fit_round 34: strategy sampled 5 clients (out of 100)\n",
      "25063 DEBUG flwr 2023-03-23 11:19:10,414 | server.py:435 | Sending instructions to clients\n"
     ]
    },
    {
     "name": "stdout",
     "output_type": "stream",
     "text": [
      "Working out which clients to instruct\n",
      "Want 5 more clients, minimum 5\n",
      "Selected clients = ['70', '29', '36', '45', '67']\n",
      "Client finshed: 50\n",
      "Client finshed: 31\n",
      "Client finshed: 6\n"
     ]
    },
    {
     "name": "stderr",
     "output_type": "stream",
     "text": [
      "25063 DEBUG flwr 2023-03-23 11:19:14,546 | server.py:461 | Received enough responses from clients\n",
      "25063 DEBUG flwr 2023-03-23 11:19:14,549 | server.py:279 | fit_round 34 received 5 results and 0 failures\n"
     ]
    },
    {
     "name": "stdout",
     "output_type": "stream",
     "text": [
      "Client finshed: 55\n",
      "Client finshed: 34\n",
      "These clients sent updates: [('50', 1), ('31', 1), ('6', 1), ('55', 1), ('34', 1)]\n",
      "These clients failed: []\n"
     ]
    },
    {
     "name": "stderr",
     "output_type": "stream",
     "text": [
      "25063 INFO flwr 2023-03-23 11:19:19,363 | server.py:140 | fit progress: (34, 319.8576383590698, {'accuracy': 0.4547}, 312.4862325620006)\n",
      "25063 INFO flwr 2023-03-23 11:19:19,365 | server.py:190 | evaluate_round 34: no clients selected, cancel\n",
      "25063 DEBUG flwr 2023-03-23 11:19:19,371 | server.py:255 | fit_round 35: strategy sampled 5 clients (out of 100)\n",
      "25063 DEBUG flwr 2023-03-23 11:19:19,373 | server.py:435 | Sending instructions to clients\n"
     ]
    },
    {
     "name": "stdout",
     "output_type": "stream",
     "text": [
      "Working out which clients to instruct\n",
      "Want 5 more clients, minimum 5\n",
      "Selected clients = ['48', '35', '74', '25', '59']\n",
      "Client finshed: 36\n",
      "Client finshed: 45\n",
      "Client finshed: 70\n",
      "Client finshed: 29\n"
     ]
    },
    {
     "name": "stderr",
     "output_type": "stream",
     "text": [
      "25063 DEBUG flwr 2023-03-23 11:19:21,982 | server.py:461 | Received enough responses from clients\n",
      "25063 DEBUG flwr 2023-03-23 11:19:21,987 | server.py:279 | fit_round 35 received 5 results and 0 failures\n"
     ]
    },
    {
     "name": "stdout",
     "output_type": "stream",
     "text": [
      "Client finshed: 67\n",
      "These clients sent updates: [('36', 1), ('45', 1), ('70', 1), ('29', 1), ('67', 1)]\n",
      "These clients failed: []\n"
     ]
    },
    {
     "name": "stderr",
     "output_type": "stream",
     "text": [
      "25063 INFO flwr 2023-03-23 11:19:27,203 | server.py:140 | fit progress: (35, 324.4100797176361, {'accuracy': 0.4666}, 320.3259513940002)\n",
      "25063 INFO flwr 2023-03-23 11:19:27,204 | server.py:190 | evaluate_round 35: no clients selected, cancel\n",
      "25063 DEBUG flwr 2023-03-23 11:19:27,209 | server.py:255 | fit_round 36: strategy sampled 5 clients (out of 100)\n",
      "25063 DEBUG flwr 2023-03-23 11:19:27,210 | server.py:435 | Sending instructions to clients\n"
     ]
    },
    {
     "name": "stdout",
     "output_type": "stream",
     "text": [
      "Working out which clients to instruct\n",
      "Want 5 more clients, minimum 5\n",
      "Selected clients = ['52', '42', '60', '56', '63']\n",
      "Client finshed: 35\n",
      "Client finshed: 25\n",
      "Client finshed: 74\n",
      "Client finshed: 48\n"
     ]
    },
    {
     "name": "stderr",
     "output_type": "stream",
     "text": [
      "25063 DEBUG flwr 2023-03-23 11:19:31,833 | server.py:461 | Received enough responses from clients\n",
      "25063 DEBUG flwr 2023-03-23 11:19:31,836 | server.py:279 | fit_round 36 received 5 results and 0 failures\n"
     ]
    },
    {
     "name": "stdout",
     "output_type": "stream",
     "text": [
      "Client finshed: 59\n",
      "These clients sent updates: [('35', 1), ('25', 1), ('74', 1), ('48', 1), ('59', 1)]\n",
      "These clients failed: []\n"
     ]
    },
    {
     "name": "stderr",
     "output_type": "stream",
     "text": [
      "25063 INFO flwr 2023-03-23 11:19:36,555 | server.py:140 | fit progress: (36, 318.75727140903473, {'accuracy': 0.4595}, 329.6787504970007)\n",
      "25063 INFO flwr 2023-03-23 11:19:36,556 | server.py:190 | evaluate_round 36: no clients selected, cancel\n",
      "25063 DEBUG flwr 2023-03-23 11:19:36,561 | server.py:255 | fit_round 37: strategy sampled 5 clients (out of 100)\n",
      "25063 DEBUG flwr 2023-03-23 11:19:36,562 | server.py:435 | Sending instructions to clients\n"
     ]
    },
    {
     "name": "stdout",
     "output_type": "stream",
     "text": [
      "Working out which clients to instruct\n",
      "Want 5 more clients, minimum 5\n",
      "Selected clients = ['36', '53', '15', '10', '47']\n",
      "Client finshed: 63\n",
      "Client finshed: 52\n",
      "Client finshed: 42\n"
     ]
    },
    {
     "name": "stderr",
     "output_type": "stream",
     "text": [
      "25063 DEBUG flwr 2023-03-23 11:19:40,139 | server.py:461 | Received enough responses from clients\n",
      "25063 DEBUG flwr 2023-03-23 11:19:40,142 | server.py:279 | fit_round 37 received 5 results and 0 failures\n"
     ]
    },
    {
     "name": "stdout",
     "output_type": "stream",
     "text": [
      "Client finshed: 60\n",
      "Client finshed: 56\n",
      "These clients sent updates: [('63', 1), ('52', 1), ('42', 1), ('60', 1), ('56', 1)]\n",
      "These clients failed: []\n"
     ]
    },
    {
     "name": "stderr",
     "output_type": "stream",
     "text": [
      "25063 INFO flwr 2023-03-23 11:19:45,358 | server.py:140 | fit progress: (37, 358.8525000810623, {'accuracy': 0.3997}, 338.4811871490001)\n",
      "25063 INFO flwr 2023-03-23 11:19:45,359 | server.py:190 | evaluate_round 37: no clients selected, cancel\n",
      "25063 DEBUG flwr 2023-03-23 11:19:45,363 | server.py:255 | fit_round 38: strategy sampled 5 clients (out of 100)\n",
      "25063 DEBUG flwr 2023-03-23 11:19:45,364 | server.py:435 | Sending instructions to clients\n"
     ]
    },
    {
     "name": "stdout",
     "output_type": "stream",
     "text": [
      "Working out which clients to instruct\n",
      "Want 5 more clients, minimum 5\n",
      "Selected clients = ['92', '51', '5', '20', '71']\n",
      "Client finshed: 53\n",
      "Client finshed: 10\n",
      "Client finshed: 47\n",
      "Client finshed: 15\n"
     ]
    },
    {
     "name": "stderr",
     "output_type": "stream",
     "text": [
      "25063 DEBUG flwr 2023-03-23 11:19:49,766 | server.py:461 | Received enough responses from clients\n",
      "25063 DEBUG flwr 2023-03-23 11:19:49,768 | server.py:279 | fit_round 38 received 5 results and 0 failures\n"
     ]
    },
    {
     "name": "stdout",
     "output_type": "stream",
     "text": [
      "Client finshed: 36\n",
      "These clients sent updates: [('53', 1), ('10', 1), ('47', 1), ('15', 1), ('36', 1)]\n",
      "These clients failed: []\n"
     ]
    },
    {
     "name": "stderr",
     "output_type": "stream",
     "text": [
      "25063 INFO flwr 2023-03-23 11:19:54,386 | server.py:140 | fit progress: (38, 316.6709723472595, {'accuracy': 0.4701}, 347.5090501170007)\n",
      "25063 INFO flwr 2023-03-23 11:19:54,387 | server.py:190 | evaluate_round 38: no clients selected, cancel\n",
      "25063 DEBUG flwr 2023-03-23 11:19:54,391 | server.py:255 | fit_round 39: strategy sampled 5 clients (out of 100)\n",
      "25063 DEBUG flwr 2023-03-23 11:19:54,391 | server.py:435 | Sending instructions to clients\n"
     ]
    },
    {
     "name": "stdout",
     "output_type": "stream",
     "text": [
      "Working out which clients to instruct\n",
      "Want 5 more clients, minimum 5\n",
      "Selected clients = ['89', '54', '62', '0', '58']\n",
      "Client finshed: 92\n",
      "Client finshed: 5\n",
      "Client finshed: 51\n",
      "Client finshed: 20\n"
     ]
    },
    {
     "name": "stderr",
     "output_type": "stream",
     "text": [
      "25063 DEBUG flwr 2023-03-23 11:20:00,593 | server.py:461 | Received enough responses from clients\n",
      "25063 DEBUG flwr 2023-03-23 11:20:00,599 | server.py:279 | fit_round 39 received 5 results and 0 failures\n"
     ]
    },
    {
     "name": "stdout",
     "output_type": "stream",
     "text": [
      "Client finshed: 71\n",
      "These clients sent updates: [('92', 1), ('5', 1), ('51', 1), ('20', 1), ('71', 1)]\n",
      "These clients failed: []\n"
     ]
    },
    {
     "name": "stderr",
     "output_type": "stream",
     "text": [
      "25063 INFO flwr 2023-03-23 11:20:05,587 | server.py:140 | fit progress: (39, 317.66097605228424, {'accuracy': 0.4547}, 358.71041645700006)\n",
      "25063 INFO flwr 2023-03-23 11:20:05,588 | server.py:190 | evaluate_round 39: no clients selected, cancel\n",
      "25063 DEBUG flwr 2023-03-23 11:20:05,592 | server.py:255 | fit_round 40: strategy sampled 5 clients (out of 100)\n",
      "25063 DEBUG flwr 2023-03-23 11:20:05,593 | server.py:435 | Sending instructions to clients\n"
     ]
    },
    {
     "name": "stdout",
     "output_type": "stream",
     "text": [
      "Working out which clients to instruct\n",
      "Want 5 more clients, minimum 5\n",
      "Selected clients = ['68', '65', '70', '97', '82']\n",
      "Client finshed: 89\n",
      "Client finshed: 62\n",
      "Client finshed: 54\n"
     ]
    },
    {
     "name": "stderr",
     "output_type": "stream",
     "text": [
      "25063 DEBUG flwr 2023-03-23 11:20:09,893 | server.py:461 | Received enough responses from clients\n",
      "25063 DEBUG flwr 2023-03-23 11:20:09,894 | server.py:279 | fit_round 40 received 5 results and 0 failures\n"
     ]
    },
    {
     "name": "stdout",
     "output_type": "stream",
     "text": [
      "Client finshed: 0\n",
      "Client finshed: 58\n",
      "These clients sent updates: [('89', 1), ('62', 1), ('54', 1), ('0', 1), ('58', 1)]\n",
      "These clients failed: []\n"
     ]
    },
    {
     "name": "stderr",
     "output_type": "stream",
     "text": [
      "25063 INFO flwr 2023-03-23 11:20:13,924 | server.py:140 | fit progress: (40, 328.6238433122635, {'accuracy': 0.4398}, 367.04764854100085)\n",
      "25063 INFO flwr 2023-03-23 11:20:13,926 | server.py:190 | evaluate_round 40: no clients selected, cancel\n",
      "25063 INFO flwr 2023-03-23 11:20:16,162 | server.py:171 | FL finished in 369.284995125\n",
      "25063 INFO flwr 2023-03-23 11:20:16,163 | app.py:225 | app_fit: losses_distributed []\n",
      "25063 INFO flwr 2023-03-23 11:20:16,164 | app.py:226 | app_fit: metrics_distributed_fit {}\n",
      "25063 INFO flwr 2023-03-23 11:20:16,165 | app.py:227 | app_fit: metrics_distributed {}\n",
      "25063 INFO flwr 2023-03-23 11:20:16,166 | app.py:228 | app_fit: losses_centralized [(0, 460.8828179836273), (1, 455.4566400051117), (2, 443.8637080192566), (3, 413.461319565773), (4, 404.83228826522827), (5, 443.6168096065521), (6, 412.0217686891556), (7, 387.24271380901337), (8, 378.95860409736633), (9, 386.5117937326431), (10, 377.77522015571594), (11, 359.4510887861252), (12, 352.1459242105484), (13, 348.00287449359894), (14, 345.37492072582245), (15, 338.03660666942596), (16, 339.28282833099365), (17, 334.9741951227188), (18, 334.45239651203156), (19, 331.6554135084152), (20, 329.16163551807404), (21, 334.57441687583923), (22, 326.8337399959564), (23, 326.99032723903656), (24, 355.5809645652771), (25, 330.0847053527832), (26, 366.036013007164), (27, 324.217333316803), (28, 325.96419990062714), (29, 329.1912475824356), (30, 318.9368817806244), (31, 335.7359930276871), (32, 409.0148249864578), (33, 315.72434055805206), (34, 319.8576383590698), (35, 324.4100797176361), (36, 318.75727140903473), (37, 358.8525000810623), (38, 316.6709723472595), (39, 317.66097605228424), (40, 328.6238433122635)]\n",
      "25063 INFO flwr 2023-03-23 11:20:16,167 | app.py:229 | app_fit: metrics_centralized {'accuracy': [(0, 0.1), (1, 0.1133), (2, 0.1904), (3, 0.2355), (4, 0.2624), (5, 0.1721), (6, 0.2229), (7, 0.2916), (8, 0.3134), (9, 0.268), (10, 0.3159), (11, 0.3512), (12, 0.3592), (13, 0.3664), (14, 0.3731), (15, 0.3833), (16, 0.3939), (17, 0.4067), (18, 0.4044), (19, 0.4102), (20, 0.4152), (21, 0.4004), (22, 0.4159), (23, 0.4337), (24, 0.3834), (25, 0.4334), (26, 0.3354), (27, 0.429), (28, 0.433), (29, 0.4291), (30, 0.4431), (31, 0.4099), (32, 0.3197), (33, 0.451), (34, 0.4547), (35, 0.4666), (36, 0.4595), (37, 0.3997), (38, 0.4701), (39, 0.4547), (40, 0.4398)]}\n"
     ]
    },
    {
     "name": "stdout",
     "output_type": "stream",
     "text": [
      "Files already downloaded and verified\n",
      "Generating unified CIFAR dataset\n",
      "Class histogram for 0-th partition (alpha=10, 10 classes): [29 86 30 58 42 48 70 60 33 44]\n"
     ]
    },
    {
     "name": "stderr",
     "output_type": "stream",
     "text": [
      "25063 INFO flwr 2023-03-23 11:20:22,943 | app.py:146 | Starting Flower simulation, config: ServerConfig(num_rounds=40, round_timeout=None, asynchronous=True)\n",
      "2023-03-23 11:20:27,119\tINFO worker.py:1553 -- Started a local Ray instance.\n",
      "25063 INFO flwr 2023-03-23 11:20:28,066 | app.py:180 | Flower VCE: Ray initialized with resources: {'object_store_memory': 949651046.0, 'node:10.9.7.124': 1.0, 'memory': 1899302094.0, 'CPU': 8.0}\n",
      "25063 INFO flwr 2023-03-23 11:20:28,067 | server.py:95 | Initializing global parameters\n",
      "25063 INFO flwr 2023-03-23 11:20:28,068 | server.py:320 | Requesting initial parameters from one random client\n",
      "25063 INFO flwr 2023-03-23 11:20:29,476 | server.py:324 | Received initial parameters from one random client\n",
      "25063 INFO flwr 2023-03-23 11:20:29,477 | server.py:97 | Evaluating initial parameters\n",
      "25063 INFO flwr 2023-03-23 11:20:32,390 | server.py:100 | initial parameters (loss, other metrics): 460.9094285964966, {'accuracy': 0.0999}\n",
      "25063 INFO flwr 2023-03-23 11:20:32,391 | server.py:110 | FL starting\n",
      "25063 DEBUG flwr 2023-03-23 11:20:32,395 | server.py:255 | fit_round 1: strategy sampled 20 clients (out of 100)\n",
      "25063 DEBUG flwr 2023-03-23 11:20:32,396 | server.py:435 | Sending instructions to clients\n"
     ]
    },
    {
     "name": "stdout",
     "output_type": "stream",
     "text": [
      "Working out which clients to instruct\n",
      "Want 20 more clients, minimum 20\n",
      "Selected clients = ['65', '39', '85', '43', '11', '24', '63', '19', '82', '30', '88', '4', '90', '93', '0', '21', '28', '67', '68', '79']\n",
      "Client finshed: 43\n",
      "Client finshed: 85\n",
      "Client finshed: 11\n",
      "Client finshed: 39\n"
     ]
    },
    {
     "name": "stderr",
     "output_type": "stream",
     "text": [
      "25063 DEBUG flwr 2023-03-23 11:20:40,647 | server.py:461 | Received enough responses from clients\n",
      "25063 DEBUG flwr 2023-03-23 11:20:40,651 | server.py:279 | fit_round 1 received 5 results and 0 failures\n",
      "25063 WARNING flwr 2023-03-23 11:20:40,754 | fedbuff.py:257 | No fit_metrics_aggregation_fn provided\n"
     ]
    },
    {
     "name": "stdout",
     "output_type": "stream",
     "text": [
      "Client finshed: 65\n",
      "These clients sent updates: [('43', 0), ('85', 0), ('11', 0), ('39', 0), ('65', 0)]\n",
      "These clients failed: []\n"
     ]
    },
    {
     "name": "stderr",
     "output_type": "stream",
     "text": [
      "25063 DEBUG flwr 2023-03-23 11:20:42,605 | ray_client_proxy.py:87 | Task was killed due to the node running low on memory.\n",
      "Memory on the node (IP: 10.9.7.124, ID: ea2b13587c2e9d625b361e52dc5f78b8a73caf22d99d8e18efd742df) where the task (task ID: 47ddd1734a8e093e395efdf5af2a43ba297895d301000000, name=launch_and_fit, pid=570952, memory used=0.03GB) was running was 7.29GB / 7.65GB (0.952835), which exceeds the memory usage threshold of 0.95. Ray killed this worker (ID: daddaa4d9bb2bc1253108273187a312e86a462f3909e45f264fbabe1) because it was the most recently scheduled task; to see more information about memory usage on this node, use `ray logs raylet.out -ip 10.9.7.124`. To see the logs of the worker, use `ray logs worker-daddaa4d9bb2bc1253108273187a312e86a462f3909e45f264fbabe1*out -ip 10.9.7.124. Top 10 memory users:\n",
      "PID\tMEM(GB)\tCOMMAND\n",
      "1868\t0.60\t/usr/lib/electron19/electron /usr/lib/code/out/bootstrap-fork --type=fileWatcher\n",
      "25063\t0.57\t/home/wash/LARGE/Work/L361_project/flower_fedbuff_project/venv/bin/python -m ipykernel_launcher --ip...\n",
      "1831\t0.36\t/usr/lib/electron19/electron --inspect-port=0 /usr/lib/code/out/bootstrap-fork --type=extensionHost ...\n",
      "1793\t0.34\t/usr/lib/electron19/electron --type=renderer --enable-crashpad --crashpad-handler-pid=1740 --enable-...\n",
      "457644\t0.33\t/usr/lib/firefox/firefox\n",
      "569449\t0.21\tray::IDLE\n",
      "458911\t0.20\t/usr/lib/firefox/firefox -contentproc -childID 9 -isForBrowser -prefsLen 30823 -prefMapSize 248609 -...\n",
      "569447\t0.20\tray::IDLE\n",
      "569441\t0.20\tray::IDLE\n",
      "569442\t0.20\tray::IDLE\n",
      "Refer to the documentation on how to address the out of memory issue: https://docs.ray.io/en/latest/ray-core/scheduling/ray-oom-prevention.html. Consider provisioning more memory on this node or reducing task parallelism by requesting more CPUs per task. To adjust the kill threshold, set the environment variable `RAY_memory_usage_threshold` when starting Ray. To disable worker killing, set the environment variable `RAY_memory_monitor_refresh_ms` to zero.\n",
      "25063 DEBUG flwr 2023-03-23 11:20:43,199 | ray_client_proxy.py:87 | Task was killed due to the node running low on memory.\n",
      "Memory on the node (IP: 10.9.7.124, ID: ea2b13587c2e9d625b361e52dc5f78b8a73caf22d99d8e18efd742df) where the task (task ID: 1ea8252099eaf366897a5fe862aacd16d6b81d5f01000000, name=launch_and_fit, pid=570959, memory used=0.05GB) was running was 7.33GB / 7.65GB (0.957838), which exceeds the memory usage threshold of 0.95. Ray killed this worker (ID: 006496490ca4b914e4a49117b65945cd499bcfae007724be3e43e72d) because it was the most recently scheduled task; to see more information about memory usage on this node, use `ray logs raylet.out -ip 10.9.7.124`. To see the logs of the worker, use `ray logs worker-006496490ca4b914e4a49117b65945cd499bcfae007724be3e43e72d*out -ip 10.9.7.124. Top 10 memory users:\n",
      "PID\tMEM(GB)\tCOMMAND\n",
      "1868\t0.60\t/usr/lib/electron19/electron /usr/lib/code/out/bootstrap-fork --type=fileWatcher\n",
      "25063\t0.57\t/home/wash/LARGE/Work/L361_project/flower_fedbuff_project/venv/bin/python -m ipykernel_launcher --ip...\n",
      "1968\t0.43\t/usr/lib/electron19/electron /home/wash/.vscode-oss/extensions/streetsidesoftware.code-spell-checker...\n",
      "1831\t0.40\t/usr/lib/electron19/electron --inspect-port=0 /usr/lib/code/out/bootstrap-fork --type=extensionHost ...\n",
      "1793\t0.38\t/usr/lib/electron19/electron --type=renderer --enable-crashpad --crashpad-handler-pid=1740 --enable-...\n",
      "457644\t0.33\t/usr/lib/firefox/firefox\n",
      "569449\t0.21\tray::IDLE\n",
      "569447\t0.20\tray::IDLE\n",
      "458911\t0.20\t/usr/lib/firefox/firefox -contentproc -childID 9 -isForBrowser -prefsLen 30823 -prefMapSize 248609 -...\n",
      "569441\t0.20\tray::IDLE\n",
      "Refer to the documentation on how to address the out of memory issue: https://docs.ray.io/en/latest/ray-core/scheduling/ray-oom-prevention.html. Consider provisioning more memory on this node or reducing task parallelism by requesting more CPUs per task. To adjust the kill threshold, set the environment variable `RAY_memory_usage_threshold` when starting Ray. To disable worker killing, set the environment variable `RAY_memory_monitor_refresh_ms` to zero.\n",
      "25063 DEBUG flwr 2023-03-23 11:20:43,780 | ray_client_proxy.py:87 | Task was killed due to the node running low on memory.\n",
      "Memory on the node (IP: 10.9.7.124, ID: ea2b13587c2e9d625b361e52dc5f78b8a73caf22d99d8e18efd742df) where the task (task ID: af3b9606cb32a768f6949d1e4933c585ed4c518c01000000, name=launch_and_fit, pid=570962, memory used=0.05GB) was running was 7.37GB / 7.65GB (0.962977), which exceeds the memory usage threshold of 0.95. Ray killed this worker (ID: c033979163506d0b08dc809c4c5af6abead0be21ea7790952c76424c) because it was the most recently scheduled task; to see more information about memory usage on this node, use `ray logs raylet.out -ip 10.9.7.124`. To see the logs of the worker, use `ray logs worker-c033979163506d0b08dc809c4c5af6abead0be21ea7790952c76424c*out -ip 10.9.7.124. Top 10 memory users:\n",
      "PID\tMEM(GB)\tCOMMAND\n",
      "1868\t0.60\t/usr/lib/electron19/electron /usr/lib/code/out/bootstrap-fork --type=fileWatcher\n",
      "25063\t0.57\t/home/wash/LARGE/Work/L361_project/flower_fedbuff_project/venv/bin/python -m ipykernel_launcher --ip...\n",
      "1968\t0.44\t/usr/lib/electron19/electron /home/wash/.vscode-oss/extensions/streetsidesoftware.code-spell-checker...\n",
      "1831\t0.41\t/usr/lib/electron19/electron --inspect-port=0 /usr/lib/code/out/bootstrap-fork --type=extensionHost ...\n",
      "1793\t0.36\t/usr/lib/electron19/electron --type=renderer --enable-crashpad --crashpad-handler-pid=1740 --enable-...\n",
      "457644\t0.33\t/usr/lib/firefox/firefox\n",
      "569449\t0.21\tray::IDLE\n",
      "569447\t0.20\tray::IDLE\n",
      "458911\t0.20\t/usr/lib/firefox/firefox -contentproc -childID 9 -isForBrowser -prefsLen 30823 -prefMapSize 248609 -...\n",
      "569441\t0.20\tray::IDLE\n",
      "Refer to the documentation on how to address the out of memory issue: https://docs.ray.io/en/latest/ray-core/scheduling/ray-oom-prevention.html. Consider provisioning more memory on this node or reducing task parallelism by requesting more CPUs per task. To adjust the kill threshold, set the environment variable `RAY_memory_usage_threshold` when starting Ray. To disable worker killing, set the environment variable `RAY_memory_monitor_refresh_ms` to zero.\n",
      "25063 DEBUG flwr 2023-03-23 11:20:44,277 | ray_client_proxy.py:87 | Task was killed due to the node running low on memory.\n",
      "Memory on the node (IP: 10.9.7.124, ID: ea2b13587c2e9d625b361e52dc5f78b8a73caf22d99d8e18efd742df) where the task (task ID: 40033e424c55afd00a435f48a7de2ffbcd99c70c01000000, name=launch_and_fit, pid=571195, memory used=0.05GB) was running was 7.37GB / 7.65GB (0.963936), which exceeds the memory usage threshold of 0.95. Ray killed this worker (ID: 4cee7b9398ac5c8411efa785cdb71f0470e30d9fe310ba17eeb84bc9) because it was the most recently scheduled task; to see more information about memory usage on this node, use `ray logs raylet.out -ip 10.9.7.124`. To see the logs of the worker, use `ray logs worker-4cee7b9398ac5c8411efa785cdb71f0470e30d9fe310ba17eeb84bc9*out -ip 10.9.7.124. Top 10 memory users:\n",
      "PID\tMEM(GB)\tCOMMAND\n",
      "1868\t0.60\t/usr/lib/electron19/electron /usr/lib/code/out/bootstrap-fork --type=fileWatcher\n",
      "25063\t0.57\t/home/wash/LARGE/Work/L361_project/flower_fedbuff_project/venv/bin/python -m ipykernel_launcher --ip...\n",
      "1968\t0.44\t/usr/lib/electron19/electron /home/wash/.vscode-oss/extensions/streetsidesoftware.code-spell-checker...\n",
      "1831\t0.41\t/usr/lib/electron19/electron --inspect-port=0 /usr/lib/code/out/bootstrap-fork --type=extensionHost ...\n",
      "1793\t0.38\t/usr/lib/electron19/electron --type=renderer --enable-crashpad --crashpad-handler-pid=1740 --enable-...\n",
      "457644\t0.33\t/usr/lib/firefox/firefox\n",
      "569449\t0.21\tray::IDLE\n",
      "569447\t0.20\tray::IDLE\n",
      "458911\t0.20\t/usr/lib/firefox/firefox -contentproc -childID 9 -isForBrowser -prefsLen 30823 -prefMapSize 248609 -...\n",
      "569441\t0.20\tray::IDLE\n",
      "Refer to the documentation on how to address the out of memory issue: https://docs.ray.io/en/latest/ray-core/scheduling/ray-oom-prevention.html. Consider provisioning more memory on this node or reducing task parallelism by requesting more CPUs per task. To adjust the kill threshold, set the environment variable `RAY_memory_usage_threshold` when starting Ray. To disable worker killing, set the environment variable `RAY_memory_monitor_refresh_ms` to zero.\n",
      "25063 DEBUG flwr 2023-03-23 11:20:44,827 | ray_client_proxy.py:87 | Task was killed due to the node running low on memory.\n",
      "Memory on the node (IP: 10.9.7.124, ID: ea2b13587c2e9d625b361e52dc5f78b8a73caf22d99d8e18efd742df) where the task (task ID: 12d11ac0de8a1d8e2deebf9c653bbc43e647d85b01000000, name=launch_and_fit, pid=571254, memory used=0.05GB) was running was 7.34GB / 7.65GB (0.959276), which exceeds the memory usage threshold of 0.95. Ray killed this worker (ID: e8190f726cc099c660121a8d5bb8cb36932ef93552e5f68a200e29ec) because it was the most recently scheduled task; to see more information about memory usage on this node, use `ray logs raylet.out -ip 10.9.7.124`. To see the logs of the worker, use `ray logs worker-e8190f726cc099c660121a8d5bb8cb36932ef93552e5f68a200e29ec*out -ip 10.9.7.124. Top 10 memory users:\n",
      "PID\tMEM(GB)\tCOMMAND\n",
      "1868\t0.60\t/usr/lib/electron19/electron /usr/lib/code/out/bootstrap-fork --type=fileWatcher\n",
      "25063\t0.57\t/home/wash/LARGE/Work/L361_project/flower_fedbuff_project/venv/bin/python -m ipykernel_launcher --ip...\n",
      "1968\t0.44\t/usr/lib/electron19/electron /home/wash/.vscode-oss/extensions/streetsidesoftware.code-spell-checker...\n",
      "1831\t0.41\t/usr/lib/electron19/electron --inspect-port=0 /usr/lib/code/out/bootstrap-fork --type=extensionHost ...\n",
      "1793\t0.39\t/usr/lib/electron19/electron --type=renderer --enable-crashpad --crashpad-handler-pid=1740 --enable-...\n",
      "457644\t0.33\t/usr/lib/firefox/firefox\n",
      "569449\t0.21\tray::IDLE\n",
      "569447\t0.20\tray::IDLE\n",
      "458911\t0.20\t/usr/lib/firefox/firefox -contentproc -childID 9 -isForBrowser -prefsLen 30823 -prefMapSize 248609 -...\n",
      "569441\t0.20\tray::IDLE\n",
      "Refer to the documentation on how to address the out of memory issue: https://docs.ray.io/en/latest/ray-core/scheduling/ray-oom-prevention.html. Consider provisioning more memory on this node or reducing task parallelism by requesting more CPUs per task. To adjust the kill threshold, set the environment variable `RAY_memory_usage_threshold` when starting Ray. To disable worker killing, set the environment variable `RAY_memory_monitor_refresh_ms` to zero.\n",
      "25063 DEBUG flwr 2023-03-23 11:20:45,400 | ray_client_proxy.py:87 | Task was killed due to the node running low on memory.\n",
      "Memory on the node (IP: 10.9.7.124, ID: ea2b13587c2e9d625b361e52dc5f78b8a73caf22d99d8e18efd742df) where the task (task ID: 1d438aa4f48faa1a5d66bc79eecaaa5c7c443d5b01000000, name=launch_and_fit, pid=571257, memory used=0.05GB) was running was 7.37GB / 7.65GB (0.964086), which exceeds the memory usage threshold of 0.95. Ray killed this worker (ID: 72fbb89ca06113e757195c3717a3a6a4e92877f4ed400fec5f416754) because it was the most recently scheduled task; to see more information about memory usage on this node, use `ray logs raylet.out -ip 10.9.7.124`. To see the logs of the worker, use `ray logs worker-72fbb89ca06113e757195c3717a3a6a4e92877f4ed400fec5f416754*out -ip 10.9.7.124. Top 10 memory users:\n",
      "PID\tMEM(GB)\tCOMMAND\n",
      "1868\t0.60\t/usr/lib/electron19/electron /usr/lib/code/out/bootstrap-fork --type=fileWatcher\n",
      "25063\t0.57\t/home/wash/LARGE/Work/L361_project/flower_fedbuff_project/venv/bin/python -m ipykernel_launcher --ip...\n",
      "1968\t0.44\t/usr/lib/electron19/electron /home/wash/.vscode-oss/extensions/streetsidesoftware.code-spell-checker...\n",
      "1831\t0.41\t/usr/lib/electron19/electron --inspect-port=0 /usr/lib/code/out/bootstrap-fork --type=extensionHost ...\n",
      "1793\t0.38\t/usr/lib/electron19/electron --type=renderer --enable-crashpad --crashpad-handler-pid=1740 --enable-...\n",
      "457644\t0.32\t/usr/lib/firefox/firefox\n",
      "569449\t0.21\tray::IDLE\n",
      "569447\t0.20\tray::IDLE\n",
      "458911\t0.20\t/usr/lib/firefox/firefox -contentproc -childID 9 -isForBrowser -prefsLen 30823 -prefMapSize 248609 -...\n",
      "569441\t0.20\tray::IDLE\n",
      "Refer to the documentation on how to address the out of memory issue: https://docs.ray.io/en/latest/ray-core/scheduling/ray-oom-prevention.html. Consider provisioning more memory on this node or reducing task parallelism by requesting more CPUs per task. To adjust the kill threshold, set the environment variable `RAY_memory_usage_threshold` when starting Ray. To disable worker killing, set the environment variable `RAY_memory_monitor_refresh_ms` to zero.\n",
      "25063 DEBUG flwr 2023-03-23 11:20:46,086 | ray_client_proxy.py:87 | Task was killed due to the node running low on memory.\n",
      "Memory on the node (IP: 10.9.7.124, ID: ea2b13587c2e9d625b361e52dc5f78b8a73caf22d99d8e18efd742df) where the task (task ID: 3444ae355feb920bf04a96207f558eb39e7db64901000000, name=launch_and_fit, pid=571311, memory used=0.05GB) was running was 7.38GB / 7.65GB (0.964464), which exceeds the memory usage threshold of 0.95. Ray killed this worker (ID: 64f46d4d26308bceaa1c6902f2a4014ce2982fbbb8f1ae1ad69f3e15) because it was the most recently scheduled task; to see more information about memory usage on this node, use `ray logs raylet.out -ip 10.9.7.124`. To see the logs of the worker, use `ray logs worker-64f46d4d26308bceaa1c6902f2a4014ce2982fbbb8f1ae1ad69f3e15*out -ip 10.9.7.124. Top 10 memory users:\n",
      "PID\tMEM(GB)\tCOMMAND\n",
      "1868\t0.60\t/usr/lib/electron19/electron /usr/lib/code/out/bootstrap-fork --type=fileWatcher\n",
      "25063\t0.57\t/home/wash/LARGE/Work/L361_project/flower_fedbuff_project/venv/bin/python -m ipykernel_launcher --ip...\n",
      "1968\t0.45\t/usr/lib/electron19/electron /home/wash/.vscode-oss/extensions/streetsidesoftware.code-spell-checker...\n",
      "1831\t0.41\t/usr/lib/electron19/electron --inspect-port=0 /usr/lib/code/out/bootstrap-fork --type=extensionHost ...\n",
      "457644\t0.32\t/usr/lib/firefox/firefox\n",
      "1793\t0.25\t/usr/lib/electron19/electron --type=renderer --enable-crashpad --crashpad-handler-pid=1740 --enable-...\n",
      "569449\t0.20\t\n",
      "458911\t0.20\t/usr/lib/firefox/firefox -contentproc -childID 9 -isForBrowser -prefsLen 30823 -prefMapSize 248609 -...\n",
      "569441\t0.20\t\n",
      "569442\t0.20\t\n",
      "Refer to the documentation on how to address the out of memory issue: https://docs.ray.io/en/latest/ray-core/scheduling/ray-oom-prevention.html. Consider provisioning more memory on this node or reducing task parallelism by requesting more CPUs per task. To adjust the kill threshold, set the environment variable `RAY_memory_usage_threshold` when starting Ray. To disable worker killing, set the environment variable `RAY_memory_monitor_refresh_ms` to zero.\n",
      "25063 INFO flwr 2023-03-23 11:20:48,301 | server.py:140 | fit progress: (1, 460.43916392326355, {'accuracy': 0.1338}, 15.908907828999872)\n",
      "25063 INFO flwr 2023-03-23 11:20:48,302 | server.py:190 | evaluate_round 1: no clients selected, cancel\n",
      "25063 DEBUG flwr 2023-03-23 11:20:48,307 | server.py:255 | fit_round 2: strategy sampled 5 clients (out of 100)\n",
      "25063 DEBUG flwr 2023-03-23 11:20:48,308 | server.py:435 | Sending instructions to clients\n"
     ]
    },
    {
     "name": "stdout",
     "output_type": "stream",
     "text": [
      "Working out which clients to instruct\n",
      "Want 5 more clients, minimum 5\n",
      "Selected clients = ['17', '3', '13', '76', '78']\n",
      "Client finshed: 24\n",
      "Client finshed: 68\n",
      "Client finshed: 0\n",
      "Client finshed: 28\n",
      "Client finshed: 19\n",
      "Client finshed: 21\n",
      "Client finshed: 93\n",
      "Client finshed: 67\n",
      "Client finshed: 90\n",
      "Client finshed: 63\n"
     ]
    },
    {
     "name": "stderr",
     "output_type": "stream",
     "text": [
      "25063 DEBUG flwr 2023-03-23 11:20:54,477 | server.py:461 | Received enough responses from clients\n",
      "25063 DEBUG flwr 2023-03-23 11:20:54,478 | server.py:279 | fit_round 2 received 5 results and 7 failures\n"
     ]
    },
    {
     "name": "stdout",
     "output_type": "stream",
     "text": [
      "Client finshed: 88\n",
      "Client finshed: 79\n",
      "These clients sent updates: [('24', 1), ('19', 1), ('63', 1), ('88', 1), ('79', 1)]\n",
      "These clients failed: ['68', '0', '28', '21', '93', '67', '90']\n"
     ]
    },
    {
     "name": "stderr",
     "output_type": "stream",
     "text": [
      "25063 DEBUG flwr 2023-03-23 11:20:56,061 | ray_client_proxy.py:87 | Task was killed due to the node running low on memory.\n",
      "Memory on the node (IP: 10.9.7.124, ID: ea2b13587c2e9d625b361e52dc5f78b8a73caf22d99d8e18efd742df) where the task (task ID: cc753d8588a8f748dafe693d0d2e946274db35c701000000, name=launch_and_fit, pid=572416, memory used=0.05GB) was running was 7.31GB / 7.65GB (0.955362), which exceeds the memory usage threshold of 0.95. Ray killed this worker (ID: 8e2828fcf47c83f4fc8ad837d5b0be5364b574928cc4c68dcede8249) because it was the most recently scheduled task; to see more information about memory usage on this node, use `ray logs raylet.out -ip 10.9.7.124`. To see the logs of the worker, use `ray logs worker-8e2828fcf47c83f4fc8ad837d5b0be5364b574928cc4c68dcede8249*out -ip 10.9.7.124. Top 10 memory users:\n",
      "PID\tMEM(GB)\tCOMMAND\n",
      "1868\t0.60\t/usr/lib/electron19/electron /usr/lib/code/out/bootstrap-fork --type=fileWatcher\n",
      "25063\t0.57\t/home/wash/LARGE/Work/L361_project/flower_fedbuff_project/venv/bin/python -m ipykernel_launcher --ip...\n",
      "1831\t0.53\t/usr/lib/electron19/electron --inspect-port=0 /usr/lib/code/out/bootstrap-fork --type=extensionHost ...\n",
      "1968\t0.47\t/usr/lib/electron19/electron /home/wash/.vscode-oss/extensions/streetsidesoftware.code-spell-checker...\n",
      "1793\t0.38\t/usr/lib/electron19/electron --type=renderer --enable-crashpad --crashpad-handler-pid=1740 --enable-...\n",
      "457644\t0.32\t/usr/lib/firefox/firefox\n",
      "458911\t0.21\t/usr/lib/firefox/firefox -contentproc -childID 9 -isForBrowser -prefsLen 30823 -prefMapSize 248609 -...\n",
      "570951\t0.20\tray::IDLE\n",
      "571358\t0.20\tray::IDLE\n",
      "570908\t0.20\tray::IDLE\n",
      "Refer to the documentation on how to address the out of memory issue: https://docs.ray.io/en/latest/ray-core/scheduling/ray-oom-prevention.html. Consider provisioning more memory on this node or reducing task parallelism by requesting more CPUs per task. To adjust the kill threshold, set the environment variable `RAY_memory_usage_threshold` when starting Ray. To disable worker killing, set the environment variable `RAY_memory_monitor_refresh_ms` to zero.\n",
      "25063 DEBUG flwr 2023-03-23 11:20:56,761 | ray_client_proxy.py:87 | Task was killed due to the node running low on memory.\n",
      "Memory on the node (IP: 10.9.7.124, ID: ea2b13587c2e9d625b361e52dc5f78b8a73caf22d99d8e18efd742df) where the task (task ID: 6e33cfdf4223ac191079e6566e04b3bee0aed11e01000000, name=launch_and_fit, pid=572421, memory used=0.05GB) was running was 7.28GB / 7.65GB (0.952307), which exceeds the memory usage threshold of 0.95. Ray killed this worker (ID: 5b71431b4088661c0ca6fb1a51aa5118fec9bce72e9c5d19342a6fbf) because it was the most recently scheduled task; to see more information about memory usage on this node, use `ray logs raylet.out -ip 10.9.7.124`. To see the logs of the worker, use `ray logs worker-5b71431b4088661c0ca6fb1a51aa5118fec9bce72e9c5d19342a6fbf*out -ip 10.9.7.124. Top 10 memory users:\n",
      "PID\tMEM(GB)\tCOMMAND\n",
      "1868\t0.60\t/usr/lib/electron19/electron /usr/lib/code/out/bootstrap-fork --type=fileWatcher\n",
      "25063\t0.57\t/home/wash/LARGE/Work/L361_project/flower_fedbuff_project/venv/bin/python -m ipykernel_launcher --ip...\n",
      "1831\t0.53\t/usr/lib/electron19/electron --inspect-port=0 /usr/lib/code/out/bootstrap-fork --type=extensionHost ...\n",
      "1968\t0.45\t/usr/lib/electron19/electron /home/wash/.vscode-oss/extensions/streetsidesoftware.code-spell-checker...\n",
      "1793\t0.40\t/usr/lib/electron19/electron --type=renderer --enable-crashpad --crashpad-handler-pid=1740 --enable-...\n",
      "457644\t0.32\t/usr/lib/firefox/firefox\n",
      "458911\t0.21\t/usr/lib/firefox/firefox -contentproc -childID 9 -isForBrowser -prefsLen 30823 -prefMapSize 248609 -...\n",
      "570907\t0.20\tray::IDLE\n",
      "571358\t0.20\tray::IDLE\n",
      "570908\t0.20\tray::IDLE\n",
      "Refer to the documentation on how to address the out of memory issue: https://docs.ray.io/en/latest/ray-core/scheduling/ray-oom-prevention.html. Consider provisioning more memory on this node or reducing task parallelism by requesting more CPUs per task. To adjust the kill threshold, set the environment variable `RAY_memory_usage_threshold` when starting Ray. To disable worker killing, set the environment variable `RAY_memory_monitor_refresh_ms` to zero.\n",
      "25063 DEBUG flwr 2023-03-23 11:20:57,244 | ray_client_proxy.py:87 | Task was killed due to the node running low on memory.\n",
      "Memory on the node (IP: 10.9.7.124, ID: ea2b13587c2e9d625b361e52dc5f78b8a73caf22d99d8e18efd742df) where the task (task ID: 45f5f61ffe06e64cf0234a07c80ec2df8d0a40f601000000, name=launch_and_fit, pid=571537, memory used=0.00GB) was running was 7.31GB / 7.65GB (0.955505), which exceeds the memory usage threshold of 0.95. Ray killed this worker (ID: 43bbe2d640a2e86da327ac6c4cc1d5b2068ef8d2a9c1b530e5be3481) because it was the most recently scheduled task; to see more information about memory usage on this node, use `ray logs raylet.out -ip 10.9.7.124`. To see the logs of the worker, use `ray logs worker-43bbe2d640a2e86da327ac6c4cc1d5b2068ef8d2a9c1b530e5be3481*out -ip 10.9.7.124. Top 10 memory users:\n",
      "PID\tMEM(GB)\tCOMMAND\n",
      "1868\t0.60\t/usr/lib/electron19/electron /usr/lib/code/out/bootstrap-fork --type=fileWatcher\n",
      "1831\t0.57\t/usr/lib/electron19/electron --inspect-port=0 /usr/lib/code/out/bootstrap-fork --type=extensionHost ...\n",
      "25063\t0.57\t/home/wash/LARGE/Work/L361_project/flower_fedbuff_project/venv/bin/python -m ipykernel_launcher --ip...\n",
      "1968\t0.49\t/usr/lib/electron19/electron /home/wash/.vscode-oss/extensions/streetsidesoftware.code-spell-checker...\n",
      "1793\t0.40\t/usr/lib/electron19/electron --type=renderer --enable-crashpad --crashpad-handler-pid=1740 --enable-...\n",
      "457644\t0.32\t/usr/lib/firefox/firefox\n",
      "458911\t0.21\t/usr/lib/firefox/firefox -contentproc -childID 9 -isForBrowser -prefsLen 30823 -prefMapSize 248609 -...\n",
      "570907\t0.20\tray::IDLE\n",
      "571358\t0.20\tray::IDLE\n",
      "570908\t0.20\tray::IDLE\n",
      "Refer to the documentation on how to address the out of memory issue: https://docs.ray.io/en/latest/ray-core/scheduling/ray-oom-prevention.html. Consider provisioning more memory on this node or reducing task parallelism by requesting more CPUs per task. To adjust the kill threshold, set the environment variable `RAY_memory_usage_threshold` when starting Ray. To disable worker killing, set the environment variable `RAY_memory_monitor_refresh_ms` to zero.\n",
      "25063 INFO flwr 2023-03-23 11:20:59,325 | server.py:140 | fit progress: (2, 457.5443844795227, {'accuracy': 0.1009}, 26.933250414999748)\n",
      "25063 INFO flwr 2023-03-23 11:20:59,326 | server.py:190 | evaluate_round 2: no clients selected, cancel\n",
      "25063 DEBUG flwr 2023-03-23 11:20:59,330 | server.py:255 | fit_round 3: strategy sampled 12 clients (out of 100)\n",
      "25063 DEBUG flwr 2023-03-23 11:20:59,331 | server.py:435 | Sending instructions to clients\n"
     ]
    },
    {
     "name": "stdout",
     "output_type": "stream",
     "text": [
      "Working out which clients to instruct\n",
      "Want 12 more clients, minimum 12\n",
      "Selected clients = ['12', '59', '67', '54', '55', '51', '81', '63', '31', '1', '49', '89']\n",
      "Client finshed: 30\n",
      "Client finshed: 13\n",
      "Client finshed: 76\n",
      "Client finshed: 78\n",
      "Client finshed: 4\n",
      "Client finshed: 3\n",
      "Client finshed: 82\n"
     ]
    },
    {
     "name": "stderr",
     "output_type": "stream",
     "text": [
      "25063 DEBUG flwr 2023-03-23 11:21:00,532 | ray_client_proxy.py:87 | Task was killed due to the node running low on memory.\n",
      "Memory on the node (IP: 10.9.7.124, ID: ea2b13587c2e9d625b361e52dc5f78b8a73caf22d99d8e18efd742df) where the task (task ID: 83d057a8ebf3d78b155057d8ac1ad120eafdf49901000000, name=launch_and_fit, pid=571535, memory used=0.03GB) was running was 7.29GB / 7.65GB (0.953454), which exceeds the memory usage threshold of 0.95. Ray killed this worker (ID: c0c3e5252fb0c0cb864850b7a5a58472551cb020df2c47c9e8ed14a2) because it was the most recently scheduled task; to see more information about memory usage on this node, use `ray logs raylet.out -ip 10.9.7.124`. To see the logs of the worker, use `ray logs worker-c0c3e5252fb0c0cb864850b7a5a58472551cb020df2c47c9e8ed14a2*out -ip 10.9.7.124. Top 10 memory users:\n",
      "PID\tMEM(GB)\tCOMMAND\n",
      "1868\t0.60\t/usr/lib/electron19/electron /usr/lib/code/out/bootstrap-fork --type=fileWatcher\n",
      "25063\t0.57\t/home/wash/LARGE/Work/L361_project/flower_fedbuff_project/venv/bin/python -m ipykernel_launcher --ip...\n",
      "1831\t0.53\t/usr/lib/electron19/electron --inspect-port=0 /usr/lib/code/out/bootstrap-fork --type=extensionHost ...\n",
      "1968\t0.47\t/usr/lib/electron19/electron /home/wash/.vscode-oss/extensions/streetsidesoftware.code-spell-checker...\n",
      "1793\t0.38\t/usr/lib/electron19/electron --type=renderer --enable-crashpad --crashpad-handler-pid=1740 --enable-...\n",
      "457644\t0.32\t/usr/lib/firefox/firefox\n",
      "458911\t0.21\t/usr/lib/firefox/firefox -contentproc -childID 9 -isForBrowser -prefsLen 30823 -prefMapSize 248609 -...\n",
      "570951\t0.20\tray::IDLE\n",
      "571358\t0.20\tray::IDLE\n",
      "570908\t0.20\tray::IDLE\n",
      "Refer to the documentation on how to address the out of memory issue: https://docs.ray.io/en/latest/ray-core/scheduling/ray-oom-prevention.html. Consider provisioning more memory on this node or reducing task parallelism by requesting more CPUs per task. To adjust the kill threshold, set the environment variable `RAY_memory_usage_threshold` when starting Ray. To disable worker killing, set the environment variable `RAY_memory_monitor_refresh_ms` to zero.\n"
     ]
    },
    {
     "name": "stdout",
     "output_type": "stream",
     "text": [
      "Client finshed: 17\n"
     ]
    },
    {
     "name": "stderr",
     "output_type": "stream",
     "text": [
      "25063 DEBUG flwr 2023-03-23 11:21:08,687 | server.py:461 | Received enough responses from clients\n",
      "25063 DEBUG flwr 2023-03-23 11:21:08,689 | server.py:279 | fit_round 3 received 5 results and 4 failures\n"
     ]
    },
    {
     "name": "stdout",
     "output_type": "stream",
     "text": [
      "Client finshed: 51\n",
      "These clients sent updates: [('30', 2), ('4', 2), ('3', 1), ('82', 2), ('51', 0)]\n",
      "These clients failed: ['13', '76', '78', '17']\n"
     ]
    },
    {
     "name": "stderr",
     "output_type": "stream",
     "text": [
      "25063 DEBUG flwr 2023-03-23 11:21:11,824 | ray_client_proxy.py:87 | Task was killed due to the node running low on memory.\n",
      "Memory on the node (IP: 10.9.7.124, ID: ea2b13587c2e9d625b361e52dc5f78b8a73caf22d99d8e18efd742df) where the task (task ID: 5c3bae203d6de3b4bb156df9381277ae898b182f01000000, name=launch_and_fit, pid=574294, memory used=0.06GB) was running was 7.33GB / 7.65GB (0.957945), which exceeds the memory usage threshold of 0.95. Ray killed this worker (ID: 6476efc2422ccdf09e2a75f84754f3d460c923895b7453b673f7c0da) because it was the most recently scheduled task; to see more information about memory usage on this node, use `ray logs raylet.out -ip 10.9.7.124`. To see the logs of the worker, use `ray logs worker-6476efc2422ccdf09e2a75f84754f3d460c923895b7453b673f7c0da*out -ip 10.9.7.124. Top 10 memory users:\n",
      "PID\tMEM(GB)\tCOMMAND\n",
      "1868\t0.60\t/usr/lib/electron19/electron /usr/lib/code/out/bootstrap-fork --type=fileWatcher\n",
      "1968\t0.57\t/usr/lib/electron19/electron /home/wash/.vscode-oss/extensions/streetsidesoftware.code-spell-checker...\n",
      "25063\t0.57\t/home/wash/LARGE/Work/L361_project/flower_fedbuff_project/venv/bin/python -m ipykernel_launcher --ip...\n",
      "1793\t0.40\t/usr/lib/electron19/electron --type=renderer --enable-crashpad --crashpad-handler-pid=1740 --enable-...\n",
      "457644\t0.33\t/usr/lib/firefox/firefox\n",
      "1831\t0.28\t/usr/lib/electron19/electron --inspect-port=0 /usr/lib/code/out/bootstrap-fork --type=extensionHost ...\n",
      "572778\t0.22\t\n",
      "458911\t0.21\t/usr/lib/firefox/firefox -contentproc -childID 9 -isForBrowser -prefsLen 30823 -prefMapSize 248609 -...\n",
      "572781\t0.20\tray::IDLE\n",
      "572780\t0.20\tray::IDLE\n",
      "Refer to the documentation on how to address the out of memory issue: https://docs.ray.io/en/latest/ray-core/scheduling/ray-oom-prevention.html. Consider provisioning more memory on this node or reducing task parallelism by requesting more CPUs per task. To adjust the kill threshold, set the environment variable `RAY_memory_usage_threshold` when starting Ray. To disable worker killing, set the environment variable `RAY_memory_monitor_refresh_ms` to zero.\n",
      "25063 INFO flwr 2023-03-23 11:21:14,069 | server.py:140 | fit progress: (3, 452.4597487449646, {'accuracy': 0.1093}, 41.67676697499974)\n",
      "25063 INFO flwr 2023-03-23 11:21:14,070 | server.py:190 | evaluate_round 3: no clients selected, cancel\n",
      "25063 DEBUG flwr 2023-03-23 11:21:14,075 | server.py:255 | fit_round 4: strategy sampled 9 clients (out of 100)\n",
      "25063 DEBUG flwr 2023-03-23 11:21:14,076 | server.py:435 | Sending instructions to clients\n",
      "25063 DEBUG flwr 2023-03-23 11:21:14,077 | server.py:461 | Received enough responses from clients\n",
      "25063 DEBUG flwr 2023-03-23 11:21:14,103 | server.py:279 | fit_round 4 received 5 results and 1 failures\n"
     ]
    },
    {
     "name": "stdout",
     "output_type": "stream",
     "text": [
      "Working out which clients to instruct\n",
      "Want 9 more clients, minimum 9\n",
      "Selected clients = ['72', '86', '76', '85', '18', '17', '36', '43', '28']\n",
      "Client finshed: 81\n",
      "Client finshed: 89\n",
      "Client finshed: 54\n",
      "Client finshed: 63\n",
      "Client finshed: 55\n",
      "Client finshed: 59\n",
      "These clients sent updates: [('81', 1), ('54', 1), ('63', 1), ('55', 1), ('59', 1)]\n",
      "These clients failed: ['89']\n"
     ]
    },
    {
     "name": "stderr",
     "output_type": "stream",
     "text": [
      "25063 INFO flwr 2023-03-23 11:21:20,349 | server.py:140 | fit progress: (4, 418.7530504465103, {'accuracy': 0.2224}, 47.957285980999586)\n",
      "25063 INFO flwr 2023-03-23 11:21:20,351 | server.py:190 | evaluate_round 4: no clients selected, cancel\n",
      "25063 DEBUG flwr 2023-03-23 11:21:20,355 | server.py:255 | fit_round 5: strategy sampled 6 clients (out of 100)\n",
      "25063 DEBUG flwr 2023-03-23 11:21:20,357 | server.py:435 | Sending instructions to clients\n"
     ]
    },
    {
     "name": "stdout",
     "output_type": "stream",
     "text": [
      "Working out which clients to instruct\n",
      "Want 6 more clients, minimum 6\n",
      "Selected clients = ['38', '88', '23', '40', '75', '89']\n",
      "Client finshed: 67\n",
      "Client finshed: 12\n",
      "Client finshed: 31\n",
      "Client finshed: 49\n"
     ]
    },
    {
     "name": "stderr",
     "output_type": "stream",
     "text": [
      "25063 DEBUG flwr 2023-03-23 11:21:25,401 | server.py:461 | Received enough responses from clients\n",
      "25063 DEBUG flwr 2023-03-23 11:21:25,416 | server.py:279 | fit_round 5 received 5 results and 0 failures\n"
     ]
    },
    {
     "name": "stdout",
     "output_type": "stream",
     "text": [
      "Client finshed: 1\n",
      "These clients sent updates: [('67', 2), ('12', 2), ('31', 2), ('49', 2), ('1', 2)]\n",
      "These clients failed: []\n"
     ]
    },
    {
     "name": "stderr",
     "output_type": "stream",
     "text": [
      "\u001b[2m\u001b[33m(raylet)\u001b[0m [2023-03-23 11:21:27,117 E 569351 569351] (raylet) node_manager.cc:3040: 12 Workers (tasks / actors) killed due to memory pressure (OOM), 0 Workers crashed due to other reasons at node (ID: ea2b13587c2e9d625b361e52dc5f78b8a73caf22d99d8e18efd742df, IP: 10.9.7.124) over the last time period. To see more information about the Workers killed on this node, use `ray logs raylet.out -ip 10.9.7.124`\n",
      "\u001b[2m\u001b[33m(raylet)\u001b[0m \n",
      "\u001b[2m\u001b[33m(raylet)\u001b[0m Refer to the documentation on how to address the out of memory issue: https://docs.ray.io/en/latest/ray-core/scheduling/ray-oom-prevention.html. Consider provisioning more memory on this node or reducing task parallelism by requesting more CPUs per task. To adjust the kill threshold, set the environment variable `RAY_memory_usage_threshold` when starting Ray. To disable worker killing, set the environment variable `RAY_memory_monitor_refresh_ms` to zero.\n",
      "25063 INFO flwr 2023-03-23 11:21:32,474 | server.py:140 | fit progress: (5, 426.5658720731735, {'accuracy': 0.1937}, 60.08189356499952)\n",
      "25063 INFO flwr 2023-03-23 11:21:32,475 | server.py:190 | evaluate_round 5: no clients selected, cancel\n",
      "25063 DEBUG flwr 2023-03-23 11:21:32,482 | server.py:255 | fit_round 6: strategy sampled 5 clients (out of 100)\n",
      "25063 DEBUG flwr 2023-03-23 11:21:32,483 | server.py:435 | Sending instructions to clients\n",
      "25063 DEBUG flwr 2023-03-23 11:21:32,484 | server.py:461 | Received enough responses from clients\n",
      "25063 DEBUG flwr 2023-03-23 11:21:32,502 | server.py:279 | fit_round 6 received 5 results and 0 failures\n"
     ]
    },
    {
     "name": "stdout",
     "output_type": "stream",
     "text": [
      "Working out which clients to instruct\n",
      "Want 5 more clients, minimum 5\n",
      "Selected clients = ['71', '60', '42', '87', '21']\n",
      "Client finshed: 76\n",
      "Client finshed: 86\n",
      "Client finshed: 85\n",
      "Client finshed: 72\n",
      "Client finshed: 18\n",
      "These clients sent updates: [('76', 2), ('86', 2), ('85', 2), ('72', 2), ('18', 2)]\n",
      "These clients failed: []\n"
     ]
    },
    {
     "name": "stderr",
     "output_type": "stream",
     "text": [
      "25063 INFO flwr 2023-03-23 11:21:37,290 | server.py:140 | fit progress: (6, 402.66586911678314, {'accuracy': 0.2655}, 64.89743075600018)\n",
      "25063 INFO flwr 2023-03-23 11:21:37,290 | server.py:190 | evaluate_round 6: no clients selected, cancel\n",
      "25063 DEBUG flwr 2023-03-23 11:21:37,295 | server.py:255 | fit_round 7: strategy sampled 5 clients (out of 100)\n",
      "25063 DEBUG flwr 2023-03-23 11:21:37,296 | server.py:435 | Sending instructions to clients\n"
     ]
    },
    {
     "name": "stdout",
     "output_type": "stream",
     "text": [
      "Working out which clients to instruct\n",
      "Want 5 more clients, minimum 5\n",
      "Selected clients = ['14', '5', '70', '98', '19']\n",
      "Client finshed: 38\n",
      "Client finshed: 28\n",
      "Client finshed: 88\n",
      "Client finshed: 36\n"
     ]
    },
    {
     "name": "stderr",
     "output_type": "stream",
     "text": [
      "25063 DEBUG flwr 2023-03-23 11:21:41,222 | server.py:461 | Received enough responses from clients\n",
      "25063 DEBUG flwr 2023-03-23 11:21:41,225 | server.py:279 | fit_round 7 received 5 results and 0 failures\n"
     ]
    },
    {
     "name": "stdout",
     "output_type": "stream",
     "text": [
      "Client finshed: 23\n",
      "These clients sent updates: [('38', 2), ('28', 3), ('88', 2), ('36', 3), ('23', 2)]\n",
      "These clients failed: []\n"
     ]
    },
    {
     "name": "stderr",
     "output_type": "stream",
     "text": [
      "25063 INFO flwr 2023-03-23 11:21:47,261 | server.py:140 | fit progress: (7, 395.7196763753891, {'accuracy': 0.2834}, 74.86867021999933)\n",
      "25063 INFO flwr 2023-03-23 11:21:47,262 | server.py:190 | evaluate_round 7: no clients selected, cancel\n",
      "25063 DEBUG flwr 2023-03-23 11:21:47,268 | server.py:255 | fit_round 8: strategy sampled 5 clients (out of 100)\n",
      "25063 DEBUG flwr 2023-03-23 11:21:47,268 | server.py:435 | Sending instructions to clients\n"
     ]
    },
    {
     "name": "stdout",
     "output_type": "stream",
     "text": [
      "Working out which clients to instruct\n",
      "Want 5 more clients, minimum 5\n",
      "Selected clients = ['95', '91', '3', '92', '38']\n",
      "Client finshed: 43\n",
      "Client finshed: 17\n",
      "Client finshed: 40\n"
     ]
    },
    {
     "name": "stderr",
     "output_type": "stream",
     "text": [
      "25063 DEBUG flwr 2023-03-23 11:21:53,188 | server.py:461 | Received enough responses from clients\n",
      "25063 DEBUG flwr 2023-03-23 11:21:53,197 | server.py:279 | fit_round 8 received 5 results and 0 failures\n"
     ]
    },
    {
     "name": "stdout",
     "output_type": "stream",
     "text": [
      "Client finshed: 75\n",
      "Client finshed: 89\n",
      "These clients sent updates: [('43', 4), ('17', 4), ('40', 3), ('75', 3), ('89', 3)]\n",
      "These clients failed: []\n"
     ]
    },
    {
     "name": "stderr",
     "output_type": "stream",
     "text": [
      "25063 INFO flwr 2023-03-23 11:21:58,887 | server.py:140 | fit progress: (8, 399.384733915329, {'accuracy': 0.2749}, 86.49479116600014)\n",
      "25063 INFO flwr 2023-03-23 11:21:58,889 | server.py:190 | evaluate_round 8: no clients selected, cancel\n",
      "25063 DEBUG flwr 2023-03-23 11:21:58,896 | server.py:255 | fit_round 9: strategy sampled 5 clients (out of 100)\n",
      "25063 DEBUG flwr 2023-03-23 11:21:58,898 | server.py:435 | Sending instructions to clients\n",
      "25063 DEBUG flwr 2023-03-23 11:21:58,900 | server.py:461 | Received enough responses from clients\n",
      "25063 DEBUG flwr 2023-03-23 11:21:58,923 | server.py:279 | fit_round 9 received 5 results and 0 failures\n"
     ]
    },
    {
     "name": "stdout",
     "output_type": "stream",
     "text": [
      "Working out which clients to instruct\n",
      "Want 5 more clients, minimum 5\n",
      "Selected clients = ['55', '25', '84', '86', '51']\n",
      "Client finshed: 21\n",
      "Client finshed: 71\n",
      "Client finshed: 87\n",
      "Client finshed: 60\n",
      "Client finshed: 42\n",
      "These clients sent updates: [('21', 3), ('71', 3), ('87', 3), ('60', 3), ('42', 3)]\n",
      "These clients failed: []\n"
     ]
    },
    {
     "name": "stderr",
     "output_type": "stream",
     "text": [
      "25063 INFO flwr 2023-03-23 11:22:04,172 | server.py:140 | fit progress: (9, 394.0505907535553, {'accuracy': 0.2717}, 91.77993420799976)\n",
      "25063 INFO flwr 2023-03-23 11:22:04,173 | server.py:190 | evaluate_round 9: no clients selected, cancel\n",
      "25063 DEBUG flwr 2023-03-23 11:22:04,177 | server.py:255 | fit_round 10: strategy sampled 5 clients (out of 100)\n",
      "25063 DEBUG flwr 2023-03-23 11:22:04,178 | server.py:435 | Sending instructions to clients\n"
     ]
    },
    {
     "name": "stdout",
     "output_type": "stream",
     "text": [
      "Working out which clients to instruct\n",
      "Want 5 more clients, minimum 5\n",
      "Selected clients = ['74', '27', '1', '87', '75']\n",
      "Client finshed: 14\n",
      "Client finshed: 5\n",
      "Client finshed: 19\n",
      "Client finshed: 98\n"
     ]
    },
    {
     "name": "stderr",
     "output_type": "stream",
     "text": [
      "25063 DEBUG flwr 2023-03-23 11:22:07,981 | server.py:461 | Received enough responses from clients\n",
      "25063 DEBUG flwr 2023-03-23 11:22:07,988 | server.py:279 | fit_round 10 received 5 results and 0 failures\n"
     ]
    },
    {
     "name": "stdout",
     "output_type": "stream",
     "text": [
      "Client finshed: 91\n",
      "These clients sent updates: [('14', 3), ('5', 3), ('19', 3), ('98', 3), ('91', 2)]\n",
      "These clients failed: []\n"
     ]
    },
    {
     "name": "stderr",
     "output_type": "stream",
     "text": [
      "25063 INFO flwr 2023-03-23 11:22:14,118 | server.py:140 | fit progress: (10, 399.4474798440933, {'accuracy': 0.2832}, 101.72588420800002)\n",
      "25063 INFO flwr 2023-03-23 11:22:14,119 | server.py:190 | evaluate_round 10: no clients selected, cancel\n",
      "25063 DEBUG flwr 2023-03-23 11:22:14,126 | server.py:255 | fit_round 11: strategy sampled 5 clients (out of 100)\n",
      "25063 DEBUG flwr 2023-03-23 11:22:14,127 | server.py:435 | Sending instructions to clients\n"
     ]
    },
    {
     "name": "stdout",
     "output_type": "stream",
     "text": [
      "Working out which clients to instruct\n",
      "Want 5 more clients, minimum 5\n",
      "Selected clients = ['29', '98', '10', '26', '65']\n",
      "Client finshed: 70\n",
      "Client finshed: 95\n",
      "Client finshed: 3\n",
      "Client finshed: 92\n"
     ]
    },
    {
     "name": "stderr",
     "output_type": "stream",
     "text": [
      "25063 DEBUG flwr 2023-03-23 11:22:20,112 | server.py:461 | Received enough responses from clients\n",
      "25063 DEBUG flwr 2023-03-23 11:22:20,119 | server.py:279 | fit_round 11 received 5 results and 0 failures\n"
     ]
    },
    {
     "name": "stdout",
     "output_type": "stream",
     "text": [
      "Client finshed: 25\n",
      "These clients sent updates: [('70', 4), ('95', 3), ('3', 3), ('92', 3), ('25', 2)]\n",
      "These clients failed: []\n"
     ]
    },
    {
     "name": "stderr",
     "output_type": "stream",
     "text": [
      "25063 INFO flwr 2023-03-23 11:22:27,100 | server.py:140 | fit progress: (11, 383.6056053638458, {'accuracy': 0.2947}, 114.70820234799976)\n",
      "25063 INFO flwr 2023-03-23 11:22:27,102 | server.py:190 | evaluate_round 11: no clients selected, cancel\n",
      "25063 DEBUG flwr 2023-03-23 11:22:27,107 | server.py:255 | fit_round 12: strategy sampled 5 clients (out of 100)\n",
      "25063 DEBUG flwr 2023-03-23 11:22:27,108 | server.py:435 | Sending instructions to clients\n",
      "25063 DEBUG flwr 2023-03-23 11:22:27,110 | server.py:461 | Received enough responses from clients\n",
      "25063 DEBUG flwr 2023-03-23 11:22:27,128 | server.py:279 | fit_round 12 received 5 results and 0 failures\n"
     ]
    },
    {
     "name": "stdout",
     "output_type": "stream",
     "text": [
      "Working out which clients to instruct\n",
      "Want 5 more clients, minimum 5\n",
      "Selected clients = ['59', '53', '39', '37', '90']\n",
      "Client finshed: 74\n",
      "Client finshed: 55\n",
      "Client finshed: 86\n",
      "Client finshed: 51\n",
      "Client finshed: 84\n",
      "These clients sent updates: [('74', 2), ('55', 3), ('86', 3), ('51', 3), ('84', 3)]\n",
      "These clients failed: []\n"
     ]
    },
    {
     "name": "stderr",
     "output_type": "stream",
     "text": [
      "25063 INFO flwr 2023-03-23 11:22:32,090 | server.py:140 | fit progress: (12, 386.04554641246796, {'accuracy': 0.2983}, 119.69738640000014)\n",
      "25063 INFO flwr 2023-03-23 11:22:32,091 | server.py:190 | evaluate_round 12: no clients selected, cancel\n",
      "25063 DEBUG flwr 2023-03-23 11:22:32,095 | server.py:255 | fit_round 13: strategy sampled 5 clients (out of 100)\n",
      "25063 DEBUG flwr 2023-03-23 11:22:32,096 | server.py:435 | Sending instructions to clients\n"
     ]
    },
    {
     "name": "stdout",
     "output_type": "stream",
     "text": [
      "Working out which clients to instruct\n",
      "Want 5 more clients, minimum 5\n",
      "Selected clients = ['64', '18', '55', '19', '15']\n",
      "Client finshed: 38\n",
      "Client finshed: 27\n",
      "Client finshed: 75\n",
      "Client finshed: 1\n"
     ]
    },
    {
     "name": "stderr",
     "output_type": "stream",
     "text": [
      "25063 DEBUG flwr 2023-03-23 11:22:36,182 | server.py:461 | Received enough responses from clients\n",
      "25063 DEBUG flwr 2023-03-23 11:22:36,183 | server.py:279 | fit_round 13 received 5 results and 0 failures\n"
     ]
    },
    {
     "name": "stdout",
     "output_type": "stream",
     "text": [
      "Client finshed: 87\n",
      "These clients sent updates: [('38', 5), ('27', 3), ('75', 3), ('1', 3), ('87', 3)]\n",
      "These clients failed: []\n"
     ]
    },
    {
     "name": "stderr",
     "output_type": "stream",
     "text": [
      "25063 INFO flwr 2023-03-23 11:22:41,299 | server.py:140 | fit progress: (13, 384.11149501800537, {'accuracy': 0.3066}, 128.90728439799932)\n",
      "25063 INFO flwr 2023-03-23 11:22:41,302 | server.py:190 | evaluate_round 13: no clients selected, cancel\n",
      "25063 DEBUG flwr 2023-03-23 11:22:41,307 | server.py:255 | fit_round 14: strategy sampled 5 clients (out of 100)\n",
      "25063 DEBUG flwr 2023-03-23 11:22:41,308 | server.py:435 | Sending instructions to clients\n"
     ]
    },
    {
     "name": "stdout",
     "output_type": "stream",
     "text": [
      "Working out which clients to instruct\n",
      "Want 5 more clients, minimum 5\n",
      "Selected clients = ['52', '63', '70', '85', '94']\n",
      "Client finshed: 10\n",
      "Client finshed: 29\n",
      "Client finshed: 65\n",
      "Client finshed: 98\n"
     ]
    },
    {
     "name": "stderr",
     "output_type": "stream",
     "text": [
      "25063 DEBUG flwr 2023-03-23 11:22:47,177 | server.py:461 | Received enough responses from clients\n",
      "25063 DEBUG flwr 2023-03-23 11:22:47,184 | server.py:279 | fit_round 14 received 5 results and 0 failures\n"
     ]
    },
    {
     "name": "stdout",
     "output_type": "stream",
     "text": [
      "Client finshed: 53\n",
      "These clients sent updates: [('10', 3), ('29', 3), ('65', 3), ('98', 3), ('53', 2)]\n",
      "These clients failed: []\n"
     ]
    },
    {
     "name": "stderr",
     "output_type": "stream",
     "text": [
      "25063 INFO flwr 2023-03-23 11:22:55,512 | server.py:140 | fit progress: (14, 375.31976211071014, {'accuracy': 0.3304}, 143.1197244899995)\n",
      "25063 INFO flwr 2023-03-23 11:22:55,516 | server.py:190 | evaluate_round 14: no clients selected, cancel\n",
      "25063 DEBUG flwr 2023-03-23 11:22:55,525 | server.py:255 | fit_round 15: strategy sampled 5 clients (out of 100)\n",
      "25063 DEBUG flwr 2023-03-23 11:22:55,528 | server.py:435 | Sending instructions to clients\n",
      "25063 DEBUG flwr 2023-03-23 11:22:55,529 | server.py:461 | Received enough responses from clients\n",
      "25063 DEBUG flwr 2023-03-23 11:22:55,532 | server.py:279 | fit_round 15 received 5 results and 0 failures\n"
     ]
    },
    {
     "name": "stdout",
     "output_type": "stream",
     "text": [
      "Working out which clients to instruct\n",
      "Want 5 more clients, minimum 5\n",
      "Selected clients = ['65', '75', '32', '88', '11']\n",
      "Client finshed: 39\n",
      "Client finshed: 26\n",
      "Client finshed: 37\n",
      "Client finshed: 59\n",
      "Client finshed: 90\n",
      "These clients sent updates: [('39', 3), ('26', 4), ('37', 3), ('59', 3), ('90', 3)]\n",
      "These clients failed: []\n"
     ]
    },
    {
     "name": "stderr",
     "output_type": "stream",
     "text": [
      "25063 INFO flwr 2023-03-23 11:23:00,086 | server.py:140 | fit progress: (15, 366.4855606555939, {'accuracy': 0.3398}, 147.69375068499994)\n",
      "25063 INFO flwr 2023-03-23 11:23:00,087 | server.py:190 | evaluate_round 15: no clients selected, cancel\n",
      "25063 DEBUG flwr 2023-03-23 11:23:00,092 | server.py:255 | fit_round 16: strategy sampled 5 clients (out of 100)\n",
      "25063 DEBUG flwr 2023-03-23 11:23:00,093 | server.py:435 | Sending instructions to clients\n"
     ]
    },
    {
     "name": "stdout",
     "output_type": "stream",
     "text": [
      "Working out which clients to instruct\n",
      "Want 5 more clients, minimum 5\n",
      "Selected clients = ['43', '81', '93', '68', '96']\n",
      "Client finshed: 18\n",
      "Client finshed: 64\n",
      "Client finshed: 70\n",
      "Client finshed: 19\n"
     ]
    },
    {
     "name": "stderr",
     "output_type": "stream",
     "text": [
      "25063 DEBUG flwr 2023-03-23 11:23:04,715 | server.py:461 | Received enough responses from clients\n",
      "25063 DEBUG flwr 2023-03-23 11:23:04,716 | server.py:279 | fit_round 16 received 5 results and 0 failures\n"
     ]
    },
    {
     "name": "stdout",
     "output_type": "stream",
     "text": [
      "Client finshed: 52\n",
      "These clients sent updates: [('18', 3), ('64', 3), ('70', 2), ('19', 3), ('52', 2)]\n",
      "These clients failed: []\n"
     ]
    },
    {
     "name": "stderr",
     "output_type": "stream",
     "text": [
      "25063 INFO flwr 2023-03-23 11:23:11,517 | server.py:140 | fit progress: (16, 363.82771027088165, {'accuracy': 0.3403}, 159.1243542909997)\n",
      "25063 INFO flwr 2023-03-23 11:23:11,518 | server.py:190 | evaluate_round 16: no clients selected, cancel\n",
      "25063 DEBUG flwr 2023-03-23 11:23:11,523 | server.py:255 | fit_round 17: strategy sampled 5 clients (out of 100)\n",
      "25063 DEBUG flwr 2023-03-23 11:23:11,525 | server.py:435 | Sending instructions to clients\n",
      "25063 DEBUG flwr 2023-03-23 11:23:11,526 | server.py:461 | Received enough responses from clients\n",
      "25063 DEBUG flwr 2023-03-23 11:23:11,545 | server.py:279 | fit_round 17 received 5 results and 0 failures\n"
     ]
    },
    {
     "name": "stdout",
     "output_type": "stream",
     "text": [
      "Working out which clients to instruct\n",
      "Want 5 more clients, minimum 5\n",
      "Selected clients = ['0', '54', '90', '45', '14']\n",
      "Client finshed: 94\n",
      "Client finshed: 85\n",
      "Client finshed: 55\n",
      "Client finshed: 63\n",
      "Client finshed: 15\n",
      "These clients sent updates: [('94', 3), ('85', 3), ('55', 4), ('63', 3), ('15', 4)]\n",
      "These clients failed: []\n"
     ]
    },
    {
     "name": "stderr",
     "output_type": "stream",
     "text": [
      "25063 INFO flwr 2023-03-23 11:23:16,054 | server.py:140 | fit progress: (17, 367.6003544330597, {'accuracy': 0.331}, 163.66182672800005)\n",
      "25063 INFO flwr 2023-03-23 11:23:16,056 | server.py:190 | evaluate_round 17: no clients selected, cancel\n",
      "25063 DEBUG flwr 2023-03-23 11:23:16,060 | server.py:255 | fit_round 18: strategy sampled 5 clients (out of 100)\n",
      "25063 DEBUG flwr 2023-03-23 11:23:16,062 | server.py:435 | Sending instructions to clients\n"
     ]
    },
    {
     "name": "stdout",
     "output_type": "stream",
     "text": [
      "Working out which clients to instruct\n",
      "Want 5 more clients, minimum 5\n",
      "Selected clients = ['97', '13', '64', '63', '35']\n",
      "Client finshed: 88\n",
      "Client finshed: 75\n",
      "Client finshed: 32\n",
      "Client finshed: 65\n",
      "Client finshed: 11\n"
     ]
    },
    {
     "name": "stderr",
     "output_type": "stream",
     "text": [
      "25063 DEBUG flwr 2023-03-23 11:23:19,351 | server.py:461 | Received enough responses from clients\n",
      "25063 DEBUG flwr 2023-03-23 11:23:19,358 | server.py:279 | fit_round 18 received 5 results and 0 failures\n"
     ]
    },
    {
     "name": "stdout",
     "output_type": "stream",
     "text": [
      "These clients sent updates: [('88', 3), ('75', 3), ('32', 3), ('65', 3), ('11', 3)]\n",
      "These clients failed: []\n"
     ]
    },
    {
     "name": "stderr",
     "output_type": "stream",
     "text": [
      "25063 INFO flwr 2023-03-23 11:23:26,963 | server.py:140 | fit progress: (18, 355.1461982727051, {'accuracy': 0.3369}, 174.57034772399948)\n",
      "25063 INFO flwr 2023-03-23 11:23:26,965 | server.py:190 | evaluate_round 18: no clients selected, cancel\n",
      "25063 DEBUG flwr 2023-03-23 11:23:26,972 | server.py:255 | fit_round 19: strategy sampled 5 clients (out of 100)\n",
      "25063 DEBUG flwr 2023-03-23 11:23:26,974 | server.py:435 | Sending instructions to clients\n"
     ]
    },
    {
     "name": "stdout",
     "output_type": "stream",
     "text": [
      "Working out which clients to instruct\n",
      "Want 5 more clients, minimum 5\n",
      "Selected clients = ['52', '46', '58', '15', '31']\n",
      "Client finshed: 81\n",
      "Client finshed: 93\n",
      "Client finshed: 43\n"
     ]
    },
    {
     "name": "stderr",
     "output_type": "stream",
     "text": [
      "25063 DEBUG flwr 2023-03-23 11:23:31,088 | server.py:461 | Received enough responses from clients\n",
      "25063 DEBUG flwr 2023-03-23 11:23:31,090 | server.py:279 | fit_round 19 received 5 results and 0 failures\n"
     ]
    },
    {
     "name": "stdout",
     "output_type": "stream",
     "text": [
      "Client finshed: 54\n",
      "Client finshed: 96\n",
      "These clients sent updates: [('81', 3), ('93', 3), ('43', 3), ('54', 2), ('96', 3)]\n",
      "These clients failed: []\n"
     ]
    },
    {
     "name": "stderr",
     "output_type": "stream",
     "text": [
      "25063 INFO flwr 2023-03-23 11:23:36,322 | server.py:140 | fit progress: (19, 348.9256978034973, {'accuracy': 0.3554}, 183.93019365199962)\n",
      "25063 INFO flwr 2023-03-23 11:23:36,324 | server.py:190 | evaluate_round 19: no clients selected, cancel\n",
      "25063 DEBUG flwr 2023-03-23 11:23:36,328 | server.py:255 | fit_round 20: strategy sampled 5 clients (out of 100)\n",
      "25063 DEBUG flwr 2023-03-23 11:23:36,329 | server.py:435 | Sending instructions to clients\n"
     ]
    },
    {
     "name": "stdout",
     "output_type": "stream",
     "text": [
      "Working out which clients to instruct\n",
      "Want 5 more clients, minimum 5\n",
      "Selected clients = ['81', '12', '76', '85', '65']\n",
      "Client finshed: 68\n",
      "Client finshed: 0\n",
      "Client finshed: 90\n",
      "Client finshed: 45\n"
     ]
    },
    {
     "name": "stderr",
     "output_type": "stream",
     "text": [
      "25063 DEBUG flwr 2023-03-23 11:23:38,171 | server.py:461 | Received enough responses from clients\n",
      "25063 DEBUG flwr 2023-03-23 11:23:38,178 | server.py:279 | fit_round 20 received 5 results and 0 failures\n"
     ]
    },
    {
     "name": "stdout",
     "output_type": "stream",
     "text": [
      "Client finshed: 14\n",
      "These clients sent updates: [('68', 4), ('0', 3), ('90', 3), ('45', 3), ('14', 3)]\n",
      "These clients failed: []\n"
     ]
    },
    {
     "name": "stderr",
     "output_type": "stream",
     "text": [
      "25063 INFO flwr 2023-03-23 11:23:43,444 | server.py:140 | fit progress: (20, 354.5957851409912, {'accuracy': 0.3589}, 191.05220916100006)\n",
      "25063 INFO flwr 2023-03-23 11:23:43,447 | server.py:190 | evaluate_round 20: no clients selected, cancel\n",
      "25063 DEBUG flwr 2023-03-23 11:23:43,452 | server.py:255 | fit_round 21: strategy sampled 5 clients (out of 100)\n",
      "25063 DEBUG flwr 2023-03-23 11:23:43,453 | server.py:435 | Sending instructions to clients\n"
     ]
    },
    {
     "name": "stdout",
     "output_type": "stream",
     "text": [
      "Working out which clients to instruct\n",
      "Want 5 more clients, minimum 5\n",
      "Selected clients = ['47', '25', '6', '74', '49']\n",
      "Client finshed: 97\n",
      "Client finshed: 64\n",
      "Client finshed: 13\n",
      "Client finshed: 63\n"
     ]
    },
    {
     "name": "stderr",
     "output_type": "stream",
     "text": [
      "25063 DEBUG flwr 2023-03-23 11:23:48,332 | server.py:461 | Received enough responses from clients\n",
      "25063 DEBUG flwr 2023-03-23 11:23:48,337 | server.py:279 | fit_round 21 received 5 results and 0 failures\n"
     ]
    },
    {
     "name": "stdout",
     "output_type": "stream",
     "text": [
      "Client finshed: 35\n",
      "These clients sent updates: [('97', 3), ('64', 3), ('13', 3), ('63', 3), ('35', 3)]\n",
      "These clients failed: []\n"
     ]
    },
    {
     "name": "stderr",
     "output_type": "stream",
     "text": [
      "25063 INFO flwr 2023-03-23 11:23:55,504 | server.py:140 | fit progress: (21, 357.54803335666656, {'accuracy': 0.3524}, 203.1115912309997)\n",
      "25063 INFO flwr 2023-03-23 11:23:55,505 | server.py:190 | evaluate_round 21: no clients selected, cancel\n",
      "25063 DEBUG flwr 2023-03-23 11:23:55,511 | server.py:255 | fit_round 22: strategy sampled 5 clients (out of 100)\n",
      "25063 DEBUG flwr 2023-03-23 11:23:55,515 | server.py:435 | Sending instructions to clients\n"
     ]
    },
    {
     "name": "stdout",
     "output_type": "stream",
     "text": [
      "Working out which clients to instruct\n",
      "Want 5 more clients, minimum 5\n",
      "Selected clients = ['50', '59', '93', '33', '28']\n",
      "Client finshed: 52\n",
      "Client finshed: 58\n",
      "Client finshed: 46\n",
      "Client finshed: 15\n"
     ]
    },
    {
     "name": "stderr",
     "output_type": "stream",
     "text": [
      "25063 DEBUG flwr 2023-03-23 11:23:59,028 | server.py:461 | Received enough responses from clients\n",
      "25063 DEBUG flwr 2023-03-23 11:23:59,038 | server.py:279 | fit_round 22 received 5 results and 0 failures\n"
     ]
    },
    {
     "name": "stdout",
     "output_type": "stream",
     "text": [
      "Client finshed: 31\n",
      "These clients sent updates: [('52', 3), ('58', 3), ('46', 3), ('15', 3), ('31', 3)]\n",
      "These clients failed: []\n"
     ]
    },
    {
     "name": "stderr",
     "output_type": "stream",
     "text": [
      "25063 DEBUG flwr 2023-03-23 11:24:00,925 | ray_client_proxy.py:87 | Task was killed due to the node running low on memory.\n",
      "Memory on the node (IP: 10.9.7.124, ID: ea2b13587c2e9d625b361e52dc5f78b8a73caf22d99d8e18efd742df) where the task (task ID: c71ceb3d47cbb5efa657993d20d139edcf8952e901000000, name=launch_and_fit, pid=591460, memory used=0.05GB) was running was 7.27GB / 7.65GB (0.950322), which exceeds the memory usage threshold of 0.95. Ray killed this worker (ID: b766d16e879bb7087b8ce9461670bd7d4a190f4d80691f25f7e670af) because it was the most recently scheduled task; to see more information about memory usage on this node, use `ray logs raylet.out -ip 10.9.7.124`. To see the logs of the worker, use `ray logs worker-b766d16e879bb7087b8ce9461670bd7d4a190f4d80691f25f7e670af*out -ip 10.9.7.124. Top 10 memory users:\n",
      "PID\tMEM(GB)\tCOMMAND\n",
      "1868\t0.60\t/usr/lib/electron19/electron /usr/lib/code/out/bootstrap-fork --type=fileWatcher\n",
      "25063\t0.57\t/home/wash/LARGE/Work/L361_project/flower_fedbuff_project/venv/bin/python -m ipykernel_launcher --ip...\n",
      "1968\t0.49\t/usr/lib/electron19/electron /home/wash/.vscode-oss/extensions/streetsidesoftware.code-spell-checker...\n",
      "1831\t0.47\t/usr/lib/electron19/electron --inspect-port=0 /usr/lib/code/out/bootstrap-fork --type=extensionHost ...\n",
      "1793\t0.39\t/usr/lib/electron19/electron --type=renderer --enable-crashpad --crashpad-handler-pid=1740 --enable-...\n",
      "457644\t0.33\t/usr/lib/firefox/firefox\n",
      "1999\t0.22\t/home/wash/LARGE/Work/L361_project/flower_fedbuff_project/venv/bin/python /home/wash/.vscode-oss/ext...\n",
      "458911\t0.20\t/usr/lib/firefox/firefox -contentproc -childID 9 -isForBrowser -prefsLen 30823 -prefMapSize 248609 -...\n",
      "590020\t0.20\tray::IDLE\n",
      "590008\t0.20\tray::IDLE\n",
      "Refer to the documentation on how to address the out of memory issue: https://docs.ray.io/en/latest/ray-core/scheduling/ray-oom-prevention.html. Consider provisioning more memory on this node or reducing task parallelism by requesting more CPUs per task. To adjust the kill threshold, set the environment variable `RAY_memory_usage_threshold` when starting Ray. To disable worker killing, set the environment variable `RAY_memory_monitor_refresh_ms` to zero.\n",
      "25063 DEBUG flwr 2023-03-23 11:24:01,682 | ray_client_proxy.py:87 | Task was killed due to the node running low on memory.\n",
      "Memory on the node (IP: 10.9.7.124, ID: ea2b13587c2e9d625b361e52dc5f78b8a73caf22d99d8e18efd742df) where the task (task ID: 44498a110221837382de990a21e9415927a9d35801000000, name=launch_and_fit, pid=591054, memory used=0.18GB) was running was 7.30GB / 7.65GB (0.954836), which exceeds the memory usage threshold of 0.95. Ray killed this worker (ID: 3e80ab7d7c89f009b058237decadc9d5a4bd2f8f2d04448dd4cf8cc7) because it was the most recently scheduled task; to see more information about memory usage on this node, use `ray logs raylet.out -ip 10.9.7.124`. To see the logs of the worker, use `ray logs worker-3e80ab7d7c89f009b058237decadc9d5a4bd2f8f2d04448dd4cf8cc7*out -ip 10.9.7.124. Top 10 memory users:\n",
      "PID\tMEM(GB)\tCOMMAND\n",
      "1868\t0.60\t/usr/lib/electron19/electron /usr/lib/code/out/bootstrap-fork --type=fileWatcher\n",
      "25063\t0.57\t/home/wash/LARGE/Work/L361_project/flower_fedbuff_project/venv/bin/python -m ipykernel_launcher --ip...\n",
      "1831\t0.52\t/usr/lib/electron19/electron --inspect-port=0 /usr/lib/code/out/bootstrap-fork --type=extensionHost ...\n",
      "1968\t0.47\t/usr/lib/electron19/electron /home/wash/.vscode-oss/extensions/streetsidesoftware.code-spell-checker...\n",
      "1793\t0.39\t/usr/lib/electron19/electron --type=renderer --enable-crashpad --crashpad-handler-pid=1740 --enable-...\n",
      "457644\t0.33\t/usr/lib/firefox/firefox\n",
      "1999\t0.22\t/home/wash/LARGE/Work/L361_project/flower_fedbuff_project/venv/bin/python /home/wash/.vscode-oss/ext...\n",
      "458911\t0.20\t/usr/lib/firefox/firefox -contentproc -childID 9 -isForBrowser -prefsLen 30823 -prefMapSize 248609 -...\n",
      "590633\t0.20\tray::launch_and_fit\n",
      "590020\t0.20\tray::IDLE\n",
      "Refer to the documentation on how to address the out of memory issue: https://docs.ray.io/en/latest/ray-core/scheduling/ray-oom-prevention.html. Consider provisioning more memory on this node or reducing task parallelism by requesting more CPUs per task. To adjust the kill threshold, set the environment variable `RAY_memory_usage_threshold` when starting Ray. To disable worker killing, set the environment variable `RAY_memory_monitor_refresh_ms` to zero.\n",
      "25063 INFO flwr 2023-03-23 11:24:05,678 | server.py:140 | fit progress: (22, 341.9134613275528, {'accuracy': 0.372}, 213.28595432899965)\n",
      "25063 INFO flwr 2023-03-23 11:24:05,704 | server.py:190 | evaluate_round 22: no clients selected, cancel\n",
      "25063 DEBUG flwr 2023-03-23 11:24:05,709 | server.py:255 | fit_round 23: strategy sampled 5 clients (out of 100)\n",
      "25063 DEBUG flwr 2023-03-23 11:24:05,710 | server.py:435 | Sending instructions to clients\n"
     ]
    },
    {
     "name": "stdout",
     "output_type": "stream",
     "text": [
      "Working out which clients to instruct\n",
      "Want 5 more clients, minimum 5\n",
      "Selected clients = ['54', '36', '37', '56', '13']\n",
      "Client finshed: 6\n",
      "Client finshed: 25\n",
      "Client finshed: 81\n",
      "Client finshed: 12\n",
      "Client finshed: 76\n"
     ]
    },
    {
     "name": "stderr",
     "output_type": "stream",
     "text": [
      "25063 DEBUG flwr 2023-03-23 11:24:06,566 | server.py:461 | Received enough responses from clients\n",
      "25063 DEBUG flwr 2023-03-23 11:24:06,576 | server.py:279 | fit_round 23 received 5 results and 2 failures\n"
     ]
    },
    {
     "name": "stdout",
     "output_type": "stream",
     "text": [
      "Client finshed: 47\n",
      "Client finshed: 65\n",
      "These clients sent updates: [('81', 3), ('12', 3), ('76', 3), ('47', 2), ('65', 3)]\n",
      "These clients failed: ['6', '25']\n"
     ]
    },
    {
     "name": "stderr",
     "output_type": "stream",
     "text": [
      "25063 INFO flwr 2023-03-23 11:24:12,007 | server.py:140 | fit progress: (23, 340.70902705192566, {'accuracy': 0.3786}, 219.61490588499964)\n",
      "25063 INFO flwr 2023-03-23 11:24:12,008 | server.py:190 | evaluate_round 23: no clients selected, cancel\n",
      "25063 DEBUG flwr 2023-03-23 11:24:12,013 | server.py:255 | fit_round 24: strategy sampled 7 clients (out of 100)\n",
      "25063 DEBUG flwr 2023-03-23 11:24:12,014 | server.py:435 | Sending instructions to clients\n"
     ]
    },
    {
     "name": "stdout",
     "output_type": "stream",
     "text": [
      "Working out which clients to instruct\n",
      "Want 7 more clients, minimum 7\n",
      "Selected clients = ['64', '67', '11', '70', '7', '22', '58']\n",
      "Client finshed: 85\n"
     ]
    },
    {
     "name": "stderr",
     "output_type": "stream",
     "text": [
      "25063 DEBUG flwr 2023-03-23 11:24:15,034 | ray_client_proxy.py:87 | Task was killed due to the node running low on memory.\n",
      "Memory on the node (IP: 10.9.7.124, ID: ea2b13587c2e9d625b361e52dc5f78b8a73caf22d99d8e18efd742df) where the task (task ID: 9d8a8afc925fe8b8ec7ab95e054b635d96de504d01000000, name=launch_and_fit, pid=592467, memory used=0.19GB) was running was 7.29GB / 7.65GB (0.952554), which exceeds the memory usage threshold of 0.95. Ray killed this worker (ID: 312f48087a355f68c5f61bfc390bf0426d1d74d82daf172b41f032c3) because it was the most recently scheduled task; to see more information about memory usage on this node, use `ray logs raylet.out -ip 10.9.7.124`. To see the logs of the worker, use `ray logs worker-312f48087a355f68c5f61bfc390bf0426d1d74d82daf172b41f032c3*out -ip 10.9.7.124. Top 10 memory users:\n",
      "PID\tMEM(GB)\tCOMMAND\n",
      "1868\t0.60\t/usr/lib/electron19/electron /usr/lib/code/out/bootstrap-fork --type=fileWatcher\n",
      "25063\t0.57\t/home/wash/LARGE/Work/L361_project/flower_fedbuff_project/venv/bin/python -m ipykernel_launcher --ip...\n",
      "1831\t0.47\t/usr/lib/electron19/electron --inspect-port=0 /usr/lib/code/out/bootstrap-fork --type=extensionHost ...\n",
      "1793\t0.38\t/usr/lib/electron19/electron --type=renderer --enable-crashpad --crashpad-handler-pid=1740 --enable-...\n",
      "457644\t0.32\t/usr/lib/firefox/firefox\n",
      "1968\t0.23\t/usr/lib/electron19/electron /home/wash/.vscode-oss/extensions/streetsidesoftware.code-spell-checker...\n",
      "1999\t0.22\t/home/wash/LARGE/Work/L361_project/flower_fedbuff_project/venv/bin/python /home/wash/.vscode-oss/ext...\n",
      "458911\t0.20\t/usr/lib/firefox/firefox -contentproc -childID 9 -isForBrowser -prefsLen 30823 -prefMapSize 248609 -...\n",
      "592467\t0.19\tray::IDLE\n",
      "592359\t0.19\tray::IDLE\n",
      "Refer to the documentation on how to address the out of memory issue: https://docs.ray.io/en/latest/ray-core/scheduling/ray-oom-prevention.html. Consider provisioning more memory on this node or reducing task parallelism by requesting more CPUs per task. To adjust the kill threshold, set the environment variable `RAY_memory_usage_threshold` when starting Ray. To disable worker killing, set the environment variable `RAY_memory_monitor_refresh_ms` to zero.\n"
     ]
    },
    {
     "name": "stdout",
     "output_type": "stream",
     "text": [
      "Client finshed: 54\n"
     ]
    },
    {
     "name": "stderr",
     "output_type": "stream",
     "text": [
      "25063 DEBUG flwr 2023-03-23 11:24:16,792 | ray_client_proxy.py:87 | Task was killed due to the node running low on memory.\n",
      "Memory on the node (IP: 10.9.7.124, ID: ea2b13587c2e9d625b361e52dc5f78b8a73caf22d99d8e18efd742df) where the task (task ID: 59ef52b95d29b9d5b15eb9d582f0d9be720d7db601000000, name=launch_and_fit, pid=592719, memory used=0.05GB) was running was 7.28GB / 7.65GB (0.951686), which exceeds the memory usage threshold of 0.95. Ray killed this worker (ID: 4180b629c92beb31b74a1aa03346a0d6600f9ef38a3651dbbfc2159a) because it was the most recently scheduled task; to see more information about memory usage on this node, use `ray logs raylet.out -ip 10.9.7.124`. To see the logs of the worker, use `ray logs worker-4180b629c92beb31b74a1aa03346a0d6600f9ef38a3651dbbfc2159a*out -ip 10.9.7.124. Top 10 memory users:\n",
      "PID\tMEM(GB)\tCOMMAND\n",
      "1968\t0.65\t/usr/lib/electron19/electron /home/wash/.vscode-oss/extensions/streetsidesoftware.code-spell-checker...\n",
      "1868\t0.60\t/usr/lib/electron19/electron /usr/lib/code/out/bootstrap-fork --type=fileWatcher\n",
      "25063\t0.57\t/home/wash/LARGE/Work/L361_project/flower_fedbuff_project/venv/bin/python -m ipykernel_launcher --ip...\n",
      "1831\t0.48\t/usr/lib/electron19/electron --inspect-port=0 /usr/lib/code/out/bootstrap-fork --type=extensionHost ...\n",
      "1793\t0.38\t/usr/lib/electron19/electron --type=renderer --enable-crashpad --crashpad-handler-pid=1740 --enable-...\n",
      "457644\t0.32\t/usr/lib/firefox/firefox\n",
      "1999\t0.22\t/home/wash/LARGE/Work/L361_project/flower_fedbuff_project/venv/bin/python /home/wash/.vscode-oss/ext...\n",
      "458911\t0.20\t/usr/lib/firefox/firefox -contentproc -childID 9 -isForBrowser -prefsLen 30823 -prefMapSize 248609 -...\n",
      "2011\t0.16\t/home/wash/LARGE/Work/L361_project/flower_fedbuff_project/venv/bin/python /home/wash/.vscode-oss/ext...\n",
      "518848\t0.15\tpython\n",
      "Refer to the documentation on how to address the out of memory issue: https://docs.ray.io/en/latest/ray-core/scheduling/ray-oom-prevention.html. Consider provisioning more memory on this node or reducing task parallelism by requesting more CPUs per task. To adjust the kill threshold, set the environment variable `RAY_memory_usage_threshold` when starting Ray. To disable worker killing, set the environment variable `RAY_memory_monitor_refresh_ms` to zero.\n"
     ]
    },
    {
     "name": "stdout",
     "output_type": "stream",
     "text": [
      "Client finshed: 36\n"
     ]
    },
    {
     "name": "stderr",
     "output_type": "stream",
     "text": [
      "\u001b[2m\u001b[36m(launch_and_fit pid=592359)\u001b[0m Traceback (most recent call last):\n",
      "\u001b[2m\u001b[36m(launch_and_fit pid=592359)\u001b[0m   File \"/usr/lib/python3.10/multiprocessing/resource_sharer.py\", line 138, in _serve\n",
      "\u001b[2m\u001b[36m(launch_and_fit pid=592359)\u001b[0m     with self._listener.accept() as conn:\n",
      "\u001b[2m\u001b[36m(launch_and_fit pid=592359)\u001b[0m   File \"/usr/lib/python3.10/multiprocessing/connection.py\", line 465, in accept\n",
      "\u001b[2m\u001b[36m(launch_and_fit pid=592359)\u001b[0m     deliver_challenge(c, self._authkey)\n",
      "\u001b[2m\u001b[36m(launch_and_fit pid=592359)\u001b[0m   File \"/usr/lib/python3.10/multiprocessing/connection.py\", line 740, in deliver_challenge\n",
      "\u001b[2m\u001b[36m(launch_and_fit pid=592359)\u001b[0m     response = connection.recv_bytes(256)        # reject large message\n",
      "\u001b[2m\u001b[36m(launch_and_fit pid=592359)\u001b[0m   File \"/usr/lib/python3.10/multiprocessing/connection.py\", line 216, in recv_bytes\n",
      "\u001b[2m\u001b[36m(launch_and_fit pid=592359)\u001b[0m     buf = self._recv_bytes(maxlength)\n",
      "\u001b[2m\u001b[36m(launch_and_fit pid=592359)\u001b[0m   File \"/usr/lib/python3.10/multiprocessing/connection.py\", line 414, in _recv_bytes\n",
      "\u001b[2m\u001b[36m(launch_and_fit pid=592359)\u001b[0m     buf = self._recv(4)\n",
      "\u001b[2m\u001b[36m(launch_and_fit pid=592359)\u001b[0m   File \"/usr/lib/python3.10/multiprocessing/connection.py\", line 379, in _recv\n",
      "\u001b[2m\u001b[36m(launch_and_fit pid=592359)\u001b[0m     chunk = read(handle, remaining)\n",
      "\u001b[2m\u001b[36m(launch_and_fit pid=592359)\u001b[0m ConnectionResetError: [Errno 104] Connection reset by peer\n"
     ]
    },
    {
     "name": "stdout",
     "output_type": "stream",
     "text": [
      "Client finshed: 74\n",
      "Client finshed: 49\n",
      "Client finshed: 59\n"
     ]
    },
    {
     "name": "stderr",
     "output_type": "stream",
     "text": [
      "25063 DEBUG flwr 2023-03-23 11:24:18,431 | server.py:461 | Received enough responses from clients\n",
      "25063 DEBUG flwr 2023-03-23 11:24:18,442 | server.py:279 | fit_round 24 received 5 results and 2 failures\n"
     ]
    },
    {
     "name": "stdout",
     "output_type": "stream",
     "text": [
      "Client finshed: 50\n",
      "These clients sent updates: [('85', 4), ('74', 3), ('49', 3), ('59', 2), ('50', 2)]\n",
      "These clients failed: ['54', '36']\n"
     ]
    },
    {
     "name": "stderr",
     "output_type": "stream",
     "text": [
      "25063 DEBUG flwr 2023-03-23 11:24:18,914 | ray_client_proxy.py:87 | Task was killed due to the node running low on memory.\n",
      "Memory on the node (IP: 10.9.7.124, ID: ea2b13587c2e9d625b361e52dc5f78b8a73caf22d99d8e18efd742df) where the task (task ID: 1e54d8f5b3b25d2f4fb05f01f6cea49de07aae4201000000, name=launch_and_fit, pid=593281, memory used=0.05GB) was running was 7.35GB / 7.65GB (0.961145), which exceeds the memory usage threshold of 0.95. Ray killed this worker (ID: 641ba6d9fadf6a3ec0e372daa89c39529e3a7d0b82a16178599472d7) because it was the most recently scheduled task; to see more information about memory usage on this node, use `ray logs raylet.out -ip 10.9.7.124`. To see the logs of the worker, use `ray logs worker-641ba6d9fadf6a3ec0e372daa89c39529e3a7d0b82a16178599472d7*out -ip 10.9.7.124. Top 10 memory users:\n",
      "PID\tMEM(GB)\tCOMMAND\n",
      "1868\t0.60\t/usr/lib/electron19/electron /usr/lib/code/out/bootstrap-fork --type=fileWatcher\n",
      "25063\t0.57\t/home/wash/LARGE/Work/L361_project/flower_fedbuff_project/venv/bin/python -m ipykernel_launcher --ip...\n",
      "1831\t0.53\t/usr/lib/electron19/electron --inspect-port=0 /usr/lib/code/out/bootstrap-fork --type=extensionHost ...\n",
      "1793\t0.38\t/usr/lib/electron19/electron --type=renderer --enable-crashpad --crashpad-handler-pid=1740 --enable-...\n",
      "457644\t0.32\t/usr/lib/firefox/firefox\n",
      "1968\t0.23\t/usr/lib/electron19/electron /home/wash/.vscode-oss/extensions/streetsidesoftware.code-spell-checker...\n",
      "1999\t0.22\t/home/wash/LARGE/Work/L361_project/flower_fedbuff_project/venv/bin/python /home/wash/.vscode-oss/ext...\n",
      "592065\t0.21\tray::IDLE\n",
      "593311\t0.21\tray::launch_and_fit\n",
      "458911\t0.20\t/usr/lib/firefox/firefox -contentproc -childID 9 -isForBrowser -prefsLen 30823 -prefMapSize 248609 -...\n",
      "Refer to the documentation on how to address the out of memory issue: https://docs.ray.io/en/latest/ray-core/scheduling/ray-oom-prevention.html. Consider provisioning more memory on this node or reducing task parallelism by requesting more CPUs per task. To adjust the kill threshold, set the environment variable `RAY_memory_usage_threshold` when starting Ray. To disable worker killing, set the environment variable `RAY_memory_monitor_refresh_ms` to zero.\n",
      "25063 DEBUG flwr 2023-03-23 11:24:19,611 | ray_client_proxy.py:87 | Task was killed due to the node running low on memory.\n",
      "Memory on the node (IP: 10.9.7.124, ID: ea2b13587c2e9d625b361e52dc5f78b8a73caf22d99d8e18efd742df) where the task (task ID: f075e5bd50b3a4de872ace0cad51d37bbfebaec101000000, name=launch_and_fit, pid=593400, memory used=0.05GB) was running was 7.36GB / 7.65GB (0.961948), which exceeds the memory usage threshold of 0.95. Ray killed this worker (ID: dc7ec43060be4230434fb35813596939ca020e1b826b43b372622543) because it was the most recently scheduled task; to see more information about memory usage on this node, use `ray logs raylet.out -ip 10.9.7.124`. To see the logs of the worker, use `ray logs worker-dc7ec43060be4230434fb35813596939ca020e1b826b43b372622543*out -ip 10.9.7.124. Top 10 memory users:\n",
      "PID\tMEM(GB)\tCOMMAND\n",
      "1968\t0.69\t/usr/lib/electron19/electron /home/wash/.vscode-oss/extensions/streetsidesoftware.code-spell-checker...\n",
      "1868\t0.60\t/usr/lib/electron19/electron /usr/lib/code/out/bootstrap-fork --type=fileWatcher\n",
      "25063\t0.57\t/home/wash/LARGE/Work/L361_project/flower_fedbuff_project/venv/bin/python -m ipykernel_launcher --ip...\n",
      "1831\t0.52\t/usr/lib/electron19/electron --inspect-port=0 /usr/lib/code/out/bootstrap-fork --type=extensionHost ...\n",
      "1793\t0.38\t/usr/lib/electron19/electron --type=renderer --enable-crashpad --crashpad-handler-pid=1740 --enable-...\n",
      "457644\t0.32\t/usr/lib/firefox/firefox\n",
      "1999\t0.22\t/home/wash/LARGE/Work/L361_project/flower_fedbuff_project/venv/bin/python /home/wash/.vscode-oss/ext...\n",
      "592065\t0.21\tray::IDLE\n",
      "593311\t0.21\tray::launch_and_fit\n",
      "458911\t0.20\t/usr/lib/firefox/firefox -contentproc -childID 9 -isForBrowser -prefsLen 30823 -prefMapSize 248609 -...\n",
      "Refer to the documentation on how to address the out of memory issue: https://docs.ray.io/en/latest/ray-core/scheduling/ray-oom-prevention.html. Consider provisioning more memory on this node or reducing task parallelism by requesting more CPUs per task. To adjust the kill threshold, set the environment variable `RAY_memory_usage_threshold` when starting Ray. To disable worker killing, set the environment variable `RAY_memory_monitor_refresh_ms` to zero.\n",
      "25063 DEBUG flwr 2023-03-23 11:24:20,434 | ray_client_proxy.py:87 | Task was killed due to the node running low on memory.\n",
      "Memory on the node (IP: 10.9.7.124, ID: ea2b13587c2e9d625b361e52dc5f78b8a73caf22d99d8e18efd742df) where the task (task ID: 3381bf22045797e49073af10f53a4e57233c2d1901000000, name=launch_and_fit, pid=593538, memory used=0.05GB) was running was 7.44GB / 7.65GB (0.97283), which exceeds the memory usage threshold of 0.95. Ray killed this worker (ID: 74d489125e08a81f9a7360b0d01bb9b79396d5190b0852e5465e04b9) because it was the most recently scheduled task; to see more information about memory usage on this node, use `ray logs raylet.out -ip 10.9.7.124`. To see the logs of the worker, use `ray logs worker-74d489125e08a81f9a7360b0d01bb9b79396d5190b0852e5465e04b9*out -ip 10.9.7.124. Top 10 memory users:\n",
      "PID\tMEM(GB)\tCOMMAND\n",
      "1968\t0.67\t/usr/lib/electron19/electron /home/wash/.vscode-oss/extensions/streetsidesoftware.code-spell-checker...\n",
      "1868\t0.60\t/usr/lib/electron19/electron /usr/lib/code/out/bootstrap-fork --type=fileWatcher\n",
      "1831\t0.57\t/usr/lib/electron19/electron --inspect-port=0 /usr/lib/code/out/bootstrap-fork --type=extensionHost ...\n",
      "25063\t0.57\t/home/wash/LARGE/Work/L361_project/flower_fedbuff_project/venv/bin/python -m ipykernel_launcher --ip...\n",
      "1793\t0.38\t/usr/lib/electron19/electron --type=renderer --enable-crashpad --crashpad-handler-pid=1740 --enable-...\n",
      "457644\t0.32\t/usr/lib/firefox/firefox\n",
      "1999\t0.22\t/home/wash/LARGE/Work/L361_project/flower_fedbuff_project/venv/bin/python /home/wash/.vscode-oss/ext...\n",
      "592065\t0.21\tray::IDLE\n",
      "593311\t0.21\tray::launch_and_fit\n",
      "458911\t0.20\t/usr/lib/firefox/firefox -contentproc -childID 9 -isForBrowser -prefsLen 30823 -prefMapSize 248609 -...\n",
      "Refer to the documentation on how to address the out of memory issue: https://docs.ray.io/en/latest/ray-core/scheduling/ray-oom-prevention.html. Consider provisioning more memory on this node or reducing task parallelism by requesting more CPUs per task. To adjust the kill threshold, set the environment variable `RAY_memory_usage_threshold` when starting Ray. To disable worker killing, set the environment variable `RAY_memory_monitor_refresh_ms` to zero.\n",
      "25063 DEBUG flwr 2023-03-23 11:24:21,097 | ray_client_proxy.py:87 | Task was killed due to the node running low on memory.\n",
      "Memory on the node (IP: 10.9.7.124, ID: ea2b13587c2e9d625b361e52dc5f78b8a73caf22d99d8e18efd742df) where the task (task ID: 59cac9eeb22a06e52d59cb91fbc3082221137f0101000000, name=launch_and_fit, pid=593564, memory used=0.05GB) was running was 7.46GB / 7.65GB (0.975041), which exceeds the memory usage threshold of 0.95. Ray killed this worker (ID: 73a95e22c98dece963995eada1bf5c9c5dc9d42b2847133419eeec97) because it was the most recently scheduled task; to see more information about memory usage on this node, use `ray logs raylet.out -ip 10.9.7.124`. To see the logs of the worker, use `ray logs worker-73a95e22c98dece963995eada1bf5c9c5dc9d42b2847133419eeec97*out -ip 10.9.7.124. Top 10 memory users:\n",
      "PID\tMEM(GB)\tCOMMAND\n",
      "1968\t0.67\t/usr/lib/electron19/electron /home/wash/.vscode-oss/extensions/streetsidesoftware.code-spell-checker...\n",
      "1868\t0.60\t/usr/lib/electron19/electron /usr/lib/code/out/bootstrap-fork --type=fileWatcher\n",
      "1831\t0.58\t/usr/lib/electron19/electron --inspect-port=0 /usr/lib/code/out/bootstrap-fork --type=extensionHost ...\n",
      "25063\t0.57\t/home/wash/LARGE/Work/L361_project/flower_fedbuff_project/venv/bin/python -m ipykernel_launcher --ip...\n",
      "1793\t0.38\t/usr/lib/electron19/electron --type=renderer --enable-crashpad --crashpad-handler-pid=1740 --enable-...\n",
      "457644\t0.32\t/usr/lib/firefox/firefox\n",
      "1999\t0.22\t/home/wash/LARGE/Work/L361_project/flower_fedbuff_project/venv/bin/python /home/wash/.vscode-oss/ext...\n",
      "592065\t0.21\tray::IDLE\n",
      "593311\t0.21\tray::launch_and_fit\n",
      "458911\t0.20\t/usr/lib/firefox/firefox -contentproc -childID 9 -isForBrowser -prefsLen 30823 -prefMapSize 248609 -...\n",
      "Refer to the documentation on how to address the out of memory issue: https://docs.ray.io/en/latest/ray-core/scheduling/ray-oom-prevention.html. Consider provisioning more memory on this node or reducing task parallelism by requesting more CPUs per task. To adjust the kill threshold, set the environment variable `RAY_memory_usage_threshold` when starting Ray. To disable worker killing, set the environment variable `RAY_memory_monitor_refresh_ms` to zero.\n",
      "25063 DEBUG flwr 2023-03-23 11:24:21,570 | ray_client_proxy.py:87 | Task was killed due to the node running low on memory.\n",
      "Memory on the node (IP: 10.9.7.124, ID: ea2b13587c2e9d625b361e52dc5f78b8a73caf22d99d8e18efd742df) where the task (task ID: e44409990ebd9834fa7e704a2f41fb34fa0bb73401000000, name=launch_and_fit, pid=593611, memory used=0.05GB) was running was 7.53GB / 7.65GB (0.984322), which exceeds the memory usage threshold of 0.95. Ray killed this worker (ID: b608d4072a6fec06164497719b1362aec4a42fd041d37e02f5520db2) because it was the most recently scheduled task; to see more information about memory usage on this node, use `ray logs raylet.out -ip 10.9.7.124`. To see the logs of the worker, use `ray logs worker-b608d4072a6fec06164497719b1362aec4a42fd041d37e02f5520db2*out -ip 10.9.7.124. Top 10 memory users:\n",
      "PID\tMEM(GB)\tCOMMAND\n",
      "1968\t0.72\t/usr/lib/electron19/electron /home/wash/.vscode-oss/extensions/streetsidesoftware.code-spell-checker...\n",
      "1868\t0.60\t/usr/lib/electron19/electron /usr/lib/code/out/bootstrap-fork --type=fileWatcher\n",
      "25063\t0.57\t/home/wash/LARGE/Work/L361_project/flower_fedbuff_project/venv/bin/python -m ipykernel_launcher --ip...\n",
      "1831\t0.51\t/usr/lib/electron19/electron --inspect-port=0 /usr/lib/code/out/bootstrap-fork --type=extensionHost ...\n",
      "1793\t0.38\t/usr/lib/electron19/electron --type=renderer --enable-crashpad --crashpad-handler-pid=1740 --enable-...\n",
      "457644\t0.32\t/usr/lib/firefox/firefox\n",
      "1999\t0.22\t/home/wash/LARGE/Work/L361_project/flower_fedbuff_project/venv/bin/python /home/wash/.vscode-oss/ext...\n",
      "593311\t0.21\tray::launch_and_fit\n",
      "592065\t0.21\tray::IDLE\n",
      "593432\t0.20\tray::launch_and_fit\n",
      "Refer to the documentation on how to address the out of memory issue: https://docs.ray.io/en/latest/ray-core/scheduling/ray-oom-prevention.html. Consider provisioning more memory on this node or reducing task parallelism by requesting more CPUs per task. To adjust the kill threshold, set the environment variable `RAY_memory_usage_threshold` when starting Ray. To disable worker killing, set the environment variable `RAY_memory_monitor_refresh_ms` to zero.\n",
      "25063 DEBUG flwr 2023-03-23 11:24:22,058 | ray_client_proxy.py:87 | Task was killed due to the node running low on memory.\n",
      "Memory on the node (IP: 10.9.7.124, ID: ea2b13587c2e9d625b361e52dc5f78b8a73caf22d99d8e18efd742df) where the task (task ID: b566187087ce125d2150ea1be184238a1ed29b6001000000, name=launch_and_fit, pid=593646, memory used=0.05GB) was running was 7.53GB / 7.65GB (0.984214), which exceeds the memory usage threshold of 0.95. Ray killed this worker (ID: e8bf8c18bda6f85b108b679cdcf54e405b98546361c9d9acd183285a) because it was the most recently scheduled task; to see more information about memory usage on this node, use `ray logs raylet.out -ip 10.9.7.124`. To see the logs of the worker, use `ray logs worker-e8bf8c18bda6f85b108b679cdcf54e405b98546361c9d9acd183285a*out -ip 10.9.7.124. Top 10 memory users:\n",
      "PID\tMEM(GB)\tCOMMAND\n",
      "1968\t0.71\t/usr/lib/electron19/electron /home/wash/.vscode-oss/extensions/streetsidesoftware.code-spell-checker...\n",
      "1831\t0.63\t/usr/lib/electron19/electron --inspect-port=0 /usr/lib/code/out/bootstrap-fork --type=extensionHost ...\n",
      "1868\t0.60\t/usr/lib/electron19/electron /usr/lib/code/out/bootstrap-fork --type=fileWatcher\n",
      "25063\t0.58\t/home/wash/LARGE/Work/L361_project/flower_fedbuff_project/venv/bin/python -m ipykernel_launcher --ip...\n",
      "1793\t0.38\t/usr/lib/electron19/electron --type=renderer --enable-crashpad --crashpad-handler-pid=1740 --enable-...\n",
      "457644\t0.32\t/usr/lib/firefox/firefox\n",
      "1999\t0.22\t/home/wash/LARGE/Work/L361_project/flower_fedbuff_project/venv/bin/python /home/wash/.vscode-oss/ext...\n",
      "593311\t0.21\tray::launch_and_fit\n",
      "592065\t0.21\tray::IDLE\n",
      "593432\t0.20\tray::launch_and_fit\n",
      "Refer to the documentation on how to address the out of memory issue: https://docs.ray.io/en/latest/ray-core/scheduling/ray-oom-prevention.html. Consider provisioning more memory on this node or reducing task parallelism by requesting more CPUs per task. To adjust the kill threshold, set the environment variable `RAY_memory_usage_threshold` when starting Ray. To disable worker killing, set the environment variable `RAY_memory_monitor_refresh_ms` to zero.\n",
      "25063 DEBUG flwr 2023-03-23 11:24:22,492 | ray_client_proxy.py:87 | Task was killed due to the node running low on memory.\n",
      "Memory on the node (IP: 10.9.7.124, ID: ea2b13587c2e9d625b361e52dc5f78b8a73caf22d99d8e18efd742df) where the task (task ID: 113d8120ce5a5102a6e8e1df08ec87e740488a8001000000, name=launch_and_fit, pid=592359, memory used=0.02GB) was running was 7.33GB / 7.65GB (0.957871), which exceeds the memory usage threshold of 0.95. Ray killed this worker (ID: 5862dd33e76a17400efbc018892098de9e70fe01c552802a8a256ef1) because it was the most recently scheduled task; to see more information about memory usage on this node, use `ray logs raylet.out -ip 10.9.7.124`. To see the logs of the worker, use `ray logs worker-5862dd33e76a17400efbc018892098de9e70fe01c552802a8a256ef1*out -ip 10.9.7.124. Top 10 memory users:\n",
      "PID\tMEM(GB)\tCOMMAND\n",
      "1868\t0.60\t/usr/lib/electron19/electron /usr/lib/code/out/bootstrap-fork --type=fileWatcher\n",
      "1968\t0.59\t/usr/lib/electron19/electron /home/wash/.vscode-oss/extensions/streetsidesoftware.code-spell-checker...\n",
      "25063\t0.57\t/home/wash/LARGE/Work/L361_project/flower_fedbuff_project/venv/bin/python -m ipykernel_launcher --ip...\n",
      "1831\t0.52\t/usr/lib/electron19/electron --inspect-port=0 /usr/lib/code/out/bootstrap-fork --type=extensionHost ...\n",
      "1793\t0.38\t/usr/lib/electron19/electron --type=renderer --enable-crashpad --crashpad-handler-pid=1740 --enable-...\n",
      "457644\t0.32\t/usr/lib/firefox/firefox\n",
      "1999\t0.22\t/home/wash/LARGE/Work/L361_project/flower_fedbuff_project/venv/bin/python /home/wash/.vscode-oss/ext...\n",
      "458911\t0.20\t/usr/lib/firefox/firefox -contentproc -childID 9 -isForBrowser -prefsLen 30823 -prefMapSize 248609 -...\n",
      "2011\t0.16\t/home/wash/LARGE/Work/L361_project/flower_fedbuff_project/venv/bin/python /home/wash/.vscode-oss/ext...\n",
      "518848\t0.15\tpython\n",
      "Refer to the documentation on how to address the out of memory issue: https://docs.ray.io/en/latest/ray-core/scheduling/ray-oom-prevention.html. Consider provisioning more memory on this node or reducing task parallelism by requesting more CPUs per task. To adjust the kill threshold, set the environment variable `RAY_memory_usage_threshold` when starting Ray. To disable worker killing, set the environment variable `RAY_memory_monitor_refresh_ms` to zero.\n",
      "25063 DEBUG flwr 2023-03-23 11:24:22,501 | ray_client_proxy.py:87 | Task was killed due to the node running low on memory.\n",
      "Memory on the node (IP: 10.9.7.124, ID: ea2b13587c2e9d625b361e52dc5f78b8a73caf22d99d8e18efd742df) where the task (task ID: 1f9aef5a0aaa38e3589abab37dbbbbd75882200801000000, name=launch_and_fit, pid=593610, memory used=0.05GB) was running was 7.50GB / 7.65GB (0.980674), which exceeds the memory usage threshold of 0.95. Ray killed this worker (ID: 6206b0d12cce226d8309789a010d55638a80feb89ebc55f766a6521a) because it was the most recently scheduled task; to see more information about memory usage on this node, use `ray logs raylet.out -ip 10.9.7.124`. To see the logs of the worker, use `ray logs worker-6206b0d12cce226d8309789a010d55638a80feb89ebc55f766a6521a*out -ip 10.9.7.124. Top 10 memory users:\n",
      "PID\tMEM(GB)\tCOMMAND\n",
      "1968\t0.71\t/usr/lib/electron19/electron /home/wash/.vscode-oss/extensions/streetsidesoftware.code-spell-checker...\n",
      "1831\t0.63\t/usr/lib/electron19/electron --inspect-port=0 /usr/lib/code/out/bootstrap-fork --type=extensionHost ...\n",
      "1868\t0.60\t/usr/lib/electron19/electron /usr/lib/code/out/bootstrap-fork --type=fileWatcher\n",
      "25063\t0.57\t/home/wash/LARGE/Work/L361_project/flower_fedbuff_project/venv/bin/python -m ipykernel_launcher --ip...\n",
      "1793\t0.39\t/usr/lib/electron19/electron --type=renderer --enable-crashpad --crashpad-handler-pid=1740 --enable-...\n",
      "457644\t0.32\t/usr/lib/firefox/firefox\n",
      "1999\t0.22\t/home/wash/LARGE/Work/L361_project/flower_fedbuff_project/venv/bin/python /home/wash/.vscode-oss/ext...\n",
      "458911\t0.20\t/usr/lib/firefox/firefox -contentproc -childID 9 -isForBrowser -prefsLen 30823 -prefMapSize 248609 -...\n",
      "592065\t0.20\tray::IDLE\n",
      "593432\t0.20\tray::launch_and_fit\n",
      "Refer to the documentation on how to address the out of memory issue: https://docs.ray.io/en/latest/ray-core/scheduling/ray-oom-prevention.html. Consider provisioning more memory on this node or reducing task parallelism by requesting more CPUs per task. To adjust the kill threshold, set the environment variable `RAY_memory_usage_threshold` when starting Ray. To disable worker killing, set the environment variable `RAY_memory_monitor_refresh_ms` to zero.\n",
      "25063 DEBUG flwr 2023-03-23 11:24:23,075 | ray_client_proxy.py:87 | Task was killed due to the node running low on memory.\n",
      "Memory on the node (IP: 10.9.7.124, ID: ea2b13587c2e9d625b361e52dc5f78b8a73caf22d99d8e18efd742df) where the task (task ID: dc3862a306c7075e70f7e49b0704ba10773b174101000000, name=launch_and_fit, pid=592362, memory used=0.02GB) was running was 7.30GB / 7.65GB (0.954621), which exceeds the memory usage threshold of 0.95. Ray killed this worker (ID: c3360a91327796c14eba65344ac56da137c3880ff4c5387eb8bd7289) because it was the most recently scheduled task; to see more information about memory usage on this node, use `ray logs raylet.out -ip 10.9.7.124`. To see the logs of the worker, use `ray logs worker-c3360a91327796c14eba65344ac56da137c3880ff4c5387eb8bd7289*out -ip 10.9.7.124. Top 10 memory users:\n",
      "PID\tMEM(GB)\tCOMMAND\n",
      "1968\t0.65\t/usr/lib/electron19/electron /home/wash/.vscode-oss/extensions/streetsidesoftware.code-spell-checker...\n",
      "1868\t0.60\t/usr/lib/electron19/electron /usr/lib/code/out/bootstrap-fork --type=fileWatcher\n",
      "25063\t0.57\t/home/wash/LARGE/Work/L361_project/flower_fedbuff_project/venv/bin/python -m ipykernel_launcher --ip...\n",
      "1831\t0.53\t/usr/lib/electron19/electron --inspect-port=0 /usr/lib/code/out/bootstrap-fork --type=extensionHost ...\n",
      "1793\t0.38\t/usr/lib/electron19/electron --type=renderer --enable-crashpad --crashpad-handler-pid=1740 --enable-...\n",
      "457644\t0.32\t/usr/lib/firefox/firefox\n",
      "1999\t0.22\t/home/wash/LARGE/Work/L361_project/flower_fedbuff_project/venv/bin/python /home/wash/.vscode-oss/ext...\n",
      "593311\t0.21\tray::launch_and_fit\n",
      "458911\t0.20\t/usr/lib/firefox/firefox -contentproc -childID 9 -isForBrowser -prefsLen 30823 -prefMapSize 248609 -...\n",
      "2011\t0.16\t/home/wash/LARGE/Work/L361_project/flower_fedbuff_project/venv/bin/python /home/wash/.vscode-oss/ext...\n",
      "Refer to the documentation on how to address the out of memory issue: https://docs.ray.io/en/latest/ray-core/scheduling/ray-oom-prevention.html. Consider provisioning more memory on this node or reducing task parallelism by requesting more CPUs per task. To adjust the kill threshold, set the environment variable `RAY_memory_usage_threshold` when starting Ray. To disable worker killing, set the environment variable `RAY_memory_monitor_refresh_ms` to zero.\n",
      "25063 INFO flwr 2023-03-23 11:24:24,878 | server.py:140 | fit progress: (24, 347.0441002845764, {'accuracy': 0.3708}, 232.48565569199945)\n",
      "25063 INFO flwr 2023-03-23 11:24:24,879 | server.py:190 | evaluate_round 24: no clients selected, cancel\n",
      "25063 DEBUG flwr 2023-03-23 11:24:24,884 | server.py:255 | fit_round 25: strategy sampled 7 clients (out of 100)\n",
      "25063 DEBUG flwr 2023-03-23 11:24:24,884 | server.py:435 | Sending instructions to clients\n"
     ]
    },
    {
     "name": "stdout",
     "output_type": "stream",
     "text": [
      "Working out which clients to instruct\n",
      "Want 7 more clients, minimum 7\n",
      "Selected clients = ['57', '88', '16', '34', '91', '83', '12']\n",
      "Client finshed: 28\n",
      "Client finshed: 58\n",
      "Client finshed: 93\n",
      "Client finshed: 64\n",
      "Client finshed: 37\n",
      "Client finshed: 56\n",
      "Client finshed: 70\n",
      "Client finshed: 33\n",
      "Client finshed: 7\n",
      "Client finshed: 13\n"
     ]
    },
    {
     "name": "stderr",
     "output_type": "stream",
     "text": [
      "\u001b[2m\u001b[33m(raylet)\u001b[0m [2023-03-23 11:24:27,122 E 569351 569351] (raylet) node_manager.cc:3040: 13 Workers (tasks / actors) killed due to memory pressure (OOM), 0 Workers crashed due to other reasons at node (ID: ea2b13587c2e9d625b361e52dc5f78b8a73caf22d99d8e18efd742df, IP: 10.9.7.124) over the last time period. To see more information about the Workers killed on this node, use `ray logs raylet.out -ip 10.9.7.124`\n",
      "\u001b[2m\u001b[33m(raylet)\u001b[0m \n",
      "\u001b[2m\u001b[33m(raylet)\u001b[0m Refer to the documentation on how to address the out of memory issue: https://docs.ray.io/en/latest/ray-core/scheduling/ray-oom-prevention.html. Consider provisioning more memory on this node or reducing task parallelism by requesting more CPUs per task. To adjust the kill threshold, set the environment variable `RAY_memory_usage_threshold` when starting Ray. To disable worker killing, set the environment variable `RAY_memory_monitor_refresh_ms` to zero.\n"
     ]
    },
    {
     "name": "stdout",
     "output_type": "stream",
     "text": [
      "Client finshed: 22\n",
      "Client finshed: 11\n",
      "Client finshed: 67\n"
     ]
    },
    {
     "name": "stderr",
     "output_type": "stream",
     "text": [
      "25063 DEBUG flwr 2023-03-23 11:24:31,823 | ray_client_proxy.py:87 | Task was killed due to the node running low on memory.\n",
      "Memory on the node (IP: 10.9.7.124, ID: ea2b13587c2e9d625b361e52dc5f78b8a73caf22d99d8e18efd742df) where the task (task ID: 4cb95023aef4c6429b4a2206fa05e56dd2ad158101000000, name=launch_and_fit, pid=594603, memory used=0.06GB) was running was 7.35GB / 7.65GB (0.961425), which exceeds the memory usage threshold of 0.95. Ray killed this worker (ID: e5e6f7f2fed3d1b9547b07878487396efaac036216d7810a479593a8) because it was the most recently scheduled task; to see more information about memory usage on this node, use `ray logs raylet.out -ip 10.9.7.124`. To see the logs of the worker, use `ray logs worker-e5e6f7f2fed3d1b9547b07878487396efaac036216d7810a479593a8*out -ip 10.9.7.124. Top 10 memory users:\n",
      "PID\tMEM(GB)\tCOMMAND\n",
      "1968\t0.73\t/usr/lib/electron19/electron /home/wash/.vscode-oss/extensions/streetsidesoftware.code-spell-checker...\n",
      "1868\t0.60\t/usr/lib/electron19/electron /usr/lib/code/out/bootstrap-fork --type=fileWatcher\n",
      "25063\t0.57\t/home/wash/LARGE/Work/L361_project/flower_fedbuff_project/venv/bin/python -m ipykernel_launcher --ip...\n",
      "1793\t0.39\t/usr/lib/electron19/electron --type=renderer --enable-crashpad --crashpad-handler-pid=1740 --enable-...\n",
      "457644\t0.32\t/usr/lib/firefox/firefox\n",
      "1831\t0.23\t/usr/lib/electron19/electron --inspect-port=0 /usr/lib/code/out/bootstrap-fork --type=extensionHost ...\n",
      "1999\t0.22\t/home/wash/LARGE/Work/L361_project/flower_fedbuff_project/venv/bin/python /home/wash/.vscode-oss/ext...\n",
      "593612\t0.21\tray::IDLE\n",
      "458911\t0.21\t/usr/lib/firefox/firefox -contentproc -childID 9 -isForBrowser -prefsLen 30823 -prefMapSize 248609 -...\n",
      "593599\t0.21\tray::IDLE\n",
      "Refer to the documentation on how to address the out of memory issue: https://docs.ray.io/en/latest/ray-core/scheduling/ray-oom-prevention.html. Consider provisioning more memory on this node or reducing task parallelism by requesting more CPUs per task. To adjust the kill threshold, set the environment variable `RAY_memory_usage_threshold` when starting Ray. To disable worker killing, set the environment variable `RAY_memory_monitor_refresh_ms` to zero.\n"
     ]
    },
    {
     "name": "stdout",
     "output_type": "stream",
     "text": [
      "Client finshed: 88\n"
     ]
    },
    {
     "name": "stderr",
     "output_type": "stream",
     "text": [
      "25063 DEBUG flwr 2023-03-23 11:24:32,328 | ray_client_proxy.py:87 | Task was killed due to the node running low on memory.\n",
      "Memory on the node (IP: 10.9.7.124, ID: ea2b13587c2e9d625b361e52dc5f78b8a73caf22d99d8e18efd742df) where the task (task ID: 10329c95997b8ba0d54503a904437e315c57c90701000000, name=launch_and_fit, pid=594594, memory used=0.06GB) was running was 7.33GB / 7.65GB (0.957821), which exceeds the memory usage threshold of 0.95. Ray killed this worker (ID: 4ce4e3f7ec6f936a8b34afc6fdf635b56bc95d3940bfb9f89b6f902e) because it was the most recently scheduled task; to see more information about memory usage on this node, use `ray logs raylet.out -ip 10.9.7.124`. To see the logs of the worker, use `ray logs worker-4ce4e3f7ec6f936a8b34afc6fdf635b56bc95d3940bfb9f89b6f902e*out -ip 10.9.7.124. Top 10 memory users:\n",
      "PID\tMEM(GB)\tCOMMAND\n",
      "1968\t0.73\t/usr/lib/electron19/electron /home/wash/.vscode-oss/extensions/streetsidesoftware.code-spell-checker...\n",
      "1868\t0.60\t/usr/lib/electron19/electron /usr/lib/code/out/bootstrap-fork --type=fileWatcher\n",
      "25063\t0.57\t/home/wash/LARGE/Work/L361_project/flower_fedbuff_project/venv/bin/python -m ipykernel_launcher --ip...\n",
      "1793\t0.40\t/usr/lib/electron19/electron --type=renderer --enable-crashpad --crashpad-handler-pid=1740 --enable-...\n",
      "457644\t0.32\t/usr/lib/firefox/firefox\n",
      "1831\t0.23\t/usr/lib/electron19/electron --inspect-port=0 /usr/lib/code/out/bootstrap-fork --type=extensionHost ...\n",
      "1999\t0.22\t/home/wash/LARGE/Work/L361_project/flower_fedbuff_project/venv/bin/python /home/wash/.vscode-oss/ext...\n",
      "593612\t0.22\tray::IDLE\n",
      "458911\t0.21\t/usr/lib/firefox/firefox -contentproc -childID 9 -isForBrowser -prefsLen 30823 -prefMapSize 248609 -...\n",
      "593599\t0.20\tray::IDLE\n",
      "Refer to the documentation on how to address the out of memory issue: https://docs.ray.io/en/latest/ray-core/scheduling/ray-oom-prevention.html. Consider provisioning more memory on this node or reducing task parallelism by requesting more CPUs per task. To adjust the kill threshold, set the environment variable `RAY_memory_usage_threshold` when starting Ray. To disable worker killing, set the environment variable `RAY_memory_monitor_refresh_ms` to zero.\n"
     ]
    },
    {
     "name": "stdout",
     "output_type": "stream",
     "text": [
      "Client finshed: 91\n"
     ]
    },
    {
     "name": "stderr",
     "output_type": "stream",
     "text": [
      "25063 DEBUG flwr 2023-03-23 11:24:32,852 | server.py:461 | Received enough responses from clients\n",
      "25063 DEBUG flwr 2023-03-23 11:24:32,854 | server.py:279 | fit_round 25 received 5 results and 11 failures\n"
     ]
    },
    {
     "name": "stdout",
     "output_type": "stream",
     "text": [
      "Client finshed: 34\n",
      "These clients sent updates: [('93', 3), ('22', 1), ('11', 1), ('67', 1), ('34', 0)]\n",
      "These clients failed: ['28', '58', '64', '37', '56', '70', '33', '7', '13', '88', '91']\n"
     ]
    },
    {
     "name": "stderr",
     "output_type": "stream",
     "text": [
      "25063 INFO flwr 2023-03-23 11:24:36,138 | server.py:140 | fit progress: (25, 345.8586879968643, {'accuracy': 0.3647}, 243.74620339600006)\n",
      "25063 INFO flwr 2023-03-23 11:24:36,139 | server.py:190 | evaluate_round 25: no clients selected, cancel\n",
      "25063 DEBUG flwr 2023-03-23 11:24:36,142 | server.py:255 | fit_round 26: strategy sampled 16 clients (out of 100)\n",
      "25063 DEBUG flwr 2023-03-23 11:24:36,142 | server.py:435 | Sending instructions to clients\n"
     ]
    },
    {
     "name": "stdout",
     "output_type": "stream",
     "text": [
      "Working out which clients to instruct\n",
      "Want 16 more clients, minimum 16\n",
      "Selected clients = ['62', '90', '43', '99', '95', '61', '19', '53', '55', '33', '47', '48', '71', '84', '1', '6']\n",
      "Client finshed: 83\n",
      "Client finshed: 57\n",
      "Client finshed: 16\n"
     ]
    },
    {
     "name": "stderr",
     "output_type": "stream",
     "text": [
      "25063 DEBUG flwr 2023-03-23 11:24:36,350 | ray_client_proxy.py:87 | Task was killed due to the node running low on memory.\n",
      "Memory on the node (IP: 10.9.7.124, ID: ea2b13587c2e9d625b361e52dc5f78b8a73caf22d99d8e18efd742df) where the task (task ID: a84c7d14f29a5e150cc8d111a5e31adf1b89394f01000000, name=launch_and_fit, pid=593929, memory used=0.02GB) was running was 7.28GB / 7.65GB (0.951233), which exceeds the memory usage threshold of 0.95. Ray killed this worker (ID: 806ca420152d79a9e39c2fbaafc2cab60f884ada4d09cee90915da63) because it was the most recently scheduled task; to see more information about memory usage on this node, use `ray logs raylet.out -ip 10.9.7.124`. To see the logs of the worker, use `ray logs worker-806ca420152d79a9e39c2fbaafc2cab60f884ada4d09cee90915da63*out -ip 10.9.7.124. Top 10 memory users:\n",
      "PID\tMEM(GB)\tCOMMAND\n",
      "1968\t0.73\t/usr/lib/electron19/electron /home/wash/.vscode-oss/extensions/streetsidesoftware.code-spell-checker...\n",
      "1868\t0.60\t/usr/lib/electron19/electron /usr/lib/code/out/bootstrap-fork --type=fileWatcher\n",
      "25063\t0.57\t/home/wash/LARGE/Work/L361_project/flower_fedbuff_project/venv/bin/python -m ipykernel_launcher --ip...\n",
      "1793\t0.39\t/usr/lib/electron19/electron --type=renderer --enable-crashpad --crashpad-handler-pid=1740 --enable-...\n",
      "457644\t0.32\t/usr/lib/firefox/firefox\n",
      "1831\t0.23\t/usr/lib/electron19/electron --inspect-port=0 /usr/lib/code/out/bootstrap-fork --type=extensionHost ...\n",
      "1999\t0.22\t/home/wash/LARGE/Work/L361_project/flower_fedbuff_project/venv/bin/python /home/wash/.vscode-oss/ext...\n",
      "458911\t0.21\t/usr/lib/firefox/firefox -contentproc -childID 9 -isForBrowser -prefsLen 30823 -prefMapSize 248609 -...\n",
      "593599\t0.21\tray::IDLE\n",
      "593612\t0.20\tray::IDLE\n",
      "Refer to the documentation on how to address the out of memory issue: https://docs.ray.io/en/latest/ray-core/scheduling/ray-oom-prevention.html. Consider provisioning more memory on this node or reducing task parallelism by requesting more CPUs per task. To adjust the kill threshold, set the environment variable `RAY_memory_usage_threshold` when starting Ray. To disable worker killing, set the environment variable `RAY_memory_monitor_refresh_ms` to zero.\n"
     ]
    },
    {
     "name": "stdout",
     "output_type": "stream",
     "text": [
      "Client finshed: 12\n",
      "\u001b[2m\u001b[1m\u001b[33m(autoscaler +1h34m31s)\u001b[0m Warning: The following resource request cannot be scheduled right now: {'CPU': 1.0}. This is likely due to all cluster resources being claimed by actors. Consider creating fewer actors or adding more nodes to this Ray cluster.\n"
     ]
    },
    {
     "name": "stderr",
     "output_type": "stream",
     "text": [
      "\u001b[2m\u001b[36m(launch_and_fit pid=595320)\u001b[0m Traceback (most recent call last):\n",
      "\u001b[2m\u001b[36m(launch_and_fit pid=595320)\u001b[0m   File \"/usr/lib/python3.10/multiprocessing/resource_sharer.py\", line 138, in _serve\n",
      "\u001b[2m\u001b[36m(launch_and_fit pid=595320)\u001b[0m     with self._listener.accept() as conn:\n",
      "\u001b[2m\u001b[36m(launch_and_fit pid=595320)\u001b[0m   File \"/usr/lib/python3.10/multiprocessing/connection.py\", line 465, in accept\n",
      "\u001b[2m\u001b[36m(launch_and_fit pid=595320)\u001b[0m     deliver_challenge(c, self._authkey)\n",
      "\u001b[2m\u001b[36m(launch_and_fit pid=595320)\u001b[0m   File \"/usr/lib/python3.10/multiprocessing/connection.py\", line 740, in deliver_challenge\n",
      "\u001b[2m\u001b[36m(launch_and_fit pid=595320)\u001b[0m     response = connection.recv_bytes(256)        # reject large message\n",
      "\u001b[2m\u001b[36m(launch_and_fit pid=595320)\u001b[0m   File \"/usr/lib/python3.10/multiprocessing/connection.py\", line 216, in recv_bytes\n",
      "\u001b[2m\u001b[36m(launch_and_fit pid=595320)\u001b[0m     buf = self._recv_bytes(maxlength)\n",
      "\u001b[2m\u001b[36m(launch_and_fit pid=595320)\u001b[0m   File \"/usr/lib/python3.10/multiprocessing/connection.py\", line 414, in _recv_bytes\n",
      "\u001b[2m\u001b[36m(launch_and_fit pid=595320)\u001b[0m     buf = self._recv(4)\n",
      "\u001b[2m\u001b[36m(launch_and_fit pid=595320)\u001b[0m   File \"/usr/lib/python3.10/multiprocessing/connection.py\", line 379, in _recv\n",
      "\u001b[2m\u001b[36m(launch_and_fit pid=595320)\u001b[0m     chunk = read(handle, remaining)\n",
      "\u001b[2m\u001b[36m(launch_and_fit pid=595320)\u001b[0m ConnectionResetError: [Errno 104] Connection reset by peer\n",
      "25063 DEBUG flwr 2023-03-23 11:24:45,670 | ray_client_proxy.py:87 | Task was killed due to the node running low on memory.\n",
      "Memory on the node (IP: 10.9.7.124, ID: ea2b13587c2e9d625b361e52dc5f78b8a73caf22d99d8e18efd742df) where the task (task ID: 2c111c2ee2acc172b79a3604096ff7d6cfc14eec01000000, name=launch_and_fit, pid=595320, memory used=0.02GB) was running was 7.29GB / 7.65GB (0.95355), which exceeds the memory usage threshold of 0.95. Ray killed this worker (ID: 6d4dc85b15043ec46baebff3d0272eb4044280d156514589270cdfd7) because it was the most recently scheduled task; to see more information about memory usage on this node, use `ray logs raylet.out -ip 10.9.7.124`. To see the logs of the worker, use `ray logs worker-6d4dc85b15043ec46baebff3d0272eb4044280d156514589270cdfd7*out -ip 10.9.7.124. Top 10 memory users:\n",
      "PID\tMEM(GB)\tCOMMAND\n",
      "1968\t0.73\t/usr/lib/electron19/electron /home/wash/.vscode-oss/extensions/streetsidesoftware.code-spell-checker...\n",
      "1868\t0.60\t/usr/lib/electron19/electron /usr/lib/code/out/bootstrap-fork --type=fileWatcher\n",
      "25063\t0.57\t/home/wash/LARGE/Work/L361_project/flower_fedbuff_project/venv/bin/python -m ipykernel_launcher --ip...\n",
      "1793\t0.37\t/usr/lib/electron19/electron --type=renderer --enable-crashpad --crashpad-handler-pid=1740 --enable-...\n",
      "457644\t0.33\t/usr/lib/firefox/firefox\n",
      "1999\t0.22\t/home/wash/LARGE/Work/L361_project/flower_fedbuff_project/venv/bin/python /home/wash/.vscode-oss/ext...\n",
      "1831\t0.22\t/usr/lib/electron19/electron --inspect-port=0 /usr/lib/code/out/bootstrap-fork --type=extensionHost ...\n",
      "458911\t0.21\t/usr/lib/firefox/firefox -contentproc -childID 9 -isForBrowser -prefsLen 30823 -prefMapSize 248609 -...\n",
      "596092\t0.21\tray::launch_and_fit\n",
      "596207\t0.20\tray::launch_and_fit\n",
      "Refer to the documentation on how to address the out of memory issue: https://docs.ray.io/en/latest/ray-core/scheduling/ray-oom-prevention.html. Consider provisioning more memory on this node or reducing task parallelism by requesting more CPUs per task. To adjust the kill threshold, set the environment variable `RAY_memory_usage_threshold` when starting Ray. To disable worker killing, set the environment variable `RAY_memory_monitor_refresh_ms` to zero.\n"
     ]
    },
    {
     "name": "stdout",
     "output_type": "stream",
     "text": [
      "Client finshed: 99\n"
     ]
    },
    {
     "name": "stderr",
     "output_type": "stream",
     "text": [
      "25063 DEBUG flwr 2023-03-23 11:24:46,007 | server.py:461 | Received enough responses from clients\n",
      "25063 DEBUG flwr 2023-03-23 11:24:46,019 | server.py:279 | fit_round 26 received 5 results and 2 failures\n"
     ]
    },
    {
     "name": "stdout",
     "output_type": "stream",
     "text": [
      "Client finshed: 90\n",
      "Client finshed: 53\n",
      "These clients sent updates: [('83', 1), ('57', 1), ('16', 1), ('90', 0), ('53', 0)]\n",
      "These clients failed: ['12', '99']\n"
     ]
    },
    {
     "name": "stderr",
     "output_type": "stream",
     "text": [
      "25063 DEBUG flwr 2023-03-23 11:24:47,320 | ray_client_proxy.py:87 | Task was killed due to the node running low on memory.\n",
      "Memory on the node (IP: 10.9.7.124, ID: ea2b13587c2e9d625b361e52dc5f78b8a73caf22d99d8e18efd742df) where the task (task ID: 232a0775f7034c1b7e90e38ae732199a5cad190101000000, name=launch_and_fit, pid=596615, memory used=0.05GB) was running was 7.28GB / 7.65GB (0.952065), which exceeds the memory usage threshold of 0.95. Ray killed this worker (ID: 2514cc8a68340cf80a09091855c49ee4b9b61b2910e30f640199a15e) because it was the most recently scheduled task; to see more information about memory usage on this node, use `ray logs raylet.out -ip 10.9.7.124`. To see the logs of the worker, use `ray logs worker-2514cc8a68340cf80a09091855c49ee4b9b61b2910e30f640199a15e*out -ip 10.9.7.124. Top 10 memory users:\n",
      "PID\tMEM(GB)\tCOMMAND\n",
      "1968\t0.73\t/usr/lib/electron19/electron /home/wash/.vscode-oss/extensions/streetsidesoftware.code-spell-checker...\n",
      "1868\t0.60\t/usr/lib/electron19/electron /usr/lib/code/out/bootstrap-fork --type=fileWatcher\n",
      "25063\t0.57\t/home/wash/LARGE/Work/L361_project/flower_fedbuff_project/venv/bin/python -m ipykernel_launcher --ip...\n",
      "1793\t0.37\t/usr/lib/electron19/electron --type=renderer --enable-crashpad --crashpad-handler-pid=1740 --enable-...\n",
      "457644\t0.33\t/usr/lib/firefox/firefox\n",
      "1999\t0.22\t/home/wash/LARGE/Work/L361_project/flower_fedbuff_project/venv/bin/python /home/wash/.vscode-oss/ext...\n",
      "1831\t0.21\t/usr/lib/electron19/electron --inspect-port=0 /usr/lib/code/out/bootstrap-fork --type=extensionHost ...\n",
      "596092\t0.21\tray::launch_and_fit\n",
      "458911\t0.21\t/usr/lib/firefox/firefox -contentproc -childID 9 -isForBrowser -prefsLen 30823 -prefMapSize 248609 -...\n",
      "595322\t0.20\tray::IDLE\n",
      "Refer to the documentation on how to address the out of memory issue: https://docs.ray.io/en/latest/ray-core/scheduling/ray-oom-prevention.html. Consider provisioning more memory on this node or reducing task parallelism by requesting more CPUs per task. To adjust the kill threshold, set the environment variable `RAY_memory_usage_threshold` when starting Ray. To disable worker killing, set the environment variable `RAY_memory_monitor_refresh_ms` to zero.\n",
      "25063 DEBUG flwr 2023-03-23 11:24:47,877 | ray_client_proxy.py:87 | Task was killed due to the node running low on memory.\n",
      "Memory on the node (IP: 10.9.7.124, ID: ea2b13587c2e9d625b361e52dc5f78b8a73caf22d99d8e18efd742df) where the task (task ID: 1407c4f5e3682402ab4cca0a08b5df25afbf5c6b01000000, name=launch_and_fit, pid=596690, memory used=0.05GB) was running was 7.32GB / 7.65GB (0.957084), which exceeds the memory usage threshold of 0.95. Ray killed this worker (ID: f7714f023c3d8ef92143a9714d8b2bafe749a2963081ea8f41af8b3b) because it was the most recently scheduled task; to see more information about memory usage on this node, use `ray logs raylet.out -ip 10.9.7.124`. To see the logs of the worker, use `ray logs worker-f7714f023c3d8ef92143a9714d8b2bafe749a2963081ea8f41af8b3b*out -ip 10.9.7.124. Top 10 memory users:\n",
      "PID\tMEM(GB)\tCOMMAND\n",
      "1968\t0.73\t/usr/lib/electron19/electron /home/wash/.vscode-oss/extensions/streetsidesoftware.code-spell-checker...\n",
      "1868\t0.60\t/usr/lib/electron19/electron /usr/lib/code/out/bootstrap-fork --type=fileWatcher\n",
      "25063\t0.57\t/home/wash/LARGE/Work/L361_project/flower_fedbuff_project/venv/bin/python -m ipykernel_launcher --ip...\n",
      "1793\t0.37\t/usr/lib/electron19/electron --type=renderer --enable-crashpad --crashpad-handler-pid=1740 --enable-...\n",
      "457644\t0.33\t/usr/lib/firefox/firefox\n",
      "1999\t0.22\t/home/wash/LARGE/Work/L361_project/flower_fedbuff_project/venv/bin/python /home/wash/.vscode-oss/ext...\n",
      "1831\t0.22\t/usr/lib/electron19/electron --inspect-port=0 /usr/lib/code/out/bootstrap-fork --type=extensionHost ...\n",
      "596092\t0.21\tray::launch_and_fit\n",
      "458911\t0.20\t/usr/lib/firefox/firefox -contentproc -childID 9 -isForBrowser -prefsLen 30823 -prefMapSize 248609 -...\n",
      "595322\t0.20\tray::IDLE\n",
      "Refer to the documentation on how to address the out of memory issue: https://docs.ray.io/en/latest/ray-core/scheduling/ray-oom-prevention.html. Consider provisioning more memory on this node or reducing task parallelism by requesting more CPUs per task. To adjust the kill threshold, set the environment variable `RAY_memory_usage_threshold` when starting Ray. To disable worker killing, set the environment variable `RAY_memory_monitor_refresh_ms` to zero.\n",
      "25063 DEBUG flwr 2023-03-23 11:24:48,343 | ray_client_proxy.py:87 | Task was killed due to the node running low on memory.\n",
      "Memory on the node (IP: 10.9.7.124, ID: ea2b13587c2e9d625b361e52dc5f78b8a73caf22d99d8e18efd742df) where the task (task ID: 7df4eaee7f01a3e2bf19d0c9c9ba61628c91f1f101000000, name=launch_and_fit, pid=596743, memory used=0.05GB) was running was 7.33GB / 7.65GB (0.958036), which exceeds the memory usage threshold of 0.95. Ray killed this worker (ID: 34c17224684400192582ee5d75373751850b7f011f00c654d6879831) because it was the most recently scheduled task; to see more information about memory usage on this node, use `ray logs raylet.out -ip 10.9.7.124`. To see the logs of the worker, use `ray logs worker-34c17224684400192582ee5d75373751850b7f011f00c654d6879831*out -ip 10.9.7.124. Top 10 memory users:\n",
      "PID\tMEM(GB)\tCOMMAND\n",
      "1968\t0.73\t/usr/lib/electron19/electron /home/wash/.vscode-oss/extensions/streetsidesoftware.code-spell-checker...\n",
      "1868\t0.60\t/usr/lib/electron19/electron /usr/lib/code/out/bootstrap-fork --type=fileWatcher\n",
      "25063\t0.57\t/home/wash/LARGE/Work/L361_project/flower_fedbuff_project/venv/bin/python -m ipykernel_launcher --ip...\n",
      "1793\t0.37\t/usr/lib/electron19/electron --type=renderer --enable-crashpad --crashpad-handler-pid=1740 --enable-...\n",
      "457644\t0.33\t/usr/lib/firefox/firefox\n",
      "1999\t0.22\t/home/wash/LARGE/Work/L361_project/flower_fedbuff_project/venv/bin/python /home/wash/.vscode-oss/ext...\n",
      "1831\t0.22\t/usr/lib/electron19/electron --inspect-port=0 /usr/lib/code/out/bootstrap-fork --type=extensionHost ...\n",
      "596092\t0.21\tray::launch_and_fit\n",
      "458911\t0.20\t/usr/lib/firefox/firefox -contentproc -childID 9 -isForBrowser -prefsLen 30823 -prefMapSize 248609 -...\n",
      "595322\t0.20\tray::IDLE\n",
      "Refer to the documentation on how to address the out of memory issue: https://docs.ray.io/en/latest/ray-core/scheduling/ray-oom-prevention.html. Consider provisioning more memory on this node or reducing task parallelism by requesting more CPUs per task. To adjust the kill threshold, set the environment variable `RAY_memory_usage_threshold` when starting Ray. To disable worker killing, set the environment variable `RAY_memory_monitor_refresh_ms` to zero.\n",
      "25063 DEBUG flwr 2023-03-23 11:24:48,807 | ray_client_proxy.py:87 | Task was killed due to the node running low on memory.\n",
      "Memory on the node (IP: 10.9.7.124, ID: ea2b13587c2e9d625b361e52dc5f78b8a73caf22d99d8e18efd742df) where the task (task ID: af38aa24fcc0d0e50d006f707291e8c27e212b3201000000, name=launch_and_fit, pid=596647, memory used=0.08GB) was running was 7.34GB / 7.65GB (0.959395), which exceeds the memory usage threshold of 0.95. Ray killed this worker (ID: 23714d7fade3f6d9988358067c3bd582f0c22a9e6946a187c650428b) because it was the most recently scheduled task; to see more information about memory usage on this node, use `ray logs raylet.out -ip 10.9.7.124`. To see the logs of the worker, use `ray logs worker-23714d7fade3f6d9988358067c3bd582f0c22a9e6946a187c650428b*out -ip 10.9.7.124. Top 10 memory users:\n",
      "PID\tMEM(GB)\tCOMMAND\n",
      "1968\t0.73\t/usr/lib/electron19/electron /home/wash/.vscode-oss/extensions/streetsidesoftware.code-spell-checker...\n",
      "1868\t0.60\t/usr/lib/electron19/electron /usr/lib/code/out/bootstrap-fork --type=fileWatcher\n",
      "25063\t0.57\t/home/wash/LARGE/Work/L361_project/flower_fedbuff_project/venv/bin/python -m ipykernel_launcher --ip...\n",
      "1793\t0.37\t/usr/lib/electron19/electron --type=renderer --enable-crashpad --crashpad-handler-pid=1740 --enable-...\n",
      "457644\t0.33\t/usr/lib/firefox/firefox\n",
      "1999\t0.22\t/home/wash/LARGE/Work/L361_project/flower_fedbuff_project/venv/bin/python /home/wash/.vscode-oss/ext...\n",
      "1831\t0.22\t/usr/lib/electron19/electron --inspect-port=0 /usr/lib/code/out/bootstrap-fork --type=extensionHost ...\n",
      "596092\t0.21\tray::launch_and_fit\n",
      "458911\t0.20\t/usr/lib/firefox/firefox -contentproc -childID 9 -isForBrowser -prefsLen 30823 -prefMapSize 248609 -...\n",
      "595322\t0.20\tray::IDLE\n",
      "Refer to the documentation on how to address the out of memory issue: https://docs.ray.io/en/latest/ray-core/scheduling/ray-oom-prevention.html. Consider provisioning more memory on this node or reducing task parallelism by requesting more CPUs per task. To adjust the kill threshold, set the environment variable `RAY_memory_usage_threshold` when starting Ray. To disable worker killing, set the environment variable `RAY_memory_monitor_refresh_ms` to zero.\n",
      "25063 DEBUG flwr 2023-03-23 11:24:48,915 | ray_client_proxy.py:87 | Task was killed due to the node running low on memory.\n",
      "Memory on the node (IP: 10.9.7.124, ID: ea2b13587c2e9d625b361e52dc5f78b8a73caf22d99d8e18efd742df) where the task (task ID: 18b9265b789a143e95c93572132e8a646669226c01000000, name=launch_and_fit, pid=595548, memory used=0.03GB) was running was 7.28GB / 7.65GB (0.951433), which exceeds the memory usage threshold of 0.95. Ray killed this worker (ID: 3188e51c2f3a0f05ebd900f5249405c75a409289194509bd187a78b0) because it was the most recently scheduled task; to see more information about memory usage on this node, use `ray logs raylet.out -ip 10.9.7.124`. To see the logs of the worker, use `ray logs worker-3188e51c2f3a0f05ebd900f5249405c75a409289194509bd187a78b0*out -ip 10.9.7.124. Top 10 memory users:\n",
      "PID\tMEM(GB)\tCOMMAND\n",
      "1968\t0.73\t/usr/lib/electron19/electron /home/wash/.vscode-oss/extensions/streetsidesoftware.code-spell-checker...\n",
      "1868\t0.60\t/usr/lib/electron19/electron /usr/lib/code/out/bootstrap-fork --type=fileWatcher\n",
      "25063\t0.57\t/home/wash/LARGE/Work/L361_project/flower_fedbuff_project/venv/bin/python -m ipykernel_launcher --ip...\n",
      "1793\t0.37\t/usr/lib/electron19/electron --type=renderer --enable-crashpad --crashpad-handler-pid=1740 --enable-...\n",
      "457644\t0.33\t/usr/lib/firefox/firefox\n",
      "1831\t0.23\t/usr/lib/electron19/electron --inspect-port=0 /usr/lib/code/out/bootstrap-fork --type=extensionHost ...\n",
      "1999\t0.22\t/home/wash/LARGE/Work/L361_project/flower_fedbuff_project/venv/bin/python /home/wash/.vscode-oss/ext...\n",
      "458911\t0.21\t/usr/lib/firefox/firefox -contentproc -childID 9 -isForBrowser -prefsLen 30823 -prefMapSize 248609 -...\n",
      "2011\t0.16\t/home/wash/LARGE/Work/L361_project/flower_fedbuff_project/venv/bin/python /home/wash/.vscode-oss/ext...\n",
      "518848\t0.15\tpython\n",
      "Refer to the documentation on how to address the out of memory issue: https://docs.ray.io/en/latest/ray-core/scheduling/ray-oom-prevention.html. Consider provisioning more memory on this node or reducing task parallelism by requesting more CPUs per task. To adjust the kill threshold, set the environment variable `RAY_memory_usage_threshold` when starting Ray. To disable worker killing, set the environment variable `RAY_memory_monitor_refresh_ms` to zero.\n",
      "25063 DEBUG flwr 2023-03-23 11:24:49,549 | ray_client_proxy.py:87 | Task was killed due to the node running low on memory.\n",
      "Memory on the node (IP: 10.9.7.124, ID: ea2b13587c2e9d625b361e52dc5f78b8a73caf22d99d8e18efd742df) where the task (task ID: 08ccf26ca793fe638c5789aa0995ab7317012b5a01000000, name=launch_and_fit, pid=595318, memory used=0.01GB) was running was 7.28GB / 7.65GB (0.952185), which exceeds the memory usage threshold of 0.95. Ray killed this worker (ID: c368b50d31dcd9389f5a6a31089af9109611509bb5fcad4a15586a8e) because it was the most recently scheduled task; to see more information about memory usage on this node, use `ray logs raylet.out -ip 10.9.7.124`. To see the logs of the worker, use `ray logs worker-c368b50d31dcd9389f5a6a31089af9109611509bb5fcad4a15586a8e*out -ip 10.9.7.124. Top 10 memory users:\n",
      "PID\tMEM(GB)\tCOMMAND\n",
      "1968\t0.73\t/usr/lib/electron19/electron /home/wash/.vscode-oss/extensions/streetsidesoftware.code-spell-checker...\n",
      "1868\t0.60\t/usr/lib/electron19/electron /usr/lib/code/out/bootstrap-fork --type=fileWatcher\n",
      "25063\t0.57\t/home/wash/LARGE/Work/L361_project/flower_fedbuff_project/venv/bin/python -m ipykernel_launcher --ip...\n",
      "1793\t0.37\t/usr/lib/electron19/electron --type=renderer --enable-crashpad --crashpad-handler-pid=1740 --enable-...\n",
      "457644\t0.33\t/usr/lib/firefox/firefox\n",
      "1999\t0.22\t/home/wash/LARGE/Work/L361_project/flower_fedbuff_project/venv/bin/python /home/wash/.vscode-oss/ext...\n",
      "1831\t0.22\t/usr/lib/electron19/electron --inspect-port=0 /usr/lib/code/out/bootstrap-fork --type=extensionHost ...\n",
      "458911\t0.21\t/usr/lib/firefox/firefox -contentproc -childID 9 -isForBrowser -prefsLen 30823 -prefMapSize 248609 -...\n",
      "595859\t0.19\tray::launch_and_fit\n",
      "2011\t0.16\t/home/wash/LARGE/Work/L361_project/flower_fedbuff_project/venv/bin/python /home/wash/.vscode-oss/ext...\n",
      "Refer to the documentation on how to address the out of memory issue: https://docs.ray.io/en/latest/ray-core/scheduling/ray-oom-prevention.html. Consider provisioning more memory on this node or reducing task parallelism by requesting more CPUs per task. To adjust the kill threshold, set the environment variable `RAY_memory_usage_threshold` when starting Ray. To disable worker killing, set the environment variable `RAY_memory_monitor_refresh_ms` to zero.\n",
      "25063 DEBUG flwr 2023-03-23 11:24:50,056 | ray_client_proxy.py:87 | Task was killed due to the node running low on memory.\n",
      "Memory on the node (IP: 10.9.7.124, ID: ea2b13587c2e9d625b361e52dc5f78b8a73caf22d99d8e18efd742df) where the task (task ID: 28345a2a68c35770713609b7ccf6e202427b911401000000, name=launch_and_fit, pid=595319, memory used=0.02GB) was running was 7.28GB / 7.65GB (0.95169), which exceeds the memory usage threshold of 0.95. Ray killed this worker (ID: d323c331ad2bd198d6b1f72f83c1f858eefec048ec982862b0fea8dd) because it was the most recently scheduled task; to see more information about memory usage on this node, use `ray logs raylet.out -ip 10.9.7.124`. To see the logs of the worker, use `ray logs worker-d323c331ad2bd198d6b1f72f83c1f858eefec048ec982862b0fea8dd*out -ip 10.9.7.124. Top 10 memory users:\n",
      "PID\tMEM(GB)\tCOMMAND\n",
      "1968\t0.73\t/usr/lib/electron19/electron /home/wash/.vscode-oss/extensions/streetsidesoftware.code-spell-checker...\n",
      "1868\t0.60\t/usr/lib/electron19/electron /usr/lib/code/out/bootstrap-fork --type=fileWatcher\n",
      "25063\t0.57\t/home/wash/LARGE/Work/L361_project/flower_fedbuff_project/venv/bin/python -m ipykernel_launcher --ip...\n",
      "1793\t0.37\t/usr/lib/electron19/electron --type=renderer --enable-crashpad --crashpad-handler-pid=1740 --enable-...\n",
      "457644\t0.33\t/usr/lib/firefox/firefox\n",
      "1999\t0.22\t/home/wash/LARGE/Work/L361_project/flower_fedbuff_project/venv/bin/python /home/wash/.vscode-oss/ext...\n",
      "1831\t0.22\t/usr/lib/electron19/electron --inspect-port=0 /usr/lib/code/out/bootstrap-fork --type=extensionHost ...\n",
      "458911\t0.21\t/usr/lib/firefox/firefox -contentproc -childID 9 -isForBrowser -prefsLen 30823 -prefMapSize 248609 -...\n",
      "596092\t0.21\tray::launch_and_fit\n",
      "595859\t0.19\tray::launch_and_fit\n",
      "Refer to the documentation on how to address the out of memory issue: https://docs.ray.io/en/latest/ray-core/scheduling/ray-oom-prevention.html. Consider provisioning more memory on this node or reducing task parallelism by requesting more CPUs per task. To adjust the kill threshold, set the environment variable `RAY_memory_usage_threshold` when starting Ray. To disable worker killing, set the environment variable `RAY_memory_monitor_refresh_ms` to zero.\n",
      "25063 INFO flwr 2023-03-23 11:24:51,479 | server.py:140 | fit progress: (26, 334.88201463222504, {'accuracy': 0.3932}, 259.0871980769998)\n",
      "25063 INFO flwr 2023-03-23 11:24:51,481 | server.py:190 | evaluate_round 26: no clients selected, cancel\n",
      "25063 DEBUG flwr 2023-03-23 11:24:51,486 | server.py:255 | fit_round 27: strategy sampled 7 clients (out of 100)\n",
      "25063 DEBUG flwr 2023-03-23 11:24:51,487 | server.py:435 | Sending instructions to clients\n"
     ]
    },
    {
     "name": "stdout",
     "output_type": "stream",
     "text": [
      "Working out which clients to instruct\n",
      "Want 7 more clients, minimum 7\n",
      "Selected clients = ['58', '42', '85', '40', '22', '30', '79']\n",
      "Client finshed: 1\n",
      "Client finshed: 84\n",
      "Client finshed: 43\n",
      "Client finshed: 62\n",
      "Client finshed: 71\n",
      "Client finshed: 61\n",
      "Client finshed: 19\n",
      "Client finshed: 95\n",
      "Client finshed: 6\n",
      "Client finshed: 55\n",
      "Client finshed: 47\n"
     ]
    },
    {
     "name": "stderr",
     "output_type": "stream",
     "text": [
      "25063 DEBUG flwr 2023-03-23 11:24:54,273 | server.py:461 | Received enough responses from clients\n",
      "25063 DEBUG flwr 2023-03-23 11:24:54,274 | server.py:279 | fit_round 27 received 5 results and 7 failures\n"
     ]
    },
    {
     "name": "stdout",
     "output_type": "stream",
     "text": [
      "Client finshed: 33\n",
      "These clients sent updates: [('43', 1), ('95', 1), ('55', 1), ('47', 1), ('33', 1)]\n",
      "These clients failed: ['1', '84', '62', '71', '61', '19', '6']\n"
     ]
    },
    {
     "name": "stderr",
     "output_type": "stream",
     "text": [
      "25063 INFO flwr 2023-03-23 11:25:00,177 | server.py:140 | fit progress: (27, 328.2757748365402, {'accuracy': 0.4035}, 267.7852162099998)\n",
      "25063 INFO flwr 2023-03-23 11:25:00,178 | server.py:190 | evaluate_round 27: no clients selected, cancel\n",
      "25063 DEBUG flwr 2023-03-23 11:25:00,183 | server.py:255 | fit_round 28: strategy sampled 12 clients (out of 100)\n",
      "25063 DEBUG flwr 2023-03-23 11:25:00,183 | server.py:435 | Sending instructions to clients\n"
     ]
    },
    {
     "name": "stdout",
     "output_type": "stream",
     "text": [
      "Working out which clients to instruct\n",
      "Want 12 more clients, minimum 12\n",
      "Selected clients = ['68', '31', '54', '16', '33', '38', '9', '50', '25', '23', '20', '92']\n",
      "Client finshed: 48\n",
      "Client finshed: 85\n",
      "Client finshed: 42\n",
      "Client finshed: 40\n",
      "Client finshed: 58\n"
     ]
    },
    {
     "name": "stderr",
     "output_type": "stream",
     "text": [
      "25063 DEBUG flwr 2023-03-23 11:25:04,328 | server.py:461 | Received enough responses from clients\n",
      "25063 DEBUG flwr 2023-03-23 11:25:04,331 | server.py:279 | fit_round 28 received 5 results and 0 failures\n"
     ]
    },
    {
     "name": "stdout",
     "output_type": "stream",
     "text": [
      "These clients sent updates: [('48', 2), ('85', 1), ('42', 1), ('40', 1), ('58', 1)]\n",
      "These clients failed: []\n"
     ]
    },
    {
     "name": "stderr",
     "output_type": "stream",
     "text": [
      "25063 INFO flwr 2023-03-23 11:25:10,752 | server.py:140 | fit progress: (28, 337.49854481220245, {'accuracy': 0.3883}, 278.3603024999993)\n",
      "25063 INFO flwr 2023-03-23 11:25:10,759 | server.py:190 | evaluate_round 28: no clients selected, cancel\n",
      "25063 DEBUG flwr 2023-03-23 11:25:10,771 | server.py:255 | fit_round 29: strategy sampled 5 clients (out of 100)\n",
      "25063 DEBUG flwr 2023-03-23 11:25:10,772 | server.py:435 | Sending instructions to clients\n"
     ]
    },
    {
     "name": "stdout",
     "output_type": "stream",
     "text": [
      "Working out which clients to instruct\n",
      "Want 5 more clients, minimum 5\n",
      "Selected clients = ['64', '94', '44', '98', '39']\n",
      "Client finshed: 22\n",
      "Client finshed: 30\n",
      "Client finshed: 79\n",
      "Client finshed: 68\n"
     ]
    },
    {
     "name": "stderr",
     "output_type": "stream",
     "text": [
      "25063 DEBUG flwr 2023-03-23 11:25:16,081 | server.py:461 | Received enough responses from clients\n",
      "25063 DEBUG flwr 2023-03-23 11:25:16,084 | server.py:279 | fit_round 29 received 5 results and 0 failures\n"
     ]
    },
    {
     "name": "stdout",
     "output_type": "stream",
     "text": [
      "Client finshed: 16\n",
      "These clients sent updates: [('22', 2), ('30', 2), ('79', 2), ('68', 1), ('16', 1)]\n",
      "These clients failed: []\n"
     ]
    },
    {
     "name": "stderr",
     "output_type": "stream",
     "text": [
      "25063 INFO flwr 2023-03-23 11:25:21,890 | server.py:140 | fit progress: (29, 322.21392571926117, {'accuracy': 0.4226}, 289.4980731759997)\n",
      "25063 INFO flwr 2023-03-23 11:25:21,898 | server.py:190 | evaluate_round 29: no clients selected, cancel\n",
      "25063 DEBUG flwr 2023-03-23 11:25:21,911 | server.py:255 | fit_round 30: strategy sampled 5 clients (out of 100)\n",
      "25063 DEBUG flwr 2023-03-23 11:25:21,912 | server.py:435 | Sending instructions to clients\n"
     ]
    },
    {
     "name": "stdout",
     "output_type": "stream",
     "text": [
      "Working out which clients to instruct\n",
      "Want 5 more clients, minimum 5\n",
      "Selected clients = ['29', '73', '46', '77', '5']\n",
      "Client finshed: 38\n",
      "Client finshed: 33\n",
      "Client finshed: 54\n",
      "Client finshed: 31\n"
     ]
    },
    {
     "name": "stderr",
     "output_type": "stream",
     "text": [
      "25063 DEBUG flwr 2023-03-23 11:25:23,441 | server.py:461 | Received enough responses from clients\n",
      "25063 DEBUG flwr 2023-03-23 11:25:23,442 | server.py:279 | fit_round 30 received 5 results and 0 failures\n"
     ]
    },
    {
     "name": "stdout",
     "output_type": "stream",
     "text": [
      "Client finshed: 9\n",
      "These clients sent updates: [('38', 2), ('33', 2), ('54', 2), ('31', 2), ('9', 2)]\n",
      "These clients failed: []\n"
     ]
    },
    {
     "name": "stderr",
     "output_type": "stream",
     "text": [
      "\u001b[2m\u001b[33m(raylet)\u001b[0m [2023-03-23 11:25:27,123 E 569351 569351] (raylet) node_manager.cc:3040: 11 Workers (tasks / actors) killed due to memory pressure (OOM), 0 Workers crashed due to other reasons at node (ID: ea2b13587c2e9d625b361e52dc5f78b8a73caf22d99d8e18efd742df, IP: 10.9.7.124) over the last time period. To see more information about the Workers killed on this node, use `ray logs raylet.out -ip 10.9.7.124`\n",
      "\u001b[2m\u001b[33m(raylet)\u001b[0m \n",
      "\u001b[2m\u001b[33m(raylet)\u001b[0m Refer to the documentation on how to address the out of memory issue: https://docs.ray.io/en/latest/ray-core/scheduling/ray-oom-prevention.html. Consider provisioning more memory on this node or reducing task parallelism by requesting more CPUs per task. To adjust the kill threshold, set the environment variable `RAY_memory_usage_threshold` when starting Ray. To disable worker killing, set the environment variable `RAY_memory_monitor_refresh_ms` to zero.\n",
      "25063 INFO flwr 2023-03-23 11:25:29,708 | server.py:140 | fit progress: (30, 321.13774931430817, {'accuracy': 0.4266}, 297.3160741539996)\n",
      "25063 INFO flwr 2023-03-23 11:25:29,710 | server.py:190 | evaluate_round 30: no clients selected, cancel\n",
      "25063 DEBUG flwr 2023-03-23 11:25:29,717 | server.py:255 | fit_round 31: strategy sampled 5 clients (out of 100)\n",
      "25063 DEBUG flwr 2023-03-23 11:25:29,719 | server.py:435 | Sending instructions to clients\n"
     ]
    },
    {
     "name": "stdout",
     "output_type": "stream",
     "text": [
      "Working out which clients to instruct\n",
      "Want 5 more clients, minimum 5\n",
      "Selected clients = ['2', '51', '89', '43', '8']\n",
      "Client finshed: 25\n",
      "Client finshed: 50\n",
      "Client finshed: 23\n",
      "Client finshed: 64\n"
     ]
    },
    {
     "name": "stderr",
     "output_type": "stream",
     "text": [
      "25063 DEBUG flwr 2023-03-23 11:25:32,484 | server.py:461 | Received enough responses from clients\n",
      "25063 DEBUG flwr 2023-03-23 11:25:32,493 | server.py:279 | fit_round 31 received 5 results and 0 failures\n"
     ]
    },
    {
     "name": "stdout",
     "output_type": "stream",
     "text": [
      "Client finshed: 92\n",
      "These clients sent updates: [('25', 3), ('50', 3), ('23', 3), ('64', 2), ('92', 3)]\n",
      "These clients failed: []\n"
     ]
    },
    {
     "name": "stderr",
     "output_type": "stream",
     "text": [
      "25063 INFO flwr 2023-03-23 11:25:38,016 | server.py:140 | fit progress: (31, 331.1519651412964, {'accuracy': 0.4015}, 305.62333855699944)\n",
      "25063 INFO flwr 2023-03-23 11:25:38,017 | server.py:190 | evaluate_round 31: no clients selected, cancel\n",
      "25063 DEBUG flwr 2023-03-23 11:25:38,022 | server.py:255 | fit_round 32: strategy sampled 5 clients (out of 100)\n",
      "25063 DEBUG flwr 2023-03-23 11:25:38,023 | server.py:435 | Sending instructions to clients\n"
     ]
    },
    {
     "name": "stdout",
     "output_type": "stream",
     "text": [
      "Working out which clients to instruct\n",
      "Want 5 more clients, minimum 5\n",
      "Selected clients = ['67', '91', '25', '35', '31']\n",
      "Client finshed: 94\n",
      "Client finshed: 20\n",
      "Client finshed: 98\n",
      "Client finshed: 44\n"
     ]
    },
    {
     "name": "stderr",
     "output_type": "stream",
     "text": [
      "25063 DEBUG flwr 2023-03-23 11:25:42,232 | server.py:461 | Received enough responses from clients\n",
      "25063 DEBUG flwr 2023-03-23 11:25:42,237 | server.py:279 | fit_round 32 received 5 results and 0 failures\n"
     ]
    },
    {
     "name": "stdout",
     "output_type": "stream",
     "text": [
      "Client finshed: 39\n",
      "These clients sent updates: [('94', 3), ('20', 4), ('98', 3), ('44', 3), ('39', 3)]\n",
      "These clients failed: []\n"
     ]
    },
    {
     "name": "stderr",
     "output_type": "stream",
     "text": [
      "25063 INFO flwr 2023-03-23 11:25:48,537 | server.py:140 | fit progress: (32, 335.3180375099182, {'accuracy': 0.3973}, 316.14446140899963)\n",
      "25063 INFO flwr 2023-03-23 11:25:48,538 | server.py:190 | evaluate_round 32: no clients selected, cancel\n",
      "25063 DEBUG flwr 2023-03-23 11:25:48,543 | server.py:255 | fit_round 33: strategy sampled 5 clients (out of 100)\n",
      "25063 DEBUG flwr 2023-03-23 11:25:48,544 | server.py:435 | Sending instructions to clients\n",
      "25063 DEBUG flwr 2023-03-23 11:25:48,546 | server.py:461 | Received enough responses from clients\n",
      "25063 DEBUG flwr 2023-03-23 11:25:48,568 | server.py:279 | fit_round 33 received 5 results and 0 failures\n"
     ]
    },
    {
     "name": "stdout",
     "output_type": "stream",
     "text": [
      "Working out which clients to instruct\n",
      "Want 5 more clients, minimum 5\n",
      "Selected clients = ['99', '15', '93', '33', '32']\n",
      "Client finshed: 5\n",
      "Client finshed: 73\n",
      "Client finshed: 77\n",
      "Client finshed: 46\n",
      "Client finshed: 29\n",
      "These clients sent updates: [('5', 3), ('73', 3), ('77', 3), ('46', 3), ('29', 3)]\n",
      "These clients failed: []\n"
     ]
    },
    {
     "name": "stderr",
     "output_type": "stream",
     "text": [
      "25063 INFO flwr 2023-03-23 11:25:52,817 | server.py:140 | fit progress: (33, 323.2618854045868, {'accuracy': 0.4054}, 320.42484817900004)\n",
      "25063 INFO flwr 2023-03-23 11:25:52,818 | server.py:190 | evaluate_round 33: no clients selected, cancel\n",
      "25063 DEBUG flwr 2023-03-23 11:25:52,824 | server.py:255 | fit_round 34: strategy sampled 5 clients (out of 100)\n",
      "25063 DEBUG flwr 2023-03-23 11:25:52,825 | server.py:435 | Sending instructions to clients\n"
     ]
    },
    {
     "name": "stdout",
     "output_type": "stream",
     "text": [
      "Working out which clients to instruct\n",
      "Want 5 more clients, minimum 5\n",
      "Selected clients = ['83', '65', '62', '20', '39']\n",
      "Client finshed: 2\n",
      "Client finshed: 51\n",
      "Client finshed: 89\n",
      "Client finshed: 43\n"
     ]
    },
    {
     "name": "stderr",
     "output_type": "stream",
     "text": [
      "25063 DEBUG flwr 2023-03-23 11:26:00,278 | server.py:461 | Received enough responses from clients\n",
      "25063 DEBUG flwr 2023-03-23 11:26:00,282 | server.py:279 | fit_round 34 received 5 results and 0 failures\n"
     ]
    },
    {
     "name": "stdout",
     "output_type": "stream",
     "text": [
      "Client finshed: 8\n",
      "These clients sent updates: [('2', 3), ('51', 3), ('89', 3), ('43', 3), ('8', 3)]\n",
      "These clients failed: []\n"
     ]
    },
    {
     "name": "stderr",
     "output_type": "stream",
     "text": [
      "25063 INFO flwr 2023-03-23 11:26:05,445 | server.py:140 | fit progress: (34, 340.6711263656616, {'accuracy': 0.3886}, 333.05238475999977)\n",
      "25063 INFO flwr 2023-03-23 11:26:05,446 | server.py:190 | evaluate_round 34: no clients selected, cancel\n",
      "25063 DEBUG flwr 2023-03-23 11:26:05,452 | server.py:255 | fit_round 35: strategy sampled 5 clients (out of 100)\n",
      "25063 DEBUG flwr 2023-03-23 11:26:05,453 | server.py:435 | Sending instructions to clients\n"
     ]
    },
    {
     "name": "stdout",
     "output_type": "stream",
     "text": [
      "Working out which clients to instruct\n",
      "Want 5 more clients, minimum 5\n",
      "Selected clients = ['30', '11', '8', '53', '29']\n",
      "Client finshed: 91\n",
      "Client finshed: 25\n",
      "Client finshed: 67\n"
     ]
    },
    {
     "name": "stderr",
     "output_type": "stream",
     "text": [
      "25063 DEBUG flwr 2023-03-23 11:26:07,398 | server.py:461 | Received enough responses from clients\n",
      "25063 DEBUG flwr 2023-03-23 11:26:07,406 | server.py:279 | fit_round 35 received 5 results and 0 failures\n"
     ]
    },
    {
     "name": "stdout",
     "output_type": "stream",
     "text": [
      "Client finshed: 35\n",
      "Client finshed: 31\n",
      "These clients sent updates: [('91', 3), ('25', 3), ('67', 3), ('35', 3), ('31', 3)]\n",
      "These clients failed: []\n"
     ]
    },
    {
     "name": "stderr",
     "output_type": "stream",
     "text": [
      "25063 INFO flwr 2023-03-23 11:26:12,680 | server.py:140 | fit progress: (35, 319.4061896800995, {'accuracy': 0.4268}, 340.28734912599975)\n",
      "25063 INFO flwr 2023-03-23 11:26:12,681 | server.py:190 | evaluate_round 35: no clients selected, cancel\n",
      "25063 DEBUG flwr 2023-03-23 11:26:12,685 | server.py:255 | fit_round 36: strategy sampled 5 clients (out of 100)\n",
      "25063 DEBUG flwr 2023-03-23 11:26:12,686 | server.py:435 | Sending instructions to clients\n"
     ]
    },
    {
     "name": "stdout",
     "output_type": "stream",
     "text": [
      "Working out which clients to instruct\n",
      "Want 5 more clients, minimum 5\n",
      "Selected clients = ['60', '25', '10', '22', '1']\n",
      "Client finshed: 99\n",
      "Client finshed: 15\n",
      "Client finshed: 32\n"
     ]
    },
    {
     "name": "stderr",
     "output_type": "stream",
     "text": [
      "25063 DEBUG flwr 2023-03-23 11:26:16,145 | ray_client_proxy.py:87 | Task was killed due to the node running low on memory.\n",
      "Memory on the node (IP: 10.9.7.124, ID: ea2b13587c2e9d625b361e52dc5f78b8a73caf22d99d8e18efd742df) where the task (task ID: 52d39c3582c5071a6e45e6dacd1a39405aef79dd01000000, name=launch_and_fit, pid=605091, memory used=0.19GB) was running was 7.29GB / 7.65GB (0.953605), which exceeds the memory usage threshold of 0.95. Ray killed this worker (ID: 39135f7e131d766ccd41625428e06d0f2d40366dad6e79f3d5b02b39) because it was the most recently scheduled task; to see more information about memory usage on this node, use `ray logs raylet.out -ip 10.9.7.124`. To see the logs of the worker, use `ray logs worker-39135f7e131d766ccd41625428e06d0f2d40366dad6e79f3d5b02b39*out -ip 10.9.7.124. Top 10 memory users:\n",
      "PID\tMEM(GB)\tCOMMAND\n",
      "1868\t0.60\t/usr/lib/electron19/electron /usr/lib/code/out/bootstrap-fork --type=fileWatcher\n",
      "1831\t0.58\t/usr/lib/electron19/electron --inspect-port=0 /usr/lib/code/out/bootstrap-fork --type=extensionHost ...\n",
      "25063\t0.56\t/home/wash/LARGE/Work/L361_project/flower_fedbuff_project/venv/bin/python -m ipykernel_launcher --ip...\n",
      "1793\t0.40\t/usr/lib/electron19/electron --type=renderer --enable-crashpad --crashpad-handler-pid=1740 --enable-...\n",
      "1968\t0.39\t/usr/lib/electron19/electron /home/wash/.vscode-oss/extensions/streetsidesoftware.code-spell-checker...\n",
      "457644\t0.32\t/usr/lib/firefox/firefox\n",
      "1999\t0.22\t/home/wash/LARGE/Work/L361_project/flower_fedbuff_project/venv/bin/python /home/wash/.vscode-oss/ext...\n",
      "604371\t0.21\tray::IDLE\n",
      "604760\t0.21\tray::IDLE\n",
      "458911\t0.20\t/usr/lib/firefox/firefox -contentproc -childID 9 -isForBrowser -prefsLen 30823 -prefMapSize 248609 -...\n",
      "Refer to the documentation on how to address the out of memory issue: https://docs.ray.io/en/latest/ray-core/scheduling/ray-oom-prevention.html. Consider provisioning more memory on this node or reducing task parallelism by requesting more CPUs per task. To adjust the kill threshold, set the environment variable `RAY_memory_usage_threshold` when starting Ray. To disable worker killing, set the environment variable `RAY_memory_monitor_refresh_ms` to zero.\n"
     ]
    },
    {
     "name": "stdout",
     "output_type": "stream",
     "text": [
      "Client finshed: 62\n",
      "Client finshed: 33\n"
     ]
    },
    {
     "name": "stderr",
     "output_type": "stream",
     "text": [
      "25063 DEBUG flwr 2023-03-23 11:26:17,238 | ray_client_proxy.py:87 | Task was killed due to the node running low on memory.\n",
      "Memory on the node (IP: 10.9.7.124, ID: ea2b13587c2e9d625b361e52dc5f78b8a73caf22d99d8e18efd742df) where the task (task ID: d7f4d8422aea594a1a7de0a8ede9cc281a85fd7301000000, name=launch_and_fit, pid=605818, memory used=0.05GB) was running was 7.31GB / 7.65GB (0.955174), which exceeds the memory usage threshold of 0.95. Ray killed this worker (ID: 7577c9575ce1b190e038ed53e9cb0d3bd6edc504dda17693cc44cdd3) because it was the most recently scheduled task; to see more information about memory usage on this node, use `ray logs raylet.out -ip 10.9.7.124`. To see the logs of the worker, use `ray logs worker-7577c9575ce1b190e038ed53e9cb0d3bd6edc504dda17693cc44cdd3*out -ip 10.9.7.124. Top 10 memory users:\n",
      "PID\tMEM(GB)\tCOMMAND\n",
      "1831\t0.63\t/usr/lib/electron19/electron --inspect-port=0 /usr/lib/code/out/bootstrap-fork --type=extensionHost ...\n",
      "1868\t0.60\t/usr/lib/electron19/electron /usr/lib/code/out/bootstrap-fork --type=fileWatcher\n",
      "25063\t0.57\t/home/wash/LARGE/Work/L361_project/flower_fedbuff_project/venv/bin/python -m ipykernel_launcher --ip...\n",
      "1968\t0.42\t/usr/lib/electron19/electron /home/wash/.vscode-oss/extensions/streetsidesoftware.code-spell-checker...\n",
      "1793\t0.40\t/usr/lib/electron19/electron --type=renderer --enable-crashpad --crashpad-handler-pid=1740 --enable-...\n",
      "457644\t0.32\t/usr/lib/firefox/firefox\n",
      "1999\t0.22\t/home/wash/LARGE/Work/L361_project/flower_fedbuff_project/venv/bin/python /home/wash/.vscode-oss/ext...\n",
      "604371\t0.22\t\n",
      "604598\t0.20\tray::IDLE\n",
      "604760\t0.20\tray::IDLE\n",
      "Refer to the documentation on how to address the out of memory issue: https://docs.ray.io/en/latest/ray-core/scheduling/ray-oom-prevention.html. Consider provisioning more memory on this node or reducing task parallelism by requesting more CPUs per task. To adjust the kill threshold, set the environment variable `RAY_memory_usage_threshold` when starting Ray. To disable worker killing, set the environment variable `RAY_memory_monitor_refresh_ms` to zero.\n",
      "25063 DEBUG flwr 2023-03-23 11:26:17,436 | server.py:461 | Received enough responses from clients\n",
      "25063 DEBUG flwr 2023-03-23 11:26:17,439 | server.py:279 | fit_round 36 received 5 results and 2 failures\n"
     ]
    },
    {
     "name": "stdout",
     "output_type": "stream",
     "text": [
      "Client finshed: 39\n",
      "Client finshed: 93\n",
      "These clients sent updates: [('99', 3), ('15', 3), ('32', 3), ('33', 3), ('93', 3)]\n",
      "These clients failed: ['62', '39']\n"
     ]
    },
    {
     "name": "stderr",
     "output_type": "stream",
     "text": [
      "25063 INFO flwr 2023-03-23 11:26:23,587 | server.py:140 | fit progress: (36, 364.5263285636902, {'accuracy': 0.3469}, 351.19469743899936)\n",
      "25063 INFO flwr 2023-03-23 11:26:23,588 | server.py:190 | evaluate_round 36: no clients selected, cancel\n",
      "25063 DEBUG flwr 2023-03-23 11:26:23,596 | server.py:255 | fit_round 37: strategy sampled 7 clients (out of 100)\n",
      "25063 DEBUG flwr 2023-03-23 11:26:23,597 | server.py:435 | Sending instructions to clients\n"
     ]
    },
    {
     "name": "stdout",
     "output_type": "stream",
     "text": [
      "Working out which clients to instruct\n",
      "Want 7 more clients, minimum 7\n",
      "Selected clients = ['39', '9', '58', '15', '88', '4', '66']\n",
      "Client finshed: 83\n",
      "Client finshed: 65\n"
     ]
    },
    {
     "name": "stderr",
     "output_type": "stream",
     "text": [
      "\u001b[2m\u001b[33m(raylet)\u001b[0m [2023-03-23 11:26:27,125 E 569351 569351] (raylet) node_manager.cc:3040: 2 Workers (tasks / actors) killed due to memory pressure (OOM), 0 Workers crashed due to other reasons at node (ID: ea2b13587c2e9d625b361e52dc5f78b8a73caf22d99d8e18efd742df, IP: 10.9.7.124) over the last time period. To see more information about the Workers killed on this node, use `ray logs raylet.out -ip 10.9.7.124`\n",
      "\u001b[2m\u001b[33m(raylet)\u001b[0m \n",
      "\u001b[2m\u001b[33m(raylet)\u001b[0m Refer to the documentation on how to address the out of memory issue: https://docs.ray.io/en/latest/ray-core/scheduling/ray-oom-prevention.html. Consider provisioning more memory on this node or reducing task parallelism by requesting more CPUs per task. To adjust the kill threshold, set the environment variable `RAY_memory_usage_threshold` when starting Ray. To disable worker killing, set the environment variable `RAY_memory_monitor_refresh_ms` to zero.\n",
      "25063 DEBUG flwr 2023-03-23 11:26:29,891 | server.py:461 | Received enough responses from clients\n",
      "25063 DEBUG flwr 2023-03-23 11:26:29,898 | server.py:279 | fit_round 37 received 5 results and 0 failures\n"
     ]
    },
    {
     "name": "stdout",
     "output_type": "stream",
     "text": [
      "Client finshed: 30\n",
      "Client finshed: 29\n",
      "Client finshed: 20\n",
      "These clients sent updates: [('83', 3), ('65', 3), ('30', 2), ('29', 2), ('20', 3)]\n",
      "These clients failed: []\n"
     ]
    },
    {
     "name": "stderr",
     "output_type": "stream",
     "text": [
      "25063 DEBUG flwr 2023-03-23 11:26:32,884 | ray_client_proxy.py:87 | Task was killed due to the node running low on memory.\n",
      "Memory on the node (IP: 10.9.7.124, ID: ea2b13587c2e9d625b361e52dc5f78b8a73caf22d99d8e18efd742df) where the task (task ID: 21d57b68a87534b3d3ab2cf1a91c95a321480e5601000000, name=launch_and_fit, pid=607637, memory used=0.05GB) was running was 7.28GB / 7.65GB (0.952202), which exceeds the memory usage threshold of 0.95. Ray killed this worker (ID: 497ce3bb56b29c911e3666e43095d9650dfc633eae30f4faf5dab07e) because it was the most recently scheduled task; to see more information about memory usage on this node, use `ray logs raylet.out -ip 10.9.7.124`. To see the logs of the worker, use `ray logs worker-497ce3bb56b29c911e3666e43095d9650dfc633eae30f4faf5dab07e*out -ip 10.9.7.124. Top 10 memory users:\n",
      "PID\tMEM(GB)\tCOMMAND\n",
      "1868\t0.60\t/usr/lib/electron19/electron /usr/lib/code/out/bootstrap-fork --type=fileWatcher\n",
      "25063\t0.57\t/home/wash/LARGE/Work/L361_project/flower_fedbuff_project/venv/bin/python -m ipykernel_launcher --ip...\n",
      "1968\t0.48\t/usr/lib/electron19/electron /home/wash/.vscode-oss/extensions/streetsidesoftware.code-spell-checker...\n",
      "1793\t0.40\t/usr/lib/electron19/electron --type=renderer --enable-crashpad --crashpad-handler-pid=1740 --enable-...\n",
      "457644\t0.32\t/usr/lib/firefox/firefox\n",
      "1999\t0.22\t/home/wash/LARGE/Work/L361_project/flower_fedbuff_project/venv/bin/python /home/wash/.vscode-oss/ext...\n",
      "1831\t0.22\t/usr/lib/electron19/electron --inspect-port=0 /usr/lib/code/out/bootstrap-fork --type=extensionHost ...\n",
      "605808\t0.21\tray::IDLE\n",
      "458911\t0.21\t/usr/lib/firefox/firefox -contentproc -childID 9 -isForBrowser -prefsLen 30823 -prefMapSize 248609 -...\n",
      "606083\t0.20\tray::IDLE\n",
      "Refer to the documentation on how to address the out of memory issue: https://docs.ray.io/en/latest/ray-core/scheduling/ray-oom-prevention.html. Consider provisioning more memory on this node or reducing task parallelism by requesting more CPUs per task. To adjust the kill threshold, set the environment variable `RAY_memory_usage_threshold` when starting Ray. To disable worker killing, set the environment variable `RAY_memory_monitor_refresh_ms` to zero.\n",
      "25063 DEBUG flwr 2023-03-23 11:26:33,503 | ray_client_proxy.py:87 | Task was killed due to the node running low on memory.\n",
      "Memory on the node (IP: 10.9.7.124, ID: ea2b13587c2e9d625b361e52dc5f78b8a73caf22d99d8e18efd742df) where the task (task ID: 4c37f9b313dafa074f6d7485ac411eb7eebf378f01000000, name=launch_and_fit, pid=607600, memory used=0.05GB) was running was 7.29GB / 7.65GB (0.953271), which exceeds the memory usage threshold of 0.95. Ray killed this worker (ID: c6c4a5e1a054d80bc860e619697bda2ecf29448df9351ca8f720b490) because it was the most recently scheduled task; to see more information about memory usage on this node, use `ray logs raylet.out -ip 10.9.7.124`. To see the logs of the worker, use `ray logs worker-c6c4a5e1a054d80bc860e619697bda2ecf29448df9351ca8f720b490*out -ip 10.9.7.124. Top 10 memory users:\n",
      "PID\tMEM(GB)\tCOMMAND\n",
      "1868\t0.60\t/usr/lib/electron19/electron /usr/lib/code/out/bootstrap-fork --type=fileWatcher\n",
      "25063\t0.57\t/home/wash/LARGE/Work/L361_project/flower_fedbuff_project/venv/bin/python -m ipykernel_launcher --ip...\n",
      "1968\t0.47\t/usr/lib/electron19/electron /home/wash/.vscode-oss/extensions/streetsidesoftware.code-spell-checker...\n",
      "1793\t0.40\t/usr/lib/electron19/electron --type=renderer --enable-crashpad --crashpad-handler-pid=1740 --enable-...\n",
      "457644\t0.32\t/usr/lib/firefox/firefox\n",
      "1831\t0.25\t/usr/lib/electron19/electron --inspect-port=0 /usr/lib/code/out/bootstrap-fork --type=extensionHost ...\n",
      "1999\t0.22\t/home/wash/LARGE/Work/L361_project/flower_fedbuff_project/venv/bin/python /home/wash/.vscode-oss/ext...\n",
      "458911\t0.21\t/usr/lib/firefox/firefox -contentproc -childID 9 -isForBrowser -prefsLen 30823 -prefMapSize 248609 -...\n",
      "606158\t0.20\tray::IDLE\n",
      "606083\t0.20\tray::IDLE\n",
      "Refer to the documentation on how to address the out of memory issue: https://docs.ray.io/en/latest/ray-core/scheduling/ray-oom-prevention.html. Consider provisioning more memory on this node or reducing task parallelism by requesting more CPUs per task. To adjust the kill threshold, set the environment variable `RAY_memory_usage_threshold` when starting Ray. To disable worker killing, set the environment variable `RAY_memory_monitor_refresh_ms` to zero.\n",
      "25063 INFO flwr 2023-03-23 11:26:37,579 | server.py:140 | fit progress: (37, 311.78486716747284, {'accuracy': 0.441}, 365.18645278999975)\n",
      "25063 INFO flwr 2023-03-23 11:26:37,580 | server.py:190 | evaluate_round 37: no clients selected, cancel\n",
      "25063 DEBUG flwr 2023-03-23 11:26:37,596 | server.py:255 | fit_round 38: strategy sampled 5 clients (out of 100)\n",
      "25063 DEBUG flwr 2023-03-23 11:26:37,597 | server.py:435 | Sending instructions to clients\n",
      "25063 DEBUG flwr 2023-03-23 11:26:37,599 | server.py:461 | Received enough responses from clients\n",
      "25063 DEBUG flwr 2023-03-23 11:26:37,616 | server.py:279 | fit_round 38 received 5 results and 2 failures\n"
     ]
    },
    {
     "name": "stdout",
     "output_type": "stream",
     "text": [
      "Working out which clients to instruct\n",
      "Want 5 more clients, minimum 5\n",
      "Selected clients = ['32', '19', '33', '21', '71']\n",
      "Client finshed: 58\n",
      "Client finshed: 25\n",
      "Client finshed: 11\n",
      "Client finshed: 39\n",
      "Client finshed: 8\n",
      "Client finshed: 60\n",
      "Client finshed: 53\n",
      "These clients sent updates: [('25', 2), ('11', 3), ('8', 3), ('60', 2), ('53', 3)]\n",
      "These clients failed: ['58', '39']\n"
     ]
    },
    {
     "name": "stderr",
     "output_type": "stream",
     "text": [
      "25063 INFO flwr 2023-03-23 11:26:42,138 | server.py:140 | fit progress: (38, 311.5875611305237, {'accuracy': 0.4418}, 369.7455710309996)\n",
      "25063 INFO flwr 2023-03-23 11:26:42,139 | server.py:190 | evaluate_round 38: no clients selected, cancel\n",
      "25063 DEBUG flwr 2023-03-23 11:26:42,144 | server.py:255 | fit_round 39: strategy sampled 7 clients (out of 100)\n",
      "25063 DEBUG flwr 2023-03-23 11:26:42,146 | server.py:435 | Sending instructions to clients\n"
     ]
    },
    {
     "name": "stdout",
     "output_type": "stream",
     "text": [
      "Working out which clients to instruct\n",
      "Want 7 more clients, minimum 7\n",
      "Selected clients = ['5', '14', '98', '35', '39', '52', '92']\n"
     ]
    },
    {
     "name": "stderr",
     "output_type": "stream",
     "text": [
      "25063 DEBUG flwr 2023-03-23 11:26:46,478 | server.py:461 | Received enough responses from clients\n",
      "25063 DEBUG flwr 2023-03-23 11:26:46,489 | server.py:279 | fit_round 39 received 5 results and 0 failures\n"
     ]
    },
    {
     "name": "stdout",
     "output_type": "stream",
     "text": [
      "Client finshed: 88\n",
      "Client finshed: 9\n",
      "Client finshed: 1\n",
      "Client finshed: 10\n",
      "Client finshed: 15\n",
      "These clients sent updates: [('88', 2), ('9', 2), ('1', 3), ('10', 3), ('15', 2)]\n",
      "These clients failed: []\n"
     ]
    },
    {
     "name": "stderr",
     "output_type": "stream",
     "text": [
      "25063 INFO flwr 2023-03-23 11:26:52,664 | server.py:140 | fit progress: (39, 310.1990475654602, {'accuracy': 0.4404}, 380.27185436999935)\n",
      "25063 INFO flwr 2023-03-23 11:26:52,666 | server.py:190 | evaluate_round 39: no clients selected, cancel\n",
      "25063 DEBUG flwr 2023-03-23 11:26:52,671 | server.py:255 | fit_round 40: strategy sampled 5 clients (out of 100)\n",
      "25063 DEBUG flwr 2023-03-23 11:26:52,672 | server.py:435 | Sending instructions to clients\n"
     ]
    },
    {
     "name": "stdout",
     "output_type": "stream",
     "text": [
      "Working out which clients to instruct\n",
      "Want 5 more clients, minimum 5\n",
      "Selected clients = ['55', '42', '24', '9', '50']\n",
      "Client finshed: 66\n",
      "Client finshed: 22\n",
      "Client finshed: 4\n",
      "Client finshed: 32\n"
     ]
    },
    {
     "name": "stderr",
     "output_type": "stream",
     "text": [
      "25063 DEBUG flwr 2023-03-23 11:26:58,255 | server.py:461 | Received enough responses from clients\n",
      "25063 DEBUG flwr 2023-03-23 11:26:58,263 | server.py:279 | fit_round 40 received 5 results and 0 failures\n"
     ]
    },
    {
     "name": "stdout",
     "output_type": "stream",
     "text": [
      "Client finshed: 71\n",
      "These clients sent updates: [('66', 3), ('22', 4), ('4', 3), ('32', 2), ('71', 2)]\n",
      "These clients failed: []\n"
     ]
    },
    {
     "name": "stderr",
     "output_type": "stream",
     "text": [
      "25063 DEBUG flwr 2023-03-23 11:27:01,365 | ray_client_proxy.py:87 | Task was killed due to the node running low on memory.\n",
      "Memory on the node (IP: 10.9.7.124, ID: ea2b13587c2e9d625b361e52dc5f78b8a73caf22d99d8e18efd742df) where the task (task ID: ddf88ddae169fea188cbd92d0b96ba59b7a1418001000000, name=launch_and_fit, pid=610919, memory used=0.05GB) was running was 7.27GB / 7.65GB (0.95012), which exceeds the memory usage threshold of 0.95. Ray killed this worker (ID: c83e3aef5953c358b73280279f822b36d2731476b4d433b9218edcb3) because it was the most recently scheduled task; to see more information about memory usage on this node, use `ray logs raylet.out -ip 10.9.7.124`. To see the logs of the worker, use `ray logs worker-c83e3aef5953c358b73280279f822b36d2731476b4d433b9218edcb3*out -ip 10.9.7.124. Top 10 memory users:\n",
      "PID\tMEM(GB)\tCOMMAND\n",
      "1868\t0.60\t/usr/lib/electron19/electron /usr/lib/code/out/bootstrap-fork --type=fileWatcher\n",
      "25063\t0.57\t/home/wash/LARGE/Work/L361_project/flower_fedbuff_project/venv/bin/python -m ipykernel_launcher --ip...\n",
      "1793\t0.38\t/usr/lib/electron19/electron --type=renderer --enable-crashpad --crashpad-handler-pid=1740 --enable-...\n",
      "457644\t0.34\t/usr/lib/firefox/firefox\n",
      "1968\t0.33\t/usr/lib/electron19/electron /home/wash/.vscode-oss/extensions/streetsidesoftware.code-spell-checker...\n",
      "1831\t0.25\t/usr/lib/electron19/electron --inspect-port=0 /usr/lib/code/out/bootstrap-fork --type=extensionHost ...\n",
      "1999\t0.23\t/home/wash/LARGE/Work/L361_project/flower_fedbuff_project/venv/bin/python /home/wash/.vscode-oss/ext...\n",
      "609571\t0.21\tray::IDLE\n",
      "609284\t0.21\tray::IDLE\n",
      "609272\t0.21\tray::IDLE\n",
      "Refer to the documentation on how to address the out of memory issue: https://docs.ray.io/en/latest/ray-core/scheduling/ray-oom-prevention.html. Consider provisioning more memory on this node or reducing task parallelism by requesting more CPUs per task. To adjust the kill threshold, set the environment variable `RAY_memory_usage_threshold` when starting Ray. To disable worker killing, set the environment variable `RAY_memory_monitor_refresh_ms` to zero.\n",
      "25063 DEBUG flwr 2023-03-23 11:27:01,897 | ray_client_proxy.py:87 | Task was killed due to the node running low on memory.\n",
      "Memory on the node (IP: 10.9.7.124, ID: ea2b13587c2e9d625b361e52dc5f78b8a73caf22d99d8e18efd742df) where the task (task ID: 78d508a61e218c55fd018d87c7cd623032e786cf01000000, name=launch_and_fit, pid=611033, memory used=0.05GB) was running was 7.27GB / 7.65GB (0.950258), which exceeds the memory usage threshold of 0.95. Ray killed this worker (ID: 8b5a43e727941ef304e7d226d9b0d2bd8ef50a7e2e212c20da2151cd) because it was the most recently scheduled task; to see more information about memory usage on this node, use `ray logs raylet.out -ip 10.9.7.124`. To see the logs of the worker, use `ray logs worker-8b5a43e727941ef304e7d226d9b0d2bd8ef50a7e2e212c20da2151cd*out -ip 10.9.7.124. Top 10 memory users:\n",
      "PID\tMEM(GB)\tCOMMAND\n",
      "1868\t0.60\t/usr/lib/electron19/electron /usr/lib/code/out/bootstrap-fork --type=fileWatcher\n",
      "25063\t0.57\t/home/wash/LARGE/Work/L361_project/flower_fedbuff_project/venv/bin/python -m ipykernel_launcher --ip...\n",
      "1793\t0.38\t/usr/lib/electron19/electron --type=renderer --enable-crashpad --crashpad-handler-pid=1740 --enable-...\n",
      "457644\t0.34\t/usr/lib/firefox/firefox\n",
      "1968\t0.33\t/usr/lib/electron19/electron /home/wash/.vscode-oss/extensions/streetsidesoftware.code-spell-checker...\n",
      "1831\t0.25\t/usr/lib/electron19/electron --inspect-port=0 /usr/lib/code/out/bootstrap-fork --type=extensionHost ...\n",
      "1999\t0.23\t/home/wash/LARGE/Work/L361_project/flower_fedbuff_project/venv/bin/python /home/wash/.vscode-oss/ext...\n",
      "609571\t0.21\tray::IDLE\n",
      "609322\t0.21\tray::IDLE\n",
      "609316\t0.20\tray::IDLE\n",
      "Refer to the documentation on how to address the out of memory issue: https://docs.ray.io/en/latest/ray-core/scheduling/ray-oom-prevention.html. Consider provisioning more memory on this node or reducing task parallelism by requesting more CPUs per task. To adjust the kill threshold, set the environment variable `RAY_memory_usage_threshold` when starting Ray. To disable worker killing, set the environment variable `RAY_memory_monitor_refresh_ms` to zero.\n",
      "25063 DEBUG flwr 2023-03-23 11:27:02,451 | ray_client_proxy.py:87 | Task was killed due to the node running low on memory.\n",
      "Memory on the node (IP: 10.9.7.124, ID: ea2b13587c2e9d625b361e52dc5f78b8a73caf22d99d8e18efd742df) where the task (task ID: d69182234a988d0a0deb93b6bc196ed0ee45063e01000000, name=launch_and_fit, pid=611107, memory used=0.05GB) was running was 7.28GB / 7.65GB (0.951685), which exceeds the memory usage threshold of 0.95. Ray killed this worker (ID: d2ba21823f1a455b7a07337d62f828d502157f9e0a5d17bc43510ecf) because it was the most recently scheduled task; to see more information about memory usage on this node, use `ray logs raylet.out -ip 10.9.7.124`. To see the logs of the worker, use `ray logs worker-d2ba21823f1a455b7a07337d62f828d502157f9e0a5d17bc43510ecf*out -ip 10.9.7.124. Top 10 memory users:\n",
      "PID\tMEM(GB)\tCOMMAND\n",
      "1868\t0.60\t/usr/lib/electron19/electron /usr/lib/code/out/bootstrap-fork --type=fileWatcher\n",
      "25063\t0.57\t/home/wash/LARGE/Work/L361_project/flower_fedbuff_project/venv/bin/python -m ipykernel_launcher --ip...\n",
      "1793\t0.38\t/usr/lib/electron19/electron --type=renderer --enable-crashpad --crashpad-handler-pid=1740 --enable-...\n",
      "457644\t0.33\t/usr/lib/firefox/firefox\n",
      "1968\t0.33\t/usr/lib/electron19/electron /home/wash/.vscode-oss/extensions/streetsidesoftware.code-spell-checker...\n",
      "1831\t0.25\t/usr/lib/electron19/electron --inspect-port=0 /usr/lib/code/out/bootstrap-fork --type=extensionHost ...\n",
      "1999\t0.23\t/home/wash/LARGE/Work/L361_project/flower_fedbuff_project/venv/bin/python /home/wash/.vscode-oss/ext...\n",
      "609571\t0.21\tray::IDLE\n",
      "609322\t0.21\tray::IDLE\n",
      "609316\t0.20\tray::IDLE\n",
      "Refer to the documentation on how to address the out of memory issue: https://docs.ray.io/en/latest/ray-core/scheduling/ray-oom-prevention.html. Consider provisioning more memory on this node or reducing task parallelism by requesting more CPUs per task. To adjust the kill threshold, set the environment variable `RAY_memory_usage_threshold` when starting Ray. To disable worker killing, set the environment variable `RAY_memory_monitor_refresh_ms` to zero.\n",
      "25063 DEBUG flwr 2023-03-23 11:27:03,011 | ray_client_proxy.py:87 | Task was killed due to the node running low on memory.\n",
      "Memory on the node (IP: 10.9.7.124, ID: ea2b13587c2e9d625b361e52dc5f78b8a73caf22d99d8e18efd742df) where the task (task ID: ea73f9fd54d6fa7b200be6068357df9e19ac0dcd01000000, name=launch_and_fit, pid=611130, memory used=0.05GB) was running was 7.29GB / 7.65GB (0.952657), which exceeds the memory usage threshold of 0.95. Ray killed this worker (ID: 01ec103be2abe5e8e81931a0a58f64b3e58e460c7941e42c1fc90c7c) because it was the most recently scheduled task; to see more information about memory usage on this node, use `ray logs raylet.out -ip 10.9.7.124`. To see the logs of the worker, use `ray logs worker-01ec103be2abe5e8e81931a0a58f64b3e58e460c7941e42c1fc90c7c*out -ip 10.9.7.124. Top 10 memory users:\n",
      "PID\tMEM(GB)\tCOMMAND\n",
      "1868\t0.60\t/usr/lib/electron19/electron /usr/lib/code/out/bootstrap-fork --type=fileWatcher\n",
      "25063\t0.57\t/home/wash/LARGE/Work/L361_project/flower_fedbuff_project/venv/bin/python -m ipykernel_launcher --ip...\n",
      "1793\t0.38\t/usr/lib/electron19/electron --type=renderer --enable-crashpad --crashpad-handler-pid=1740 --enable-...\n",
      "457644\t0.33\t/usr/lib/firefox/firefox\n",
      "1968\t0.33\t/usr/lib/electron19/electron /home/wash/.vscode-oss/extensions/streetsidesoftware.code-spell-checker...\n",
      "1831\t0.25\t/usr/lib/electron19/electron --inspect-port=0 /usr/lib/code/out/bootstrap-fork --type=extensionHost ...\n",
      "1999\t0.23\t/home/wash/LARGE/Work/L361_project/flower_fedbuff_project/venv/bin/python /home/wash/.vscode-oss/ext...\n",
      "609571\t0.21\tray::IDLE\n",
      "609316\t0.20\tray::IDLE\n",
      "609646\t0.20\tray::IDLE\n",
      "Refer to the documentation on how to address the out of memory issue: https://docs.ray.io/en/latest/ray-core/scheduling/ray-oom-prevention.html. Consider provisioning more memory on this node or reducing task parallelism by requesting more CPUs per task. To adjust the kill threshold, set the environment variable `RAY_memory_usage_threshold` when starting Ray. To disable worker killing, set the environment variable `RAY_memory_monitor_refresh_ms` to zero.\n",
      "25063 INFO flwr 2023-03-23 11:27:05,058 | server.py:140 | fit progress: (40, 314.9213111400604, {'accuracy': 0.4388}, 392.66593410599944)\n",
      "25063 INFO flwr 2023-03-23 11:27:05,059 | server.py:190 | evaluate_round 40: no clients selected, cancel\n",
      "25063 INFO flwr 2023-03-23 11:27:08,715 | server.py:171 | FL finished in 396.3228271459993\n",
      "25063 INFO flwr 2023-03-23 11:27:08,716 | app.py:225 | app_fit: losses_distributed []\n",
      "25063 INFO flwr 2023-03-23 11:27:08,718 | app.py:226 | app_fit: metrics_distributed_fit {}\n",
      "25063 INFO flwr 2023-03-23 11:27:08,719 | app.py:227 | app_fit: metrics_distributed {}\n",
      "25063 INFO flwr 2023-03-23 11:27:08,720 | app.py:228 | app_fit: losses_centralized [(0, 460.9094285964966), (1, 460.43916392326355), (2, 457.5443844795227), (3, 452.4597487449646), (4, 418.7530504465103), (5, 426.5658720731735), (6, 402.66586911678314), (7, 395.7196763753891), (8, 399.384733915329), (9, 394.0505907535553), (10, 399.4474798440933), (11, 383.6056053638458), (12, 386.04554641246796), (13, 384.11149501800537), (14, 375.31976211071014), (15, 366.4855606555939), (16, 363.82771027088165), (17, 367.6003544330597), (18, 355.1461982727051), (19, 348.9256978034973), (20, 354.5957851409912), (21, 357.54803335666656), (22, 341.9134613275528), (23, 340.70902705192566), (24, 347.0441002845764), (25, 345.8586879968643), (26, 334.88201463222504), (27, 328.2757748365402), (28, 337.49854481220245), (29, 322.21392571926117), (30, 321.13774931430817), (31, 331.1519651412964), (32, 335.3180375099182), (33, 323.2618854045868), (34, 340.6711263656616), (35, 319.4061896800995), (36, 364.5263285636902), (37, 311.78486716747284), (38, 311.5875611305237), (39, 310.1990475654602), (40, 314.9213111400604)]\n",
      "25063 INFO flwr 2023-03-23 11:27:08,721 | app.py:229 | app_fit: metrics_centralized {'accuracy': [(0, 0.0999), (1, 0.1338), (2, 0.1009), (3, 0.1093), (4, 0.2224), (5, 0.1937), (6, 0.2655), (7, 0.2834), (8, 0.2749), (9, 0.2717), (10, 0.2832), (11, 0.2947), (12, 0.2983), (13, 0.3066), (14, 0.3304), (15, 0.3398), (16, 0.3403), (17, 0.331), (18, 0.3369), (19, 0.3554), (20, 0.3589), (21, 0.3524), (22, 0.372), (23, 0.3786), (24, 0.3708), (25, 0.3647), (26, 0.3932), (27, 0.4035), (28, 0.3883), (29, 0.4226), (30, 0.4266), (31, 0.4015), (32, 0.3973), (33, 0.4054), (34, 0.3886), (35, 0.4268), (36, 0.3469), (37, 0.441), (38, 0.4418), (39, 0.4404), (40, 0.4388)]}\n"
     ]
    },
    {
     "name": "stdout",
     "output_type": "stream",
     "text": [
      "Files already downloaded and verified\n",
      "Generating unified CIFAR dataset\n",
      "Class histogram for 0-th partition (alpha=1, 10 classes): [ 17  14   8  70  79  29  16  48 134  85]\n"
     ]
    },
    {
     "name": "stderr",
     "output_type": "stream",
     "text": [
      "25063 INFO flwr 2023-03-23 11:27:15,482 | app.py:146 | Starting Flower simulation, config: ServerConfig(num_rounds=40, round_timeout=None, asynchronous=True)\n",
      "2023-03-23 11:27:19,774\tINFO worker.py:1553 -- Started a local Ray instance.\n",
      "25063 INFO flwr 2023-03-23 11:27:21,052 | app.py:180 | Flower VCE: Ray initialized with resources: {'CPU': 8.0, 'node:10.9.7.124': 1.0, 'memory': 2183317095.0, 'object_store_memory': 1091658547.0}\n",
      "25063 INFO flwr 2023-03-23 11:27:21,054 | server.py:95 | Initializing global parameters\n",
      "25063 INFO flwr 2023-03-23 11:27:21,054 | server.py:320 | Requesting initial parameters from one random client\n",
      "25063 INFO flwr 2023-03-23 11:27:22,537 | server.py:324 | Received initial parameters from one random client\n",
      "25063 INFO flwr 2023-03-23 11:27:22,539 | server.py:97 | Evaluating initial parameters\n",
      "25063 INFO flwr 2023-03-23 11:27:25,383 | server.py:100 | initial parameters (loss, other metrics): 460.7414813041687, {'accuracy': 0.0954}\n",
      "25063 INFO flwr 2023-03-23 11:27:25,384 | server.py:110 | FL starting\n",
      "25063 DEBUG flwr 2023-03-23 11:27:25,388 | server.py:255 | fit_round 1: strategy sampled 10 clients (out of 100)\n",
      "25063 DEBUG flwr 2023-03-23 11:27:25,389 | server.py:435 | Sending instructions to clients\n"
     ]
    },
    {
     "name": "stdout",
     "output_type": "stream",
     "text": [
      "Working out which clients to instruct\n",
      "Want 10 more clients, minimum 10\n",
      "Selected clients = ['65', '38', '25', '33', '87', '39', '91', '75', '35', '54']\n",
      "Client finshed: 39\n",
      "Client finshed: 75\n",
      "Client finshed: 87\n",
      "Client finshed: 65\n"
     ]
    },
    {
     "name": "stderr",
     "output_type": "stream",
     "text": [
      "25063 DEBUG flwr 2023-03-23 11:27:34,514 | server.py:461 | Received enough responses from clients\n",
      "25063 DEBUG flwr 2023-03-23 11:27:34,517 | server.py:279 | fit_round 1 received 5 results and 0 failures\n",
      "25063 WARNING flwr 2023-03-23 11:27:34,545 | fedbuff.py:257 | No fit_metrics_aggregation_fn provided\n"
     ]
    },
    {
     "name": "stdout",
     "output_type": "stream",
     "text": [
      "Client finshed: 38\n",
      "These clients sent updates: [('39', 0), ('75', 0), ('87', 0), ('65', 0), ('38', 0)]\n",
      "These clients failed: []\n"
     ]
    },
    {
     "name": "stderr",
     "output_type": "stream",
     "text": [
      "25063 INFO flwr 2023-03-23 11:27:38,901 | server.py:140 | fit progress: (1, 460.02940368652344, {'accuracy': 0.1264}, 13.515891028000624)\n",
      "25063 INFO flwr 2023-03-23 11:27:38,902 | server.py:190 | evaluate_round 1: no clients selected, cancel\n",
      "25063 DEBUG flwr 2023-03-23 11:27:38,905 | server.py:255 | fit_round 2: strategy sampled 5 clients (out of 100)\n",
      "25063 DEBUG flwr 2023-03-23 11:27:38,907 | server.py:435 | Sending instructions to clients\n"
     ]
    },
    {
     "name": "stdout",
     "output_type": "stream",
     "text": [
      "Working out which clients to instruct\n",
      "Want 5 more clients, minimum 5\n",
      "Selected clients = ['61', '44', '68', '50', '11']\n",
      "Client finshed: 91\n",
      "Client finshed: 33\n",
      "Client finshed: 25\n"
     ]
    },
    {
     "name": "stderr",
     "output_type": "stream",
     "text": [
      "25063 DEBUG flwr 2023-03-23 11:27:41,295 | server.py:461 | Received enough responses from clients\n",
      "25063 DEBUG flwr 2023-03-23 11:27:41,298 | server.py:279 | fit_round 2 received 5 results and 0 failures\n"
     ]
    },
    {
     "name": "stdout",
     "output_type": "stream",
     "text": [
      "Client finshed: 54\n",
      "Client finshed: 35\n",
      "These clients sent updates: [('91', 1), ('33', 1), ('25', 1), ('54', 1), ('35', 1)]\n",
      "These clients failed: []\n"
     ]
    },
    {
     "name": "stderr",
     "output_type": "stream",
     "text": [
      "25063 INFO flwr 2023-03-23 11:27:47,122 | server.py:140 | fit progress: (2, 467.8905465602875, {'accuracy': 0.1}, 21.73753452500023)\n",
      "25063 INFO flwr 2023-03-23 11:27:47,124 | server.py:190 | evaluate_round 2: no clients selected, cancel\n",
      "25063 DEBUG flwr 2023-03-23 11:27:47,129 | server.py:255 | fit_round 3: strategy sampled 5 clients (out of 100)\n",
      "25063 DEBUG flwr 2023-03-23 11:27:47,129 | server.py:435 | Sending instructions to clients\n"
     ]
    },
    {
     "name": "stdout",
     "output_type": "stream",
     "text": [
      "Working out which clients to instruct\n",
      "Want 5 more clients, minimum 5\n",
      "Selected clients = ['31', '21', '76', '37', '4']\n",
      "Client finshed: 61\n",
      "Client finshed: 68\n",
      "Client finshed: 44\n",
      "Client finshed: 50\n"
     ]
    },
    {
     "name": "stderr",
     "output_type": "stream",
     "text": [
      "25063 DEBUG flwr 2023-03-23 11:27:49,223 | server.py:461 | Received enough responses from clients\n",
      "25063 DEBUG flwr 2023-03-23 11:27:49,227 | server.py:279 | fit_round 3 received 5 results and 0 failures\n"
     ]
    },
    {
     "name": "stdout",
     "output_type": "stream",
     "text": [
      "Client finshed: 11\n",
      "These clients sent updates: [('61', 1), ('68', 1), ('44', 1), ('50', 1), ('11', 1)]\n",
      "These clients failed: []\n"
     ]
    },
    {
     "name": "stderr",
     "output_type": "stream",
     "text": [
      "25063 INFO flwr 2023-03-23 11:27:53,109 | server.py:140 | fit progress: (3, 453.4398009777069, {'accuracy': 0.1585}, 27.724478709999858)\n",
      "25063 INFO flwr 2023-03-23 11:27:53,111 | server.py:190 | evaluate_round 3: no clients selected, cancel\n",
      "25063 DEBUG flwr 2023-03-23 11:27:53,115 | server.py:255 | fit_round 4: strategy sampled 5 clients (out of 100)\n",
      "25063 DEBUG flwr 2023-03-23 11:27:53,116 | server.py:435 | Sending instructions to clients\n"
     ]
    },
    {
     "name": "stdout",
     "output_type": "stream",
     "text": [
      "Working out which clients to instruct\n",
      "Want 5 more clients, minimum 5\n",
      "Selected clients = ['70', '53', '85', '2', '36']\n",
      "Client finshed: 31\n",
      "Client finshed: 4\n",
      "Client finshed: 76\n",
      "Client finshed: 37\n"
     ]
    },
    {
     "name": "stderr",
     "output_type": "stream",
     "text": [
      "25063 DEBUG flwr 2023-03-23 11:27:58,257 | server.py:461 | Received enough responses from clients\n",
      "25063 DEBUG flwr 2023-03-23 11:27:58,260 | server.py:279 | fit_round 4 received 5 results and 0 failures\n"
     ]
    },
    {
     "name": "stdout",
     "output_type": "stream",
     "text": [
      "Client finshed: 21\n",
      "These clients sent updates: [('31', 1), ('4', 1), ('76', 1), ('37', 1), ('21', 1)]\n",
      "These clients failed: []\n"
     ]
    },
    {
     "name": "stderr",
     "output_type": "stream",
     "text": [
      "25063 INFO flwr 2023-03-23 11:28:03,157 | server.py:140 | fit progress: (4, 457.5788116455078, {'accuracy': 0.1355}, 37.77210062700033)\n",
      "25063 INFO flwr 2023-03-23 11:28:03,158 | server.py:190 | evaluate_round 4: no clients selected, cancel\n",
      "25063 DEBUG flwr 2023-03-23 11:28:03,162 | server.py:255 | fit_round 5: strategy sampled 5 clients (out of 100)\n",
      "25063 DEBUG flwr 2023-03-23 11:28:03,163 | server.py:435 | Sending instructions to clients\n"
     ]
    },
    {
     "name": "stdout",
     "output_type": "stream",
     "text": [
      "Working out which clients to instruct\n",
      "Want 5 more clients, minimum 5\n",
      "Selected clients = ['79', '41', '1', '39', '19']\n",
      "Client finshed: 2\n",
      "Client finshed: 85\n",
      "Client finshed: 70\n",
      "Client finshed: 36\n"
     ]
    },
    {
     "name": "stderr",
     "output_type": "stream",
     "text": [
      "25063 DEBUG flwr 2023-03-23 11:28:08,037 | server.py:461 | Received enough responses from clients\n",
      "25063 DEBUG flwr 2023-03-23 11:28:08,039 | server.py:279 | fit_round 5 received 5 results and 0 failures\n"
     ]
    },
    {
     "name": "stdout",
     "output_type": "stream",
     "text": [
      "Client finshed: 53\n",
      "These clients sent updates: [('2', 1), ('85', 1), ('70', 1), ('36', 1), ('53', 1)]\n",
      "These clients failed: []\n"
     ]
    },
    {
     "name": "stderr",
     "output_type": "stream",
     "text": [
      "25063 INFO flwr 2023-03-23 11:28:12,699 | server.py:140 | fit progress: (5, 411.76593816280365, {'accuracy': 0.2557}, 47.31448246800028)\n",
      "25063 INFO flwr 2023-03-23 11:28:12,701 | server.py:190 | evaluate_round 5: no clients selected, cancel\n",
      "25063 DEBUG flwr 2023-03-23 11:28:12,707 | server.py:255 | fit_round 6: strategy sampled 5 clients (out of 100)\n",
      "25063 DEBUG flwr 2023-03-23 11:28:12,709 | server.py:435 | Sending instructions to clients\n"
     ]
    },
    {
     "name": "stdout",
     "output_type": "stream",
     "text": [
      "Working out which clients to instruct\n",
      "Want 5 more clients, minimum 5\n",
      "Selected clients = ['92', '2', '38', '53', '3']\n",
      "Client finshed: 41\n",
      "Client finshed: 79\n",
      "Client finshed: 39\n",
      "Client finshed: 19\n"
     ]
    },
    {
     "name": "stderr",
     "output_type": "stream",
     "text": [
      "25063 DEBUG flwr 2023-03-23 11:28:17,218 | server.py:461 | Received enough responses from clients\n",
      "25063 DEBUG flwr 2023-03-23 11:28:17,220 | server.py:279 | fit_round 6 received 5 results and 0 failures\n"
     ]
    },
    {
     "name": "stdout",
     "output_type": "stream",
     "text": [
      "Client finshed: 1\n",
      "These clients sent updates: [('41', 1), ('79', 1), ('39', 1), ('19', 1), ('1', 1)]\n",
      "These clients failed: []\n"
     ]
    },
    {
     "name": "stderr",
     "output_type": "stream",
     "text": [
      "25063 INFO flwr 2023-03-23 11:28:21,426 | server.py:140 | fit progress: (6, 449.55529749393463, {'accuracy': 0.1869}, 56.04117440800019)\n",
      "25063 INFO flwr 2023-03-23 11:28:21,427 | server.py:190 | evaluate_round 6: no clients selected, cancel\n",
      "25063 DEBUG flwr 2023-03-23 11:28:21,431 | server.py:255 | fit_round 7: strategy sampled 5 clients (out of 100)\n",
      "25063 DEBUG flwr 2023-03-23 11:28:21,432 | server.py:435 | Sending instructions to clients\n"
     ]
    },
    {
     "name": "stdout",
     "output_type": "stream",
     "text": [
      "Working out which clients to instruct\n",
      "Want 5 more clients, minimum 5\n",
      "Selected clients = ['40', '22', '44', '18', '82']\n",
      "Client finshed: 92\n",
      "Client finshed: 3\n",
      "Client finshed: 2\n",
      "Client finshed: 38\n"
     ]
    },
    {
     "name": "stderr",
     "output_type": "stream",
     "text": [
      "25063 DEBUG flwr 2023-03-23 11:28:25,158 | server.py:461 | Received enough responses from clients\n",
      "25063 DEBUG flwr 2023-03-23 11:28:25,160 | server.py:279 | fit_round 7 received 5 results and 0 failures\n"
     ]
    },
    {
     "name": "stdout",
     "output_type": "stream",
     "text": [
      "Client finshed: 53\n",
      "These clients sent updates: [('92', 1), ('3', 1), ('2', 1), ('38', 1), ('53', 1)]\n",
      "These clients failed: []\n"
     ]
    },
    {
     "name": "stderr",
     "output_type": "stream",
     "text": [
      "25063 INFO flwr 2023-03-23 11:28:30,716 | server.py:140 | fit progress: (7, 408.97092270851135, {'accuracy': 0.2501}, 65.33156737300033)\n",
      "25063 INFO flwr 2023-03-23 11:28:30,717 | server.py:190 | evaluate_round 7: no clients selected, cancel\n",
      "25063 DEBUG flwr 2023-03-23 11:28:30,722 | server.py:255 | fit_round 8: strategy sampled 5 clients (out of 100)\n",
      "25063 DEBUG flwr 2023-03-23 11:28:30,723 | server.py:435 | Sending instructions to clients\n"
     ]
    },
    {
     "name": "stdout",
     "output_type": "stream",
     "text": [
      "Working out which clients to instruct\n",
      "Want 5 more clients, minimum 5\n",
      "Selected clients = ['58', '56', '55', '80', '74']\n",
      "Client finshed: 22\n",
      "Client finshed: 44\n",
      "Client finshed: 40\n"
     ]
    },
    {
     "name": "stderr",
     "output_type": "stream",
     "text": [
      "25063 DEBUG flwr 2023-03-23 11:28:35,931 | server.py:461 | Received enough responses from clients\n",
      "25063 DEBUG flwr 2023-03-23 11:28:35,933 | server.py:279 | fit_round 8 received 5 results and 0 failures\n"
     ]
    },
    {
     "name": "stdout",
     "output_type": "stream",
     "text": [
      "Client finshed: 82\n",
      "Client finshed: 18\n",
      "These clients sent updates: [('22', 1), ('44', 1), ('40', 1), ('82', 1), ('18', 1)]\n",
      "These clients failed: []\n"
     ]
    },
    {
     "name": "stderr",
     "output_type": "stream",
     "text": [
      "25063 INFO flwr 2023-03-23 11:28:40,359 | server.py:140 | fit progress: (8, 427.8487706184387, {'accuracy': 0.1757}, 74.9746454570004)\n",
      "25063 INFO flwr 2023-03-23 11:28:40,361 | server.py:190 | evaluate_round 8: no clients selected, cancel\n",
      "25063 DEBUG flwr 2023-03-23 11:28:40,366 | server.py:255 | fit_round 9: strategy sampled 5 clients (out of 100)\n",
      "25063 DEBUG flwr 2023-03-23 11:28:40,367 | server.py:435 | Sending instructions to clients\n"
     ]
    },
    {
     "name": "stdout",
     "output_type": "stream",
     "text": [
      "Working out which clients to instruct\n",
      "Want 5 more clients, minimum 5\n",
      "Selected clients = ['66', '28', '93', '73', '78']\n",
      "Client finshed: 56\n",
      "Client finshed: 80\n",
      "Client finshed: 58\n",
      "Client finshed: 55\n"
     ]
    },
    {
     "name": "stderr",
     "output_type": "stream",
     "text": [
      "25063 DEBUG flwr 2023-03-23 11:28:44,150 | server.py:461 | Received enough responses from clients\n",
      "25063 DEBUG flwr 2023-03-23 11:28:44,156 | server.py:279 | fit_round 9 received 5 results and 0 failures\n"
     ]
    },
    {
     "name": "stdout",
     "output_type": "stream",
     "text": [
      "Client finshed: 74\n",
      "These clients sent updates: [('56', 1), ('80', 1), ('58', 1), ('55', 1), ('74', 1)]\n",
      "These clients failed: []\n"
     ]
    },
    {
     "name": "stderr",
     "output_type": "stream",
     "text": [
      "25063 INFO flwr 2023-03-23 11:28:48,654 | server.py:140 | fit progress: (9, 391.37866044044495, {'accuracy': 0.2926}, 83.26911497099991)\n",
      "25063 INFO flwr 2023-03-23 11:28:48,655 | server.py:190 | evaluate_round 9: no clients selected, cancel\n",
      "25063 DEBUG flwr 2023-03-23 11:28:48,659 | server.py:255 | fit_round 10: strategy sampled 5 clients (out of 100)\n",
      "25063 DEBUG flwr 2023-03-23 11:28:48,660 | server.py:435 | Sending instructions to clients\n"
     ]
    },
    {
     "name": "stdout",
     "output_type": "stream",
     "text": [
      "Working out which clients to instruct\n",
      "Want 5 more clients, minimum 5\n",
      "Selected clients = ['82', '88', '33', '84', '11']\n",
      "Client finshed: 66\n",
      "Client finshed: 73\n",
      "Client finshed: 28\n",
      "Client finshed: 93\n"
     ]
    },
    {
     "name": "stderr",
     "output_type": "stream",
     "text": [
      "25063 DEBUG flwr 2023-03-23 11:28:54,113 | server.py:461 | Received enough responses from clients\n",
      "25063 DEBUG flwr 2023-03-23 11:28:54,114 | server.py:279 | fit_round 10 received 5 results and 0 failures\n"
     ]
    },
    {
     "name": "stdout",
     "output_type": "stream",
     "text": [
      "Client finshed: 78\n",
      "These clients sent updates: [('66', 1), ('73', 1), ('28', 1), ('93', 1), ('78', 1)]\n",
      "These clients failed: []\n"
     ]
    },
    {
     "name": "stderr",
     "output_type": "stream",
     "text": [
      "25063 INFO flwr 2023-03-23 11:28:58,978 | server.py:140 | fit progress: (10, 402.2407660484314, {'accuracy': 0.2381}, 93.59335219900004)\n",
      "25063 INFO flwr 2023-03-23 11:28:58,981 | server.py:190 | evaluate_round 10: no clients selected, cancel\n",
      "25063 DEBUG flwr 2023-03-23 11:28:58,989 | server.py:255 | fit_round 11: strategy sampled 5 clients (out of 100)\n",
      "25063 DEBUG flwr 2023-03-23 11:28:58,991 | server.py:435 | Sending instructions to clients\n"
     ]
    },
    {
     "name": "stdout",
     "output_type": "stream",
     "text": [
      "Working out which clients to instruct\n",
      "Want 5 more clients, minimum 5\n",
      "Selected clients = ['77', '35', '61', '13', '71']\n",
      "Client finshed: 82\n",
      "Client finshed: 84\n",
      "Client finshed: 33\n"
     ]
    },
    {
     "name": "stderr",
     "output_type": "stream",
     "text": [
      "25063 DEBUG flwr 2023-03-23 11:29:05,329 | server.py:461 | Received enough responses from clients\n",
      "25063 DEBUG flwr 2023-03-23 11:29:05,332 | server.py:279 | fit_round 11 received 5 results and 0 failures\n"
     ]
    },
    {
     "name": "stdout",
     "output_type": "stream",
     "text": [
      "Client finshed: 11\n",
      "Client finshed: 88\n",
      "These clients sent updates: [('82', 1), ('84', 1), ('33', 1), ('11', 1), ('88', 1)]\n",
      "These clients failed: []\n"
     ]
    },
    {
     "name": "stderr",
     "output_type": "stream",
     "text": [
      "25063 INFO flwr 2023-03-23 11:29:10,532 | server.py:140 | fit progress: (11, 393.6101200580597, {'accuracy': 0.2805}, 105.14760481400026)\n",
      "25063 INFO flwr 2023-03-23 11:29:10,533 | server.py:190 | evaluate_round 11: no clients selected, cancel\n",
      "25063 DEBUG flwr 2023-03-23 11:29:10,539 | server.py:255 | fit_round 12: strategy sampled 5 clients (out of 100)\n",
      "25063 DEBUG flwr 2023-03-23 11:29:10,539 | server.py:435 | Sending instructions to clients\n"
     ]
    },
    {
     "name": "stdout",
     "output_type": "stream",
     "text": [
      "Working out which clients to instruct\n",
      "Want 5 more clients, minimum 5\n",
      "Selected clients = ['98', '25', '21', '43', '99']\n",
      "Client finshed: 77\n",
      "Client finshed: 61\n",
      "Client finshed: 35\n",
      "Client finshed: 13\n"
     ]
    },
    {
     "name": "stderr",
     "output_type": "stream",
     "text": [
      "25063 DEBUG flwr 2023-03-23 11:29:12,686 | server.py:461 | Received enough responses from clients\n",
      "25063 DEBUG flwr 2023-03-23 11:29:12,689 | server.py:279 | fit_round 12 received 5 results and 0 failures\n"
     ]
    },
    {
     "name": "stdout",
     "output_type": "stream",
     "text": [
      "Client finshed: 71\n",
      "These clients sent updates: [('77', 1), ('61', 1), ('35', 1), ('13', 1), ('71', 1)]\n",
      "These clients failed: []\n"
     ]
    },
    {
     "name": "stderr",
     "output_type": "stream",
     "text": [
      "25063 INFO flwr 2023-03-23 11:29:17,779 | server.py:140 | fit progress: (12, 370.43544471263885, {'accuracy': 0.31}, 112.39464520000001)\n",
      "25063 INFO flwr 2023-03-23 11:29:17,781 | server.py:190 | evaluate_round 12: no clients selected, cancel\n",
      "25063 DEBUG flwr 2023-03-23 11:29:17,785 | server.py:255 | fit_round 13: strategy sampled 5 clients (out of 100)\n",
      "25063 DEBUG flwr 2023-03-23 11:29:17,786 | server.py:435 | Sending instructions to clients\n"
     ]
    },
    {
     "name": "stdout",
     "output_type": "stream",
     "text": [
      "Working out which clients to instruct\n",
      "Want 5 more clients, minimum 5\n",
      "Selected clients = ['52', '87', '40', '14', '88']\n",
      "Client finshed: 43\n",
      "Client finshed: 21\n",
      "Client finshed: 99\n",
      "Client finshed: 25\n"
     ]
    },
    {
     "name": "stderr",
     "output_type": "stream",
     "text": [
      "25063 DEBUG flwr 2023-03-23 11:29:23,513 | server.py:461 | Received enough responses from clients\n",
      "25063 DEBUG flwr 2023-03-23 11:29:23,516 | server.py:279 | fit_round 13 received 5 results and 0 failures\n"
     ]
    },
    {
     "name": "stdout",
     "output_type": "stream",
     "text": [
      "Client finshed: 98\n",
      "These clients sent updates: [('43', 1), ('21', 1), ('99', 1), ('25', 1), ('98', 1)]\n",
      "These clients failed: []\n"
     ]
    },
    {
     "name": "stderr",
     "output_type": "stream",
     "text": [
      "25063 INFO flwr 2023-03-23 11:29:28,300 | server.py:140 | fit progress: (13, 556.425657749176, {'accuracy': 0.1391}, 122.91467169299995)\n",
      "25063 INFO flwr 2023-03-23 11:29:28,301 | server.py:190 | evaluate_round 13: no clients selected, cancel\n",
      "25063 DEBUG flwr 2023-03-23 11:29:28,305 | server.py:255 | fit_round 14: strategy sampled 5 clients (out of 100)\n",
      "25063 DEBUG flwr 2023-03-23 11:29:28,306 | server.py:435 | Sending instructions to clients\n"
     ]
    },
    {
     "name": "stdout",
     "output_type": "stream",
     "text": [
      "Working out which clients to instruct\n",
      "Want 5 more clients, minimum 5\n",
      "Selected clients = ['83', '48', '21', '78', '99']\n",
      "Client finshed: 52\n",
      "Client finshed: 87\n",
      "Client finshed: 40\n",
      "Client finshed: 14\n"
     ]
    },
    {
     "name": "stderr",
     "output_type": "stream",
     "text": [
      "25063 DEBUG flwr 2023-03-23 11:29:32,229 | server.py:461 | Received enough responses from clients\n",
      "25063 DEBUG flwr 2023-03-23 11:29:32,233 | server.py:279 | fit_round 14 received 5 results and 0 failures\n"
     ]
    },
    {
     "name": "stdout",
     "output_type": "stream",
     "text": [
      "Client finshed: 88\n",
      "These clients sent updates: [('52', 1), ('87', 1), ('40', 1), ('14', 1), ('88', 1)]\n",
      "These clients failed: []\n"
     ]
    },
    {
     "name": "stderr",
     "output_type": "stream",
     "text": [
      "25063 INFO flwr 2023-03-23 11:29:36,723 | server.py:140 | fit progress: (14, 380.3886775970459, {'accuracy': 0.2958}, 131.3380724839999)\n",
      "25063 INFO flwr 2023-03-23 11:29:36,724 | server.py:190 | evaluate_round 14: no clients selected, cancel\n",
      "25063 DEBUG flwr 2023-03-23 11:29:36,729 | server.py:255 | fit_round 15: strategy sampled 5 clients (out of 100)\n",
      "25063 DEBUG flwr 2023-03-23 11:29:36,730 | server.py:435 | Sending instructions to clients\n"
     ]
    },
    {
     "name": "stdout",
     "output_type": "stream",
     "text": [
      "Working out which clients to instruct\n",
      "Want 5 more clients, minimum 5\n",
      "Selected clients = ['37', '40', '84', '64', '89']\n",
      "Client finshed: 99\n",
      "Client finshed: 21\n",
      "Client finshed: 78\n",
      "Client finshed: 83\n"
     ]
    },
    {
     "name": "stderr",
     "output_type": "stream",
     "text": [
      "25063 DEBUG flwr 2023-03-23 11:29:38,828 | server.py:461 | Received enough responses from clients\n",
      "25063 DEBUG flwr 2023-03-23 11:29:38,829 | server.py:279 | fit_round 15 received 5 results and 0 failures\n"
     ]
    },
    {
     "name": "stdout",
     "output_type": "stream",
     "text": [
      "Client finshed: 48\n",
      "These clients sent updates: [('99', 1), ('21', 1), ('78', 1), ('83', 1), ('48', 1)]\n",
      "These clients failed: []\n"
     ]
    },
    {
     "name": "stderr",
     "output_type": "stream",
     "text": [
      "25063 INFO flwr 2023-03-23 11:29:44,200 | server.py:140 | fit progress: (15, 362.3116809129715, {'accuracy': 0.3326}, 138.81509025800005)\n",
      "25063 INFO flwr 2023-03-23 11:29:44,202 | server.py:190 | evaluate_round 15: no clients selected, cancel\n",
      "25063 DEBUG flwr 2023-03-23 11:29:44,208 | server.py:255 | fit_round 16: strategy sampled 5 clients (out of 100)\n",
      "25063 DEBUG flwr 2023-03-23 11:29:44,210 | server.py:435 | Sending instructions to clients\n"
     ]
    },
    {
     "name": "stdout",
     "output_type": "stream",
     "text": [
      "Working out which clients to instruct\n",
      "Want 5 more clients, minimum 5\n",
      "Selected clients = ['75', '98', '99', '10', '96']\n",
      "Client finshed: 64\n",
      "Client finshed: 84\n",
      "Client finshed: 37\n",
      "Client finshed: 89\n"
     ]
    },
    {
     "name": "stderr",
     "output_type": "stream",
     "text": [
      "25063 DEBUG flwr 2023-03-23 11:29:48,694 | server.py:461 | Received enough responses from clients\n",
      "25063 DEBUG flwr 2023-03-23 11:29:48,696 | server.py:279 | fit_round 16 received 5 results and 0 failures\n"
     ]
    },
    {
     "name": "stdout",
     "output_type": "stream",
     "text": [
      "Client finshed: 40\n",
      "These clients sent updates: [('64', 1), ('84', 1), ('37', 1), ('89', 1), ('40', 1)]\n",
      "These clients failed: []\n"
     ]
    },
    {
     "name": "stderr",
     "output_type": "stream",
     "text": [
      "25063 INFO flwr 2023-03-23 11:29:53,535 | server.py:140 | fit progress: (16, 402.0072640180588, {'accuracy': 0.314}, 148.15041467799983)\n",
      "25063 INFO flwr 2023-03-23 11:29:53,536 | server.py:190 | evaluate_round 16: no clients selected, cancel\n",
      "25063 DEBUG flwr 2023-03-23 11:29:53,540 | server.py:255 | fit_round 17: strategy sampled 5 clients (out of 100)\n",
      "25063 DEBUG flwr 2023-03-23 11:29:53,541 | server.py:435 | Sending instructions to clients\n"
     ]
    },
    {
     "name": "stdout",
     "output_type": "stream",
     "text": [
      "Working out which clients to instruct\n",
      "Want 5 more clients, minimum 5\n",
      "Selected clients = ['83', '26', '53', '51', '86']\n",
      "Client finshed: 75\n",
      "Client finshed: 99\n",
      "Client finshed: 98\n",
      "Client finshed: 10\n"
     ]
    },
    {
     "name": "stderr",
     "output_type": "stream",
     "text": [
      "25063 DEBUG flwr 2023-03-23 11:29:58,867 | server.py:461 | Received enough responses from clients\n",
      "25063 DEBUG flwr 2023-03-23 11:29:58,868 | server.py:279 | fit_round 17 received 5 results and 0 failures\n"
     ]
    },
    {
     "name": "stdout",
     "output_type": "stream",
     "text": [
      "Client finshed: 96\n",
      "These clients sent updates: [('75', 1), ('99', 1), ('98', 1), ('10', 1), ('96', 1)]\n",
      "These clients failed: []\n"
     ]
    },
    {
     "name": "stderr",
     "output_type": "stream",
     "text": [
      "25063 INFO flwr 2023-03-23 11:30:04,354 | server.py:140 | fit progress: (17, 604.3877830505371, {'accuracy': 0.1842}, 158.96894559500015)\n",
      "25063 INFO flwr 2023-03-23 11:30:04,355 | server.py:190 | evaluate_round 17: no clients selected, cancel\n",
      "25063 DEBUG flwr 2023-03-23 11:30:04,360 | server.py:255 | fit_round 18: strategy sampled 5 clients (out of 100)\n",
      "25063 DEBUG flwr 2023-03-23 11:30:04,361 | server.py:435 | Sending instructions to clients\n"
     ]
    },
    {
     "name": "stdout",
     "output_type": "stream",
     "text": [
      "Working out which clients to instruct\n",
      "Want 5 more clients, minimum 5\n",
      "Selected clients = ['71', '72', '10', '45', '3']\n",
      "Client finshed: 26\n",
      "Client finshed: 51\n",
      "Client finshed: 83\n",
      "Client finshed: 86\n"
     ]
    },
    {
     "name": "stderr",
     "output_type": "stream",
     "text": [
      "25063 DEBUG flwr 2023-03-23 11:30:07,115 | server.py:461 | Received enough responses from clients\n",
      "25063 DEBUG flwr 2023-03-23 11:30:07,117 | server.py:279 | fit_round 18 received 5 results and 0 failures\n"
     ]
    },
    {
     "name": "stdout",
     "output_type": "stream",
     "text": [
      "Client finshed: 53\n",
      "These clients sent updates: [('26', 1), ('51', 1), ('83', 1), ('86', 1), ('53', 1)]\n",
      "These clients failed: []\n"
     ]
    },
    {
     "name": "stderr",
     "output_type": "stream",
     "text": [
      "25063 INFO flwr 2023-03-23 11:30:12,267 | server.py:140 | fit progress: (18, 377.0600937604904, {'accuracy': 0.3103}, 166.88194490500064)\n",
      "25063 INFO flwr 2023-03-23 11:30:12,268 | server.py:190 | evaluate_round 18: no clients selected, cancel\n",
      "25063 DEBUG flwr 2023-03-23 11:30:12,272 | server.py:255 | fit_round 19: strategy sampled 5 clients (out of 100)\n",
      "25063 DEBUG flwr 2023-03-23 11:30:12,273 | server.py:435 | Sending instructions to clients\n"
     ]
    },
    {
     "name": "stdout",
     "output_type": "stream",
     "text": [
      "Working out which clients to instruct\n",
      "Want 5 more clients, minimum 5\n",
      "Selected clients = ['62', '14', '54', '81', '8']\n",
      "Client finshed: 72\n",
      "Client finshed: 71\n",
      "Client finshed: 45\n"
     ]
    },
    {
     "name": "stderr",
     "output_type": "stream",
     "text": [
      "25063 DEBUG flwr 2023-03-23 11:30:14,361 | server.py:461 | Received enough responses from clients\n",
      "25063 DEBUG flwr 2023-03-23 11:30:14,362 | server.py:279 | fit_round 19 received 5 results and 0 failures\n"
     ]
    },
    {
     "name": "stdout",
     "output_type": "stream",
     "text": [
      "Client finshed: 10\n",
      "Client finshed: 3\n",
      "These clients sent updates: [('72', 1), ('71', 1), ('45', 1), ('10', 1), ('3', 1)]\n",
      "These clients failed: []\n"
     ]
    },
    {
     "name": "stderr",
     "output_type": "stream",
     "text": [
      "25063 INFO flwr 2023-03-23 11:30:18,724 | server.py:140 | fit progress: (19, 380.1707429885864, {'accuracy': 0.2711}, 173.3396401250002)\n",
      "25063 INFO flwr 2023-03-23 11:30:18,726 | server.py:190 | evaluate_round 19: no clients selected, cancel\n",
      "25063 DEBUG flwr 2023-03-23 11:30:18,732 | server.py:255 | fit_round 20: strategy sampled 5 clients (out of 100)\n",
      "25063 DEBUG flwr 2023-03-23 11:30:18,733 | server.py:435 | Sending instructions to clients\n"
     ]
    },
    {
     "name": "stdout",
     "output_type": "stream",
     "text": [
      "Working out which clients to instruct\n",
      "Want 5 more clients, minimum 5\n",
      "Selected clients = ['55', '33', '77', '16', '17']\n",
      "Client finshed: 62\n",
      "Client finshed: 14\n",
      "Client finshed: 54\n",
      "Client finshed: 81\n"
     ]
    },
    {
     "name": "stderr",
     "output_type": "stream",
     "text": [
      "25063 DEBUG flwr 2023-03-23 11:30:23,416 | server.py:461 | Received enough responses from clients\n",
      "25063 DEBUG flwr 2023-03-23 11:30:23,418 | server.py:279 | fit_round 20 received 5 results and 0 failures\n"
     ]
    },
    {
     "name": "stdout",
     "output_type": "stream",
     "text": [
      "Client finshed: 8\n",
      "These clients sent updates: [('62', 1), ('14', 1), ('54', 1), ('81', 1), ('8', 1)]\n",
      "These clients failed: []\n"
     ]
    },
    {
     "name": "stderr",
     "output_type": "stream",
     "text": [
      "25063 INFO flwr 2023-03-23 11:30:27,667 | server.py:140 | fit progress: (20, 383.32626712322235, {'accuracy': 0.3124}, 182.28208589299993)\n",
      "25063 INFO flwr 2023-03-23 11:30:27,668 | server.py:190 | evaluate_round 20: no clients selected, cancel\n",
      "25063 DEBUG flwr 2023-03-23 11:30:27,672 | server.py:255 | fit_round 21: strategy sampled 5 clients (out of 100)\n",
      "25063 DEBUG flwr 2023-03-23 11:30:27,673 | server.py:435 | Sending instructions to clients\n"
     ]
    },
    {
     "name": "stdout",
     "output_type": "stream",
     "text": [
      "Working out which clients to instruct\n",
      "Want 5 more clients, minimum 5\n",
      "Selected clients = ['12', '98', '8', '61', '3']\n",
      "Client finshed: 33\n",
      "Client finshed: 55\n",
      "Client finshed: 77\n",
      "Client finshed: 17\n"
     ]
    },
    {
     "name": "stderr",
     "output_type": "stream",
     "text": [
      "25063 DEBUG flwr 2023-03-23 11:30:30,369 | server.py:461 | Received enough responses from clients\n",
      "25063 DEBUG flwr 2023-03-23 11:30:30,373 | server.py:279 | fit_round 21 received 5 results and 0 failures\n"
     ]
    },
    {
     "name": "stdout",
     "output_type": "stream",
     "text": [
      "Client finshed: 16\n",
      "These clients sent updates: [('33', 1), ('55', 1), ('77', 1), ('17', 1), ('16', 1)]\n",
      "These clients failed: []\n"
     ]
    },
    {
     "name": "stderr",
     "output_type": "stream",
     "text": [
      "25063 INFO flwr 2023-03-23 11:30:34,804 | server.py:140 | fit progress: (21, 348.0370125770569, {'accuracy': 0.3392}, 189.4188129310005)\n",
      "25063 INFO flwr 2023-03-23 11:30:34,805 | server.py:190 | evaluate_round 21: no clients selected, cancel\n",
      "25063 DEBUG flwr 2023-03-23 11:30:34,810 | server.py:255 | fit_round 22: strategy sampled 5 clients (out of 100)\n",
      "25063 DEBUG flwr 2023-03-23 11:30:34,810 | server.py:435 | Sending instructions to clients\n"
     ]
    },
    {
     "name": "stdout",
     "output_type": "stream",
     "text": [
      "Working out which clients to instruct\n",
      "Want 5 more clients, minimum 5\n",
      "Selected clients = ['47', '94', '7', '49', '52']\n",
      "Client finshed: 61\n",
      "Client finshed: 8\n",
      "Client finshed: 3\n"
     ]
    },
    {
     "name": "stderr",
     "output_type": "stream",
     "text": [
      "25063 DEBUG flwr 2023-03-23 11:30:38,407 | server.py:461 | Received enough responses from clients\n",
      "25063 DEBUG flwr 2023-03-23 11:30:38,416 | server.py:279 | fit_round 22 received 5 results and 0 failures\n"
     ]
    },
    {
     "name": "stdout",
     "output_type": "stream",
     "text": [
      "Client finshed: 12\n",
      "Client finshed: 98\n",
      "These clients sent updates: [('61', 1), ('8', 1), ('3', 1), ('12', 1), ('98', 1)]\n",
      "These clients failed: []\n"
     ]
    },
    {
     "name": "stderr",
     "output_type": "stream",
     "text": [
      "25063 INFO flwr 2023-03-23 11:30:44,351 | server.py:140 | fit progress: (22, 414.28019857406616, {'accuracy': 0.2817}, 198.96567788100037)\n",
      "25063 INFO flwr 2023-03-23 11:30:44,352 | server.py:190 | evaluate_round 22: no clients selected, cancel\n",
      "25063 DEBUG flwr 2023-03-23 11:30:44,356 | server.py:255 | fit_round 23: strategy sampled 5 clients (out of 100)\n",
      "25063 DEBUG flwr 2023-03-23 11:30:44,357 | server.py:435 | Sending instructions to clients\n"
     ]
    },
    {
     "name": "stdout",
     "output_type": "stream",
     "text": [
      "Working out which clients to instruct\n",
      "Want 5 more clients, minimum 5\n",
      "Selected clients = ['15', '5', '1', '43', '85']\n",
      "Client finshed: 94\n",
      "Client finshed: 7\n",
      "Client finshed: 47\n",
      "Client finshed: 52\n"
     ]
    },
    {
     "name": "stderr",
     "output_type": "stream",
     "text": [
      "25063 DEBUG flwr 2023-03-23 11:30:51,171 | server.py:461 | Received enough responses from clients\n",
      "25063 DEBUG flwr 2023-03-23 11:30:51,176 | server.py:279 | fit_round 23 received 5 results and 0 failures\n"
     ]
    },
    {
     "name": "stdout",
     "output_type": "stream",
     "text": [
      "Client finshed: 49\n",
      "These clients sent updates: [('94', 1), ('7', 1), ('47', 1), ('52', 1), ('49', 1)]\n",
      "These clients failed: []\n"
     ]
    },
    {
     "name": "stderr",
     "output_type": "stream",
     "text": [
      "25063 INFO flwr 2023-03-23 11:30:56,117 | server.py:140 | fit progress: (23, 356.2068817615509, {'accuracy': 0.3398}, 210.73241568699996)\n",
      "25063 INFO flwr 2023-03-23 11:30:56,119 | server.py:190 | evaluate_round 23: no clients selected, cancel\n",
      "25063 DEBUG flwr 2023-03-23 11:30:56,124 | server.py:255 | fit_round 24: strategy sampled 5 clients (out of 100)\n",
      "25063 DEBUG flwr 2023-03-23 11:30:56,125 | server.py:435 | Sending instructions to clients\n"
     ]
    },
    {
     "name": "stdout",
     "output_type": "stream",
     "text": [
      "Working out which clients to instruct\n",
      "Want 5 more clients, minimum 5\n",
      "Selected clients = ['3', '51', '96', '92', '87']\n",
      "Client finshed: 15\n",
      "Client finshed: 5\n",
      "Client finshed: 1\n",
      "Client finshed: 85\n"
     ]
    },
    {
     "name": "stderr",
     "output_type": "stream",
     "text": [
      "25063 DEBUG flwr 2023-03-23 11:31:01,779 | server.py:461 | Received enough responses from clients\n",
      "25063 DEBUG flwr 2023-03-23 11:31:01,783 | server.py:279 | fit_round 24 received 5 results and 0 failures\n"
     ]
    },
    {
     "name": "stdout",
     "output_type": "stream",
     "text": [
      "Client finshed: 43\n",
      "These clients sent updates: [('15', 1), ('5', 1), ('1', 1), ('85', 1), ('43', 1)]\n",
      "These clients failed: []\n"
     ]
    },
    {
     "name": "stderr",
     "output_type": "stream",
     "text": [
      "25063 INFO flwr 2023-03-23 11:31:06,584 | server.py:140 | fit progress: (24, 378.6487411260605, {'accuracy': 0.3237}, 221.19915766299982)\n",
      "25063 INFO flwr 2023-03-23 11:31:06,585 | server.py:190 | evaluate_round 24: no clients selected, cancel\n",
      "25063 DEBUG flwr 2023-03-23 11:31:06,590 | server.py:255 | fit_round 25: strategy sampled 5 clients (out of 100)\n",
      "25063 DEBUG flwr 2023-03-23 11:31:06,591 | server.py:435 | Sending instructions to clients\n"
     ]
    },
    {
     "name": "stdout",
     "output_type": "stream",
     "text": [
      "Working out which clients to instruct\n",
      "Want 5 more clients, minimum 5\n",
      "Selected clients = ['53', '83', '12', '79', '97']\n",
      "Client finshed: 3\n",
      "Client finshed: 87\n",
      "Client finshed: 92\n",
      "Client finshed: 96\n"
     ]
    },
    {
     "name": "stderr",
     "output_type": "stream",
     "text": [
      "25063 DEBUG flwr 2023-03-23 11:31:09,646 | server.py:461 | Received enough responses from clients\n",
      "25063 DEBUG flwr 2023-03-23 11:31:09,648 | server.py:279 | fit_round 25 received 5 results and 0 failures\n"
     ]
    },
    {
     "name": "stdout",
     "output_type": "stream",
     "text": [
      "Client finshed: 51\n",
      "These clients sent updates: [('3', 1), ('87', 1), ('92', 1), ('96', 1), ('51', 1)]\n",
      "These clients failed: []\n"
     ]
    },
    {
     "name": "stderr",
     "output_type": "stream",
     "text": [
      "25063 INFO flwr 2023-03-23 11:31:14,316 | server.py:140 | fit progress: (25, 360.1484377384186, {'accuracy': 0.3726}, 228.93145407700013)\n",
      "25063 INFO flwr 2023-03-23 11:31:14,317 | server.py:190 | evaluate_round 25: no clients selected, cancel\n",
      "25063 DEBUG flwr 2023-03-23 11:31:14,323 | server.py:255 | fit_round 26: strategy sampled 5 clients (out of 100)\n",
      "25063 DEBUG flwr 2023-03-23 11:31:14,328 | server.py:435 | Sending instructions to clients\n"
     ]
    },
    {
     "name": "stdout",
     "output_type": "stream",
     "text": [
      "Working out which clients to instruct\n",
      "Want 5 more clients, minimum 5\n",
      "Selected clients = ['62', '29', '20', '33', '45']\n",
      "Client finshed: 83\n",
      "Client finshed: 12\n",
      "Client finshed: 53\n",
      "Client finshed: 79\n"
     ]
    },
    {
     "name": "stderr",
     "output_type": "stream",
     "text": [
      "25063 DEBUG flwr 2023-03-23 11:31:21,120 | server.py:461 | Received enough responses from clients\n",
      "25063 DEBUG flwr 2023-03-23 11:31:21,126 | server.py:279 | fit_round 26 received 5 results and 0 failures\n"
     ]
    },
    {
     "name": "stdout",
     "output_type": "stream",
     "text": [
      "Client finshed: 97\n",
      "These clients sent updates: [('83', 1), ('12', 1), ('53', 1), ('79', 1), ('97', 1)]\n",
      "These clients failed: []\n"
     ]
    },
    {
     "name": "stderr",
     "output_type": "stream",
     "text": [
      "25063 INFO flwr 2023-03-23 11:31:25,701 | server.py:140 | fit progress: (26, 517.7267763614655, {'accuracy': 0.246}, 240.31617002199982)\n",
      "25063 INFO flwr 2023-03-23 11:31:25,703 | server.py:190 | evaluate_round 26: no clients selected, cancel\n",
      "25063 DEBUG flwr 2023-03-23 11:31:25,707 | server.py:255 | fit_round 27: strategy sampled 5 clients (out of 100)\n",
      "25063 DEBUG flwr 2023-03-23 11:31:25,709 | server.py:435 | Sending instructions to clients\n"
     ]
    },
    {
     "name": "stdout",
     "output_type": "stream",
     "text": [
      "Working out which clients to instruct\n",
      "Want 5 more clients, minimum 5\n",
      "Selected clients = ['99', '88', '26', '1', '93']\n",
      "Client finshed: 20\n",
      "Client finshed: 45\n",
      "Client finshed: 62\n",
      "Client finshed: 29\n"
     ]
    },
    {
     "name": "stderr",
     "output_type": "stream",
     "text": [
      "25063 DEBUG flwr 2023-03-23 11:31:31,968 | server.py:461 | Received enough responses from clients\n",
      "25063 DEBUG flwr 2023-03-23 11:31:31,971 | server.py:279 | fit_round 27 received 5 results and 0 failures\n"
     ]
    },
    {
     "name": "stdout",
     "output_type": "stream",
     "text": [
      "Client finshed: 33\n",
      "These clients sent updates: [('20', 1), ('45', 1), ('62', 1), ('29', 1), ('33', 1)]\n",
      "These clients failed: []\n"
     ]
    },
    {
     "name": "stderr",
     "output_type": "stream",
     "text": [
      "25063 INFO flwr 2023-03-23 11:31:37,807 | server.py:140 | fit progress: (27, 341.88020753860474, {'accuracy': 0.3618}, 252.4222432759998)\n",
      "25063 INFO flwr 2023-03-23 11:31:37,809 | server.py:190 | evaluate_round 27: no clients selected, cancel\n",
      "25063 DEBUG flwr 2023-03-23 11:31:37,814 | server.py:255 | fit_round 28: strategy sampled 5 clients (out of 100)\n",
      "25063 DEBUG flwr 2023-03-23 11:31:37,815 | server.py:435 | Sending instructions to clients\n"
     ]
    },
    {
     "name": "stdout",
     "output_type": "stream",
     "text": [
      "Working out which clients to instruct\n",
      "Want 5 more clients, minimum 5\n",
      "Selected clients = ['5', '72', '18', '83', '48']\n",
      "Client finshed: 88\n",
      "Client finshed: 93\n",
      "Client finshed: 99\n",
      "Client finshed: 26\n"
     ]
    },
    {
     "name": "stderr",
     "output_type": "stream",
     "text": [
      "25063 DEBUG flwr 2023-03-23 11:31:41,083 | server.py:461 | Received enough responses from clients\n",
      "25063 DEBUG flwr 2023-03-23 11:31:41,085 | server.py:279 | fit_round 28 received 5 results and 0 failures\n"
     ]
    },
    {
     "name": "stdout",
     "output_type": "stream",
     "text": [
      "Client finshed: 1\n",
      "These clients sent updates: [('88', 1), ('93', 1), ('99', 1), ('26', 1), ('1', 1)]\n",
      "These clients failed: []\n"
     ]
    },
    {
     "name": "stderr",
     "output_type": "stream",
     "text": [
      "25063 INFO flwr 2023-03-23 11:31:46,035 | server.py:140 | fit progress: (28, 433.6877143383026, {'accuracy': 0.2288}, 260.6498092840002)\n",
      "25063 INFO flwr 2023-03-23 11:31:46,036 | server.py:190 | evaluate_round 28: no clients selected, cancel\n",
      "25063 DEBUG flwr 2023-03-23 11:31:46,041 | server.py:255 | fit_round 29: strategy sampled 5 clients (out of 100)\n",
      "25063 DEBUG flwr 2023-03-23 11:31:46,042 | server.py:435 | Sending instructions to clients\n"
     ]
    },
    {
     "name": "stdout",
     "output_type": "stream",
     "text": [
      "Working out which clients to instruct\n",
      "Want 5 more clients, minimum 5\n",
      "Selected clients = ['99', '87', '43', '39', '76']\n",
      "Client finshed: 72\n",
      "Client finshed: 18\n",
      "Client finshed: 5\n",
      "Client finshed: 48\n"
     ]
    },
    {
     "name": "stderr",
     "output_type": "stream",
     "text": [
      "25063 DEBUG flwr 2023-03-23 11:31:50,150 | server.py:461 | Received enough responses from clients\n",
      "25063 DEBUG flwr 2023-03-23 11:31:50,152 | server.py:279 | fit_round 29 received 5 results and 0 failures\n"
     ]
    },
    {
     "name": "stdout",
     "output_type": "stream",
     "text": [
      "Client finshed: 83\n",
      "These clients sent updates: [('72', 1), ('18', 1), ('5', 1), ('48', 1), ('83', 1)]\n",
      "These clients failed: []\n"
     ]
    },
    {
     "name": "stderr",
     "output_type": "stream",
     "text": [
      "25063 INFO flwr 2023-03-23 11:31:55,366 | server.py:140 | fit progress: (29, 338.58103919029236, {'accuracy': 0.3929}, 269.98161209800037)\n",
      "25063 INFO flwr 2023-03-23 11:31:55,367 | server.py:190 | evaluate_round 29: no clients selected, cancel\n",
      "25063 DEBUG flwr 2023-03-23 11:31:55,372 | server.py:255 | fit_round 30: strategy sampled 5 clients (out of 100)\n",
      "25063 DEBUG flwr 2023-03-23 11:31:55,373 | server.py:435 | Sending instructions to clients\n"
     ]
    },
    {
     "name": "stdout",
     "output_type": "stream",
     "text": [
      "Working out which clients to instruct\n",
      "Want 5 more clients, minimum 5\n",
      "Selected clients = ['70', '6', '69', '85', '41']\n",
      "Client finshed: 87\n",
      "Client finshed: 39\n",
      "Client finshed: 99\n",
      "Client finshed: 76\n"
     ]
    },
    {
     "name": "stderr",
     "output_type": "stream",
     "text": [
      "25063 DEBUG flwr 2023-03-23 11:32:02,720 | server.py:461 | Received enough responses from clients\n",
      "25063 DEBUG flwr 2023-03-23 11:32:02,723 | server.py:279 | fit_round 30 received 5 results and 0 failures\n"
     ]
    },
    {
     "name": "stdout",
     "output_type": "stream",
     "text": [
      "Client finshed: 43\n",
      "These clients sent updates: [('87', 1), ('39', 1), ('99', 1), ('76', 1), ('43', 1)]\n",
      "These clients failed: []\n"
     ]
    },
    {
     "name": "stderr",
     "output_type": "stream",
     "text": [
      "25063 INFO flwr 2023-03-23 11:32:08,756 | server.py:140 | fit progress: (30, 344.3556798696518, {'accuracy': 0.3726}, 283.3710471280001)\n",
      "25063 INFO flwr 2023-03-23 11:32:08,757 | server.py:190 | evaluate_round 30: no clients selected, cancel\n",
      "25063 DEBUG flwr 2023-03-23 11:32:08,762 | server.py:255 | fit_round 31: strategy sampled 5 clients (out of 100)\n",
      "25063 DEBUG flwr 2023-03-23 11:32:08,764 | server.py:435 | Sending instructions to clients\n"
     ]
    },
    {
     "name": "stdout",
     "output_type": "stream",
     "text": [
      "Working out which clients to instruct\n",
      "Want 5 more clients, minimum 5\n",
      "Selected clients = ['73', '97', '63', '9', '11']\n",
      "Client finshed: 70\n",
      "Client finshed: 41\n",
      "Client finshed: 6\n"
     ]
    },
    {
     "name": "stderr",
     "output_type": "stream",
     "text": [
      "25063 DEBUG flwr 2023-03-23 11:32:12,096 | server.py:461 | Received enough responses from clients\n",
      "25063 DEBUG flwr 2023-03-23 11:32:12,097 | server.py:279 | fit_round 31 received 5 results and 0 failures\n"
     ]
    },
    {
     "name": "stdout",
     "output_type": "stream",
     "text": [
      "Client finshed: 69\n",
      "Client finshed: 85\n",
      "These clients sent updates: [('70', 1), ('41', 1), ('6', 1), ('69', 1), ('85', 1)]\n",
      "These clients failed: []\n"
     ]
    },
    {
     "name": "stderr",
     "output_type": "stream",
     "text": [
      "25063 INFO flwr 2023-03-23 11:32:17,814 | server.py:140 | fit progress: (31, 317.5092852115631, {'accuracy': 0.419}, 292.4292371620004)\n",
      "25063 INFO flwr 2023-03-23 11:32:17,816 | server.py:190 | evaluate_round 31: no clients selected, cancel\n",
      "25063 DEBUG flwr 2023-03-23 11:32:17,821 | server.py:255 | fit_round 32: strategy sampled 5 clients (out of 100)\n",
      "25063 DEBUG flwr 2023-03-23 11:32:17,822 | server.py:435 | Sending instructions to clients\n"
     ]
    },
    {
     "name": "stdout",
     "output_type": "stream",
     "text": [
      "Working out which clients to instruct\n",
      "Want 5 more clients, minimum 5\n",
      "Selected clients = ['52', '59', '42', '51', '67']\n",
      "Client finshed: 97\n",
      "Client finshed: 11\n",
      "Client finshed: 9\n",
      "Client finshed: 63\n"
     ]
    },
    {
     "name": "stderr",
     "output_type": "stream",
     "text": [
      "25063 DEBUG flwr 2023-03-23 11:32:22,124 | server.py:461 | Received enough responses from clients\n",
      "25063 DEBUG flwr 2023-03-23 11:32:22,131 | server.py:279 | fit_round 32 received 5 results and 0 failures\n"
     ]
    },
    {
     "name": "stdout",
     "output_type": "stream",
     "text": [
      "Client finshed: 73\n",
      "These clients sent updates: [('97', 1), ('11', 1), ('9', 1), ('63', 1), ('73', 1)]\n",
      "These clients failed: []\n"
     ]
    },
    {
     "name": "stderr",
     "output_type": "stream",
     "text": [
      "25063 INFO flwr 2023-03-23 11:32:27,288 | server.py:140 | fit progress: (32, 372.8530125617981, {'accuracy': 0.3273}, 301.90286566899977)\n",
      "25063 INFO flwr 2023-03-23 11:32:27,289 | server.py:190 | evaluate_round 32: no clients selected, cancel\n",
      "25063 DEBUG flwr 2023-03-23 11:32:27,296 | server.py:255 | fit_round 33: strategy sampled 5 clients (out of 100)\n",
      "25063 DEBUG flwr 2023-03-23 11:32:27,300 | server.py:435 | Sending instructions to clients\n"
     ]
    },
    {
     "name": "stdout",
     "output_type": "stream",
     "text": [
      "Working out which clients to instruct\n",
      "Want 5 more clients, minimum 5\n",
      "Selected clients = ['14', '75', '53', '63', '99']\n",
      "Client finshed: 42\n",
      "Client finshed: 51\n",
      "Client finshed: 59\n",
      "Client finshed: 52\n"
     ]
    },
    {
     "name": "stderr",
     "output_type": "stream",
     "text": [
      "25063 DEBUG flwr 2023-03-23 11:32:33,757 | server.py:461 | Received enough responses from clients\n",
      "25063 DEBUG flwr 2023-03-23 11:32:33,760 | server.py:279 | fit_round 33 received 5 results and 0 failures\n"
     ]
    },
    {
     "name": "stdout",
     "output_type": "stream",
     "text": [
      "Client finshed: 67\n",
      "These clients sent updates: [('42', 1), ('51', 1), ('59', 1), ('52', 1), ('67', 1)]\n",
      "These clients failed: []\n"
     ]
    },
    {
     "name": "stderr",
     "output_type": "stream",
     "text": [
      "25063 INFO flwr 2023-03-23 11:32:38,642 | server.py:140 | fit progress: (33, 302.6839950084686, {'accuracy': 0.4372}, 313.25692018000063)\n",
      "25063 INFO flwr 2023-03-23 11:32:38,647 | server.py:190 | evaluate_round 33: no clients selected, cancel\n",
      "25063 DEBUG flwr 2023-03-23 11:32:38,651 | server.py:255 | fit_round 34: strategy sampled 5 clients (out of 100)\n",
      "25063 DEBUG flwr 2023-03-23 11:32:38,657 | server.py:435 | Sending instructions to clients\n"
     ]
    },
    {
     "name": "stdout",
     "output_type": "stream",
     "text": [
      "Working out which clients to instruct\n",
      "Want 5 more clients, minimum 5\n",
      "Selected clients = ['97', '20', '36', '56', '39']\n",
      "Client finshed: 75\n",
      "Client finshed: 14\n",
      "Client finshed: 63\n",
      "Client finshed: 53\n"
     ]
    },
    {
     "name": "stderr",
     "output_type": "stream",
     "text": [
      "25063 DEBUG flwr 2023-03-23 11:32:43,895 | server.py:461 | Received enough responses from clients\n",
      "25063 DEBUG flwr 2023-03-23 11:32:43,899 | server.py:279 | fit_round 34 received 5 results and 0 failures\n"
     ]
    },
    {
     "name": "stdout",
     "output_type": "stream",
     "text": [
      "Client finshed: 99\n",
      "These clients sent updates: [('75', 1), ('14', 1), ('63', 1), ('53', 1), ('99', 1)]\n",
      "These clients failed: []\n"
     ]
    },
    {
     "name": "stderr",
     "output_type": "stream",
     "text": [
      "25063 INFO flwr 2023-03-23 11:32:48,771 | server.py:140 | fit progress: (34, 364.92926001548767, {'accuracy': 0.3281}, 323.3862895020002)\n",
      "25063 INFO flwr 2023-03-23 11:32:48,772 | server.py:190 | evaluate_round 34: no clients selected, cancel\n",
      "25063 DEBUG flwr 2023-03-23 11:32:48,785 | server.py:255 | fit_round 35: strategy sampled 5 clients (out of 100)\n",
      "25063 DEBUG flwr 2023-03-23 11:32:48,787 | server.py:435 | Sending instructions to clients\n"
     ]
    },
    {
     "name": "stdout",
     "output_type": "stream",
     "text": [
      "Working out which clients to instruct\n",
      "Want 5 more clients, minimum 5\n",
      "Selected clients = ['65', '57', '72', '22', '29']\n",
      "Client finshed: 36\n",
      "Client finshed: 97\n",
      "Client finshed: 56\n",
      "Client finshed: 20\n"
     ]
    },
    {
     "name": "stderr",
     "output_type": "stream",
     "text": [
      "25063 DEBUG flwr 2023-03-23 11:32:53,256 | server.py:461 | Received enough responses from clients\n",
      "25063 DEBUG flwr 2023-03-23 11:32:53,261 | server.py:279 | fit_round 35 received 5 results and 0 failures\n"
     ]
    },
    {
     "name": "stdout",
     "output_type": "stream",
     "text": [
      "Client finshed: 39\n",
      "These clients sent updates: [('36', 1), ('97', 1), ('56', 1), ('20', 1), ('39', 1)]\n",
      "These clients failed: []\n"
     ]
    },
    {
     "name": "stderr",
     "output_type": "stream",
     "text": [
      "25063 INFO flwr 2023-03-23 11:32:58,366 | server.py:140 | fit progress: (35, 392.16472494602203, {'accuracy': 0.3003}, 332.981395711)\n",
      "25063 INFO flwr 2023-03-23 11:32:58,367 | server.py:190 | evaluate_round 35: no clients selected, cancel\n",
      "25063 DEBUG flwr 2023-03-23 11:32:58,375 | server.py:255 | fit_round 36: strategy sampled 5 clients (out of 100)\n",
      "25063 DEBUG flwr 2023-03-23 11:32:58,382 | server.py:435 | Sending instructions to clients\n"
     ]
    },
    {
     "name": "stdout",
     "output_type": "stream",
     "text": [
      "Working out which clients to instruct\n",
      "Want 5 more clients, minimum 5\n",
      "Selected clients = ['73', '10', '52', '39', '85']\n",
      "Client finshed: 72\n",
      "Client finshed: 65\n",
      "Client finshed: 22\n",
      "Client finshed: 29\n"
     ]
    },
    {
     "name": "stderr",
     "output_type": "stream",
     "text": [
      "25063 DEBUG flwr 2023-03-23 11:33:03,993 | server.py:461 | Received enough responses from clients\n",
      "25063 DEBUG flwr 2023-03-23 11:33:03,994 | server.py:279 | fit_round 36 received 5 results and 0 failures\n"
     ]
    },
    {
     "name": "stdout",
     "output_type": "stream",
     "text": [
      "Client finshed: 57\n",
      "These clients sent updates: [('72', 1), ('65', 1), ('22', 1), ('29', 1), ('57', 1)]\n",
      "These clients failed: []\n"
     ]
    },
    {
     "name": "stderr",
     "output_type": "stream",
     "text": [
      "25063 INFO flwr 2023-03-23 11:33:09,151 | server.py:140 | fit progress: (36, 338.8349115848541, {'accuracy': 0.3791}, 343.7656771540005)\n",
      "25063 INFO flwr 2023-03-23 11:33:09,151 | server.py:190 | evaluate_round 36: no clients selected, cancel\n",
      "25063 DEBUG flwr 2023-03-23 11:33:09,156 | server.py:255 | fit_round 37: strategy sampled 5 clients (out of 100)\n",
      "25063 DEBUG flwr 2023-03-23 11:33:09,158 | server.py:435 | Sending instructions to clients\n"
     ]
    },
    {
     "name": "stdout",
     "output_type": "stream",
     "text": [
      "Working out which clients to instruct\n",
      "Want 5 more clients, minimum 5\n",
      "Selected clients = ['93', '71', '2', '97', '58']\n",
      "Client finshed: 10\n",
      "Client finshed: 85\n",
      "Client finshed: 52\n",
      "Client finshed: 73\n"
     ]
    },
    {
     "name": "stderr",
     "output_type": "stream",
     "text": [
      "25063 DEBUG flwr 2023-03-23 11:33:15,223 | server.py:461 | Received enough responses from clients\n",
      "25063 DEBUG flwr 2023-03-23 11:33:15,224 | server.py:279 | fit_round 37 received 5 results and 0 failures\n"
     ]
    },
    {
     "name": "stdout",
     "output_type": "stream",
     "text": [
      "Client finshed: 39\n",
      "These clients sent updates: [('10', 1), ('85', 1), ('52', 1), ('73', 1), ('39', 1)]\n",
      "These clients failed: []\n"
     ]
    },
    {
     "name": "stderr",
     "output_type": "stream",
     "text": [
      "25063 INFO flwr 2023-03-23 11:33:20,118 | server.py:140 | fit progress: (37, 308.96206545829773, {'accuracy': 0.4421}, 354.73275561399987)\n",
      "25063 INFO flwr 2023-03-23 11:33:20,119 | server.py:190 | evaluate_round 37: no clients selected, cancel\n",
      "25063 DEBUG flwr 2023-03-23 11:33:20,123 | server.py:255 | fit_round 38: strategy sampled 5 clients (out of 100)\n",
      "25063 DEBUG flwr 2023-03-23 11:33:20,125 | server.py:435 | Sending instructions to clients\n"
     ]
    },
    {
     "name": "stdout",
     "output_type": "stream",
     "text": [
      "Working out which clients to instruct\n",
      "Want 5 more clients, minimum 5\n",
      "Selected clients = ['56', '79', '0', '83', '53']\n",
      "Client finshed: 93\n",
      "Client finshed: 71\n",
      "Client finshed: 97\n",
      "Client finshed: 58\n"
     ]
    },
    {
     "name": "stderr",
     "output_type": "stream",
     "text": [
      "25063 DEBUG flwr 2023-03-23 11:33:23,827 | server.py:461 | Received enough responses from clients\n",
      "25063 DEBUG flwr 2023-03-23 11:33:23,830 | server.py:279 | fit_round 38 received 5 results and 0 failures\n"
     ]
    },
    {
     "name": "stdout",
     "output_type": "stream",
     "text": [
      "Client finshed: 2\n",
      "These clients sent updates: [('93', 1), ('71', 1), ('97', 1), ('58', 1), ('2', 1)]\n",
      "These clients failed: []\n"
     ]
    },
    {
     "name": "stderr",
     "output_type": "stream",
     "text": [
      "25063 INFO flwr 2023-03-23 11:33:28,642 | server.py:140 | fit progress: (38, 432.52691411972046, {'accuracy': 0.3016}, 363.25691739100057)\n",
      "25063 INFO flwr 2023-03-23 11:33:28,644 | server.py:190 | evaluate_round 38: no clients selected, cancel\n",
      "25063 DEBUG flwr 2023-03-23 11:33:28,649 | server.py:255 | fit_round 39: strategy sampled 5 clients (out of 100)\n",
      "25063 DEBUG flwr 2023-03-23 11:33:28,651 | server.py:435 | Sending instructions to clients\n"
     ]
    },
    {
     "name": "stdout",
     "output_type": "stream",
     "text": [
      "Working out which clients to instruct\n",
      "Want 5 more clients, minimum 5\n",
      "Selected clients = ['12', '93', '46', '90', '47']\n",
      "Client finshed: 56\n",
      "Client finshed: 0\n",
      "Client finshed: 83\n",
      "Client finshed: 53\n"
     ]
    },
    {
     "name": "stderr",
     "output_type": "stream",
     "text": [
      "25063 DEBUG flwr 2023-03-23 11:33:32,098 | server.py:461 | Received enough responses from clients\n",
      "25063 DEBUG flwr 2023-03-23 11:33:32,100 | server.py:279 | fit_round 39 received 5 results and 0 failures\n"
     ]
    },
    {
     "name": "stdout",
     "output_type": "stream",
     "text": [
      "Client finshed: 79\n",
      "These clients sent updates: [('56', 1), ('0', 1), ('83', 1), ('53', 1), ('79', 1)]\n",
      "These clients failed: []\n"
     ]
    },
    {
     "name": "stderr",
     "output_type": "stream",
     "text": [
      "25063 INFO flwr 2023-03-23 11:33:37,278 | server.py:140 | fit progress: (39, 342.77493369579315, {'accuracy': 0.4157}, 371.89335067699994)\n",
      "25063 INFO flwr 2023-03-23 11:33:37,282 | server.py:190 | evaluate_round 39: no clients selected, cancel\n",
      "25063 DEBUG flwr 2023-03-23 11:33:37,287 | server.py:255 | fit_round 40: strategy sampled 5 clients (out of 100)\n",
      "25063 DEBUG flwr 2023-03-23 11:33:37,288 | server.py:435 | Sending instructions to clients\n"
     ]
    },
    {
     "name": "stdout",
     "output_type": "stream",
     "text": [
      "Working out which clients to instruct\n",
      "Want 5 more clients, minimum 5\n",
      "Selected clients = ['24', '74', '25', '34', '5']\n",
      "Client finshed: 46\n",
      "Client finshed: 93\n",
      "Client finshed: 12\n",
      "Client finshed: 90\n"
     ]
    },
    {
     "name": "stderr",
     "output_type": "stream",
     "text": [
      "25063 DEBUG flwr 2023-03-23 11:33:45,551 | server.py:461 | Received enough responses from clients\n",
      "25063 DEBUG flwr 2023-03-23 11:33:45,560 | server.py:279 | fit_round 40 received 5 results and 0 failures\n"
     ]
    },
    {
     "name": "stdout",
     "output_type": "stream",
     "text": [
      "Client finshed: 47\n",
      "These clients sent updates: [('46', 1), ('93', 1), ('12', 1), ('90', 1), ('47', 1)]\n",
      "These clients failed: []\n"
     ]
    },
    {
     "name": "stderr",
     "output_type": "stream",
     "text": [
      "25063 INFO flwr 2023-03-23 11:33:50,523 | server.py:140 | fit progress: (40, 335.69857025146484, {'accuracy': 0.3895}, 385.1383776419998)\n",
      "25063 INFO flwr 2023-03-23 11:33:50,524 | server.py:190 | evaluate_round 40: no clients selected, cancel\n",
      "25063 INFO flwr 2023-03-23 11:33:51,927 | server.py:171 | FL finished in 386.54171057199983\n",
      "25063 INFO flwr 2023-03-23 11:33:51,929 | app.py:225 | app_fit: losses_distributed []\n",
      "25063 INFO flwr 2023-03-23 11:33:51,931 | app.py:226 | app_fit: metrics_distributed_fit {}\n",
      "25063 INFO flwr 2023-03-23 11:33:51,932 | app.py:227 | app_fit: metrics_distributed {}\n",
      "25063 INFO flwr 2023-03-23 11:33:51,933 | app.py:228 | app_fit: losses_centralized [(0, 460.7414813041687), (1, 460.02940368652344), (2, 467.8905465602875), (3, 453.4398009777069), (4, 457.5788116455078), (5, 411.76593816280365), (6, 449.55529749393463), (7, 408.97092270851135), (8, 427.8487706184387), (9, 391.37866044044495), (10, 402.2407660484314), (11, 393.6101200580597), (12, 370.43544471263885), (13, 556.425657749176), (14, 380.3886775970459), (15, 362.3116809129715), (16, 402.0072640180588), (17, 604.3877830505371), (18, 377.0600937604904), (19, 380.1707429885864), (20, 383.32626712322235), (21, 348.0370125770569), (22, 414.28019857406616), (23, 356.2068817615509), (24, 378.6487411260605), (25, 360.1484377384186), (26, 517.7267763614655), (27, 341.88020753860474), (28, 433.6877143383026), (29, 338.58103919029236), (30, 344.3556798696518), (31, 317.5092852115631), (32, 372.8530125617981), (33, 302.6839950084686), (34, 364.92926001548767), (35, 392.16472494602203), (36, 338.8349115848541), (37, 308.96206545829773), (38, 432.52691411972046), (39, 342.77493369579315), (40, 335.69857025146484)]\n",
      "25063 INFO flwr 2023-03-23 11:33:51,934 | app.py:229 | app_fit: metrics_centralized {'accuracy': [(0, 0.0954), (1, 0.1264), (2, 0.1), (3, 0.1585), (4, 0.1355), (5, 0.2557), (6, 0.1869), (7, 0.2501), (8, 0.1757), (9, 0.2926), (10, 0.2381), (11, 0.2805), (12, 0.31), (13, 0.1391), (14, 0.2958), (15, 0.3326), (16, 0.314), (17, 0.1842), (18, 0.3103), (19, 0.2711), (20, 0.3124), (21, 0.3392), (22, 0.2817), (23, 0.3398), (24, 0.3237), (25, 0.3726), (26, 0.246), (27, 0.3618), (28, 0.2288), (29, 0.3929), (30, 0.3726), (31, 0.419), (32, 0.3273), (33, 0.4372), (34, 0.3281), (35, 0.3003), (36, 0.3791), (37, 0.4421), (38, 0.3016), (39, 0.4157), (40, 0.3895)]}\n"
     ]
    },
    {
     "name": "stdout",
     "output_type": "stream",
     "text": [
      "Files already downloaded and verified\n",
      "Generating unified CIFAR dataset\n",
      "Class histogram for 0-th partition (alpha=1, 10 classes): [ 37   7   8   7  31  10  27  51   1 321]\n"
     ]
    },
    {
     "name": "stderr",
     "output_type": "stream",
     "text": [
      "25063 INFO flwr 2023-03-23 11:33:58,575 | app.py:146 | Starting Flower simulation, config: ServerConfig(num_rounds=40, round_timeout=None, asynchronous=True)\n",
      "2023-03-23 11:34:02,317\tINFO worker.py:1553 -- Started a local Ray instance.\n",
      "25063 INFO flwr 2023-03-23 11:34:03,406 | app.py:180 | Flower VCE: Ray initialized with resources: {'node:10.9.7.124': 1.0, 'memory': 2523343259.0, 'object_store_memory': 1261671628.0, 'CPU': 8.0}\n",
      "25063 INFO flwr 2023-03-23 11:34:03,408 | server.py:95 | Initializing global parameters\n",
      "25063 INFO flwr 2023-03-23 11:34:03,409 | server.py:320 | Requesting initial parameters from one random client\n",
      "25063 INFO flwr 2023-03-23 11:34:05,292 | server.py:324 | Received initial parameters from one random client\n",
      "25063 INFO flwr 2023-03-23 11:34:05,294 | server.py:97 | Evaluating initial parameters\n",
      "25063 INFO flwr 2023-03-23 11:34:08,752 | server.py:100 | initial parameters (loss, other metrics): 461.36218309402466, {'accuracy': 0.1093}\n",
      "25063 INFO flwr 2023-03-23 11:34:08,753 | server.py:110 | FL starting\n",
      "25063 DEBUG flwr 2023-03-23 11:34:08,757 | server.py:255 | fit_round 1: strategy sampled 20 clients (out of 100)\n",
      "25063 DEBUG flwr 2023-03-23 11:34:08,758 | server.py:435 | Sending instructions to clients\n"
     ]
    },
    {
     "name": "stdout",
     "output_type": "stream",
     "text": [
      "Working out which clients to instruct\n",
      "Want 20 more clients, minimum 20\n",
      "Selected clients = ['91', '17', '33', '95', '35', '86', '70', '42', '27', '64', '98', '26', '59', '47', '2', '62', '20', '79', '51', '84']\n",
      "Client finshed: 95\n",
      "Client finshed: 91\n",
      "Client finshed: 17\n",
      "Client finshed: 86\n"
     ]
    },
    {
     "name": "stderr",
     "output_type": "stream",
     "text": [
      "25063 DEBUG flwr 2023-03-23 11:34:18,160 | server.py:461 | Received enough responses from clients\n",
      "25063 DEBUG flwr 2023-03-23 11:34:18,162 | server.py:279 | fit_round 1 received 5 results and 0 failures\n",
      "25063 WARNING flwr 2023-03-23 11:34:18,201 | fedbuff.py:257 | No fit_metrics_aggregation_fn provided\n"
     ]
    },
    {
     "name": "stdout",
     "output_type": "stream",
     "text": [
      "Client finshed: 33\n",
      "These clients sent updates: [('95', 0), ('91', 0), ('17', 0), ('86', 0), ('33', 0)]\n",
      "These clients failed: []\n"
     ]
    },
    {
     "name": "stderr",
     "output_type": "stream",
     "text": [
      "25063 INFO flwr 2023-03-23 11:34:24,905 | server.py:140 | fit progress: (1, 480.3687162399292, {'accuracy': 0.1513}, 16.151488765999602)\n",
      "25063 INFO flwr 2023-03-23 11:34:24,906 | server.py:190 | evaluate_round 1: no clients selected, cancel\n",
      "25063 DEBUG flwr 2023-03-23 11:34:24,910 | server.py:255 | fit_round 2: strategy sampled 5 clients (out of 100)\n",
      "25063 DEBUG flwr 2023-03-23 11:34:24,912 | server.py:435 | Sending instructions to clients\n"
     ]
    },
    {
     "name": "stdout",
     "output_type": "stream",
     "text": [
      "Working out which clients to instruct\n",
      "Want 5 more clients, minimum 5\n",
      "Selected clients = ['13', '99', '48', '8', '38']\n",
      "Client finshed: 42\n",
      "Client finshed: 70\n",
      "Client finshed: 35\n"
     ]
    },
    {
     "name": "stderr",
     "output_type": "stream",
     "text": [
      "25063 DEBUG flwr 2023-03-23 11:34:31,398 | server.py:461 | Received enough responses from clients\n"
     ]
    },
    {
     "name": "stdout",
     "output_type": "stream",
     "text": [
      "Client finshed: 27\n",
      "Client finshed: 62\n"
     ]
    },
    {
     "name": "stderr",
     "output_type": "stream",
     "text": [
      "25063 DEBUG flwr 2023-03-23 11:34:31,415 | server.py:279 | fit_round 2 received 5 results and 0 failures\n"
     ]
    },
    {
     "name": "stdout",
     "output_type": "stream",
     "text": [
      "These clients sent updates: [('42', 1), ('70', 1), ('35', 1), ('27', 1), ('62', 1)]\n",
      "These clients failed: []\n"
     ]
    },
    {
     "name": "stderr",
     "output_type": "stream",
     "text": [
      "25063 INFO flwr 2023-03-23 11:34:38,273 | server.py:140 | fit progress: (2, 475.5855724811554, {'accuracy': 0.1}, 29.519470690999697)\n",
      "25063 INFO flwr 2023-03-23 11:34:38,275 | server.py:190 | evaluate_round 2: no clients selected, cancel\n",
      "25063 DEBUG flwr 2023-03-23 11:34:38,279 | server.py:255 | fit_round 3: strategy sampled 5 clients (out of 100)\n",
      "25063 DEBUG flwr 2023-03-23 11:34:38,280 | server.py:435 | Sending instructions to clients\n",
      "25063 DEBUG flwr 2023-03-23 11:34:38,282 | server.py:461 | Received enough responses from clients\n",
      "25063 DEBUG flwr 2023-03-23 11:34:38,316 | server.py:279 | fit_round 3 received 5 results and 0 failures\n"
     ]
    },
    {
     "name": "stdout",
     "output_type": "stream",
     "text": [
      "Working out which clients to instruct\n",
      "Want 5 more clients, minimum 5\n",
      "Selected clients = ['37', '43', '58', '89', '80']\n",
      "Client finshed: 2\n",
      "Client finshed: 26\n",
      "Client finshed: 47\n",
      "Client finshed: 98\n",
      "Client finshed: 59\n",
      "These clients sent updates: [('2', 2), ('26', 2), ('47', 2), ('98', 2), ('59', 2)]\n",
      "These clients failed: []\n"
     ]
    },
    {
     "name": "stderr",
     "output_type": "stream",
     "text": [
      "25063 INFO flwr 2023-03-23 11:34:42,857 | server.py:140 | fit progress: (3, 475.4747567176819, {'accuracy': 0.1}, 34.104203738999786)\n",
      "25063 INFO flwr 2023-03-23 11:34:42,859 | server.py:190 | evaluate_round 3: no clients selected, cancel\n",
      "25063 DEBUG flwr 2023-03-23 11:34:42,863 | server.py:255 | fit_round 4: strategy sampled 5 clients (out of 100)\n",
      "25063 DEBUG flwr 2023-03-23 11:34:42,864 | server.py:435 | Sending instructions to clients\n"
     ]
    },
    {
     "name": "stdout",
     "output_type": "stream",
     "text": [
      "Working out which clients to instruct\n",
      "Want 5 more clients, minimum 5\n",
      "Selected clients = ['50', '93', '88', '57', '29']\n",
      "Client finshed: 64\n",
      "Client finshed: 48\n"
     ]
    },
    {
     "name": "stderr",
     "output_type": "stream",
     "text": [
      "25063 DEBUG flwr 2023-03-23 11:34:47,210 | server.py:461 | Received enough responses from clients\n",
      "25063 DEBUG flwr 2023-03-23 11:34:47,225 | server.py:279 | fit_round 4 received 5 results and 0 failures\n"
     ]
    },
    {
     "name": "stdout",
     "output_type": "stream",
     "text": [
      "Client finshed: 84\n",
      "Client finshed: 20\n",
      "Client finshed: 51\n",
      "These clients sent updates: [('64', 3), ('48', 2), ('84', 3), ('20', 3), ('51', 3)]\n",
      "These clients failed: []\n"
     ]
    },
    {
     "name": "stderr",
     "output_type": "stream",
     "text": [
      "25063 INFO flwr 2023-03-23 11:34:55,574 | server.py:140 | fit progress: (4, 460.21483397483826, {'accuracy': 0.162}, 46.82109881799988)\n",
      "25063 INFO flwr 2023-03-23 11:34:55,580 | server.py:190 | evaluate_round 4: no clients selected, cancel\n",
      "25063 DEBUG flwr 2023-03-23 11:34:55,586 | server.py:255 | fit_round 5: strategy sampled 5 clients (out of 100)\n",
      "25063 DEBUG flwr 2023-03-23 11:34:55,587 | server.py:435 | Sending instructions to clients\n"
     ]
    },
    {
     "name": "stdout",
     "output_type": "stream",
     "text": [
      "Working out which clients to instruct\n",
      "Want 5 more clients, minimum 5\n",
      "Selected clients = ['7', '85', '62', '46', '28']\n",
      "Client finshed: 79\n",
      "Client finshed: 99\n",
      "Client finshed: 13\n",
      "Client finshed: 8\n"
     ]
    },
    {
     "name": "stderr",
     "output_type": "stream",
     "text": [
      "25063 DEBUG flwr 2023-03-23 11:35:02,261 | server.py:461 | Received enough responses from clients\n",
      "25063 DEBUG flwr 2023-03-23 11:35:02,274 | server.py:279 | fit_round 5 received 5 results and 0 failures\n"
     ]
    },
    {
     "name": "stdout",
     "output_type": "stream",
     "text": [
      "Client finshed: 37\n",
      "These clients sent updates: [('79', 4), ('99', 3), ('13', 3), ('8', 3), ('37', 2)]\n",
      "These clients failed: []\n"
     ]
    },
    {
     "name": "stderr",
     "output_type": "stream",
     "text": [
      "25063 INFO flwr 2023-03-23 11:35:09,041 | server.py:140 | fit progress: (5, 443.76089096069336, {'accuracy': 0.1849}, 60.28747934399962)\n",
      "25063 INFO flwr 2023-03-23 11:35:09,045 | server.py:190 | evaluate_round 5: no clients selected, cancel\n",
      "25063 DEBUG flwr 2023-03-23 11:35:09,051 | server.py:255 | fit_round 6: strategy sampled 5 clients (out of 100)\n",
      "25063 DEBUG flwr 2023-03-23 11:35:09,052 | server.py:435 | Sending instructions to clients\n",
      "25063 DEBUG flwr 2023-03-23 11:35:09,053 | server.py:461 | Received enough responses from clients\n",
      "25063 DEBUG flwr 2023-03-23 11:35:09,105 | server.py:279 | fit_round 6 received 5 results and 0 failures\n"
     ]
    },
    {
     "name": "stdout",
     "output_type": "stream",
     "text": [
      "Working out which clients to instruct\n",
      "Want 5 more clients, minimum 5\n",
      "Selected clients = ['84', '24', '27', '83', '60']\n",
      "Client finshed: 80\n",
      "Client finshed: 89\n",
      "Client finshed: 58\n",
      "Client finshed: 93\n",
      "Client finshed: 43\n",
      "These clients sent updates: [('80', 3), ('89', 3), ('58', 3), ('93', 2), ('43', 3)]\n",
      "These clients failed: []\n"
     ]
    },
    {
     "name": "stderr",
     "output_type": "stream",
     "text": [
      "25063 INFO flwr 2023-03-23 11:35:13,647 | server.py:140 | fit progress: (6, 459.6809310913086, {'accuracy': 0.1651}, 64.89341971500016)\n",
      "25063 INFO flwr 2023-03-23 11:35:13,648 | server.py:190 | evaluate_round 6: no clients selected, cancel\n",
      "25063 DEBUG flwr 2023-03-23 11:35:13,652 | server.py:255 | fit_round 7: strategy sampled 5 clients (out of 100)\n",
      "25063 DEBUG flwr 2023-03-23 11:35:13,656 | server.py:435 | Sending instructions to clients\n"
     ]
    },
    {
     "name": "stdout",
     "output_type": "stream",
     "text": [
      "Working out which clients to instruct\n",
      "Want 5 more clients, minimum 5\n",
      "Selected clients = ['44', '56', '12', '32', '41']\n",
      "Client finshed: 38\n",
      "Client finshed: 50\n",
      "Client finshed: 85\n",
      "Client finshed: 29\n"
     ]
    },
    {
     "name": "stderr",
     "output_type": "stream",
     "text": [
      "25063 DEBUG flwr 2023-03-23 11:35:18,868 | server.py:461 | Received enough responses from clients\n",
      "25063 DEBUG flwr 2023-03-23 11:35:18,880 | server.py:279 | fit_round 7 received 5 results and 0 failures\n"
     ]
    },
    {
     "name": "stdout",
     "output_type": "stream",
     "text": [
      "Client finshed: 62\n",
      "These clients sent updates: [('38', 5), ('50', 3), ('85', 2), ('29', 3), ('62', 2)]\n",
      "These clients failed: []\n"
     ]
    },
    {
     "name": "stderr",
     "output_type": "stream",
     "text": [
      "25063 INFO flwr 2023-03-23 11:35:24,457 | server.py:140 | fit progress: (7, 439.50133764743805, {'accuracy': 0.1759}, 75.70402933300011)\n",
      "25063 INFO flwr 2023-03-23 11:35:24,459 | server.py:190 | evaluate_round 7: no clients selected, cancel\n",
      "25063 DEBUG flwr 2023-03-23 11:35:24,465 | server.py:255 | fit_round 8: strategy sampled 5 clients (out of 100)\n",
      "25063 DEBUG flwr 2023-03-23 11:35:24,466 | server.py:435 | Sending instructions to clients\n",
      "25063 DEBUG flwr 2023-03-23 11:35:24,468 | server.py:461 | Received enough responses from clients\n",
      "25063 DEBUG flwr 2023-03-23 11:35:24,485 | server.py:279 | fit_round 8 received 5 results and 0 failures\n"
     ]
    },
    {
     "name": "stdout",
     "output_type": "stream",
     "text": [
      "Working out which clients to instruct\n",
      "Want 5 more clients, minimum 5\n",
      "Selected clients = ['97', '76', '22', '68', '3']\n",
      "Client finshed: 46\n",
      "Client finshed: 57\n",
      "Client finshed: 88\n",
      "Client finshed: 28\n",
      "Client finshed: 7\n",
      "These clients sent updates: [('46', 3), ('57', 4), ('88', 4), ('28', 3), ('7', 3)]\n",
      "These clients failed: []\n"
     ]
    },
    {
     "name": "stderr",
     "output_type": "stream",
     "text": [
      "25063 INFO flwr 2023-03-23 11:35:29,352 | server.py:140 | fit progress: (8, 464.8241009712219, {'accuracy': 0.1666}, 80.5983266129997)\n",
      "25063 INFO flwr 2023-03-23 11:35:29,353 | server.py:190 | evaluate_round 8: no clients selected, cancel\n",
      "25063 DEBUG flwr 2023-03-23 11:35:29,357 | server.py:255 | fit_round 9: strategy sampled 5 clients (out of 100)\n",
      "25063 DEBUG flwr 2023-03-23 11:35:29,358 | server.py:435 | Sending instructions to clients\n"
     ]
    },
    {
     "name": "stdout",
     "output_type": "stream",
     "text": [
      "Working out which clients to instruct\n",
      "Want 5 more clients, minimum 5\n",
      "Selected clients = ['0', '37', '88', '92', '33']\n",
      "Client finshed: 83\n",
      "Client finshed: 24\n",
      "Client finshed: 56\n",
      "Client finshed: 44\n"
     ]
    },
    {
     "name": "stderr",
     "output_type": "stream",
     "text": [
      "25063 DEBUG flwr 2023-03-23 11:35:35,099 | server.py:461 | Received enough responses from clients\n",
      "25063 DEBUG flwr 2023-03-23 11:35:35,103 | server.py:279 | fit_round 9 received 5 results and 0 failures\n"
     ]
    },
    {
     "name": "stdout",
     "output_type": "stream",
     "text": [
      "Client finshed: 12\n",
      "These clients sent updates: [('83', 3), ('24', 3), ('56', 2), ('44', 2), ('12', 2)]\n",
      "These clients failed: []\n"
     ]
    },
    {
     "name": "stderr",
     "output_type": "stream",
     "text": [
      "25063 INFO flwr 2023-03-23 11:35:41,775 | server.py:140 | fit progress: (9, 418.77319407463074, {'accuracy': 0.2369}, 93.02176979199976)\n",
      "25063 INFO flwr 2023-03-23 11:35:41,778 | server.py:190 | evaluate_round 9: no clients selected, cancel\n",
      "25063 DEBUG flwr 2023-03-23 11:35:41,782 | server.py:255 | fit_round 10: strategy sampled 5 clients (out of 100)\n",
      "25063 DEBUG flwr 2023-03-23 11:35:41,783 | server.py:435 | Sending instructions to clients\n"
     ]
    },
    {
     "name": "stdout",
     "output_type": "stream",
     "text": [
      "Working out which clients to instruct\n",
      "Want 5 more clients, minimum 5\n",
      "Selected clients = ['62', '87', '69', '77', '81']\n",
      "Client finshed: 27\n",
      "Client finshed: 60\n",
      "Client finshed: 84\n"
     ]
    },
    {
     "name": "stderr",
     "output_type": "stream",
     "text": [
      "25063 DEBUG flwr 2023-03-23 11:35:48,065 | server.py:461 | Received enough responses from clients\n",
      "25063 DEBUG flwr 2023-03-23 11:35:48,079 | server.py:279 | fit_round 10 received 5 results and 0 failures\n"
     ]
    },
    {
     "name": "stdout",
     "output_type": "stream",
     "text": [
      "Client finshed: 68\n",
      "Client finshed: 3\n",
      "These clients sent updates: [('27', 4), ('60', 4), ('84', 4), ('68', 2), ('3', 2)]\n",
      "These clients failed: []\n"
     ]
    },
    {
     "name": "stderr",
     "output_type": "stream",
     "text": [
      "25063 INFO flwr 2023-03-23 11:35:53,869 | server.py:140 | fit progress: (10, 439.3389148712158, {'accuracy': 0.1929}, 105.11595815700002)\n",
      "25063 INFO flwr 2023-03-23 11:35:53,870 | server.py:190 | evaluate_round 10: no clients selected, cancel\n",
      "25063 DEBUG flwr 2023-03-23 11:35:53,874 | server.py:255 | fit_round 11: strategy sampled 5 clients (out of 100)\n",
      "25063 DEBUG flwr 2023-03-23 11:35:53,875 | server.py:435 | Sending instructions to clients\n",
      "25063 DEBUG flwr 2023-03-23 11:35:53,878 | server.py:461 | Received enough responses from clients\n",
      "25063 DEBUG flwr 2023-03-23 11:35:53,912 | server.py:279 | fit_round 11 received 5 results and 0 failures\n"
     ]
    },
    {
     "name": "stdout",
     "output_type": "stream",
     "text": [
      "Working out which clients to instruct\n",
      "Want 5 more clients, minimum 5\n",
      "Selected clients = ['58', '19', '38', '99', '31']\n",
      "Client finshed: 0\n",
      "Client finshed: 22\n",
      "Client finshed: 76\n",
      "Client finshed: 41\n",
      "Client finshed: 97\n",
      "These clients sent updates: [('0', 2), ('22', 3), ('76', 3), ('41', 4), ('97', 3)]\n",
      "These clients failed: []\n"
     ]
    },
    {
     "name": "stderr",
     "output_type": "stream",
     "text": [
      "25063 INFO flwr 2023-03-23 11:35:58,358 | server.py:140 | fit progress: (11, 456.86860632896423, {'accuracy': 0.1894}, 109.60516207599994)\n",
      "25063 INFO flwr 2023-03-23 11:35:58,359 | server.py:190 | evaluate_round 11: no clients selected, cancel\n",
      "25063 DEBUG flwr 2023-03-23 11:35:58,365 | server.py:255 | fit_round 12: strategy sampled 5 clients (out of 100)\n",
      "25063 DEBUG flwr 2023-03-23 11:35:58,366 | server.py:435 | Sending instructions to clients\n"
     ]
    },
    {
     "name": "stdout",
     "output_type": "stream",
     "text": [
      "Working out which clients to instruct\n",
      "Want 5 more clients, minimum 5\n",
      "Selected clients = ['50', '79', '93', '39', '52']\n",
      "Client finshed: 32\n",
      "Client finshed: 92\n",
      "Client finshed: 33\n",
      "Client finshed: 69\n"
     ]
    },
    {
     "name": "stderr",
     "output_type": "stream",
     "text": [
      "25063 DEBUG flwr 2023-03-23 11:36:01,610 | server.py:461 | Received enough responses from clients\n",
      "25063 DEBUG flwr 2023-03-23 11:36:01,612 | server.py:279 | fit_round 12 received 5 results and 0 failures\n"
     ]
    },
    {
     "name": "stdout",
     "output_type": "stream",
     "text": [
      "Client finshed: 88\n",
      "These clients sent updates: [('32', 5), ('92', 3), ('33', 3), ('69', 2), ('88', 3)]\n",
      "These clients failed: []\n"
     ]
    },
    {
     "name": "stderr",
     "output_type": "stream",
     "text": [
      "25063 INFO flwr 2023-03-23 11:36:08,070 | server.py:140 | fit progress: (12, 439.33763229846954, {'accuracy': 0.1781}, 119.31688092799959)\n",
      "25063 INFO flwr 2023-03-23 11:36:08,071 | server.py:190 | evaluate_round 12: no clients selected, cancel\n",
      "25063 DEBUG flwr 2023-03-23 11:36:08,075 | server.py:255 | fit_round 13: strategy sampled 5 clients (out of 100)\n",
      "25063 DEBUG flwr 2023-03-23 11:36:08,077 | server.py:435 | Sending instructions to clients\n"
     ]
    },
    {
     "name": "stdout",
     "output_type": "stream",
     "text": [
      "Working out which clients to instruct\n",
      "Want 5 more clients, minimum 5\n",
      "Selected clients = ['3', '10', '20', '40', '46']\n",
      "Client finshed: 62\n",
      "Client finshed: 37\n",
      "Client finshed: 77\n",
      "Client finshed: 87\n"
     ]
    },
    {
     "name": "stderr",
     "output_type": "stream",
     "text": [
      "25063 DEBUG flwr 2023-03-23 11:36:14,449 | server.py:461 | Received enough responses from clients\n",
      "25063 DEBUG flwr 2023-03-23 11:36:14,451 | server.py:279 | fit_round 13 received 5 results and 0 failures\n"
     ]
    },
    {
     "name": "stdout",
     "output_type": "stream",
     "text": [
      "Client finshed: 81\n",
      "These clients sent updates: [('62', 3), ('37', 4), ('77', 3), ('87', 3), ('81', 3)]\n",
      "These clients failed: []\n"
     ]
    },
    {
     "name": "stderr",
     "output_type": "stream",
     "text": [
      "25063 INFO flwr 2023-03-23 11:36:20,008 | server.py:140 | fit progress: (13, 422.4227628707886, {'accuracy': 0.2304}, 131.25437047299965)\n",
      "25063 INFO flwr 2023-03-23 11:36:20,009 | server.py:190 | evaluate_round 13: no clients selected, cancel\n",
      "25063 DEBUG flwr 2023-03-23 11:36:20,013 | server.py:255 | fit_round 14: strategy sampled 5 clients (out of 100)\n",
      "25063 DEBUG flwr 2023-03-23 11:36:20,014 | server.py:435 | Sending instructions to clients\n",
      "25063 DEBUG flwr 2023-03-23 11:36:20,015 | server.py:461 | Received enough responses from clients\n",
      "25063 DEBUG flwr 2023-03-23 11:36:20,017 | server.py:279 | fit_round 14 received 5 results and 0 failures\n"
     ]
    },
    {
     "name": "stdout",
     "output_type": "stream",
     "text": [
      "Working out which clients to instruct\n",
      "Want 5 more clients, minimum 5\n",
      "Selected clients = ['30', '71', '24', '22', '61']\n",
      "Client finshed: 38\n",
      "Client finshed: 58\n",
      "Client finshed: 31\n",
      "Client finshed: 19\n",
      "Client finshed: 99\n",
      "These clients sent updates: [('38', 3), ('58', 3), ('31', 3), ('19', 3), ('99', 3)]\n",
      "These clients failed: []\n"
     ]
    },
    {
     "name": "stderr",
     "output_type": "stream",
     "text": [
      "25063 INFO flwr 2023-03-23 11:36:24,443 | server.py:140 | fit progress: (14, 452.3308756351471, {'accuracy': 0.1818}, 135.68930193800043)\n",
      "25063 INFO flwr 2023-03-23 11:36:24,444 | server.py:190 | evaluate_round 14: no clients selected, cancel\n",
      "25063 DEBUG flwr 2023-03-23 11:36:24,448 | server.py:255 | fit_round 15: strategy sampled 5 clients (out of 100)\n",
      "25063 DEBUG flwr 2023-03-23 11:36:24,449 | server.py:435 | Sending instructions to clients\n"
     ]
    },
    {
     "name": "stdout",
     "output_type": "stream",
     "text": [
      "Working out which clients to instruct\n",
      "Want 5 more clients, minimum 5\n",
      "Selected clients = ['90', '41', '51', '7', '44']\n",
      "Client finshed: 50\n",
      "Client finshed: 79\n",
      "Client finshed: 93\n",
      "Client finshed: 10\n"
     ]
    },
    {
     "name": "stderr",
     "output_type": "stream",
     "text": [
      "25063 DEBUG flwr 2023-03-23 11:36:30,437 | server.py:461 | Received enough responses from clients\n",
      "25063 DEBUG flwr 2023-03-23 11:36:30,448 | server.py:279 | fit_round 15 received 5 results and 0 failures\n"
     ]
    },
    {
     "name": "stdout",
     "output_type": "stream",
     "text": [
      "Client finshed: 39\n",
      "These clients sent updates: [('50', 3), ('79', 3), ('93', 3), ('10', 2), ('39', 3)]\n",
      "These clients failed: []\n"
     ]
    },
    {
     "name": "stderr",
     "output_type": "stream",
     "text": [
      "25063 INFO flwr 2023-03-23 11:36:35,756 | server.py:140 | fit progress: (15, 414.4236651659012, {'accuracy': 0.2193}, 147.00244781499987)\n",
      "25063 INFO flwr 2023-03-23 11:36:35,757 | server.py:190 | evaluate_round 15: no clients selected, cancel\n",
      "25063 DEBUG flwr 2023-03-23 11:36:35,761 | server.py:255 | fit_round 16: strategy sampled 5 clients (out of 100)\n",
      "25063 DEBUG flwr 2023-03-23 11:36:35,762 | server.py:435 | Sending instructions to clients\n"
     ]
    },
    {
     "name": "stdout",
     "output_type": "stream",
     "text": [
      "Working out which clients to instruct\n",
      "Want 5 more clients, minimum 5\n",
      "Selected clients = ['65', '36', '76', '26', '74']\n",
      "Client finshed: 52\n",
      "Client finshed: 3\n",
      "Client finshed: 20\n",
      "Client finshed: 40\n"
     ]
    },
    {
     "name": "stderr",
     "output_type": "stream",
     "text": [
      "25063 DEBUG flwr 2023-03-23 11:36:36,330 | server.py:461 | Received enough responses from clients\n",
      "25063 DEBUG flwr 2023-03-23 11:36:36,339 | server.py:279 | fit_round 16 received 5 results and 0 failures\n"
     ]
    },
    {
     "name": "stdout",
     "output_type": "stream",
     "text": [
      "Client finshed: 46\n",
      "These clients sent updates: [('52', 4), ('3', 3), ('20', 3), ('40', 3), ('46', 3)]\n",
      "These clients failed: []\n"
     ]
    },
    {
     "name": "stderr",
     "output_type": "stream",
     "text": [
      "25063 INFO flwr 2023-03-23 11:36:41,782 | server.py:140 | fit progress: (16, 413.0387054681778, {'accuracy': 0.1909}, 153.02855018300033)\n",
      "25063 INFO flwr 2023-03-23 11:36:41,783 | server.py:190 | evaluate_round 16: no clients selected, cancel\n",
      "25063 DEBUG flwr 2023-03-23 11:36:41,789 | server.py:255 | fit_round 17: strategy sampled 5 clients (out of 100)\n",
      "25063 DEBUG flwr 2023-03-23 11:36:41,790 | server.py:435 | Sending instructions to clients\n"
     ]
    },
    {
     "name": "stdout",
     "output_type": "stream",
     "text": [
      "Working out which clients to instruct\n",
      "Want 5 more clients, minimum 5\n",
      "Selected clients = ['20', '88', '8', '6', '99']\n",
      "Client finshed: 24\n",
      "Client finshed: 61\n",
      "Client finshed: 30\n",
      "Client finshed: 22\n"
     ]
    },
    {
     "name": "stderr",
     "output_type": "stream",
     "text": [
      "25063 DEBUG flwr 2023-03-23 11:36:45,823 | server.py:461 | Received enough responses from clients\n",
      "25063 DEBUG flwr 2023-03-23 11:36:45,824 | server.py:279 | fit_round 17 received 5 results and 0 failures\n"
     ]
    },
    {
     "name": "stdout",
     "output_type": "stream",
     "text": [
      "Client finshed: 71\n",
      "These clients sent updates: [('24', 3), ('61', 3), ('30', 3), ('22', 3), ('71', 3)]\n",
      "These clients failed: []\n"
     ]
    },
    {
     "name": "stderr",
     "output_type": "stream",
     "text": [
      "25063 INFO flwr 2023-03-23 11:36:51,950 | server.py:140 | fit progress: (17, 440.6247545480728, {'accuracy': 0.2002}, 163.19675618899964)\n",
      "25063 INFO flwr 2023-03-23 11:36:51,951 | server.py:190 | evaluate_round 17: no clients selected, cancel\n",
      "25063 DEBUG flwr 2023-03-23 11:36:51,956 | server.py:255 | fit_round 18: strategy sampled 5 clients (out of 100)\n",
      "25063 DEBUG flwr 2023-03-23 11:36:51,957 | server.py:435 | Sending instructions to clients\n"
     ]
    },
    {
     "name": "stdout",
     "output_type": "stream",
     "text": [
      "Working out which clients to instruct\n",
      "Want 5 more clients, minimum 5\n",
      "Selected clients = ['85', '73', '18', '25', '72']\n",
      "Client finshed: 51\n",
      "Client finshed: 7\n",
      "Client finshed: 90\n"
     ]
    },
    {
     "name": "stderr",
     "output_type": "stream",
     "text": [
      "25063 DEBUG flwr 2023-03-23 11:36:57,486 | server.py:461 | Received enough responses from clients\n",
      "25063 DEBUG flwr 2023-03-23 11:36:57,499 | server.py:279 | fit_round 18 received 5 results and 0 failures\n"
     ]
    },
    {
     "name": "stdout",
     "output_type": "stream",
     "text": [
      "Client finshed: 41\n",
      "Client finshed: 26\n",
      "These clients sent updates: [('51', 3), ('7', 3), ('90', 3), ('41', 3), ('26', 2)]\n",
      "These clients failed: []\n"
     ]
    },
    {
     "name": "stderr",
     "output_type": "stream",
     "text": [
      "25063 INFO flwr 2023-03-23 11:37:04,995 | server.py:140 | fit progress: (18, 394.67185366153717, {'accuracy': 0.247}, 176.2414237920002)\n",
      "25063 INFO flwr 2023-03-23 11:37:04,997 | server.py:190 | evaluate_round 18: no clients selected, cancel\n",
      "25063 DEBUG flwr 2023-03-23 11:37:05,002 | server.py:255 | fit_round 19: strategy sampled 5 clients (out of 100)\n",
      "25063 DEBUG flwr 2023-03-23 11:37:05,003 | server.py:435 | Sending instructions to clients\n",
      "25063 DEBUG flwr 2023-03-23 11:37:05,004 | server.py:461 | Received enough responses from clients\n",
      "25063 DEBUG flwr 2023-03-23 11:37:05,016 | server.py:279 | fit_round 19 received 5 results and 0 failures\n"
     ]
    },
    {
     "name": "stdout",
     "output_type": "stream",
     "text": [
      "Working out which clients to instruct\n",
      "Want 5 more clients, minimum 5\n",
      "Selected clients = ['55', '1', '60', '95', '7']\n",
      "Client finshed: 65\n",
      "Client finshed: 44\n",
      "Client finshed: 74\n",
      "Client finshed: 76\n",
      "Client finshed: 36\n",
      "These clients sent updates: [('65', 3), ('44', 4), ('74', 3), ('76', 3), ('36', 3)]\n",
      "These clients failed: []\n"
     ]
    },
    {
     "name": "stderr",
     "output_type": "stream",
     "text": [
      "25063 INFO flwr 2023-03-23 11:37:11,704 | server.py:140 | fit progress: (19, 409.68994081020355, {'accuracy': 0.2794}, 182.95052572199984)\n",
      "25063 INFO flwr 2023-03-23 11:37:11,705 | server.py:190 | evaluate_round 19: no clients selected, cancel\n",
      "25063 DEBUG flwr 2023-03-23 11:37:11,710 | server.py:255 | fit_round 20: strategy sampled 5 clients (out of 100)\n",
      "25063 DEBUG flwr 2023-03-23 11:37:11,713 | server.py:435 | Sending instructions to clients\n"
     ]
    },
    {
     "name": "stdout",
     "output_type": "stream",
     "text": [
      "Working out which clients to instruct\n",
      "Want 5 more clients, minimum 5\n",
      "Selected clients = ['82', '77', '36', '24', '79']\n",
      "Client finshed: 20\n",
      "Client finshed: 88\n",
      "Client finshed: 6\n",
      "Client finshed: 73\n"
     ]
    },
    {
     "name": "stderr",
     "output_type": "stream",
     "text": [
      "25063 DEBUG flwr 2023-03-23 11:37:16,191 | server.py:461 | Received enough responses from clients\n",
      "25063 DEBUG flwr 2023-03-23 11:37:16,196 | server.py:279 | fit_round 20 received 5 results and 0 failures\n"
     ]
    },
    {
     "name": "stdout",
     "output_type": "stream",
     "text": [
      "Client finshed: 85\n",
      "These clients sent updates: [('20', 3), ('88', 3), ('6', 3), ('73', 2), ('85', 2)]\n",
      "These clients failed: []\n"
     ]
    },
    {
     "name": "stderr",
     "output_type": "stream",
     "text": [
      "25063 INFO flwr 2023-03-23 11:37:21,808 | server.py:140 | fit progress: (20, 401.180651307106, {'accuracy': 0.2451}, 193.05489330599994)\n",
      "25063 INFO flwr 2023-03-23 11:37:21,812 | server.py:190 | evaluate_round 20: no clients selected, cancel\n",
      "25063 DEBUG flwr 2023-03-23 11:37:21,818 | server.py:255 | fit_round 21: strategy sampled 5 clients (out of 100)\n",
      "25063 DEBUG flwr 2023-03-23 11:37:21,819 | server.py:435 | Sending instructions to clients\n"
     ]
    },
    {
     "name": "stdout",
     "output_type": "stream",
     "text": [
      "Working out which clients to instruct\n",
      "Want 5 more clients, minimum 5\n",
      "Selected clients = ['3', '73', '93', '74', '75']\n",
      "Client finshed: 18\n",
      "Client finshed: 8\n",
      "Client finshed: 99\n",
      "Client finshed: 25\n"
     ]
    },
    {
     "name": "stderr",
     "output_type": "stream",
     "text": [
      "25063 DEBUG flwr 2023-03-23 11:37:28,693 | server.py:461 | Received enough responses from clients\n",
      "25063 DEBUG flwr 2023-03-23 11:37:28,695 | server.py:279 | fit_round 21 received 5 results and 0 failures\n"
     ]
    },
    {
     "name": "stdout",
     "output_type": "stream",
     "text": [
      "Client finshed: 1\n",
      "These clients sent updates: [('18', 3), ('8', 4), ('99', 4), ('25', 3), ('1', 2)]\n",
      "These clients failed: []\n"
     ]
    },
    {
     "name": "stderr",
     "output_type": "stream",
     "text": [
      "25063 INFO flwr 2023-03-23 11:37:34,161 | server.py:140 | fit progress: (21, 403.32683861255646, {'accuracy': 0.2604}, 205.40800811400004)\n",
      "25063 INFO flwr 2023-03-23 11:37:34,162 | server.py:190 | evaluate_round 21: no clients selected, cancel\n",
      "25063 DEBUG flwr 2023-03-23 11:37:34,169 | server.py:255 | fit_round 22: strategy sampled 5 clients (out of 100)\n",
      "25063 DEBUG flwr 2023-03-23 11:37:34,171 | server.py:435 | Sending instructions to clients\n",
      "25063 DEBUG flwr 2023-03-23 11:37:34,173 | server.py:461 | Received enough responses from clients\n",
      "25063 DEBUG flwr 2023-03-23 11:37:34,178 | server.py:279 | fit_round 22 received 5 results and 0 failures\n"
     ]
    },
    {
     "name": "stdout",
     "output_type": "stream",
     "text": [
      "Working out which clients to instruct\n",
      "Want 5 more clients, minimum 5\n",
      "Selected clients = ['96', '68', '42', '58', '39']\n",
      "Client finshed: 95\n",
      "Client finshed: 72\n",
      "Client finshed: 60\n",
      "Client finshed: 7\n",
      "Client finshed: 55\n",
      "These clients sent updates: [('95', 3), ('72', 4), ('60', 3), ('7', 3), ('55', 3)]\n",
      "These clients failed: []\n"
     ]
    },
    {
     "name": "stderr",
     "output_type": "stream",
     "text": [
      "25063 INFO flwr 2023-03-23 11:37:38,471 | server.py:140 | fit progress: (22, 430.5439467430115, {'accuracy': 0.2571}, 209.7174860260002)\n",
      "25063 INFO flwr 2023-03-23 11:37:38,472 | server.py:190 | evaluate_round 22: no clients selected, cancel\n",
      "25063 DEBUG flwr 2023-03-23 11:37:38,476 | server.py:255 | fit_round 23: strategy sampled 5 clients (out of 100)\n",
      "25063 DEBUG flwr 2023-03-23 11:37:38,477 | server.py:435 | Sending instructions to clients\n"
     ]
    },
    {
     "name": "stdout",
     "output_type": "stream",
     "text": [
      "Working out which clients to instruct\n",
      "Want 5 more clients, minimum 5\n",
      "Selected clients = ['29', '64', '48', '15', '71']\n",
      "Client finshed: 82\n",
      "Client finshed: 77\n",
      "Client finshed: 36\n",
      "Client finshed: 24\n"
     ]
    },
    {
     "name": "stderr",
     "output_type": "stream",
     "text": [
      "25063 DEBUG flwr 2023-03-23 11:37:45,993 | server.py:461 | Received enough responses from clients\n",
      "25063 DEBUG flwr 2023-03-23 11:37:45,996 | server.py:279 | fit_round 23 received 5 results and 0 failures\n"
     ]
    },
    {
     "name": "stdout",
     "output_type": "stream",
     "text": [
      "Client finshed: 3\n",
      "These clients sent updates: [('82', 3), ('77', 3), ('36', 3), ('24', 3), ('3', 2)]\n",
      "These clients failed: []\n"
     ]
    },
    {
     "name": "stderr",
     "output_type": "stream",
     "text": [
      "25063 INFO flwr 2023-03-23 11:37:51,347 | server.py:140 | fit progress: (23, 385.3424423933029, {'accuracy': 0.3058}, 222.59420889900048)\n",
      "25063 INFO flwr 2023-03-23 11:37:51,348 | server.py:190 | evaluate_round 23: no clients selected, cancel\n",
      "25063 DEBUG flwr 2023-03-23 11:37:51,353 | server.py:255 | fit_round 24: strategy sampled 5 clients (out of 100)\n",
      "25063 DEBUG flwr 2023-03-23 11:37:51,354 | server.py:435 | Sending instructions to clients\n"
     ]
    },
    {
     "name": "stdout",
     "output_type": "stream",
     "text": [
      "Working out which clients to instruct\n",
      "Want 5 more clients, minimum 5\n",
      "Selected clients = ['49', '83', '55', '99', '98']\n",
      "Client finshed: 74\n",
      "Client finshed: 79\n",
      "Client finshed: 73\n",
      "Client finshed: 93\n"
     ]
    },
    {
     "name": "stderr",
     "output_type": "stream",
     "text": [
      "25063 DEBUG flwr 2023-03-23 11:37:53,589 | server.py:461 | Received enough responses from clients\n",
      "25063 DEBUG flwr 2023-03-23 11:37:53,602 | server.py:279 | fit_round 24 received 5 results and 0 failures\n"
     ]
    },
    {
     "name": "stdout",
     "output_type": "stream",
     "text": [
      "Client finshed: 75\n",
      "These clients sent updates: [('74', 3), ('79', 4), ('73', 3), ('93', 3), ('75', 3)]\n",
      "These clients failed: []\n"
     ]
    },
    {
     "name": "stderr",
     "output_type": "stream",
     "text": [
      "25063 INFO flwr 2023-03-23 11:37:58,233 | server.py:140 | fit progress: (24, 367.70543384552, {'accuracy': 0.311}, 229.47926485300013)\n",
      "25063 INFO flwr 2023-03-23 11:37:58,233 | server.py:190 | evaluate_round 24: no clients selected, cancel\n",
      "25063 DEBUG flwr 2023-03-23 11:37:58,238 | server.py:255 | fit_round 25: strategy sampled 5 clients (out of 100)\n",
      "25063 DEBUG flwr 2023-03-23 11:37:58,238 | server.py:435 | Sending instructions to clients\n"
     ]
    },
    {
     "name": "stdout",
     "output_type": "stream",
     "text": [
      "Working out which clients to instruct\n",
      "Want 5 more clients, minimum 5\n",
      "Selected clients = ['38', '72', '3', '10', '51']\n",
      "Client finshed: 96\n",
      "Client finshed: 58\n",
      "Client finshed: 42\n",
      "Client finshed: 29\n"
     ]
    },
    {
     "name": "stderr",
     "output_type": "stream",
     "text": [
      "25063 DEBUG flwr 2023-03-23 11:38:00,097 | server.py:461 | Received enough responses from clients\n",
      "25063 DEBUG flwr 2023-03-23 11:38:00,103 | server.py:279 | fit_round 25 received 5 results and 0 failures\n"
     ]
    },
    {
     "name": "stdout",
     "output_type": "stream",
     "text": [
      "Client finshed: 68\n",
      "These clients sent updates: [('96', 3), ('58', 3), ('42', 3), ('29', 2), ('68', 3)]\n",
      "These clients failed: []\n"
     ]
    },
    {
     "name": "stderr",
     "output_type": "stream",
     "text": [
      "25063 INFO flwr 2023-03-23 11:38:06,355 | server.py:140 | fit progress: (25, 409.4307976961136, {'accuracy': 0.2406}, 237.60207184699993)\n",
      "25063 INFO flwr 2023-03-23 11:38:06,356 | server.py:190 | evaluate_round 25: no clients selected, cancel\n",
      "25063 DEBUG flwr 2023-03-23 11:38:06,361 | server.py:255 | fit_round 26: strategy sampled 5 clients (out of 100)\n",
      "25063 DEBUG flwr 2023-03-23 11:38:06,362 | server.py:435 | Sending instructions to clients\n"
     ]
    },
    {
     "name": "stdout",
     "output_type": "stream",
     "text": [
      "Working out which clients to instruct\n",
      "Want 5 more clients, minimum 5\n",
      "Selected clients = ['37', '53', '18', '56', '26']\n",
      "Client finshed: 39\n",
      "Client finshed: 64\n",
      "Client finshed: 48\n",
      "Client finshed: 83\n"
     ]
    },
    {
     "name": "stderr",
     "output_type": "stream",
     "text": [
      "25063 DEBUG flwr 2023-03-23 11:38:13,140 | server.py:461 | Received enough responses from clients\n",
      "25063 DEBUG flwr 2023-03-23 11:38:13,143 | server.py:279 | fit_round 26 received 5 results and 0 failures\n"
     ]
    },
    {
     "name": "stdout",
     "output_type": "stream",
     "text": [
      "Client finshed: 15\n",
      "These clients sent updates: [('39', 4), ('64', 3), ('48', 3), ('83', 2), ('15', 3)]\n",
      "These clients failed: []\n"
     ]
    },
    {
     "name": "stderr",
     "output_type": "stream",
     "text": [
      "25063 INFO flwr 2023-03-23 11:38:19,860 | server.py:140 | fit progress: (26, 375.27809143066406, {'accuracy': 0.2791}, 251.10650163000082)\n",
      "25063 INFO flwr 2023-03-23 11:38:19,861 | server.py:190 | evaluate_round 26: no clients selected, cancel\n",
      "25063 DEBUG flwr 2023-03-23 11:38:19,865 | server.py:255 | fit_round 27: strategy sampled 5 clients (out of 100)\n",
      "25063 DEBUG flwr 2023-03-23 11:38:19,866 | server.py:435 | Sending instructions to clients\n",
      "25063 DEBUG flwr 2023-03-23 11:38:19,868 | server.py:461 | Received enough responses from clients\n",
      "25063 DEBUG flwr 2023-03-23 11:38:19,886 | server.py:279 | fit_round 27 received 5 results and 0 failures\n"
     ]
    },
    {
     "name": "stdout",
     "output_type": "stream",
     "text": [
      "Working out which clients to instruct\n",
      "Want 5 more clients, minimum 5\n",
      "Selected clients = ['76', '21', '16', '75', '12']\n",
      "Client finshed: 49\n",
      "Client finshed: 55\n",
      "Client finshed: 98\n",
      "Client finshed: 99\n",
      "Client finshed: 71\n",
      "These clients sent updates: [('49', 3), ('55', 3), ('98', 3), ('99', 3), ('71', 4)]\n",
      "These clients failed: []\n"
     ]
    },
    {
     "name": "stderr",
     "output_type": "stream",
     "text": [
      "25063 INFO flwr 2023-03-23 11:38:23,810 | server.py:140 | fit progress: (27, 458.1287088394165, {'accuracy': 0.1915}, 255.05688115499925)\n",
      "25063 INFO flwr 2023-03-23 11:38:23,811 | server.py:190 | evaluate_round 27: no clients selected, cancel\n",
      "25063 DEBUG flwr 2023-03-23 11:38:23,815 | server.py:255 | fit_round 28: strategy sampled 5 clients (out of 100)\n",
      "25063 DEBUG flwr 2023-03-23 11:38:23,816 | server.py:435 | Sending instructions to clients\n"
     ]
    },
    {
     "name": "stdout",
     "output_type": "stream",
     "text": [
      "Working out which clients to instruct\n",
      "Want 5 more clients, minimum 5\n",
      "Selected clients = ['44', '43', '81', '22', '27']\n",
      "Client finshed: 38\n",
      "Client finshed: 72\n",
      "Client finshed: 37\n",
      "Client finshed: 10\n"
     ]
    },
    {
     "name": "stderr",
     "output_type": "stream",
     "text": [
      "25063 DEBUG flwr 2023-03-23 11:38:28,570 | server.py:461 | Received enough responses from clients\n",
      "25063 DEBUG flwr 2023-03-23 11:38:28,579 | server.py:279 | fit_round 28 received 5 results and 0 failures\n"
     ]
    },
    {
     "name": "stdout",
     "output_type": "stream",
     "text": [
      "Client finshed: 3\n",
      "These clients sent updates: [('38', 3), ('72', 3), ('37', 2), ('10', 3), ('3', 3)]\n",
      "These clients failed: []\n"
     ]
    },
    {
     "name": "stderr",
     "output_type": "stream",
     "text": [
      "25063 INFO flwr 2023-03-23 11:38:34,419 | server.py:140 | fit progress: (28, 387.69144105911255, {'accuracy': 0.2925}, 265.6661799549993)\n",
      "25063 INFO flwr 2023-03-23 11:38:34,424 | server.py:190 | evaluate_round 28: no clients selected, cancel\n",
      "25063 DEBUG flwr 2023-03-23 11:38:34,429 | server.py:255 | fit_round 29: strategy sampled 5 clients (out of 100)\n",
      "25063 DEBUG flwr 2023-03-23 11:38:34,430 | server.py:435 | Sending instructions to clients\n"
     ]
    },
    {
     "name": "stdout",
     "output_type": "stream",
     "text": [
      "Working out which clients to instruct\n",
      "Want 5 more clients, minimum 5\n",
      "Selected clients = ['42', '74', '92', '29', '86']\n",
      "Client finshed: 51\n",
      "Client finshed: 53\n",
      "Client finshed: 18\n",
      "Client finshed: 56\n"
     ]
    },
    {
     "name": "stderr",
     "output_type": "stream",
     "text": [
      "25063 DEBUG flwr 2023-03-23 11:38:41,477 | server.py:461 | Received enough responses from clients\n",
      "25063 DEBUG flwr 2023-03-23 11:38:41,519 | server.py:279 | fit_round 29 received 5 results and 0 failures\n"
     ]
    },
    {
     "name": "stdout",
     "output_type": "stream",
     "text": [
      "Client finshed: 16\n",
      "These clients sent updates: [('51', 4), ('53', 3), ('18', 3), ('56', 3), ('16', 2)]\n",
      "These clients failed: []\n"
     ]
    },
    {
     "name": "stderr",
     "output_type": "stream",
     "text": [
      "25063 INFO flwr 2023-03-23 11:38:48,350 | server.py:140 | fit progress: (29, 364.4528354406357, {'accuracy': 0.3335}, 279.5962961060004)\n",
      "25063 INFO flwr 2023-03-23 11:38:48,351 | server.py:190 | evaluate_round 29: no clients selected, cancel\n",
      "25063 DEBUG flwr 2023-03-23 11:38:48,355 | server.py:255 | fit_round 30: strategy sampled 5 clients (out of 100)\n",
      "25063 DEBUG flwr 2023-03-23 11:38:48,356 | server.py:435 | Sending instructions to clients\n",
      "25063 DEBUG flwr 2023-03-23 11:38:48,359 | server.py:461 | Received enough responses from clients\n",
      "25063 DEBUG flwr 2023-03-23 11:38:48,396 | server.py:279 | fit_round 30 received 5 results and 0 failures\n"
     ]
    },
    {
     "name": "stdout",
     "output_type": "stream",
     "text": [
      "Working out which clients to instruct\n",
      "Want 5 more clients, minimum 5\n",
      "Selected clients = ['72', '48', '55', '52', '53']\n",
      "Client finshed: 12\n",
      "Client finshed: 21\n",
      "Client finshed: 44\n",
      "Client finshed: 26\n",
      "Client finshed: 76\n",
      "These clients sent updates: [('12', 3), ('21', 3), ('44', 2), ('26', 4), ('76', 3)]\n",
      "These clients failed: []\n"
     ]
    },
    {
     "name": "stderr",
     "output_type": "stream",
     "text": [
      "25063 INFO flwr 2023-03-23 11:38:52,714 | server.py:140 | fit progress: (30, 383.69131314754486, {'accuracy': 0.3221}, 283.96112895399983)\n",
      "25063 INFO flwr 2023-03-23 11:38:52,716 | server.py:190 | evaluate_round 30: no clients selected, cancel\n",
      "25063 DEBUG flwr 2023-03-23 11:38:52,720 | server.py:255 | fit_round 31: strategy sampled 5 clients (out of 100)\n",
      "25063 DEBUG flwr 2023-03-23 11:38:52,721 | server.py:435 | Sending instructions to clients\n"
     ]
    },
    {
     "name": "stdout",
     "output_type": "stream",
     "text": [
      "Working out which clients to instruct\n",
      "Want 5 more clients, minimum 5\n",
      "Selected clients = ['77', '13', '69', '79', '4']\n",
      "Client finshed: 75\n",
      "Client finshed: 43\n",
      "Client finshed: 42\n",
      "Client finshed: 74\n"
     ]
    },
    {
     "name": "stderr",
     "output_type": "stream",
     "text": [
      "25063 DEBUG flwr 2023-03-23 11:38:56,836 | server.py:461 | Received enough responses from clients\n",
      "25063 DEBUG flwr 2023-03-23 11:38:56,839 | server.py:279 | fit_round 31 received 5 results and 0 failures\n"
     ]
    },
    {
     "name": "stdout",
     "output_type": "stream",
     "text": [
      "Client finshed: 81\n",
      "These clients sent updates: [('75', 4), ('43', 3), ('42', 2), ('74', 2), ('81', 3)]\n",
      "These clients failed: []\n"
     ]
    },
    {
     "name": "stderr",
     "output_type": "stream",
     "text": [
      "25063 INFO flwr 2023-03-23 11:39:02,200 | server.py:140 | fit progress: (31, 421.2758252620697, {'accuracy': 0.2204}, 293.446612101)\n",
      "25063 INFO flwr 2023-03-23 11:39:02,201 | server.py:190 | evaluate_round 31: no clients selected, cancel\n",
      "25063 DEBUG flwr 2023-03-23 11:39:02,208 | server.py:255 | fit_round 32: strategy sampled 5 clients (out of 100)\n",
      "25063 DEBUG flwr 2023-03-23 11:39:02,210 | server.py:435 | Sending instructions to clients\n"
     ]
    },
    {
     "name": "stdout",
     "output_type": "stream",
     "text": [
      "Working out which clients to instruct\n",
      "Want 5 more clients, minimum 5\n",
      "Selected clients = ['95', '78', '67', '21', '35']\n",
      "Client finshed: 29\n",
      "Client finshed: 92\n",
      "Client finshed: 22\n",
      "Client finshed: 27\n"
     ]
    },
    {
     "name": "stderr",
     "output_type": "stream",
     "text": [
      "25063 DEBUG flwr 2023-03-23 11:39:06,372 | server.py:461 | Received enough responses from clients\n",
      "25063 DEBUG flwr 2023-03-23 11:39:06,390 | server.py:279 | fit_round 32 received 5 results and 0 failures\n"
     ]
    },
    {
     "name": "stdout",
     "output_type": "stream",
     "text": [
      "Client finshed: 86\n",
      "These clients sent updates: [('29', 3), ('92', 3), ('22', 4), ('27', 4), ('86', 3)]\n",
      "These clients failed: []\n"
     ]
    },
    {
     "name": "stderr",
     "output_type": "stream",
     "text": [
      "25063 INFO flwr 2023-03-23 11:39:11,319 | server.py:140 | fit progress: (32, 371.1894053220749, {'accuracy': 0.3058}, 302.56608318500093)\n",
      "25063 INFO flwr 2023-03-23 11:39:11,320 | server.py:190 | evaluate_round 32: no clients selected, cancel\n",
      "25063 DEBUG flwr 2023-03-23 11:39:11,326 | server.py:255 | fit_round 33: strategy sampled 5 clients (out of 100)\n",
      "25063 DEBUG flwr 2023-03-23 11:39:11,327 | server.py:435 | Sending instructions to clients\n"
     ]
    },
    {
     "name": "stdout",
     "output_type": "stream",
     "text": [
      "Working out which clients to instruct\n",
      "Want 5 more clients, minimum 5\n",
      "Selected clients = ['20', '49', '3', '66', '64']\n",
      "Client finshed: 55\n",
      "Client finshed: 52\n",
      "Client finshed: 72\n",
      "Client finshed: 48\n"
     ]
    },
    {
     "name": "stderr",
     "output_type": "stream",
     "text": [
      "25063 DEBUG flwr 2023-03-23 11:39:12,976 | server.py:461 | Received enough responses from clients\n",
      "25063 DEBUG flwr 2023-03-23 11:39:12,978 | server.py:279 | fit_round 33 received 5 results and 0 failures\n"
     ]
    },
    {
     "name": "stdout",
     "output_type": "stream",
     "text": [
      "Client finshed: 53\n",
      "These clients sent updates: [('55', 3), ('52', 3), ('72', 3), ('48', 3), ('53', 3)]\n",
      "These clients failed: []\n"
     ]
    },
    {
     "name": "stderr",
     "output_type": "stream",
     "text": [
      "25063 INFO flwr 2023-03-23 11:39:18,632 | server.py:140 | fit progress: (33, 376.83997917175293, {'accuracy': 0.2919}, 309.8787963650002)\n",
      "25063 INFO flwr 2023-03-23 11:39:18,633 | server.py:190 | evaluate_round 33: no clients selected, cancel\n",
      "25063 DEBUG flwr 2023-03-23 11:39:18,638 | server.py:255 | fit_round 34: strategy sampled 5 clients (out of 100)\n",
      "25063 DEBUG flwr 2023-03-23 11:39:18,639 | server.py:435 | Sending instructions to clients\n"
     ]
    },
    {
     "name": "stdout",
     "output_type": "stream",
     "text": [
      "Working out which clients to instruct\n",
      "Want 5 more clients, minimum 5\n",
      "Selected clients = ['71', '74', '98', '62', '52']\n",
      "Client finshed: 77\n",
      "Client finshed: 13\n",
      "Client finshed: 69\n",
      "Client finshed: 79\n"
     ]
    },
    {
     "name": "stderr",
     "output_type": "stream",
     "text": [
      "25063 DEBUG flwr 2023-03-23 11:39:26,173 | server.py:461 | Received enough responses from clients\n",
      "25063 DEBUG flwr 2023-03-23 11:39:26,174 | server.py:279 | fit_round 34 received 5 results and 0 failures\n"
     ]
    },
    {
     "name": "stdout",
     "output_type": "stream",
     "text": [
      "Client finshed: 95\n",
      "These clients sent updates: [('77', 3), ('13', 3), ('69', 3), ('79', 3), ('95', 2)]\n",
      "These clients failed: []\n"
     ]
    },
    {
     "name": "stderr",
     "output_type": "stream",
     "text": [
      "25063 INFO flwr 2023-03-23 11:39:32,194 | server.py:140 | fit progress: (34, 382.4915699958801, {'accuracy': 0.2964}, 323.4410056909992)\n",
      "25063 INFO flwr 2023-03-23 11:39:32,195 | server.py:190 | evaluate_round 34: no clients selected, cancel\n",
      "25063 DEBUG flwr 2023-03-23 11:39:32,199 | server.py:255 | fit_round 35: strategy sampled 5 clients (out of 100)\n",
      "25063 DEBUG flwr 2023-03-23 11:39:32,200 | server.py:435 | Sending instructions to clients\n"
     ]
    },
    {
     "name": "stdout",
     "output_type": "stream",
     "text": [
      "Working out which clients to instruct\n",
      "Want 5 more clients, minimum 5\n",
      "Selected clients = ['16', '40', '85', '41', '54']\n",
      "Client finshed: 21\n",
      "Client finshed: 67\n",
      "Client finshed: 4\n",
      "Client finshed: 78\n"
     ]
    },
    {
     "name": "stderr",
     "output_type": "stream",
     "text": [
      "25063 DEBUG flwr 2023-03-23 11:39:32,812 | server.py:461 | Received enough responses from clients\n",
      "25063 DEBUG flwr 2023-03-23 11:39:32,825 | server.py:279 | fit_round 35 received 5 results and 0 failures\n"
     ]
    },
    {
     "name": "stdout",
     "output_type": "stream",
     "text": [
      "Client finshed: 35\n",
      "These clients sent updates: [('21', 3), ('67', 3), ('4', 4), ('78', 3), ('35', 3)]\n",
      "These clients failed: []\n"
     ]
    },
    {
     "name": "stderr",
     "output_type": "stream",
     "text": [
      "25063 INFO flwr 2023-03-23 11:39:36,918 | server.py:140 | fit progress: (35, 365.0372384786606, {'accuracy': 0.3158}, 328.16471809999985)\n",
      "25063 INFO flwr 2023-03-23 11:39:36,919 | server.py:190 | evaluate_round 35: no clients selected, cancel\n",
      "25063 DEBUG flwr 2023-03-23 11:39:36,924 | server.py:255 | fit_round 36: strategy sampled 5 clients (out of 100)\n",
      "25063 DEBUG flwr 2023-03-23 11:39:36,925 | server.py:435 | Sending instructions to clients\n"
     ]
    },
    {
     "name": "stdout",
     "output_type": "stream",
     "text": [
      "Working out which clients to instruct\n",
      "Want 5 more clients, minimum 5\n",
      "Selected clients = ['25', '83', '94', '60', '55']\n",
      "Client finshed: 20\n",
      "Client finshed: 49\n",
      "Client finshed: 71\n",
      "Client finshed: 3\n"
     ]
    },
    {
     "name": "stderr",
     "output_type": "stream",
     "text": [
      "25063 DEBUG flwr 2023-03-23 11:39:40,020 | server.py:461 | Received enough responses from clients\n",
      "25063 DEBUG flwr 2023-03-23 11:39:40,033 | server.py:279 | fit_round 36 received 5 results and 0 failures\n"
     ]
    },
    {
     "name": "stdout",
     "output_type": "stream",
     "text": [
      "Client finshed: 66\n",
      "These clients sent updates: [('20', 3), ('49', 3), ('71', 2), ('3', 3), ('66', 3)]\n",
      "These clients failed: []\n"
     ]
    },
    {
     "name": "stderr",
     "output_type": "stream",
     "text": [
      "25063 INFO flwr 2023-03-23 11:39:45,948 | server.py:140 | fit progress: (36, 361.2713004350662, {'accuracy': 0.3377}, 337.1951425640009)\n",
      "25063 INFO flwr 2023-03-23 11:39:45,949 | server.py:190 | evaluate_round 36: no clients selected, cancel\n",
      "25063 DEBUG flwr 2023-03-23 11:39:45,954 | server.py:255 | fit_round 37: strategy sampled 5 clients (out of 100)\n",
      "25063 DEBUG flwr 2023-03-23 11:39:45,955 | server.py:435 | Sending instructions to clients\n"
     ]
    },
    {
     "name": "stdout",
     "output_type": "stream",
     "text": [
      "Working out which clients to instruct\n",
      "Want 5 more clients, minimum 5\n",
      "Selected clients = ['15', '91', '93', '67', '77']\n",
      "Client finshed: 74\n",
      "Client finshed: 64\n",
      "Client finshed: 98\n",
      "Client finshed: 62\n"
     ]
    },
    {
     "name": "stderr",
     "output_type": "stream",
     "text": [
      "25063 DEBUG flwr 2023-03-23 11:39:49,576 | server.py:461 | Received enough responses from clients\n",
      "25063 DEBUG flwr 2023-03-23 11:39:49,583 | server.py:279 | fit_round 37 received 5 results and 0 failures\n"
     ]
    },
    {
     "name": "stdout",
     "output_type": "stream",
     "text": [
      "Client finshed: 52\n",
      "These clients sent updates: [('74', 3), ('64', 4), ('98', 3), ('62', 3), ('52', 3)]\n",
      "These clients failed: []\n"
     ]
    },
    {
     "name": "stderr",
     "output_type": "stream",
     "text": [
      "25063 INFO flwr 2023-03-23 11:39:54,333 | server.py:140 | fit progress: (37, 445.2415602207184, {'accuracy': 0.2756}, 345.57956194099916)\n",
      "25063 INFO flwr 2023-03-23 11:39:54,334 | server.py:190 | evaluate_round 37: no clients selected, cancel\n",
      "25063 DEBUG flwr 2023-03-23 11:39:54,338 | server.py:255 | fit_round 38: strategy sampled 5 clients (out of 100)\n",
      "25063 DEBUG flwr 2023-03-23 11:39:54,339 | server.py:435 | Sending instructions to clients\n"
     ]
    },
    {
     "name": "stdout",
     "output_type": "stream",
     "text": [
      "Working out which clients to instruct\n",
      "Want 5 more clients, minimum 5\n",
      "Selected clients = ['97', '6', '66', '17', '5']\n",
      "Client finshed: 40\n",
      "Client finshed: 16\n",
      "Client finshed: 85\n",
      "Client finshed: 41\n"
     ]
    },
    {
     "name": "stderr",
     "output_type": "stream",
     "text": [
      "25063 DEBUG flwr 2023-03-23 11:39:55,188 | server.py:461 | Received enough responses from clients\n",
      "25063 DEBUG flwr 2023-03-23 11:39:55,201 | server.py:279 | fit_round 38 received 5 results and 0 failures\n"
     ]
    },
    {
     "name": "stdout",
     "output_type": "stream",
     "text": [
      "Client finshed: 54\n",
      "These clients sent updates: [('40', 3), ('16', 3), ('85', 3), ('41', 3), ('54', 3)]\n",
      "These clients failed: []\n"
     ]
    },
    {
     "name": "stderr",
     "output_type": "stream",
     "text": [
      "25063 INFO flwr 2023-03-23 11:39:59,546 | server.py:140 | fit progress: (38, 348.85353338718414, {'accuracy': 0.3534}, 350.79261056199994)\n",
      "25063 INFO flwr 2023-03-23 11:39:59,548 | server.py:190 | evaluate_round 38: no clients selected, cancel\n",
      "25063 DEBUG flwr 2023-03-23 11:39:59,554 | server.py:255 | fit_round 39: strategy sampled 5 clients (out of 100)\n",
      "25063 DEBUG flwr 2023-03-23 11:39:59,556 | server.py:435 | Sending instructions to clients\n"
     ]
    },
    {
     "name": "stdout",
     "output_type": "stream",
     "text": [
      "Working out which clients to instruct\n",
      "Want 5 more clients, minimum 5\n",
      "Selected clients = ['1', '39', '8', '18', '65']\n",
      "Client finshed: 25\n",
      "Client finshed: 83\n",
      "Client finshed: 94\n",
      "Client finshed: 60\n"
     ]
    },
    {
     "name": "stderr",
     "output_type": "stream",
     "text": [
      "25063 DEBUG flwr 2023-03-23 11:40:06,413 | server.py:461 | Received enough responses from clients\n",
      "25063 DEBUG flwr 2023-03-23 11:40:06,417 | server.py:279 | fit_round 39 received 5 results and 0 failures\n"
     ]
    },
    {
     "name": "stdout",
     "output_type": "stream",
     "text": [
      "Client finshed: 91\n",
      "These clients sent updates: [('25', 3), ('83', 3), ('94', 3), ('60', 3), ('91', 2)]\n",
      "These clients failed: []\n"
     ]
    },
    {
     "name": "stderr",
     "output_type": "stream",
     "text": [
      "25063 INFO flwr 2023-03-23 11:40:11,122 | server.py:140 | fit progress: (39, 410.0507093667984, {'accuracy': 0.2588}, 362.36853240000073)\n",
      "25063 INFO flwr 2023-03-23 11:40:11,123 | server.py:190 | evaluate_round 39: no clients selected, cancel\n",
      "25063 DEBUG flwr 2023-03-23 11:40:11,128 | server.py:255 | fit_round 40: strategy sampled 5 clients (out of 100)\n",
      "25063 DEBUG flwr 2023-03-23 11:40:11,129 | server.py:435 | Sending instructions to clients\n"
     ]
    },
    {
     "name": "stdout",
     "output_type": "stream",
     "text": [
      "Working out which clients to instruct\n",
      "Want 5 more clients, minimum 5\n",
      "Selected clients = ['87', '96', '33', '28', '86']\n",
      "Client finshed: 15\n",
      "Client finshed: 93\n",
      "Client finshed: 55\n",
      "Client finshed: 67\n"
     ]
    },
    {
     "name": "stderr",
     "output_type": "stream",
     "text": [
      "25063 DEBUG flwr 2023-03-23 11:40:14,507 | server.py:461 | Received enough responses from clients\n",
      "25063 DEBUG flwr 2023-03-23 11:40:14,515 | server.py:279 | fit_round 40 received 5 results and 0 failures\n"
     ]
    },
    {
     "name": "stdout",
     "output_type": "stream",
     "text": [
      "Client finshed: 77\n",
      "These clients sent updates: [('15', 3), ('93', 3), ('55', 4), ('67', 3), ('77', 3)]\n",
      "These clients failed: []\n"
     ]
    },
    {
     "name": "stderr",
     "output_type": "stream",
     "text": [
      "25063 INFO flwr 2023-03-23 11:40:19,114 | server.py:140 | fit progress: (40, 374.3771688938141, {'accuracy': 0.3406}, 370.3602710719997)\n",
      "25063 INFO flwr 2023-03-23 11:40:19,115 | server.py:190 | evaluate_round 40: no clients selected, cancel\n",
      "25063 INFO flwr 2023-03-23 11:40:33,038 | server.py:171 | FL finished in 384.2848375929998\n",
      "25063 INFO flwr 2023-03-23 11:40:33,040 | app.py:225 | app_fit: losses_distributed []\n",
      "25063 INFO flwr 2023-03-23 11:40:33,041 | app.py:226 | app_fit: metrics_distributed_fit {}\n",
      "25063 INFO flwr 2023-03-23 11:40:33,042 | app.py:227 | app_fit: metrics_distributed {}\n",
      "25063 INFO flwr 2023-03-23 11:40:33,043 | app.py:228 | app_fit: losses_centralized [(0, 461.36218309402466), (1, 480.3687162399292), (2, 475.5855724811554), (3, 475.4747567176819), (4, 460.21483397483826), (5, 443.76089096069336), (6, 459.6809310913086), (7, 439.50133764743805), (8, 464.8241009712219), (9, 418.77319407463074), (10, 439.3389148712158), (11, 456.86860632896423), (12, 439.33763229846954), (13, 422.4227628707886), (14, 452.3308756351471), (15, 414.4236651659012), (16, 413.0387054681778), (17, 440.6247545480728), (18, 394.67185366153717), (19, 409.68994081020355), (20, 401.180651307106), (21, 403.32683861255646), (22, 430.5439467430115), (23, 385.3424423933029), (24, 367.70543384552), (25, 409.4307976961136), (26, 375.27809143066406), (27, 458.1287088394165), (28, 387.69144105911255), (29, 364.4528354406357), (30, 383.69131314754486), (31, 421.2758252620697), (32, 371.1894053220749), (33, 376.83997917175293), (34, 382.4915699958801), (35, 365.0372384786606), (36, 361.2713004350662), (37, 445.2415602207184), (38, 348.85353338718414), (39, 410.0507093667984), (40, 374.3771688938141)]\n",
      "25063 INFO flwr 2023-03-23 11:40:33,043 | app.py:229 | app_fit: metrics_centralized {'accuracy': [(0, 0.1093), (1, 0.1513), (2, 0.1), (3, 0.1), (4, 0.162), (5, 0.1849), (6, 0.1651), (7, 0.1759), (8, 0.1666), (9, 0.2369), (10, 0.1929), (11, 0.1894), (12, 0.1781), (13, 0.2304), (14, 0.1818), (15, 0.2193), (16, 0.1909), (17, 0.2002), (18, 0.247), (19, 0.2794), (20, 0.2451), (21, 0.2604), (22, 0.2571), (23, 0.3058), (24, 0.311), (25, 0.2406), (26, 0.2791), (27, 0.1915), (28, 0.2925), (29, 0.3335), (30, 0.3221), (31, 0.2204), (32, 0.3058), (33, 0.2919), (34, 0.2964), (35, 0.3158), (36, 0.3377), (37, 0.2756), (38, 0.3534), (39, 0.2588), (40, 0.3406)]}\n"
     ]
    }
   ],
   "source": [
    "# async_hist_5_1000 = run_simulation(asynchronous=True, concurrency=5, alpha=1000, num_rounds=20)\n",
    "# torch.save(async_hist_5_1000,\"saves/async_hist_5_1000\")\n",
    "async_hist_10_1000 = run_simulation(asynchronous=True, concurrency=10, alpha=1000, num_rounds=40)\n",
    "torch.save(async_hist_10_1000,\"saves/async_hist_10_1000\")\n",
    "async_hist_20_1000 = run_simulation(asynchronous=True, concurrency=20, alpha=1000, num_rounds=40)\n",
    "torch.save(async_hist_20_1000,\"saves/async_hist_20_1000\")\n",
    "\n",
    "# async_hist_5_10 = run_simulation(asynchronous=True, concurrency=5, alpha=10, num_rounds=20)\n",
    "# torch.save(async_hist_5_10,\"saves/async_hist_5_10\")\n",
    "async_hist_10_10 = run_simulation(asynchronous=True, concurrency=10, alpha=10, num_rounds=40)\n",
    "torch.save(async_hist_10_10,\"saves/async_hist_10_10\")\n",
    "async_hist_20_10 = run_simulation(asynchronous=True, concurrency=20, alpha=10, num_rounds=40)\n",
    "torch.save(async_hist_20_10,\"saves/async_hist_20_10\")\n",
    "\n",
    "# async_hist_5_1 = run_simulation(asynchronous=True, concurrency=5, alpha=1, num_rounds=20)\n",
    "# torch.save(async_hist_5_1,\"saves/async_hist_5_1\")\n",
    "async_hist_10_1 = run_simulation(asynchronous=True, concurrency=10, alpha=1, num_rounds=40)\n",
    "torch.save(async_hist_10_1,\"saves/async_hist_10_1\")\n",
    "async_hist_20_1 = run_simulation(asynchronous=True, concurrency=20, alpha=1, num_rounds=40)\n",
    "torch.save(async_hist_20_1,\"saves/async_hist_20_1\")"
   ]
  },
  {
   "attachments": {},
   "cell_type": "markdown",
   "metadata": {},
   "source": [
    "# Create graphs"
   ]
  },
  {
   "cell_type": "code",
   "execution_count": 5,
   "metadata": {},
   "outputs": [],
   "source": [
    "import torch\n",
    "def get_simulation_data(asynchronous, concurrency, alpha, K=5):\n",
    "    sim_type = \"async\" if asynchronous else \"sync\"\n",
    "    filename = f\"saves/{sim_type}_hist_{concurrency}_{alpha}\"\n",
    "    hist = torch.load(filename)\n",
    "\n",
    "    accuracies = [r[1] for r in hist.metrics_centralized[\"accuracy\"]]\n",
    "\n",
    "    num_rounds =  len(accuracies)\n",
    "\n",
    "    round_increment = K if asynchronous else concurrency\n",
    "    client_trips = [round_increment*r for r in range(0,num_rounds)]\n",
    "\n",
    "    return client_trips, accuracies"
   ]
  },
  {
   "attachments": {},
   "cell_type": "markdown",
   "metadata": {},
   "source": [
    "# Plot graphs"
   ]
  },
  {
   "cell_type": "code",
   "execution_count": 9,
   "metadata": {},
   "outputs": [
    {
     "name": "stderr",
     "output_type": "stream",
     "text": [
      "/tmp/ipykernel_730042/4135898938.py:46: UserWarning: Matplotlib is currently using module://matplotlib_inline.backend_inline, which is a non-GUI backend, so cannot show the figure.\n",
      "  fig.show()\n"
     ]
    },
    {
     "data": {
      "image/png": "[encoded data removed]",
      "text/plain": [
       "<Figure size 2000x500 with 2 Axes>"
      ]
     },
     "metadata": {},
     "output_type": "display_data"
    }
   ],
   "source": [
    "import matplotlib.pyplot as plt\n",
    "\n",
    "fig,axs =  plt.subplots(1,2,figsize=(20,5))\n",
    "\n",
    "axs[1].set_title(\"Concentration = 1\")\n",
    "\n",
    "for concurrency, colour in zip([5,10,20],[\"tab:blue\",\"tab:orange\",\"tab:green\"]):\n",
    "  if concurrency>5:\n",
    "    client_trips, accs = get_simulation_data(False,concurrency,1)\n",
    "    axs[1].plot(client_trips,accs, label=f\"Concurrency: {concurrency} | Sync\", c=colour)\n",
    "    client_trips, accs = get_simulation_data(True,concurrency,1)\n",
    "    axs[1].plot(client_trips,accs, label=f\"Concurrency: {concurrency} | Async\", c=colour, linestyle=\"--\")\n",
    "  else:\n",
    "    client_trips, accs = get_simulation_data(False,concurrency,1)\n",
    "    axs[1].plot(client_trips,accs, label=f\"Concurrency: {concurrency}\", c=colour)\n",
    "\n",
    "# axs[1].set_title(\"Concentration = 10\")\n",
    "\n",
    "# for concurrency, colour in zip([5,10,20],[\"tab:blue\",\"tab:orange\",\"tab:green\"]):\n",
    "#   if concurrency>5:\n",
    "#     client_trips, accs = get_simulation_data(False,concurrency,10)\n",
    "#     axs[1].plot(client_trips,accs, label=f\"Sync. Concurrency: {concurrency}\", c=colour)\n",
    "#     client_trips, accs = get_simulation_data(True,concurrency,10)\n",
    "#     axs[1].plot(client_trips,accs, label=f\"Async. Concurrency: {concurrency}\", c=colour, linestyle=\"--\")\n",
    "#   else:\n",
    "#     client_trips, accs = get_simulation_data(False,concurrency,10)\n",
    "#     axs[1].plot(client_trips,accs, label=f\"Concurrency: {concurrency}\", c=colour)\n",
    "\n",
    "axs[0].set_title(\"Concentration = 1000\")\n",
    "for concurrency, colour in zip([5,10,20],[\"tab:blue\",\"tab:orange\",\"tab:green\"]):\n",
    "  if concurrency>5:\n",
    "    client_trips, accs = get_simulation_data(False,concurrency,1000)\n",
    "    axs[0].plot(client_trips,accs, label=f\"Concurrency: {concurrency} | Sync\", c=colour)\n",
    "    client_trips, accs = get_simulation_data(True,concurrency,1000)\n",
    "    axs[0].plot(client_trips,accs, label=f\"Concurrency: {concurrency} | Async\", c=colour, linestyle=\"--\")\n",
    "  else:\n",
    "    client_trips, accs = get_simulation_data(False,concurrency,1000)\n",
    "    axs[0].plot(client_trips,accs, label=f\"Concurrency: {concurrency}\", c=colour)\n",
    "\n",
    "for a in axs:\n",
    "  a.set_xlabel(\"Client trips\")\n",
    "  a.set_ylabel(\"Test accuracy\")\n",
    "  a.legend()\n",
    "  a.set_ylim(0,0.5)\n",
    "  a.set_xlim(0,200)\n",
    "fig.show()"
   ]
  }
 ],
 "metadata": {
  "kernelspec": {
   "display_name": "venv",
   "language": "python",
   "name": "python3"
  },
  "language_info": {
   "codemirror_mode": {
    "name": "ipython",
    "version": 3
   },
   "file_extension": ".py",
   "mimetype": "text/x-python",
   "name": "python",
   "nbconvert_exporter": "python",
   "pygments_lexer": "ipython3",
   "version": "3.10.10"
  },
  "orig_nbformat": 4
 },
 "nbformat": 4,
 "nbformat_minor": 2
}
